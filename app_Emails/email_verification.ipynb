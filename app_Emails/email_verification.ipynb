{
 "cells": [
  {
   "cell_type": "markdown",
   "metadata": {},
   "source": [
    "email validation"
   ]
  },
  {
   "cell_type": "code",
   "execution_count": 1,
   "metadata": {},
   "outputs": [],
   "source": [
    "# LIBS\n",
    "import re\n",
    "# pip3 install dnspython\n",
    "import dns.resolver\n",
    "import smtplib\n",
    "from email.utils import parseaddr"
   ]
  },
  {
   "cell_type": "code",
   "execution_count": null,
   "metadata": {},
   "outputs": [],
   "source": [
    "# have to debug all this code"
   ]
  },
  {
   "cell_type": "code",
   "execution_count": 2,
   "metadata": {},
   "outputs": [],
   "source": [
    "# SET email address\n",
    "email_address = \"bad6@cornell.edu\""
   ]
  },
  {
   "cell_type": "code",
   "execution_count": 3,
   "metadata": {},
   "outputs": [
    {
     "data": {
      "text/plain": [
       "True"
      ]
     },
     "execution_count": 3,
     "metadata": {},
     "output_type": "execute_result"
    }
   ],
   "source": [
    "# VALIDATE email syntax\n",
    "def validate_email_syntax(email):\n",
    "    \"\"\"\n",
    "    Validates email syntax using a regular expression.\n",
    "    \"\"\"\n",
    "    email_regex = re.compile(r'^[a-zA-Z0-9_.+-]+@[a-zA-Z0-9-]+\\.[a-zA-Z0-9-.]+$')\n",
    "    return bool(email_regex.match(email))\n",
    "\n",
    "\n",
    "validate_email_syntax(email_address)"
   ]
  },
  {
   "cell_type": "code",
   "execution_count": null,
   "metadata": {},
   "outputs": [],
   "source": [
    "def validate_email_domain(email):\n",
    "    \"\"\"\n",
    "    Validates the domain of the email by checking its MX records.\n",
    "    \"\"\"\n",
    "    domain = email.split('@')[1]\n",
    "    try:\n",
    "        # Querying the MX records of the domain\n",
    "        mx_records = dns.resolver.resolve(domain, 'MX')\n",
    "        return bool(mx_records)\n",
    "    except (dns.resolver.NoAnswer, dns.resolver.NXDOMAIN, dns.resolver.Timeout):\n",
    "        return False"
   ]
  },
  {
   "cell_type": "code",
   "execution_count": null,
   "metadata": {},
   "outputs": [],
   "source": [
    "# def smtp_verify(email):\n",
    "#     \"\"\"\n",
    "#     Verifies if the email server accepts the email using SMTP.\n",
    "#     This step only verifies if the domain's server responds and accepts mail for the address.\n",
    "#     \"\"\"\n",
    "#     domain = email.split('@')[1]\n",
    "\n",
    "#     try:\n",
    "#         # Getting MX record for the domain\n",
    "#         mx_records = dns.resolver.resolve(domain, 'MX')\n",
    "#         mx_record = mx_records[0].exchange.to_text()\n",
    "\n",
    "#         # SMTP Connection setup\n",
    "#         smtp = smtplib.SMTP(timeout=10)\n",
    "#         smtp.connect(mx_record)\n",
    "\n",
    "#         # Say hello to the server\n",
    "#         smtp.helo(\"localhost\")\n",
    "\n",
    "#         # From address\n",
    "#         from_address = \"test@example.com\"\n",
    "        \n",
    "#         # Initiate verification\n",
    "#         code, message = smtp.mail(from_address)\n",
    "#         if code != 250:\n",
    "#             return False\n",
    "\n",
    "#         # Verify recipient email address\n",
    "#         code, message = smtp.rcpt(email)\n",
    "#         smtp.quit()\n",
    "\n",
    "#         if code == 250:\n",
    "#             return True\n",
    "#         else:\n",
    "#             return False\n",
    "\n",
    "#     except Exception as e:\n",
    "#         return False\n",
    "\n",
    "# def verify_email(email):\n",
    "#     \"\"\"\n",
    "#     Full email verification including syntax, domain, and SMTP.\n",
    "#     \"\"\"\n",
    "#     if not validate_email_syntax(email):\n",
    "#         return \"Invalid email syntax.\"\n",
    "\n",
    "#     if not validate_email_domain(email):\n",
    "#         return \"Invalid domain or no MX records found.\"\n",
    "\n",
    "#     if smtp_verify(email):\n",
    "#         return \"Email is valid and active.\"\n",
    "#     else:\n",
    "#         return \"Email is invalid or inactive.\"\n",
    "\n",
    "# # Example usage:\n",
    "# email = input(\"Enter an email address to verify: \")\n",
    "# result = verify_email(email)\n",
    "# print(result)\n"
   ]
  }
 ],
 "metadata": {
  "kernelspec": {
   "display_name": "sip_venv",
   "language": "python",
   "name": "python3"
  },
  "language_info": {
   "codemirror_mode": {
    "name": "ipython",
    "version": 3
   },
   "file_extension": ".py",
   "mimetype": "text/x-python",
   "name": "python",
   "nbconvert_exporter": "python",
   "pygments_lexer": "ipython3",
   "version": "3.11.1"
  }
 },
 "nbformat": 4,
 "nbformat_minor": 2
}
