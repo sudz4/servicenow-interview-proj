{
 "cells": [
  {
   "cell_type": "markdown",
   "metadata": {},
   "source": [
    "As a Solution Consultant;\n",
    "I want to be able to label my ServiceNow demo instances with custom (transparent obviously) UI16 logos in a way that looks professional and sleek;\n",
    "so that I can feel confident which instance I am working in without having to strain my eyes to read the instance URL (i.e.,https://dev123456.service-now.com/ vs. https://nowlearning-nlinst12345678-0001.lab.service-now.com/)."
   ]
  },
  {
   "cell_type": "code",
   "execution_count": 2,
   "metadata": {},
   "outputs": [],
   "source": [
    "import matplotlib.pyplot as plt\n",
    "from matplotlib import font_manager as fm\n",
    "# display SVG in Jupyter\n",
    "from IPython.display import SVG"
   ]
  },
  {
   "cell_type": "markdown",
   "metadata": {},
   "source": [
    "| ServiceNow UI16 Custom logos (text only) |\n",
    "|-|\n",
    "| Google Fonts |"
   ]
  },
  {
   "cell_type": "markdown",
   "metadata": {},
   "source": [
    "As a Solution Consultant;\n",
    "I want to be able to label my ServiceNow demo instances with custom (transparent obviously) UI16 logos in a way that looks professional and sleek;\n",
    "so that I can feel confident which instance I am working in without having to strain my eyes to read the instance URL (i.e.,https://dev123456.service-now.com/ vs. https://nowlearning-nlinst12345678-0001.lab.service-now.com/)."
   ]
  },
  {
   "cell_type": "code",
   "execution_count": 3,
   "metadata": {},
   "outputs": [],
   "source": [
    "# set text #\n",
    "# text = \"go hard, go alone, go without.\"\n",
    "# text = \"the end.\"\n",
    "\n",
    "\n",
    "## set color ##\n",
    "color = \"#ffffff\"  # white\n",
    "# color = \"#41B6D2\"  # AECOM blue\n",
    "# color = \"#0072C6\"  # ServiceNow blue\n",
    "# color = \"#62d84e\"  # ServiceNow green\n",
    "# color = \"#f0ab00\"  # yellow\n",
    "# color = \"#f37735\"  # orange\n",
    "\n",
    "### set font path ###\n",
    "font_path = \"/Users/sudz4/Desktop/SERVICENOW-INTERVIEW/servicenow-interview-proj/app_ServiceNowUI16LogoGenerator/google_fonts/IndieFlower-Regular.ttf\"\n",
    "font_properties = fm.FontProperties(fname=font_path, size=24)\n",
    "\n",
    "\"\"\" \n",
    "SIZING;\n",
    "idea here is to get the appropriate aspect ratio for the logo.\n",
    "a lot of logos end up looking jacked up because the aspect ratio is off.\n",
    "-get appropriate ServiceNow UI16 logo sizing correct\n",
    "\"\"\"\n",
    "#### set font sizing aspect ratio ####\n",
    "aspect_ratio = 164 / 32\n",
    "fig_width = 2  # arbitrary base size in inches\n",
    "fig_height = fig_width / aspect_ratio\n",
    "\n",
    "# figure and axis with the adjusted size\n",
    "fig, ax = plt.subplots(figsize=(fig_width, fig_height), dpi=80)\n",
    "ax.text(0.5, 0.5, text, color=color, fontproperties=font_properties, ha='center', va='center')\n",
    "ax.set_facecolor('none')\n",
    "ax.axis('off')\n",
    "\n",
    "# save SVG\n",
    "logo_file_path = \"/Users/sudz4/Desktop/SERVICENOW-INTERVIEW/servicenow-interview-proj/app_ServiceNowUI16LogoGenerator/output_logos/the_end.svg\"\n",
    "plt.savefig(logo_file_path, format='svg', transparent=True, bbox_inches='tight', pad_inches=0)\n",
    "plt.close()"
   ]
  },
  {
   "cell_type": "code",
   "execution_count": 4,
   "metadata": {},
   "outputs": [
    {
     "data": {
      "image/svg+xml": [
       "<svg xmlns:xlink=\"http://www.w3.org/1999/xlink\" xmlns=\"http://www.w3.org/2000/svg\" width=\"111.6pt\" height=\"22.2675pt\" viewBox=\"0 0 111.6 22.2675\" version=\"1.1\">\n",
       " <metadata>\n",
       "  <rdf:RDF xmlns:dc=\"http://purl.org/dc/elements/1.1/\" xmlns:cc=\"http://creativecommons.org/ns#\" xmlns:rdf=\"http://www.w3.org/1999/02/22-rdf-syntax-ns#\">\n",
       "   <cc:Work>\n",
       "    <dc:type rdf:resource=\"http://purl.org/dc/dcmitype/StillImage\"/>\n",
       "    <dc:date>2024-08-05T17:49:13.030065</dc:date>\n",
       "    <dc:format>image/svg+xml</dc:format>\n",
       "    <dc:creator>\n",
       "     <cc:Agent>\n",
       "      <dc:title>Matplotlib v3.9.1, https://matplotlib.org/</dc:title>\n",
       "     </cc:Agent>\n",
       "    </dc:creator>\n",
       "   </cc:Work>\n",
       "  </rdf:RDF>\n",
       " </metadata>\n",
       " <defs>\n",
       "  <style type=\"text/css\">*{stroke-linejoin: round; stroke-linecap: butt}</style>\n",
       " </defs>\n",
       " <g id=\"figure_1\">\n",
       "  <g id=\"patch_1\">\n",
       "   <path d=\"M 0 22.2675  L 111.6 22.2675  L 111.6 0  L 0 0  L 0 22.2675  z \" style=\"fill: none\"/>\n",
       "  </g>\n",
       "  <g id=\"axes_1\">\n",
       "   <g id=\"text_1\">\n",
       "    <!-- the end. -->\n",
       "    <g style=\"fill: #ffffff\" transform=\"translate(15.5925 13.73625) scale(0.24 -0.24)\">\n",
       "     <defs>\n",
       "      <path id=\"IndieFlower-74\" d=\"M 850 2150  Q 800 2150 675 2150  Q 550 2150 415 2172  Q 281 2194 172 2244  Q 63 2294 63 2388  Q 63 2413 72 2459  Q 81 2506 131 2506  L 775 2563  Q 800 2794 812 2941  Q 825 3088 819 3216  Q 813 3344 803 3484  Q 794 3625 788 3850  Q 788 3894 806 3919  Q 825 3944 853 3956  Q 881 3969 915 3975  Q 950 3981 969 3981  Q 1006 3981 1047 3956  Q 1088 3931 1119 3893  Q 1150 3856 1169 3815  Q 1188 3775 1188 3738  L 1238 2569  L 1775 2544  Q 1881 2556 1972 2503  Q 2063 2450 2069 2306  Q 1994 2225 1887 2209  Q 1781 2194 1665 2197  Q 1550 2200 1437 2197  Q 1325 2194 1238 2138  Q 1238 2100 1244 1931  Q 1250 1763 1256 1531  Q 1263 1300 1272 1037  Q 1281 775 1287 553  Q 1294 331 1297 175  Q 1300 19 1300 0  Q 1156 -88 1068 15  Q 981 119 928 322  Q 875 525 853 797  Q 831 1069 828 1334  Q 825 1600 831 1825  Q 838 2050 850 2150  z \" transform=\"scale(0.015625)\"/>\n",
       "      <path id=\"IndieFlower-68\" d=\"M 2050 113  Q 2063 275 2075 450  Q 2088 625 2097 800  Q 2106 975 2109 1144  Q 2113 1313 2113 1450  Q 2113 1650 2056 1831  Q 2000 2013 1894 2147  Q 1788 2281 1628 2359  Q 1469 2438 1250 2438  Q 1163 2438 1100 2425  Q 1038 2413 975 2384  Q 913 2356 838 2313  Q 763 2263 663 2194  Q 663 2181 659 2147  Q 656 2113 656 2106  Q 656 1969 684 1741  Q 713 1513 744 1266  Q 775 1019 806 787  Q 838 556 838 413  Q 838 400 838 362  Q 838 325 834 281  Q 831 238 831 200  Q 831 163 831 144  Q 794 56 741 34  Q 688 13 613 13  Q 538 0 500 119  Q 463 238 444 463  Q 425 688 409 1006  Q 394 1325 366 1706  Q 338 2088 284 2516  Q 231 2944 131 3394  Q 81 3569 53 3691  Q 25 3813 0 3909  Q -25 4006 -44 4109  Q -63 4213 -88 4356  L -88 4381  Q -88 4406 -56 4428  Q -25 4450 15 4469  Q 56 4488 97 4497  Q 138 4506 163 4506  Q 281 4194 353 3978  Q 425 3763 469 3606  Q 513 3450 531 3344  Q 550 3238 562 3138  Q 575 3038 581 2931  Q 588 2825 606 2675  Q 931 2875 1197 2894  Q 1463 2913 1669 2816  Q 1875 2719 2028 2519  Q 2181 2319 2281 2069  Q 2381 1819 2434 1537  Q 2488 1256 2503 993  Q 2519 731 2491 509  Q 2463 288 2406 153  Q 2350 19 2256 -3  Q 2163 -25 2050 113  z \" transform=\"scale(0.015625)\"/>\n",
       "      <path id=\"IndieFlower-65\" d=\"M 119 1675  Q 119 2000 216 2297  Q 313 2594 497 2819  Q 681 3044 947 3178  Q 1213 3313 1563 3313  Q 1769 3288 1922 3200  Q 2075 3113 2172 2984  Q 2269 2856 2313 2688  Q 2350 2525 2350 2338  Q 2350 2113 2219 1931  Q 2088 1750 1888 1628  Q 1688 1506 1456 1440  Q 1225 1375 1025 1375  Q 950 1375 872 1375  Q 794 1375 731 1400  Q 669 1425 631 1475  Q 594 1525 594 1625  Q 594 1656 603 1678  Q 613 1700 656 1709  Q 700 1719 788 1713  Q 875 1700 1025 1675  Q 1113 1675 1278 1734  Q 1444 1794 1616 1887  Q 1788 1981 1913 2103  Q 2038 2225 2038 2344  Q 2038 2469 1997 2591  Q 1956 2713 1875 2806  Q 1794 2900 1684 2956  Q 1575 3013 1438 3000  Q 1219 2981 1041 2881  Q 863 2781 738 2622  Q 613 2463 544 2269  Q 475 2075 475 1863  Q 475 1700 481 1537  Q 488 1375 528 1219  Q 569 1063 659 919  Q 750 775 922 665  Q 1094 556 1356 484  Q 1619 413 2006 394  L 3125 469  Q 3025 331 2872 243  Q 2719 156 2547 103  Q 2375 50 2206 25  Q 2038 0 1888 0  Q 1525 0 1206 119  Q 888 238 644 453  Q 400 669 259 978  Q 119 1288 119 1675  z \" transform=\"scale(0.015625)\"/>\n",
       "      <path id=\"IndieFlower-20\" transform=\"scale(0.015625)\"/>\n",
       "      <path id=\"IndieFlower-6e\" d=\"M 181 2438  Q 181 2494 222 2509  Q 263 2525 313 2525  Q 350 2525 365 2506  Q 381 2488 387 2463  Q 394 2438 406 2416  Q 419 2394 450 2394  Q 538 2394 663 2462  Q 788 2531 934 2612  Q 1081 2694 1247 2762  Q 1413 2831 1575 2831  Q 1788 2831 1966 2722  Q 2144 2613 2284 2431  Q 2425 2250 2525 2025  Q 2625 1800 2694 1565  Q 2763 1331 2794 1109  Q 2825 888 2825 725  Q 2825 669 2815 556  Q 2806 444 2784 331  Q 2763 219 2713 134  Q 2663 50 2588 50  Q 2575 50 2544 53  Q 2513 56 2481 65  Q 2450 75 2428 87  Q 2406 100 2406 125  Q 2463 606 2406 1028  Q 2350 1450 2225 1769  Q 2100 2088 1919 2275  Q 1738 2463 1531 2463  Q 1338 2463 1169 2400  Q 1000 2338 875 2219  Q 750 2100 678 1931  Q 606 1763 606 1563  Q 606 1363 643 1166  Q 681 969 728 772  Q 775 575 812 375  Q 850 175 850 -25  Q 675 -25 556 119  Q 438 263 366 488  Q 294 713 253 994  Q 213 1275 197 1547  Q 181 1819 181 2059  Q 181 2300 181 2438  z \" transform=\"scale(0.015625)\"/>\n",
       "      <path id=\"IndieFlower-64\" d=\"M 119 1419  Q 119 1650 178 1906  Q 238 2163 366 2381  Q 494 2600 691 2740  Q 888 2881 1175 2881  Q 1325 2881 1475 2837  Q 1625 2794 1784 2712  Q 1944 2631 2116 2522  Q 2288 2413 2481 2281  Q 2506 2531 2462 2797  Q 2419 3063 2350 3319  Q 2281 3575 2209 3803  Q 2138 4031 2106 4212  Q 2075 4394 2100 4512  Q 2125 4631 2250 4663  Q 2419 4538 2541 4309  Q 2663 4081 2750 3781  Q 2838 3481 2894 3140  Q 2950 2800 2987 2450  Q 3025 2100 3047 1769  Q 3069 1438 3094 1159  Q 3119 881 3141 684  Q 3163 488 3206 406  Q 3206 306 3134 281  Q 3063 256 2988 256  Q 2925 256 2881 303  Q 2838 350 2813 412  Q 2788 475 2766 553  Q 2744 631 2719 697  Q 2694 763 2662 806  Q 2631 850 2581 850  Q 2569 850 2547 847  Q 2525 844 2525 838  Q 2406 675 2247 522  Q 2088 369 1897 253  Q 1706 138 1497 69  Q 1288 0 1075 0  Q 838 0 659 156  Q 481 313 359 531  Q 238 750 178 994  Q 119 1238 119 1419  z M 506 1306  Q 569 1081 619 912  Q 669 744 741 637  Q 813 531 913 478  Q 1013 425 1175 425  Q 1375 425 1600 540  Q 1825 656 2019 837  Q 2213 1019 2338 1234  Q 2463 1450 2463 1650  Q 2463 1669 2463 1725  Q 2463 1781 2463 1800  Q 2131 2125 1853 2265  Q 1575 2406 1356 2409  Q 1138 2413 975 2313  Q 813 2213 706 2050  Q 600 1888 550 1688  Q 500 1488 506 1306  z \" transform=\"scale(0.015625)\"/>\n",
       "      <path id=\"IndieFlower-2e\" d=\"M 281 600  Q 281 650 322 750  Q 363 850 419 953  Q 475 1056 534 1131  Q 594 1206 638 1206  Q 763 1206 856 1140  Q 950 1075 1009 975  Q 1069 875 1100 756  Q 1131 638 1131 538  Q 1131 463 1087 369  Q 1044 275 978 194  Q 913 113 831 56  Q 750 0 669 0  Q 575 0 506 65  Q 438 131 384 228  Q 331 325 306 428  Q 281 531 281 600  z \" transform=\"scale(0.015625)\"/>\n",
       "     </defs>\n",
       "     <use xlink:href=\"#IndieFlower-74\"/>\n",
       "     <use xlink:href=\"#IndieFlower-68\" x=\"32.8125\"/>\n",
       "     <use xlink:href=\"#IndieFlower-65\" x=\"75.585938\"/>\n",
       "     <use xlink:href=\"#IndieFlower-20\" x=\"127.148438\"/>\n",
       "     <use xlink:href=\"#IndieFlower-65\" x=\"164.648438\"/>\n",
       "     <use xlink:href=\"#IndieFlower-6e\" x=\"216.210938\"/>\n",
       "     <use xlink:href=\"#IndieFlower-64\" x=\"262.207031\"/>\n",
       "     <use xlink:href=\"#IndieFlower-2e\" x=\"314.648438\"/>\n",
       "    </g>\n",
       "   </g>\n",
       "  </g>\n",
       " </g>\n",
       "</svg>"
      ],
      "text/plain": [
       "<IPython.core.display.SVG object>"
      ]
     },
     "execution_count": 4,
     "metadata": {},
     "output_type": "execute_result"
    }
   ],
   "source": [
    "# print(logo_file_path)\n",
    "SVG(filename=logo_file_path)"
   ]
  },
  {
   "cell_type": "markdown",
   "metadata": {},
   "source": [
    "#4F52FF: This keeps the same hue but maxes out the value, creating a more vibrant, pure blue-violet.\n",
    "#4FD6FF: This increases both saturation and value, resulting in a brighter, more electric blue-violet.\n",
    "#874FFF: This shifts the hue slightly towards a true blue while increasing saturation and value, creating a neon blue with violet undertones."
   ]
  },
  {
   "cell_type": "markdown",
   "metadata": {},
   "source": [
    "| END | \n",
    "|-|"
   ]
  },
  {
   "cell_type": "code",
   "execution_count": null,
   "metadata": {},
   "outputs": [],
   "source": []
  }
 ],
 "metadata": {
  "kernelspec": {
   "display_name": "sip_venv",
   "language": "python",
   "name": "python3"
  },
  "language_info": {
   "codemirror_mode": {
    "name": "ipython",
    "version": 3
   },
   "file_extension": ".py",
   "mimetype": "text/x-python",
   "name": "python",
   "nbconvert_exporter": "python",
   "pygments_lexer": "ipython3",
   "version": "3.11.1"
  }
 },
 "nbformat": 4,
 "nbformat_minor": 2
}
