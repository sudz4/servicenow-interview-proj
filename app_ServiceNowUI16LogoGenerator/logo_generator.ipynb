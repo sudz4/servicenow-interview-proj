{
 "cells": [
  {
   "cell_type": "markdown",
   "metadata": {},
   "source": [
    "As a Solution Consultant;\n",
    "I want to be able to label my ServiceNow demo instances with custom (transparent obviously) UI16 logos in a way that looks professional and sleek;\n",
    "so that I can feel confident which instance I am working in without having to strain my eyes to read the instance URL (i.e.,https://dev123456.service-now.com/ vs. https://nowlearning-nlinst12345678-0001.lab.service-now.com/)."
   ]
  },
  {
   "cell_type": "code",
   "execution_count": 30,
   "metadata": {},
   "outputs": [],
   "source": [
    "import matplotlib.pyplot as plt\n",
    "from matplotlib import font_manager as fm\n",
    "# display SVG in Jupyter\n",
    "from IPython.display import SVG"
   ]
  },
  {
   "cell_type": "markdown",
   "metadata": {},
   "source": [
    "| ServiceNow UI16 Custom logos (text only) |\n",
    "|-|\n",
    "| Google Fonts |"
   ]
  },
  {
   "cell_type": "markdown",
   "metadata": {},
   "source": [
    "As a Solution Consultant;\n",
    "I want to be able to label my ServiceNow demo instances with custom (transparent obviously) UI16 logos in a way that looks professional and sleek;\n",
    "so that I can feel confident which instance I am working in without having to strain my eyes to read the instance URL (i.e.,https://dev123456.service-now.com/ vs. https://nowlearning-nlinst12345678-0001.lab.service-now.com/)."
   ]
  },
  {
   "cell_type": "code",
   "execution_count": 45,
   "metadata": {},
   "outputs": [],
   "source": [
    "# set text #\n",
    "# text = \"go hard, go alone, go without.\"\n",
    "# text = \"the end.\"\n",
    "text = \"Employee Service Center (ESCP) Pro\"\n",
    "\n",
    "\n",
    "## set color ##\n",
    "color = \"#ffffff\"  # white\n",
    "# color = \"#41B6D2\"  # AECOM blue\n",
    "# color = \"#0072C6\"  # ServiceNow blue\n",
    "# color = \"#62d84e\"  # ServiceNow green\n",
    "# color = \"#f0ab00\"  # yellow\n",
    "# color = \"#f37735\"  # orange\n",
    "\n",
    "### set font path ###\n",
    "# font_path = \"/Users/sudz4/Desktop/SERVICENOW-INTERVIEW/servicenow-interview-proj/app_ServiceNowUI16LogoGenerator/google_fonts/IndieFlower-Regular.ttf\"\n",
    "font_path = \"/Users/sudz4/Desktop/SERVICENOW-INTERVIEW/servicenow-interview-proj/app_ServiceNowUI16LogoGenerator/google_fonts/ContrailOne-Regular.ttf\"\n",
    "font_properties = fm.FontProperties(fname=font_path, size=24)\n",
    "\n",
    "\"\"\" \n",
    "SIZING;\n",
    "idea here is to get the appropriate aspect ratio for the logo.\n",
    "a lot of logos end up looking jacked up because the aspect ratio is off.\n",
    "-get appropriate ServiceNow UI16 logo sizing correct\n",
    "\"\"\"\n",
    "#### set font sizing aspect ratio ####\n",
    "aspect_ratio = 164 / 32\n",
    "fig_width = 2  # arbitrary base size in inches\n",
    "fig_height = fig_width / aspect_ratio\n",
    "\n",
    "# figure and axis with the adjusted size\n",
    "fig, ax = plt.subplots(figsize=(fig_width, fig_height), dpi=80)\n",
    "ax.text(0.5, 0.5, text, color=color, fontproperties=font_properties, ha='center', va='center')\n",
    "ax.set_facecolor('none')\n",
    "ax.axis('off')\n",
    "\n",
    "# save SVG\n",
    "logo_file_path = \"/Users/sudz4/Desktop/SERVICENOW-INTERVIEW/servicenow-interview-proj/app_ServiceNowUI16LogoGenerator/output_logos/esc_pro5.svg\"\n",
    "plt.savefig(logo_file_path, format='svg', transparent=True, bbox_inches='tight', pad_inches=0)\n",
    "plt.close()"
   ]
  },
  {
   "cell_type": "code",
   "execution_count": 46,
   "metadata": {},
   "outputs": [
    {
     "data": {
      "image/svg+xml": [
       "<svg xmlns:xlink=\"http://www.w3.org/1999/xlink\" xmlns=\"http://www.w3.org/2000/svg\" width=\"337.305pt\" height=\"26.13375pt\" viewBox=\"0 0 337.305 26.13375\" version=\"1.1\">\n",
       " <metadata>\n",
       "  <rdf:RDF xmlns:dc=\"http://purl.org/dc/elements/1.1/\" xmlns:cc=\"http://creativecommons.org/ns#\" xmlns:rdf=\"http://www.w3.org/1999/02/22-rdf-syntax-ns#\">\n",
       "   <cc:Work>\n",
       "    <dc:type rdf:resource=\"http://purl.org/dc/dcmitype/StillImage\"/>\n",
       "    <dc:date>2024-08-05T22:54:13.895576</dc:date>\n",
       "    <dc:format>image/svg+xml</dc:format>\n",
       "    <dc:creator>\n",
       "     <cc:Agent>\n",
       "      <dc:title>Matplotlib v3.9.1, https://matplotlib.org/</dc:title>\n",
       "     </cc:Agent>\n",
       "    </dc:creator>\n",
       "   </cc:Work>\n",
       "  </rdf:RDF>\n",
       " </metadata>\n",
       " <defs>\n",
       "  <style type=\"text/css\">*{stroke-linejoin: round; stroke-linecap: butt}</style>\n",
       " </defs>\n",
       " <g id=\"figure_1\">\n",
       "  <g id=\"patch_1\">\n",
       "   <path d=\"M 0 26.13375  L 337.305 26.13375  L 337.305 0  L 0 0  L 0 26.13375  z \" style=\"fill: none\"/>\n",
       "  </g>\n",
       "  <g id=\"axes_1\">\n",
       "   <g id=\"text_1\">\n",
       "    <!-- Employee Service Center (ESCP) Pro -->\n",
       "    <g style=\"fill: #ffffff\" transform=\"translate(-0 20.42625) scale(0.24 -0.24)\">\n",
       "     <defs>\n",
       "      <path id=\"ContrailOne-Regular-45\" d=\"M 2338 2138  L 1366 2100  L 1219 819  L 2416 859  Q 2497 856 2497 778  L 2416 131  Q 2409 66 2334 50  L 413 -13  Q 344 -13 344 47  L 884 4775  Q 897 4841 966 4847  L 2678 4906  Q 2756 4897 2756 4822  L 2678 4175  Q 2669 4097 2597 4091  L 1591 4063  L 1456 2900  L 2419 2934  Q 2500 2931 2500 2853  L 2419 2216  Q 2406 2144 2338 2138  z \" transform=\"scale(0.015625)\"/>\n",
       "      <path id=\"ContrailOne-Regular-6d\" d=\"M 1516 3697  L 1481 3406  Q 1941 3806 2364 3806  Q 2788 3806 2956 3397  Q 3425 3806 3866 3806  Q 4409 3806 4566 3231  Q 4609 3072 4609 2934  Q 4609 2797 4600 2713  L 4300 94  Q 4288 16 4222 9  L 3591 -13  Q 3522 -6 3522 47  L 3806 2522  Q 3819 2628 3819 2669  Q 3819 2925 3697 3017  Q 3575 3109 3395 3109  Q 3216 3109 3038 3044  Q 3047 2969 3047 2883  Q 3047 2797 3038 2713  L 2738 94  Q 2725 16 2659 9  L 2028 -13  Q 1959 -6 1959 47  L 2244 2522  Q 2253 2603 2253 2669  Q 2253 2925 2133 3017  Q 2013 3109 1827 3109  Q 1641 3109 1441 3031  L 1109 97  Q 1097 19 1031 13  L 400 -13  Q 331 -6 331 47  L 744 3681  Q 756 3750 822 3756  L 1431 3778  Q 1516 3775 1516 3697  z \" transform=\"scale(0.015625)\"/>\n",
       "      <path id=\"ContrailOne-Regular-70\" d=\"M 163 -1444  L 744 3678  Q 753 3753 822 3756  L 1450 3778  Q 1519 3772 1519 3713  L 1456 3297  Q 1600 3544 1770 3675  Q 1941 3806 2155 3806  Q 2369 3806 2519 3732  Q 2669 3659 2764 3539  Q 2859 3419 2919 3250  Q 3028 2950 3028 2429  Q 3028 1909 2958 1546  Q 2888 1184 2834 995  Q 2781 806 2692 606  Q 2603 406 2491 272  Q 2234 -34 1887 -34  Q 1541 -34 1387 112  Q 1234 259 1125 556  L 941 -1422  Q 938 -1497 859 -1500  L 247 -1522  Q 163 -1519 163 -1444  z M 2244 2341  Q 2244 3084 1844 3084  Q 1663 3084 1555 2925  Q 1447 2766 1367 2272  Q 1288 1778 1288 1564  Q 1288 1350 1291 1292  Q 1294 1234 1303 1134  Q 1313 1034 1338 968  Q 1363 903 1403 838  Q 1484 700 1665 700  Q 1847 700 1951 859  Q 2056 1019 2116 1294  Q 2244 1881 2244 2341  z \" transform=\"scale(0.015625)\"/>\n",
       "      <path id=\"ContrailOne-Regular-6c\" d=\"M 1684 5203  L 1109 97  Q 1103 53 1087 34  Q 1072 16 1028 13  L 400 -13  Q 331 -6 331 47  L 909 5181  Q 916 5225 931 5244  Q 947 5263 991 5266  L 1603 5288  Q 1684 5278 1684 5203  z \" transform=\"scale(0.015625)\"/>\n",
       "      <path id=\"ContrailOne-Regular-6f\" d=\"M 1479 -34  Q 925 -34 667 298  Q 409 631 409 1269  Q 409 1566 475 2044  Q 541 2522 597 2739  Q 653 2956 756 3164  Q 859 3372 1000 3506  Q 1309 3806 1838 3806  Q 2588 3806 2809 3256  Q 2928 2963 2928 2545  Q 2928 2128 2864 1681  Q 2800 1234 2744 1020  Q 2688 806 2586 601  Q 2484 397 2344 263  Q 2034 -34 1479 -34  z M 2031 1334  Q 2066 1500 2120 1954  Q 2175 2409 2175 2628  Q 2175 3159 1791 3159  Q 1609 3159 1492 2987  Q 1375 2816 1303 2416  Q 1159 1603 1159 1097  Q 1159 591 1541 591  Q 1722 591 1842 764  Q 1963 938 2031 1334  z \" transform=\"scale(0.015625)\"/>\n",
       "      <path id=\"ContrailOne-Regular-79\" d=\"M 3031 3697  L 1228 -1419  Q 1203 -1497 1138 -1500  L 509 -1522  Q 441 -1519 441 -1459  L 978 56  L 491 3681  Q 491 3753 569 3756  L 1184 3778  Q 1256 3775 1263 3697  L 1500 1069  L 2259 3681  Q 2278 3753 2341 3756  L 2953 3778  Q 3031 3772 3031 3697  z \" transform=\"scale(0.015625)\"/>\n",
       "      <path id=\"ContrailOne-Regular-65\" d=\"M 536 586  Q 463 772 436 955  Q 409 1138 409 1456  Q 409 1775 478 2244  Q 706 3806 1897 3806  Q 2356 3806 2600 3490  Q 2844 3175 2844 2672  Q 2844 2169 2781 1694  Q 2772 1609 2684 1606  L 1141 1553  Q 1138 1506 1138 1428  Q 1138 1075 1261 869  Q 1384 663 1634 663  Q 1884 663 2098 736  Q 2313 809 2350 809  Q 2388 809 2416 784  Q 2444 759 2444 716  L 2381 166  Q 2378 119 2364 105  Q 2350 91 2309 75  Q 1931 -34 1581 -34  Q 1231 -34 1037 50  Q 844 134 726 267  Q 609 400 536 586  z M 1216 2338  L 1188 2138  L 2003 2178  Q 2056 2181 2072 2197  Q 2119 2244 2119 2455  Q 2119 2666 2105 2752  Q 2091 2838 2056 2928  Q 1984 3128 1811 3128  Q 1638 3128 1538 3069  Q 1316 2931 1216 2338  z \" transform=\"scale(0.015625)\"/>\n",
       "      <path id=\"ContrailOne-Regular-20\" transform=\"scale(0.015625)\"/>\n",
       "      <path id=\"ContrailOne-Regular-53\" d=\"M 275 -47  Q 197 -47 197 28  L 275 681  Q 288 750 356 756  Q 844 806 1000 911  Q 1156 1016 1156 1328  Q 1156 1641 997 2142  Q 838 2644 791 2809  Q 641 3341 641 3680  Q 641 4019 750 4259  Q 859 4500 1063 4644  Q 1456 4919 2122 4919  Q 2206 4919 2206 4841  L 2122 4194  Q 2109 4116 2044 4109  Q 1438 4069 1438 3750  Q 1438 3456 1695 2595  Q 1953 1734 1953 1363  Q 1953 -47 275 -47  z \" transform=\"scale(0.015625)\"/>\n",
       "      <path id=\"ContrailOne-Regular-72\" d=\"M 2434 2981  L 2100 3016  Q 1694 3016 1419 2853  L 1109 97  Q 1097 19 1031 13  L 400 -13  Q 331 -6 331 47  L 744 3681  Q 756 3750 822 3756  L 1431 3778  Q 1516 3775 1516 3697  L 1478 3375  Q 1678 3578 1865 3692  Q 2053 3806 2242 3806  Q 2431 3806 2531 3791  Q 2597 3778 2597 3703  Q 2597 3488 2525 3063  Q 2509 2981 2434 2981  z \" transform=\"scale(0.015625)\"/>\n",
       "      <path id=\"ContrailOne-Regular-76\" d=\"M 1456 1022  L 2172 3681  Q 2191 3753 2256 3756  L 2913 3778  Q 2991 3772 2991 3697  L 1719 94  Q 1691 16 1638 9  L 997 -13  Q 938 -9 928 47  L 441 3681  Q 450 3753 519 3756  L 1134 3778  Q 1206 3775 1213 3697  L 1456 1022  z \" transform=\"scale(0.015625)\"/>\n",
       "      <path id=\"ContrailOne-Regular-69\" d=\"M 1169 4119  Q 975 4119 859 4241  Q 744 4363 744 4555  Q 744 4747 898 4898  Q 1053 5050 1247 5050  Q 1441 5050 1561 4928  Q 1681 4806 1681 4614  Q 1681 4422 1522 4270  Q 1363 4119 1169 4119  z M 1516 3697  L 1109 94  Q 1103 50 1087 31  Q 1072 13 1028 9  L 400 -13  Q 331 -6 331 47  L 744 3681  Q 756 3750 822 3756  L 1431 3778  Q 1516 3772 1516 3697  z \" transform=\"scale(0.015625)\"/>\n",
       "      <path id=\"ContrailOne-Regular-63\" d=\"M 2572 3709  Q 2641 3684 2641 3591  L 2569 3025  Q 2563 2963 2483 2963  Q 2403 2963 2331 2994  Q 2028 3128 1828 3128  Q 1628 3128 1509 2962  Q 1391 2797 1319 2488  Q 1184 1909 1184 1431  Q 1184 663 1581 663  Q 1869 663 2047 736  Q 2225 809 2278 809  Q 2388 809 2388 716  L 2322 166  Q 2316 109 2298 98  Q 2281 88 2253 75  Q 1875 -34 1542 -34  Q 1209 -34 1017 50  Q 825 134 712 267  Q 600 400 531 588  Q 409 909 409 1379  Q 409 1850 470 2198  Q 531 2547 598 2765  Q 666 2984 778 3186  Q 891 3388 1041 3519  Q 1369 3806 1909 3806  Q 2272 3806 2572 3709  z \" transform=\"scale(0.015625)\"/>\n",
       "      <path id=\"ContrailOne-Regular-43\" d=\"M 2353 141  Q 2347 103 2331 87  Q 2316 72 2025 19  Q 1734 -34 1438 -34  Q 950 -34 690 281  Q 431 597 431 1141  Q 431 2106 663 3384  Q 784 4072 963 4350  Q 1150 4641 1413 4756  Q 1741 4900 2114 4900  Q 2488 4900 2614 4879  Q 2741 4859 2756 4856  Q 2797 4844 2797 4778  L 2725 4197  Q 2713 4116 2663 4116  Q 2613 4116 2431 4142  Q 2250 4169 2138 4169  Q 1838 4169 1681 4017  Q 1525 3866 1448 3436  Q 1372 3006 1300 2282  Q 1228 1559 1228 1175  Q 1228 722 1628 722  Q 1744 722 2031 761  Q 2319 800 2359 800  Q 2425 800 2425 722  L 2353 141  z \" transform=\"scale(0.015625)\"/>\n",
       "      <path id=\"ContrailOne-Regular-6e\" d=\"M 1519 3697  L 1484 3409  Q 1934 3806 2347 3806  Q 2872 3806 3009 3231  Q 3047 3075 3047 2936  Q 3047 2797 3038 2713  L 2738 94  Q 2725 16 2659 9  L 2028 -13  Q 1959 -6 1959 47  L 2244 2522  Q 2253 2603 2253 2669  Q 2253 2925 2133 3017  Q 2013 3109 1828 3109  Q 1644 3109 1444 3031  L 1109 94  Q 1097 16 1031 9  L 400 -13  Q 331 -6 331 47  L 744 3681  Q 756 3750 822 3756  L 1434 3778  Q 1519 3775 1519 3697  z \" transform=\"scale(0.015625)\"/>\n",
       "      <path id=\"ContrailOne-Regular-74\" d=\"M 825 3766  Q 897 4453 919 4476  Q 941 4500 984 4503  L 1581 4525  Q 1666 4519 1666 4447  Q 1606 4100 1566 3781  L 2294 3806  Q 2369 3803 2369 3725  L 2281 3228  Q 2269 3153 2203 3150  L 1488 3122  Q 1275 1209 1275 1013  Q 1275 647 1588 647  Q 1747 647 1897 697  Q 2047 747 2084 747  Q 2150 747 2150 666  L 2084 119  Q 2078 72 2061 50  Q 2044 28 1908 -3  Q 1772 -34 1444 -34  Q 963 -34 731 189  Q 500 413 500 856  Q 500 1300 747 3113  L 441 3100  Q 363 3103 363 3178  L 447 3681  Q 456 3753 528 3756  L 825 3766  z \" transform=\"scale(0.015625)\"/>\n",
       "      <path id=\"ContrailOne-Regular-28\" d=\"M 1647 -1334  Q 1119 -1334 845 -1029  Q 572 -725 572 -145  Q 572 434 706 1693  Q 841 2953 950 3581  Q 1059 4209 1107 4400  Q 1156 4591 1262 4817  Q 1369 5044 1519 5163  Q 1872 5447 2509 5447  Q 2563 5447 2583 5428  Q 2603 5409 2603 5353  L 2534 4806  Q 2525 4728 2466 4728  Q 2159 4728 1995 4556  Q 1831 4384 1732 3809  Q 1634 3234 1484 1976  Q 1334 719 1334 -94  Q 1334 -597 1731 -597  Q 1797 -597 1797 -675  L 1725 -1253  Q 1716 -1334 1647 -1334  z \" transform=\"scale(0.015625)\"/>\n",
       "      <path id=\"ContrailOne-Regular-50\" d=\"M 3025 2916  Q 2756 1875 1344 1872  L 1147 100  Q 1138 25 1069 22  L 413 -13  Q 344 -6 344 47  L 884 4775  Q 897 4841 966 4847  Q 1550 4900 2081 4900  Q 3138 4900 3138 3888  Q 3138 3334 3025 2916  z M 1600 4172  L 1422 2594  Q 1963 2594 2150 2819  Q 2338 3044 2338 3694  Q 2338 3944 2203 4062  Q 2069 4181 1859 4181  Q 1650 4181 1600 4172  z \" transform=\"scale(0.015625)\"/>\n",
       "      <path id=\"ContrailOne-Regular-29\" d=\"M 663 5447  Q 1191 5447 1464 5142  Q 1738 4838 1738 4258  Q 1738 3678 1603 2418  Q 1469 1159 1359 531  Q 1250 -97 1201 -287  Q 1153 -478 1047 -704  Q 941 -931 794 -1050  Q 438 -1334 -200 -1334  Q -253 -1334 -273 -1315  Q -294 -1297 -294 -1241  L -225 -694  Q -216 -616 -156 -616  Q 150 -616 314 -444  Q 478 -272 576 303  Q 675 878 825 2136  Q 975 3394 975 4206  Q 975 4709 578 4709  Q 513 4709 513 4788  L 584 5366  Q 594 5447 663 5447  z \" transform=\"scale(0.015625)\"/>\n",
       "     </defs>\n",
       "     <use xlink:href=\"#ContrailOne-Regular-45\"/>\n",
       "     <use xlink:href=\"#ContrailOne-Regular-6d\" x=\"44.189453\"/>\n",
       "     <use xlink:href=\"#ContrailOne-Regular-70\" x=\"120.703125\"/>\n",
       "     <use xlink:href=\"#ContrailOne-Regular-6c\" x=\"172.216797\"/>\n",
       "     <use xlink:href=\"#ContrailOne-Regular-6f\" x=\"198.828125\"/>\n",
       "     <use xlink:href=\"#ContrailOne-Regular-79\" x=\"248.779297\"/>\n",
       "     <use xlink:href=\"#ContrailOne-Regular-65\" x=\"294.677734\"/>\n",
       "     <use xlink:href=\"#ContrailOne-Regular-65\" x=\"343.310547\"/>\n",
       "     <use xlink:href=\"#ContrailOne-Regular-20\" x=\"391.943359\"/>\n",
       "     <use xlink:href=\"#ContrailOne-Regular-53\" x=\"412.451172\"/>\n",
       "     <use xlink:href=\"#ContrailOne-Regular-65\" x=\"447.314453\"/>\n",
       "     <use xlink:href=\"#ContrailOne-Regular-72\" x=\"495.947266\"/>\n",
       "     <use xlink:href=\"#ContrailOne-Regular-76\" x=\"534.716797\"/>\n",
       "     <use xlink:href=\"#ContrailOne-Regular-69\" x=\"579.980469\"/>\n",
       "     <use xlink:href=\"#ContrailOne-Regular-63\" x=\"606.640625\"/>\n",
       "     <use xlink:href=\"#ContrailOne-Regular-65\" x=\"649.902344\"/>\n",
       "     <use xlink:href=\"#ContrailOne-Regular-20\" x=\"698.535156\"/>\n",
       "     <use xlink:href=\"#ContrailOne-Regular-43\" x=\"719.042969\"/>\n",
       "     <use xlink:href=\"#ContrailOne-Regular-65\" x=\"761.71875\"/>\n",
       "     <use xlink:href=\"#ContrailOne-Regular-6e\" x=\"810.351562\"/>\n",
       "     <use xlink:href=\"#ContrailOne-Regular-74\" x=\"862.451172\"/>\n",
       "     <use xlink:href=\"#ContrailOne-Regular-65\" x=\"898.828125\"/>\n",
       "     <use xlink:href=\"#ContrailOne-Regular-72\" x=\"947.460938\"/>\n",
       "     <use xlink:href=\"#ContrailOne-Regular-20\" x=\"986.230469\"/>\n",
       "     <use xlink:href=\"#ContrailOne-Regular-28\" x=\"1006.738281\"/>\n",
       "     <use xlink:href=\"#ContrailOne-Regular-45\" x=\"1040.625\"/>\n",
       "     <use xlink:href=\"#ContrailOne-Regular-53\" x=\"1084.814453\"/>\n",
       "     <use xlink:href=\"#ContrailOne-Regular-43\" x=\"1119.677734\"/>\n",
       "     <use xlink:href=\"#ContrailOne-Regular-50\" x=\"1162.353516\"/>\n",
       "     <use xlink:href=\"#ContrailOne-Regular-29\" x=\"1212.304688\"/>\n",
       "     <use xlink:href=\"#ContrailOne-Regular-20\" x=\"1246.191406\"/>\n",
       "     <use xlink:href=\"#ContrailOne-Regular-50\" x=\"1266.699219\"/>\n",
       "     <use xlink:href=\"#ContrailOne-Regular-72\" x=\"1316.650391\"/>\n",
       "     <use xlink:href=\"#ContrailOne-Regular-6f\" x=\"1355.419922\"/>\n",
       "    </g>\n",
       "   </g>\n",
       "  </g>\n",
       " </g>\n",
       "</svg>"
      ],
      "text/plain": [
       "<IPython.core.display.SVG object>"
      ]
     },
     "execution_count": 46,
     "metadata": {},
     "output_type": "execute_result"
    }
   ],
   "source": [
    "# print(logo_file_path)\n",
    "SVG(filename=logo_file_path)"
   ]
  },
  {
   "cell_type": "markdown",
   "metadata": {},
   "source": [
    "#4F52FF: This keeps the same hue but maxes out the value, creating a more vibrant, pure blue-violet.\n",
    "#4FD6FF: This increases both saturation and value, resulting in a brighter, more electric blue-violet.\n",
    "#874FFF: This shifts the hue slightly towards a true blue while increasing saturation and value, creating a neon blue with violet undertones."
   ]
  },
  {
   "cell_type": "markdown",
   "metadata": {},
   "source": [
    "| END | \n",
    "|-|"
   ]
  },
  {
   "cell_type": "code",
   "execution_count": null,
   "metadata": {},
   "outputs": [],
   "source": []
  }
 ],
 "metadata": {
  "kernelspec": {
   "display_name": "sip_venv",
   "language": "python",
   "name": "python3"
  },
  "language_info": {
   "codemirror_mode": {
    "name": "ipython",
    "version": 3
   },
   "file_extension": ".py",
   "mimetype": "text/x-python",
   "name": "python",
   "nbconvert_exporter": "python",
   "pygments_lexer": "ipython3",
   "version": "3.11.1"
  }
 },
 "nbformat": 4,
 "nbformat_minor": 2
}
