{
 "cells": [
  {
   "cell_type": "markdown",
   "metadata": {},
   "source": [
    "As a Solution Consultant;\n",
    "I want to be able to label my ServiceNow demo instances with custom (transparent obviously) UI16 logos in a way that looks professional and sleek;\n",
    "so that I can feel confident which instance I am working in without having to strain my eyes to read the instance URL (i.e.,https://dev123456.service-now.com/ vs. https://nowlearning-nlinst12345678-0001.lab.service-now.com/)."
   ]
  },
  {
   "cell_type": "code",
   "execution_count": 11,
   "metadata": {},
   "outputs": [],
   "source": [
    "import matplotlib.pyplot as plt\n",
    "from matplotlib import font_manager as fm\n",
    "# display SVG in Jupyter\n",
    "from IPython.display import SVG"
   ]
  },
  {
   "cell_type": "markdown",
   "metadata": {},
   "source": [
    "| ServiceNow UI16 Custom logos (text only) |\n",
    "|-|\n",
    "| Google Fonts |"
   ]
  },
  {
   "cell_type": "markdown",
   "metadata": {},
   "source": [
    "As a Solution Consultant;\n",
    "I want to be able to label my ServiceNow demo instances with custom (transparent obviously) UI16 logos in a way that looks professional and sleek;\n",
    "so that I can feel confident which instance I am working in without having to strain my eyes to read the instance URL (i.e.,https://dev123456.service-now.com/ vs. https://nowlearning-nlinst12345678-0001.lab.service-now.com/)."
   ]
  },
  {
   "cell_type": "code",
   "execution_count": 12,
   "metadata": {},
   "outputs": [],
   "source": [
    "# set text #\n",
    "# text = \"go hard, go alone, go without.\"\n",
    "# text = \"the end.\"\n",
    "# text = \"Employee Service Center (ESCP) Pro\"\n",
    "# text = \"The District - PDI - Upgraded\"\n",
    "# text = \"Matt Sutherland ServiceNow Interview: Generative AI (Gen-AI) DEMO Guide\"\n",
    "# text = \"Matt Now Interview\"\n",
    "# text = \"Matt PDI (main)\"\n",
    "# text = \"Matt's GenAI Portal\"\n",
    "text = \"Matt's PDI\"\n",
    "\n",
    "\n",
    "## set color ##\n",
    "# color = \"#ffffff\"  # white\n",
    "# color = \"#0072C6\"  # now old blue\n",
    "# color = \"#62d84e\"  # now green\n",
    "# color = \"#5E5F61\" # now grey (old logo)\n",
    "# color = \"#B1B1B1\" # gtown grey\n",
    "# color = \"#F76900\" # cuse orange\n",
    "color = \"#FFBB00\" # towson yellow\n",
    "\n",
    "# color = \"#4f52bd\" # ui16 buttin color (purple)\n",
    "# color = \"#8A2BE2\" # electric purple \n",
    "\n",
    "\n",
    "### set font path ###\n",
    "# font_path = \"/Users/sudz4/Desktop/SERVICENOW-INTERVIEW/servicenow-interview-proj/app_ServiceNowUI16LogoGenerator/google_fonts/IndieFlower-Regular.ttf\"\n",
    "# font_path = \"/Users/sudz4/Desktop/SERVICENOW-INTERVIEW/servicenow-interview-proj/app_ServiceNowUI16LogoGenerator/google_fonts/ContrailOne-Regular.ttf\"\n",
    "font_path = \"/Users/sudz4/Desktop/SERVICENOW-INTERVIEW/servicenow-interview-proj/app_ServiceNowUI16LogoGenerator/google_fonts/PermanentMarker-Regular.ttf\"\n",
    "# font_path = \"/Users/sudz4/Desktop/SERVICENOW-INTERVIEW/servicenow-interview-proj/app_ServiceNowUI16LogoGenerator/google_fonts/BlackOpsOne-Regular.ttf\"\n",
    "font_properties = fm.FontProperties(fname=font_path, size=24)\n",
    "\n",
    "\"\"\" \n",
    "SIZING;\n",
    "idea here is to get the appropriate aspect ratio for the logo.\n",
    "a lot of logos end up looking jacked up because the aspect ratio is off.\n",
    "-get appropriate ServiceNow UI16 logo sizing correct\n",
    "\"\"\"\n",
    "#### set font sizing aspect ratio ####\n",
    "aspect_ratio = 164 / 32\n",
    "fig_width = 2  # arbitrary base size in inches\n",
    "fig_height = fig_width / aspect_ratio\n",
    "\n",
    "# figure and axis with the adjusted size\n",
    "fig, ax = plt.subplots(figsize=(fig_width, fig_height), dpi=80)\n",
    "ax.text(0.5, 0.5, text, color=color, fontproperties=font_properties, ha='center', va='center')\n",
    "ax.set_facecolor('none')\n",
    "ax.axis('off')\n",
    "\n",
    "# save SVG\n",
    "logo_file_path = \"/Users/sudz4/Desktop/SERVICENOW-INTERVIEW/servicenow-interview-proj/app_ServiceNowUI16LogoGenerator/output_logos/matts_pdi.svg\"\n",
    "plt.savefig(logo_file_path, format='svg', transparent=True, bbox_inches='tight', pad_inches=0)\n",
    "plt.close()"
   ]
  },
  {
   "cell_type": "code",
   "execution_count": 13,
   "metadata": {},
   "outputs": [
    {
     "data": {
      "image/svg+xml": [
       "<svg xmlns:xlink=\"http://www.w3.org/1999/xlink\" xmlns=\"http://www.w3.org/2000/svg\" width=\"125.22375pt\" height=\"21.635122pt\" viewBox=\"0 0 125.22375 21.635122\" version=\"1.1\">\n",
       " <metadata>\n",
       "  <rdf:RDF xmlns:dc=\"http://purl.org/dc/elements/1.1/\" xmlns:cc=\"http://creativecommons.org/ns#\" xmlns:rdf=\"http://www.w3.org/1999/02/22-rdf-syntax-ns#\">\n",
       "   <cc:Work>\n",
       "    <dc:type rdf:resource=\"http://purl.org/dc/dcmitype/StillImage\"/>\n",
       "    <dc:date>2024-08-11T19:59:16.048696</dc:date>\n",
       "    <dc:format>image/svg+xml</dc:format>\n",
       "    <dc:creator>\n",
       "     <cc:Agent>\n",
       "      <dc:title>Matplotlib v3.9.1, https://matplotlib.org/</dc:title>\n",
       "     </cc:Agent>\n",
       "    </dc:creator>\n",
       "   </cc:Work>\n",
       "  </rdf:RDF>\n",
       " </metadata>\n",
       " <defs>\n",
       "  <style type=\"text/css\">*{stroke-linejoin: round; stroke-linecap: butt}</style>\n",
       " </defs>\n",
       " <g id=\"figure_1\">\n",
       "  <g id=\"patch_1\">\n",
       "   <path d=\"M 0 21.635122  L 125.22375 21.635122  L 125.22375 0  L 0 0  L 0 21.635122  z \" style=\"fill: none\"/>\n",
       "  </g>\n",
       "  <g id=\"axes_1\">\n",
       "   <g id=\"text_1\">\n",
       "    <!-- Matt's PDI -->\n",
       "    <g style=\"fill: #ffbb00\" transform=\"translate(0 19.453811) scale(0.24 -0.24)\">\n",
       "     <defs>\n",
       "      <path id=\"PermanentMarker-Regular-4d\" d=\"M 563 -88  Q 500 -88 369 -69  Q 269 38 191 222  Q 113 406 72 615  Q 31 825 34 1034  Q 38 1244 106 1406  Q 106 1413 165 1556  Q 225 1700 319 1922  Q 413 2144 531 2416  Q 650 2688 769 2950  Q 888 3213 997 3428  Q 1106 3644 1188 3763  Q 1244 3850 1291 3931  Q 1338 4013 1381 4081  Q 1450 4194 1509 4291  Q 1569 4388 1641 4466  Q 1713 4544 1800 4603  Q 1888 4663 2013 4706  Q 2088 4675 2144 4640  Q 2200 4606 2244 4556  L 2263 4469  Q 2275 4425 2303 4409  Q 2331 4394 2350 4394  Q 2431 4375 2490 4353  Q 2550 4331 2619 4325  Q 2644 4288 2666 4250  Q 2688 4213 2713 4181  Q 2838 4000 2919 3831  Q 3000 3663 2919 3463  L 2925 3394  Q 2956 3350 2956 3312  Q 2956 3275 2944 3206  Q 2938 3156 2934 3097  Q 2931 3038 2950 2969  L 2994 2919  Q 3094 2869 3188 2869  Q 3313 2869 3413 2925  Q 3513 2981 3600 3038  Q 3669 3088 3728 3119  Q 3788 3150 3844 3163  Q 3975 3288 4084 3384  Q 4194 3481 4313 3581  Q 4538 3763 4750 3972  Q 4963 4181 5088 4494  Q 5156 4538 5244 4538  Q 5331 4538 5418 4503  Q 5506 4469 5594 4425  Q 5613 4413 5628 4406  Q 5644 4400 5663 4388  Q 5663 4319 5719 4263  Q 5750 4238 5762 4231  Q 5775 4225 5788 4219  Q 5838 4188 5872 4163  Q 5906 4138 5925 4094  Q 5981 3925 6113 3831  Q 6100 3763 6119 3697  Q 6138 3631 6163 3569  Q 6175 3544 6181 3522  Q 6188 3500 6200 3469  L 6063 3481  L 6081 3344  Q 6100 3238 6065 3106  Q 6031 2975 5988 2900  Q 6000 2713 6000 2603  Q 6000 2494 5987 2400  Q 5975 2306 5947 2222  Q 5919 2138 5875 2044  Q 5900 1569 5765 1175  Q 5631 781 5475 438  Q 5456 394 5437 356  Q 5419 319 5406 281  Q 5338 263 5281 238  Q 5225 213 5175 181  Q 5106 138 5037 109  Q 4969 81 4894 81  Q 4594 300 4584 837  Q 4575 1375 4813 2206  Q 4856 2238 4850 2300  L 4850 2369  L 4788 2375  Q 4756 2375 4731 2369  Q 4706 2363 4694 2313  Q 4494 2169 4259 2016  Q 4025 1863 3775 1734  Q 3525 1606 3265 1522  Q 3006 1438 2763 1438  Q 2138 1438 1819 2075  L 1763 2188  L 1700 2088  Q 1681 2056 1634 1965  Q 1588 1875 1541 1756  Q 1494 1638 1459 1513  Q 1425 1388 1438 1294  Q 1363 1225 1291 1137  Q 1219 1050 1188 938  Q 1175 906 1181 878  Q 1188 850 1200 819  Q 1194 775 1175 756  Q 1156 738 1131 719  Q 1100 688 1069 653  Q 1038 619 1013 575  Q 1000 538 994 497  Q 988 456 981 425  Q 981 356 963 331  Q 900 200 853 115  Q 806 31 762 -12  Q 719 -56 672 -72  Q 625 -88 563 -88  z \" transform=\"scale(0.015625)\"/>\n",
       "      <path id=\"PermanentMarker-Regular-61\" d=\"M 3306 525  Q 3269 419 3197 309  Q 3125 200 3028 115  Q 2931 31 2812 -25  Q 2694 -81 2563 -88  Q 2481 -69 2453 -47  Q 2425 -25 2394 -6  Q 2375 6 2359 15  Q 2344 25 2331 31  L 2256 63  L 2281 144  Q 2294 194 2275 222  Q 2256 250 2200 300  Q 2181 319 2162 337  Q 2144 356 2131 375  L 2025 494  L 2194 538  Q 2350 581 2403 650  Q 2456 719 2444 881  Q 2319 906 2234 887  Q 2150 869 2063 844  Q 1950 813 1834 791  Q 1719 769 1581 769  Q 1531 769 1487 772  Q 1444 775 1394 781  L 1331 794  Q 1319 863 1306 872  Q 1294 881 1281 894  Q 1250 925 1215 978  Q 1181 1031 1200 1113  Q 1169 1169 1163 1225  Q 1125 1150 1106 1069  L 1081 1006  L 1019 994  Q 1006 988 1000 966  Q 994 944 994 931  L 963 825  Q 950 813 937 803  Q 925 794 913 781  Q 900 725 881 669  Q 863 613 844 563  Q 813 481 791 403  Q 769 325 775 250  L 750 181  Q 719 144 681 122  Q 644 100 606 81  Q 594 69 572 59  Q 550 50 538 44  L 519 -25  L 444 -38  Q 375 -50 347 -56  Q 319 -63 281 -63  L 219 -56  Q 150 0 112 34  Q 75 69 25 100  Q -31 175 -37 212  Q -44 250 -50 281  Q -63 319 -66 344  Q -69 369 -81 381  L -163 456  L -94 513  L -88 619  Q 38 938 178 1231  Q 319 1525 469 1831  Q 519 1931 566 2031  Q 613 2131 663 2231  Q 656 2250 656 2275  Q 656 2300 669 2331  Q 738 2438 781 2522  Q 825 2606 869 2694  Q 919 2800 972 2900  Q 1025 3000 1106 3106  L 1206 3150  Q 1225 3156 1250 3165  Q 1275 3175 1306 3175  L 1400 3163  Q 1575 3244 1706 3391  Q 1838 3538 1975 3744  L 2038 3831  L 2119 3781  Q 2150 3763 2206 3747  Q 2263 3731 2325 3713  Q 2438 3688 2538 3656  Q 2638 3625 2700 3563  Q 2738 3463 2744 3413  Q 2750 3363 2763 3313  Q 2781 3206 2797 3100  Q 2813 2994 2819 2863  Q 2850 2756 2872 2653  Q 2894 2550 2913 2444  Q 2944 2294 2975 2153  Q 3006 2013 3056 1888  Q 3106 1888 3119 1881  Q 3150 1894 3184 1900  Q 3219 1906 3263 1913  L 3331 1919  L 3356 1856  Q 3363 1825 3419 1794  Q 3500 1788 3537 1759  Q 3575 1731 3606 1700  Q 3631 1675 3656 1663  L 3750 1625  L 3700 1531  Q 3638 1419 3522 1316  Q 3406 1213 3263 1144  Q 3269 1106 3272 1072  Q 3275 1038 3288 1000  Q 3306 894 3318 781  Q 3331 669 3319 550  L 3306 525  z M 1500 1606  Q 1688 1619 1841 1634  Q 1994 1650 2181 1688  Q 2138 1875 2088 2078  Q 2038 2281 1981 2481  L 1944 2419  Q 1819 2288 1703 2125  Q 1588 1963 1506 1819  Q 1469 1763 1431 1706  Q 1394 1650 1363 1594  Q 1400 1600 1434 1600  Q 1469 1600 1500 1606  z \" transform=\"scale(0.015625)\"/>\n",
       "      <path id=\"PermanentMarker-Regular-74\" d=\"M 3556 3006  Q 3400 3006 3219 2984  Q 3038 2963 2863 2938  Q 2738 2919 2622 2906  Q 2506 2894 2413 2888  Q 2369 2750 2325 2644  Q 2281 2538 2231 2438  Q 2181 2331 2140 2222  Q 2100 2113 2063 1988  Q 2000 1888 1959 1803  Q 1919 1719 1894 1613  Q 1819 1519 1781 1416  Q 1744 1313 1725 1238  L 1700 1163  Q 1663 1125 1656 1103  Q 1650 1081 1625 1063  Q 1619 994 1581 925  Q 1569 894 1562 866  Q 1556 838 1556 825  Q 1556 763 1525 744  Q 1531 713 1525 678  Q 1519 644 1513 613  Q 1494 538 1500 494  Q 1519 469 1534 450  Q 1550 431 1556 400  Q 1594 375 1613 369  Q 1638 350 1688 325  L 1744 263  Q 1775 81 1688 -25  Q 1594 -144 1369 -144  L 1294 -144  Q 1263 -113 1256 -94  Q 1206 -75 1175 -62  Q 1144 -50 1119 -13  Q 1038 25 988 50  L 931 81  Q 931 150 931 156  Q 888 213 866 281  Q 844 350 831 419  Q 819 475 803 525  Q 788 575 763 613  Q 750 975 831 1225  Q 913 1475 1000 1706  Q 1050 1831 1100 1959  Q 1150 2088 1188 2225  L 1244 2288  Q 1288 2388 1316 2453  Q 1344 2519 1375 2588  Q 1394 2631 1409 2672  Q 1425 2713 1438 2744  Q 1400 2744 1369 2741  Q 1338 2738 1306 2731  Q 1269 2725 1237 2722  Q 1206 2719 1175 2719  Q 1131 2719 1113 2725  Q 1044 2694 963 2694  L 900 2694  Q 881 2694 865 2697  Q 850 2700 838 2700  Q 775 2700 738 2681  Q 663 2681 594 2681  L 531 2681  Q 519 2681 500 2678  Q 481 2675 469 2675  Q 425 2675 375 2684  Q 325 2694 269 2725  Q 194 2825 169 2831  L 113 2906  Q 106 2944 93 2978  Q 81 3013 69 3056  Q 44 3119 22 3191  Q 0 3263 0 3363  Q 6 3413 25 3438  Q 44 3463 56 3481  L 75 3575  L 156 3569  L 331 3569  Q 531 3569 737 3584  Q 944 3600 1163 3619  Q 1288 3631 1416 3643  Q 1544 3656 1681 3669  Q 1706 3725 1731 3775  L 1794 3806  Q 1906 3813 1953 3778  Q 2000 3744 2031 3713  Q 2169 3725 2309 3740  Q 2450 3756 2594 3781  Q 2806 3813 3022 3838  Q 3238 3863 3438 3863  Q 3525 3863 3606 3856  Q 3688 3850 3756 3838  L 3819 3794  Q 3838 3756 3872 3725  Q 3906 3694 3944 3663  Q 4019 3594 4094 3500  Q 4169 3406 4150 3225  Q 4100 3150 4075 3138  L 4019 3063  L 3956 3069  Q 3919 3069 3887 3059  Q 3856 3050 3825 3038  Q 3800 3025 3775 3015  Q 3750 3006 3719 3000  Q 3663 3000 3628 3003  Q 3594 3006 3556 3006  z \" transform=\"scale(0.015625)\"/>\n",
       "      <path id=\"PermanentMarker-Regular-27\" d=\"M 1588 4619  Q 1663 4556 1731 4506  Q 1800 4456 1856 4400  Q 1913 4344 1941 4272  Q 1969 4200 1956 4094  Q 1906 4038 1837 3884  Q 1769 3731 1669 3444  Q 1619 3300 1572 3053  Q 1525 2806 1459 2540  Q 1394 2275 1300 2040  Q 1206 1806 1063 1700  Q 1006 1719 943 1731  Q 881 1744 831 1769  Q 781 1794 753 1841  Q 725 1888 731 1975  Q 588 2056 547 2172  Q 506 2288 512 2416  Q 519 2544 541 2672  Q 563 2800 544 2906  Q 606 3163 678 3459  Q 750 3756 806 4031  Q 863 4088 897 4172  Q 931 4256 956 4356  Q 981 4456 1009 4553  Q 1038 4650 1088 4738  Q 1119 4706 1194 4709  Q 1269 4713 1288 4750  Q 1325 4688 1425 4647  Q 1525 4606 1588 4619  z \" transform=\"scale(0.015625)\"/>\n",
       "      <path id=\"PermanentMarker-Regular-73\" d=\"M 100 2813  Q 144 2944 241 3037  Q 338 3131 453 3197  Q 569 3263 694 3306  Q 819 3350 931 3381  Q 1181 3488 1465 3584  Q 1750 3681 2047 3756  Q 2344 3831 2656 3853  Q 2969 3875 3313 3775  Q 3331 3713 3368 3656  Q 3406 3600 3447 3544  Q 3488 3488 3519 3434  Q 3550 3381 3556 3325  Q 3619 3269 3656 3203  Q 3694 3138 3669 3031  Q 3606 2981 3547 2940  Q 3488 2900 3419 2869  Q 3188 2925 2950 2906  Q 2713 2888 2525 2875  Q 2469 2931 2391 2931  Q 2313 2931 2228 2906  Q 2144 2881 2059 2856  Q 1975 2831 1900 2844  Q 1838 2794 1747 2778  Q 1656 2763 1550 2750  Q 1544 2719 1562 2709  Q 1581 2700 1569 2669  Q 1606 2625 1665 2606  Q 1725 2588 1790 2569  Q 1856 2550 1906 2522  Q 1956 2494 1975 2431  Q 2069 2431 2137 2387  Q 2206 2344 2250 2281  Q 2294 2219 2316 2147  Q 2338 2075 2338 2019  Q 2356 1969 2381 1975  Q 2406 1981 2438 1950  Q 2456 1869 2531 1784  Q 2606 1700 2650 1600  Q 2663 1444 2669 1322  Q 2675 1200 2625 1075  Q 2531 844 2365 662  Q 2200 481 1990 340  Q 1781 200 1543 100  Q 1306 0 1081 -69  Q 1056 -63 1031 -69  Q 1006 -75 1019 -38  Q 969 -81 909 -93  Q 850 -106 781 -103  Q 713 -100 641 -94  Q 569 -88 506 -100  Q 463 -56 428 -15  Q 394 25 375 88  Q 344 88 347 119  Q 350 150 325 150  Q 363 213 359 222  Q 356 231 340 237  Q 325 244 312 253  Q 300 263 306 281  Q 331 331 325 397  Q 319 463 312 531  Q 306 600 322 662  Q 338 725 413 763  Q 625 738 815 778  Q 1006 819 1175 894  Q 1344 969 1497 1056  Q 1650 1144 1800 1213  Q 1819 1269 1853 1306  Q 1888 1344 1925 1375  Q 1963 1406 1994 1443  Q 2025 1481 2038 1538  Q 2044 1581 2016 1590  Q 1988 1600 1988 1638  L 1919 1656  Q 1800 1725 1650 1772  Q 1500 1819 1394 1875  Q 1325 1838 1265 1856  Q 1206 1875 1113 1894  Q 900 1906 703 1937  Q 506 1969 325 2050  Q 313 2081 294 2106  Q 275 2131 225 2119  Q 188 2169 150 2216  Q 113 2263 81 2319  Q 94 2394 100 2447  Q 106 2500 63 2550  Q 88 2631 100 2681  Q 113 2731 100 2813  z \" transform=\"scale(0.015625)\"/>\n",
       "      <path id=\"PermanentMarker-Regular-20\" transform=\"scale(0.015625)\"/>\n",
       "      <path id=\"PermanentMarker-Regular-50\" d=\"M 281 1763  Q 288 1788 309 1784  Q 331 1781 350 1788  Q 300 1838 287 1922  Q 275 2006 225 2063  Q 238 2094 247 2125  Q 256 2156 300 2150  Q 281 2288 306 2406  Q 331 2525 384 2631  Q 438 2738 509 2841  Q 581 2944 650 3050  Q 706 3063 718 3041  Q 731 3019 763 3050  Q 863 3119 900 3203  Q 938 3288 938 3388  Q 994 3550 1066 3709  Q 1138 3869 1231 4006  Q 1325 4144 1431 4247  Q 1538 4350 1663 4406  Q 1750 4481 1884 4543  Q 2019 4606 2172 4640  Q 2325 4675 2487 4678  Q 2650 4681 2788 4644  Q 2819 4631 2825 4659  Q 2831 4688 2856 4688  Q 3169 4650 3416 4562  Q 3663 4475 3838 4319  Q 3956 4131 4062 3915  Q 4169 3700 4228 3465  Q 4288 3231 4281 2981  Q 4275 2731 4175 2481  Q 3956 2206 3643 2040  Q 3331 1875 2972 1765  Q 2613 1656 2228 1587  Q 1844 1519 1481 1438  Q 1488 1269 1481 1078  Q 1475 888 1440 697  Q 1406 506 1340 325  Q 1275 144 1163 -13  Q 1038 -6 903 -37  Q 769 -69 663 -100  Q 613 -69 566 -41  Q 519 -13 450 -6  Q 469 69 416 150  Q 363 231 309 309  Q 256 388 240 466  Q 225 544 313 606  Q 263 650 263 744  Q 288 719 325 719  Q 313 831 353 987  Q 394 1144 422 1297  Q 450 1450 431 1578  Q 413 1706 281 1763  z M 1906 3225  Q 1881 3156 1865 3103  Q 1850 3050 1831 3006  Q 1813 2963 1791 2919  Q 1769 2875 1744 2819  Q 1756 2781 1793 2762  Q 1831 2744 1844 2706  Q 1931 2750 2018 2772  Q 2106 2794 2193 2806  Q 2281 2819 2368 2837  Q 2456 2856 2550 2900  Q 2644 2944 2747 2972  Q 2850 3000 2950 3031  Q 3050 3063 3144 3103  Q 3238 3144 3306 3213  Q 3219 3294 3044 3356  Q 2869 3419 2666 3434  Q 2463 3450 2259 3406  Q 2056 3363 1906 3225  z \" transform=\"scale(0.015625)\"/>\n",
       "      <path id=\"PermanentMarker-Regular-44\" d=\"M 613 -69  Q 431 -25 334 78  Q 238 181 191 322  Q 144 463 128 631  Q 113 800 94 981  Q 119 1063 159 1119  Q 200 1175 194 1275  Q 263 1475 319 1662  Q 375 1850 394 2050  Q 431 2106 469 2125  Q 519 2481 481 2856  Q 444 3231 356 3550  Q 363 3619 375 3653  Q 388 3688 375 3713  Q 363 3769 413 3769  Q 463 3769 513 3769  Q 513 3881 472 3990  Q 431 4100 394 4244  Q 444 4356 462 4462  Q 481 4569 531 4656  Q 731 4594 925 4512  Q 1119 4431 1306 4353  Q 1494 4275 1675 4203  Q 1856 4131 2031 4088  Q 2300 3894 2584 3703  Q 2869 3513 3103 3284  Q 3338 3056 3494 2762  Q 3650 2469 3675 2069  Q 3663 2031 3656 2006  Q 3650 1981 3644 1956  Q 3638 1931 3638 1900  Q 3638 1869 3638 1813  Q 3413 1419 3069 1150  Q 2725 881 2319 675  Q 1913 469 1472 297  Q 1031 125 613 -69  z M 1225 3475  Q 1169 3475 1144 3450  Q 1219 3169 1256 2919  Q 1294 2669 1297 2419  Q 1300 2169 1269 1906  Q 1238 1644 1181 1338  Q 1263 1344 1325 1369  Q 1388 1394 1453 1425  Q 1519 1456 1591 1481  Q 1663 1506 1756 1513  Q 1781 1563 1822 1591  Q 1863 1619 1894 1650  Q 2050 1713 2206 1781  Q 2363 1850 2494 1937  Q 2625 2025 2731 2137  Q 2838 2250 2906 2406  Q 2856 2500 2784 2565  Q 2713 2631 2634 2697  Q 2556 2763 2484 2834  Q 2413 2906 2369 3000  Q 2269 3013 2194 3053  Q 2119 3094 2050 3134  Q 1981 3175 1903 3212  Q 1825 3250 1719 3256  Q 1556 3344 1425 3378  Q 1294 3413 1225 3475  z \" transform=\"scale(0.015625)\"/>\n",
       "      <path id=\"PermanentMarker-Regular-49\" d=\"M 106 -75  Q 19 -19 -34 68  Q -88 156 -122 256  Q -156 356 -178 465  Q -200 575 -225 675  Q -225 763 -187 803  Q -150 844 -106 881  Q 44 888 162 906  Q 281 925 393 944  Q 506 963 618 978  Q 731 994 863 994  Q 956 1188 1037 1366  Q 1119 1544 1194 1706  Q 1231 1863 1290 1997  Q 1350 2131 1406 2253  Q 1463 2375 1506 2497  Q 1550 2619 1563 2756  Q 1638 2975 1697 3159  Q 1756 3344 1788 3600  Q 1550 3563 1406 3528  Q 1263 3494 1200 3463  Q 1075 3469 1003 3512  Q 931 3556 887 3618  Q 844 3681 812 3762  Q 781 3844 738 3931  Q 763 3988 750 4097  Q 738 4206 675 4256  Q 725 4269 750 4341  Q 775 4413 756 4450  Q 863 4481 981 4490  Q 1100 4500 1215 4509  Q 1331 4519 1437 4534  Q 1544 4550 1619 4600  Q 1944 4613 2297 4625  Q 2650 4638 2950 4656  Q 3063 4619 3209 4619  Q 3356 4619 3503 4600  Q 3650 4581 3765 4518  Q 3881 4456 3925 4300  Q 4019 4288 4066 4250  Q 4113 4213 4125 4159  Q 4138 4106 4134 4040  Q 4131 3975 4131 3913  Q 4031 3838 3878 3791  Q 3725 3744 3544 3716  Q 3363 3688 3166 3678  Q 2969 3669 2781 3663  Q 2750 3456 2672 3178  Q 2594 2900 2512 2634  Q 2431 2369 2372 2159  Q 2313 1950 2319 1888  Q 2256 1744 2215 1644  Q 2175 1544 2140 1456  Q 2106 1369 2072 1284  Q 2038 1200 1988 1094  L 2413 1094  Q 2425 1025 2469 1000  Q 2513 975 2563 956  Q 2613 938 2653 909  Q 2694 881 2694 819  Q 2813 788 2844 725  Q 2875 663 2859 591  Q 2844 519 2797 444  Q 2750 369 2706 313  Q 2650 325 2600 284  Q 2550 244 2506 194  Q 2325 219 2150 200  Q 1975 181 1825 169  Q 1794 163 1800 134  Q 1806 106 1788 94  Q 1594 156 1391 143  Q 1188 131 978 84  Q 769 38 550 -15  Q 331 -69 106 -75  z \" transform=\"scale(0.015625)\"/>\n",
       "     </defs>\n",
       "     <use xlink:href=\"#PermanentMarker-Regular-4d\"/>\n",
       "     <use xlink:href=\"#PermanentMarker-Regular-61\" x=\"97.363281\"/>\n",
       "     <use xlink:href=\"#PermanentMarker-Regular-74\" x=\"150.46875\"/>\n",
       "     <use xlink:href=\"#PermanentMarker-Regular-74\" x=\"198.417969\"/>\n",
       "     <use xlink:href=\"#PermanentMarker-Regular-27\" x=\"246.367188\"/>\n",
       "     <use xlink:href=\"#PermanentMarker-Regular-73\" x=\"272.929688\"/>\n",
       "     <use xlink:href=\"#PermanentMarker-Regular-20\" x=\"319.316406\"/>\n",
       "     <use xlink:href=\"#PermanentMarker-Regular-50\" x=\"356.328125\"/>\n",
       "     <use xlink:href=\"#PermanentMarker-Regular-44\" x=\"420.292969\"/>\n",
       "     <use xlink:href=\"#PermanentMarker-Regular-49\" x=\"470.179688\"/>\n",
       "    </g>\n",
       "   </g>\n",
       "  </g>\n",
       " </g>\n",
       "</svg>"
      ],
      "text/plain": [
       "<IPython.core.display.SVG object>"
      ]
     },
     "execution_count": 13,
     "metadata": {},
     "output_type": "execute_result"
    }
   ],
   "source": [
    "# print(logo_file_path)\n",
    "SVG(filename=logo_file_path)"
   ]
  },
  {
   "cell_type": "markdown",
   "metadata": {},
   "source": [
    "#4F52FF: This keeps the same hue but maxes out the value, creating a more vibrant, pure blue-violet.\n",
    "#4FD6FF: This increases both saturation and value, resulting in a brighter, more electric blue-violet.\n",
    "#874FFF: This shifts the hue slightly towards a true blue while increasing saturation and value, creating a neon blue with violet undertones."
   ]
  },
  {
   "cell_type": "markdown",
   "metadata": {},
   "source": [
    "| END | \n",
    "|-|"
   ]
  },
  {
   "cell_type": "code",
   "execution_count": null,
   "metadata": {},
   "outputs": [],
   "source": []
  }
 ],
 "metadata": {
  "kernelspec": {
   "display_name": "sip_venv",
   "language": "python",
   "name": "python3"
  },
  "language_info": {
   "codemirror_mode": {
    "name": "ipython",
    "version": 3
   },
   "file_extension": ".py",
   "mimetype": "text/x-python",
   "name": "python",
   "nbconvert_exporter": "python",
   "pygments_lexer": "ipython3",
   "version": "3.11.1"
  }
 },
 "nbformat": 4,
 "nbformat_minor": 2
}
