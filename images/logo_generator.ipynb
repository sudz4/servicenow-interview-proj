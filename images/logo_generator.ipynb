{
 "cells": [
  {
   "cell_type": "markdown",
   "metadata": {},
   "source": [
    "As a Solution Consultant;\n",
    "I want to be able to label my ServiceNow demo instances with custom (transparent obviously) UI16 logos in a way that looks professional and sleek;\n",
    "so that I can feel confident which instance I am working in without having to strain my eyes to read the instance URL (i.e.,https://dev123456.service-now.com/ vs. https://nowlearning-nlinst12345678-0001.lab.service-now.com/)."
   ]
  },
  {
   "cell_type": "code",
   "execution_count": 10,
   "metadata": {},
   "outputs": [],
   "source": [
    "import matplotlib.pyplot as plt\n",
    "from matplotlib import font_manager as fm\n",
    "# display SVG in Jupyter\n",
    "from IPython.display import SVG"
   ]
  },
  {
   "cell_type": "markdown",
   "metadata": {},
   "source": [
    "| ServiceNow UI16 Custom logos (text only) |\n",
    "|-|\n",
    "| Google Fonts |"
   ]
  },
  {
   "cell_type": "markdown",
   "metadata": {},
   "source": [
    "As a Solution Consultant;\n",
    "I want to be able to label my ServiceNow demo instances with custom (transparent obviously) UI16 logos in a way that looks professional and sleek;\n",
    "so that I can feel confident which instance I am working in without having to strain my eyes to read the instance URL (i.e.,https://dev123456.service-now.com/ vs. https://nowlearning-nlinst12345678-0001.lab.service-now.com/)."
   ]
  },
  {
   "cell_type": "code",
   "execution_count": 25,
   "metadata": {},
   "outputs": [],
   "source": [
    "# set the test\n",
    "# text = \"AECOM\"\n",
    "# text = \"PDI Instance #1\"\n",
    "text = \"GenAI Lab Instance\"\n",
    "# text = \"Matt Sutherland DEV\"\n",
    "# color = \"#41B6D2\"  # AECOM blue\n",
    "# color = \"#FF0000\"  # red\n",
    "# color = \"#0072C6\"  # ServiceNow blue\n",
    "# neon cyberpunk purple electric\n",
    "color = \"#bf00ff\"\n",
    "# color = \"#62d84e\"  # ServiceNow green\n",
    "# save the font path object\n",
    "font_path = \"/Users/sudz4/Desktop/SERVICENOW-INTERVIEW/servicenow-interview-proj/images/google_fonts/BlackOpsOne-Regular.ttf\"\n",
    "# font_path = \"/Users/sudz4/Desktop/SERVICENOW-INTERVIEW/servicenow-interview-proj/images/google_fonts/PermanentMarker-Regular.ttf\"\n",
    "# font_path = \"google_fonts/BlackOpsOne-Regular.ttf\"\n",
    "font_properties = fm.FontProperties(fname=font_path, size=24)\n",
    "\n",
    "# get appropriate ServiceNow UI16 logo sizing correct\n",
    "\"\"\" \n",
    "idea here is to get the appropriate aspect ratio for the logo.\n",
    "a lot of logos end up looking jacked up because the aspect ratio is off.\n",
    "\"\"\"\n",
    "aspect_ratio = 164 / 32\n",
    "fig_width = 2  # arbitrary base size in inches\n",
    "fig_height = fig_width / aspect_ratio\n",
    "\n",
    "# figure and axis with the adjusted size\n",
    "fig, ax = plt.subplots(figsize=(fig_width, fig_height), dpi=80)\n",
    "ax.text(0.5, 0.5, text, color=color, fontproperties=font_properties, ha='center', va='center')\n",
    "ax.set_facecolor('none')\n",
    "ax.axis('off')\n",
    "\n",
    "# save SVG\n",
    "logo_file_path = \"/Users/sudz4/Desktop/SERVICENOW-INTERVIEW/servicenow-interview-proj/images/LOGOS_output/GENAILAB.svg\"\n",
    "plt.savefig(logo_file_path, format='svg', transparent=True, bbox_inches='tight', pad_inches=0)\n",
    "plt.close()\n"
   ]
  },
  {
   "cell_type": "code",
   "execution_count": 26,
   "metadata": {},
   "outputs": [
    {
     "data": {
      "image/svg+xml": [
       "<svg xmlns:xlink=\"http://www.w3.org/1999/xlink\" xmlns=\"http://www.w3.org/2000/svg\" width=\"251.2725pt\" height=\"21.635122pt\" viewBox=\"0 0 251.2725 21.635122\" version=\"1.1\">\n",
       " <metadata>\n",
       "  <rdf:RDF xmlns:dc=\"http://purl.org/dc/elements/1.1/\" xmlns:cc=\"http://creativecommons.org/ns#\" xmlns:rdf=\"http://www.w3.org/1999/02/22-rdf-syntax-ns#\">\n",
       "   <cc:Work>\n",
       "    <dc:type rdf:resource=\"http://purl.org/dc/dcmitype/StillImage\"/>\n",
       "    <dc:date>2024-08-01T21:28:12.865765</dc:date>\n",
       "    <dc:format>image/svg+xml</dc:format>\n",
       "    <dc:creator>\n",
       "     <cc:Agent>\n",
       "      <dc:title>Matplotlib v3.9.1, https://matplotlib.org/</dc:title>\n",
       "     </cc:Agent>\n",
       "    </dc:creator>\n",
       "   </cc:Work>\n",
       "  </rdf:RDF>\n",
       " </metadata>\n",
       " <defs>\n",
       "  <style type=\"text/css\">*{stroke-linejoin: round; stroke-linecap: butt}</style>\n",
       " </defs>\n",
       " <g id=\"figure_1\">\n",
       "  <g id=\"patch_1\">\n",
       "   <path d=\"M 0 21.635122  L 251.2725 21.635122  L 251.2725 0  L 0 0  L 0 21.635122  z \" style=\"fill: none\"/>\n",
       "  </g>\n",
       "  <g id=\"axes_1\">\n",
       "   <g id=\"text_1\">\n",
       "    <!-- GenAI Lab Instance -->\n",
       "    <g style=\"fill: #bf00ff\" transform=\"translate(0 17.338811) scale(0.24 -0.24)\">\n",
       "     <defs>\n",
       "      <path id=\"BlackOpsOne-Regular-47\" d=\"M 1188 0  L 359 828  L 359 3319  L 1188 4147  L 1741 4147  L 1741 828  L 2925 828  L 2925 0  L 1188 0  z M 2988 2903  L 2988 3319  L 1959 3319  L 1959 4147  L 3644 4147  L 4369 3319  L 4369 2903  L 2988 2903  z M 3144 0  L 3144 1478  L 2472 1478  L 2472 2300  L 4369 2300  L 4369 0  L 3144 0  z \" transform=\"scale(0.015625)\"/>\n",
       "      <path id=\"BlackOpsOne-Regular-65\" d=\"M 1125 0  L 297 828  L 297 2491  L 1125 3319  L 1678 3319  L 1678 0  L 1125 0  z M 1897 1331  L 1897 1909  L 2625 1909  L 2625 2491  L 1897 2491  L 1897 3319  L 3069 3319  L 3897 2491  L 3897 1331  L 1897 1331  z M 1897 0  L 1897 775  L 3753 775  L 3753 416  L 3341 0  L 1897 0  z \" transform=\"scale(0.015625)\"/>\n",
       "      <path id=\"BlackOpsOne-Regular-6e\" d=\"M 2538 0  L 2538 2491  L 1944 2491  L 1944 2853  L 2406 3319  L 3175 3319  L 3922 2572  L 3922 0  L 2538 0  z M 325 0  L 325 3319  L 1719 3319  L 1719 0  L 325 0  z \" transform=\"scale(0.015625)\"/>\n",
       "      <path id=\"BlackOpsOne-Regular-41\" d=\"M 3263 0  L 3088 453  L 1731 453  L 2019 1275  L 2769 1275  L 1659 4147  L 3006 4147  L 4659 0  L 3263 0  z M 28 0  L 1509 3959  L 2122 2313  L 1363 0  L 28 0  z \" transform=\"scale(0.015625)\"/>\n",
       "      <path id=\"BlackOpsOne-Regular-49\" d=\"M 303 0  L 303 884  L 719 884  L 719 3266  L 303 3266  L 303 4147  L 2516 4147  L 2516 3266  L 2100 3266  L 2100 884  L 2516 884  L 2516 0  L 303 0  z \" transform=\"scale(0.015625)\"/>\n",
       "      <path id=\"BlackOpsOne-Regular-20\" transform=\"scale(0.015625)\"/>\n",
       "      <path id=\"BlackOpsOne-Regular-4c\" d=\"M 366 0  L 366 4147  L 1747 4147  L 1747 0  L 366 0  z M 1966 0  L 1966 828  L 2650 828  L 2650 1353  L 3903 1353  L 3903 0  L 1966 0  z \" transform=\"scale(0.015625)\"/>\n",
       "      <path id=\"BlackOpsOne-Regular-61\" d=\"M 2513 0  L 2513 2491  L 547 2491  L 547 2903  L 963 3319  L 3034 3319  L 3863 2491  L 3863 0  L 2513 0  z M 825 0  L 269 547  L 269 1378  L 825 1931  L 2294 1931  L 2294 1356  L 1581 1356  L 1581 775  L 2294 775  L 2294 409  L 1881 0  L 825 0  z \" transform=\"scale(0.015625)\"/>\n",
       "      <path id=\"BlackOpsOne-Regular-62\" d=\"M 325 0  L 325 4584  L 1706 4584  L 1706 0  L 325 0  z M 1925 0  L 1925 775  L 2544 775  L 2544 2491  L 1925 2491  L 1925 2909  L 2331 3319  L 3088 3319  L 3919 2491  L 3919 828  L 3088 0  L 1925 0  z \" transform=\"scale(0.015625)\"/>\n",
       "      <path id=\"BlackOpsOne-Regular-73\" d=\"M 2513 0  L 2513 1253  L 1019 1253  L 300 1944  L 300 2575  L 1047 3319  L 1600 3319  L 1600 2147  L 3175 2147  L 3894 1422  L 3894 775  L 3122 0  L 2513 0  z M 2513 2450  L 2513 2709  L 1819 2709  L 1819 3319  L 3288 3319  L 3781 2825  L 3781 2450  L 2513 2450  z M 872 0  L 297 684  L 297 950  L 1681 950  L 1681 609  L 2294 609  L 2294 0  L 872 0  z \" transform=\"scale(0.015625)\"/>\n",
       "      <path id=\"BlackOpsOne-Regular-74\" d=\"M 1225 0  L 394 828  L 394 2491  L 119 2491  L 119 3319  L 394 3319  L 394 3678  L 1775 4147  L 1775 828  L 2688 828  L 2688 0  L 1225 0  z M 1994 2491  L 1994 3319  L 2738 3319  L 2738 2491  L 1994 2491  z \" transform=\"scale(0.015625)\"/>\n",
       "      <path id=\"BlackOpsOne-Regular-63\" d=\"M 1125 0  L 297 828  L 297 2491  L 1125 3319  L 1678 3319  L 1678 0  L 1125 0  z M 2509 1994  L 2509 2491  L 1897 2491  L 1897 3319  L 3063 3319  L 3891 2491  L 3891 1994  L 2509 1994  z M 1897 0  L 1897 775  L 2509 775  L 2509 1191  L 3891 1191  L 3891 828  L 3063 0  L 1897 0  z \" transform=\"scale(0.015625)\"/>\n",
       "     </defs>\n",
       "     <use xlink:href=\"#BlackOpsOne-Regular-47\"/>\n",
       "     <use xlink:href=\"#BlackOpsOne-Regular-65\" x=\"72.998047\"/>\n",
       "     <use xlink:href=\"#BlackOpsOne-Regular-6e\" x=\"137.988281\"/>\n",
       "     <use xlink:href=\"#BlackOpsOne-Regular-41\" x=\"204.199219\"/>\n",
       "     <use xlink:href=\"#BlackOpsOne-Regular-49\" x=\"277.441406\"/>\n",
       "     <use xlink:href=\"#BlackOpsOne-Regular-20\" x=\"321.484375\"/>\n",
       "     <use xlink:href=\"#BlackOpsOne-Regular-4c\" x=\"347.363281\"/>\n",
       "     <use xlink:href=\"#BlackOpsOne-Regular-61\" x=\"409.521484\"/>\n",
       "     <use xlink:href=\"#BlackOpsOne-Regular-62\" x=\"474.511719\"/>\n",
       "     <use xlink:href=\"#BlackOpsOne-Regular-20\" x=\"540.380859\"/>\n",
       "     <use xlink:href=\"#BlackOpsOne-Regular-49\" x=\"566.259766\"/>\n",
       "     <use xlink:href=\"#BlackOpsOne-Regular-6e\" x=\"610.302734\"/>\n",
       "     <use xlink:href=\"#BlackOpsOne-Regular-73\" x=\"676.513672\"/>\n",
       "     <use xlink:href=\"#BlackOpsOne-Regular-74\" x=\"740.722656\"/>\n",
       "     <use xlink:href=\"#BlackOpsOne-Regular-61\" x=\"786.181641\"/>\n",
       "     <use xlink:href=\"#BlackOpsOne-Regular-6e\" x=\"851.171875\"/>\n",
       "     <use xlink:href=\"#BlackOpsOne-Regular-63\" x=\"917.382812\"/>\n",
       "     <use xlink:href=\"#BlackOpsOne-Regular-65\" x=\"981.982422\"/>\n",
       "    </g>\n",
       "   </g>\n",
       "  </g>\n",
       " </g>\n",
       "</svg>"
      ],
      "text/plain": [
       "<IPython.core.display.SVG object>"
      ]
     },
     "execution_count": 26,
     "metadata": {},
     "output_type": "execute_result"
    }
   ],
   "source": [
    "# print(logo_file_path)\n",
    "SVG(filename=logo_file_path)"
   ]
  },
  {
   "cell_type": "markdown",
   "metadata": {},
   "source": [
    "#4F52FF: This keeps the same hue but maxes out the value, creating a more vibrant, pure blue-violet.\n",
    "#4FD6FF: This increases both saturation and value, resulting in a brighter, more electric blue-violet.\n",
    "#874FFF: This shifts the hue slightly towards a true blue while increasing saturation and value, creating a neon blue with violet undertones."
   ]
  },
  {
   "cell_type": "markdown",
   "metadata": {},
   "source": [
    "| END | \n",
    "|-|"
   ]
  },
  {
   "cell_type": "code",
   "execution_count": null,
   "metadata": {},
   "outputs": [],
   "source": []
  }
 ],
 "metadata": {
  "kernelspec": {
   "display_name": "sip_venv",
   "language": "python",
   "name": "python3"
  },
  "language_info": {
   "codemirror_mode": {
    "name": "ipython",
    "version": 3
   },
   "file_extension": ".py",
   "mimetype": "text/x-python",
   "name": "python",
   "nbconvert_exporter": "python",
   "pygments_lexer": "ipython3",
   "version": "3.11.1"
  }
 },
 "nbformat": 4,
 "nbformat_minor": 2
}
