{
 "cells": [
  {
   "cell_type": "markdown",
   "metadata": {},
   "source": [
    "As a Solution Consultant;\n",
    "I want to be able to label my ServiceNow demo instances with custom (transparent obviously) UI16 logos in a way that looks professional and sleek;\n",
    "so that I can feel confident which instance I am working in without having to strain my eyes to read the instance URL (i.e.,https://dev123456.service-now.com/ vs. https://nowlearning-nlinst12345678-0001.lab.service-now.com/)."
   ]
  },
  {
   "cell_type": "code",
   "execution_count": 10,
   "metadata": {},
   "outputs": [],
   "source": [
    "import matplotlib.pyplot as plt\n",
    "from matplotlib import font_manager as fm\n",
    "# display SVG in Jupyter\n",
    "from IPython.display import SVG"
   ]
  },
  {
   "cell_type": "markdown",
   "metadata": {},
   "source": [
    "| ServiceNow UI16 Custom logos (text only) |\n",
    "|-|\n",
    "| Google Fonts |"
   ]
  },
  {
   "cell_type": "markdown",
   "metadata": {},
   "source": [
    "As a Solution Consultant;\n",
    "I want to be able to label my ServiceNow demo instances with custom (transparent obviously) UI16 logos in a way that looks professional and sleek;\n",
    "so that I can feel confident which instance I am working in without having to strain my eyes to read the instance URL (i.e.,https://dev123456.service-now.com/ vs. https://nowlearning-nlinst12345678-0001.lab.service-now.com/)."
   ]
  },
  {
   "cell_type": "code",
   "execution_count": 19,
   "metadata": {},
   "outputs": [],
   "source": [
    "# set the test\n",
    "# text = \"AECOM\"\n",
    "# text = \"PDI Instance #1\"\n",
    "text = \"SAMPro\"\n",
    "# text = \"Matt Sutherland DEV\"\n",
    "# color = \"#41B6D2\"  # AECOM blue\n",
    "# color = \"#FF0000\"  # red\n",
    "color = \"#0072C6\"  # ServiceNow blue\n",
    "# color = \"#62d84e\"  # ServiceNow green\n",
    "# save the font path object\n",
    "font_path = \"/Users/sudz4/Desktop/SERVICENOW-INTERVIEW/servicenow-interview-proj/images/google_fonts/BlackOpsOne-Regular.ttf\"\n",
    "# font_path = \"/Users/sudz4/Desktop/SERVICENOW-INTERVIEW/servicenow-interview-proj/images/google_fonts/PermanentMarker-Regular.ttf\"\n",
    "# font_path = \"google_fonts/BlackOpsOne-Regular.ttf\"\n",
    "font_properties = fm.FontProperties(fname=font_path, size=24)\n",
    "\n",
    "# get appropriate ServiceNow UI16 logo sizing correct\n",
    "\"\"\" \n",
    "idea here is to get the appropriate aspect ratio for the logo.\n",
    "a lot of logos end up looking jacked up because the aspect ratio is off.\n",
    "\"\"\"\n",
    "aspect_ratio = 164 / 32\n",
    "fig_width = 2  # arbitrary base size in inches\n",
    "fig_height = fig_width / aspect_ratio\n",
    "\n",
    "# figure and axis with the adjusted size\n",
    "fig, ax = plt.subplots(figsize=(fig_width, fig_height), dpi=80)\n",
    "ax.text(0.5, 0.5, text, color=color, fontproperties=font_properties, ha='center', va='center')\n",
    "ax.set_facecolor('none')\n",
    "ax.axis('off')\n",
    "\n",
    "# save SVG\n",
    "logo_file_path = \"/Users/sudz4/Desktop/SERVICENOW-INTERVIEW/servicenow-interview-proj/images/LOGOS_output/SAMP_logo.svg\"\n",
    "plt.savefig(logo_file_path, format='svg', transparent=True, bbox_inches='tight', pad_inches=0)\n",
    "plt.close()\n"
   ]
  },
  {
   "cell_type": "code",
   "execution_count": 20,
   "metadata": {},
   "outputs": [
    {
     "data": {
      "image/svg+xml": [
       "<svg xmlns:xlink=\"http://www.w3.org/1999/xlink\" xmlns=\"http://www.w3.org/2000/svg\" width=\"111.6pt\" height=\"21.635122pt\" viewBox=\"0 0 111.6 21.635122\" version=\"1.1\">\n",
       " <metadata>\n",
       "  <rdf:RDF xmlns:dc=\"http://purl.org/dc/elements/1.1/\" xmlns:cc=\"http://creativecommons.org/ns#\" xmlns:rdf=\"http://www.w3.org/1999/02/22-rdf-syntax-ns#\">\n",
       "   <cc:Work>\n",
       "    <dc:type rdf:resource=\"http://purl.org/dc/dcmitype/StillImage\"/>\n",
       "    <dc:date>2024-07-23T23:37:04.338106</dc:date>\n",
       "    <dc:format>image/svg+xml</dc:format>\n",
       "    <dc:creator>\n",
       "     <cc:Agent>\n",
       "      <dc:title>Matplotlib v3.9.1, https://matplotlib.org/</dc:title>\n",
       "     </cc:Agent>\n",
       "    </dc:creator>\n",
       "   </cc:Work>\n",
       "  </rdf:RDF>\n",
       " </metadata>\n",
       " <defs>\n",
       "  <style type=\"text/css\">*{stroke-linejoin: round; stroke-linecap: butt}</style>\n",
       " </defs>\n",
       " <g id=\"figure_1\">\n",
       "  <g id=\"patch_1\">\n",
       "   <path d=\"M 0 21.635122  L 111.6 21.635122  L 111.6 0  L 0 0  L 0 21.635122  z \" style=\"fill: none\"/>\n",
       "  </g>\n",
       "  <g id=\"axes_1\">\n",
       "   <g id=\"text_1\">\n",
       "    <!-- SAMPro -->\n",
       "    <g style=\"fill: #0072c6\" transform=\"translate(3.48375 17.338811) scale(0.24 -0.24)\">\n",
       "     <defs>\n",
       "      <path id=\"BlackOpsOne-Regular-53\" d=\"M 2928 0  L 2928 1553  L 1134 1553  L 303 2384  L 303 3319  L 1134 4147  L 1603 4147  L 1603 2675  L 3509 2675  L 4313 1844  L 4313 828  L 3484 0  L 2928 0  z M 2928 2984  L 2928 3400  L 1822 3400  L 1822 4147  L 3481 4147  L 4200 3425  L 4200 2984  L 2928 2984  z M 1000 0  L 303 828  L 303 1244  L 1684 1244  L 1684 750  L 2709 750  L 2709 0  L 1000 0  z \" transform=\"scale(0.015625)\"/>\n",
       "      <path id=\"BlackOpsOne-Regular-41\" d=\"M 3263 0  L 3088 453  L 1731 453  L 2019 1275  L 2769 1275  L 1659 4147  L 3006 4147  L 4659 0  L 3263 0  z M 28 0  L 1509 3959  L 2122 2313  L 1363 0  L 28 0  z \" transform=\"scale(0.015625)\"/>\n",
       "      <path id=\"BlackOpsOne-Regular-4d\" d=\"M 2828 0  L 369 4147  L 1838 4147  L 2950 2303  L 3825 3803  L 3825 1716  L 2828 0  z M 4028 0  L 4028 4147  L 5409 4147  L 5409 0  L 4028 0  z M 366 0  L 366 3763  L 1656 1597  L 1656 0  L 366 0  z \" transform=\"scale(0.015625)\"/>\n",
       "      <path id=\"BlackOpsOne-Regular-50\" d=\"M 1941 1066  L 1941 1897  L 2944 1897  L 2944 3319  L 1941 3319  L 1941 4147  L 3491 4147  L 4319 3319  L 4319 1897  L 3491 1066  L 1941 1066  z M 366 0  L 366 4147  L 1722 4147  L 1722 0  L 366 0  z \" transform=\"scale(0.015625)\"/>\n",
       "      <path id=\"BlackOpsOne-Regular-72\" d=\"M 325 0  L 325 3319  L 1706 3319  L 1706 0  L 325 0  z M 2516 1684  L 2516 2491  L 1928 2491  L 1928 2853  L 2391 3319  L 3228 3319  L 3900 2544  L 3900 1684  L 2516 1684  z \" transform=\"scale(0.015625)\"/>\n",
       "      <path id=\"BlackOpsOne-Regular-6f\" d=\"M 1125 0  L 297 828  L 297 2491  L 1125 3319  L 2053 3319  L 2053 2491  L 1694 2491  L 1694 775  L 2053 775  L 2053 0  L 1125 0  z M 2272 0  L 2272 775  L 2616 775  L 2616 2491  L 2272 2491  L 2272 3319  L 3197 3319  L 4025 2491  L 4025 828  L 3197 0  L 2272 0  z \" transform=\"scale(0.015625)\"/>\n",
       "     </defs>\n",
       "     <use xlink:href=\"#BlackOpsOne-Regular-53\"/>\n",
       "     <use xlink:href=\"#BlackOpsOne-Regular-41\" x=\"72.119141\"/>\n",
       "     <use xlink:href=\"#BlackOpsOne-Regular-4d\" x=\"145.361328\"/>\n",
       "     <use xlink:href=\"#BlackOpsOne-Regular-50\" x=\"235.595703\"/>\n",
       "     <use xlink:href=\"#BlackOpsOne-Regular-72\" x=\"306.884766\"/>\n",
       "     <use xlink:href=\"#BlackOpsOne-Regular-6f\" x=\"368.408203\"/>\n",
       "    </g>\n",
       "   </g>\n",
       "  </g>\n",
       " </g>\n",
       "</svg>"
      ],
      "text/plain": [
       "<IPython.core.display.SVG object>"
      ]
     },
     "execution_count": 20,
     "metadata": {},
     "output_type": "execute_result"
    }
   ],
   "source": [
    "# print(logo_file_path)\n",
    "SVG(filename=logo_file_path)"
   ]
  },
  {
   "cell_type": "markdown",
   "metadata": {},
   "source": [
    "#4F52FF: This keeps the same hue but maxes out the value, creating a more vibrant, pure blue-violet.\n",
    "#4FD6FF: This increases both saturation and value, resulting in a brighter, more electric blue-violet.\n",
    "#874FFF: This shifts the hue slightly towards a true blue while increasing saturation and value, creating a neon blue with violet undertones."
   ]
  },
  {
   "cell_type": "markdown",
   "metadata": {},
   "source": [
    "| END | \n",
    "|-|"
   ]
  },
  {
   "cell_type": "code",
   "execution_count": null,
   "metadata": {},
   "outputs": [],
   "source": []
  }
 ],
 "metadata": {
  "kernelspec": {
   "display_name": "sip_venv",
   "language": "python",
   "name": "python3"
  },
  "language_info": {
   "codemirror_mode": {
    "name": "ipython",
    "version": 3
   },
   "file_extension": ".py",
   "mimetype": "text/x-python",
   "name": "python",
   "nbconvert_exporter": "python",
   "pygments_lexer": "ipython3",
   "version": "3.11.1"
  }
 },
 "nbformat": 4,
 "nbformat_minor": 2
}
