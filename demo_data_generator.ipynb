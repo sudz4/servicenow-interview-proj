{
 "cells": [
  {
   "cell_type": "markdown",
   "metadata": {},
   "source": []
  },
  {
   "cell_type": "code",
   "execution_count": 30,
   "metadata": {},
   "outputs": [],
   "source": [
    "# Libraries\n",
    "import pandas as pd\n",
    "import numpy as np\n",
    "import requests\n",
    "import json\n",
    "import os\n",
    "import random"
   ]
  },
  {
   "cell_type": "code",
   "execution_count": 31,
   "metadata": {},
   "outputs": [],
   "source": [
    "from dotenv import load_dotenv"
   ]
  },
  {
   "cell_type": "code",
   "execution_count": 32,
   "metadata": {},
   "outputs": [
    {
     "data": {
      "text/plain": [
       "True"
      ]
     },
     "execution_count": 32,
     "metadata": {},
     "output_type": "execute_result"
    }
   ],
   "source": [
    "load_dotenv()"
   ]
  },
  {
   "cell_type": "code",
   "execution_count": 33,
   "metadata": {},
   "outputs": [],
   "source": [
    "\"\"\" \n",
    "SETUP Zone\n",
    "+ ServiceNow rest api url construction\n",
    "\"\"\"\n",
    "sn_table = 'em_event'\n",
    "# instance = os.getenv('pdi_instance')\n",
    "instance = os.getenv('demo_instance')\n",
    "# user = os.getenv('pdi_un')\n",
    "# pwd = os.getenv('pdi_pw')\n",
    "user = os.getenv('integration_un')\n",
    "pwd = os.getenv('integration_pw')"
   ]
  },
  {
   "cell_type": "code",
   "execution_count": 34,
   "metadata": {},
   "outputs": [
    {
     "name": "stdout",
     "output_type": "stream",
     "text": [
      "201\n"
     ]
    }
   ],
   "source": [
    "instance_api_url = f'https://{instance}.service-now.com/api/now/table/{sn_table}' \n",
    "# headers for the rest api\n",
    "headers = {\"Content-Type\":\"application/json\",\"Accept\":\"application/json\"}\n",
    "# generate random message key\n",
    "def generate_message_key():\n",
    "    return str(random.randint(100000, 999999))\n",
    "\n",
    "# dictionary\n",
    "event_data = {\n",
    "    \"source\": \"Python\",\n",
    "    \"node\": \"OWA-SD-01\",\n",
    "    \"type\": \"Alert\",\n",
    "    \"resource\": \"Resource-04\",\n",
    "    \"metric_name\": \"CPU Usage\",\n",
    "    \"event_class\": \"Performance\",\n",
    "    \"message_key\": generate_message_key(),\n",
    "    \"severity\": \"3\",  # minor\n",
    "    \"resolution_state\": \"New\",\n",
    "    \"state\": \"Processed\",\n",
    "    # \"alert\": \"Alert0010022\",\n",
    "    \"description\": \"New12 333EVENT This is a test system event\",\n",
    "    \"additional_info\": \"by sudz from rest api explorer\",\n",
    "}\n",
    "\n",
    "# REST API call\n",
    "response = requests.post(instance_api_url, auth=(user, pwd), headers=headers, data=json.dumps(event_data))\n",
    "\n",
    "print(response.status_code)"
   ]
  }
 ],
 "metadata": {
  "kernelspec": {
   "display_name": "sip_venv",
   "language": "python",
   "name": "python3"
  },
  "language_info": {
   "codemirror_mode": {
    "name": "ipython",
    "version": 3
   },
   "file_extension": ".py",
   "mimetype": "text/x-python",
   "name": "python",
   "nbconvert_exporter": "python",
   "pygments_lexer": "ipython3",
   "version": "3.11.1"
  }
 },
 "nbformat": 4,
 "nbformat_minor": 2
}
