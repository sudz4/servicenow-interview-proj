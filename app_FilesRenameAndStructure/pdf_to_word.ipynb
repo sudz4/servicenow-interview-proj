{
 "cells": [
  {
   "cell_type": "markdown",
   "metadata": {},
   "source": [
    "As an SC,\n",
    "I want the ability to change .pdf file types (ServiceNow Lab files) to .docx files at scale between (3-100),\n",
    "so that I can edit the labs and make notes in my preferred software text editing software (Microsoft Word). "
   ]
  },
  {
   "cell_type": "code",
   "execution_count": 2,
   "metadata": {},
   "outputs": [],
   "source": [
    "# libs\n",
    "import os\n",
    "from pdf2docx import Converter"
   ]
  },
  {
   "cell_type": "code",
   "execution_count": null,
   "metadata": {},
   "outputs": [],
   "source": [
    "# Path to the folder containing PDF files\n",
    "pdf_folder_path = '/Users/sudz4/Desktop/SERVICENOW-INTERVIEW/servicenow-interview-proj/app_FilesRenameAndStructure/pdfs/pdf_files_staging'\n",
    "docx_folder_path = '/Users/sudz4/Desktop/SERVICENOW-INTERVIEW/servicenow-interview-proj/learn_ServiceNowCIS/itam_sam_cis'\n",
    "\n",
    "# Ensure the output folder exists\n",
    "os.makedirs(docx_folder_path, exist_ok=True)\n",
    "\n",
    "# List all PDF files in the folder\n",
    "pdf_files = [file for file in os.listdir(pdf_folder_path) if file.endswith('.pdf')]\n",
    "\n",
    "# print(pdf_files)\n",
    "\n",
    "# Convert each PDF file to DOCX\n",
    "for pdf_file in pdf_files:\n",
    "    pdf_path = os.path.join(pdf_folder_path, pdf_file)\n",
    "    docx_file = os.path.splitext(pdf_file)[0] + '.docx'\n",
    "    docx_path = os.path.join(docx_folder_path, docx_file)\n",
    "\n",
    "    # Convert PDF to DOCX\n",
    "    cv = Converter(pdf_path)\n",
    "    cv.convert(docx_path)\n",
    "    cv.close()\n",
    "\n",
    "    print(f\"Converted {pdf_file} to {docx_file}\")\n",
    "\n",
    "print(\"All files have been converted.\")"
   ]
  },
  {
   "cell_type": "code",
   "execution_count": 3,
   "metadata": {},
   "outputs": [
    {
     "name": "stdout",
     "output_type": "stream",
     "text": [
      "Deleted 05.01-SN-SAMF-W010-Manage Software Product Lifecycles.pdf\n",
      "Deleted 02.02-SN-SAMF-W010-Import Software Installation Data.pdf\n",
      "Deleted 05.02-SN-SAMF-W010-Optimize Software Installations.pdf\n",
      "Deleted 02.04-SN-SAMF-W010-Normalize Software Discovery Models.pdf\n",
      "Deleted 04.01-SN-SAMF-W010-Create Software License Contract.pdf\n",
      "Deleted 03.01-SN-SAMF-W010-Manage Software Products and Models (1).pdf\n",
      "Deleted 02.01-SN-SAMF-W010-Import Software Entitlement Data.pdf\n",
      "Deleted 02.03-SN-SAMF-W010-Review Software Discovery Results.pdf\n",
      "Deleted 01.01-SN-SAMF-W010-Prepare the SAM Environment.pdf\n",
      "Deleted 04.04-SN-SAMF-W010-Publish and Request Software.pdf\n",
      "Deleted 03.02-SN-SAMF-W010-Manage Software Entitlements and Allocations.pdf\n",
      "Deleted 03.03-SN-SAMF-W010-Reconcile Software.pdf\n",
      "Deleted 04.02-SN-SAMF-W010-Software Spend Detection.pdf\n",
      "Deleted 05.03-SN-SAMF-W010-Manage Software Retirement.pdf\n",
      "Deleted 03.01-SN-SAMF-W010-Manage Software Products and Models.pdf\n",
      "Deleted 04.03-SN-SAMF-W010-Calculate License Change Projection Costs.pdf\n",
      "Deleted 04.05-SN-SAMF-W010-Source and Receive a Software Request.pdf\n",
      "Deleted 02.05-SN-SAMF-W010-Content Service and Job Results.pdf\n",
      "Deleted 04.06-SN-SAMF-W010-Remediate Software Licensing.pdf\n",
      "All PDF files have been deleted.\n"
     ]
    }
   ],
   "source": [
    "# #### could also add a delete the file OR better to move to the Zzzzzzz directory\n",
    "# # next program move the pdf files that are now converted to docx to the new ZZZzzzz dir\n",
    "# /Users/sudz4/Desktop/SERVICENOW-INTERVIEW/servicenow-interview-proj/ZZZZzzzz\n",
    "\n",
    "pdf_folder_path = '/Users/sudz4/Desktop/SERVICENOW-INTERVIEW/servicenow-interview-proj/app_FilesRenameAndStructure/pdfs/pdf_files_staging'\n",
    "pdf_files = [file for file in os.listdir(pdf_folder_path) if file.endswith('.pdf')]\n",
    "\n",
    "# Delete each PDF file\n",
    "for pdf_file in pdf_files:\n",
    "    pdf_path = os.path.join(pdf_folder_path, pdf_file)\n",
    "    try:\n",
    "        os.remove(pdf_path)\n",
    "        print(f\"Deleted {pdf_file}\")\n",
    "    except Exception as e:\n",
    "        print(f\"Failed to delete {pdf_file}: {e}\")\n",
    "\n",
    "print(\"\\nAll PDF files have been deleted.\")"
   ]
  }
 ],
 "metadata": {
  "kernelspec": {
   "display_name": "sip_venv",
   "language": "python",
   "name": "python3"
  },
  "language_info": {
   "codemirror_mode": {
    "name": "ipython",
    "version": 3
   },
   "file_extension": ".py",
   "mimetype": "text/x-python",
   "name": "python",
   "nbconvert_exporter": "python",
   "pygments_lexer": "ipython3",
   "version": "3.11.1"
  }
 },
 "nbformat": 4,
 "nbformat_minor": 2
}
