{
 "cells": [
  {
   "cell_type": "markdown",
   "metadata": {},
   "source": [
    "As an SC,\n",
    "I want the ability to change .pdf file types (ServiceNow Lab files) to .docx files at scale between (3-100),\n",
    "so that I can edit the labs and make notes in my preferred software text editing software (Microsoft Word). "
   ]
  },
  {
   "cell_type": "code",
   "execution_count": null,
   "metadata": {},
   "outputs": [],
   "source": [
    "/Users/sudz4/Desktop/SERVICENOW-INTERVIEW/servicenow-interview-proj/app_FilesRenameAndStructure/pdf_prgz"
   ]
  },
  {
   "cell_type": "code",
   "execution_count": 1,
   "metadata": {},
   "outputs": [],
   "source": [
    "# libs\n",
    "import os\n",
    "from pdf2docx import Converter"
   ]
  },
  {
   "cell_type": "code",
   "execution_count": null,
   "metadata": {},
   "outputs": [],
   "source": [
    "# Path to the folder containing PDF files\n",
    "pdf_folder_path = '/Users/sudz4/Desktop/SERVICENOW-INTERVIEW/servicenow-interview-proj/app_FilesRenameAndStructure/pdfs/pdf_files_staging'\n",
    "docx_folder_path = '/Users/sudz4/Desktop/SERVICENOW-INTERVIEW/servicenow-interview-proj/learn_ServiceNowCIS/itam_sam_cis'\n",
    "\n",
    "# Ensure the output folder exists\n",
    "os.makedirs(docx_folder_path, exist_ok=True)\n",
    "\n",
    "# List all PDF files in the folder\n",
    "pdf_files = [file for file in os.listdir(pdf_folder_path) if file.endswith('.pdf')]\n",
    "\n",
    "# print(pdf_files)\n",
    "\n",
    "# Convert each PDF file to DOCX\n",
    "for pdf_file in pdf_files:\n",
    "    pdf_path = os.path.join(pdf_folder_path, pdf_file)\n",
    "    docx_file = os.path.splitext(pdf_file)[0] + '.docx'\n",
    "    docx_path = os.path.join(docx_folder_path, docx_file)\n",
    "\n",
    "    # Convert PDF to DOCX\n",
    "    cv = Converter(pdf_path)\n",
    "    cv.convert(docx_path)\n",
    "    cv.close()\n",
    "\n",
    "    print(f\"Converted {pdf_file} to {docx_file}\")\n",
    "\n",
    "print(\"All files have been converted.\")"
   ]
  },
  {
   "cell_type": "code",
   "execution_count": null,
   "metadata": {},
   "outputs": [],
   "source": [
    "#### could also add a delete the file OR better to move to the Zzzzzzz directory\n",
    "# next program move the pdf files that are now converted to docx to the new ZZZzzzz dir\n",
    "/Users/sudz4/Desktop/SERVICENOW-INTERVIEW/servicenow-interview-proj/ZZZZzzzz\n",
    "\n",
    "\n",
    "\n",
    "\n",
    "\n",
    "\n",
    "\n",
    "\n",
    "\n"
   ]
  }
 ],
 "metadata": {
  "kernelspec": {
   "display_name": "sip_venv",
   "language": "python",
   "name": "python3"
  },
  "language_info": {
   "codemirror_mode": {
    "name": "ipython",
    "version": 3
   },
   "file_extension": ".py",
   "mimetype": "text/x-python",
   "name": "python",
   "nbconvert_exporter": "python",
   "pygments_lexer": "ipython3",
   "version": "3.11.1"
  }
 },
 "nbformat": 4,
 "nbformat_minor": 2
}
