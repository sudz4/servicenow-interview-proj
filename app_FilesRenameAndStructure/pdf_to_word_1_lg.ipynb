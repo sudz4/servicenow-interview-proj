{
 "cells": [
  {
   "cell_type": "markdown",
   "metadata": {},
   "source": [
    "XXXXxxxx"
   ]
  },
  {
   "cell_type": "code",
   "execution_count": 1,
   "metadata": {},
   "outputs": [],
   "source": [
    "# libs\n",
    "import os\n",
    "from pdf2docx import Converter"
   ]
  },
  {
   "cell_type": "code",
   "execution_count": 7,
   "metadata": {},
   "outputs": [
    {
     "name": "stdout",
     "output_type": "stream",
     "text": [
      "/Users/sudz4/Desktop/SERVICENOW-INTERVIEW/servicenow-interview-proj/interview_data/servicenow-washingtondc-intelligent-experiences-enus.pdf\n"
     ]
    }
   ],
   "source": [
    "# base folder path\n",
    "pdf_file_name = \"/\" + \"servicenow-washingtondc-intelligent-experiences-enus.pdf\"\n",
    "base_folder_path = \"/Users/sudz4/Desktop/SERVICENOW-INTERVIEW/servicenow-interview-proj/interview_data\"\n",
    "\n",
    "print(base_folder_path+pdf_file_name)"
   ]
  }
 ],
 "metadata": {
  "kernelspec": {
   "display_name": "sip_venv",
   "language": "python",
   "name": "python3"
  },
  "language_info": {
   "codemirror_mode": {
    "name": "ipython",
    "version": 3
   },
   "file_extension": ".py",
   "mimetype": "text/x-python",
   "name": "python",
   "nbconvert_exporter": "python",
   "pygments_lexer": "ipython3",
   "version": "3.11.1"
  }
 },
 "nbformat": 4,
 "nbformat_minor": 2
}
