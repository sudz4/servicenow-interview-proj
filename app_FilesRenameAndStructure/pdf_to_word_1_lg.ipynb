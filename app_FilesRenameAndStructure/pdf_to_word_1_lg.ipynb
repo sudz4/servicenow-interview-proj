{
 "cells": [
  {
   "cell_type": "markdown",
   "metadata": {},
   "source": [
    "XXXXxxxx"
   ]
  },
  {
   "cell_type": "code",
   "execution_count": 1,
   "metadata": {},
   "outputs": [],
   "source": [
    "# libs\n",
    "import os\n",
    "from pdf2docx import Converter"
   ]
  },
  {
   "cell_type": "code",
   "execution_count": 4,
   "metadata": {},
   "outputs": [],
   "source": [
    "# .pdf FILE path\n",
    "pdf_file_path = \"/Users/sudz4/Desktop/SERVICENOW-INTERVIEW/servicenow-interview-proj/interview_data/servicenow-washingtondc-intelligent-experiences-enus.pdf\"\n",
    "# .docx FOLDER path\n",
    "docx_folder_path = \"/Users/sudz4/Desktop/SERVICENOW-INTERVIEW/servicenow-interview-proj/data_GenAI\""
   ]
  },
  {
   "cell_type": "code",
   "execution_count": 5,
   "metadata": {},
   "outputs": [
    {
     "name": "stdout",
     "output_type": "stream",
     "text": [
      "[]\n"
     ]
    }
   ],
   "source": []
  }
 ],
 "metadata": {
  "kernelspec": {
   "display_name": "sip_venv",
   "language": "python",
   "name": "python3"
  },
  "language_info": {
   "codemirror_mode": {
    "name": "ipython",
    "version": 3
   },
   "file_extension": ".py",
   "mimetype": "text/x-python",
   "name": "python",
   "nbconvert_exporter": "python",
   "pygments_lexer": "ipython3",
   "version": "3.11.1"
  }
 },
 "nbformat": 4,
 "nbformat_minor": 2
}
