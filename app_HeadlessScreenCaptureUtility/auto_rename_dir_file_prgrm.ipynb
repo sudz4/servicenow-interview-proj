{
 "cells": [
  {
   "cell_type": "markdown",
   "metadata": {},
   "source": [
    "User Story\n",
    "| Role                      | Requirement                                        | Value                                                                                                                          |\n",
    "|-                          |--                                                  |---                                                                                                                             |\n",
    "| As a Solution Consultant, | I want an efficient way to record demo click steps,| so that I can more effectively communicate the value of (n) ServiceNow feature(s) to both colleagues, customers, and prospects.|\n"
   ]
  },
  {
   "cell_type": "code",
   "execution_count": 1,
   "metadata": {},
   "outputs": [],
   "source": [
    "# libs\n",
    "import os"
   ]
  },
  {
   "cell_type": "code",
   "execution_count": 6,
   "metadata": {},
   "outputs": [
    {
     "name": "stdout",
     "output_type": "stream",
     "text": [
      ".DS_Store\n"
     ]
    }
   ],
   "source": [
    "# look at folder contents\n",
    "folder_path = '/Users/sudz4/Desktop/SERVICENOW-INTERVIEW/servicenow-interview-proj/app_HeadlessScreenCaptureUtility/output_final_staging'\n",
    "\n",
    "# list all files in the folder\n",
    "file_names = os.listdir(folder_path)\n",
    "\n",
    "# print the file names as strings\n",
    "for file_name in file_names:\n",
    "    print(file_name)"
   ]
  },
  {
   "cell_type": "code",
   "execution_count": null,
   "metadata": {},
   "outputs": [],
   "source": [
    "# Rename the files\n",
    "for file_name in file_names:\n",
    "    if file_name.startswith('NL_'):\n",
    "        new_file_name = file_name.replace('NL_', 'NL_GenAI_', 1)\n",
    "        os.rename(os.path.join(folder_path, file_name), os.path.join(folder_path, new_file_name))\n",
    "\n",
    "print(\"Files have been renamed.\\n\")"
   ]
  },
  {
   "cell_type": "markdown",
   "metadata": {},
   "source": [
    "| Entymology | \n",
    "|-|\n",
    "| Role              | Requirement                   | Value                         |\n",
    "|----------         |----------                     |----------                     |\n",
    "\n",
    "\n",
    "cite python book\n",
    "read python part on this again\n",
    "find that podcast \n",
    "cite that podcast"
   ]
  }
 ],
 "metadata": {
  "kernelspec": {
   "display_name": "sip_venv",
   "language": "python",
   "name": "python3"
  },
  "language_info": {
   "codemirror_mode": {
    "name": "ipython",
    "version": 3
   },
   "file_extension": ".py",
   "mimetype": "text/x-python",
   "name": "python",
   "nbconvert_exporter": "python",
   "pygments_lexer": "ipython3",
   "version": "3.11.1"
  }
 },
 "nbformat": 4,
 "nbformat_minor": 2
}
