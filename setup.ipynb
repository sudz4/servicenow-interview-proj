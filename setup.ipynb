{
 "cells": [
  {
   "cell_type": "code",
   "execution_count": 5,
   "metadata": {},
   "outputs": [],
   "source": [
    "import datetime as datetime\n",
    "import os"
   ]
  },
  {
   "cell_type": "code",
   "execution_count": 4,
   "metadata": {},
   "outputs": [
    {
     "name": "stdout",
     "output_type": "stream",
     "text": [
      "Tuesday\n",
      "Tue\n"
     ]
    }
   ],
   "source": [
    "# save day of week as a string\n",
    "day_of_week = datetime.datetime.today().strftime('%A')\n",
    "# lowercase and only first 3 chars\n",
    "day_of_week_abrv = day_of_week[:3]\n",
    "\n",
    "print(day_of_week)\n",
    "print(day_of_week_abrv)"
   ]
  },
  {
   "cell_type": "code",
   "execution_count": 8,
   "metadata": {},
   "outputs": [],
   "source": [
    "#### ---- Folder Directory Structure Create / Update ---- ####\n",
    "\n",
    "# create or update existing directory\n",
    "customers_dir = \"CUSTOMERS\"\n",
    "os.makedirs(customers_dir, exist_ok=True)\n",
    "\n",
    "# create list of customers\n",
    "customers_list = [\"Jacobs Solutions\", \"AECOM\", \"Experian\"]\n",
    "# create or update subdirectories\n",
    "for customer in customers_list:\n",
    "    customer_dir = f\"{customers_dir}/{customer}\"\n",
    "    os.makedirs(customer_dir, exist_ok=True)"
   ]
  },
  {
   "cell_type": "code",
   "execution_count": null,
   "metadata": {},
   "outputs": [],
   "source": []
  }
 ],
 "metadata": {
  "kernelspec": {
   "display_name": "sip_venv",
   "language": "python",
   "name": "python3"
  },
  "language_info": {
   "codemirror_mode": {
    "name": "ipython",
    "version": 3
   },
   "file_extension": ".py",
   "mimetype": "text/x-python",
   "name": "python",
   "nbconvert_exporter": "python",
   "pygments_lexer": "ipython3",
   "version": "3.11.1"
  }
 },
 "nbformat": 4,
 "nbformat_minor": 2
}
