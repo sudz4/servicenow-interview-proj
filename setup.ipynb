{
 "cells": [
  {
   "cell_type": "code",
   "execution_count": 11,
   "metadata": {},
   "outputs": [],
   "source": [
    "import datetime as datetime\n",
    "import os\n",
    "import pandas as pd\n",
    "import time \n",
    "from sec_edgar_downloader import Downloader\n",
    "# load dotenv\n",
    "from dotenv import load_dotenv\n",
    "import sys"
   ]
  },
  {
   "cell_type": "code",
   "execution_count": 12,
   "metadata": {},
   "outputs": [],
   "source": [
    "from edgar import get_filings\n",
    "from edgar import set_identity, get_filings, Company\n",
    "from edgar import get_by_accession_number\n",
    "from edgar import *"
   ]
  },
  {
   "cell_type": "code",
   "execution_count": 13,
   "metadata": {},
   "outputs": [],
   "source": [
    "from dotenv import load_dotenv"
   ]
  },
  {
   "cell_type": "code",
   "execution_count": 14,
   "metadata": {},
   "outputs": [
    {
     "data": {
      "text/plain": [
       "True"
      ]
     },
     "execution_count": 14,
     "metadata": {},
     "output_type": "execute_result"
    }
   ],
   "source": [
    "load_dotenv()"
   ]
  },
  {
   "cell_type": "code",
   "execution_count": 15,
   "metadata": {},
   "outputs": [],
   "source": [
    "# #### ---- Folder Directory Structure Create / Update ---- ####\n",
    "\n",
    "# # create or update existing directory\n",
    "# customers_dir = \"CUSTOMERS\"\n",
    "# os.makedirs(customers_dir, exist_ok=True)\n",
    "\n",
    "# # create list of customers\n",
    "# customers_list = [\"AECOM\", \"Experian\", \"Jacobs Solutions\"]\n",
    "# # create or update subdirectories\n",
    "# for customer in customers_list:\n",
    "#     customer_dir = f\"{customers_dir}/{customer}\"\n",
    "#     os.makedirs(customer_dir, exist_ok=True)"
   ]
  },
  {
   "cell_type": "code",
   "execution_count": 16,
   "metadata": {},
   "outputs": [
    {
     "name": "stdout",
     "output_type": "stream",
     "text": [
      "  Symbol       CompanyName\n",
      "0    ACM             AECOM\n",
      "1      J  Jacobs Solutions\n"
     ]
    }
   ],
   "source": [
    "# ---- SEC Edgar DB ----\n",
    "\n",
    "# create a dictionary of stock symbols and company_name\n",
    "stock_name_dict = {\n",
    "    \"ACM\": \"AECOM\",\n",
    "    \"J\": \"Jacobs Solutions\"\n",
    "}\n",
    "\n",
    "# Create starter cols for research_df\n",
    "research_df_cols = [\"CompanyName\"]\n",
    "\n",
    "# Create a research_df from the dictionary with the cols\n",
    "research_df = pd.DataFrame.from_dict(stock_name_dict, orient='index', columns=research_df_cols)\n",
    "research_df.index.name = 'Symbol'\n",
    "research_df.reset_index(inplace=True)\n",
    "\n",
    "# Print the research_df\n",
    "print(research_df)"
   ]
  },
  {
   "cell_type": "code",
   "execution_count": 17,
   "metadata": {},
   "outputs": [
    {
     "name": "stdout",
     "output_type": "stream",
     "text": [
      "['ACM', 'J']\n"
     ]
    }
   ],
   "source": [
    "# create symbol_list from the research_df\n",
    "symbol_list = research_df['Symbol'].tolist()\n",
    "print(symbol_list)"
   ]
  },
  {
   "cell_type": "code",
   "execution_count": 18,
   "metadata": {},
   "outputs": [
    {
     "data": {
      "text/html": [
       "<pre style=\"white-space:pre;overflow-x:auto;line-height:normal;font-family:Menlo,'DejaVu Sans Mono',consolas,'Courier New',monospace\"><span style=\"color: #7fbfbf; text-decoration-color: #7fbfbf\">[00:08:58] </span><span style=\"color: #000080; text-decoration-color: #000080\">INFO    </span> Identity of the Edgar REST client set to <span style=\"font-weight: bold\">[</span>Matt Sutherland sudz4@proton.me<span style=\"font-weight: bold\">]</span>          <a href=\"file:///Users/sudz4/Desktop/SERVICENOW-INTERVIEW/servicenow-interview-proj/sip_venv/lib/python3.11/site-packages/edgar/core.py\" target=\"_blank\"><span style=\"color: #7f7f7f; text-decoration-color: #7f7f7f\">core.py</span></a><span style=\"color: #7f7f7f; text-decoration-color: #7f7f7f\">:</span><a href=\"file:///Users/sudz4/Desktop/SERVICENOW-INTERVIEW/servicenow-interview-proj/sip_venv/lib/python3.11/site-packages/edgar/core.py#153\" target=\"_blank\"><span style=\"color: #7f7f7f; text-decoration-color: #7f7f7f\">153</span></a>\n",
       "</pre>\n"
      ],
      "text/plain": [
       "\u001b[2;36m[00:08:58]\u001b[0m\u001b[2;36m \u001b[0m\u001b[34mINFO    \u001b[0m Identity of the Edgar REST client set to \u001b[1m[\u001b[0mMatt Sutherland sudz4@proton.me\u001b[1m]\u001b[0m          \u001b]8;id=709629;file:///Users/sudz4/Desktop/SERVICENOW-INTERVIEW/servicenow-interview-proj/sip_venv/lib/python3.11/site-packages/edgar/core.py\u001b\\\u001b[2mcore.py\u001b[0m\u001b]8;;\u001b\\\u001b[2m:\u001b[0m\u001b]8;id=181179;file:///Users/sudz4/Desktop/SERVICENOW-INTERVIEW/servicenow-interview-proj/sip_venv/lib/python3.11/site-packages/edgar/core.py#153\u001b\\\u001b[2m153\u001b[0m\u001b]8;;\u001b\\\n"
      ]
     },
     "metadata": {},
     "output_type": "display_data"
    }
   ],
   "source": [
    "set_identity(\"Matt Sutherland sudz4@proton.me\")"
   ]
  },
  {
   "cell_type": "code",
   "execution_count": 26,
   "metadata": {},
   "outputs": [
    {
     "data": {
      "text/html": [
       "<pre style=\"white-space:pre;overflow-x:auto;line-height:normal;font-family:Menlo,'DejaVu Sans Mono',consolas,'Courier New',monospace\"></pre>\n"
      ],
      "text/plain": []
     },
     "metadata": {},
     "output_type": "display_data"
    },
    {
     "name": "stdout",
     "output_type": "stream",
     "text": [
      "<bound method Filing.view of ╭────────────────────────────────────────────\u001b[1m AECOM [868857] 10-K 📊 \u001b[0m─────────────────────────────────────────────╮\n",
      "│ ╭──────────────────────┬────────────╮                                                                           │\n",
      "│ │\u001b[1;38;5;39m \u001b[0m\u001b[1;38;5;39m0001104659-22-119637\u001b[0m\u001b[1;38;5;39m \u001b[0m│ 2022-11-17 │                                                                           │\n",
      "│ ╰──────────────────────┴────────────╯                                                                           │\n",
      "│ ╭───────────────────────────────────────────────────────────────────────────────────────────╮                   │\n",
      "│ │\u001b[1m \u001b[0m\u001b[1mLinks\u001b[0m\u001b[1m: 🏠 Homepage 📄 Primary Document 📜 Full Submission Text                           \u001b[0m\u001b[1m \u001b[0m│                   │\n",
      "│ ├───────────────────────────────────────────────────────────────────────────────────────────┤                   │\n",
      "│ │ 🏠 https://sec.gov/Archives/edgar/data/868857/0001104659-22-119637-index.html             │                   │\n",
      "│ │ 📄 https://sec.gov/Archives/edgar/data/868857/000110465922119637/acm-20220930x10k.htm     │                   │\n",
      "│ │ 📜 https://sec.gov/Archives/edgar/data/868857/000110465922119637/0001104659-22-119637.txt │                   │\n",
      "│ ╰───────────────────────────────────────────────────────────────────────────────────────────╯                   │\n",
      "╰───────────────────────────────── Form 10-K: Annual report for public companies ─────────────────────────────────╯\n",
      ">\n"
     ]
    }
   ],
   "source": [
    "forms = ['10-K', '10-Q', 'DEF 14A', '8-K']  \n",
    "filings = Company('ACM').get_filings(form = forms[0])\n",
    "filing = filings[1]\n",
    "\n",
    "# filing.open() # open document in browser\n",
    "print(filing.view)"
   ]
  },
  {
   "cell_type": "code",
   "execution_count": null,
   "metadata": {},
   "outputs": [],
   "source": [
    "#### DEV\n",
    "# clean up or delete the code below\n",
    "# or create a better feed if you're going to need this data to use with a transformer"
   ]
  },
  {
   "cell_type": "code",
   "execution_count": null,
   "metadata": {},
   "outputs": [],
   "source": [
    "# Directory to save the downloaded filings\n",
    "save_dir = \"sec_filings/all_sec_file_types\"\n",
    "os.makedirs(save_dir, exist_ok=True)\n",
    "\n",
    "# Function to download DEF 14A filings for a list of tickers\n",
    "def download_def_14a_filings(tickers):\n",
    "    for ticker in tickers:\n",
    "        try:\n",
    "            company = Company(ticker)\n",
    "            filing = company.get_filings(form=\"DEF 14A\").latest(1)\n",
    "            if filing is not None:\n",
    "                # Save the filing as text\n",
    "                filing_text = filing.text()\n",
    "                with open(os.path.join(save_dir, f\"{ticker}_DEF14A.txt\"), \"w\") as f:\n",
    "                    f.write(filing_text)\n",
    "                print(f\"Downloaded DEF 14A for {ticker}\")\n",
    "            else:\n",
    "                print(f\"No DEF 14A filing found for {ticker}\")\n",
    "            time.sleep(1)  # Delay to prevent hitting rate limits\n",
    "        except Exception as e:\n",
    "            print(f\"An error occurred for {ticker}: {e}\")\n",
    "            time.sleep(5)  # Longer delay in case of error"
   ]
  },
  {
   "cell_type": "code",
   "execution_count": null,
   "metadata": {},
   "outputs": [
    {
     "name": "stdout",
     "output_type": "stream",
     "text": [
      "Downloaded DEF 14A for ACM\n",
      "Downloaded DEF 14A for J\n"
     ]
    }
   ],
   "source": [
    "download_def_14a_filings(symbol_list)"
   ]
  },
  {
   "cell_type": "code",
   "execution_count": null,
   "metadata": {},
   "outputs": [],
   "source": []
  },
  {
   "cell_type": "code",
   "execution_count": null,
   "metadata": {},
   "outputs": [],
   "source": []
  },
  {
   "cell_type": "code",
   "execution_count": null,
   "metadata": {},
   "outputs": [],
   "source": []
  }
 ],
 "metadata": {
  "kernelspec": {
   "display_name": "sip_venv",
   "language": "python",
   "name": "python3"
  },
  "language_info": {
   "codemirror_mode": {
    "name": "ipython",
    "version": 3
   },
   "file_extension": ".py",
   "mimetype": "text/x-python",
   "name": "python",
   "nbconvert_exporter": "python",
   "pygments_lexer": "ipython3",
   "version": "3.11.1"
  }
 },
 "nbformat": 4,
 "nbformat_minor": 2
}
