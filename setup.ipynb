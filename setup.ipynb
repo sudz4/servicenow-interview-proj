{
 "cells": [
  {
   "cell_type": "code",
   "execution_count": 1,
   "metadata": {},
   "outputs": [],
   "source": [
    "import datetime as datetime\n",
    "import os\n",
    "import pandas as pd\n",
    "import time \n",
    "from sec_edgar_downloader import Downloader\n",
    "# load dotenv\n",
    "from dotenv import load_dotenv\n",
    "import sys"
   ]
  },
  {
   "cell_type": "code",
   "execution_count": 2,
   "metadata": {},
   "outputs": [],
   "source": [
    "from edgar import get_filings\n",
    "from edgar import set_identity, get_filings, Company\n",
    "from edgar import get_by_accession_number\n",
    "from edgar import *"
   ]
  },
  {
   "cell_type": "code",
   "execution_count": 3,
   "metadata": {},
   "outputs": [],
   "source": [
    "from dotenv import load_dotenv"
   ]
  },
  {
   "cell_type": "code",
   "execution_count": 4,
   "metadata": {},
   "outputs": [
    {
     "data": {
      "text/plain": [
       "True"
      ]
     },
     "execution_count": 4,
     "metadata": {},
     "output_type": "execute_result"
    }
   ],
   "source": [
    "load_dotenv()"
   ]
  },
  {
   "cell_type": "code",
   "execution_count": 5,
   "metadata": {},
   "outputs": [],
   "source": [
    "# #### ---- Folder Directory Structure Create / Update ---- ####\n",
    "\n",
    "# # create or update existing directory\n",
    "# customers_dir = \"CUSTOMERS\"\n",
    "# os.makedirs(customers_dir, exist_ok=True)\n",
    "\n",
    "# # create list of customers\n",
    "# customers_list = [\"AECOM\", \"Experian\", \"Jacobs Solutions\"]\n",
    "# # create or update subdirectories\n",
    "# for customer in customers_list:\n",
    "#     customer_dir = f\"{customers_dir}/{customer}\"\n",
    "#     os.makedirs(customer_dir, exist_ok=True)"
   ]
  },
  {
   "cell_type": "code",
   "execution_count": 6,
   "metadata": {},
   "outputs": [
    {
     "name": "stdout",
     "output_type": "stream",
     "text": [
      "  Symbol       CompanyName\n",
      "0    ACM             AECOM\n",
      "1      J  Jacobs Solutions\n"
     ]
    }
   ],
   "source": [
    "# ---- SEC Edgar DB ----\n",
    "\n",
    "# create a dictionary of stock symbols and company_name\n",
    "stock_name_dict = {\n",
    "    \"ACM\": \"AECOM\",\n",
    "    \"J\": \"Jacobs Solutions\"\n",
    "}\n",
    "\n",
    "# Create starter cols for research_df\n",
    "research_df_cols = [\"CompanyName\"]\n",
    "\n",
    "# Create a research_df from the dictionary with the cols\n",
    "research_df = pd.DataFrame.from_dict(stock_name_dict, orient='index', columns=research_df_cols)\n",
    "research_df.index.name = 'Symbol'\n",
    "research_df.reset_index(inplace=True)\n",
    "\n",
    "# Print the research_df\n",
    "print(research_df)"
   ]
  },
  {
   "cell_type": "code",
   "execution_count": 7,
   "metadata": {},
   "outputs": [
    {
     "name": "stdout",
     "output_type": "stream",
     "text": [
      "['ACM', 'J']\n"
     ]
    }
   ],
   "source": [
    "# create symbol_list from the research_df\n",
    "symbol_list = research_df['Symbol'].tolist()\n",
    "print(symbol_list)"
   ]
  },
  {
   "cell_type": "code",
   "execution_count": 8,
   "metadata": {},
   "outputs": [
    {
     "data": {
      "text/html": [
       "<pre style=\"white-space:pre;overflow-x:auto;line-height:normal;font-family:Menlo,'DejaVu Sans Mono',consolas,'Courier New',monospace\"><span style=\"color: #7fbfbf; text-decoration-color: #7fbfbf\">[23:47:14] </span><span style=\"color: #000080; text-decoration-color: #000080\">INFO    </span> Identity of the Edgar REST client set to <span style=\"font-weight: bold\">[</span>Matt Sutherland sudz4@proton.me<span style=\"font-weight: bold\">]</span>          <a href=\"file:///Users/sudz4/Desktop/SERVICENOW-INTERVIEW/servicenow-interview-proj/sip_venv/lib/python3.11/site-packages/edgar/core.py\" target=\"_blank\"><span style=\"color: #7f7f7f; text-decoration-color: #7f7f7f\">core.py</span></a><span style=\"color: #7f7f7f; text-decoration-color: #7f7f7f\">:</span><a href=\"file:///Users/sudz4/Desktop/SERVICENOW-INTERVIEW/servicenow-interview-proj/sip_venv/lib/python3.11/site-packages/edgar/core.py#153\" target=\"_blank\"><span style=\"color: #7f7f7f; text-decoration-color: #7f7f7f\">153</span></a>\n",
       "</pre>\n"
      ],
      "text/plain": [
       "\u001b[2;36m[23:47:14]\u001b[0m\u001b[2;36m \u001b[0m\u001b[34mINFO    \u001b[0m Identity of the Edgar REST client set to \u001b[1m[\u001b[0mMatt Sutherland sudz4@proton.me\u001b[1m]\u001b[0m          \u001b]8;id=161811;file:///Users/sudz4/Desktop/SERVICENOW-INTERVIEW/servicenow-interview-proj/sip_venv/lib/python3.11/site-packages/edgar/core.py\u001b\\\u001b[2mcore.py\u001b[0m\u001b]8;;\u001b\\\u001b[2m:\u001b[0m\u001b]8;id=228191;file:///Users/sudz4/Desktop/SERVICENOW-INTERVIEW/servicenow-interview-proj/sip_venv/lib/python3.11/site-packages/edgar/core.py#153\u001b\\\u001b[2m153\u001b[0m\u001b]8;;\u001b\\\n"
      ]
     },
     "metadata": {},
     "output_type": "display_data"
    }
   ],
   "source": [
    "set_identity(\"Matt Sutherland sudz4@proton.me\")"
   ]
  },
  {
   "cell_type": "code",
   "execution_count": 9,
   "metadata": {},
   "outputs": [],
   "source": [
    "# Directory to save the downloaded filings\n",
    "save_dir = \"sec_filings/all_sec_file_types\"\n",
    "os.makedirs(save_dir, exist_ok=True)\n",
    "\n",
    "# Function to download DEF 14A filings for a list of tickers\n",
    "def download_def_14a_filings(tickers):\n",
    "    for ticker in tickers:\n",
    "        try:\n",
    "            company = Company(ticker)\n",
    "            filing = company.get_filings(form=\"DEF 14A\").latest(1)\n",
    "            if filing is not None:\n",
    "                # Save the filing as text\n",
    "                filing_text = filing.text()\n",
    "                with open(os.path.join(save_dir, f\"{ticker}_DEF14A.txt\"), \"w\") as f:\n",
    "                    f.write(filing_text)\n",
    "                print(f\"Downloaded DEF 14A for {ticker}\")\n",
    "            else:\n",
    "                print(f\"No DEF 14A filing found for {ticker}\")\n",
    "            time.sleep(1)  # Delay to prevent hitting rate limits\n",
    "        except Exception as e:\n",
    "            print(f\"An error occurred for {ticker}: {e}\")\n",
    "            time.sleep(5)  # Longer delay in case of error"
   ]
  },
  {
   "cell_type": "code",
   "execution_count": 10,
   "metadata": {},
   "outputs": [
    {
     "name": "stdout",
     "output_type": "stream",
     "text": [
      "Downloaded DEF 14A for ACM\n",
      "Downloaded DEF 14A for J\n"
     ]
    }
   ],
   "source": [
    "download_def_14a_filings(symbol_list)"
   ]
  },
  {
   "cell_type": "code",
   "execution_count": null,
   "metadata": {},
   "outputs": [],
   "source": []
  },
  {
   "cell_type": "code",
   "execution_count": null,
   "metadata": {},
   "outputs": [],
   "source": []
  },
  {
   "cell_type": "code",
   "execution_count": 11,
   "metadata": {},
   "outputs": [
    {
     "ename": "KeyError",
     "evalue": "'EMAIL_SEC'",
     "output_type": "error",
     "traceback": [
      "\u001b[0;31m---------------------------------------------------------------------------\u001b[0m",
      "\u001b[0;31mKeyError\u001b[0m                                  Traceback (most recent call last)",
      "Cell \u001b[0;32mIn[11], line 1\u001b[0m\n\u001b[0;32m----> 1\u001b[0m email_address \u001b[38;5;241m=\u001b[39m \u001b[43mos\u001b[49m\u001b[38;5;241;43m.\u001b[39;49m\u001b[43menviron\u001b[49m\u001b[43m[\u001b[49m\u001b[38;5;124;43m'\u001b[39;49m\u001b[38;5;124;43mEMAIL_SEC\u001b[39;49m\u001b[38;5;124;43m'\u001b[39;49m\u001b[43m]\u001b[49m\n\u001b[1;32m      3\u001b[0m \u001b[38;5;28mprint\u001b[39m(email_address)\n",
      "File \u001b[0;32m<frozen os>:679\u001b[0m, in \u001b[0;36m__getitem__\u001b[0;34m(self, key)\u001b[0m\n",
      "\u001b[0;31mKeyError\u001b[0m: 'EMAIL_SEC'"
     ]
    }
   ],
   "source": [
    "email_address = os.environ['EMAIL_SEC']\n",
    "\n",
    "print(email_address)"
   ]
  },
  {
   "cell_type": "code",
   "execution_count": null,
   "metadata": {},
   "outputs": [
    {
     "ename": "TypeError",
     "evalue": "Downloader.__init__() missing 1 required positional argument: 'email_address'",
     "output_type": "error",
     "traceback": [
      "\u001b[0;31m---------------------------------------------------------------------------\u001b[0m",
      "\u001b[0;31mTypeError\u001b[0m                                 Traceback (most recent call last)",
      "Cell \u001b[0;32mIn[6], line 12\u001b[0m\n\u001b[1;32m      6\u001b[0m stock_name_dict \u001b[38;5;241m=\u001b[39m {\n\u001b[1;32m      7\u001b[0m     \u001b[38;5;124m\"\u001b[39m\u001b[38;5;124mACM\u001b[39m\u001b[38;5;124m\"\u001b[39m: \u001b[38;5;124m\"\u001b[39m\u001b[38;5;124mAECOM\u001b[39m\u001b[38;5;124m\"\u001b[39m,\n\u001b[1;32m      8\u001b[0m     \u001b[38;5;124m\"\u001b[39m\u001b[38;5;124mJ\u001b[39m\u001b[38;5;124m\"\u001b[39m: \u001b[38;5;124m\"\u001b[39m\u001b[38;5;124mJacobs Solutions\u001b[39m\u001b[38;5;124m\"\u001b[39m\n\u001b[1;32m      9\u001b[0m }\n\u001b[1;32m     11\u001b[0m \u001b[38;5;66;03m# Create a downloader instance\u001b[39;00m\n\u001b[0;32m---> 12\u001b[0m dl \u001b[38;5;241m=\u001b[39m \u001b[43mDownloader\u001b[49m\u001b[43m(\u001b[49m\u001b[43msave_dir\u001b[49m\u001b[43m)\u001b[49m\n\u001b[1;32m     14\u001b[0m \u001b[38;5;66;03m# Function to download DEF 14A filings for a list of tickers\u001b[39;00m\n\u001b[1;32m     15\u001b[0m \u001b[38;5;28;01mdef\u001b[39;00m \u001b[38;5;21mdownload_def_14a_filings\u001b[39m(tickers):\n",
      "\u001b[0;31mTypeError\u001b[0m: Downloader.__init__() missing 1 required positional argument: 'email_address'"
     ]
    }
   ],
   "source": [
    "# Directory to save the downloaded filings\n",
    "save_dir = \"CUSTOMERS/AECOM\"\n",
    "os.makedirs(save_dir, exist_ok=True)\n",
    "\n",
    "# Dictionary of stock symbols and company names\n",
    "stock_name_dict = {\n",
    "    \"ACM\": \"AECOM\",\n",
    "    \"J\": \"Jacobs Solutions\"\n",
    "}\n",
    "\n",
    "# Create a downloader instance\n",
    "dl = Downloader(save_dir)\n",
    "\n",
    "# Function to download DEF 14A filings for a list of tickers\n",
    "def download_def_14a_filings(tickers):\n",
    "    for ticker in tickers:\n",
    "        try:\n",
    "            company_name = stock_name_dict[ticker]\n",
    "            company_dir = os.path.join(save_dir, company_name)\n",
    "            os.makedirs(company_dir, exist_ok=True)\n",
    "            \n",
    "            # Download the latest DEF 14A filing\n",
    "            dl.get(\"DEF 14A\", ticker, amount=1)\n",
    "            \n",
    "            # Move the downloaded file to the company directory\n",
    "            filings_dir = os.path.join(save_dir, ticker, \"DEF 14A\")\n",
    "            for filename in os.listdir(filings_dir):\n",
    "                if filename.endswith(\".txt\"):\n",
    "                    new_filename = f\"{ticker}_DEF14A.txt\"\n",
    "                    os.rename(os.path.join(filings_dir, filename), os.path.join(company_dir, new_filename))\n",
    "                    \n",
    "            # Clean up the empty directories\n",
    "            os.rmdir(filings_dir)\n",
    "            os.rmdir(os.path.join(save_dir, ticker))\n",
    "            \n",
    "            print(f\"Downloaded DEF 14A for {ticker}\")\n",
    "        except Exception as e:\n",
    "            print(f\"An error occurred for {ticker}: {e}\")\n",
    "            time.sleep(5)  # Longer delay in case of error\n",
    "\n",
    "# List of tickers to download DEF 14A filings for\n",
    "tickers = [\"ACM\", \"J\"]\n",
    "\n",
    "# Download the filings\n",
    "download_def_14a_filings(tickers)\n"
   ]
  },
  {
   "cell_type": "code",
   "execution_count": null,
   "metadata": {},
   "outputs": [],
   "source": []
  }
 ],
 "metadata": {
  "kernelspec": {
   "display_name": "sip_venv",
   "language": "python",
   "name": "python3"
  },
  "language_info": {
   "codemirror_mode": {
    "name": "ipython",
    "version": 3
   },
   "file_extension": ".py",
   "mimetype": "text/x-python",
   "name": "python",
   "nbconvert_exporter": "python",
   "pygments_lexer": "ipython3",
   "version": "3.11.1"
  }
 },
 "nbformat": 4,
 "nbformat_minor": 2
}
