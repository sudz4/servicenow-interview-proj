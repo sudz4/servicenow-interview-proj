{
 "cells": [
  {
   "cell_type": "markdown",
   "metadata": {},
   "source": []
  },
  {
   "cell_type": "code",
   "execution_count": 1,
   "metadata": {},
   "outputs": [],
   "source": [
    "# LIBS\n",
    "from openpyxl import Workbook\n",
    "from openpyxl.styles import Font, Alignment"
   ]
  },
  {
   "cell_type": "code",
   "execution_count": 2,
   "metadata": {},
   "outputs": [
    {
     "name": "stdout",
     "output_type": "stream",
     "text": [
      "Excel file with 4 sheets created successfully.\n"
     ]
    }
   ],
   "source": [
    "# Create a new Excel workbook\n",
    "wb = Workbook()\n",
    "\n",
    "# Create four sheets\n",
    "sheets = ['company_info', 'job_description', 'job_responsibilities', 'job_qualifications']\n",
    "\n",
    "for sheet_name in sheets:\n",
    "    wb.create_sheet(title=sheet_name)\n",
    "\n",
    "# Remove the default sheet that is created\n",
    "default_sheet = wb['Sheet']\n",
    "wb.remove(default_sheet)\n",
    "\n",
    "# Function to add headers and format them\n",
    "def add_headers(sheet, headers):\n",
    "    sheet.append(headers)\n",
    "    for cell in sheet[1]:  # Apply styles to the header row\n",
    "        cell.font = Font(bold=True)\n",
    "        cell.alignment = Alignment(horizontal=\"center\", vertical=\"center\")\n",
    "\n",
    "# Add headers to each sheet\n",
    "company_info_headers = ['Company Name', 'Location', 'Industry', 'Employees']\n",
    "job_description_headers = ['Job Title', 'Department', 'Reports To', 'Job Summary']\n",
    "job_responsibilities_headers = ['Responsibility', 'Priority Level']\n",
    "job_qualifications_headers = ['Qualification', 'Requirement Level']\n",
    "\n",
    "# Adding headers to each corresponding sheet\n",
    "add_headers(wb['company_info'], company_info_headers)\n",
    "add_headers(wb['job_description'], job_description_headers)\n",
    "add_headers(wb['job_responsibilities'], job_responsibilities_headers)\n",
    "add_headers(wb['job_qualifications'], job_qualifications_headers)\n",
    "\n",
    "# Save the file\n",
    "wb.save(\"job_sl_data.xlsx\")\n",
    "print(\"Excel file with 4 sheets created successfully.\")\n"
   ]
  }
 ],
 "metadata": {
  "kernelspec": {
   "display_name": "venv_now",
   "language": "python",
   "name": "python3"
  },
  "language_info": {
   "codemirror_mode": {
    "name": "ipython",
    "version": 3
   },
   "file_extension": ".py",
   "mimetype": "text/x-python",
   "name": "python",
   "nbconvert_exporter": "python",
   "pygments_lexer": "ipython3",
   "version": "3.11.1"
  }
 },
 "nbformat": 4,
 "nbformat_minor": 2
}
