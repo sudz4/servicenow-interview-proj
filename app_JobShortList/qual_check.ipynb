{
 "cells": [
  {
   "cell_type": "markdown",
   "metadata": {},
   "source": []
  },
  {
   "cell_type": "code",
   "execution_count": 12,
   "metadata": {},
   "outputs": [],
   "source": [
    "# LIBS\n",
    "from openpyxl import Workbook\n",
    "from openpyxl.styles import Font, Alignment\n",
    "from openpyxl.utils import get_column_letter\n",
    "from openpyxl import load_workbook\n"
   ]
  },
  {
   "cell_type": "code",
   "execution_count": 13,
   "metadata": {},
   "outputs": [
    {
     "name": "stdout",
     "output_type": "stream",
     "text": [
      "Excel file created successfully.\n"
     ]
    }
   ],
   "source": [
    "# Create a new Excel workbook\n",
    "wb = Workbook()\n",
    "\n",
    "# Create four sheets\n",
    "sheets = ['company_info', 'job_description', 'job_responsibilities', 'job_qualifications']\n",
    "\n",
    "for sheet_name in sheets:\n",
    "    wb.create_sheet(title=sheet_name)\n",
    "\n",
    "# Remove the default sheet that is created\n",
    "default_sheet = wb['Sheet']\n",
    "wb.remove(default_sheet)\n",
    "\n",
    "# Function to add headers, format them, and adjust column width\n",
    "def add_headers(sheet, headers):\n",
    "    sheet.append(headers)\n",
    "    for cell in sheet[1]:  # Apply styles to the header row\n",
    "        cell.font = Font(bold=True)\n",
    "        cell.alignment = Alignment(horizontal=\"center\", vertical=\"center\", wrap_text=True)\n",
    "        \n",
    "    # Set uniform column width and enable text wrapping for all cells in both columns\n",
    "    col_width = 30  # Adjust the column width as necessary\n",
    "    sheet.column_dimensions[get_column_letter(1)].width = col_width\n",
    "    sheet.column_dimensions[get_column_letter(2)].width = col_width\n",
    "    \n",
    "    # Apply text wrap for all columns\n",
    "    for col in sheet.columns:\n",
    "        for cell in col:\n",
    "            cell.alignment = Alignment(wrap_text=True)\n",
    "\n",
    "# Add headers to each sheet\n",
    "company_info_headers = ['name', 'info']\n",
    "job_req_and_response_headers = ['job_requirement', 'applicant_response']\n",
    "\n",
    "# Adding headers to each corresponding sheet\n",
    "add_headers(wb['company_info'], company_info_headers)\n",
    "add_headers(wb['job_description'], job_req_and_response_headers)\n",
    "add_headers(wb['job_responsibilities'], job_req_and_response_headers)\n",
    "add_headers(wb['job_qualifications'], job_req_and_response_headers)\n",
    "\n",
    "# Save the file\n",
    "wb.save(\"requirement_and_response_SN.xlsx\")\n",
    "print(\"excel created SUCCESS.\\n nobody cares, work harder.\")\n"
   ]
  }
 ],
 "metadata": {
  "kernelspec": {
   "display_name": "venv_now",
   "language": "python",
   "name": "python3"
  },
  "language_info": {
   "codemirror_mode": {
    "name": "ipython",
    "version": 3
   },
   "file_extension": ".py",
   "mimetype": "text/x-python",
   "name": "python",
   "nbconvert_exporter": "python",
   "pygments_lexer": "ipython3",
   "version": "3.11.1"
  }
 },
 "nbformat": 4,
 "nbformat_minor": 2
}
