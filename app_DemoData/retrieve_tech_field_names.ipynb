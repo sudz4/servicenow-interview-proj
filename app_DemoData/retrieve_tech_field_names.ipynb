{
 "cells": [
  {
   "cell_type": "markdown",
   "metadata": {},
   "source": [
    "#### Retrieve technical field names"
   ]
  },
  {
   "cell_type": "code",
   "execution_count": 17,
   "metadata": {},
   "outputs": [],
   "source": [
    "# Libraries\n",
    "import pandas as pd\n",
    "import numpy as np\n",
    "import requests\n",
    "import json\n",
    "import os\n",
    "import random"
   ]
  },
  {
   "cell_type": "code",
   "execution_count": 18,
   "metadata": {},
   "outputs": [],
   "source": [
    "from dotenv import load_dotenv"
   ]
  },
  {
   "cell_type": "code",
   "execution_count": 19,
   "metadata": {},
   "outputs": [
    {
     "data": {
      "text/plain": [
       "True"
      ]
     },
     "execution_count": 19,
     "metadata": {},
     "output_type": "execute_result"
    }
   ],
   "source": [
    "load_dotenv()"
   ]
  },
  {
   "cell_type": "code",
   "execution_count": null,
   "metadata": {},
   "outputs": [],
   "source": [
    "# point at SN instance\n",
    "# need to set new .env vars for this"
   ]
  },
  {
   "cell_type": "code",
   "execution_count": 22,
   "metadata": {},
   "outputs": [
    {
     "name": "stdout",
     "output_type": "stream",
     "text": [
      "dev183520\n"
     ]
    }
   ],
   "source": [
    "\"\"\" \n",
    "SETUP Zone\n",
    "+ ServiceNow rest api url construction\n",
    "\"\"\"\n",
    "instance = os.getenv('new_pdi') # dev pdi\n",
    "user = os.getenv('new_pdi_un')\n",
    "pwd = os.getenv('new_pdi_pass')\n",
    "\n",
    "print(instance)"
   ]
  },
  {
   "cell_type": "code",
   "execution_count": null,
   "metadata": {},
   "outputs": [],
   "source": [
    "# is 'table' a variable that can be passed in?"
   ]
  },
  {
   "cell_type": "code",
   "execution_count": 24,
   "metadata": {},
   "outputs": [
    {
     "name": "stdout",
     "output_type": "stream",
     "text": [
      "https://dev183520.service-now.com/api/now/table/sys_dictionary\n"
     ]
    }
   ],
   "source": [
    "# endpoint url for dictionary\n",
    "url_d = f\"https://{instance}.service-now.com/api/now/table/sys_dictionary\"\n",
    "\n",
    "print(url_d)"
   ]
  },
  {
   "cell_type": "code",
   "execution_count": null,
   "metadata": {},
   "outputs": [],
   "source": [
    "# make this dynamic, get any table tech names\n",
    "# do i care about hidden fields on the table?"
   ]
  },
  {
   "cell_type": "code",
   "execution_count": 25,
   "metadata": {},
   "outputs": [
    {
     "name": "stdout",
     "output_type": "stream",
     "text": [
      "Technical Field Names in Incident Table:\n",
      "business_impact\n",
      "business_stc\n",
      "calendar_stc\n",
      "caller_id\n",
      "category\n",
      "cause\n",
      "caused_by\n",
      "child_incidents\n",
      "close_code\n",
      "hold_reason\n",
      "incident_state\n",
      "notify\n",
      "origin_id\n",
      "origin_table\n",
      "parent_incident\n",
      "problem_id\n",
      "reopened_by\n",
      "reopened_time\n",
      "reopen_count\n",
      "resolved_at\n",
      "resolved_by\n",
      "rfc\n",
      "severity\n",
      "subcategory\n",
      "sys_id\n"
     ]
    }
   ],
   "source": [
    "# define the PARAMs to filter for the incident table\n",
    "params = {\n",
    "    'sysparm_query': 'name=incident^internal_type!=collection',\n",
    "    'sysparm_fields': 'element',\n",
    "    'sysparm_limit': '1000'  # Adjust as necessary, or use pagination if there are many fields\n",
    "}\n",
    "\n",
    "\n",
    "headers = {\n",
    "    \"Content-Type\": \"application/json\",\n",
    "    \"Accept\": \"application/json\"\n",
    "}\n",
    "\n",
    "# make the GET request to retrieve field names\n",
    "response = requests.get(url_d, auth=(user, pwd), headers=headers, params=params)\n",
    "\n",
    "# CHECK response\n",
    "if response.status_code == 200:  # 200 OK\n",
    "    field_names = [field['element'] for field in response.json().get('result', [])]\n",
    "    print(\"Technical Field Names in Incident Table:\\n\")\n",
    "    for field_name in field_names:\n",
    "        print(field_name)\n",
    "else:\n",
    "    print(f\"Failed to retrieve field names. Status Code: {response.status_code}\")\n",
    "    print(f\"Response: {response.text}\")"
   ]
  }
 ],
 "metadata": {
  "kernelspec": {
   "display_name": "sip_venv",
   "language": "python",
   "name": "python3"
  },
  "language_info": {
   "codemirror_mode": {
    "name": "ipython",
    "version": 3
   },
   "file_extension": ".py",
   "mimetype": "text/x-python",
   "name": "python",
   "nbconvert_exporter": "python",
   "pygments_lexer": "ipython3",
   "version": "3.11.1"
  }
 },
 "nbformat": 4,
 "nbformat_minor": 2
}
