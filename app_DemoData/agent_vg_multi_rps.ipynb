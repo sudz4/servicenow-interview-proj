{
 "cells": [
  {
   "cell_type": "markdown",
   "metadata": {},
   "source": [
    "Agent VG multi record producers"
   ]
  },
  {
   "cell_type": "code",
   "execution_count": 41,
   "metadata": {},
   "outputs": [],
   "source": [
    "# LIBS\n",
    "import requests\n",
    "import os\n",
    "import json\n",
    "import time\n",
    "from dotenv import load_dotenv\n",
    "import openai\n",
    "from openai import OpenAI\n"
   ]
  },
  {
   "cell_type": "code",
   "execution_count": 42,
   "metadata": {},
   "outputs": [
    {
     "data": {
      "text/plain": [
       "True"
      ]
     },
     "execution_count": 42,
     "metadata": {},
     "output_type": "execute_result"
    }
   ],
   "source": [
    "# LOAD env vars\n",
    "load_dotenv()"
   ]
  },
  {
   "cell_type": "code",
   "execution_count": 43,
   "metadata": {},
   "outputs": [],
   "source": [
    "# REST API (ServiceNow) URL and credentials\n",
    "instance = os.getenv('em_lab_instance')\n",
    "user = os.getenv('em_lab_u_name')\n",
    "pwd = os.getenv('em_lab_p_word')\n",
    "url = f\"https://{instance}.service-now.com/api/now/table/incident\"\n",
    "\n",
    "# HEADERS\n",
    "headers = {\n",
    "    \"Content-Type\": \"application/json\",\n",
    "    \"Accept\": \"application/json\"\n",
    "}"
   ]
  },
  {
   "cell_type": "code",
   "execution_count": 14,
   "metadata": {},
   "outputs": [
    {
     "name": "stdout",
     "output_type": "stream",
     "text": [
      "200\n"
     ]
    }
   ],
   "source": [
    "# PING (testing connection)\n",
    "ping_response = requests.get(url, auth=(user, pwd), headers=headers)\n",
    "print(ping_response.status_code)"
   ]
  },
  {
   "cell_type": "code",
   "execution_count": 15,
   "metadata": {},
   "outputs": [],
   "source": [
    "\"\"\"##### PAYLOAD GENERATOR x- ZONE -x #####\"\"\"\n",
    "#### Add AI here and payload generator\n",
    "# could add a humor mode and a serious mode???****"
   ]
  },
  {
   "cell_type": "code",
   "execution_count": 31,
   "metadata": {},
   "outputs": [],
   "source": [
    "# setup openai api key\n",
    "openai.api_key = os.getenv()"
   ]
  },
  {
   "cell_type": "code",
   "execution_count": 44,
   "metadata": {},
   "outputs": [],
   "source": [
    "client = OpenAI(api_key=os.getenv('OpenAI_KEY_4'))\n",
    "\n",
    "# print(client.api_key)"
   ]
  },
  {
   "cell_type": "code",
   "execution_count": 46,
   "metadata": {},
   "outputs": [
    {
     "name": "stdout",
     "output_type": "stream",
     "text": [
      "ChatCompletionMessage(content='ServiceNow ITOM (IT Operations Management) Event Management is a crucial module within the ServiceNow ITOM suite that focuses on optimizing the management of IT events and alerts. It provides organizations with a framework to detect, prioritize, and respond to events from various IT infrastructure components and applications in real-time.\\n\\nKey features of ServiceNow Event Management include:\\n\\n1. **Event Ingestion**: It consolidates events from multiple sources such as monitoring tools, network devices, and infrastructure logs, enabling a unified view of IT events.\\n\\n2. **Event Correlation**: The system uses intelligent algorithms to analyze and correlate incoming events to identify patterns and reduce noise from non-critical alerts, helping to pinpoint significant incidents quickly.\\n\\n3. **Incident Creation**: When potential issues are detected, Event Management can automatically create incidents in the ServiceNow incident management module, ensuring rapid response and resolution.\\n\\n4. **Root Cause Analysis**: By correlating events with CI (Configuration Item) data from the CMDB (Configuration Management Database), Event Management assists in identifying the root cause of issues faster, facilitating more effective troubleshooting.\\n\\n5. **Dashboards and Reporting**: ServiceNow provides visualization and reporting capabilities to monitor event trends, assess performance, and manage upcoming changes more effectively, contributing to improved decision-making.\\n\\n6. **Integration**: Event Management can be seamlessly integrated with other ITSM (IT Service Management) and ITOM tools, including Discovery and Orchestration, to enhance overall IT service reliability.\\n\\nOverall, ITOM Event Management empowers organizations to become proactive in their IT operations, significantly improving their incident response times and service quality.', refusal=None, role='assistant', function_call=None, tool_calls=None)\n"
     ]
    }
   ],
   "source": [
    "# Make a request to the API\n",
    "completion = client.chat.completions.create(\n",
    "  model=\"gpt-4o-mini\",\n",
    "  messages=[\n",
    "    {\"role\": \"system\", \"content\": \"Act as a ServiceNow Certified Master Architect (CMA) and Elite ServiceNow Developer.\"},\n",
    "    {\"role\": \"user\", \"content\": \"Briefly describe ServiceNow ITOM - Event Management.\"},\n",
    "  ]\n",
    ")\n",
    "\n",
    "# Print the response\n",
    "print(completion.choices[0].message)"
   ]
  },
  {
   "cell_type": "code",
   "execution_count": null,
   "metadata": {},
   "outputs": [],
   "source": [
    "#### PAYLOAD Gen Part deux"
   ]
  },
  {
   "cell_type": "code",
   "execution_count": null,
   "metadata": {},
   "outputs": [],
   "source": [
    "# need to add caller and other fields you want"
   ]
  },
  {
   "cell_type": "code",
   "execution_count": 16,
   "metadata": {},
   "outputs": [],
   "source": [
    "# PAYLOADS (temp)\n",
    "payloads = [\n",
    "    {\n",
    "        \"short_description\": \"Computer is overheating\",\n",
    "        \"description\": \"Computer is overheating, span running for a while.\",\n",
    "        \"caller_id\": \"Employee\"\n",
    "\n",
    "    },\n",
    "    {\n",
    "        \"short_description\": \"Issue accessing VPN\",\n",
    "        \"description\": \"I have problems signing onto the VPN after using it for DraftKings\",\n",
    "        \"caller_id\": \"Employee\"\n",
    "\n",
    "    },\n",
    "    {\n",
    "        \"short_description\": \"Wifi connectivity issue in the office\",\n",
    "        \"description\": \"When I try to connect to the office wifi, it doesn't connect.\",\n",
    "        \"caller_id\": \"Employee\"\n",
    "\n",
    "    },\n",
    "    {\n",
    "        \"short_description\": \"Printer not working\",\n",
    "        \"description\": \"When I try to print, the printer doesn't respond.\",\n",
    "        \"caller_id\": \"Employee\"\n",
    "\n",
    "    }\n",
    "]"
   ]
  },
  {
   "cell_type": "code",
   "execution_count": 17,
   "metadata": {},
   "outputs": [
    {
     "name": "stdout",
     "output_type": "stream",
     "text": [
      "Incident created successfully: INC0010002\n",
      "Incident created successfully: INC0010003\n",
      "Incident created successfully: INC0010004\n",
      "Incident created successfully: INC0010005\n"
     ]
    }
   ],
   "source": [
    "# CREATE INCIDENTs\n",
    "def create_incident(payload):\n",
    "    try:\n",
    "        response = requests.post(url, auth=(user, pwd), headers=headers, data=json.dumps(payload))\n",
    "        # Check if the response was successful\n",
    "        if response.status_code == 201:\n",
    "            print(f\"Incident created successfully: {json.loads(response.text)['result']['number']}\")\n",
    "        else:\n",
    "            print(f\"Failed to create incident: {response.status_code} - {response.text}\")\n",
    "    except Exception as e:\n",
    "        print(f\"An error occurred: {e}\")\n",
    "\n",
    "# intevals (simlated INCs arrival)\n",
    "intervals = [5, 10, 15]  \n",
    "\n",
    "# loop through each payload\n",
    "for i, payload in enumerate(payloads):\n",
    "    create_incident(payload)  # create the incident\n",
    "    if i < len(intervals):  # if it's not the last one, wait for the next interval\n",
    "        time.sleep(intervals[i])  # wait before sending the next request"
   ]
  },
  {
   "cell_type": "code",
   "execution_count": null,
   "metadata": {},
   "outputs": [],
   "source": []
  },
  {
   "cell_type": "code",
   "execution_count": null,
   "metadata": {},
   "outputs": [],
   "source": [
    "## Retrieve field names\n",
    "# could also do this in another program same app proj directory for organization"
   ]
  },
  {
   "cell_type": "markdown",
   "metadata": {},
   "source": [
    "| END OF PROGRAM |\n",
    "|-|"
   ]
  }
 ],
 "metadata": {
  "kernelspec": {
   "display_name": "sip_venv",
   "language": "python",
   "name": "python3"
  },
  "language_info": {
   "codemirror_mode": {
    "name": "ipython",
    "version": 3
   },
   "file_extension": ".py",
   "mimetype": "text/x-python",
   "name": "python",
   "nbconvert_exporter": "python",
   "pygments_lexer": "ipython3",
   "version": "3.11.1"
  }
 },
 "nbformat": 4,
 "nbformat_minor": 2
}
