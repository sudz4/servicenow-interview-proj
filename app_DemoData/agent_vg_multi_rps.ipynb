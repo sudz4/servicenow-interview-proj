{
 "cells": [
  {
   "cell_type": "markdown",
   "metadata": {},
   "source": [
    "Agent VG multi record producers"
   ]
  },
  {
   "cell_type": "code",
   "execution_count": 18,
   "metadata": {},
   "outputs": [],
   "source": [
    "# LIBS\n",
    "import requests\n",
    "import os\n",
    "import json\n",
    "import time\n",
    "from dotenv import load_dotenv\n",
    "import openai"
   ]
  },
  {
   "cell_type": "code",
   "execution_count": 12,
   "metadata": {},
   "outputs": [
    {
     "data": {
      "text/plain": [
       "True"
      ]
     },
     "execution_count": 12,
     "metadata": {},
     "output_type": "execute_result"
    }
   ],
   "source": [
    "# LOAD env vars\n",
    "load_dotenv()"
   ]
  },
  {
   "cell_type": "code",
   "execution_count": 13,
   "metadata": {},
   "outputs": [],
   "source": [
    "# REST API (ServiceNow) URL and credentials\n",
    "instance = os.getenv('em_lab_instance')\n",
    "user = os.getenv('em_lab_u_name')\n",
    "pwd = os.getenv('em_lab_p_word')\n",
    "url = f\"https://{instance}.service-now.com/api/now/table/incident\"\n",
    "\n",
    "# HEADERS\n",
    "headers = {\n",
    "    \"Content-Type\": \"application/json\",\n",
    "    \"Accept\": \"application/json\"\n",
    "}"
   ]
  },
  {
   "cell_type": "code",
   "execution_count": 14,
   "metadata": {},
   "outputs": [
    {
     "name": "stdout",
     "output_type": "stream",
     "text": [
      "200\n"
     ]
    }
   ],
   "source": [
    "# PING (testing connection)\n",
    "ping_response = requests.get(url, auth=(user, pwd), headers=headers)\n",
    "print(ping_response.status_code)"
   ]
  },
  {
   "cell_type": "code",
   "execution_count": 15,
   "metadata": {},
   "outputs": [],
   "source": [
    "# PAYLOAD GENERATOR\n",
    "#### Add AI here and payload generator\n",
    "# could add a humor mode and a serious mode???****"
   ]
  },
  {
   "cell_type": "code",
   "execution_count": 20,
   "metadata": {},
   "outputs": [],
   "source": [
    "# setup openai api key\n",
    "openai.api_key = os.getenv('Matts_OpenAI_KEY')"
   ]
  },
  {
   "cell_type": "code",
   "execution_count": null,
   "metadata": {},
   "outputs": [],
   "source": [
    "def generate_demo_payload():\n",
    "    try:\n",
    "        prompt = \"\"\"\n",
    "        Generate a JSON object for a ServiceNow incident record with the following fields:\n",
    "        1. short_description: A brief description of the incident.\n",
    "        2. description: A detailed description of the incident.\n",
    "        3. urgency: A numeric value between 1 and 3, where 1 is high urgency.\n",
    "        4. impact: A numeric value between 1 and 3, where 1 is high impact.\n",
    "        Provide values that could realistically represent IT-related incidents.\n",
    "        \"\"\"\n",
    "        \n",
    "        response = openai.Completion.create(\n",
    "            engine=\"text-davinci-003\",\n",
    "            prompt=prompt,\n",
    "            max_tokens=100,\n",
    "            n=1,\n",
    "            stop=None,\n",
    "            temperature=0.7\n",
    "        )\n",
    "        \n",
    "        # Parse the response to get the JSON object\n",
    "        payload = json.loads(response.choices[0].text.strip())\n",
    "        return payload\n",
    "    \n",
    "    except Exception as e:\n",
    "        print(f\"An error occurred while generating payload: {e}\")\n",
    "        return None"
   ]
  },
  {
   "cell_type": "code",
   "execution_count": null,
   "metadata": {},
   "outputs": [],
   "source": [
    "# TEST, generate and view the payload\n",
    "payload_test = generate_demo_payload()\n",
    "print(json.dumps(payload_test, indent=2))\n"
   ]
  },
  {
   "cell_type": "code",
   "execution_count": null,
   "metadata": {},
   "outputs": [],
   "source": [
    "# need to add caller and other fields you want"
   ]
  },
  {
   "cell_type": "code",
   "execution_count": 16,
   "metadata": {},
   "outputs": [],
   "source": [
    "# PAYLOADS (temp)\n",
    "payloads = [\n",
    "    {\n",
    "        \"short_description\": \"Computer is overheating\",\n",
    "        \"description\": \"Computer is overheating, span running for a while.\",\n",
    "        \"caller_id\": \"Employee\"\n",
    "\n",
    "    },\n",
    "    {\n",
    "        \"short_description\": \"Issue accessing VPN\",\n",
    "        \"description\": \"I have problems signing onto the VPN after using it for DraftKings\",\n",
    "        \"caller_id\": \"Employee\"\n",
    "\n",
    "    },\n",
    "    {\n",
    "        \"short_description\": \"Wifi connectivity issue in the office\",\n",
    "        \"description\": \"When I try to connect to the office wifi, it doesn't connect.\",\n",
    "        \"caller_id\": \"Employee\"\n",
    "\n",
    "    },\n",
    "    {\n",
    "        \"short_description\": \"Printer not working\",\n",
    "        \"description\": \"When I try to print, the printer doesn't respond.\",\n",
    "        \"caller_id\": \"Employee\"\n",
    "\n",
    "    }\n",
    "]"
   ]
  },
  {
   "cell_type": "code",
   "execution_count": 17,
   "metadata": {},
   "outputs": [
    {
     "name": "stdout",
     "output_type": "stream",
     "text": [
      "Incident created successfully: INC0010002\n",
      "Incident created successfully: INC0010003\n",
      "Incident created successfully: INC0010004\n",
      "Incident created successfully: INC0010005\n"
     ]
    }
   ],
   "source": [
    "# CREATE INCIDENTs\n",
    "def create_incident(payload):\n",
    "    try:\n",
    "        response = requests.post(url, auth=(user, pwd), headers=headers, data=json.dumps(payload))\n",
    "        # Check if the response was successful\n",
    "        if response.status_code == 201:\n",
    "            print(f\"Incident created successfully: {json.loads(response.text)['result']['number']}\")\n",
    "        else:\n",
    "            print(f\"Failed to create incident: {response.status_code} - {response.text}\")\n",
    "    except Exception as e:\n",
    "        print(f\"An error occurred: {e}\")\n",
    "\n",
    "# intevals (simlated INCs arrival)\n",
    "intervals = [5, 10, 15]  \n",
    "\n",
    "# loop through each payload\n",
    "for i, payload in enumerate(payloads):\n",
    "    create_incident(payload)  # create the incident\n",
    "    if i < len(intervals):  # if it's not the last one, wait for the next interval\n",
    "        time.sleep(intervals[i])  # wait before sending the next request"
   ]
  },
  {
   "cell_type": "code",
   "execution_count": null,
   "metadata": {},
   "outputs": [],
   "source": []
  },
  {
   "cell_type": "code",
   "execution_count": null,
   "metadata": {},
   "outputs": [],
   "source": []
  },
  {
   "cell_type": "markdown",
   "metadata": {},
   "source": [
    "| END OF PROGRAM |\n",
    "|-|"
   ]
  }
 ],
 "metadata": {
  "kernelspec": {
   "display_name": "sip_venv",
   "language": "python",
   "name": "python3"
  },
  "language_info": {
   "codemirror_mode": {
    "name": "ipython",
    "version": 3
   },
   "file_extension": ".py",
   "mimetype": "text/x-python",
   "name": "python",
   "nbconvert_exporter": "python",
   "pygments_lexer": "ipython3",
   "version": "3.11.1"
  }
 },
 "nbformat": 4,
 "nbformat_minor": 2
}
