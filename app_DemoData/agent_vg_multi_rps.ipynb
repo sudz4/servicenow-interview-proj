{
 "cells": [
  {
   "cell_type": "markdown",
   "metadata": {},
   "source": [
    "Agent VG multi record producers"
   ]
  },
  {
   "cell_type": "code",
   "execution_count": 2,
   "metadata": {},
   "outputs": [],
   "source": [
    "# LIBS\n",
    "import requests\n",
    "import os\n",
    "import json\n",
    "import time\n",
    "from dotenv import load_dotenv"
   ]
  },
  {
   "cell_type": "code",
   "execution_count": 3,
   "metadata": {},
   "outputs": [
    {
     "data": {
      "text/plain": [
       "True"
      ]
     },
     "execution_count": 3,
     "metadata": {},
     "output_type": "execute_result"
    }
   ],
   "source": [
    "# LOAD env vars\n",
    "load_dotenv()"
   ]
  },
  {
   "cell_type": "code",
   "execution_count": 7,
   "metadata": {},
   "outputs": [],
   "source": [
    "# REST API (ServiceNow) URL and credentials\n",
    "instance = os.getenv('em_lab_instance')\n",
    "user = os.getenv('em_lab_u_name')\n",
    "pwd = os.getenv('em_lab_p_word')\n",
    "url = f\"https://{instance}.service-now.com/api/now/table/incident\"\n",
    "\n",
    "# HEADERS\n",
    "headers = {\n",
    "    \"Content-Type\": \"application/json\",\n",
    "    \"Accept\": \"application/json\"\n",
    "}"
   ]
  },
  {
   "cell_type": "code",
   "execution_count": 9,
   "metadata": {},
   "outputs": [
    {
     "name": "stdout",
     "output_type": "stream",
     "text": [
      "200\n"
     ]
    }
   ],
   "source": [
    "# PING (testing connection)\n",
    "ping_response = requests.get(url, auth=(user, pwd), headers=headers)\n",
    "print(ping_response.status_code)"
   ]
  },
  {
   "cell_type": "code",
   "execution_count": null,
   "metadata": {},
   "outputs": [],
   "source": [
    "# PAYLOAD GENERATOR\n",
    "#### Add AI here and payload generator"
   ]
  },
  {
   "cell_type": "code",
   "execution_count": null,
   "metadata": {},
   "outputs": [],
   "source": [
    "# PAYLOADS (temp)\n",
    "payloads = [\n",
    "    {\n",
    "        \"short_description\": \"Demo Incident 1\",\n",
    "        \"description\": \"This is a demo incident 1 for testing purposes.\",\n",
    "        \"urgency\": \"2\",\n",
    "        \"impact\": \"2\"\n",
    "    },\n",
    "    {\n",
    "        \"short_description\": \"Demo Incident 2\",\n",
    "        \"description\": \"This is a demo incident 2 for testing purposes.\",\n",
    "        \"urgency\": \"1\",\n",
    "        \"impact\": \"1\"\n",
    "    },\n",
    "    {\n",
    "        \"short_description\": \"Demo Incident 3\",\n",
    "        \"description\": \"This is a demo incident 3 for testing purposes.\",\n",
    "        \"urgency\": \"3\",\n",
    "        \"impact\": \"3\"\n",
    "    },\n",
    "    {\n",
    "        \"short_description\": \"Demo Incident 4\",\n",
    "        \"description\": \"This is a demo incident 4 for testing purposes.\",\n",
    "        \"urgency\": \"1\",\n",
    "        \"impact\": \"2\"\n",
    "    }\n",
    "]"
   ]
  },
  {
   "cell_type": "code",
   "execution_count": null,
   "metadata": {},
   "outputs": [],
   "source": [
    "# CREATE INCIDENTs\n",
    "def create_incident(payload):\n",
    "    try:\n",
    "        response = requests.post(url, auth=(user, pwd), headers=headers, data=json.dumps(payload))\n",
    "        # Check if the response was successful\n",
    "        if response.status_code == 201:\n",
    "            print(f\"Incident created successfully: {json.loads(response.text)['result']['number']}\")\n",
    "        else:\n",
    "            print(f\"Failed to create incident: {response.status_code} - {response.text}\")\n",
    "    except Exception as e:\n",
    "        print(f\"An error occurred: {e}\")\n",
    "\n",
    "# intevals (simlated INCs arrival)\n",
    "intervals = [10, 60, 180]  # 10 seconds, 1 minute, 3 minutes\n",
    "\n",
    "# loop through each payload\n",
    "for i, payload in enumerate(payloads):\n",
    "    create_incident(payload)  # create the incident\n",
    "    if i < len(intervals):  # if it's not the last one, wait for the next interval\n",
    "        time.sleep(intervals[i])  # wait before sending the next request"
   ]
  },
  {
   "cell_type": "code",
   "execution_count": null,
   "metadata": {},
   "outputs": [],
   "source": []
  },
  {
   "cell_type": "code",
   "execution_count": null,
   "metadata": {},
   "outputs": [],
   "source": []
  },
  {
   "cell_type": "markdown",
   "metadata": {},
   "source": [
    "| END OF PROGRAM |\n",
    "|-|"
   ]
  }
 ],
 "metadata": {
  "kernelspec": {
   "display_name": "sip_venv",
   "language": "python",
   "name": "python3"
  },
  "language_info": {
   "codemirror_mode": {
    "name": "ipython",
    "version": 3
   },
   "file_extension": ".py",
   "mimetype": "text/x-python",
   "name": "python",
   "nbconvert_exporter": "python",
   "pygments_lexer": "ipython3",
   "version": "3.11.1"
  }
 },
 "nbformat": 4,
 "nbformat_minor": 2
}
