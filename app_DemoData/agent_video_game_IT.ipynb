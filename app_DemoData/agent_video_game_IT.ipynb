{
 "cells": [
  {
   "cell_type": "markdown",
   "metadata": {},
   "source": [
    "| Agent Video Game |\n",
    "|-|"
   ]
  },
  {
   "cell_type": "code",
   "execution_count": 38,
   "metadata": {},
   "outputs": [],
   "source": [
    "# Libraries\n",
    "import pandas as pd\n",
    "import numpy as np\n",
    "import requests\n",
    "import json\n",
    "import os\n",
    "import random"
   ]
  },
  {
   "cell_type": "code",
   "execution_count": 39,
   "metadata": {},
   "outputs": [],
   "source": [
    "from dotenv import load_dotenv"
   ]
  },
  {
   "cell_type": "code",
   "execution_count": 40,
   "metadata": {},
   "outputs": [
    {
     "data": {
      "text/plain": [
       "True"
      ]
     },
     "execution_count": 40,
     "metadata": {},
     "output_type": "execute_result"
    }
   ],
   "source": [
    "load_dotenv()"
   ]
  },
  {
   "cell_type": "code",
   "execution_count": 17,
   "metadata": {},
   "outputs": [],
   "source": [
    "#### YOU HAVE TO RE-SETUP the .env file with with the instance\n",
    "### also setup instance and roles\n",
    "## revisit integration designated user"
   ]
  },
  {
   "cell_type": "code",
   "execution_count": 41,
   "metadata": {},
   "outputs": [],
   "source": [
    "\"\"\" \n",
    "SETUP Zone\n",
    "+ ServiceNow rest api url construction\n",
    "\"\"\"\n",
    "instance = os.getenv('em_lab_instance')\n",
    "user = os.getenv('em_lab_u_name')\n",
    "pwd = os.getenv('em_lab_p_word')"
   ]
  },
  {
   "cell_type": "code",
   "execution_count": 42,
   "metadata": {},
   "outputs": [
    {
     "name": "stdout",
     "output_type": "stream",
     "text": [
      "nowlearning-nlinst02016001-001.lab\n"
     ]
    }
   ],
   "source": [
    "print(instance)"
   ]
  },
  {
   "cell_type": "code",
   "execution_count": 44,
   "metadata": {},
   "outputs": [
    {
     "name": "stdout",
     "output_type": "stream",
     "text": [
      "https://nowlearning-nlinst02016001-001.lab.service-now.com/api/now/table/incident\n"
     ]
    }
   ],
   "source": [
    "# Construct the URL for creating an Incident record\n",
    "url = f\"https://{instance}.service-now.com/api/now/table/incident\"\n",
    "\n",
    "print(url)"
   ]
  },
  {
   "cell_type": "code",
   "execution_count": 45,
   "metadata": {},
   "outputs": [
    {
     "name": "stdout",
     "output_type": "stream",
     "text": [
      "Incident created successfully!\n",
      "Incident Sys ID: 08cb7c035d5012107f441cd38497a23a\n"
     ]
    }
   ],
   "source": [
    "# Define the headers\n",
    "headers = {\n",
    "    \"Content-Type\": \"application/json\",\n",
    "    \"Accept\": \"application/json\"\n",
    "}\n",
    "\n",
    "# Define the payload (data for the new incident)\n",
    "payload = {\n",
    "    \"short_description\": \"VPN issue test\",\n",
    "    \"description\": \"VPN issue example incident created using the ServiceNow REST API.\",\n",
    "    \"priority\": \"3\",  # Setting the priority (1 = Critical, 5 = Planning)\n",
    "    \"caller_id\": \"sudz4@proton.me\"  # Replace with a valid caller_id from your instance\n",
    "}\n",
    "\n",
    "# Make the POST request to create the incident\n",
    "response = requests.post(url, auth=(user, pwd), headers=headers, json=payload)\n",
    "\n",
    "# Check the response\n",
    "if response.status_code == 201:  # 201 Created\n",
    "    print(\"Incident created successfully!\")\n",
    "    incident_sys_id = response.json()['result']['sys_id']\n",
    "    print(f\"Incident Sys ID: {incident_sys_id}\")\n",
    "else:\n",
    "    print(f\"Failed to create incident. Status Code: {response.status_code}\")\n",
    "    print(f\"Response: {response.text}\")"
   ]
  },
  {
   "cell_type": "code",
   "execution_count": null,
   "metadata": {},
   "outputs": [],
   "source": []
  },
  {
   "cell_type": "code",
   "execution_count": null,
   "metadata": {},
   "outputs": [],
   "source": []
  },
  {
   "cell_type": "code",
   "execution_count": null,
   "metadata": {},
   "outputs": [],
   "source": [
    "#### Retrieve the technical field names for all the fields in the incident table"
   ]
  },
  {
   "cell_type": "code",
   "execution_count": null,
   "metadata": {},
   "outputs": [],
   "source": [
    "# examples\n",
    "# i feel like there is a better way\n",
    "# servicenow cli?\n",
    "# Construct the URL for retrieving the field names\n",
    "url = f\"{instance}/api/now/table/sys_dictionary\"\n",
    "\n",
    "# Define the parameters to filter for the incident table\n",
    "params = {\n",
    "    'sysparm_query': 'name=incident^internal_type!=collection',\n",
    "    'sysparm_fields': 'element',\n",
    "    'sysparm_limit': '1000'  # Adjust as necessary, or use pagination if there are many fields\n",
    "}\n",
    "\n",
    "# Define the headers\n",
    "headers = {\n",
    "    \"Content-Type\": \"application/json\",\n",
    "    \"Accept\": \"application/json\"\n",
    "}\n",
    "\n",
    "# Make the GET request to retrieve field names\n",
    "response = requests.get(url, auth=(user, pwd), headers=headers, params=params)\n",
    "\n",
    "# Check the response\n",
    "if response.status_code == 200:  # 200 OK\n",
    "    field_names = [field['element'] for field in response.json().get('result', [])]\n",
    "    print(\"Technical Field Names in Incident Table:\")\n",
    "    for field_name in field_names:\n",
    "        print(field_name)\n",
    "else:\n",
    "    print(f\"Failed to retrieve field names. Status Code: {response.status_code}\")\n",
    "    print(f\"Response: {response.text}\")"
   ]
  },
  {
   "cell_type": "code",
   "execution_count": null,
   "metadata": {},
   "outputs": [],
   "source": [
    "\"\"\" \n",
    "get all fields,\n",
    "get all visible fields,\n",
    "return field values?\n",
    "\n",
    "timer\n",
    "how many\n",
    "which types\n",
    "demo flow and narrative\n",
    "\"\"\""
   ]
  },
  {
   "cell_type": "code",
   "execution_count": null,
   "metadata": {},
   "outputs": [],
   "source": [
    "\"\"\"\n",
    "NOTES\n",
    "\n",
    "Setup template with sections column \n",
    "Figure out what sections is called by SN\n",
    "Copy to new EMxlsx\n",
    "\n",
    "Keep that up while going back through the event management training.\n",
    "\n",
    "Start going through and pause on the connection with Teams. Go deep on Teams connections stuff\n",
    "Do other labs\n",
    "Watch YouTube \n",
    "\n",
    "Story config template retrieve from SN instance from api. For rm_story.\n",
    "\n",
    "No need to get fancy here or build out entire life’s process. Use ootb fields. Can add one custom or max 2 \n",
    "\n",
    "Could also add story sheet?? \n",
    "This could link back with excel but separate table is better with 2nd sheet \n",
    "\n",
    "Get that ppt file with the genai capabilities.\n",
    "\n",
    "Demo flow one is life of employee\n",
    "Split screen but as a transition\n",
    "Stick with mostly full screen mode\n",
    "Demo rapid fire video game demo for Ageny\n",
    "Need to write program or figure out a trigger you can send in stuff on a key trigger. I like having it auto so I can talk while they come in and show genuine surprise when the tix arrive\n",
    "\n",
    "Last as an EM this is the mai demo.\n",
    "Tie the stories all the way together being the last iTSM story escalation.\n",
    "Teams integration \n",
    "Emergency CAB scenario \n",
    "Research this process again\n",
    "\n",
    "Keep PPT so tight. Zero nonsense \n",
    "Think like leave behind docs\n",
    "Try to stay in instance as much as possible \n",
    "\n",
    "Event management. \n",
    "\n",
    "You need motivation \n",
    "Think to at you have to pass the EM cis now \n",
    "And using all this shit for the interview\n",
    "You will take a mandatory breaks when this is do e\n",
    "Also this work you will have to do anyway all your customers potential benefit from upsell here and this ties well in with the transition to why me / accounts \n",
    "\n",
    "First cover down on Qs from exam you remember for SAm\n",
    "\n",
    "And then start in on EM.\n",
    "\n",
    "You have motivation and reason for this and your internal. \n",
    "\n",
    "This is current high priority \n",
    "Get this shit done\n",
    "\n",
    "Remember what you sacrificed to be here\n",
    "Remember what you sacrificed for this focus level JGS\n",
    "\n",
    "\n",
    "\"\"\""
   ]
  }
 ],
 "metadata": {
  "kernelspec": {
   "display_name": "sip_venv",
   "language": "python",
   "name": "python3"
  },
  "language_info": {
   "codemirror_mode": {
    "name": "ipython",
    "version": 3
   },
   "file_extension": ".py",
   "mimetype": "text/x-python",
   "name": "python",
   "nbconvert_exporter": "python",
   "pygments_lexer": "ipython3",
   "version": "3.11.1"
  }
 },
 "nbformat": 4,
 "nbformat_minor": 2
}
