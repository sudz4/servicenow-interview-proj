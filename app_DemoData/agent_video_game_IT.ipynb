{
 "cells": [
  {
   "cell_type": "markdown",
   "metadata": {},
   "source": [
    "| Agent Video Game |\n",
    "|-|"
   ]
  },
  {
   "cell_type": "code",
   "execution_count": 1,
   "metadata": {},
   "outputs": [],
   "source": [
    "# Libraries\n",
    "import pandas as pd\n",
    "import numpy as np\n",
    "import requests\n",
    "import json\n",
    "import os\n",
    "import random"
   ]
  },
  {
   "cell_type": "code",
   "execution_count": 2,
   "metadata": {},
   "outputs": [],
   "source": [
    "from dotenv import load_dotenv"
   ]
  },
  {
   "cell_type": "code",
   "execution_count": null,
   "metadata": {},
   "outputs": [],
   "source": [
    "load_dotenv()"
   ]
  },
  {
   "cell_type": "code",
   "execution_count": 3,
   "metadata": {},
   "outputs": [],
   "source": [
    "\"\"\" \n",
    "SETUP Zone\n",
    "+ ServiceNow rest api url construction\n",
    "\"\"\"\n",
    "instance = os.getenv('now_instance')\n",
    "user = os.getenv('u_name')\n",
    "pwd = os.getenv('p_word')"
   ]
  },
  {
   "cell_type": "code",
   "execution_count": 4,
   "metadata": {},
   "outputs": [
    {
     "name": "stdout",
     "output_type": "stream",
     "text": [
      "nowlearning-nlinst01974011-001.lab\n"
     ]
    }
   ],
   "source": [
    "print(instance)"
   ]
  },
  {
   "cell_type": "code",
   "execution_count": null,
   "metadata": {},
   "outputs": [],
   "source": []
  },
  {
   "cell_type": "code",
   "execution_count": null,
   "metadata": {},
   "outputs": [],
   "source": [
    "\"\"\"\n",
    "NOTES\n",
    "\n",
    "Setup template with sections column \n",
    "Figure out what sections is called by SN\n",
    "Copy to new EMxlsx\n",
    "\n",
    "Keep that up while going back through the event management training.\n",
    "\n",
    "Start going through and pause on the connection with Teams. Go deep on Teams connections stuff\n",
    "Do other labs\n",
    "Watch YouTube \n",
    "\n",
    "Story config template retrieve from SN instance from api. For rm_story.\n",
    "\n",
    "No need to get fancy here or build out entire life’s process. Use ootb fields. Can add one custom or max 2 \n",
    "\n",
    "Could also add story sheet?? \n",
    "This could link back with excel but separate table is better with 2nd sheet \n",
    "\n",
    "Get that ppt file with the genai capabilities.\n",
    "\n",
    "Demo flow one is life of employee\n",
    "Split screen but as a transition\n",
    "Stick with mostly full screen mode\n",
    "Demo rapid fire video game demo for Ageny\n",
    "Need to write program or figure out a trigger you can send in stuff on a key trigger. I like having it auto so I can talk while they come in and show genuine surprise when the tix arrive\n",
    "\n",
    "Last as an EM this is the mai demo.\n",
    "Tie the stories all the way together being the last iTSM story escalation.\n",
    "Teams integration \n",
    "Emergency CAB scenario \n",
    "Research this process again\n",
    "\n",
    "Keep PPT so tight. Zero nonsense \n",
    "Think like leave behind docs\n",
    "Try to stay in instance as much as possible \n",
    "\n",
    "Event management. \n",
    "\n",
    "You need motivation \n",
    "Think to at you have to pass the EM cis now \n",
    "And using all this shit for the interview\n",
    "You will take a mandatory breaks when this is do e\n",
    "Also this work you will have to do anyway all your customers potential benefit from upsell here and this ties well in with the transition to why me / accounts \n",
    "\n",
    "First cover down on Qs from exam you remember for SAm\n",
    "\n",
    "And then start in on EM.\n",
    "\n",
    "You have motivation and reason for this and your internal. \n",
    "\n",
    "This is current high priority \n",
    "Get this shit done\n",
    "\n",
    "Remember what you sacrificed to be here\n",
    "Remember what you sacrificed for this focus level JGS\n",
    "\n",
    "\n",
    "\"\"\""
   ]
  }
 ],
 "metadata": {
  "kernelspec": {
   "display_name": "sip_venv",
   "language": "python",
   "name": "python3"
  },
  "language_info": {
   "codemirror_mode": {
    "name": "ipython",
    "version": 3
   },
   "file_extension": ".py",
   "mimetype": "text/x-python",
   "name": "python",
   "nbconvert_exporter": "python",
   "pygments_lexer": "ipython3",
   "version": "3.11.1"
  }
 },
 "nbformat": 4,
 "nbformat_minor": 2
}
