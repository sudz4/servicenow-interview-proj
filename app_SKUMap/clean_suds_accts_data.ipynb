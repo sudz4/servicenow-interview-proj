{
 "cells": [
  {
   "cell_type": "markdown",
   "metadata": {},
   "source": []
  },
  {
   "cell_type": "code",
   "execution_count": 1,
   "metadata": {},
   "outputs": [],
   "source": [
    "# library imports\n",
    "import pandas as pd\n",
    "import numpy as np"
   ]
  },
  {
   "cell_type": "code",
   "execution_count": 2,
   "metadata": {},
   "outputs": [
    {
     "name": "stdout",
     "output_type": "stream",
     "text": [
      "              Account    Contract      Number  \\\n",
      "0  AECOM Services Inc  CON1848951  CLI0512889   \n",
      "1  AECOM Services Inc  CON1848951  CLI0512887   \n",
      "2  AECOM Services Inc  CON1848951  CLI0512888   \n",
      "3  AECOM Services Inc  CON1848951  CLI0512890   \n",
      "4  AECOM Services Inc  CON1848951  CLI0512882   \n",
      "\n",
      "                                 Product Description  Quantity  \\\n",
      "0  Hardware Asset Management Professional - Subsc...     20000   \n",
      "1                          Agile Team - Module (USD)         1   \n",
      "2                 Business Stakeholder User v4 (USD)      9000   \n",
      "3  Automation Engine Professional v3 – Unattended...         1   \n",
      "4  IT Operations Management Visibility - Subscrip...      8000   \n",
      "\n",
      "  Contract Start date Contract End date Contract Term Months and Days  \\\n",
      "0          2023-07-24        2026-07-23                     36 Months   \n",
      "1          2023-07-24        2026-07-23                     36 Months   \n",
      "2          2023-07-24        2026-07-23                     36 Months   \n",
      "3          2023-07-24        2026-07-23                     36 Months   \n",
      "4          2023-07-24        2026-07-23                     36 Months   \n",
      "\n",
      "   Annual Contract Value  Sales Price  Product Description Base Price  Notes  \n",
      "0              540000.00         2.25                            6.00    NaN  \n",
      "1                   0.00         0.00                            0.00    NaN  \n",
      "2              432000.00         4.00                           35.00    NaN  \n",
      "3              123249.96     10270.83                        12083.33    NaN  \n",
      "4              528000.00         5.50                           12.00    NaN  \n"
     ]
    }
   ],
   "source": [
    "# IMPORT SudsAccounts.xlsx \n",
    "accts_file_path = '/Users/sudz4/Desktop/SERVICENOW-INTERVIEW/servicenow-interview-proj/app_SKUMap/SudsAccounts.xlsx'\n",
    "suds_accts_df = pd.read_excel(accts_file_path)\n",
    "\n",
    "print(suds_accts_df.head())"
   ]
  }
 ],
 "metadata": {
  "kernelspec": {
   "display_name": "sip_venv",
   "language": "python",
   "name": "python3"
  },
  "language_info": {
   "codemirror_mode": {
    "name": "ipython",
    "version": 3
   },
   "file_extension": ".py",
   "mimetype": "text/x-python",
   "name": "python",
   "nbconvert_exporter": "python",
   "pygments_lexer": "ipython3",
   "version": "3.11.1"
  }
 },
 "nbformat": 4,
 "nbformat_minor": 2
}
