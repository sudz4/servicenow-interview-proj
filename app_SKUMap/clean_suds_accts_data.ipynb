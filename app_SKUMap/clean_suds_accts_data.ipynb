{
 "cells": [
  {
   "cell_type": "markdown",
   "metadata": {},
   "source": [
    "SudsAccounts "
   ]
  },
  {
   "cell_type": "code",
   "execution_count": 1,
   "metadata": {},
   "outputs": [],
   "source": [
    "# library imports\n",
    "import pandas as pd\n",
    "import numpy as np"
   ]
  },
  {
   "cell_type": "code",
   "execution_count": null,
   "metadata": {},
   "outputs": [],
   "source": [
    "# IMPORT SudsAccounts.xlsx \n",
    "accts_file_path = '/Users/sudz4/Desktop/SERVICENOW-INTERVIEW/servicenow-interview-proj/app_SKUMap/SudsAccounts.xlsx'\n",
    "suds_accts_df = pd.read_excel(accts_file_path)\n",
    "\n",
    "# print(suds_accts_df.head())"
   ]
  },
  {
   "cell_type": "code",
   "execution_count": 3,
   "metadata": {},
   "outputs": [
    {
     "name": "stdout",
     "output_type": "stream",
     "text": [
      "Index(['Account', 'Contract', 'Number', 'Product Description', 'Quantity',\n",
      "       'Contract Start date', 'Contract End date',\n",
      "       'Contract Term Months and Days', 'Annual Contract Value', 'Sales Price',\n",
      "       'Product Description Base Price', 'Notes'],\n",
      "      dtype='object')\n"
     ]
    }
   ],
   "source": [
    "# RETURN column names\n",
    "print(suds_accts_df.columns)"
   ]
  },
  {
   "cell_type": "code",
   "execution_count": 4,
   "metadata": {},
   "outputs": [
    {
     "data": {
      "text/html": [
       "<div>\n",
       "<style scoped>\n",
       "    .dataframe tbody tr th:only-of-type {\n",
       "        vertical-align: middle;\n",
       "    }\n",
       "\n",
       "    .dataframe tbody tr th {\n",
       "        vertical-align: top;\n",
       "    }\n",
       "\n",
       "    .dataframe thead th {\n",
       "        text-align: right;\n",
       "    }\n",
       "</style>\n",
       "<table border=\"1\" class=\"dataframe\">\n",
       "  <thead>\n",
       "    <tr style=\"text-align: right;\">\n",
       "      <th></th>\n",
       "      <th>Account</th>\n",
       "      <th>Product Description</th>\n",
       "      <th>Annual Contract Value</th>\n",
       "    </tr>\n",
       "  </thead>\n",
       "  <tbody>\n",
       "    <tr>\n",
       "      <th>7</th>\n",
       "      <td>AECOM Services Inc</td>\n",
       "      <td>IT Service Management Professional - Fulfiller...</td>\n",
       "      <td>1069200.00</td>\n",
       "    </tr>\n",
       "    <tr>\n",
       "      <th>0</th>\n",
       "      <td>AECOM Services Inc</td>\n",
       "      <td>Hardware Asset Management Professional - Subsc...</td>\n",
       "      <td>540000.00</td>\n",
       "    </tr>\n",
       "    <tr>\n",
       "      <th>11</th>\n",
       "      <td>AECOM Services Inc</td>\n",
       "      <td>Software Asset Management Professional - Subsc...</td>\n",
       "      <td>538020.00</td>\n",
       "    </tr>\n",
       "    <tr>\n",
       "      <th>4</th>\n",
       "      <td>AECOM Services Inc</td>\n",
       "      <td>IT Operations Management Visibility - Subscrip...</td>\n",
       "      <td>528000.00</td>\n",
       "    </tr>\n",
       "    <tr>\n",
       "      <th>2</th>\n",
       "      <td>AECOM Services Inc</td>\n",
       "      <td>Business Stakeholder User v4 (USD)</td>\n",
       "      <td>432000.00</td>\n",
       "    </tr>\n",
       "    <tr>\n",
       "      <th>...</th>\n",
       "      <td>...</td>\n",
       "      <td>...</td>\n",
       "      <td>...</td>\n",
       "    </tr>\n",
       "    <tr>\n",
       "      <th>64</th>\n",
       "      <td>Jacobs Engineering Group Inc - NA</td>\n",
       "      <td>Customer Service Management Professional - CSM...</td>\n",
       "      <td>59400.00</td>\n",
       "    </tr>\n",
       "    <tr>\n",
       "      <th>62</th>\n",
       "      <td>Jacobs Engineering Group Inc - NA</td>\n",
       "      <td>Additional Non-Production Instance - Europe Da...</td>\n",
       "      <td>15000.00</td>\n",
       "    </tr>\n",
       "    <tr>\n",
       "      <th>65</th>\n",
       "      <td>Jacobs Engineering Group Inc - NA</td>\n",
       "      <td>Additional Production Environment - Europe Dat...</td>\n",
       "      <td>14199.96</td>\n",
       "    </tr>\n",
       "    <tr>\n",
       "      <th>63</th>\n",
       "      <td>Jacobs Engineering Group Inc - NA</td>\n",
       "      <td>IntegrationHub Starter - Transactions</td>\n",
       "      <td>0.00</td>\n",
       "    </tr>\n",
       "    <tr>\n",
       "      <th>66</th>\n",
       "      <td>Jacobs Engineering Group Inc - NA</td>\n",
       "      <td>Agile Team - Module (USD)</td>\n",
       "      <td>0.00</td>\n",
       "    </tr>\n",
       "  </tbody>\n",
       "</table>\n",
       "<p>67 rows × 3 columns</p>\n",
       "</div>"
      ],
      "text/plain": [
       "                              Account  \\\n",
       "7                  AECOM Services Inc   \n",
       "0                  AECOM Services Inc   \n",
       "11                 AECOM Services Inc   \n",
       "4                  AECOM Services Inc   \n",
       "2                  AECOM Services Inc   \n",
       "..                                ...   \n",
       "64  Jacobs Engineering Group Inc - NA   \n",
       "62  Jacobs Engineering Group Inc - NA   \n",
       "65  Jacobs Engineering Group Inc - NA   \n",
       "63  Jacobs Engineering Group Inc - NA   \n",
       "66  Jacobs Engineering Group Inc - NA   \n",
       "\n",
       "                                  Product Description  Annual Contract Value  \n",
       "7   IT Service Management Professional - Fulfiller...             1069200.00  \n",
       "0   Hardware Asset Management Professional - Subsc...              540000.00  \n",
       "11  Software Asset Management Professional - Subsc...              538020.00  \n",
       "4   IT Operations Management Visibility - Subscrip...              528000.00  \n",
       "2                  Business Stakeholder User v4 (USD)              432000.00  \n",
       "..                                                ...                    ...  \n",
       "64  Customer Service Management Professional - CSM...               59400.00  \n",
       "62  Additional Non-Production Instance - Europe Da...               15000.00  \n",
       "65  Additional Production Environment - Europe Dat...               14199.96  \n",
       "63              IntegrationHub Starter - Transactions                   0.00  \n",
       "66                          Agile Team - Module (USD)                   0.00  \n",
       "\n",
       "[67 rows x 3 columns]"
      ]
     },
     "execution_count": 4,
     "metadata": {},
     "output_type": "execute_result"
    }
   ],
   "source": [
    "# KEEP cols (Accoint, Product Description, Annual Contract Value)\n",
    "accts_sm_df = suds_accts_df[['Account', 'Product Description', 'Annual Contract Value']]\n",
    "\n",
    "# SORT or map by Account and then Annual Contract Value\n",
    "accts_sm_df = accts_sm_df.sort_values(by=['Account', 'Annual Contract Value'], ascending=[True, False])\n",
    "\n",
    "accts_sm_df"
   ]
  },
  {
   "cell_type": "code",
   "execution_count": 8,
   "metadata": {},
   "outputs": [
    {
     "name": "stdout",
     "output_type": "stream",
     "text": [
      "['AECOM Services Inc' 'Experian Ltd' 'Infosys - AECOM'\n",
      " 'Jacobs Engineering Group Inc' 'Jacobs Engineering Group Inc - NA']\n",
      "5\n"
     ]
    }
   ],
   "source": [
    "# LOOK at unique Accounts\n",
    "print(accts_sm_df['Account'].unique())\n",
    "print(len(accts_sm_df['Account'].unique()))"
   ]
  }
 ],
 "metadata": {
  "kernelspec": {
   "display_name": "sip_venv",
   "language": "python",
   "name": "python3"
  },
  "language_info": {
   "codemirror_mode": {
    "name": "ipython",
    "version": 3
   },
   "file_extension": ".py",
   "mimetype": "text/x-python",
   "name": "python",
   "nbconvert_exporter": "python",
   "pygments_lexer": "ipython3",
   "version": "3.11.1"
  }
 },
 "nbformat": 4,
 "nbformat_minor": 2
}
