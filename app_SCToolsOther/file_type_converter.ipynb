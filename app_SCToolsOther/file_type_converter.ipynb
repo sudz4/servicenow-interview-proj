{
 "cells": [
  {
   "cell_type": "markdown",
   "metadata": {},
   "source": []
  },
  {
   "cell_type": "code",
   "execution_count": null,
   "metadata": {},
   "outputs": [],
   "source": [
    "# libs\n",
    "import base64\n",
    "from PIL import Image\n",
    "from io import BytesIO"
   ]
  },
  {
   "cell_type": "code",
   "execution_count": null,
   "metadata": {},
   "outputs": [],
   "source": [
    "# Path to the .iix file\n",
    "iix_file_path = '/path/to/your/file.iix'\n",
    "output_file_path_png = '/path/to/save/file.png'\n",
    "output_file_path_svg = '/path/to/save/file.svg'\n",
    "\n",
    "# Read the .iix file\n",
    "with open(iix_file_path, 'rb') as file:\n",
    "    iix_data = file.read()\n",
    "\n",
    "# Decode the iix data if it is base64 encoded\n",
    "try:\n",
    "    decoded_data = base64.b64decode(iix_data)\n",
    "except Exception as e:\n",
    "    print(f\"Error decoding .iix file: {e}\")\n",
    "    decoded_data = None\n",
    "\n",
    "if decoded_data:\n",
    "    # Try to open the decoded data as an image\n",
    "    try:\n",
    "        image = Image.open(BytesIO(decoded_data))\n",
    "        # Save as PNG\n",
    "        image.save(output_file_path_png)\n",
    "        print(f\"File successfully saved as {output_file_path_png}\")\n",
    "    except Exception as e:\n",
    "        print(f\"Error converting decoded data to image: {e}\")\n",
    "\n",
    "    # For SVG conversion, this step will depend on the nature of the iix file\n",
    "    # Typically, SVGs are vector images and have a different structure\n",
    "    # If the iix file contains vector data, we need to parse and convert it appropriately\n",
    "else:\n",
    "    print(\"Failed to decode .iix file.\")\n"
   ]
  },
  {
   "cell_type": "code",
   "execution_count": null,
   "metadata": {},
   "outputs": [],
   "source": [
    "# Path to the .iix file\n",
    "iix_file_path = '/mnt/data/nlfiletest.iix'\n",
    "output_file_path_svg = '/mnt/data/nlfiletest.svg'\n",
    "\n",
    "# Read the .iix file and save it as .svg\n",
    "with open(iix_file_path, 'rb') as file:\n",
    "    iix_data = file.read()\n",
    "\n",
    "# Write the data to an .svg file\n",
    "with open(output_file_path_svg, 'wb') as file:\n",
    "    file.write(iix_data)\n",
    "\n",
    "print(f\"File successfully saved as {output_file_path_svg}\")\n"
   ]
  }
 ],
 "metadata": {
  "language_info": {
   "name": "python"
  }
 },
 "nbformat": 4,
 "nbformat_minor": 2
}
