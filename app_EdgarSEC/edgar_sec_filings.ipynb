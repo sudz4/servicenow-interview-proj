{
 "cells": [
  {
   "cell_type": "markdown",
   "metadata": {},
   "source": [
    "As a Solution Consultant; \n",
    "I want the ability to quickly obtain ANY TYPE of Edgar SEC Financial filings for up to four (4) companies at a time; \n",
    "for the purpose of gaining a high level understanding of the organizational business direction and objectives. "
   ]
  },
  {
   "cell_type": "code",
   "execution_count": 1,
   "metadata": {},
   "outputs": [
    {
     "ename": "ModuleNotFoundError",
     "evalue": "No module named 'sec_edgar_downloader'",
     "output_type": "error",
     "traceback": [
      "\u001b[0;31m---------------------------------------------------------------------------\u001b[0m",
      "\u001b[0;31mModuleNotFoundError\u001b[0m                       Traceback (most recent call last)",
      "Cell \u001b[0;32mIn[1], line 5\u001b[0m\n\u001b[1;32m      3\u001b[0m \u001b[38;5;28;01mimport\u001b[39;00m \u001b[38;5;21;01mpandas\u001b[39;00m \u001b[38;5;28;01mas\u001b[39;00m \u001b[38;5;21;01mpd\u001b[39;00m\n\u001b[1;32m      4\u001b[0m \u001b[38;5;28;01mimport\u001b[39;00m \u001b[38;5;21;01mtime\u001b[39;00m \n\u001b[0;32m----> 5\u001b[0m \u001b[38;5;28;01mfrom\u001b[39;00m \u001b[38;5;21;01msec_edgar_downloader\u001b[39;00m \u001b[38;5;28;01mimport\u001b[39;00m Downloader\n\u001b[1;32m      6\u001b[0m \u001b[38;5;66;03m# load dotenv\u001b[39;00m\n\u001b[1;32m      7\u001b[0m \u001b[38;5;28;01mfrom\u001b[39;00m \u001b[38;5;21;01mdotenv\u001b[39;00m \u001b[38;5;28;01mimport\u001b[39;00m load_dotenv\n",
      "\u001b[0;31mModuleNotFoundError\u001b[0m: No module named 'sec_edgar_downloader'"
     ]
    }
   ],
   "source": [
    "import datetime as datetime\n",
    "import os\n",
    "import pandas as pd\n",
    "import time \n",
    "from sec_edgar_downloader import Downloader\n",
    "# load dotenv\n",
    "from dotenv import load_dotenv\n",
    "import sys\n",
    "import datetime as datetime"
   ]
  },
  {
   "cell_type": "code",
   "execution_count": 3,
   "metadata": {},
   "outputs": [],
   "source": [
    "from edgar import get_filings\n",
    "from edgar import set_identity, get_filings, Company\n",
    "from edgar import get_by_accession_number\n",
    "from edgar import *"
   ]
  },
  {
   "cell_type": "code",
   "execution_count": 4,
   "metadata": {},
   "outputs": [],
   "source": [
    "from dotenv import load_dotenv"
   ]
  },
  {
   "cell_type": "code",
   "execution_count": 5,
   "metadata": {},
   "outputs": [
    {
     "data": {
      "text/plain": [
       "True"
      ]
     },
     "execution_count": 5,
     "metadata": {},
     "output_type": "execute_result"
    }
   ],
   "source": [
    "load_dotenv()"
   ]
  },
  {
   "cell_type": "code",
   "execution_count": 6,
   "metadata": {},
   "outputs": [
    {
     "name": "stdout",
     "output_type": "stream",
     "text": [
      "Directory created or updated: sec_data/SOFI\n",
      "Directory created or updated: sec_data/SNOW\n"
     ]
    }
   ],
   "source": [
    "#### ---- Folder Directory Structure Create / Update ---- ####\n",
    "\n",
    "# Define the base directory\n",
    "base_dir = \"sec_data\"\n",
    "\n",
    "# Create or update the base directory\n",
    "os.makedirs(base_dir, exist_ok=True)\n",
    "\n",
    "# List of customers\n",
    "customers_list = [\"SOFI\", \"SNOW\"]\n",
    "\n",
    "# Create or update subdirectories for each customer\n",
    "for customer in customers_list:\n",
    "    customer_dir = os.path.join(base_dir, customer)\n",
    "    os.makedirs(customer_dir, exist_ok=True)\n",
    "\n",
    "# Optional: Print the structure to verify\n",
    "for customer in customers_list:\n",
    "    customer_dir = os.path.join(base_dir, customer)\n",
    "    print(f\"Directory created or updated: {customer_dir}\")"
   ]
  },
  {
   "cell_type": "code",
   "execution_count": 7,
   "metadata": {},
   "outputs": [
    {
     "name": "stdout",
     "output_type": "stream",
     "text": [
      "  Symbol CompanyName\n",
      "0   SOFI        Sofi\n",
      "1   SNOW   Snowflake\n"
     ]
    }
   ],
   "source": [
    "# ---- SEC Edgar DB ----\n",
    "stock_name_dict = {\n",
    "    \"SOFI\": \"Sofi\",\n",
    "    \"SNOW\": \"Snowflake\"\n",
    "}\n",
    "\n",
    "# create starter cols for research_df\n",
    "research_df_cols = [\"CompanyName\"]\n",
    "\n",
    "# create a research_df from the dictionary with the cols\n",
    "research_df = pd.DataFrame.from_dict(stock_name_dict, orient='index', columns=research_df_cols)\n",
    "research_df.index.name = 'Symbol'\n",
    "research_df.reset_index(inplace=True)\n",
    "\n",
    "print(research_df)"
   ]
  },
  {
   "cell_type": "code",
   "execution_count": 8,
   "metadata": {},
   "outputs": [
    {
     "name": "stdout",
     "output_type": "stream",
     "text": [
      "['SOFI', 'SNOW']\n"
     ]
    }
   ],
   "source": [
    "# create symbol_list from the research_df\n",
    "symbol_list = research_df['Symbol'].tolist()\n",
    "print(symbol_list)"
   ]
  },
  {
   "cell_type": "code",
   "execution_count": 9,
   "metadata": {},
   "outputs": [
    {
     "data": {
      "text/html": [
       "<pre style=\"white-space:pre;overflow-x:auto;line-height:normal;font-family:Menlo,'DejaVu Sans Mono',consolas,'Courier New',monospace\"><span style=\"color: #7fbfbf; text-decoration-color: #7fbfbf\">[12:24:07] </span><span style=\"color: #000080; text-decoration-color: #000080\">INFO    </span> Identity of the Edgar REST client set to <span style=\"font-weight: bold\">[</span>Matt Sutherland sudz4@proton.me<span style=\"font-weight: bold\">]</span>          <a href=\"file:///Users/sudz4/Desktop/SERVICENOW-INTERVIEW/servicenow-interview-proj/sip_venv/lib/python3.11/site-packages/edgar/core.py\" target=\"_blank\"><span style=\"color: #7f7f7f; text-decoration-color: #7f7f7f\">core.py</span></a><span style=\"color: #7f7f7f; text-decoration-color: #7f7f7f\">:</span><a href=\"file:///Users/sudz4/Desktop/SERVICENOW-INTERVIEW/servicenow-interview-proj/sip_venv/lib/python3.11/site-packages/edgar/core.py#153\" target=\"_blank\"><span style=\"color: #7f7f7f; text-decoration-color: #7f7f7f\">153</span></a>\n",
       "</pre>\n"
      ],
      "text/plain": [
       "\u001b[2;36m[12:24:07]\u001b[0m\u001b[2;36m \u001b[0m\u001b[34mINFO    \u001b[0m Identity of the Edgar REST client set to \u001b[1m[\u001b[0mMatt Sutherland sudz4@proton.me\u001b[1m]\u001b[0m          \u001b]8;id=757155;file:///Users/sudz4/Desktop/SERVICENOW-INTERVIEW/servicenow-interview-proj/sip_venv/lib/python3.11/site-packages/edgar/core.py\u001b\\\u001b[2mcore.py\u001b[0m\u001b]8;;\u001b\\\u001b[2m:\u001b[0m\u001b]8;id=320722;file:///Users/sudz4/Desktop/SERVICENOW-INTERVIEW/servicenow-interview-proj/sip_venv/lib/python3.11/site-packages/edgar/core.py#153\u001b\\\u001b[2m153\u001b[0m\u001b]8;;\u001b\\\n"
      ]
     },
     "metadata": {},
     "output_type": "display_data"
    }
   ],
   "source": [
    "set_identity(\"Matt Sutherland sudz4@proton.me\")"
   ]
  },
  {
   "cell_type": "code",
   "execution_count": 10,
   "metadata": {},
   "outputs": [
    {
     "data": {
      "text/html": [
       "<pre style=\"white-space:pre;overflow-x:auto;line-height:normal;font-family:Menlo,'DejaVu Sans Mono',consolas,'Courier New',monospace\"></pre>\n"
      ],
      "text/plain": []
     },
     "metadata": {},
     "output_type": "display_data"
    },
    {
     "name": "stdout",
     "output_type": "stream",
     "text": [
      "<bound method Filing.view of ╭───────────────────────────────────\u001b[1m ADMA BIOLOGICS, INC. [1368514] DEF 14A 📄 \u001b[0m───────────────────────────────────╮\n",
      "│ ╭──────────────────────┬────────────╮                                                                           │\n",
      "│ │\u001b[1;38;5;39m \u001b[0m\u001b[1;38;5;39m0001140361-23-018237\u001b[0m\u001b[1;38;5;39m \u001b[0m│ 2023-04-13 │                                                                           │\n",
      "│ ╰──────────────────────┴────────────╯                                                                           │\n",
      "│ ╭────────────────────────────────────────────────────────────────────────────────────────────╮                  │\n",
      "│ │\u001b[1m \u001b[0m\u001b[1mLinks\u001b[0m\u001b[1m: 🏠 Homepage 📄 Primary Document 📜 Full Submission Text                            \u001b[0m\u001b[1m \u001b[0m│                  │\n",
      "│ ├────────────────────────────────────────────────────────────────────────────────────────────┤                  │\n",
      "│ │ 🏠 https://sec.gov/Archives/edgar/data/1368514/0001140361-23-018237-index.html             │                  │\n",
      "│ │ 📄 https://sec.gov/Archives/edgar/data/1368514/000114036123018237/ny20007545x2_def14a.htm  │                  │\n",
      "│ │ 📜 https://sec.gov/Archives/edgar/data/1368514/000114036123018237/0001140361-23-018237.txt │                  │\n",
      "│ ╰────────────────────────────────────────────────────────────────────────────────────────────╯                  │\n",
      "╰─────────────────────────────────── Form DEF 14A: Definitive proxy statement ────────────────────────────────────╯\n",
      ">\n"
     ]
    }
   ],
   "source": [
    "# define form type\n",
    "forms = {\n",
    "    '1': '10-K', # annual report\n",
    "    '2': '10-Q', # quarterly report\n",
    "    '3': 'DEF 14A', # proxy statement\n",
    "    '4': '8-K' # current report\n",
    "}  \n",
    "selected_form = forms['3']\n",
    "\n",
    "# get filings\n",
    "filings = Company('ADMA').get_filings(form = selected_form)\n",
    "filing = filings[1]\n",
    "\n",
    "# filing.open() # open document in browser\n",
    "print(filing.view)"
   ]
  },
  {
   "cell_type": "code",
   "execution_count": 11,
   "metadata": {},
   "outputs": [],
   "source": [
    "# DIRECTORY\n",
    "# save_dir = \"SEC/files\"\n",
    "save_dir = \"/Users/sudz4/Desktop/SERVICENOW-INTERVIEW/servicenow-interview-proj/app_EdgarSEC/sec_data\"\n",
    "os.makedirs(save_dir, exist_ok=True)\n",
    "\n",
    "# DOWNLOAD \n",
    "def download_sec_filings(tickers, sec_form):\n",
    "    for ticker in tickers:\n",
    "        try:\n",
    "            company = Company(ticker)\n",
    "            #### ---- GET the LATEST {type} of filing ---- ####\n",
    "            filing = company.get_filings(form=sec_form).latest(1) # <- adjust filing recentness here\n",
    "            if filing is not None:\n",
    "                # save the filing as text\n",
    "                filing_text = filing.text()\n",
    "                with open(os.path.join(save_dir, f\"{ticker}_{sec_form}.txt\"), \"w\") as f:\n",
    "                    f.write(filing_text)\n",
    "                print(f\"Downloaded {sec_form} for {ticker}\")\n",
    "            else:\n",
    "                print(f\"No {sec_form} filing found for {ticker}\")\n",
    "            time.sleep(1)  # delay to prevent hitting rate limits\n",
    "        except Exception as e:\n",
    "            print(f\"An error occurred for {ticker}: {e}\")\n",
    "            time.sleep(5)  # longer delay in case of error"
   ]
  },
  {
   "cell_type": "code",
   "execution_count": 12,
   "metadata": {},
   "outputs": [
    {
     "name": "stdout",
     "output_type": "stream",
     "text": [
      "['SOFI', 'SNOW']\n"
     ]
    }
   ],
   "source": [
    "print(symbol_list)"
   ]
  },
  {
   "cell_type": "code",
   "execution_count": 13,
   "metadata": {},
   "outputs": [
    {
     "name": "stdout",
     "output_type": "stream",
     "text": [
      "DEF 14A\n"
     ]
    }
   ],
   "source": [
    "# print the form of the filing\n",
    "print(selected_form)"
   ]
  },
  {
   "cell_type": "code",
   "execution_count": 14,
   "metadata": {},
   "outputs": [
    {
     "name": "stdout",
     "output_type": "stream",
     "text": [
      "Downloaded DEF 14A for SOFI\n",
      "Downloaded DEF 14A for SNOW\n"
     ]
    }
   ],
   "source": [
    "download_sec_filings(symbol_list, selected_form)"
   ]
  },
  {
   "cell_type": "markdown",
   "metadata": {},
   "source": [
    "| END OF WORK |\n",
    "|-|\n",
    "| old code snippets below |"
   ]
  },
  {
   "cell_type": "code",
   "execution_count": 15,
   "metadata": {},
   "outputs": [
    {
     "data": {
      "text/plain": [
       "'   \\nNOTES; come back to this after you do that other shit\\n\\n'"
      ]
     },
     "execution_count": 15,
     "metadata": {},
     "output_type": "execute_result"
    }
   ],
   "source": [
    "\"\"\"   \n",
    "NOTES; come back to this after you do that other shit\n",
    "\n",
    "\"\"\"\n",
    "##### you can update \n",
    "# i think make it into like and app_SEC subdirect structure\n",
    "# lower priority now\n",
    "# dont ping the api again for but test and collect same filings for 'NOW' and 'PLTR'"
   ]
  },
  {
   "cell_type": "code",
   "execution_count": 16,
   "metadata": {},
   "outputs": [],
   "source": [
    "# #### ---- Folder Directory Structure Create / Update ---- ####\n",
    "\n",
    "# # create or update existing directory\n",
    "# customers_dir = \"CUSTOMERS\"\n",
    "# os.makedirs(customers_dir, exist_ok=True)\n",
    "\n",
    "# # create list of customers\n",
    "# customers_list = [\"AECOM\", \"Experian\", \"Jacobs Solutions\"]\n",
    "# # create or update subdirectories\n",
    "# for customer in customers_list:\n",
    "#     customer_dir = f\"{customers_dir}/{customer}\"\n",
    "#     os.makedirs(customer_dir, exist_ok=True)"
   ]
  }
 ],
 "metadata": {
  "kernelspec": {
   "display_name": "venv_now",
   "language": "python",
   "name": "python3"
  },
  "language_info": {
   "codemirror_mode": {
    "name": "ipython",
    "version": 3
   },
   "file_extension": ".py",
   "mimetype": "text/x-python",
   "name": "python",
   "nbconvert_exporter": "python",
   "pygments_lexer": "ipython3",
   "version": "3.11.1"
  }
 },
 "nbformat": 4,
 "nbformat_minor": 2
}
