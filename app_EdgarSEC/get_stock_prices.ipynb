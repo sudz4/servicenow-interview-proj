{
 "cells": [
  {
   "cell_type": "markdown",
   "metadata": {},
   "source": [
    "#### get stock prices for relevant symbols"
   ]
  },
  {
   "cell_type": "code",
   "execution_count": 1,
   "metadata": {},
   "outputs": [],
   "source": [
    "# LIBS\n",
    "import pandas as pd\n",
    "import numpy as np\n",
    "\n",
    "# import yahoo finance \n",
    "import datetime\n"
   ]
  },
  {
   "cell_type": "code",
   "execution_count": 2,
   "metadata": {},
   "outputs": [],
   "source": [
    "import yfinance as yf"
   ]
  },
  {
   "cell_type": "code",
   "execution_count": 5,
   "metadata": {},
   "outputs": [
    {
     "name": "stdout",
     "output_type": "stream",
     "text": [
      "The most recent closing price of NOW is: $878.95\n",
      "The most recent closing price of SOFI is: $7.74\n",
      "The most recent closing price of PLTR is: $35.59\n",
      "The most recent closing price of NVDA is: $119.10\n",
      "The most recent closing price of TSLA is: $230.29\n",
      "The most recent closing price of INTC is: $19.66\n"
     ]
    }
   ],
   "source": [
    "# LIST (stock symbols)\n",
    "symbols = ['NOW', 'SOFI', 'PLTR', 'NVDA', 'TSLA', 'INTC']\n",
    "\n",
    "# empy dict\n",
    "stock_prices = {}\n",
    "\n",
    "# FETCH (most recent stock price for each symbol)\n",
    "for symbol in symbols:\n",
    "    stock = yf.Ticker(symbol)\n",
    "    stock_info = stock.history(period='1d')\n",
    "    if not stock_info.empty:\n",
    "        current_price = stock_info['Close'].iloc[-1]\n",
    "        stock_prices[symbol] = current_price\n",
    "    else:\n",
    "        stock_prices[symbol] = None\n",
    "\n",
    "# Display the stock prices\n",
    "for symbol, price in stock_prices.items():\n",
    "    if price is not None:\n",
    "        print(f\"The most recent closing price of {symbol} is: ${price:.2f}\")\n",
    "    else:\n",
    "        print(f\"Failed to retrieve the price for {symbol}\")\n"
   ]
  }
 ],
 "metadata": {
  "kernelspec": {
   "display_name": "sip_venv",
   "language": "python",
   "name": "python3"
  },
  "language_info": {
   "codemirror_mode": {
    "name": "ipython",
    "version": 3
   },
   "file_extension": ".py",
   "mimetype": "text/x-python",
   "name": "python",
   "nbconvert_exporter": "python",
   "pygments_lexer": "ipython3",
   "version": "3.11.1"
  }
 },
 "nbformat": 4,
 "nbformat_minor": 2
}
