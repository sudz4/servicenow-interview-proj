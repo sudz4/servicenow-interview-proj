{
 "cells": [
  {
   "cell_type": "markdown",
   "metadata": {},
   "source": [
    "#### get stock prices for relevant symbols"
   ]
  },
  {
   "cell_type": "code",
   "execution_count": 3,
   "metadata": {},
   "outputs": [],
   "source": [
    "# LIBS\n",
    "import pandas as pd\n",
    "import numpy as np\n",
    "\n",
    "# import yahoo finance \n",
    "import datetime\n"
   ]
  },
  {
   "cell_type": "code",
   "execution_count": 4,
   "metadata": {},
   "outputs": [
    {
     "ename": "ModuleNotFoundError",
     "evalue": "No module named 'yfinance'",
     "output_type": "error",
     "traceback": [
      "\u001b[0;31m---------------------------------------------------------------------------\u001b[0m",
      "\u001b[0;31mModuleNotFoundError\u001b[0m                       Traceback (most recent call last)",
      "Cell \u001b[0;32mIn[4], line 1\u001b[0m\n\u001b[0;32m----> 1\u001b[0m \u001b[38;5;28;01mimport\u001b[39;00m \u001b[38;5;21;01myfinance\u001b[39;00m \u001b[38;5;28;01mas\u001b[39;00m \u001b[38;5;21;01myf\u001b[39;00m\n",
      "\u001b[0;31mModuleNotFoundError\u001b[0m: No module named 'yfinance'"
     ]
    }
   ],
   "source": [
    "import yfinance as yf"
   ]
  },
  {
   "cell_type": "code",
   "execution_count": null,
   "metadata": {},
   "outputs": [],
   "source": [
    "import yfinance as yf\n",
    "\n",
    "# List of stock symbols\n",
    "symbols = ['NOW', 'SOFI', 'PLTR', 'ROIC']\n",
    "\n",
    "# Dictionary to store stock prices\n",
    "stock_prices = {}\n",
    "\n",
    "# Fetch the most recent stock price for each symbol\n",
    "for symbol in symbols:\n",
    "    stock = yf.Ticker(symbol)\n",
    "    stock_info = stock.history(period='1d')\n",
    "    if not stock_info.empty:\n",
    "        current_price = stock_info['Close'].iloc[-1]\n",
    "        stock_prices[symbol] = current_price\n",
    "    else:\n",
    "        stock_prices[symbol] = None\n",
    "\n",
    "# Display the stock prices\n",
    "for symbol, price in stock_prices.items():\n",
    "    if price is not None:\n",
    "        print(f\"The most recent closing price of {symbol} is: ${price:.2f}\")\n",
    "    else:\n",
    "        print(f\"Failed to retrieve the price for {symbol}\")\n"
   ]
  }
 ],
 "metadata": {
  "kernelspec": {
   "display_name": "sip_venv",
   "language": "python",
   "name": "python3"
  },
  "language_info": {
   "codemirror_mode": {
    "name": "ipython",
    "version": 3
   },
   "file_extension": ".py",
   "mimetype": "text/x-python",
   "name": "python",
   "nbconvert_exporter": "python",
   "pygments_lexer": "ipython3",
   "version": "3.11.1"
  }
 },
 "nbformat": 4,
 "nbformat_minor": 2
}
