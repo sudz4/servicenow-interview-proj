{
 "cells": [
  {
   "cell_type": "markdown",
   "metadata": {},
   "source": []
  },
  {
   "cell_type": "code",
   "execution_count": 21,
   "metadata": {},
   "outputs": [],
   "source": [
    "# libs\n",
    "import os\n",
    "import pandas as pd\n",
    "import numpy as np\n",
    "import requests\n",
    "from requests.auth import HTTPBasicAuth\n"
   ]
  },
  {
   "cell_type": "code",
   "execution_count": 22,
   "metadata": {},
   "outputs": [],
   "source": [
    "from dotenv import load_dotenv"
   ]
  },
  {
   "cell_type": "code",
   "execution_count": 23,
   "metadata": {},
   "outputs": [
    {
     "data": {
      "text/plain": [
       "True"
      ]
     },
     "execution_count": 23,
     "metadata": {},
     "output_type": "execute_result"
    }
   ],
   "source": [
    "load_dotenv()"
   ]
  },
  {
   "cell_type": "code",
   "execution_count": 24,
   "metadata": {},
   "outputs": [],
   "source": [
    "\"\"\" \n",
    "SETUP Zone\n",
    "+ ServiceNow rest api url construction\n",
    "\"\"\"\n",
    "# instance = os.getenv('pdi_instance')\n",
    "instance = os.getenv('demo_instance')\n",
    "# user = os.getenv('pdi_un')\n",
    "# pwd = os.getenv('pdi_pw')\n",
    "integration_user = os.getenv('integration_un')\n",
    "pwd = os.getenv('integration_pw')"
   ]
  },
  {
   "cell_type": "code",
   "execution_count": 25,
   "metadata": {},
   "outputs": [
    {
     "name": "stdout",
     "output_type": "stream",
     "text": [
      "Error: 403\n",
      "{\"error\":{\"message\":\"User Not Authorized\",\"detail\":\"Failed API level ACL Validation\"},\"status\":\"failure\"}\n",
      "Failed to retrieve plugins.\n"
     ]
    }
   ],
   "source": [
    "#### VERIFY Plugin Install #### \n",
    "# Function to get installed plugins\n",
    "def get_installed_plugins(instance, integration_user, pwd):\n",
    "    # Endpoint for retrieving plugins\n",
    "    url = f'https://{instance}.service-now.com/api/now/table/sys_plugins'\n",
    "    \n",
    "    # Headers\n",
    "    headers = {\n",
    "        'Accept': 'application/json'\n",
    "    }\n",
    "    \n",
    "    try:\n",
    "        # Make the GET request\n",
    "        response = requests.get(url, auth=HTTPBasicAuth(integration_user, pwd), headers=headers)\n",
    "        \n",
    "        # Check the response status code\n",
    "        if response.status_code == 200:\n",
    "            data = response.json().get('result', [])\n",
    "            # Create a dataframe from the retrieved data\n",
    "            df = pd.DataFrame(data)\n",
    "            return df\n",
    "        else:\n",
    "            print(f'Error: {response.status_code}')\n",
    "            print(response.text)\n",
    "            return None\n",
    "    except requests.exceptions.RequestException as e:\n",
    "        print(f'Request failed: {e}')\n",
    "        return None\n",
    "\n",
    "# Get installed plugins\n",
    "plugins_df = get_installed_plugins(instance, integration_user, pwd)\n",
    "\n",
    "if plugins_df is not None:\n",
    "    print(plugins_df.head(5))\n",
    "else:\n",
    "    print(\"Failed to retrieve plugins.\")"
   ]
  },
  {
   "cell_type": "code",
   "execution_count": 26,
   "metadata": {},
   "outputs": [],
   "source": [
    "#### LIST All Available Plugins ####"
   ]
  },
  {
   "cell_type": "code",
   "execution_count": 27,
   "metadata": {},
   "outputs": [],
   "source": [
    "#### INSTALL Plugin (if not installed) ####"
   ]
  },
  {
   "cell_type": "code",
   "execution_count": 28,
   "metadata": {},
   "outputs": [],
   "source": [
    "#### ??? LIST All Unavailable Plugins ??? ####"
   ]
  }
 ],
 "metadata": {
  "kernelspec": {
   "display_name": "sip_venv",
   "language": "python",
   "name": "python3"
  },
  "language_info": {
   "codemirror_mode": {
    "name": "ipython",
    "version": 3
   },
   "file_extension": ".py",
   "mimetype": "text/x-python",
   "name": "python",
   "nbconvert_exporter": "python",
   "pygments_lexer": "ipython3",
   "version": "3.11.1"
  }
 },
 "nbformat": 4,
 "nbformat_minor": 2
}
