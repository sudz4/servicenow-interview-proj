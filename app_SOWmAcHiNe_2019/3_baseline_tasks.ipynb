{
 "cells": [
  {
   "cell_type": "markdown",
   "id": "41cfe10f",
   "metadata": {
    "papermill": {
     "duration": 0.005058,
     "end_time": "2024-09-16T06:38:23.412912",
     "exception": false,
     "start_time": "2024-09-16T06:38:23.407854",
     "status": "completed"
    },
    "tags": []
   },
   "source": [
    "| BASELINE TASKS | SOW Template Setup |\n",
    "| ----------- | ----------- |"
   ]
  },
  {
   "cell_type": "code",
   "execution_count": 1,
   "id": "9a67c9b6",
   "metadata": {
    "execution": {
     "iopub.execute_input": "2024-09-16T06:38:23.416311Z",
     "iopub.status.busy": "2024-09-16T06:38:23.416149Z",
     "iopub.status.idle": "2024-09-16T06:38:23.881860Z",
     "shell.execute_reply": "2024-09-16T06:38:23.881554Z"
    },
    "papermill": {
     "duration": 0.468782,
     "end_time": "2024-09-16T06:38:23.883203",
     "exception": false,
     "start_time": "2024-09-16T06:38:23.414421",
     "status": "completed"
    },
    "tags": []
   },
   "outputs": [],
   "source": [
    "import xlwings as xw\n",
    "from openpyxl import Workbook, load_workbook\n",
    "import xlsxwriter \n",
    "\n",
    "import pandas as pd\n",
    "import numpy as np\n",
    "import datetime as dt \n",
    "import time\n",
    "import sys\n",
    "\n",
    "\"\"\"\n",
    "Latest xlwings release: v0.27.15\n",
    "https://www.xlwings.org/\n",
    "\n",
    "\"\"\"\n",
    "xw.__version__ \n",
    "\n",
    "from appscript import k"
   ]
  },
  {
   "cell_type": "code",
   "execution_count": 2,
   "id": "75808502",
   "metadata": {
    "execution": {
     "iopub.execute_input": "2024-09-16T06:38:23.886562Z",
     "iopub.status.busy": "2024-09-16T06:38:23.886261Z",
     "iopub.status.idle": "2024-09-16T06:38:24.597416Z",
     "shell.execute_reply": "2024-09-16T06:38:24.596931Z"
    },
    "papermill": {
     "duration": 0.713822,
     "end_time": "2024-09-16T06:38:24.598451",
     "exception": false,
     "start_time": "2024-09-16T06:38:23.884629",
     "status": "completed"
    },
    "tags": []
   },
   "outputs": [],
   "source": [
    "# Connect to workbook\n",
    "book_number = 'book01.xlsx'\n",
    "wb = xw.Book(book_number)\n",
    "sheet = wb.sheets[0]"
   ]
  },
  {
   "cell_type": "code",
   "execution_count": 3,
   "id": "1c773c60",
   "metadata": {
    "execution": {
     "iopub.execute_input": "2024-09-16T06:38:24.601630Z",
     "iopub.status.busy": "2024-09-16T06:38:24.601489Z",
     "iopub.status.idle": "2024-09-16T06:38:24.726076Z",
     "shell.execute_reply": "2024-09-16T06:38:24.725762Z"
    },
    "papermill": {
     "duration": 0.127128,
     "end_time": "2024-09-16T06:38:24.726884",
     "exception": false,
     "start_time": "2024-09-16T06:38:24.599756",
     "status": "completed"
    },
    "tags": []
   },
   "outputs": [
    {
     "name": "stdout",
     "output_type": "stream",
     "text": [
      "<App [excel] 22945>\n",
      "<Book [book01.xlsx]>\n",
      "<Sheet [book01.xlsx]Sheet1>\n"
     ]
    }
   ],
   "source": [
    "\"\"\"\n",
    "Verify active excel workbook and sheet\n",
    "\"\"\"\n",
    "print(xw.apps.active)\n",
    "print(xw.books.active)\n",
    "print(xw.sheets.active)"
   ]
  },
  {
   "cell_type": "code",
   "execution_count": 4,
   "id": "85d03e96",
   "metadata": {
    "execution": {
     "iopub.execute_input": "2024-09-16T06:38:24.729825Z",
     "iopub.status.busy": "2024-09-16T06:38:24.729704Z",
     "iopub.status.idle": "2024-09-16T06:38:24.811044Z",
     "shell.execute_reply": "2024-09-16T06:38:24.810753Z"
    },
    "papermill": {
     "duration": 0.083854,
     "end_time": "2024-09-16T06:38:24.812060",
     "exception": false,
     "start_time": "2024-09-16T06:38:24.728206",
     "status": "completed"
    },
    "tags": []
   },
   "outputs": [],
   "source": [
    "# Import baseline task data from excel\n",
    "base_env_df = pd.read_excel('sow_input_data.xlsx', sheet_name = 'ENVISION')\n",
    "base_int_df = pd.read_excel('sow_input_data.xlsx', sheet_name = 'INITIATE')\n",
    "base_def_df = pd.read_excel('sow_input_data.xlsx', sheet_name = 'DEFINE')\n",
    "base_des_df = pd.read_excel('sow_input_data.xlsx', sheet_name = 'DESIGN')\n",
    "base_bld_df = pd.read_excel('sow_input_data.xlsx', sheet_name = 'BUILD')\n",
    "base_trn_df = pd.read_excel('sow_input_data.xlsx', sheet_name = 'TRANSITION')\n",
    "base_cls_df = pd.read_excel('sow_input_data.xlsx', sheet_name = 'CLOSE')"
   ]
  },
  {
   "cell_type": "code",
   "execution_count": 5,
   "id": "4422b8b9",
   "metadata": {
    "execution": {
     "iopub.execute_input": "2024-09-16T06:38:24.814878Z",
     "iopub.status.busy": "2024-09-16T06:38:24.814768Z",
     "iopub.status.idle": "2024-09-16T06:38:24.819549Z",
     "shell.execute_reply": "2024-09-16T06:38:24.819338Z"
    },
    "papermill": {
     "duration": 0.006988,
     "end_time": "2024-09-16T06:38:24.820338",
     "exception": false,
     "start_time": "2024-09-16T06:38:24.813350",
     "status": "completed"
    },
    "tags": []
   },
   "outputs": [
    {
     "data": {
      "text/html": [
       "<div>\n",
       "<style scoped>\n",
       "    .dataframe tbody tr th:only-of-type {\n",
       "        vertical-align: middle;\n",
       "    }\n",
       "\n",
       "    .dataframe tbody tr th {\n",
       "        vertical-align: top;\n",
       "    }\n",
       "\n",
       "    .dataframe thead th {\n",
       "        text-align: right;\n",
       "    }\n",
       "</style>\n",
       "<table border=\"1\" class=\"dataframe\">\n",
       "  <thead>\n",
       "    <tr style=\"text-align: right;\">\n",
       "      <th></th>\n",
       "      <th>task</th>\n",
       "      <th>task_details</th>\n",
       "      <th>role</th>\n",
       "      <th>hours</th>\n",
       "    </tr>\n",
       "  </thead>\n",
       "  <tbody>\n",
       "    <tr>\n",
       "      <th>0</th>\n",
       "      <td>Project Initiation</td>\n",
       "      <td>Conduct a \"soft launch\" initial project planni...</td>\n",
       "      <td>EM</td>\n",
       "      <td>4</td>\n",
       "    </tr>\n",
       "    <tr>\n",
       "      <th>1</th>\n",
       "      <td>Project Pre-Work</td>\n",
       "      <td>Prepare and deliver \"pre-work\" materials.\\n\\nP...</td>\n",
       "      <td>BPC</td>\n",
       "      <td>2</td>\n",
       "    </tr>\n",
       "  </tbody>\n",
       "</table>\n",
       "</div>"
      ],
      "text/plain": [
       "                 task                                       task_details role  \\\n",
       "0  Project Initiation  Conduct a \"soft launch\" initial project planni...   EM   \n",
       "1    Project Pre-Work  Prepare and deliver \"pre-work\" materials.\\n\\nP...  BPC   \n",
       "\n",
       "   hours  \n",
       "0      4  \n",
       "1      2  "
      ]
     },
     "execution_count": 5,
     "metadata": {},
     "output_type": "execute_result"
    }
   ],
   "source": [
    "base_env_df"
   ]
  },
  {
   "cell_type": "code",
   "execution_count": 6,
   "id": "62b0fd7b",
   "metadata": {
    "execution": {
     "iopub.execute_input": "2024-09-16T06:38:24.822985Z",
     "iopub.status.busy": "2024-09-16T06:38:24.822880Z",
     "iopub.status.idle": "2024-09-16T06:38:25.734447Z",
     "shell.execute_reply": "2024-09-16T06:38:25.734072Z"
    },
    "papermill": {
     "duration": 0.914029,
     "end_time": "2024-09-16T06:38:25.735464",
     "exception": false,
     "start_time": "2024-09-16T06:38:24.821435",
     "status": "completed"
    },
    "tags": []
   },
   "outputs": [],
   "source": [
    "# Write dataframes to SOW excel doc\n",
    "sheet['env_nr'][1:,1:].options(index=False, header=False).value = base_env_df\n",
    "sheet['int_nr'][1:,1:].options(index=False, header=False).value = base_int_df\n",
    "sheet['def_nr'][1:,1:].options(index=False, header=False).value = base_def_df\n",
    "sheet['des_nr'][1:,1:].options(index=False, header=False).value = base_des_df\n",
    "sheet['bld_nr'][1:,1:].options(index=False, header=False).value = base_bld_df\n",
    "sheet['trn_nr'][1:,1:].options(index=False, header=False).value = base_trn_df\n",
    "sheet['cls_nr'][1:,1:].options(index=False, header=False).value = base_cls_df"
   ]
  },
  {
   "cell_type": "code",
   "execution_count": 7,
   "id": "43e0eb36",
   "metadata": {
    "execution": {
     "iopub.execute_input": "2024-09-16T06:38:25.738773Z",
     "iopub.status.busy": "2024-09-16T06:38:25.738648Z",
     "iopub.status.idle": "2024-09-16T06:38:26.179632Z",
     "shell.execute_reply": "2024-09-16T06:38:26.179337Z"
    },
    "papermill": {
     "duration": 0.443772,
     "end_time": "2024-09-16T06:38:26.180705",
     "exception": false,
     "start_time": "2024-09-16T06:38:25.736933",
     "status": "completed"
    },
    "tags": []
   },
   "outputs": [],
   "source": [
    "# FORMULAS - QA / TESTING\n",
    "\n",
    "# Planning\n",
    "sheet['trn_nr'][3,4].formula = '=ROUNDUP(E138*.05,0)' # IMPORTANT only QA hours from BUILD phase\n",
    "sheet['trn_nr'][4,4].formula = '=ROUNDUP(E138*.05,0)'\n",
    "\n",
    "# Executing\n",
    "sheet['trn_nr'][5,4].formula = '=ROUNDUP(E138*.05,0)'\n",
    "sheet['trn_nr'][6,4].formula = '=ROUNDUP(E138*.05,0)'"
   ]
  },
  {
   "cell_type": "code",
   "execution_count": 8,
   "id": "15de37b1",
   "metadata": {
    "execution": {
     "iopub.execute_input": "2024-09-16T06:38:26.183917Z",
     "iopub.status.busy": "2024-09-16T06:38:26.183796Z",
     "iopub.status.idle": "2024-09-16T06:38:26.361934Z",
     "shell.execute_reply": "2024-09-16T06:38:26.361386Z"
    },
    "papermill": {
     "duration": 0.181066,
     "end_time": "2024-09-16T06:38:26.363229",
     "exception": false,
     "start_time": "2024-09-16T06:38:26.182163",
     "status": "completed"
    },
    "tags": []
   },
   "outputs": [],
   "source": [
    "# SAVE\n",
    "book_number = 'book01.xlsx'\n",
    "wb.save(book_number)"
   ]
  },
  {
   "cell_type": "markdown",
   "id": "dfe7e00b",
   "metadata": {
    "papermill": {
     "duration": 0.002642,
     "end_time": "2024-09-16T06:38:26.369217",
     "exception": false,
     "start_time": "2024-09-16T06:38:26.366575",
     "status": "completed"
    },
    "tags": []
   },
   "source": [
    "| END OF PROGRAM |\n",
    "| ----------- |"
   ]
  },
  {
   "cell_type": "markdown",
   "id": "6a714175",
   "metadata": {
    "papermill": {
     "duration": 0.00162,
     "end_time": "2024-09-16T06:38:26.372207",
     "exception": false,
     "start_time": "2024-09-16T06:38:26.370587",
     "status": "completed"
    },
    "tags": []
   },
   "source": []
  }
 ],
 "metadata": {
  "kernelspec": {
   "display_name": "sowmachine_venv",
   "language": "python",
   "name": "python3"
  },
  "language_info": {
   "codemirror_mode": {
    "name": "ipython",
    "version": 3
   },
   "file_extension": ".py",
   "mimetype": "text/x-python",
   "name": "python",
   "nbconvert_exporter": "python",
   "pygments_lexer": "ipython3",
   "version": "3.11.1"
  },
  "papermill": {
   "default_parameters": {},
   "duration": 4.001868,
   "end_time": "2024-09-16T06:38:26.692968",
   "environment_variables": {},
   "exception": null,
   "input_path": "3_baseline_tasks.ipynb",
   "output_path": "3_baseline_tasks.ipynb",
   "parameters": {},
   "start_time": "2024-09-16T06:38:22.691100",
   "version": "2.6.0"
  },
  "vscode": {
   "interpreter": {
    "hash": "fb97792c95ecc40909c77d7c0c5a2e301450a97269f294267b9ea907136fa9f0"
   }
  }
 },
 "nbformat": 4,
 "nbformat_minor": 5
}