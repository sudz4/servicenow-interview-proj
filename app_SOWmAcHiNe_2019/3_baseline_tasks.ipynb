{
 "cells": [
  {
   "cell_type": "markdown",
   "id": "41cfe10f",
   "metadata": {
    "papermill": {
     "duration": 0.005935,
     "end_time": "2024-09-16T06:01:05.672160",
     "exception": false,
     "start_time": "2024-09-16T06:01:05.666225",
     "status": "completed"
    },
    "tags": []
   },
   "source": [
    "| BASELINE TASKS | SOW Template Setup |\n",
    "| ----------- | ----------- |"
   ]
  },
  {
   "cell_type": "code",
   "execution_count": 1,
   "id": "9a67c9b6",
   "metadata": {
    "execution": {
     "iopub.execute_input": "2024-09-16T06:01:05.679357Z",
     "iopub.status.busy": "2024-09-16T06:01:05.678835Z",
     "iopub.status.idle": "2024-09-16T06:01:06.079714Z",
     "shell.execute_reply": "2024-09-16T06:01:06.079427Z"
    },
    "papermill": {
     "duration": 0.405523,
     "end_time": "2024-09-16T06:01:06.080711",
     "exception": false,
     "start_time": "2024-09-16T06:01:05.675188",
     "status": "completed"
    },
    "tags": []
   },
   "outputs": [],
   "source": [
    "import xlwings as xw\n",
    "from openpyxl import Workbook, load_workbook\n",
    "import xlsxwriter \n",
    "\n",
    "import pandas as pd\n",
    "import numpy as np\n",
    "import datetime as dt \n",
    "import time\n",
    "import sys\n",
    "\n",
    "\"\"\"\n",
    "Latest xlwings release: v0.27.15\n",
    "https://www.xlwings.org/\n",
    "\n",
    "\"\"\"\n",
    "xw.__version__ \n",
    "\n",
    "from appscript import k"
   ]
  },
  {
   "cell_type": "code",
   "execution_count": 2,
   "id": "75808502",
   "metadata": {
    "execution": {
     "iopub.execute_input": "2024-09-16T06:01:06.083414Z",
     "iopub.status.busy": "2024-09-16T06:01:06.083277Z",
     "iopub.status.idle": "2024-09-16T06:01:06.193948Z",
     "shell.execute_reply": "2024-09-16T06:01:06.193473Z"
    },
    "papermill": {
     "duration": 0.113197,
     "end_time": "2024-09-16T06:01:06.195084",
     "exception": false,
     "start_time": "2024-09-16T06:01:06.081887",
     "status": "completed"
    },
    "tags": []
   },
   "outputs": [],
   "source": [
    "# Connect to workbook\n",
    "book_number = 'book01.xlsx'\n",
    "wb = xw.Book(book_number)\n",
    "sheet = wb.sheets[0]"
   ]
  },
  {
   "cell_type": "code",
   "execution_count": 3,
   "id": "1c773c60",
   "metadata": {
    "execution": {
     "iopub.execute_input": "2024-09-16T06:01:06.198267Z",
     "iopub.status.busy": "2024-09-16T06:01:06.198132Z",
     "iopub.status.idle": "2024-09-16T06:01:06.308034Z",
     "shell.execute_reply": "2024-09-16T06:01:06.307715Z"
    },
    "papermill": {
     "duration": 0.112438,
     "end_time": "2024-09-16T06:01:06.308905",
     "exception": false,
     "start_time": "2024-09-16T06:01:06.196467",
     "status": "completed"
    },
    "tags": []
   },
   "outputs": [
    {
     "name": "stdout",
     "output_type": "stream",
     "text": [
      "<App [excel] 22945>\n",
      "<Book [book01.xlsx]>\n",
      "<Sheet [book01.xlsx]Sheet1>\n"
     ]
    }
   ],
   "source": [
    "\"\"\"\n",
    "Verify active excel workbook and sheet\n",
    "\"\"\"\n",
    "print(xw.apps.active)\n",
    "print(xw.books.active)\n",
    "print(xw.sheets.active)"
   ]
  },
  {
   "cell_type": "code",
   "execution_count": 4,
   "id": "85d03e96",
   "metadata": {
    "execution": {
     "iopub.execute_input": "2024-09-16T06:01:06.311766Z",
     "iopub.status.busy": "2024-09-16T06:01:06.311646Z",
     "iopub.status.idle": "2024-09-16T06:01:06.389728Z",
     "shell.execute_reply": "2024-09-16T06:01:06.389445Z"
    },
    "papermill": {
     "duration": 0.080514,
     "end_time": "2024-09-16T06:01:06.390697",
     "exception": false,
     "start_time": "2024-09-16T06:01:06.310183",
     "status": "completed"
    },
    "tags": []
   },
   "outputs": [],
   "source": [
    "# Import baseline task data from excel\n",
    "base_env_df = pd.read_excel('sow_input_data.xlsx', sheet_name = 'ENVISION')\n",
    "base_int_df = pd.read_excel('sow_input_data.xlsx', sheet_name = 'INITIATE')\n",
    "base_def_df = pd.read_excel('sow_input_data.xlsx', sheet_name = 'DEFINE')\n",
    "base_des_df = pd.read_excel('sow_input_data.xlsx', sheet_name = 'DESIGN')\n",
    "base_bld_df = pd.read_excel('sow_input_data.xlsx', sheet_name = 'BUILD')\n",
    "base_trn_df = pd.read_excel('sow_input_data.xlsx', sheet_name = 'TRANSITION')\n",
    "base_cls_df = pd.read_excel('sow_input_data.xlsx', sheet_name = 'CLOSE')"
   ]
  },
  {
   "cell_type": "code",
   "execution_count": 5,
   "id": "4422b8b9",
   "metadata": {
    "execution": {
     "iopub.execute_input": "2024-09-16T06:01:06.393407Z",
     "iopub.status.busy": "2024-09-16T06:01:06.393305Z",
     "iopub.status.idle": "2024-09-16T06:01:06.398140Z",
     "shell.execute_reply": "2024-09-16T06:01:06.397890Z"
    },
    "papermill": {
     "duration": 0.006952,
     "end_time": "2024-09-16T06:01:06.398919",
     "exception": false,
     "start_time": "2024-09-16T06:01:06.391967",
     "status": "completed"
    },
    "tags": []
   },
   "outputs": [
    {
     "data": {
      "text/html": [
       "<div>\n",
       "<style scoped>\n",
       "    .dataframe tbody tr th:only-of-type {\n",
       "        vertical-align: middle;\n",
       "    }\n",
       "\n",
       "    .dataframe tbody tr th {\n",
       "        vertical-align: top;\n",
       "    }\n",
       "\n",
       "    .dataframe thead th {\n",
       "        text-align: right;\n",
       "    }\n",
       "</style>\n",
       "<table border=\"1\" class=\"dataframe\">\n",
       "  <thead>\n",
       "    <tr style=\"text-align: right;\">\n",
       "      <th></th>\n",
       "      <th>task</th>\n",
       "      <th>task_details</th>\n",
       "      <th>role</th>\n",
       "      <th>hours</th>\n",
       "    </tr>\n",
       "  </thead>\n",
       "  <tbody>\n",
       "    <tr>\n",
       "      <th>0</th>\n",
       "      <td>Project Initiation</td>\n",
       "      <td>Conduct a \"soft launch\" initial project planni...</td>\n",
       "      <td>EM</td>\n",
       "      <td>4</td>\n",
       "    </tr>\n",
       "    <tr>\n",
       "      <th>1</th>\n",
       "      <td>Project Pre-Work</td>\n",
       "      <td>Prepare and deliver \"pre-work\" materials.\\n\\nP...</td>\n",
       "      <td>BPC</td>\n",
       "      <td>2</td>\n",
       "    </tr>\n",
       "  </tbody>\n",
       "</table>\n",
       "</div>"
      ],
      "text/plain": [
       "                 task                                       task_details role  \\\n",
       "0  Project Initiation  Conduct a \"soft launch\" initial project planni...   EM   \n",
       "1    Project Pre-Work  Prepare and deliver \"pre-work\" materials.\\n\\nP...  BPC   \n",
       "\n",
       "   hours  \n",
       "0      4  \n",
       "1      2  "
      ]
     },
     "execution_count": 5,
     "metadata": {},
     "output_type": "execute_result"
    }
   ],
   "source": [
    "base_env_df"
   ]
  },
  {
   "cell_type": "code",
   "execution_count": 6,
   "id": "62b0fd7b",
   "metadata": {
    "execution": {
     "iopub.execute_input": "2024-09-16T06:01:06.401524Z",
     "iopub.status.busy": "2024-09-16T06:01:06.401420Z",
     "iopub.status.idle": "2024-09-16T06:01:06.956012Z",
     "shell.execute_reply": "2024-09-16T06:01:06.955677Z"
    },
    "papermill": {
     "duration": 0.556975,
     "end_time": "2024-09-16T06:01:06.957022",
     "exception": false,
     "start_time": "2024-09-16T06:01:06.400047",
     "status": "completed"
    },
    "tags": []
   },
   "outputs": [],
   "source": [
    "# Write dataframes to SOW excel doc\n",
    "sheet['env_nr'][1:,1:].options(index=False, header=False).value = base_env_df\n",
    "sheet['int_nr'][1:,1:].options(index=False, header=False).value = base_int_df\n",
    "sheet['def_nr'][1:,1:].options(index=False, header=False).value = base_def_df\n",
    "sheet['des_nr'][1:,1:].options(index=False, header=False).value = base_des_df\n",
    "sheet['bld_nr'][1:,1:].options(index=False, header=False).value = base_bld_df\n",
    "sheet['trn_nr'][1:,1:].options(index=False, header=False).value = base_trn_df\n",
    "sheet['cls_nr'][1:,1:].options(index=False, header=False).value = base_cls_df"
   ]
  },
  {
   "cell_type": "code",
   "execution_count": 7,
   "id": "43e0eb36",
   "metadata": {
    "execution": {
     "iopub.execute_input": "2024-09-16T06:01:06.960467Z",
     "iopub.status.busy": "2024-09-16T06:01:06.960332Z",
     "iopub.status.idle": "2024-09-16T06:01:07.152173Z",
     "shell.execute_reply": "2024-09-16T06:01:07.151908Z"
    },
    "papermill": {
     "duration": 0.194504,
     "end_time": "2024-09-16T06:01:07.153096",
     "exception": false,
     "start_time": "2024-09-16T06:01:06.958592",
     "status": "completed"
    },
    "tags": []
   },
   "outputs": [],
   "source": [
    "# FORMULAS - QA / TESTING\n",
    "\n",
    "# Planning\n",
    "sheet['trn_nr'][3,4].formula = '=ROUNDUP(E138*.05,0)' # IMPORTANT only QA hours from BUILD phase\n",
    "sheet['trn_nr'][4,4].formula = '=ROUNDUP(E138*.05,0)'\n",
    "\n",
    "# Executing\n",
    "sheet['trn_nr'][5,4].formula = '=ROUNDUP(E138*.05,0)'\n",
    "sheet['trn_nr'][6,4].formula = '=ROUNDUP(E138*.05,0)'"
   ]
  },
  {
   "cell_type": "code",
   "execution_count": 8,
   "id": "15de37b1",
   "metadata": {
    "execution": {
     "iopub.execute_input": "2024-09-16T06:01:07.156012Z",
     "iopub.status.busy": "2024-09-16T06:01:07.155911Z",
     "iopub.status.idle": "2024-09-16T06:01:07.257091Z",
     "shell.execute_reply": "2024-09-16T06:01:07.256817Z"
    },
    "papermill": {
     "duration": 0.1036,
     "end_time": "2024-09-16T06:01:07.258020",
     "exception": false,
     "start_time": "2024-09-16T06:01:07.154420",
     "status": "completed"
    },
    "tags": []
   },
   "outputs": [],
   "source": [
    "# SAVE\n",
    "book_number = 'book01.xlsx'\n",
    "wb.save(book_number)"
   ]
  },
  {
   "cell_type": "markdown",
   "id": "dfe7e00b",
   "metadata": {
    "papermill": {
     "duration": 0.001008,
     "end_time": "2024-09-16T06:01:07.260368",
     "exception": false,
     "start_time": "2024-09-16T06:01:07.259360",
     "status": "completed"
    },
    "tags": []
   },
   "source": [
    "| END OF PROGRAM |\n",
    "| ----------- |"
   ]
  },
  {
   "cell_type": "markdown",
   "id": "6a714175",
   "metadata": {
    "papermill": {
     "duration": 0.001004,
     "end_time": "2024-09-16T06:01:07.262954",
     "exception": false,
     "start_time": "2024-09-16T06:01:07.261950",
     "status": "completed"
    },
    "tags": []
   },
   "source": []
  }
 ],
 "metadata": {
  "kernelspec": {
   "display_name": "sowmachine_venv",
   "language": "python",
   "name": "python3"
  },
  "language_info": {
   "codemirror_mode": {
    "name": "ipython",
    "version": 3
   },
   "file_extension": ".py",
   "mimetype": "text/x-python",
   "name": "python",
   "nbconvert_exporter": "python",
   "pygments_lexer": "ipython3",
   "version": "3.11.1"
  },
  "papermill": {
   "default_parameters": {},
   "duration": 2.507081,
   "end_time": "2024-09-16T06:01:07.581724",
   "environment_variables": {},
   "exception": null,
   "input_path": "3_baseline_tasks.ipynb",
   "output_path": "3_baseline_tasks.ipynb",
   "parameters": {},
   "start_time": "2024-09-16T06:01:05.074643",
   "version": "2.6.0"
  },
  "vscode": {
   "interpreter": {
    "hash": "fb97792c95ecc40909c77d7c0c5a2e301450a97269f294267b9ea907136fa9f0"
   }
  }
 },
 "nbformat": 4,
 "nbformat_minor": 5
}