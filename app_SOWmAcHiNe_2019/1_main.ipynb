{
 "cells": [
  {
   "attachments": {},
   "cell_type": "markdown",
   "id": "0428292f",
   "metadata": {
    "papermill": {
     "duration": 0.018575,
     "end_time": "2024-09-16T05:11:09.980793",
     "exception": false,
     "start_time": "2024-09-16T05:11:09.962218",
     "status": "completed"
    },
    "tags": []
   },
   "source": [
    "| MAIN BASELINE TEMPLATE | Create baseline Statement of Work (SOW) Excel template |\n",
    "| ----------- | ----------- |"
   ]
  },
  {
   "cell_type": "code",
   "execution_count": 1,
   "id": "48a67288",
   "metadata": {
    "execution": {
     "iopub.execute_input": "2024-09-16T05:11:09.997617Z",
     "iopub.status.busy": "2024-09-16T05:11:09.997396Z",
     "iopub.status.idle": "2024-09-16T05:11:10.496510Z",
     "shell.execute_reply": "2024-09-16T05:11:10.496201Z"
    },
    "papermill": {
     "duration": 0.507638,
     "end_time": "2024-09-16T05:11:10.497592",
     "exception": false,
     "start_time": "2024-09-16T05:11:09.989954",
     "status": "completed"
    },
    "tags": []
   },
   "outputs": [],
   "source": [
    "import xlwings as xw\n",
    "from openpyxl import Workbook, load_workbook\n",
    "import xlsxwriter \n",
    "\n",
    "import pandas as pd\n",
    "import numpy as np\n",
    "import datetime as dt \n",
    "import time\n",
    "import sys\n",
    "\n",
    "\"\"\"\n",
    "Latest xlwings release: v0.27.15\n",
    "https://www.xlwings.org/\n",
    "\n",
    "\"\"\"\n",
    "xw.__version__ \n",
    "\n",
    "from appscript import k"
   ]
  },
  {
   "cell_type": "code",
   "execution_count": 2,
   "id": "9a590cbf",
   "metadata": {
    "execution": {
     "iopub.execute_input": "2024-09-16T05:11:10.506653Z",
     "iopub.status.busy": "2024-09-16T05:11:10.506510Z",
     "iopub.status.idle": "2024-09-16T05:11:12.344853Z",
     "shell.execute_reply": "2024-09-16T05:11:12.344309Z"
    },
    "papermill": {
     "duration": 1.844198,
     "end_time": "2024-09-16T05:11:12.346196",
     "exception": false,
     "start_time": "2024-09-16T05:11:10.501998",
     "status": "completed"
    },
    "tags": []
   },
   "outputs": [],
   "source": [
    "# Connect to unsaved book (looks in all Excel instances)\n",
    "wb = xw.Book()\n",
    "\n",
    "# Create a sheet object (and reference first sheet)\n",
    "sheet = wb.sheets[0] # Uses standard python indexing\n",
    "\n",
    "sow_header_list = ['stage',\n",
    "                   'task',\n",
    "                   'task_details',\n",
    "                   'role',\n",
    "                   'hours',\n",
    "                   'rate',\n",
    "                   'cost']\n",
    "\n",
    "# print(sow_header_list)\n",
    "# print(len(sow_header_list))\n",
    "\n",
    "\"\"\"\n",
    "This is my 'Hello World'\n",
    "\n",
    "\"\"\"\n",
    "\n",
    "# Datetime (start)\n",
    "sheet.range('H2').value = dt.datetime.now()\n",
    "\n",
    "# Add space in column to be able to see the time element and not ######## I am using as the \"Hello World\"\n",
    "sheet.range('H:H').column_width = 15\n",
    "\n",
    "# Index notation (1-based like excel)\n",
    "sheet.range((2,8)).value # Verify date in both excel and python terminal or jupyter output\n",
    "\n",
    "# Create SOW header from list\n",
    "sheet.range((1,1)).value = sow_header_list # Horizontal (row)\n",
    "sheet.range('A1:G1').font.bold = True"
   ]
  },
  {
   "cell_type": "code",
   "execution_count": 3,
   "id": "54f9ab49",
   "metadata": {
    "execution": {
     "iopub.execute_input": "2024-09-16T05:11:12.356434Z",
     "iopub.status.busy": "2024-09-16T05:11:12.356260Z",
     "iopub.status.idle": "2024-09-16T05:11:12.433488Z",
     "shell.execute_reply": "2024-09-16T05:11:12.433158Z"
    },
    "papermill": {
     "duration": 0.083847,
     "end_time": "2024-09-16T05:11:12.434819",
     "exception": false,
     "start_time": "2024-09-16T05:11:12.350972",
     "status": "completed"
    },
    "tags": []
   },
   "outputs": [],
   "source": [
    "# Set global named range\n",
    "sheet.range('A1:G500').name = 'sow_nr'\n",
    "\n",
    "sow_brd_loc = sheet['sow_nr'][0:179,:]\n",
    "\n",
    "# Set border around excel SOW\n",
    "sow_brd_loc[-1,:].api.get_border(which_border=k.border_bottom).weight.set(4)\n",
    "sow_brd_loc[:,-1].api.get_border(which_border=k.border_right).weight.set(4)\n",
    "sow_brd_loc[0,:].api.get_border(which_border=k.border_top).weight.set(4)\n",
    "sow_brd_loc[:,0].api.get_border(which_border=k.border_left).weight.set(4)"
   ]
  },
  {
   "cell_type": "code",
   "execution_count": 4,
   "id": "41c241c3",
   "metadata": {
    "execution": {
     "iopub.execute_input": "2024-09-16T05:11:12.444599Z",
     "iopub.status.busy": "2024-09-16T05:11:12.444442Z",
     "iopub.status.idle": "2024-09-16T05:11:13.061488Z",
     "shell.execute_reply": "2024-09-16T05:11:13.061117Z"
    },
    "papermill": {
     "duration": 0.623044,
     "end_time": "2024-09-16T05:11:13.062526",
     "exception": false,
     "start_time": "2024-09-16T05:11:12.439482",
     "status": "completed"
    },
    "tags": []
   },
   "outputs": [],
   "source": [
    "# Set phases\n",
    "sheet['sow_nr'][1,0].value = 'pre-kickoff'\n",
    "sheet['sow_nr'][19,0].value = 'inititiate'\n",
    "sheet['sow_nr'][39,0].value = 'define'\n",
    "sheet['sow_nr'][79,0].value = 'design'\n",
    "sheet['sow_nr'][99,0].value = 'build'\n",
    "sheet['sow_nr'][139,0].value = 'transition'\n",
    "sheet['sow_nr'][159,0].value = 'close'\n",
    "\n",
    "# Set phases\n",
    "sheet['sow_nr'][1,0].font.bold = True\n",
    "sheet['sow_nr'][19,0].font.bold = True\n",
    "sheet['sow_nr'][39,0].font.bold = True\n",
    "sheet['sow_nr'][79,0].font.bold = True\n",
    "sheet['sow_nr'][99,0].font.bold = True\n",
    "sheet['sow_nr'][139,0].font.bold = True\n",
    "sheet['sow_nr'][159,0].font.bold = True\n",
    "\n",
    "# Set phase named ranges\n",
    "sheet['A2:G19'].name = 'env_nr'\n",
    "sheet['A20:G39'].name = 'int_nr'\n",
    "sheet['A40:G79'].name = 'def_nr'\n",
    "sheet['A80:G99'].name = 'des_nr'\n",
    "sheet['A100:G139'].name = 'bld_nr'\n",
    "sheet['A140:G159'].name = 'trn_nr'\n",
    "sheet['A160:G179'].name = 'cls_nr'\n",
    "\n",
    "# Set phase divider color\n",
    "sheet['env_nr'][0,:].color = '#E21A23'\n",
    "sheet['int_nr'][0,:].color = '#1C0221'\n",
    "sheet['def_nr'][0,:].color = '#440850'\n",
    "sheet['des_nr'][0,:].color = '#880074'\n",
    "sheet['bld_nr'][0,:].color = '#6C0BA9'\n",
    "sheet['trn_nr'][0,:].color = '#9D85F3'\n",
    "sheet['cls_nr'][0,:].color = '#86EC77'\n",
    "\n",
    "# Set phase font color\n",
    "sheet['env_nr'][0,0].font.color = '#ffffff'\n",
    "sheet['int_nr'][0,0].font.color = '#ffffff'\n",
    "sheet['def_nr'][0,0].font.color = '#ffffff'\n",
    "sheet['des_nr'][0,0].font.color = '#ffffff'\n",
    "sheet['bld_nr'][0,0].font.color = '#ffffff'\n",
    "sheet['trn_nr'][0,0].font.color = '#000000'\n",
    "sheet['cls_nr'][0,0].font.color = '#000000'\n",
    "\n",
    "# Set wrap text\n",
    "# sheet.range('A:A').wrap_text = True\n",
    "sheet.range('B:B').wrap_text = True\n",
    "sheet.range('C:C').wrap_text = True \n",
    "sheet.range('D:D').wrap_text = True \n",
    "sheet.range('F:F').wrap_text = True\n",
    "\n",
    "# Set column width\n",
    "sheet.range('A:A').column_width = 11\n",
    "sheet.range('B:B').column_width = 22\n",
    "sheet.range('C:C').column_width = 22*3\n",
    "sheet.range('D:D').column_width = 15\n",
    "sheet.range('E:E').column_width = 15\n",
    "sheet.range('F:F').column_width = 15\n",
    "sheet.range('G:G').column_width = 15\n",
    "# sheet.range('H:H').column_width = 15 # This is the time element outside of table\n",
    "\n",
    "# Set phase bottom divider color\n",
    "sheet['env_nr'][-2:,:].color = '#E21A23'\n",
    "sheet['int_nr'][-2:,:].color = '#1C0221'\n",
    "sheet['def_nr'][-2:,:].color = '#440850'\n",
    "sheet['des_nr'][-2:,:].color = '#880074'\n",
    "sheet['bld_nr'][-2:,:].color = '#6C0BA9'\n",
    "sheet['trn_nr'][-2:,:].color = '#9D85F3'\n",
    "sheet['cls_nr'][-2:,:].color = '#86EC77'"
   ]
  },
  {
   "cell_type": "code",
   "execution_count": 5,
   "id": "a93e7c6c",
   "metadata": {
    "execution": {
     "iopub.execute_input": "2024-09-16T05:11:13.075906Z",
     "iopub.status.busy": "2024-09-16T05:11:13.075725Z",
     "iopub.status.idle": "2024-09-16T05:11:14.907792Z",
     "shell.execute_reply": "2024-09-16T05:11:14.907387Z"
    },
    "papermill": {
     "duration": 1.839614,
     "end_time": "2024-09-16T05:11:14.908819",
     "exception": false,
     "start_time": "2024-09-16T05:11:13.069205",
     "status": "completed"
    },
    "tags": []
   },
   "outputs": [],
   "source": [
    "# Store hours and cost total list as variables\n",
    "totals_stage_list = ['Hours', 0, 'Cost', 0]\n",
    "totals_cltv_list = ['Hours (Agg.)', 0, 'Cost (Agg.)', 0]\n",
    "\n",
    "\"\"\"\n",
    "One Formula and Additional formatting\n",
    "\"\"\"\n",
    "\n",
    "\"\"\"\n",
    "Envision\n",
    "\"\"\"\n",
    "# Cost (hrs*rate)\n",
    "sheet['env_nr'][1:-2, 6].value = '$0.00' # Cost column format\n",
    "sheet['env_nr'][1:-2, 5].value = '$0.00' # Rate column format\n",
    "sheet['env_nr'][1:-2, 6].formula = '=(E3*F3)'\n",
    "# Totals\n",
    "sheet['env_nr'][-2, 3].value = totals_stage_list\n",
    "sheet['env_nr'][-1, 3].value = totals_cltv_list\n",
    "# Font color\n",
    "sheet['env_nr'][-2:,3:].font.bold = True\n",
    "sheet['env_nr'][-2:,3:].font.color = '#ffffff'\n",
    "\n",
    "\"\"\" \n",
    "Initiate\n",
    "\"\"\"\n",
    "\n",
    "# Cost (hrs*rate)\n",
    "sheet['int_nr'][1:-2, 6].value = '$0.00'\n",
    "sheet['int_nr'][1:-2, 5].value = '$0.00'\n",
    "sheet['int_nr'][1:-2, 6].formula = '=(E21*F21)'\n",
    "# Totals\n",
    "sheet['int_nr'][-2, 3].value = totals_stage_list\n",
    "sheet['int_nr'][-1, 3].value = totals_cltv_list\n",
    "# Font color\n",
    "sheet['int_nr'][-2:,3:].font.bold = True\n",
    "sheet['int_nr'][-2:,3:].font.color = '#ffffff'\n",
    "\n",
    "\"\"\" \n",
    "Define\n",
    "\"\"\"\n",
    "\n",
    "# Cost (hrs*rate)\n",
    "sheet['def_nr'][1:-2, 6].value = '$0.00'\n",
    "sheet['def_nr'][1:-2, 5].value = '$0.00'\n",
    "sheet['def_nr'][1:-2, 6].formula = '=(E41*F41)'\n",
    "# Totals\n",
    "sheet['def_nr'][-2, 3].value = totals_stage_list\n",
    "sheet['def_nr'][-1, 3].value = totals_cltv_list\n",
    "# Font color\n",
    "sheet['def_nr'][-2:,3:].font.bold = True\n",
    "sheet['def_nr'][-2:,3:].font.color = '#ffffff'\n",
    "\n",
    "\"\"\" \n",
    "Design\n",
    "\"\"\"\n",
    "# Cost (hrs*rate)\n",
    "sheet['des_nr'][1:-2, 6].value = '$0.00'\n",
    "sheet['des_nr'][1:-2, 5].value = '$0.00'\n",
    "sheet['des_nr'][1:-2, 6].formula = '=(E81*F81)'\n",
    "# Totals\n",
    "sheet['des_nr'][-2, 3].value = totals_stage_list\n",
    "sheet['des_nr'][-1, 3].value = totals_cltv_list\n",
    "# Font color\n",
    "sheet['des_nr'][-2:,3:].font.bold = True\n",
    "sheet['des_nr'][-2:,3:].font.color = '#ffffff'\n",
    "\n",
    "\"\"\" \n",
    "Build\n",
    "\"\"\"\n",
    "# Cost (hrs*rate)\n",
    "sheet['bld_nr'][1:-2, 6].value = '$0.00'\n",
    "sheet['bld_nr'][1:-2, 5].value = '$0.00'\n",
    "sheet['bld_nr'][1:-2, 6].formula = '=(E101*F101)'\n",
    "# Totals\n",
    "sheet['bld_nr'][-2, 3].value = totals_stage_list\n",
    "sheet['bld_nr'][-1, 3].value = totals_cltv_list\n",
    "# Font color\n",
    "sheet['bld_nr'][-2:,3:].font.bold = True\n",
    "sheet['bld_nr'][-2:,3:].font.color = '#ffffff'\n",
    "\n",
    "\"\"\" \n",
    "Transition\n",
    "\"\"\"\n",
    "# Cost (hrs*rate)\n",
    "sheet['trn_nr'][1:-2, 6].value = '$0.00'\n",
    "sheet['trn_nr'][1:-2, 5].value = '$0.00'\n",
    "sheet['trn_nr'][1:-2, 6].formula = '=(E141*F141)'\n",
    "# Totals\n",
    "sheet['trn_nr'][-2, 3].value = totals_stage_list\n",
    "sheet['trn_nr'][-1, 3].value = totals_cltv_list\n",
    "# Font color\n",
    "sheet['trn_nr'][-2:,3:].font.bold = True\n",
    "sheet['trn_nr'][-2:,3:].font.color = '#000000'\n",
    "\n",
    "\"\"\" \n",
    "Close\n",
    "\"\"\"\n",
    "# Cost (hrs*rate)\n",
    "sheet['cls_nr'][1:18, 6].value = '$0.00'\n",
    "sheet['cls_nr'][1:18, 5].value = '$0.00'\n",
    "sheet['cls_nr'][1:18, 6].formula = '=(E161*F161)'\n",
    "# Totals\n",
    "sheet['cls_nr'][18, 3].value = totals_stage_list\n",
    "sheet['cls_nr'][19, 3].value = totals_cltv_list\n",
    "#Font color\n",
    "sheet['cls_nr'][18:,3:].font.bold = True\n",
    "sheet['cls_nr'][18:,3:].font.color = '#000000'\n"
   ]
  },
  {
   "cell_type": "code",
   "execution_count": 6,
   "id": "e3bb7a82",
   "metadata": {
    "execution": {
     "iopub.execute_input": "2024-09-16T05:11:14.923671Z",
     "iopub.status.busy": "2024-09-16T05:11:14.923524Z",
     "iopub.status.idle": "2024-09-16T05:11:15.423703Z",
     "shell.execute_reply": "2024-09-16T05:11:15.423430Z"
    },
    "papermill": {
     "duration": 0.509697,
     "end_time": "2024-09-16T05:11:15.424712",
     "exception": false,
     "start_time": "2024-09-16T05:11:14.915015",
     "status": "completed"
    },
    "tags": []
   },
   "outputs": [],
   "source": [
    "\"\"\"\n",
    "For each phase (aka phase named range)\n",
    "Column G sum Cost\n",
    "Column G sum Cost Agg.\n",
    "\n",
    "Column E sum Hours\n",
    "Column E sum Hours Agg.\n",
    "\n",
    "Add left column A thick boarder by project stage\n",
    "\n",
    "\"\"\"\n",
    "\n",
    "\"\"\"\n",
    "Envision\n",
    "\"\"\"\n",
    "# Hours\n",
    "sheet['env_nr'][-2,4].formula = '=SUM(E3:E17)'\n",
    "sheet['env_nr'][-1,4].value = '=E18'\n",
    "# Cost\n",
    "sheet['env_nr'][-2,6].formula = '=SUM(G3:G17)'\n",
    "sheet['env_nr'][-1,6].formula = '=G18' # Value for G19\n",
    "# Boarder\n",
    "sheet['env_nr'][:,0].color = '#E21A23'\n",
    "\n",
    "\"\"\"\n",
    "Initiate\n",
    "\"\"\"\n",
    "# Hours\n",
    "sheet['int_nr'][-2,4].formula = '=SUM(E21:E37)'\n",
    "sheet['int_nr'][-1,4].formula = '=SUM(E38+E19)'\n",
    "# Cost\n",
    "sheet['int_nr'][-2,6].formula = '=SUM(G21:G37)'\n",
    "sheet['int_nr'][-1,6].formula = '=SUM(G38+G19)'\n",
    "# Boarder\n",
    "sheet['int_nr'][:,0].color = '#1C0221'\n",
    "\n",
    "\"\"\"\n",
    "Define\n",
    "\"\"\"\n",
    "# Hours\n",
    "sheet['def_nr'][-2,4].formula = '=ROUNDUP(SUM(E41:E77),0)'\n",
    "sheet['def_nr'][-1,4].formula = '=ROUNDUP(SUM(E78+E39),0)'\n",
    "# Cost\n",
    "sheet['def_nr'][-2,6].formula = '=ROUNDUP(SUM(G41:G77),0)'\n",
    "sheet['def_nr'][-1,6].formula = '=ROUNDUP(SUM(G78+G39),0)' # Careful with (parantheses)\n",
    "# Boarder\n",
    "sheet['def_nr'][:,0].color = '#440850'\n",
    "\n",
    "\"\"\"\n",
    "Design\n",
    "\"\"\"\n",
    "# Hours\n",
    "sheet['des_nr'][-2,4].formula = '=SUM(E81:E97)'\n",
    "sheet['des_nr'][-1,4].formula = '=SUM(E98+E79)'\n",
    "# Cost\n",
    "sheet['des_nr'][-2,6].formula = '=SUM(G81:G97)'\n",
    "sheet['des_nr'][-1,6].formula = '=SUM(G98+G79)'\n",
    "# Boarder\n",
    "sheet['des_nr'][:,0].color = '#880074'\n",
    "\n",
    "\"\"\"\n",
    "Build\n",
    "\"\"\"\n",
    "# Hours\n",
    "sheet['bld_nr'][-2,4].formula = '=SUM(E101:E137)'\n",
    "sheet['bld_nr'][-1,4].formula = '=SUM(E138+E99)'\n",
    "# Cost\n",
    "sheet['bld_nr'][-2,6].formula = '=SUM(G101:G137)'\n",
    "sheet['bld_nr'][-1,6].formula = '=SUM(G138+G99)'\n",
    "# Boarder\n",
    "sheet['bld_nr'][:,0].color = '#6C0BA9'\n",
    "\n",
    "\"\"\"\n",
    "Transition\n",
    "\"\"\"\n",
    "# Hours\n",
    "sheet['trn_nr'][-2,4].formula = '=SUM(E141:E157)'\n",
    "sheet['trn_nr'][-1,4].formula = '=SUM(E158+E139)'\n",
    "# Cost\n",
    "sheet['trn_nr'][-2,6].formula = '=SUM(G141:G157)'\n",
    "sheet['trn_nr'][-1,6].formula = '=SUM(G158+G139)'\n",
    "# Boarder\n",
    "sheet['trn_nr'][:,0].color = '#9D85F3'\n",
    "\n",
    "\"\"\"\n",
    "Close\n",
    "\"\"\"\n",
    "# Hours\n",
    "sheet['cls_nr'][-2,4].formula = '=SUM(E161:E177)'\n",
    "sheet['cls_nr'][-1,4].formula = '=SUM(E178+E159)'\n",
    "# Cost\n",
    "sheet['cls_nr'][-2,6].formula = '=SUM(G161:G177)'\n",
    "sheet['cls_nr'][-1,6].formula = '=SUM(G178+G159)'\n",
    "# Boarder\n",
    "sheet['cls_nr'][:,0].color = '#86EC77'"
   ]
  },
  {
   "cell_type": "code",
   "execution_count": 7,
   "id": "601ea802",
   "metadata": {
    "execution": {
     "iopub.execute_input": "2024-09-16T05:11:15.434681Z",
     "iopub.status.busy": "2024-09-16T05:11:15.434547Z",
     "iopub.status.idle": "2024-09-16T05:11:15.634285Z",
     "shell.execute_reply": "2024-09-16T05:11:15.633842Z"
    },
    "papermill": {
     "duration": 0.205511,
     "end_time": "2024-09-16T05:11:15.635263",
     "exception": false,
     "start_time": "2024-09-16T05:11:15.429752",
     "status": "completed"
    },
    "tags": []
   },
   "outputs": [],
   "source": [
    "# Assign values to cells by passing lists to the excel doc\n",
    "sheet['sow_nr'][179,3:].value = ['TOTAL HOURS', 0, 'TOTAL COST', '$0.00']\n",
    "sheet['sow_nr'][180,3:].value = ['', 'OTD', '0%', '$0.00']\n",
    "sheet['sow_nr'][181,3:].value = ['', '', 'GRAND TOTAL', '$0.00']\n",
    "\n",
    "# Set font bold and color\n",
    "sheet['sow_nr'][179:182,:].font.bold = True\n",
    "sheet['sow_nr'][179:182,:].font.color = '#000000'\n",
    "\n",
    "tot_brd_loc = sheet['sow_nr'][179:182,3:]\n",
    "\n",
    "# Set border around excel SOW\n",
    "tot_brd_loc[-1,:].api.get_border(which_border=k.border_bottom).weight.set(4)\n",
    "tot_brd_loc[:,-1].api.get_border(which_border=k.border_right).weight.set(4)\n",
    "tot_brd_loc[0,:].api.get_border(which_border=k.border_top).weight.set(4) # Not necessary really\n",
    "tot_brd_loc[:,0].api.get_border(which_border=k.border_left).weight.set(4)\n"
   ]
  },
  {
   "cell_type": "code",
   "execution_count": 8,
   "id": "136b38b6",
   "metadata": {
    "execution": {
     "iopub.execute_input": "2024-09-16T05:11:15.646366Z",
     "iopub.status.busy": "2024-09-16T05:11:15.646217Z",
     "iopub.status.idle": "2024-09-16T05:11:15.689065Z",
     "shell.execute_reply": "2024-09-16T05:11:15.688797Z"
    },
    "papermill": {
     "duration": 0.049463,
     "end_time": "2024-09-16T05:11:15.690032",
     "exception": false,
     "start_time": "2024-09-16T05:11:15.640569",
     "status": "completed"
    },
    "tags": []
   },
   "outputs": [],
   "source": [
    "# Set formulas\n",
    "tot_brd_loc[0,1].formula = '=(E179)'\n",
    "tot_brd_loc[0,3].formula = '=(G179)'\n",
    "tot_brd_loc[1,3].formula = '=(F181*G180)'\n",
    "tot_brd_loc[2,3].formula = '=(G180-G181)'"
   ]
  },
  {
   "cell_type": "code",
   "execution_count": 9,
   "id": "c377d022",
   "metadata": {
    "execution": {
     "iopub.execute_input": "2024-09-16T05:11:15.700614Z",
     "iopub.status.busy": "2024-09-16T05:11:15.700480Z",
     "iopub.status.idle": "2024-09-16T05:11:15.876798Z",
     "shell.execute_reply": "2024-09-16T05:11:15.876439Z"
    },
    "papermill": {
     "duration": 0.182952,
     "end_time": "2024-09-16T05:11:15.877735",
     "exception": false,
     "start_time": "2024-09-16T05:11:15.694783",
     "status": "completed"
    },
    "tags": []
   },
   "outputs": [],
   "source": [
    "\"\"\"\n",
    "Build a math checker\n",
    "-Do something later like IF 'GRAND TOTAL' == 'GRAND TOTAL' THEN font.color=green ELSE font.color=red\n",
    "\"\"\"\n",
    "\n",
    "# Set a math checker named range from the sow named range\n",
    "math_chk_loc = sheet['sow_nr'][183:185,3:]\n",
    "\n",
    "# Assign values to cells by passing lists to the excel doc\n",
    "math_chk_loc[0,0].value = 'MATH CHECKER'\n",
    "math_chk_loc[1,:].value = ['TOTAL HOURS', 0, 'TOTAL COST', '$0.00']\n",
    "\n",
    "# Set color on math checker field\n",
    "math_chk_loc[0,0].font.color = '#E21A23'\n",
    "\n",
    "# Set font bold and color\n",
    "math_chk_loc[0:2,:].font.bold = True\n",
    "math_chk_loc[1:,:].font.color = '#000000'\n",
    "\n",
    "# Set formulas\n",
    "math_chk_loc[1,1].formula = '=SUM(E18+E38+E78+E98+E138+E158+E178)' # Total hours\n",
    "math_chk_loc[1,3].formula = '=SUM(G18+G38+G78+G98+G138+G158+G178)-G181' # Total cost\n",
    "\n",
    "# Set border and line style\n",
    "math_chk_loc[1:2,:].api.get_border(which_border=k.border_top).weight.set(4)\n",
    "math_chk_loc[1:2,:].api.get_border(which_border=k.border_left).weight.set(4)\n",
    "math_chk_loc[1:2,:].api.get_border(which_border=k.border_bottom).weight.set(4)\n",
    "math_chk_loc[1:2,:].api.get_border(which_border=k.border_right).weight.set(4)"
   ]
  },
  {
   "cell_type": "code",
   "execution_count": 10,
   "id": "8f7fd120",
   "metadata": {
    "execution": {
     "iopub.execute_input": "2024-09-16T05:11:15.888418Z",
     "iopub.status.busy": "2024-09-16T05:11:15.888281Z",
     "iopub.status.idle": "2024-09-16T05:11:15.919368Z",
     "shell.execute_reply": "2024-09-16T05:11:15.919082Z"
    },
    "papermill": {
     "duration": 0.037692,
     "end_time": "2024-09-16T05:11:15.920354",
     "exception": false,
     "start_time": "2024-09-16T05:11:15.882662",
     "status": "completed"
    },
    "tags": []
   },
   "outputs": [],
   "source": [
    "# set roles and rates named range\n",
    "role_rate_loc = sheet['sow_nr'][187:200,:]\n",
    "\n",
    "# Assign header value in excel\n",
    "rr_header_list = ['ROLE', \n",
    "                  'ROLE NAME', \n",
    "                  'ROLE DESCRIPTION', \n",
    "                  'STD RATE', \n",
    "                  'DISCOUNT', \n",
    "                  'DISCOUNT %', \n",
    "                  'RATE']\n",
    "\n",
    "role_rate_loc.value = rr_header_list"
   ]
  },
  {
   "cell_type": "code",
   "execution_count": 11,
   "id": "cf7e35f4",
   "metadata": {
    "execution": {
     "iopub.execute_input": "2024-09-16T05:11:15.930632Z",
     "iopub.status.busy": "2024-09-16T05:11:15.930513Z",
     "iopub.status.idle": "2024-09-16T05:11:15.952256Z",
     "shell.execute_reply": "2024-09-16T05:11:15.951981Z"
    },
    "papermill": {
     "duration": 0.027736,
     "end_time": "2024-09-16T05:11:15.953209",
     "exception": false,
     "start_time": "2024-09-16T05:11:15.925473",
     "status": "completed"
    },
    "tags": []
   },
   "outputs": [
    {
     "data": {
      "text/html": [
       "<div>\n",
       "<style scoped>\n",
       "    .dataframe tbody tr th:only-of-type {\n",
       "        vertical-align: middle;\n",
       "    }\n",
       "\n",
       "    .dataframe tbody tr th {\n",
       "        vertical-align: top;\n",
       "    }\n",
       "\n",
       "    .dataframe thead th {\n",
       "        text-align: right;\n",
       "    }\n",
       "</style>\n",
       "<table border=\"1\" class=\"dataframe\">\n",
       "  <thead>\n",
       "    <tr style=\"text-align: right;\">\n",
       "      <th></th>\n",
       "      <th>role</th>\n",
       "      <th>role_name</th>\n",
       "      <th>role_description</th>\n",
       "      <th>std_rate</th>\n",
       "      <th>discount</th>\n",
       "      <th>discount %</th>\n",
       "      <th>rate</th>\n",
       "    </tr>\n",
       "  </thead>\n",
       "  <tbody>\n",
       "    <tr>\n",
       "      <th>0</th>\n",
       "      <td>EM</td>\n",
       "      <td>Engagement Manager</td>\n",
       "      <td>add role desc</td>\n",
       "      <td>200</td>\n",
       "      <td>0</td>\n",
       "      <td>0</td>\n",
       "      <td>0</td>\n",
       "    </tr>\n",
       "    <tr>\n",
       "      <th>1</th>\n",
       "      <td>BPC</td>\n",
       "      <td>Business Process Consultant</td>\n",
       "      <td>add role desc</td>\n",
       "      <td>250</td>\n",
       "      <td>0</td>\n",
       "      <td>0</td>\n",
       "      <td>0</td>\n",
       "    </tr>\n",
       "    <tr>\n",
       "      <th>2</th>\n",
       "      <td>BA</td>\n",
       "      <td>Business Analyst</td>\n",
       "      <td>add role desc</td>\n",
       "      <td>155</td>\n",
       "      <td>0</td>\n",
       "      <td>0</td>\n",
       "      <td>0</td>\n",
       "    </tr>\n",
       "    <tr>\n",
       "      <th>3</th>\n",
       "      <td>TA</td>\n",
       "      <td>Technical Architect</td>\n",
       "      <td>add role desc</td>\n",
       "      <td>195</td>\n",
       "      <td>0</td>\n",
       "      <td>0</td>\n",
       "      <td>0</td>\n",
       "    </tr>\n",
       "    <tr>\n",
       "      <th>4</th>\n",
       "      <td>TC</td>\n",
       "      <td>Technical Consultant</td>\n",
       "      <td>add role desc</td>\n",
       "      <td>175</td>\n",
       "      <td>0</td>\n",
       "      <td>0</td>\n",
       "      <td>0</td>\n",
       "    </tr>\n",
       "    <tr>\n",
       "      <th>5</th>\n",
       "      <td>TCO</td>\n",
       "      <td>Technical Consultant (Offshore)</td>\n",
       "      <td>add role desc</td>\n",
       "      <td>115</td>\n",
       "      <td>0</td>\n",
       "      <td>0</td>\n",
       "      <td>0</td>\n",
       "    </tr>\n",
       "    <tr>\n",
       "      <th>6</th>\n",
       "      <td>QAE</td>\n",
       "      <td>Quality Assurance Engineer</td>\n",
       "      <td>add role desc</td>\n",
       "      <td>115</td>\n",
       "      <td>0</td>\n",
       "      <td>0</td>\n",
       "      <td>0</td>\n",
       "    </tr>\n",
       "  </tbody>\n",
       "</table>\n",
       "</div>"
      ],
      "text/plain": [
       "  role                        role_name role_description  std_rate  discount  \\\n",
       "0   EM               Engagement Manager    add role desc       200         0   \n",
       "1  BPC      Business Process Consultant    add role desc       250         0   \n",
       "2   BA                 Business Analyst    add role desc       155         0   \n",
       "3   TA              Technical Architect    add role desc       195         0   \n",
       "4   TC             Technical Consultant    add role desc       175         0   \n",
       "5  TCO  Technical Consultant (Offshore)    add role desc       115         0   \n",
       "6  QAE       Quality Assurance Engineer    add role desc       115         0   \n",
       "\n",
       "   discount %  rate  \n",
       "0           0     0  \n",
       "1           0     0  \n",
       "2           0     0  \n",
       "3           0     0  \n",
       "4           0     0  \n",
       "5           0     0  \n",
       "6           0     0  "
      ]
     },
     "execution_count": 11,
     "metadata": {},
     "output_type": "execute_result"
    }
   ],
   "source": [
    "# Read in ROLES_RATES df \n",
    "rr_df = pd.read_excel('sow_input_data.xlsx', sheet_name = 'ROLES_RATES')\n",
    "\n",
    "rr_df = rr_df.iloc[0:7,:] # Filters out TAM role (for managed services)\n",
    "\n",
    "rr_df"
   ]
  },
  {
   "cell_type": "code",
   "execution_count": 12,
   "id": "21b522a8",
   "metadata": {
    "execution": {
     "iopub.execute_input": "2024-09-16T05:11:15.962730Z",
     "iopub.status.busy": "2024-09-16T05:11:15.962613Z",
     "iopub.status.idle": "2024-09-16T05:11:15.986229Z",
     "shell.execute_reply": "2024-09-16T05:11:15.985727Z"
    },
    "papermill": {
     "duration": 0.029375,
     "end_time": "2024-09-16T05:11:15.987247",
     "exception": false,
     "start_time": "2024-09-16T05:11:15.957872",
     "status": "completed"
    },
    "tags": []
   },
   "outputs": [],
   "source": [
    "# Insert rows rates dataframe \n",
    "role_rate_loc.options(index=False, header=True).value = rr_df # IMPORTANT header=True"
   ]
  },
  {
   "cell_type": "code",
   "execution_count": 13,
   "id": "eee25aa0",
   "metadata": {
    "execution": {
     "iopub.execute_input": "2024-09-16T05:11:15.998089Z",
     "iopub.status.busy": "2024-09-16T05:11:15.997917Z",
     "iopub.status.idle": "2024-09-16T05:11:16.030403Z",
     "shell.execute_reply": "2024-09-16T05:11:16.030010Z"
    },
    "papermill": {
     "duration": 0.039396,
     "end_time": "2024-09-16T05:11:16.031717",
     "exception": false,
     "start_time": "2024-09-16T05:11:15.992321",
     "status": "completed"
    },
    "tags": []
   },
   "outputs": [],
   "source": [
    "# DEV - insert the PS (pre-sales placeholder) role\n",
    "ps_ph_list = ['PS', 'pre-sales', 'placeholder', '4', '0', '0', '0']\n",
    "\n",
    "# insert ps_ph list for DEV\n",
    "role_rate_loc[8,:].value = ps_ph_list\n",
    "role_rate_loc[8,:].font.color = '#E21A23'"
   ]
  },
  {
   "cell_type": "code",
   "execution_count": 14,
   "id": "0f4ce759",
   "metadata": {
    "execution": {
     "iopub.execute_input": "2024-09-16T05:11:16.041793Z",
     "iopub.status.busy": "2024-09-16T05:11:16.041662Z",
     "iopub.status.idle": "2024-09-16T05:11:16.075148Z",
     "shell.execute_reply": "2024-09-16T05:11:16.074701Z"
    },
    "papermill": {
     "duration": 0.039542,
     "end_time": "2024-09-16T05:11:16.076097",
     "exception": false,
     "start_time": "2024-09-16T05:11:16.036555",
     "status": "completed"
    },
    "tags": []
   },
   "outputs": [],
   "source": [
    "# Set formula to calculate final rate from discount (discount applied manually by user)\n",
    "role_rate_loc[1:9,6].formula = '=(D189-E189)'\n",
    "\n",
    "# DEV\n",
    "# role_rate_loc[-1,6].formula = '=(D200-E200)'\n",
    "\n",
    "\"\"\"\n",
    "Set discount formula\n",
    "-Important for usability by non-technical user\n",
    "\"\"\" \n",
    "\n",
    "# Set formula to calculate discount perecentage\n",
    "role_rate_loc[1:9,5].formula = '=(E189/D189)'"
   ]
  },
  {
   "cell_type": "code",
   "execution_count": 15,
   "id": "491bdd13",
   "metadata": {
    "execution": {
     "iopub.execute_input": "2024-09-16T05:11:16.086175Z",
     "iopub.status.busy": "2024-09-16T05:11:16.086039Z",
     "iopub.status.idle": "2024-09-16T05:11:16.874156Z",
     "shell.execute_reply": "2024-09-16T05:11:16.873311Z"
    },
    "papermill": {
     "duration": 0.795657,
     "end_time": "2024-09-16T05:11:16.876635",
     "exception": false,
     "start_time": "2024-09-16T05:11:16.080978",
     "status": "completed"
    },
    "tags": []
   },
   "outputs": [],
   "source": [
    "\"\"\" \n",
    "This looks sick from a UX perspective if the user is watching      \n",
    "\"\"\"\n",
    "# Set 0% and $0.00 formatting\n",
    "role_rate_loc[1:,3].number_format = '$0.00' # STD RATE\n",
    "role_rate_loc[1:,4].number_format = '$0.00' # DISCOUNT\n",
    "role_rate_loc[1:,5].number_format = '0.0%' # DISCOUNT %\n",
    "role_rate_loc[1:,6].number_format = '$0.00' # NEGOTIATED RATE"
   ]
  },
  {
   "cell_type": "code",
   "execution_count": 16,
   "id": "4b936a87",
   "metadata": {
    "execution": {
     "iopub.execute_input": "2024-09-16T05:11:16.896548Z",
     "iopub.status.busy": "2024-09-16T05:11:16.896203Z",
     "iopub.status.idle": "2024-09-16T05:11:17.151140Z",
     "shell.execute_reply": "2024-09-16T05:11:17.150348Z"
    },
    "papermill": {
     "duration": 0.266898,
     "end_time": "2024-09-16T05:11:17.153133",
     "exception": false,
     "start_time": "2024-09-16T05:11:16.886235",
     "status": "completed"
    },
    "tags": []
   },
   "outputs": [],
   "source": [
    "\"\"\" \n",
    "Format roles and rates table in excel doc\n",
    "\"\"\"\n",
    "# Set bold header\n",
    "role_rate_loc[0,:].font.bold = True\n",
    "\n",
    "# Set border and line style\n",
    "role_rate_loc[0:8,:].api.get_border(which_border=k.border_top).weight.set(4)\n",
    "role_rate_loc[0:8,:].api.get_border(which_border=k.border_left).weight.set(4)\n",
    "role_rate_loc[0:8,:].api.get_border(which_border=k.border_bottom).weight.set(4)\n",
    "role_rate_loc[0:8,:].api.get_border(which_border=k.border_right).weight.set(4)"
   ]
  },
  {
   "cell_type": "code",
   "execution_count": 17,
   "id": "6f766478",
   "metadata": {
    "execution": {
     "iopub.execute_input": "2024-09-16T05:11:17.171027Z",
     "iopub.status.busy": "2024-09-16T05:11:17.170874Z",
     "iopub.status.idle": "2024-09-16T05:11:17.428121Z",
     "shell.execute_reply": "2024-09-16T05:11:17.427719Z"
    },
    "papermill": {
     "duration": 0.263579,
     "end_time": "2024-09-16T05:11:17.429069",
     "exception": false,
     "start_time": "2024-09-16T05:11:17.165490",
     "status": "completed"
    },
    "tags": []
   },
   "outputs": [],
   "source": [
    "\"\"\"\n",
    "PLACEHOLDERS\n",
    "\"\"\"\n",
    "# for ROLE table append line to use in DEV\n",
    "ps_role = ['PS', 'pre-sales', 'placeholder', '$0.00', '$0.00', '0.0%', '$0.00']\n",
    "\n",
    "# string to insert in each row\n",
    "# ps_placeholder = ['pre-sales', 'placeholder', 'PS', '4']\n",
    "ps_placeholder = ['XXX', 'XXX', 'PS', '4']\n",
    "\n",
    "\"\"\"   \n",
    "Insert PLACEHOLDERS\n",
    "\"\"\"\n",
    "# insert placeholder lists in excel\n",
    "sheet['env_nr'][1:,1:5].value = ps_placeholder\n",
    "sheet['int_nr'][1:,1:5].value = ps_placeholder\n",
    "sheet['def_nr'][1:,1:5].value = ps_placeholder\n",
    "sheet['des_nr'][1:,1:5].value = ps_placeholder\n",
    "sheet['bld_nr'][1:,1:5].value = ps_placeholder\n",
    "sheet['trn_nr'][1:,1:5].value = ps_placeholder\n",
    "sheet['cls_nr'][1:,1:5].value = ps_placeholder"
   ]
  },
  {
   "cell_type": "code",
   "execution_count": 18,
   "id": "65b1d3de",
   "metadata": {
    "execution": {
     "iopub.execute_input": "2024-09-16T05:11:17.438606Z",
     "iopub.status.busy": "2024-09-16T05:11:17.438496Z",
     "iopub.status.idle": "2024-09-16T05:11:17.858851Z",
     "shell.execute_reply": "2024-09-16T05:11:17.858546Z"
    },
    "papermill": {
     "duration": 0.426129,
     "end_time": "2024-09-16T05:11:17.859857",
     "exception": false,
     "start_time": "2024-09-16T05:11:17.433728",
     "status": "completed"
    },
    "tags": []
   },
   "outputs": [],
   "source": [
    "# COPY / PASTE placeholder string from excel (at each stage)\n",
    "\n",
    "# ENVISTION (PRE-KICKOFF)\n",
    "sheet['env_nr'][1,1:].copy()\n",
    "sheet['env_nr'][2:-2,1:].paste()\n",
    "\n",
    "# INITIATE\n",
    "sheet['int_nr'][1,1:].copy()\n",
    "sheet['int_nr'][2:-2,1:].paste()\n",
    "\n",
    "# DEFINE\n",
    "sheet['def_nr'][1,1:].copy()\n",
    "sheet['def_nr'][2:-2,1:].paste()\n",
    "\n",
    "#DESIGN\n",
    "sheet['des_nr'][1,1:].copy()\n",
    "sheet['des_nr'][2:-2,1:].paste()\n",
    "\n",
    "#BUILD\n",
    "sheet['bld_nr'][1,1:].copy()\n",
    "sheet['bld_nr'][2:-2,1:].paste()\n",
    "\n",
    "#TRANSITION\n",
    "sheet['trn_nr'][1,1:].copy()\n",
    "sheet['trn_nr'][2:-2,1:].paste()\n",
    "\n",
    "#CLOSE\n",
    "sheet['cls_nr'][1,1:].copy()\n",
    "sheet['cls_nr'][2:-2,1:].paste()"
   ]
  },
  {
   "cell_type": "code",
   "execution_count": 19,
   "id": "80389dcb",
   "metadata": {
    "execution": {
     "iopub.execute_input": "2024-09-16T05:11:17.869856Z",
     "iopub.status.busy": "2024-09-16T05:11:17.869744Z",
     "iopub.status.idle": "2024-09-16T05:11:18.065012Z",
     "shell.execute_reply": "2024-09-16T05:11:18.064659Z"
    },
    "papermill": {
     "duration": 0.201395,
     "end_time": "2024-09-16T05:11:18.066087",
     "exception": false,
     "start_time": "2024-09-16T05:11:17.864692",
     "status": "completed"
    },
    "tags": []
   },
   "outputs": [],
   "source": [
    "\"\"\" \n",
    "VLOOKUP() to populate rates for roles\n",
    "-review everything about cell addresses before proceeding\n",
    "\"\"\"\n",
    "# ENVISION (PRE-KICKOFF)\n",
    "sheet['env_nr'][1:-2, 5].formula = '=VLOOKUP(D3,$A$188:$G$196,7,FALSE)'\n",
    "\n",
    "# INITIATE\n",
    "sheet['int_nr'][1:-2, 5].formula = '=VLOOKUP(D21,$A$188:$G$196,7,FALSE)'\n",
    "\n",
    "# DEFINE\n",
    "sheet['def_nr'][1:-2, 5].formula = '=VLOOKUP(D41,$A$188:$G$196,7,FALSE)'\n",
    "\n",
    "# DESIGN \n",
    "sheet['des_nr'][1:-2, 5].formula = '=VLOOKUP(D81,$A$188:$G$196,7,FALSE)'\n",
    "\n",
    "# BUILD\n",
    "sheet['bld_nr'][1:-2, 5].formula = '=VLOOKUP(D101,$A$188:$G$196,7,FALSE)'\n",
    "\n",
    "# TRANSITION\n",
    "sheet['trn_nr'][1:-2, 5].formula = '=VLOOKUP(D141,$A$188:$G$196,7,FALSE)'\n",
    "\n",
    "# CLOSE\n",
    "sheet['cls_nr'][1:-2, 5].formula = '=VLOOKUP(D161,$A$188:$G$196,7,FALSE)'"
   ]
  },
  {
   "cell_type": "code",
   "execution_count": 20,
   "id": "03943ef7",
   "metadata": {
    "execution": {
     "iopub.execute_input": "2024-09-16T05:11:18.076934Z",
     "iopub.status.busy": "2024-09-16T05:11:18.076786Z",
     "iopub.status.idle": "2024-09-16T05:11:18.079349Z",
     "shell.execute_reply": "2024-09-16T05:11:18.079101Z"
    },
    "papermill": {
     "duration": 0.009099,
     "end_time": "2024-09-16T05:11:18.080141",
     "exception": false,
     "start_time": "2024-09-16T05:11:18.071042",
     "status": "completed"
    },
    "tags": []
   },
   "outputs": [
    {
     "data": {
      "text/plain": [
       "'\\nDATA TABLE FOR CHARTS & VISUALS\\n-Total hours by role\\n-Total hours by stage\\n\\n*other not yet worked out*\\n-FTE by stage\\n-FTE by role\\n-FTE overlay\\n-High level project timeline\\n'"
      ]
     },
     "execution_count": 20,
     "metadata": {},
     "output_type": "execute_result"
    }
   ],
   "source": [
    "\"\"\"\n",
    "DATA TABLE FOR CHARTS & VISUALS\n",
    "-Total hours by role\n",
    "-Total hours by stage\n",
    "\n",
    "*other not yet worked out*\n",
    "-FTE by stage\n",
    "-FTE by role\n",
    "-FTE overlay\n",
    "-High level project timeline\n",
    "\"\"\""
   ]
  },
  {
   "cell_type": "code",
   "execution_count": 21,
   "id": "ded9eeb6",
   "metadata": {
    "execution": {
     "iopub.execute_input": "2024-09-16T05:11:18.090750Z",
     "iopub.status.busy": "2024-09-16T05:11:18.090640Z",
     "iopub.status.idle": "2024-09-16T05:11:18.145089Z",
     "shell.execute_reply": "2024-09-16T05:11:18.144843Z"
    },
    "papermill": {
     "duration": 0.060582,
     "end_time": "2024-09-16T05:11:18.145896",
     "exception": false,
     "start_time": "2024-09-16T05:11:18.085314",
     "status": "completed"
    },
    "tags": []
   },
   "outputs": [
    {
     "data": {
      "text/plain": [
       "['EM', 'BPC', 'BA', 'TA', 'TC', 'TCO', 'QAE', 'PS']"
      ]
     },
     "execution_count": 21,
     "metadata": {},
     "output_type": "execute_result"
    }
   ],
   "source": [
    "\"\"\"\n",
    "CHARTS DATA\n",
    "\"\"\"\n",
    "# NAMED RANGE - Chart data\n",
    "sheet['A200:G209'].name = 'cht_nr'\n",
    "\n",
    "# INSERT HEADER\n",
    "sheet['cht_nr'][0,3:].value = ['ROLE', 'HOURS', 'COST', 'RATE']\n",
    "\n",
    "# GET ROLES\n",
    "cht_list = role_rate_loc[1:,0].value\n",
    "cht_role_list = cht_list[0:8]\n",
    "\n",
    "cht_role_list"
   ]
  },
  {
   "cell_type": "code",
   "execution_count": 22,
   "id": "db316c7b",
   "metadata": {
    "execution": {
     "iopub.execute_input": "2024-09-16T05:11:18.156215Z",
     "iopub.status.busy": "2024-09-16T05:11:18.156099Z",
     "iopub.status.idle": "2024-09-16T05:11:18.159678Z",
     "shell.execute_reply": "2024-09-16T05:11:18.159446Z"
    },
    "papermill": {
     "duration": 0.009642,
     "end_time": "2024-09-16T05:11:18.160448",
     "exception": false,
     "start_time": "2024-09-16T05:11:18.150806",
     "status": "completed"
    },
    "tags": []
   },
   "outputs": [
    {
     "data": {
      "text/plain": [
       "[200.0, 250.0, 155.0, 195.0, 175.0, 115.0, 115.0, 4.0]"
      ]
     },
     "execution_count": 22,
     "metadata": {},
     "output_type": "execute_result"
    }
   ],
   "source": [
    "# GET RATES\n",
    "cht_rate = role_rate_loc[1:,6].value\n",
    "cht_rate_list = cht_rate[0:8]\n",
    "\n",
    "cht_rate_list"
   ]
  },
  {
   "cell_type": "code",
   "execution_count": 23,
   "id": "65258de6",
   "metadata": {
    "execution": {
     "iopub.execute_input": "2024-09-16T05:11:18.170619Z",
     "iopub.status.busy": "2024-09-16T05:11:18.170502Z",
     "iopub.status.idle": "2024-09-16T05:11:18.729780Z",
     "shell.execute_reply": "2024-09-16T05:11:18.729502Z"
    },
    "papermill": {
     "duration": 0.565602,
     "end_time": "2024-09-16T05:11:18.730737",
     "exception": false,
     "start_time": "2024-09-16T05:11:18.165135",
     "status": "completed"
    },
    "tags": []
   },
   "outputs": [],
   "source": [
    "# INSERT & TRANSPOSE *ROLE* DATA -> to new table (later used for charts and data viz)\n",
    "sheet['cht_nr'][1:,3].options(transpose=True).value = cht_role_list\n",
    "\n",
    "# INSERT & TRANSPOSE *RATE* DATE\n",
    "sheet['cht_nr'][1:,6].number_format = '$0.00' # sets formatting before insert\n",
    "sheet['cht_nr'][1:,6].options(transpose=True).value = cht_rate_list\n"
   ]
  },
  {
   "cell_type": "code",
   "execution_count": 24,
   "id": "a272c66e",
   "metadata": {
    "execution": {
     "iopub.execute_input": "2024-09-16T05:11:18.741955Z",
     "iopub.status.busy": "2024-09-16T05:11:18.741775Z",
     "iopub.status.idle": "2024-09-16T05:11:18.748804Z",
     "shell.execute_reply": "2024-09-16T05:11:18.748470Z"
    },
    "papermill": {
     "duration": 0.013539,
     "end_time": "2024-09-16T05:11:18.749739",
     "exception": false,
     "start_time": "2024-09-16T05:11:18.736200",
     "status": "completed"
    },
    "tags": []
   },
   "outputs": [],
   "source": [
    "# SUMIF() function in excel to SUM hours by role -> populate table values\n",
    "sheet['cht_nr'][1:9,4].formula = '=SUMIF(D1:D179,D201,E1:E179)'"
   ]
  },
  {
   "cell_type": "code",
   "execution_count": 25,
   "id": "d44bb905",
   "metadata": {
    "execution": {
     "iopub.execute_input": "2024-09-16T05:11:18.760230Z",
     "iopub.status.busy": "2024-09-16T05:11:18.760018Z",
     "iopub.status.idle": "2024-09-16T05:11:19.023655Z",
     "shell.execute_reply": "2024-09-16T05:11:19.023237Z"
    },
    "papermill": {
     "duration": 0.270045,
     "end_time": "2024-09-16T05:11:19.024903",
     "exception": false,
     "start_time": "2024-09-16T05:11:18.754858",
     "status": "completed"
    },
    "tags": []
   },
   "outputs": [],
   "source": [
    "# Set cost # format also\n",
    "sheet['cht_nr'][1:,5].number_format = '$0.00'\n",
    "\n",
    "# FORMULA to calculate cost\n",
    "sheet['cht_nr'][1:9,5].formula = ('=E201*G201')\n"
   ]
  },
  {
   "cell_type": "code",
   "execution_count": 26,
   "id": "2776cbed",
   "metadata": {
    "execution": {
     "iopub.execute_input": "2024-09-16T05:11:19.036424Z",
     "iopub.status.busy": "2024-09-16T05:11:19.036238Z",
     "iopub.status.idle": "2024-09-16T05:11:19.042959Z",
     "shell.execute_reply": "2024-09-16T05:11:19.042570Z"
    },
    "papermill": {
     "duration": 0.014051,
     "end_time": "2024-09-16T05:11:19.044311",
     "exception": false,
     "start_time": "2024-09-16T05:11:19.030260",
     "status": "completed"
    },
    "tags": []
   },
   "outputs": [],
   "source": [
    "# DEV set PS row to red\n",
    "sheet['cht_nr'][8,3:].font.color = '#E21A23'\n"
   ]
  },
  {
   "cell_type": "code",
   "execution_count": 27,
   "id": "463bfd9f",
   "metadata": {
    "execution": {
     "iopub.execute_input": "2024-09-16T05:11:19.055615Z",
     "iopub.status.busy": "2024-09-16T05:11:19.055479Z",
     "iopub.status.idle": "2024-09-16T05:11:19.189653Z",
     "shell.execute_reply": "2024-09-16T05:11:19.189342Z"
    },
    "papermill": {
     "duration": 0.141282,
     "end_time": "2024-09-16T05:11:19.190857",
     "exception": false,
     "start_time": "2024-09-16T05:11:19.049575",
     "status": "completed"
    },
    "tags": []
   },
   "outputs": [],
   "source": [
    "# BORDERS & FORMATTING\n",
    "sheet['cht_nr'][0,3:].font.bold = True \n",
    "\n",
    "# BORDER\n",
    "sheet['cht_nr'][0:8,3:].api.get_border(which_border=k.border_top).weight.set(4)\n",
    "sheet['cht_nr'][0:8,3:].api.get_border(which_border=k.border_left).weight.set(4)\n",
    "sheet['cht_nr'][0:8,3:].api.get_border(which_border=k.border_bottom).weight.set(4)\n",
    "sheet['cht_nr'][0:8,3:].api.get_border(which_border=k.border_right).weight.set(4)"
   ]
  },
  {
   "attachments": {},
   "cell_type": "markdown",
   "id": "b12a3589",
   "metadata": {
    "papermill": {
     "duration": 0.004805,
     "end_time": "2024-09-16T05:11:19.200929",
     "exception": false,
     "start_time": "2024-09-16T05:11:19.196124",
     "status": "completed"
    },
    "tags": []
   },
   "source": [
    "Start here. All working above. \n",
    "Need to figure out FTEs and the sample project timeline."
   ]
  },
  {
   "cell_type": "code",
   "execution_count": 28,
   "id": "33422678",
   "metadata": {
    "execution": {
     "iopub.execute_input": "2024-09-16T05:11:19.213224Z",
     "iopub.status.busy": "2024-09-16T05:11:19.212998Z",
     "iopub.status.idle": "2024-09-16T05:11:19.300162Z",
     "shell.execute_reply": "2024-09-16T05:11:19.299899Z"
    },
    "papermill": {
     "duration": 0.094072,
     "end_time": "2024-09-16T05:11:19.301136",
     "exception": false,
     "start_time": "2024-09-16T05:11:19.207064",
     "status": "completed"
    },
    "tags": []
   },
   "outputs": [],
   "source": [
    "# Save workbook BUT leave open\n",
    "book_number = 'book01.xlsx'\n",
    "wb.save(book_number)"
   ]
  },
  {
   "attachments": {},
   "cell_type": "markdown",
   "id": "f3d47bbc",
   "metadata": {
    "papermill": {
     "duration": 0.004709,
     "end_time": "2024-09-16T05:11:19.310822",
     "exception": false,
     "start_time": "2024-09-16T05:11:19.306113",
     "status": "completed"
    },
    "tags": []
   },
   "source": [
    "| END OF PROGRAM |\n",
    "| ----------- |\n",
    "| Notes for future DEV, and reference code below |"
   ]
  },
  {
   "cell_type": "code",
   "execution_count": 29,
   "id": "2fad05f6",
   "metadata": {
    "execution": {
     "iopub.execute_input": "2024-09-16T05:11:19.334785Z",
     "iopub.status.busy": "2024-09-16T05:11:19.334556Z",
     "iopub.status.idle": "2024-09-16T05:11:19.336315Z",
     "shell.execute_reply": "2024-09-16T05:11:19.336083Z"
    },
    "papermill": {
     "duration": 0.008407,
     "end_time": "2024-09-16T05:11:19.337079",
     "exception": false,
     "start_time": "2024-09-16T05:11:19.328672",
     "status": "completed"
    },
    "tags": []
   },
   "outputs": [],
   "source": [
    "# # DATA - Hours breakdown by role\n",
    "# hrs_chart_data_loc = sheet['sow_nr'][200:210,:]\n",
    "# hrs_chart_data_list = ['ROLE', 'HOURS', 'COST', 'RATE']\n",
    "\n",
    "# hrs_chart_data_loc[:,3:5].value = hrs_chart_data_list\n",
    "\n",
    "# # set roles in new table\n",
    "# role_rate_loc[1:8,0].options(transpose=True).value = role_rate_loc[1:8,0]\n"
   ]
  },
  {
   "cell_type": "code",
   "execution_count": 30,
   "id": "6373275d",
   "metadata": {
    "execution": {
     "iopub.execute_input": "2024-09-16T05:11:19.347191Z",
     "iopub.status.busy": "2024-09-16T05:11:19.347109Z",
     "iopub.status.idle": "2024-09-16T05:11:19.348413Z",
     "shell.execute_reply": "2024-09-16T05:11:19.348214Z"
    },
    "papermill": {
     "duration": 0.007191,
     "end_time": "2024-09-16T05:11:19.349134",
     "exception": false,
     "start_time": "2024-09-16T05:11:19.341943",
     "status": "completed"
    },
    "tags": []
   },
   "outputs": [],
   "source": [
    "# DATA - Hours breakdown by stage"
   ]
  },
  {
   "cell_type": "code",
   "execution_count": 31,
   "id": "313c1a99",
   "metadata": {
    "execution": {
     "iopub.execute_input": "2024-09-16T05:11:19.359119Z",
     "iopub.status.busy": "2024-09-16T05:11:19.358939Z",
     "iopub.status.idle": "2024-09-16T05:11:19.360442Z",
     "shell.execute_reply": "2024-09-16T05:11:19.360237Z"
    },
    "papermill": {
     "duration": 0.007248,
     "end_time": "2024-09-16T05:11:19.361179",
     "exception": false,
     "start_time": "2024-09-16T05:11:19.353931",
     "status": "completed"
    },
    "tags": []
   },
   "outputs": [],
   "source": [
    "# DATA - Time breakdown by stage"
   ]
  },
  {
   "cell_type": "code",
   "execution_count": 32,
   "id": "9e28527b",
   "metadata": {
    "execution": {
     "iopub.execute_input": "2024-09-16T05:11:19.372132Z",
     "iopub.status.busy": "2024-09-16T05:11:19.372013Z",
     "iopub.status.idle": "2024-09-16T05:11:19.374078Z",
     "shell.execute_reply": "2024-09-16T05:11:19.373839Z"
    },
    "papermill": {
     "duration": 0.008553,
     "end_time": "2024-09-16T05:11:19.374850",
     "exception": false,
     "start_time": "2024-09-16T05:11:19.366297",
     "status": "completed"
    },
    "tags": []
   },
   "outputs": [
    {
     "data": {
      "text/plain": [
       "'\\nLoad overlay data and store as a dataframe\\nSlice new dataframe (3) dataframes\\nWrite 3 dataframes to respective excel document location\\nSet formulas to dynamically calculate totals\\nSet formulas to dynamically calculate hours based on percentages\\n'"
      ]
     },
     "execution_count": 32,
     "metadata": {},
     "output_type": "execute_result"
    }
   ],
   "source": [
    "\"\"\"\n",
    "Load overlay data and store as a dataframe\n",
    "Slice new dataframe (3) dataframes\n",
    "Write 3 dataframes to respective excel document location\n",
    "Set formulas to dynamically calculate totals\n",
    "Set formulas to dynamically calculate hours based on percentages\n",
    "\"\"\"\n",
    "# overlay_df = pd.read_excel('sow_input_v5.0_beta.xlsx', sheet_name='OVERLAY') \n",
    "\n",
    "# overlay_df"
   ]
  },
  {
   "cell_type": "code",
   "execution_count": 33,
   "id": "589699f7",
   "metadata": {
    "execution": {
     "iopub.execute_input": "2024-09-16T05:11:19.385088Z",
     "iopub.status.busy": "2024-09-16T05:11:19.384969Z",
     "iopub.status.idle": "2024-09-16T05:11:19.387134Z",
     "shell.execute_reply": "2024-09-16T05:11:19.386904Z"
    },
    "papermill": {
     "duration": 0.007986,
     "end_time": "2024-09-16T05:11:19.387856",
     "exception": false,
     "start_time": "2024-09-16T05:11:19.379870",
     "status": "completed"
    },
    "tags": []
   },
   "outputs": [],
   "source": [
    "# \"\"\"    \n",
    "# OVERLAYS\n",
    "# -Scribe (BA)\n",
    "# -BPC\n",
    "# -EM\n",
    "# -TA (formerly SA)\n",
    "# \"\"\"\n",
    "\n",
    "# # Set color variable\n",
    "# overlay_color = '#F9F7ED'\n",
    "\n",
    "# \"\"\" \n",
    "# Define\n",
    "# -BA and EM\n",
    "# \"\"\"\n",
    "# scribe_ovy = overlay_df.iloc[0:1,1:]\n",
    "# sheet['def_nr'][16,1:].options(index=False, header=False).value = scribe_ovy\n",
    "# sheet['def_nr'][16,4].formula = '=ROUNDUP(SUM(E41:E55)*.05,0)' # Important - use ROUNDUP()\n",
    "\n",
    "# em_ovy = overlay_df.iloc[2:3,1:]\n",
    "# sheet['def_nr'][17,1:].options(index=False, header=False).value = em_ovy\n",
    "# sheet['def_nr'][17,4].formula = '=ROUNDUP(SUM(E41:E55)*.05,0)' # Important - use ROUNDUP()\n",
    "\n",
    "# sheet['def_nr'][16:18,1:].color = overlay_color\n",
    "\n",
    "# \"\"\" \n",
    "# Design\n",
    "# -BPC and EM\n",
    "# \"\"\"\n",
    "# bpc_ovy = overlay_df.iloc[1:2,1:]\n",
    "# sheet['des_nr'][16,1:].options(index=False, header=False).value = bpc_ovy\n",
    "# sheet['des_nr'][16,4].formula = '=ROUNDUP(SUM(E41:E55)*.05,0)' # Product sum from define phase is the scalar\n",
    "\n",
    "# sheet['des_nr'][17,1:].options(index=False, header=False).value = em_ovy\n",
    "# sheet['des_nr'][17,4].formula = '=ROUNDUP(SUM(E61:E75)*.05,0)' # Product sum from define phase is the scalar\n",
    "\n",
    "# sheet['des_nr'][16:18,1:].color = overlay_color\n",
    "\n",
    "# \"\"\"\n",
    "# Execute\n",
    "# -BPC, TA, and EM\n",
    "# \"\"\" \n",
    "# sheet['bld_nr'][15,1:].options(index=False, header=False).value = bpc_ovy\n",
    "# sheet['bld_nr'][15,4].formula = '=ROUNDUP(SUM(E81:E94)*.05,0)'\n",
    "\n",
    "# sa_ovy = overlay_df.iloc[3:4,1:]\n",
    "# sheet['bld_nr'][16,1:].options(index=False, header=False).value = sa_ovy\n",
    "# sheet['bld_nr'][16,4].formula = '=ROUNDUP(SUM(E81:E94)*.05,0)'\n",
    "\n",
    "# sheet['bld_nr'][17,1:].options(index=False, header=False).value = em_ovy\n",
    "# sheet['bld_nr'][17,4].formula = '=ROUNDUP(SUM(E81:E94)*.05,0)'\n",
    "\n",
    "# sheet['bld_nr'][15:18,1:].color = overlay_color\n",
    "\n",
    "# \"\"\"\n",
    "# Transition\n",
    "# -TA and EM\n",
    "# \"\"\"\n",
    "# sheet['trn_nr'][16,1:].options(index=False, header=False).value = sa_ovy\n",
    "# sheet['trn_nr'][16,4].formula = '=ROUNDUP(SUM(E101:E115)*.05,0)'\n",
    "\n",
    "# sheet['trn_nr'][17,1:].options(index=False, header=False).value = em_ovy\n",
    "# sheet['trn_nr'][17,4].formula = '=ROUNDUP(SUM(E101:E115)*.05,0)'\n",
    "\n",
    "# sheet['trn_nr'][16:18,1:].color = overlay_color\n",
    "\n",
    "# \"\"\"\n",
    "# Close\n",
    "# #### Nothing to add at the moment ####\n",
    "\n",
    "# \"\"\"\n",
    "# # Close\n",
    "# # -Think about using f strings to dynamically capture percentage adjustements\n",
    "# # \"\"\"\n",
    "# # cls_ovy = overlay_df.iloc[2:,1:]\n",
    "# # sheet['cls_nr'][15:18,1:].options(index=False, header=False).value = cls_ovy\n",
    "# # sheet['cls_nr'][15,4].formula = '=ROUNDUP(SUM(E58+E78+E98+E118)*.05,0)' # PM (define, design, execute, transition)\n",
    "# # sheet['cls_nr'][16,4].formula = '=ROUNDUP(SUM(E98+E118)*.05,0)' # SA (execute, transition)\n",
    "# # sheet['cls_nr'][17,4].formula = '=ROUNDUP(SUM(E98)*.05,0)' # BPC (execute)\n",
    "# # sheet['cls_nr'][17,1:].color = overlay_color\n"
   ]
  },
  {
   "cell_type": "code",
   "execution_count": 34,
   "id": "a8e9d0fb",
   "metadata": {
    "execution": {
     "iopub.execute_input": "2024-09-16T05:11:19.398031Z",
     "iopub.status.busy": "2024-09-16T05:11:19.397912Z",
     "iopub.status.idle": "2024-09-16T05:11:19.399839Z",
     "shell.execute_reply": "2024-09-16T05:11:19.399619Z"
    },
    "papermill": {
     "duration": 0.007932,
     "end_time": "2024-09-16T05:11:19.400619",
     "exception": false,
     "start_time": "2024-09-16T05:11:19.392687",
     "status": "completed"
    },
    "tags": []
   },
   "outputs": [
    {
     "data": {
      "text/plain": [
       "'\\nVerify active excel workbook and sheet\\n'"
      ]
     },
     "execution_count": 34,
     "metadata": {},
     "output_type": "execute_result"
    }
   ],
   "source": [
    "\"\"\"\n",
    "Verify active excel workbook and sheet\n",
    "\"\"\"\n",
    "# print(xw.apps.active)\n",
    "# print(xw.books.active)\n",
    "# print(xw.sheets.active)"
   ]
  },
  {
   "cell_type": "code",
   "execution_count": 35,
   "id": "7988733d",
   "metadata": {
    "execution": {
     "iopub.execute_input": "2024-09-16T05:11:19.410782Z",
     "iopub.status.busy": "2024-09-16T05:11:19.410526Z",
     "iopub.status.idle": "2024-09-16T05:11:19.412184Z",
     "shell.execute_reply": "2024-09-16T05:11:19.411945Z"
    },
    "papermill": {
     "duration": 0.007471,
     "end_time": "2024-09-16T05:11:19.412925",
     "exception": false,
     "start_time": "2024-09-16T05:11:19.405454",
     "status": "completed"
    },
    "tags": []
   },
   "outputs": [],
   "source": [
    "# # Set named range for totals\n",
    "# sheet['D140:G144'].name = 'tot_nr'\n",
    "\n",
    "# # Assign values to cells by passing lists to the excel doc\n",
    "# sheet['tot_nr'][1,:].value = ['TOTAL HOURS', 0, 'TOTAL COST', '$0.00']\n",
    "# sheet['tot_nr'][2,:].value = ['', 'OTD', '0%', '$0.00']\n",
    "# sheet['tot_nr'][3,:].value = ['', '', 'GRAND TOTAL', '$0.00']\n",
    "\n",
    "# # Set font bold and color\n",
    "# sheet['tot_nr'][1:4,:].font.bold = True\n",
    "# sheet['tot_nr'][1:4,:].font.color = '#000000'\n",
    "\n",
    "# # Set formulas\n",
    "# sheet['tot_nr'][1,1].formula = '=(E139)'\n",
    "# sheet['tot_nr'][1,3].formula = '=(G139)'\n",
    "# sheet['tot_nr'][2,3].formula = '=(F142*G141)'\n",
    "# sheet['tot_nr'][3,3].formula = '=(G141-G142)'\n",
    "\n"
   ]
  },
  {
   "cell_type": "code",
   "execution_count": 36,
   "id": "08e8386a",
   "metadata": {
    "execution": {
     "iopub.execute_input": "2024-09-16T05:11:19.423052Z",
     "iopub.status.busy": "2024-09-16T05:11:19.422949Z",
     "iopub.status.idle": "2024-09-16T05:11:19.424584Z",
     "shell.execute_reply": "2024-09-16T05:11:19.424275Z"
    },
    "papermill": {
     "duration": 0.00771,
     "end_time": "2024-09-16T05:11:19.425571",
     "exception": false,
     "start_time": "2024-09-16T05:11:19.417861",
     "status": "completed"
    },
    "tags": []
   },
   "outputs": [],
   "source": [
    "# # td_range = sheet['tot_nr'][1:,1:4].options(expand='table')\n",
    "# td_range = sheet['tot_nr'].options(expand='table')\n",
    "# td_value = td_range.value\n",
    "# td_value"
   ]
  },
  {
   "cell_type": "code",
   "execution_count": 37,
   "id": "d3093c2c",
   "metadata": {
    "execution": {
     "iopub.execute_input": "2024-09-16T05:11:19.436187Z",
     "iopub.status.busy": "2024-09-16T05:11:19.436072Z",
     "iopub.status.idle": "2024-09-16T05:11:19.437563Z",
     "shell.execute_reply": "2024-09-16T05:11:19.437342Z"
    },
    "papermill": {
     "duration": 0.007749,
     "end_time": "2024-09-16T05:11:19.438271",
     "exception": false,
     "start_time": "2024-09-16T05:11:19.430522",
     "status": "completed"
    },
    "tags": []
   },
   "outputs": [],
   "source": [
    "# \"\"\"\n",
    "# IMPORTANT - MacOS\n",
    "# Use appscript k function as a workaround because I use a macOS operating system\n",
    "# \"\"\" \n",
    "# from appscript import k"
   ]
  },
  {
   "cell_type": "code",
   "execution_count": 38,
   "id": "8aa7f10c",
   "metadata": {
    "execution": {
     "iopub.execute_input": "2024-09-16T05:11:19.448169Z",
     "iopub.status.busy": "2024-09-16T05:11:19.448082Z",
     "iopub.status.idle": "2024-09-16T05:11:19.449485Z",
     "shell.execute_reply": "2024-09-16T05:11:19.449279Z"
    },
    "papermill": {
     "duration": 0.007183,
     "end_time": "2024-09-16T05:11:19.450210",
     "exception": false,
     "start_time": "2024-09-16T05:11:19.443027",
     "status": "completed"
    },
    "tags": []
   },
   "outputs": [],
   "source": [
    "# # Set totals border(s)\n",
    "# sheet['tot_nr'][1:4,:].api.get_border(which_border=k.border_top).weight.set(4)\n",
    "# sheet['tot_nr'][1:4,:].api.get_border(which_border=k.border_left).weight.set(4)\n",
    "# sheet['tot_nr'][1:4,:].api.get_border(which_border=k.border_bottom).weight.set(4)\n",
    "# sheet['tot_nr'][1:4,:].api.get_border(which_border=k.border_right).weight.set(4)\n",
    "\n",
    "# # Set line style\n",
    "# sheet['tot_nr'][1:4,:].api.get_border(which_border=k.border_top).line_style.set(1)\n"
   ]
  },
  {
   "cell_type": "code",
   "execution_count": 39,
   "id": "90b61928",
   "metadata": {
    "execution": {
     "iopub.execute_input": "2024-09-16T05:11:19.460079Z",
     "iopub.status.busy": "2024-09-16T05:11:19.459994Z",
     "iopub.status.idle": "2024-09-16T05:11:19.461680Z",
     "shell.execute_reply": "2024-09-16T05:11:19.461485Z"
    },
    "papermill": {
     "duration": 0.007411,
     "end_time": "2024-09-16T05:11:19.462369",
     "exception": false,
     "start_time": "2024-09-16T05:11:19.454958",
     "status": "completed"
    },
    "tags": []
   },
   "outputs": [],
   "source": [
    "# \"\"\"\n",
    "# Set borders on overalys \n",
    "# \"\"\"\n",
    "# # Define\n",
    "# sheet['def_nr'][16:18,1:].api.get_border(which_border=k.border_top).weight.set(2)\n",
    "# sheet['def_nr'][16:18,1:].api.get_border(which_border=k.border_left).weight.set(2)\n",
    "# sheet['def_nr'][16:18,1:].api.get_border(which_border=k.border_bottom).weight.set(2)\n",
    "# sheet['def_nr'][16:18,1:].api.get_border(which_border=k.border_right).weight.set(2)\n",
    "\n",
    "# sheet['def_nr'][16:18,1:].api.get_border(which_border=k.border_top).line_style.set(1)\n",
    "\n",
    "# # Design\n",
    "# sheet['des_nr'][16:18,1:].api.get_border(which_border=k.border_top).weight.set(2)\n",
    "# sheet['des_nr'][16:18,1:].api.get_border(which_border=k.border_left).weight.set(2)\n",
    "# sheet['des_nr'][16:18,1:].api.get_border(which_border=k.border_bottom).weight.set(2)\n",
    "# sheet['des_nr'][16:18,1:].api.get_border(which_border=k.border_right).weight.set(2)\n",
    "\n",
    "# sheet['des_nr'][16:18,1:].api.get_border(which_border=k.border_top).line_style.set(1)\n",
    "\n",
    "\n",
    "# # Build\n",
    "# sheet['bld_nr'][15:18,1:].api.get_border(which_border=k.border_top).weight.set(2)\n",
    "# sheet['bld_nr'][15:18,1:].api.get_border(which_border=k.border_left).weight.set(2)\n",
    "# sheet['bld_nr'][15:18,1:].api.get_border(which_border=k.border_bottom).weight.set(2)\n",
    "# sheet['bld_nr'][15:18,1:].api.get_border(which_border=k.border_right).weight.set(2)\n",
    "\n",
    "# sheet['bld_nr'][15:18,1:].api.get_border(which_border=k.border_top).line_style.set(1)\n",
    "\n",
    "\n",
    "# # Transition\n",
    "# sheet['trn_nr'][16:18,1:].api.get_border(which_border=k.border_top).weight.set(2)\n",
    "# sheet['trn_nr'][16:18,1:].api.get_border(which_border=k.border_left).weight.set(2)\n",
    "# sheet['trn_nr'][16:18,1:].api.get_border(which_border=k.border_bottom).weight.set(2)\n",
    "# sheet['trn_nr'][16:18,1:].api.get_border(which_border=k.border_right).weight.set(2)\n",
    "\n",
    "# sheet['trn_nr'][16:18,1:].api.get_border(which_border=k.border_top).line_style.set(1)\n",
    "\n"
   ]
  },
  {
   "cell_type": "code",
   "execution_count": 40,
   "id": "70cb5f88",
   "metadata": {
    "execution": {
     "iopub.execute_input": "2024-09-16T05:11:19.472562Z",
     "iopub.status.busy": "2024-09-16T05:11:19.472463Z",
     "iopub.status.idle": "2024-09-16T05:11:19.474113Z",
     "shell.execute_reply": "2024-09-16T05:11:19.473894Z"
    },
    "papermill": {
     "duration": 0.007681,
     "end_time": "2024-09-16T05:11:19.474878",
     "exception": false,
     "start_time": "2024-09-16T05:11:19.467197",
     "status": "completed"
    },
    "tags": []
   },
   "outputs": [],
   "source": [
    "# \"\"\"\n",
    "# Build a math checker\n",
    "# -Do something later like IF 'GRAND TOTAL' == 'GRAND TOTAL' THEN font.color=green ELSE font.color=red\n",
    "# \"\"\"\n",
    "# # Set named range for totals\n",
    "# sheet['D145:G149'].name = 'chk_nr'\n",
    "\n",
    "# # Assign values to cells by passing lists to the excel doc\n",
    "# sheet['chk_nr'][0,0].value = 'MATH CHECKER'\n",
    "# sheet['chk_nr'][1,:].value = ['TOTAL HOURS', 0, 'TOTAL COST', '$0.00']\n",
    "\n",
    "# # Set color on math checker field\n",
    "# sheet['chk_nr'][0,0].font.color = '#E21A23'\n",
    "\n",
    "# # Set font bold and color\n",
    "# sheet['chk_nr'][0:2,:].font.bold = True\n",
    "# sheet['chk_nr'][1:2,:].font.color = '#000000'\n",
    "\n",
    "# # Set formulas\n",
    "# sheet['chk_nr'][1,1].formula = '=SUM(E18+E38+E58+E78+E98+E118+E138)' # Total hours\n",
    "# sheet['chk_nr'][1,3].formula = '=SUM(G18+G38+G58+G78+G98+G118+G138)' # Total cost\n",
    "\n",
    "# # Set border and line style\n",
    "# sheet['chk_nr'][1:2,:].api.get_border(which_border=k.border_top).weight.set(4)\n",
    "# sheet['chk_nr'][1:2,:].api.get_border(which_border=k.border_left).weight.set(4)\n",
    "# sheet['chk_nr'][1:2,:].api.get_border(which_border=k.border_bottom).weight.set(4)\n",
    "# sheet['chk_nr'][1:2,:].api.get_border(which_border=k.border_right).weight.set(4)\n",
    "\n",
    "# # Default line style is (1) and some weird error happened. Leaving out."
   ]
  },
  {
   "cell_type": "code",
   "execution_count": 41,
   "id": "6ef6aaf6",
   "metadata": {
    "execution": {
     "iopub.execute_input": "2024-09-16T05:11:19.484847Z",
     "iopub.status.busy": "2024-09-16T05:11:19.484695Z",
     "iopub.status.idle": "2024-09-16T05:11:19.486201Z",
     "shell.execute_reply": "2024-09-16T05:11:19.486004Z"
    },
    "papermill": {
     "duration": 0.007225,
     "end_time": "2024-09-16T05:11:19.486892",
     "exception": false,
     "start_time": "2024-09-16T05:11:19.479667",
     "status": "completed"
    },
    "tags": []
   },
   "outputs": [],
   "source": [
    "# # Import INPUT dataframes\n",
    "# env_df = pd.read_excel('sow_input_v5.0_beta.xlsx', sheet_name = 'ENVISION')\n",
    "# int_df = pd.read_excel('sow_input_v5.0_beta.xlsx', sheet_name = 'INITIATE')\n",
    "# # Skip DEFINE for now\n",
    "# des_df = pd.read_excel('sow_input_v5.0_beta.xlsx', sheet_name = 'DESIGN')\n",
    "# bld_df = pd.read_excel('sow_input_v5.0_beta.xlsx', sheet_name = 'BUILD')\n",
    "# trn_df = pd.read_excel('sow_input_v5.0_beta.xlsx', sheet_name = 'TRANSITION')\n",
    "# cls_df = pd.read_excel('sow_input_v5.0_beta.xlsx', sheet_name = 'CLOSE')"
   ]
  },
  {
   "cell_type": "code",
   "execution_count": 42,
   "id": "5b403fbd",
   "metadata": {
    "execution": {
     "iopub.execute_input": "2024-09-16T05:11:19.496844Z",
     "iopub.status.busy": "2024-09-16T05:11:19.496753Z",
     "iopub.status.idle": "2024-09-16T05:11:19.498231Z",
     "shell.execute_reply": "2024-09-16T05:11:19.498015Z"
    },
    "papermill": {
     "duration": 0.007273,
     "end_time": "2024-09-16T05:11:19.498923",
     "exception": false,
     "start_time": "2024-09-16T05:11:19.491650",
     "status": "completed"
    },
    "tags": []
   },
   "outputs": [],
   "source": [
    "# sheet['env_nr'][1:,1:].options(index=False, header=False).value = env_df\n",
    "# sheet['int_nr'][1:,1:].options(index=False, header=False).value = int_df\n",
    "# # Skip DEFINE\n",
    "# sheet['des_nr'][1:,1:].options(index=False, header=False).value = des_df\n",
    "# sheet['bld_nr'][1:,1:].options(index=False, header=False).value = bld_df\n",
    "# sheet['trn_nr'][1:,1:].options(index=False, header=False).value = trn_df\n",
    "# sheet['cls_nr'][1:,1:].options(index=False, header=False).value = cls_df"
   ]
  },
  {
   "cell_type": "code",
   "execution_count": 43,
   "id": "41192ec7",
   "metadata": {
    "execution": {
     "iopub.execute_input": "2024-09-16T05:11:19.509072Z",
     "iopub.status.busy": "2024-09-16T05:11:19.508970Z",
     "iopub.status.idle": "2024-09-16T05:11:19.510423Z",
     "shell.execute_reply": "2024-09-16T05:11:19.510200Z"
    },
    "papermill": {
     "duration": 0.007498,
     "end_time": "2024-09-16T05:11:19.511187",
     "exception": false,
     "start_time": "2024-09-16T05:11:19.503689",
     "status": "completed"
    },
    "tags": []
   },
   "outputs": [],
   "source": [
    "# Highlight \"BREAK INSERT HERE\" - This is where SOW input data is injected\n",
    "# sheet['bld_nr'][4,1:].color = '#ffff00'\n",
    "# sheet['def_nr'][4,1:].color = '#ffff00'"
   ]
  },
  {
   "cell_type": "code",
   "execution_count": 44,
   "id": "e9c4e835",
   "metadata": {
    "execution": {
     "iopub.execute_input": "2024-09-16T05:11:19.522096Z",
     "iopub.status.busy": "2024-09-16T05:11:19.521996Z",
     "iopub.status.idle": "2024-09-16T05:11:19.523458Z",
     "shell.execute_reply": "2024-09-16T05:11:19.523255Z"
    },
    "papermill": {
     "duration": 0.007729,
     "end_time": "2024-09-16T05:11:19.524209",
     "exception": false,
     "start_time": "2024-09-16T05:11:19.516480",
     "status": "completed"
    },
    "tags": []
   },
   "outputs": [],
   "source": [
    "# \"\"\"\n",
    "# RATES & ROLES\n",
    "# \"\"\"\n",
    "# # Set roles rates named range\n",
    "# sheet['A150:G159'].name = 'rr_nr'\n",
    "\n",
    "# # Read in ROLES_RATES df \n",
    "# rr_df = pd.read_excel('sow_input_v5.0_beta.xlsx', sheet_name = 'ROLES_RATES')\n",
    "\n",
    "# rr_df = rr_df.iloc[0:7,:]\n",
    "\n",
    "# rr_df"
   ]
  },
  {
   "cell_type": "code",
   "execution_count": 45,
   "id": "08fd74bc",
   "metadata": {
    "execution": {
     "iopub.execute_input": "2024-09-16T05:11:19.535075Z",
     "iopub.status.busy": "2024-09-16T05:11:19.534862Z",
     "iopub.status.idle": "2024-09-16T05:11:19.536843Z",
     "shell.execute_reply": "2024-09-16T05:11:19.536577Z"
    },
    "papermill": {
     "duration": 0.007947,
     "end_time": "2024-09-16T05:11:19.537602",
     "exception": false,
     "start_time": "2024-09-16T05:11:19.529655",
     "status": "completed"
    },
    "tags": []
   },
   "outputs": [],
   "source": [
    "# # Assign header value in excel\n",
    "# rr_header_list = ['ROLE', \n",
    "#                   'ROLE NAME', \n",
    "#                   'ROLE DESCRIPTION', \n",
    "#                   'STD RATE', \n",
    "#                   'DISCOUNT', \n",
    "#                   'DISCOUNT %', \n",
    "#                   'RATE']\n",
    "\n",
    "# sheet['rr_nr'][0,:].value = rr_header_list\n",
    "\n",
    "# # Insert rows rates dataframe \n",
    "# sheet['rr_nr'][1:,0:].options(index=False, header=False).value = rr_df\n",
    "\n",
    "# # Set 0% and $0.00 formatting\n",
    "# sheet['rr_nr'][1:,3].number_format = '$0.00' # STD RATE\n",
    "# sheet['rr_nr'][1:,4].number_format = '$0.00' # DISCOUNT\n",
    "# sheet['rr_nr'][1:,5].number_format = '0.0%' # DISCOUNT %\n",
    "# sheet['rr_nr'][1:,6].number_format = '$0.00' # NEGOTIATED RATE\n",
    "\n",
    "# # Set formula to calculate final rate from discount (discount applied manually by user)\n",
    "# sheet['rr_nr'][1:8,6].formula = '=(D151-E151)'\n",
    "\n",
    "# \"\"\"\n",
    "# Set discount formula\n",
    "# -Important for usability by non-technical user\n",
    "# \"\"\" \n",
    "\n",
    "# # Set formula to calculate discount perecentage\n",
    "# sheet['rr_nr'][1:8,5].formula = '=(E151/D151)'"
   ]
  },
  {
   "cell_type": "code",
   "execution_count": 46,
   "id": "dd17fba0",
   "metadata": {
    "execution": {
     "iopub.execute_input": "2024-09-16T05:11:19.547887Z",
     "iopub.status.busy": "2024-09-16T05:11:19.547784Z",
     "iopub.status.idle": "2024-09-16T05:11:19.549256Z",
     "shell.execute_reply": "2024-09-16T05:11:19.549042Z"
    },
    "papermill": {
     "duration": 0.007315,
     "end_time": "2024-09-16T05:11:19.549956",
     "exception": false,
     "start_time": "2024-09-16T05:11:19.542641",
     "status": "completed"
    },
    "tags": []
   },
   "outputs": [],
   "source": [
    "# \"\"\" \n",
    "# Format roles and rates table in excel doc\n",
    "# \"\"\"\n",
    "# # Set bold header\n",
    "# sheet['rr_nr'][0,:].font.bold = True\n",
    "\n",
    "# # Set border and line style\n",
    "# sheet['rr_nr'][0:8,:].api.get_border(which_border=k.border_top).weight.set(4)\n",
    "# sheet['rr_nr'][0:8,:].api.get_border(which_border=k.border_left).weight.set(4)\n",
    "# sheet['rr_nr'][0:8,:].api.get_border(which_border=k.border_bottom).weight.set(4)\n",
    "# sheet['rr_nr'][0:8,:].api.get_border(which_border=k.border_right).weight.set(4)\n",
    "\n",
    "# # AGAIN default line style is (1) and some weird error happened. Leaving out."
   ]
  },
  {
   "cell_type": "code",
   "execution_count": 47,
   "id": "5470f9ff",
   "metadata": {
    "execution": {
     "iopub.execute_input": "2024-09-16T05:11:19.559979Z",
     "iopub.status.busy": "2024-09-16T05:11:19.559890Z",
     "iopub.status.idle": "2024-09-16T05:11:19.561255Z",
     "shell.execute_reply": "2024-09-16T05:11:19.561059Z"
    },
    "papermill": {
     "duration": 0.007206,
     "end_time": "2024-09-16T05:11:19.561961",
     "exception": false,
     "start_time": "2024-09-16T05:11:19.554755",
     "status": "completed"
    },
    "tags": []
   },
   "outputs": [],
   "source": [
    "# # Add define baseline tasks\n",
    "# def_df = pd.read_excel('sow_input_v5.0_beta.xlsx', sheet_name = 'DEFINE')\n",
    "# sheet['def_nr'][1:,1:].options(index=False, header=False).value = def_df"
   ]
  },
  {
   "cell_type": "code",
   "execution_count": 48,
   "id": "d12ad6da",
   "metadata": {
    "execution": {
     "iopub.execute_input": "2024-09-16T05:11:19.572538Z",
     "iopub.status.busy": "2024-09-16T05:11:19.572432Z",
     "iopub.status.idle": "2024-09-16T05:11:19.574093Z",
     "shell.execute_reply": "2024-09-16T05:11:19.573890Z"
    },
    "papermill": {
     "duration": 0.007722,
     "end_time": "2024-09-16T05:11:19.574808",
     "exception": false,
     "start_time": "2024-09-16T05:11:19.567086",
     "status": "completed"
    },
    "tags": []
   },
   "outputs": [],
   "source": [
    "# # Use VLOOKUP() to auto-apply rates or adjusted rates from excel doc roles and rates table\n",
    "\n",
    "# \"\"\"\n",
    "# Envision\n",
    "# \"\"\" \n",
    "# sheet['env_nr'][1:3, 5].formula = '=VLOOKUP(D3,$A$150:$G$157,7,FALSE)'\n",
    "\n",
    "# \"\"\"\n",
    "# Initiate\n",
    "# \"\"\" \n",
    "# sheet['int_nr'][1:9, 5].formula = '=VLOOKUP(D21,$A$150:$G$157,7,FALSE)'\n",
    "\n",
    "# \"\"\"\n",
    "# Define\n",
    "# -Leave out for now\n",
    "# \"\"\" \n",
    "# sheet['def_nr'][1:5, 5].formula = '=VLOOKUP(D41,$A$150:$G$157,7,FALSE)'\n",
    "\n",
    "# \"\"\"\n",
    "# Design\n",
    "# \"\"\" \n",
    "# sheet['des_nr'][1:4, 5].formula = '=VLOOKUP(D61,$A$150:$G$157,7,FALSE)'\n",
    "\n",
    "# \"\"\"\n",
    "# Build\n",
    "# \"\"\" \n",
    "# sheet['bld_nr'][1:5, 5].formula = '=VLOOKUP(D81,$A$150:$G$157,7,FALSE)'\n",
    "\n",
    "# \"\"\"\n",
    "# Transition\n",
    "# \"\"\" \n",
    "# sheet['trn_nr'][1:13, 5].formula = '=VLOOKUP(D101,$A$150:$G$157,7,FALSE)'\n",
    "\n",
    "# \"\"\"\n",
    "# Close\n",
    "# \"\"\" \n",
    "# sheet['cls_nr'][1:6, 5].formula = '=VLOOKUP(D121,$A$150:$G$157,7,FALSE)'"
   ]
  },
  {
   "cell_type": "code",
   "execution_count": 49,
   "id": "c4d8fd0a",
   "metadata": {
    "execution": {
     "iopub.execute_input": "2024-09-16T05:11:19.584862Z",
     "iopub.status.busy": "2024-09-16T05:11:19.584780Z",
     "iopub.status.idle": "2024-09-16T05:11:19.586196Z",
     "shell.execute_reply": "2024-09-16T05:11:19.585970Z"
    },
    "papermill": {
     "duration": 0.007259,
     "end_time": "2024-09-16T05:11:19.586923",
     "exception": false,
     "start_time": "2024-09-16T05:11:19.579664",
     "status": "completed"
    },
    "tags": []
   },
   "outputs": [],
   "source": [
    "# # Overlays\n",
    "# sheet['def_nr'][16:18, 5].formula = '=VLOOKUP(D56,$A$150:$G$157,7,FALSE)'\n",
    "# sheet['des_nr'][16:18, 5].formula = '=VLOOKUP(D76,$A$150:$G$157,7,FALSE)'\n",
    "# sheet['bld_nr'][15:18, 5].formula = '=VLOOKUP(D95,$A$150:$G$157,7,FALSE)'\n",
    "# sheet['trn_nr'][16:18, 5].formula = '=VLOOKUP(D116,$A$150:$G$157,7,FALSE)'"
   ]
  },
  {
   "cell_type": "code",
   "execution_count": 50,
   "id": "7d60fbf7",
   "metadata": {
    "execution": {
     "iopub.execute_input": "2024-09-16T05:11:19.597105Z",
     "iopub.status.busy": "2024-09-16T05:11:19.597009Z",
     "iopub.status.idle": "2024-09-16T05:11:19.598434Z",
     "shell.execute_reply": "2024-09-16T05:11:19.598218Z"
    },
    "papermill": {
     "duration": 0.007296,
     "end_time": "2024-09-16T05:11:19.599093",
     "exception": false,
     "start_time": "2024-09-16T05:11:19.591797",
     "status": "completed"
    },
    "tags": []
   },
   "outputs": [],
   "source": [
    "# # Save workbook then close workbook (manually)\n",
    "# book_number = 'book01.xlsx'\n",
    "# wb.save(book_number)\n",
    "# # wb.close() # Nice feature to save and close"
   ]
  },
  {
   "attachments": {},
   "cell_type": "markdown",
   "id": "a79a0596",
   "metadata": {
    "papermill": {
     "duration": 0.004886,
     "end_time": "2024-09-16T05:11:19.608878",
     "exception": false,
     "start_time": "2024-09-16T05:11:19.603992",
     "status": "completed"
    },
    "tags": []
   },
   "source": [
    "#### All working above this lien\n",
    "-Baseline template completed"
   ]
  },
  {
   "cell_type": "code",
   "execution_count": 51,
   "id": "505edbf7",
   "metadata": {
    "execution": {
     "iopub.execute_input": "2024-09-16T05:11:19.619069Z",
     "iopub.status.busy": "2024-09-16T05:11:19.618975Z",
     "iopub.status.idle": "2024-09-16T05:11:19.620363Z",
     "shell.execute_reply": "2024-09-16T05:11:19.620158Z"
    },
    "papermill": {
     "duration": 0.007366,
     "end_time": "2024-09-16T05:11:19.621076",
     "exception": false,
     "start_time": "2024-09-16T05:11:19.613710",
     "status": "completed"
    },
    "tags": []
   },
   "outputs": [],
   "source": [
    "# # Read in ITSM define\n",
    "# itsm_df = pd.read_excel('sow_input_v5.0_beta.xlsx', sheet_name = 'ITSM')\n",
    "\n",
    "# itsm_df.head()\n"
   ]
  },
  {
   "attachments": {},
   "cell_type": "markdown",
   "id": "21522e7f",
   "metadata": {
    "papermill": {
     "duration": 0.004868,
     "end_time": "2024-09-16T05:11:19.630859",
     "exception": false,
     "start_time": "2024-09-16T05:11:19.625991",
     "status": "completed"
    },
    "tags": []
   },
   "source": []
  },
  {
   "cell_type": "code",
   "execution_count": 52,
   "id": "b0f391a2",
   "metadata": {
    "execution": {
     "iopub.execute_input": "2024-09-16T05:11:19.641418Z",
     "iopub.status.busy": "2024-09-16T05:11:19.641306Z",
     "iopub.status.idle": "2024-09-16T05:11:19.642803Z",
     "shell.execute_reply": "2024-09-16T05:11:19.642572Z"
    },
    "papermill": {
     "duration": 0.007596,
     "end_time": "2024-09-16T05:11:19.643548",
     "exception": false,
     "start_time": "2024-09-16T05:11:19.635952",
     "status": "completed"
    },
    "tags": []
   },
   "outputs": [],
   "source": [
    "# \"\"\"\n",
    "# Slicing (filtering itsm dataframe based on license entitlement)\n",
    "\n",
    "# \"\"\"\n",
    "# # Slice dataframe using boolean indexing (like auto-filter in excel)\n",
    "# itsm_lic_ent = 'standard' # Set license entitlement one (1) time here\n",
    "# itsm_filt = (itsm_df[itsm_lic_ent] == 'Y')\n",
    "# itsm_filt_df = itsm_df.loc[itsm_filt, :]\n",
    "\n",
    "# itsm_filt_df\n"
   ]
  },
  {
   "cell_type": "code",
   "execution_count": 53,
   "id": "76c23a5f",
   "metadata": {
    "execution": {
     "iopub.execute_input": "2024-09-16T05:11:19.653931Z",
     "iopub.status.busy": "2024-09-16T05:11:19.653839Z",
     "iopub.status.idle": "2024-09-16T05:11:19.655223Z",
     "shell.execute_reply": "2024-09-16T05:11:19.655021Z"
    },
    "papermill": {
     "duration": 0.007283,
     "end_time": "2024-09-16T05:11:19.655913",
     "exception": false,
     "start_time": "2024-09-16T05:11:19.648630",
     "status": "completed"
    },
    "tags": []
   },
   "outputs": [],
   "source": [
    "# itsm_def_df = itsm_filt_df.iloc[:,1:5] # Important start from task column\n",
    "\n",
    "# itsm_def_df"
   ]
  },
  {
   "cell_type": "code",
   "execution_count": 54,
   "id": "3765ec25",
   "metadata": {
    "execution": {
     "iopub.execute_input": "2024-09-16T05:11:19.666806Z",
     "iopub.status.busy": "2024-09-16T05:11:19.666694Z",
     "iopub.status.idle": "2024-09-16T05:11:19.668196Z",
     "shell.execute_reply": "2024-09-16T05:11:19.667997Z"
    },
    "papermill": {
     "duration": 0.008036,
     "end_time": "2024-09-16T05:11:19.668941",
     "exception": false,
     "start_time": "2024-09-16T05:11:19.660905",
     "status": "completed"
    },
    "tags": []
   },
   "outputs": [],
   "source": [
    "# # Read in ITSM build\n",
    "# itsm_exe_df = pd.read_excel('sow_input_v5.0_beta.xlsx', sheet_name = 'ITSM_BUILD')\n",
    "# itsm_exe_df\n",
    "\n",
    "# # Slice dataframe\n",
    "# # itsm_lic_ent = 'standard'\n",
    "# itsm_filt_bld = (itsm_exe_df[itsm_lic_ent] == 'Y')\n",
    "# itsm_filt_bld_df = itsm_exe_df.loc[itsm_filt_bld, :]\n",
    "\n",
    "# itsm_bld_df = itsm_filt_bld_df.iloc[:,1:5] # Important start from feature columns\n",
    "\n",
    "# itsm_bld_df"
   ]
  },
  {
   "cell_type": "code",
   "execution_count": 55,
   "id": "1fc3ea5a",
   "metadata": {
    "execution": {
     "iopub.execute_input": "2024-09-16T05:11:19.680111Z",
     "iopub.status.busy": "2024-09-16T05:11:19.679998Z",
     "iopub.status.idle": "2024-09-16T05:11:19.682099Z",
     "shell.execute_reply": "2024-09-16T05:11:19.681838Z"
    },
    "papermill": {
     "duration": 0.00849,
     "end_time": "2024-09-16T05:11:19.682824",
     "exception": false,
     "start_time": "2024-09-16T05:11:19.674334",
     "status": "completed"
    },
    "tags": []
   },
   "outputs": [
    {
     "data": {
      "text/plain": [
       "'\\nInsert new rows to create space for workshop and build tasks / features\\n'"
      ]
     },
     "execution_count": 55,
     "metadata": {},
     "output_type": "execute_result"
    }
   ],
   "source": [
    "\"\"\"\n",
    "Insert new rows to create space for workshop and build tasks / features\n",
    "\"\"\"\n",
    "# sheet['def_nr'][5:16,:].insert(shift='down', copy_origin='format_from_left_or_above')\n",
    "# sheet['bld_nr'][6:16,:].insert(shift='down', copy_origin='format_from_right_or_below')"
   ]
  },
  {
   "cell_type": "code",
   "execution_count": 56,
   "id": "d407542e",
   "metadata": {
    "execution": {
     "iopub.execute_input": "2024-09-16T05:11:19.693791Z",
     "iopub.status.busy": "2024-09-16T05:11:19.693679Z",
     "iopub.status.idle": "2024-09-16T05:11:19.695833Z",
     "shell.execute_reply": "2024-09-16T05:11:19.695598Z"
    },
    "papermill": {
     "duration": 0.008544,
     "end_time": "2024-09-16T05:11:19.696659",
     "exception": false,
     "start_time": "2024-09-16T05:11:19.688115",
     "status": "completed"
    },
    "tags": []
   },
   "outputs": [
    {
     "data": {
      "text/plain": [
       "'\\nhttps://learn.microsoft.com/en-US/dotnet/api/microsoft.office.interop.excel.xllinestyle?view=excel-pia\\n'"
      ]
     },
     "execution_count": 56,
     "metadata": {},
     "output_type": "execute_result"
    }
   ],
   "source": [
    "# Set borders top, left, right, bottom\n",
    "# sheet.range('B150:G160').value = 'sudz'\n",
    "# sheet.range('B150:G160').api.get_border(which_border=k.border_top).weight.set(3)\n",
    "# sheet.range('B150:G160').api.get_border(which_border=k.border_left).weight.set(3)\n",
    "# sheet.range('B150:G160').api.get_border(which_border=k.border_right).weight.set(3)\n",
    "# sheet.range('B150:G160').api.get_border(which_border=k.border_bottom).weight.set(3)\n",
    "\n",
    "\"\"\"\n",
    "https://learn.microsoft.com/en-US/dotnet/api/microsoft.office.interop.excel.xllinestyle?view=excel-pia\n",
    "\"\"\"\n",
    "# Line style examples\n",
    "# sheet.range('B150:G160').api.get_border(which_border=k.border_top).line_style.set(1) # Continuous line\n",
    "# sheet.range('B150:G160').api.get_border(which_border=k.border_top).line_style.set(-4115) # Dashed line\n",
    "# sheet.range('B150:G160').api.get_border(which_border=k.border_top).line_style.set(4) # Alternating dashes and dots\n",
    "# sheet.range('B150:G160').api.get_border(which_border=k.border_top).line_style.set(5) # Dash followed by two dots\n",
    "# sheet.range('B150:G160').api.get_border(which_border=k.border_top).line_style.set(-4118) # Dotted line\n",
    "# sheet.range('B150:G160').api.get_border(which_border=k.border_top).line_style.set(-4119) # Double line\n",
    "# sheet.range('B150:G160').api.get_border(which_border=k.border_top).line_style.set(-4142) # No line\n",
    "# sheet.range('B150:G160').api.get_border(which_border=k.border_top).line_style.set(13) # Slanted dashes\n",
    "\n"
   ]
  },
  {
   "cell_type": "code",
   "execution_count": 57,
   "id": "a05f52a1",
   "metadata": {
    "execution": {
     "iopub.execute_input": "2024-09-16T05:11:19.707953Z",
     "iopub.status.busy": "2024-09-16T05:11:19.707844Z",
     "iopub.status.idle": "2024-09-16T05:11:19.709316Z",
     "shell.execute_reply": "2024-09-16T05:11:19.709075Z"
    },
    "papermill": {
     "duration": 0.008063,
     "end_time": "2024-09-16T05:11:19.710111",
     "exception": false,
     "start_time": "2024-09-16T05:11:19.702048",
     "status": "completed"
    },
    "tags": []
   },
   "outputs": [],
   "source": [
    "# # Save workbook then close workbook (manually)\n",
    "# book_number = 'book18.xlsx'\n",
    "# wb.save(book_number)\n",
    "# wb.close() # Nice feature to save an close"
   ]
  },
  {
   "cell_type": "code",
   "execution_count": 58,
   "id": "8b147603",
   "metadata": {
    "execution": {
     "iopub.execute_input": "2024-09-16T05:11:19.721110Z",
     "iopub.status.busy": "2024-09-16T05:11:19.721008Z",
     "iopub.status.idle": "2024-09-16T05:11:19.722446Z",
     "shell.execute_reply": "2024-09-16T05:11:19.722233Z"
    },
    "papermill": {
     "duration": 0.007743,
     "end_time": "2024-09-16T05:11:19.723244",
     "exception": false,
     "start_time": "2024-09-16T05:11:19.715501",
     "status": "completed"
    },
    "tags": []
   },
   "outputs": [],
   "source": [
    "# # Reopen workbook\n",
    "# wb = xw.Book(book_number)\n",
    "# sheet = wb.sheets[0] "
   ]
  },
  {
   "cell_type": "code",
   "execution_count": 59,
   "id": "c9d8dc9d",
   "metadata": {
    "execution": {
     "iopub.execute_input": "2024-09-16T05:11:19.733783Z",
     "iopub.status.busy": "2024-09-16T05:11:19.733695Z",
     "iopub.status.idle": "2024-09-16T05:11:19.735770Z",
     "shell.execute_reply": "2024-09-16T05:11:19.735515Z"
    },
    "papermill": {
     "duration": 0.008097,
     "end_time": "2024-09-16T05:11:19.736442",
     "exception": false,
     "start_time": "2024-09-16T05:11:19.728345",
     "status": "completed"
    },
    "tags": []
   },
   "outputs": [
    {
     "data": {
      "text/plain": [
       "'\\nDifferent ways to create a dataframe refresher\\n\\nUsing a list\\nList of lists\\nDictionary\\nList of dictionaries\\nZip function\\nDictionary of series\\n'"
      ]
     },
     "execution_count": 59,
     "metadata": {},
     "output_type": "execute_result"
    }
   ],
   "source": [
    "\"\"\"\n",
    "Different ways to create a dataframe refresher\n",
    "\n",
    "Using a list\n",
    "List of lists\n",
    "Dictionary\n",
    "List of dictionaries\n",
    "Zip function\n",
    "Dictionary of series\n",
    "\"\"\" \n",
    "\n",
    "# List\n",
    "# lst = [1,2,3,4,5]\n",
    "# df = pd.DataFrame(lst)\n",
    "# df\n",
    "\n",
    "# List of lists\n",
    "# lst = [[1,2,3,4,5], [10,20,30,40,50]]\n",
    "# df = pd.DataFrame(lst)\n",
    "# df\n",
    "\n",
    "# List of lists 2\n",
    "# lst = [['Anna', 10], ['Bob', 20], ['Charlie', 30]]\n",
    "# df = pd.DataFrame(lst)\n",
    "# df\n",
    "\n",
    "# Dictionary\n",
    "# data = {'Name':['Anna', 'Bob', 'Charlie'],\n",
    "#         'Score': [95, 74, 56]\n",
    "#         }\n",
    "\n",
    "# df = pd.DataFrame(data)\n",
    "# df\n",
    "\n",
    "# # List of dictionaries\n",
    "# lst = [{'a':'blue', 'b':2, 'c':3},\n",
    "#        {'a':45, 'b':89, 'c':90},\n",
    "#        {'a':45, 'b':89}\n",
    "#        ]\n",
    "\n",
    "# df = pd.DataFrame(lst)\n",
    "# df\n",
    "\n",
    "# Zip function\n",
    "# Dictionary of series"
   ]
  },
  {
   "cell_type": "code",
   "execution_count": 60,
   "id": "eb122f6c",
   "metadata": {
    "execution": {
     "iopub.execute_input": "2024-09-16T05:11:19.747196Z",
     "iopub.status.busy": "2024-09-16T05:11:19.747098Z",
     "iopub.status.idle": "2024-09-16T05:11:19.748690Z",
     "shell.execute_reply": "2024-09-16T05:11:19.748408Z"
    },
    "papermill": {
     "duration": 0.007788,
     "end_time": "2024-09-16T05:11:19.749450",
     "exception": false,
     "start_time": "2024-09-16T05:11:19.741662",
     "status": "completed"
    },
    "tags": []
   },
   "outputs": [],
   "source": [
    "# def scribe(nr, ):\n",
    "#     sheet[nr].last_cell.row, sheet[nr].last_cell.column"
   ]
  },
  {
   "cell_type": "code",
   "execution_count": 61,
   "id": "ecf3e7dc",
   "metadata": {
    "execution": {
     "iopub.execute_input": "2024-09-16T05:11:19.760383Z",
     "iopub.status.busy": "2024-09-16T05:11:19.760284Z",
     "iopub.status.idle": "2024-09-16T05:11:19.761741Z",
     "shell.execute_reply": "2024-09-16T05:11:19.761517Z"
    },
    "papermill": {
     "duration": 0.007623,
     "end_time": "2024-09-16T05:11:19.762461",
     "exception": false,
     "start_time": "2024-09-16T05:11:19.754838",
     "status": "completed"
    },
    "tags": []
   },
   "outputs": [],
   "source": [
    "# nr_last_row = sheet['env_nr'].last_cell.row\n",
    "# nr_last_column = sheet['env_nr'].last_cell.columns\n",
    "\n",
    "# sheet['env_nr'][1:,0:]\n",
    "\n",
    "\n",
    "# scribe_row = sheet['env_nr'].last_cell.row-2\n",
    "# scribe_row\n"
   ]
  },
  {
   "cell_type": "code",
   "execution_count": 62,
   "id": "56c05ec1",
   "metadata": {
    "execution": {
     "iopub.execute_input": "2024-09-16T05:11:19.773704Z",
     "iopub.status.busy": "2024-09-16T05:11:19.773606Z",
     "iopub.status.idle": "2024-09-16T05:11:19.775047Z",
     "shell.execute_reply": "2024-09-16T05:11:19.774830Z"
    },
    "papermill": {
     "duration": 0.007888,
     "end_time": "2024-09-16T05:11:19.775748",
     "exception": false,
     "start_time": "2024-09-16T05:11:19.767860",
     "status": "completed"
    },
    "tags": []
   },
   "outputs": [],
   "source": [
    "# sheet['env_nr'][scribe_row,0].color = '#704214'"
   ]
  },
  {
   "attachments": {},
   "cell_type": "markdown",
   "id": "fb8852f9",
   "metadata": {
    "papermill": {
     "duration": 0.005064,
     "end_time": "2024-09-16T05:11:19.786164",
     "exception": false,
     "start_time": "2024-09-16T05:11:19.781100",
     "status": "completed"
    },
    "tags": []
   },
   "source": []
  },
  {
   "attachments": {},
   "cell_type": "markdown",
   "id": "9620b461",
   "metadata": {
    "papermill": {
     "duration": 0.005041,
     "end_time": "2024-09-16T05:11:19.796209",
     "exception": false,
     "start_time": "2024-09-16T05:11:19.791168",
     "status": "completed"
    },
    "tags": []
   },
   "source": [
    "#### More base formatting can go here\n",
    "Think things like formatting columns and formulas\n",
    "FORMULAS overlays"
   ]
  },
  {
   "cell_type": "code",
   "execution_count": 63,
   "id": "c228c711",
   "metadata": {
    "execution": {
     "iopub.execute_input": "2024-09-16T05:11:19.806795Z",
     "iopub.status.busy": "2024-09-16T05:11:19.806688Z",
     "iopub.status.idle": "2024-09-16T05:11:19.808071Z",
     "shell.execute_reply": "2024-09-16T05:11:19.807860Z"
    },
    "papermill": {
     "duration": 0.007521,
     "end_time": "2024-09-16T05:11:19.808781",
     "exception": false,
     "start_time": "2024-09-16T05:11:19.801260",
     "status": "completed"
    },
    "tags": []
   },
   "outputs": [],
   "source": [
    "# Last cell practice\n",
    "# print(sheet['env_nr'].last_cell.column)\n",
    "# print(sheet['int_nr'].last_cell.column)\n",
    "# print(sheet['def_nr'].last_cell.column)\n",
    "# print(sheet['env_nr'].last_cell.row)\n",
    "# print(sheet['int_nr'].last_cell.row)\n",
    "# print(sheet['def_nr'].last_cell.row)\n",
    "\n",
    "# sheet['def_nr'].last_cell.row, sheet['def_nr'].last_cell.columns"
   ]
  },
  {
   "attachments": {},
   "cell_type": "markdown",
   "id": "af372ad4",
   "metadata": {
    "papermill": {
     "duration": 0.005074,
     "end_time": "2024-09-16T05:11:19.819005",
     "exception": false,
     "start_time": "2024-09-16T05:11:19.813931",
     "status": "completed"
    },
    "tags": []
   },
   "source": [
    "#### Read in data"
   ]
  },
  {
   "cell_type": "code",
   "execution_count": 64,
   "id": "d3efcf48",
   "metadata": {
    "execution": {
     "iopub.execute_input": "2024-09-16T05:11:19.829516Z",
     "iopub.status.busy": "2024-09-16T05:11:19.829425Z",
     "iopub.status.idle": "2024-09-16T05:11:19.830869Z",
     "shell.execute_reply": "2024-09-16T05:11:19.830651Z"
    },
    "papermill": {
     "duration": 0.007553,
     "end_time": "2024-09-16T05:11:19.831566",
     "exception": false,
     "start_time": "2024-09-16T05:11:19.824013",
     "status": "completed"
    },
    "tags": []
   },
   "outputs": [],
   "source": [
    "# env_df = pd.read_excel('sow_input_v4.0_beta.xlsx', sheet_name='ENVISION')  \n",
    "# int_df = pd.read_excel('sow_input_v4.0_beta.xlsx', sheet_name='INITIATE')    \n",
    "# des_df = pd.read_excel('sow_input_v4.0_beta.xlsx', sheet_name='DESIGN')\n",
    "# trn_df = pd.read_excel('sow_input_v4.0_beta.xlsx', sheet_name='TRANSITION')\n",
    "# cls_df = pd.read_excel('sow_input_v4.0_beta.xlsx', sheet_name='CLOSE')"
   ]
  },
  {
   "cell_type": "code",
   "execution_count": 65,
   "id": "658bcbe1",
   "metadata": {
    "execution": {
     "iopub.execute_input": "2024-09-16T05:11:19.842201Z",
     "iopub.status.busy": "2024-09-16T05:11:19.842111Z",
     "iopub.status.idle": "2024-09-16T05:11:19.843505Z",
     "shell.execute_reply": "2024-09-16T05:11:19.843307Z"
    },
    "papermill": {
     "duration": 0.007491,
     "end_time": "2024-09-16T05:11:19.844174",
     "exception": false,
     "start_time": "2024-09-16T05:11:19.836683",
     "status": "completed"
    },
    "tags": []
   },
   "outputs": [],
   "source": [
    "# sheet['env_nr'][1,1].options(index=False, header=False).value = env_df\n",
    "# sheet['int_nr'][1,1].options(index=False, header=False).value = int_df\n",
    "# sheet['des_nr'][1,1].options(index=False, header=False).value = des_df\n",
    "# sheet['trn_nr'][1,1].options(index=False, header=False).value = trn_df\n",
    "# sheet['cls_nr'][1,1].options(index=False, header=False).value = cls_df"
   ]
  },
  {
   "cell_type": "code",
   "execution_count": 66,
   "id": "a1e7da59",
   "metadata": {
    "execution": {
     "iopub.execute_input": "2024-09-16T05:11:19.855773Z",
     "iopub.status.busy": "2024-09-16T05:11:19.855638Z",
     "iopub.status.idle": "2024-09-16T05:11:19.857318Z",
     "shell.execute_reply": "2024-09-16T05:11:19.857044Z"
    },
    "papermill": {
     "duration": 0.008764,
     "end_time": "2024-09-16T05:11:19.858146",
     "exception": false,
     "start_time": "2024-09-16T05:11:19.849382",
     "status": "completed"
    },
    "tags": []
   },
   "outputs": [],
   "source": [
    "# sheet.range('G4').number_format = '$0.00'"
   ]
  },
  {
   "cell_type": "code",
   "execution_count": 67,
   "id": "33495451",
   "metadata": {
    "execution": {
     "iopub.execute_input": "2024-09-16T05:11:19.870024Z",
     "iopub.status.busy": "2024-09-16T05:11:19.869901Z",
     "iopub.status.idle": "2024-09-16T05:11:19.871600Z",
     "shell.execute_reply": "2024-09-16T05:11:19.871321Z"
    },
    "papermill": {
     "duration": 0.008632,
     "end_time": "2024-09-16T05:11:19.872419",
     "exception": false,
     "start_time": "2024-09-16T05:11:19.863787",
     "status": "completed"
    },
    "tags": []
   },
   "outputs": [],
   "source": [
    "# sheet.range('A3').api.entirerow.insert()"
   ]
  },
  {
   "cell_type": "code",
   "execution_count": 68,
   "id": "6c685e3a",
   "metadata": {
    "execution": {
     "iopub.execute_input": "2024-09-16T05:11:19.884073Z",
     "iopub.status.busy": "2024-09-16T05:11:19.883939Z",
     "iopub.status.idle": "2024-09-16T05:11:19.885341Z",
     "shell.execute_reply": "2024-09-16T05:11:19.885126Z"
    },
    "papermill": {
     "duration": 0.008043,
     "end_time": "2024-09-16T05:11:19.886051",
     "exception": false,
     "start_time": "2024-09-16T05:11:19.878008",
     "status": "completed"
    },
    "tags": []
   },
   "outputs": [],
   "source": [
    "# empty_row_data = ['','','','','','','']"
   ]
  },
  {
   "cell_type": "code",
   "execution_count": 69,
   "id": "731447a9",
   "metadata": {
    "execution": {
     "iopub.execute_input": "2024-09-16T05:11:19.897353Z",
     "iopub.status.busy": "2024-09-16T05:11:19.897246Z",
     "iopub.status.idle": "2024-09-16T05:11:19.898768Z",
     "shell.execute_reply": "2024-09-16T05:11:19.898535Z"
    },
    "papermill": {
     "duration": 0.00787,
     "end_time": "2024-09-16T05:11:19.899523",
     "exception": false,
     "start_time": "2024-09-16T05:11:19.891653",
     "status": "completed"
    },
    "tags": []
   },
   "outputs": [],
   "source": [
    "# sheet['env_nr'][1,5].value = '$0.00'\n",
    "# sheet['int_nr'][1,5].value = '$0.00'\n",
    "# sheet['def_nr'][1,5].value = '$0.00'\n",
    "# sheet['des_nr'][1,5].value = '$0.00'\n",
    "# sheet['bld_nr'][1,5].value = '$0.00'\n",
    "# sheet['trn_nr'][1,5].value = '$0.00'\n",
    "# sheet['cls_nr'][1,5].value = '$0.00'\n"
   ]
  }
 ],
 "metadata": {
  "kernelspec": {
   "display_name": "sowmachine_venv",
   "language": "python",
   "name": "python3"
  },
  "language_info": {
   "codemirror_mode": {
    "name": "ipython",
    "version": 3
   },
   "file_extension": ".py",
   "mimetype": "text/x-python",
   "name": "python",
   "nbconvert_exporter": "python",
   "pygments_lexer": "ipython3",
   "version": "3.11.1"
  },
  "papermill": {
   "default_parameters": {},
   "duration": 10.981044,
   "end_time": "2024-09-16T05:11:20.323810",
   "environment_variables": {},
   "exception": null,
   "input_path": "1_main.ipynb",
   "output_path": "1_main.ipynb",
   "parameters": {},
   "start_time": "2024-09-16T05:11:09.342766",
   "version": "2.6.0"
  },
  "vscode": {
   "interpreter": {
    "hash": "fb97792c95ecc40909c77d7c0c5a2e301450a97269f294267b9ea907136fa9f0"
   }
  }
 },
 "nbformat": 4,
 "nbformat_minor": 5
}