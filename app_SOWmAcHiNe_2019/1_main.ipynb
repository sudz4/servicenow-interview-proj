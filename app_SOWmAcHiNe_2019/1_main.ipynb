{
 "cells": [
  {
   "attachments": {},
   "cell_type": "markdown",
   "id": "41779aa7",
   "metadata": {
    "papermill": {
     "duration": null,
     "end_time": null,
     "exception": null,
     "start_time": null,
     "status": "completed"
    },
    "tags": []
   },
   "source": [
    "| MAIN BASELINE TEMPLATE | Create baseline Statement of Work (SOW) Excel template |\n",
    "| ----------- | ----------- |"
   ]
  },
  {
   "cell_type": "code",
   "execution_count": null,
   "id": "42921163",
   "metadata": {
    "execution": {
     "iopub.execute_input": "2024-09-16T06:38:04.913949Z",
     "iopub.status.busy": "2024-09-16T06:38:04.913651Z",
     "iopub.status.idle": "2024-09-16T06:38:05.332597Z",
     "shell.execute_reply": "2024-09-16T06:38:05.332312Z"
    },
    "papermill": {
     "duration": null,
     "end_time": null,
     "exception": null,
     "start_time": null,
     "status": "completed"
    },
    "tags": []
   },
   "outputs": [],
   "source": [
    "import xlwings as xw\n",
    "from openpyxl import Workbook, load_workbook\n",
    "import xlsxwriter \n",
    "\n",
    "import pandas as pd\n",
    "import numpy as np\n",
    "import datetime as dt \n",
    "import time\n",
    "import sys\n",
    "\n",
    "\"\"\"\n",
    "Latest xlwings release: v0.27.15\n",
    "https://www.xlwings.org/\n",
    "\n",
    "\"\"\"\n",
    "xw.__version__ \n",
    "\n",
    "from appscript import k"
   ]
  },
  {
   "cell_type": "code",
   "execution_count": null,
   "id": "2f1574e6",
   "metadata": {
    "execution": {
     "iopub.execute_input": "2024-09-16T06:38:05.344478Z",
     "iopub.status.busy": "2024-09-16T06:38:05.344317Z",
     "iopub.status.idle": "2024-09-16T06:38:06.095958Z",
     "shell.execute_reply": "2024-09-16T06:38:06.095382Z"
    },
    "papermill": {
     "duration": null,
     "end_time": null,
     "exception": null,
     "start_time": null,
     "status": "completed"
    },
    "tags": []
   },
   "outputs": [],
   "source": [
    "# Connect to unsaved book (looks in all Excel instances)\n",
    "wb = xw.Book()\n",
    "\n",
    "# Create a sheet object (and reference first sheet)\n",
    "sheet = wb.sheets[0] # Uses standard python indexing\n",
    "\n",
    "sow_header_list = ['stage',\n",
    "                   'task',\n",
    "                   'task_details',\n",
    "                   'role',\n",
    "                   'hours',\n",
    "                   'rate',\n",
    "                   'cost']\n",
    "\n",
    "# print(sow_header_list)\n",
    "# print(len(sow_header_list))\n",
    "\n",
    "\"\"\"\n",
    "This is my 'Hello World'\n",
    "\n",
    "\"\"\"\n",
    "\n",
    "# Datetime (start)\n",
    "sheet.range('H2').value = dt.datetime.now()\n",
    "\n",
    "# Add space in column to be able to see the time element and not ######## I am using as the \"Hello World\"\n",
    "sheet.range('H:H').column_width = 15\n",
    "\n",
    "# Index notation (1-based like excel)\n",
    "sheet.range((2,8)).value # Verify date in both excel and python terminal or jupyter output\n",
    "\n",
    "# Create SOW header from list\n",
    "sheet.range((1,1)).value = sow_header_list # Horizontal (row)\n",
    "sheet.range('A1:G1').font.bold = True"
   ]
  },
  {
   "cell_type": "code",
   "execution_count": null,
   "id": "5f473083",
   "metadata": {
    "execution": {
     "iopub.execute_input": "2024-09-16T06:38:06.109992Z",
     "iopub.status.busy": "2024-09-16T06:38:06.109807Z",
     "iopub.status.idle": "2024-09-16T06:38:06.226041Z",
     "shell.execute_reply": "2024-09-16T06:38:06.225667Z"
    },
    "papermill": {
     "duration": null,
     "end_time": null,
     "exception": null,
     "start_time": null,
     "status": "completed"
    },
    "tags": []
   },
   "outputs": [],
   "source": [
    "# Set global named range\n",
    "sheet.range('A1:G500').name = 'sow_nr'\n",
    "\n",
    "sow_brd_loc = sheet['sow_nr'][0:179,:]\n",
    "\n",
    "# Set border around excel SOW\n",
    "sow_brd_loc[-1,:].api.get_border(which_border=k.border_bottom).weight.set(4)\n",
    "sow_brd_loc[:,-1].api.get_border(which_border=k.border_right).weight.set(4)\n",
    "sow_brd_loc[0,:].api.get_border(which_border=k.border_top).weight.set(4)\n",
    "sow_brd_loc[:,0].api.get_border(which_border=k.border_left).weight.set(4)"
   ]
  },
  {
   "cell_type": "code",
   "execution_count": null,
   "id": "acd97514",
   "metadata": {
    "execution": {
     "iopub.execute_input": "2024-09-16T06:38:06.238775Z",
     "iopub.status.busy": "2024-09-16T06:38:06.238519Z",
     "iopub.status.idle": "2024-09-16T06:38:06.904779Z",
     "shell.execute_reply": "2024-09-16T06:38:06.904427Z"
    },
    "papermill": {
     "duration": null,
     "end_time": null,
     "exception": null,
     "start_time": null,
     "status": "completed"
    },
    "tags": []
   },
   "outputs": [],
   "source": [
    "# Set phases\n",
    "sheet['sow_nr'][1,0].value = 'pre-kickoff'\n",
    "sheet['sow_nr'][19,0].value = 'inititiate'\n",
    "sheet['sow_nr'][39,0].value = 'define'\n",
    "sheet['sow_nr'][79,0].value = 'design'\n",
    "sheet['sow_nr'][99,0].value = 'build'\n",
    "sheet['sow_nr'][139,0].value = 'transition'\n",
    "sheet['sow_nr'][159,0].value = 'close'\n",
    "\n",
    "# Set phases\n",
    "sheet['sow_nr'][1,0].font.bold = True\n",
    "sheet['sow_nr'][19,0].font.bold = True\n",
    "sheet['sow_nr'][39,0].font.bold = True\n",
    "sheet['sow_nr'][79,0].font.bold = True\n",
    "sheet['sow_nr'][99,0].font.bold = True\n",
    "sheet['sow_nr'][139,0].font.bold = True\n",
    "sheet['sow_nr'][159,0].font.bold = True\n",
    "\n",
    "# Set phase named ranges\n",
    "sheet['A2:G19'].name = 'env_nr'\n",
    "sheet['A20:G39'].name = 'int_nr'\n",
    "sheet['A40:G79'].name = 'def_nr'\n",
    "sheet['A80:G99'].name = 'des_nr'\n",
    "sheet['A100:G139'].name = 'bld_nr'\n",
    "sheet['A140:G159'].name = 'trn_nr'\n",
    "sheet['A160:G179'].name = 'cls_nr'\n",
    "\n",
    "# Set phase divider color\n",
    "sheet['env_nr'][0,:].color = '#E21A23'\n",
    "sheet['int_nr'][0,:].color = '#1C0221'\n",
    "sheet['def_nr'][0,:].color = '#440850'\n",
    "sheet['des_nr'][0,:].color = '#880074'\n",
    "sheet['bld_nr'][0,:].color = '#6C0BA9'\n",
    "sheet['trn_nr'][0,:].color = '#9D85F3'\n",
    "sheet['cls_nr'][0,:].color = '#86EC77'\n",
    "\n",
    "# Set phase font color\n",
    "sheet['env_nr'][0,0].font.color = '#ffffff'\n",
    "sheet['int_nr'][0,0].font.color = '#ffffff'\n",
    "sheet['def_nr'][0,0].font.color = '#ffffff'\n",
    "sheet['des_nr'][0,0].font.color = '#ffffff'\n",
    "sheet['bld_nr'][0,0].font.color = '#ffffff'\n",
    "sheet['trn_nr'][0,0].font.color = '#000000'\n",
    "sheet['cls_nr'][0,0].font.color = '#000000'\n",
    "\n",
    "# Set wrap text\n",
    "# sheet.range('A:A').wrap_text = True\n",
    "sheet.range('B:B').wrap_text = True\n",
    "sheet.range('C:C').wrap_text = True \n",
    "sheet.range('D:D').wrap_text = True \n",
    "sheet.range('F:F').wrap_text = True\n",
    "\n",
    "# Set column width\n",
    "sheet.range('A:A').column_width = 11\n",
    "sheet.range('B:B').column_width = 22\n",
    "sheet.range('C:C').column_width = 22*3\n",
    "sheet.range('D:D').column_width = 15\n",
    "sheet.range('E:E').column_width = 15\n",
    "sheet.range('F:F').column_width = 15\n",
    "sheet.range('G:G').column_width = 15\n",
    "# sheet.range('H:H').column_width = 15 # This is the time element outside of table\n",
    "\n",
    "# Set phase bottom divider color\n",
    "sheet['env_nr'][-2:,:].color = '#E21A23'\n",
    "sheet['int_nr'][-2:,:].color = '#1C0221'\n",
    "sheet['def_nr'][-2:,:].color = '#440850'\n",
    "sheet['des_nr'][-2:,:].color = '#880074'\n",
    "sheet['bld_nr'][-2:,:].color = '#6C0BA9'\n",
    "sheet['trn_nr'][-2:,:].color = '#9D85F3'\n",
    "sheet['cls_nr'][-2:,:].color = '#86EC77'"
   ]
  },
  {
   "cell_type": "code",
   "execution_count": null,
   "id": "b202a162",
   "metadata": {
    "execution": {
     "iopub.execute_input": "2024-09-16T06:38:06.923122Z",
     "iopub.status.busy": "2024-09-16T06:38:06.922924Z",
     "iopub.status.idle": "2024-09-16T06:38:09.058591Z",
     "shell.execute_reply": "2024-09-16T06:38:09.058251Z"
    },
    "papermill": {
     "duration": null,
     "end_time": null,
     "exception": null,
     "start_time": null,
     "status": "completed"
    },
    "tags": []
   },
   "outputs": [],
   "source": [
    "# Store hours and cost total list as variables\n",
    "totals_stage_list = ['Hours', 0, 'Cost', 0]\n",
    "totals_cltv_list = ['Hours (Agg.)', 0, 'Cost (Agg.)', 0]\n",
    "\n",
    "\"\"\"\n",
    "One Formula and Additional formatting\n",
    "\"\"\"\n",
    "\n",
    "\"\"\"\n",
    "Envision\n",
    "\"\"\"\n",
    "# Cost (hrs*rate)\n",
    "sheet['env_nr'][1:-2, 6].value = '$0.00' # Cost column format\n",
    "sheet['env_nr'][1:-2, 5].value = '$0.00' # Rate column format\n",
    "sheet['env_nr'][1:-2, 6].formula = '=(E3*F3)'\n",
    "# Totals\n",
    "sheet['env_nr'][-2, 3].value = totals_stage_list\n",
    "sheet['env_nr'][-1, 3].value = totals_cltv_list\n",
    "# Font color\n",
    "sheet['env_nr'][-2:,3:].font.bold = True\n",
    "sheet['env_nr'][-2:,3:].font.color = '#ffffff'\n",
    "\n",
    "\"\"\" \n",
    "Initiate\n",
    "\"\"\"\n",
    "\n",
    "# Cost (hrs*rate)\n",
    "sheet['int_nr'][1:-2, 6].value = '$0.00'\n",
    "sheet['int_nr'][1:-2, 5].value = '$0.00'\n",
    "sheet['int_nr'][1:-2, 6].formula = '=(E21*F21)'\n",
    "# Totals\n",
    "sheet['int_nr'][-2, 3].value = totals_stage_list\n",
    "sheet['int_nr'][-1, 3].value = totals_cltv_list\n",
    "# Font color\n",
    "sheet['int_nr'][-2:,3:].font.bold = True\n",
    "sheet['int_nr'][-2:,3:].font.color = '#ffffff'\n",
    "\n",
    "\"\"\" \n",
    "Define\n",
    "\"\"\"\n",
    "\n",
    "# Cost (hrs*rate)\n",
    "sheet['def_nr'][1:-2, 6].value = '$0.00'\n",
    "sheet['def_nr'][1:-2, 5].value = '$0.00'\n",
    "sheet['def_nr'][1:-2, 6].formula = '=(E41*F41)'\n",
    "# Totals\n",
    "sheet['def_nr'][-2, 3].value = totals_stage_list\n",
    "sheet['def_nr'][-1, 3].value = totals_cltv_list\n",
    "# Font color\n",
    "sheet['def_nr'][-2:,3:].font.bold = True\n",
    "sheet['def_nr'][-2:,3:].font.color = '#ffffff'\n",
    "\n",
    "\"\"\" \n",
    "Design\n",
    "\"\"\"\n",
    "# Cost (hrs*rate)\n",
    "sheet['des_nr'][1:-2, 6].value = '$0.00'\n",
    "sheet['des_nr'][1:-2, 5].value = '$0.00'\n",
    "sheet['des_nr'][1:-2, 6].formula = '=(E81*F81)'\n",
    "# Totals\n",
    "sheet['des_nr'][-2, 3].value = totals_stage_list\n",
    "sheet['des_nr'][-1, 3].value = totals_cltv_list\n",
    "# Font color\n",
    "sheet['des_nr'][-2:,3:].font.bold = True\n",
    "sheet['des_nr'][-2:,3:].font.color = '#ffffff'\n",
    "\n",
    "\"\"\" \n",
    "Build\n",
    "\"\"\"\n",
    "# Cost (hrs*rate)\n",
    "sheet['bld_nr'][1:-2, 6].value = '$0.00'\n",
    "sheet['bld_nr'][1:-2, 5].value = '$0.00'\n",
    "sheet['bld_nr'][1:-2, 6].formula = '=(E101*F101)'\n",
    "# Totals\n",
    "sheet['bld_nr'][-2, 3].value = totals_stage_list\n",
    "sheet['bld_nr'][-1, 3].value = totals_cltv_list\n",
    "# Font color\n",
    "sheet['bld_nr'][-2:,3:].font.bold = True\n",
    "sheet['bld_nr'][-2:,3:].font.color = '#ffffff'\n",
    "\n",
    "\"\"\" \n",
    "Transition\n",
    "\"\"\"\n",
    "# Cost (hrs*rate)\n",
    "sheet['trn_nr'][1:-2, 6].value = '$0.00'\n",
    "sheet['trn_nr'][1:-2, 5].value = '$0.00'\n",
    "sheet['trn_nr'][1:-2, 6].formula = '=(E141*F141)'\n",
    "# Totals\n",
    "sheet['trn_nr'][-2, 3].value = totals_stage_list\n",
    "sheet['trn_nr'][-1, 3].value = totals_cltv_list\n",
    "# Font color\n",
    "sheet['trn_nr'][-2:,3:].font.bold = True\n",
    "sheet['trn_nr'][-2:,3:].font.color = '#000000'\n",
    "\n",
    "\"\"\" \n",
    "Close\n",
    "\"\"\"\n",
    "# Cost (hrs*rate)\n",
    "sheet['cls_nr'][1:18, 6].value = '$0.00'\n",
    "sheet['cls_nr'][1:18, 5].value = '$0.00'\n",
    "sheet['cls_nr'][1:18, 6].formula = '=(E161*F161)'\n",
    "# Totals\n",
    "sheet['cls_nr'][18, 3].value = totals_stage_list\n",
    "sheet['cls_nr'][19, 3].value = totals_cltv_list\n",
    "#Font color\n",
    "sheet['cls_nr'][18:,3:].font.bold = True\n",
    "sheet['cls_nr'][18:,3:].font.color = '#000000'\n"
   ]
  },
  {
   "cell_type": "code",
   "execution_count": null,
   "id": "add8045a",
   "metadata": {
    "execution": {
     "iopub.execute_input": "2024-09-16T06:38:09.072400Z",
     "iopub.status.busy": "2024-09-16T06:38:09.072223Z",
     "iopub.status.idle": "2024-09-16T06:38:09.795863Z",
     "shell.execute_reply": "2024-09-16T06:38:09.795551Z"
    },
    "papermill": {
     "duration": null,
     "end_time": null,
     "exception": null,
     "start_time": null,
     "status": "completed"
    },
    "tags": []
   },
   "outputs": [],
   "source": [
    "\"\"\"\n",
    "For each phase (aka phase named range)\n",
    "Column G sum Cost\n",
    "Column G sum Cost Agg.\n",
    "\n",
    "Column E sum Hours\n",
    "Column E sum Hours Agg.\n",
    "\n",
    "Add left column A thick boarder by project stage\n",
    "\n",
    "\"\"\"\n",
    "\n",
    "\"\"\"\n",
    "Envision\n",
    "\"\"\"\n",
    "# Hours\n",
    "sheet['env_nr'][-2,4].formula = '=SUM(E3:E17)'\n",
    "sheet['env_nr'][-1,4].value = '=E18'\n",
    "# Cost\n",
    "sheet['env_nr'][-2,6].formula = '=SUM(G3:G17)'\n",
    "sheet['env_nr'][-1,6].formula = '=G18' # Value for G19\n",
    "# Boarder\n",
    "sheet['env_nr'][:,0].color = '#E21A23'\n",
    "\n",
    "\"\"\"\n",
    "Initiate\n",
    "\"\"\"\n",
    "# Hours\n",
    "sheet['int_nr'][-2,4].formula = '=SUM(E21:E37)'\n",
    "sheet['int_nr'][-1,4].formula = '=SUM(E38+E19)'\n",
    "# Cost\n",
    "sheet['int_nr'][-2,6].formula = '=SUM(G21:G37)'\n",
    "sheet['int_nr'][-1,6].formula = '=SUM(G38+G19)'\n",
    "# Boarder\n",
    "sheet['int_nr'][:,0].color = '#1C0221'\n",
    "\n",
    "\"\"\"\n",
    "Define\n",
    "\"\"\"\n",
    "# Hours\n",
    "sheet['def_nr'][-2,4].formula = '=ROUNDUP(SUM(E41:E77),0)'\n",
    "sheet['def_nr'][-1,4].formula = '=ROUNDUP(SUM(E78+E39),0)'\n",
    "# Cost\n",
    "sheet['def_nr'][-2,6].formula = '=ROUNDUP(SUM(G41:G77),0)'\n",
    "sheet['def_nr'][-1,6].formula = '=ROUNDUP(SUM(G78+G39),0)' # Careful with (parantheses)\n",
    "# Boarder\n",
    "sheet['def_nr'][:,0].color = '#440850'\n",
    "\n",
    "\"\"\"\n",
    "Design\n",
    "\"\"\"\n",
    "# Hours\n",
    "sheet['des_nr'][-2,4].formula = '=SUM(E81:E97)'\n",
    "sheet['des_nr'][-1,4].formula = '=SUM(E98+E79)'\n",
    "# Cost\n",
    "sheet['des_nr'][-2,6].formula = '=SUM(G81:G97)'\n",
    "sheet['des_nr'][-1,6].formula = '=SUM(G98+G79)'\n",
    "# Boarder\n",
    "sheet['des_nr'][:,0].color = '#880074'\n",
    "\n",
    "\"\"\"\n",
    "Build\n",
    "\"\"\"\n",
    "# Hours\n",
    "sheet['bld_nr'][-2,4].formula = '=SUM(E101:E137)'\n",
    "sheet['bld_nr'][-1,4].formula = '=SUM(E138+E99)'\n",
    "# Cost\n",
    "sheet['bld_nr'][-2,6].formula = '=SUM(G101:G137)'\n",
    "sheet['bld_nr'][-1,6].formula = '=SUM(G138+G99)'\n",
    "# Boarder\n",
    "sheet['bld_nr'][:,0].color = '#6C0BA9'\n",
    "\n",
    "\"\"\"\n",
    "Transition\n",
    "\"\"\"\n",
    "# Hours\n",
    "sheet['trn_nr'][-2,4].formula = '=SUM(E141:E157)'\n",
    "sheet['trn_nr'][-1,4].formula = '=SUM(E158+E139)'\n",
    "# Cost\n",
    "sheet['trn_nr'][-2,6].formula = '=SUM(G141:G157)'\n",
    "sheet['trn_nr'][-1,6].formula = '=SUM(G158+G139)'\n",
    "# Boarder\n",
    "sheet['trn_nr'][:,0].color = '#9D85F3'\n",
    "\n",
    "\"\"\"\n",
    "Close\n",
    "\"\"\"\n",
    "# Hours\n",
    "sheet['cls_nr'][-2,4].formula = '=SUM(E161:E177)'\n",
    "sheet['cls_nr'][-1,4].formula = '=SUM(E178+E159)'\n",
    "# Cost\n",
    "sheet['cls_nr'][-2,6].formula = '=SUM(G161:G177)'\n",
    "sheet['cls_nr'][-1,6].formula = '=SUM(G178+G159)'\n",
    "# Boarder\n",
    "sheet['cls_nr'][:,0].color = '#86EC77'"
   ]
  },
  {
   "cell_type": "code",
   "execution_count": null,
   "id": "2ac3f780",
   "metadata": {
    "execution": {
     "iopub.execute_input": "2024-09-16T06:38:09.809534Z",
     "iopub.status.busy": "2024-09-16T06:38:09.809360Z",
     "iopub.status.idle": "2024-09-16T06:38:10.224143Z",
     "shell.execute_reply": "2024-09-16T06:38:10.223777Z"
    },
    "papermill": {
     "duration": null,
     "end_time": null,
     "exception": null,
     "start_time": null,
     "status": "completed"
    },
    "tags": []
   },
   "outputs": [],
   "source": [
    "# Assign values to cells by passing lists to the excel doc\n",
    "sheet['sow_nr'][179,3:].value = ['TOTAL HOURS', 0, 'TOTAL COST', '$0.00']\n",
    "sheet['sow_nr'][180,3:].value = ['', 'OTD', '0%', '$0.00']\n",
    "sheet['sow_nr'][181,3:].value = ['', '', 'GRAND TOTAL', '$0.00']\n",
    "\n",
    "# Set font bold and color\n",
    "sheet['sow_nr'][179:182,:].font.bold = True\n",
    "sheet['sow_nr'][179:182,:].font.color = '#000000'\n",
    "\n",
    "tot_brd_loc = sheet['sow_nr'][179:182,3:]\n",
    "\n",
    "# Set border around excel SOW\n",
    "tot_brd_loc[-1,:].api.get_border(which_border=k.border_bottom).weight.set(4)\n",
    "tot_brd_loc[:,-1].api.get_border(which_border=k.border_right).weight.set(4)\n",
    "tot_brd_loc[0,:].api.get_border(which_border=k.border_top).weight.set(4) # Not necessary really\n",
    "tot_brd_loc[:,0].api.get_border(which_border=k.border_left).weight.set(4)\n"
   ]
  },
  {
   "cell_type": "code",
   "execution_count": null,
   "id": "9a82e2b7",
   "metadata": {
    "execution": {
     "iopub.execute_input": "2024-09-16T06:38:10.236799Z",
     "iopub.status.busy": "2024-09-16T06:38:10.236659Z",
     "iopub.status.idle": "2024-09-16T06:38:10.278633Z",
     "shell.execute_reply": "2024-09-16T06:38:10.278270Z"
    },
    "papermill": {
     "duration": null,
     "end_time": null,
     "exception": null,
     "start_time": null,
     "status": "completed"
    },
    "tags": []
   },
   "outputs": [],
   "source": [
    "# Set formulas\n",
    "tot_brd_loc[0,1].formula = '=(E179)'\n",
    "tot_brd_loc[0,3].formula = '=(G179)'\n",
    "tot_brd_loc[1,3].formula = '=(F181*G180)'\n",
    "tot_brd_loc[2,3].formula = '=(G180-G181)'"
   ]
  },
  {
   "cell_type": "code",
   "execution_count": null,
   "id": "c9b7bb31",
   "metadata": {
    "execution": {
     "iopub.execute_input": "2024-09-16T06:38:10.291806Z",
     "iopub.status.busy": "2024-09-16T06:38:10.291571Z",
     "iopub.status.idle": "2024-09-16T06:38:10.481935Z",
     "shell.execute_reply": "2024-09-16T06:38:10.481363Z"
    },
    "papermill": {
     "duration": null,
     "end_time": null,
     "exception": null,
     "start_time": null,
     "status": "completed"
    },
    "tags": []
   },
   "outputs": [],
   "source": [
    "\"\"\"\n",
    "Build a math checker\n",
    "-Do something later like IF 'GRAND TOTAL' == 'GRAND TOTAL' THEN font.color=green ELSE font.color=red\n",
    "\"\"\"\n",
    "\n",
    "# Set a math checker named range from the sow named range\n",
    "math_chk_loc = sheet['sow_nr'][183:185,3:]\n",
    "\n",
    "# Assign values to cells by passing lists to the excel doc\n",
    "math_chk_loc[0,0].value = 'MATH CHECKER'\n",
    "math_chk_loc[1,:].value = ['TOTAL HOURS', 0, 'TOTAL COST', '$0.00']\n",
    "\n",
    "# Set color on math checker field\n",
    "math_chk_loc[0,0].font.color = '#E21A23'\n",
    "\n",
    "# Set font bold and color\n",
    "math_chk_loc[0:2,:].font.bold = True\n",
    "math_chk_loc[1:,:].font.color = '#000000'\n",
    "\n",
    "# Set formulas\n",
    "math_chk_loc[1,1].formula = '=SUM(E18+E38+E78+E98+E138+E158+E178)' # Total hours\n",
    "math_chk_loc[1,3].formula = '=SUM(G18+G38+G78+G98+G138+G158+G178)-G181' # Total cost\n",
    "\n",
    "# Set border and line style\n",
    "math_chk_loc[1:2,:].api.get_border(which_border=k.border_top).weight.set(4)\n",
    "math_chk_loc[1:2,:].api.get_border(which_border=k.border_left).weight.set(4)\n",
    "math_chk_loc[1:2,:].api.get_border(which_border=k.border_bottom).weight.set(4)\n",
    "math_chk_loc[1:2,:].api.get_border(which_border=k.border_right).weight.set(4)"
   ]
  },
  {
   "cell_type": "code",
   "execution_count": null,
   "id": "404a12e5",
   "metadata": {
    "execution": {
     "iopub.execute_input": "2024-09-16T06:38:10.496627Z",
     "iopub.status.busy": "2024-09-16T06:38:10.496320Z",
     "iopub.status.idle": "2024-09-16T06:38:10.525518Z",
     "shell.execute_reply": "2024-09-16T06:38:10.525068Z"
    },
    "papermill": {
     "duration": null,
     "end_time": null,
     "exception": null,
     "start_time": null,
     "status": "completed"
    },
    "tags": []
   },
   "outputs": [],
   "source": [
    "# set roles and rates named range\n",
    "role_rate_loc = sheet['sow_nr'][187:200,:]\n",
    "\n",
    "# Assign header value in excel\n",
    "rr_header_list = ['ROLE', \n",
    "                  'ROLE NAME', \n",
    "                  'ROLE DESCRIPTION', \n",
    "                  'STD RATE', \n",
    "                  'DISCOUNT', \n",
    "                  'DISCOUNT %', \n",
    "                  'RATE']\n",
    "\n",
    "role_rate_loc.value = rr_header_list"
   ]
  },
  {
   "cell_type": "code",
   "execution_count": null,
   "id": "bb304459",
   "metadata": {
    "execution": {
     "iopub.execute_input": "2024-09-16T06:38:10.538450Z",
     "iopub.status.busy": "2024-09-16T06:38:10.538230Z",
     "iopub.status.idle": "2024-09-16T06:38:10.560110Z",
     "shell.execute_reply": "2024-09-16T06:38:10.559850Z"
    },
    "papermill": {
     "duration": null,
     "end_time": null,
     "exception": null,
     "start_time": null,
     "status": "completed"
    },
    "tags": []
   },
   "outputs": [],
   "source": [
    "# Read in ROLES_RATES df \n",
    "rr_df = pd.read_excel('sow_input_data.xlsx', sheet_name = 'ROLES_RATES')\n",
    "\n",
    "rr_df = rr_df.iloc[0:7,:] # Filters out TAM role (for managed services)\n",
    "\n",
    "rr_df"
   ]
  },
  {
   "cell_type": "code",
   "execution_count": null,
   "id": "49f3a95b",
   "metadata": {
    "execution": {
     "iopub.execute_input": "2024-09-16T06:38:10.571891Z",
     "iopub.status.busy": "2024-09-16T06:38:10.571778Z",
     "iopub.status.idle": "2024-09-16T06:38:10.599482Z",
     "shell.execute_reply": "2024-09-16T06:38:10.599190Z"
    },
    "papermill": {
     "duration": null,
     "end_time": null,
     "exception": null,
     "start_time": null,
     "status": "completed"
    },
    "tags": []
   },
   "outputs": [],
   "source": [
    "# Insert rows rates dataframe \n",
    "role_rate_loc.options(index=False, header=True).value = rr_df # IMPORTANT header=True"
   ]
  },
  {
   "cell_type": "code",
   "execution_count": null,
   "id": "e8561b4a",
   "metadata": {
    "execution": {
     "iopub.execute_input": "2024-09-16T06:38:10.612196Z",
     "iopub.status.busy": "2024-09-16T06:38:10.612052Z",
     "iopub.status.idle": "2024-09-16T06:38:10.640601Z",
     "shell.execute_reply": "2024-09-16T06:38:10.640298Z"
    },
    "papermill": {
     "duration": null,
     "end_time": null,
     "exception": null,
     "start_time": null,
     "status": "completed"
    },
    "tags": []
   },
   "outputs": [],
   "source": [
    "# DEV - insert the PS (pre-sales placeholder) role\n",
    "ps_ph_list = ['PS', 'pre-sales', 'placeholder', '4', '0', '0', '0']\n",
    "\n",
    "# insert ps_ph list for DEV\n",
    "role_rate_loc[8,:].value = ps_ph_list\n",
    "role_rate_loc[8,:].font.color = '#E21A23'"
   ]
  },
  {
   "cell_type": "code",
   "execution_count": null,
   "id": "4904a97a",
   "metadata": {
    "execution": {
     "iopub.execute_input": "2024-09-16T06:38:10.653489Z",
     "iopub.status.busy": "2024-09-16T06:38:10.653344Z",
     "iopub.status.idle": "2024-09-16T06:38:10.684720Z",
     "shell.execute_reply": "2024-09-16T06:38:10.684437Z"
    },
    "papermill": {
     "duration": null,
     "end_time": null,
     "exception": null,
     "start_time": null,
     "status": "completed"
    },
    "tags": []
   },
   "outputs": [],
   "source": [
    "# Set formula to calculate final rate from discount (discount applied manually by user)\n",
    "role_rate_loc[1:9,6].formula = '=(D189-E189)'\n",
    "\n",
    "# DEV\n",
    "# role_rate_loc[-1,6].formula = '=(D200-E200)'\n",
    "\n",
    "\"\"\"\n",
    "Set discount formula\n",
    "-Important for usability by non-technical user\n",
    "\"\"\" \n",
    "\n",
    "# Set formula to calculate discount perecentage\n",
    "role_rate_loc[1:9,5].formula = '=(E189/D189)'"
   ]
  },
  {
   "cell_type": "code",
   "execution_count": null,
   "id": "d627f032",
   "metadata": {
    "execution": {
     "iopub.execute_input": "2024-09-16T06:38:10.697547Z",
     "iopub.status.busy": "2024-09-16T06:38:10.697332Z",
     "iopub.status.idle": "2024-09-16T06:38:11.464139Z",
     "shell.execute_reply": "2024-09-16T06:38:11.463206Z"
    },
    "papermill": {
     "duration": null,
     "end_time": null,
     "exception": null,
     "start_time": null,
     "status": "completed"
    },
    "tags": []
   },
   "outputs": [],
   "source": [
    "\"\"\" \n",
    "This looks sick from a UX perspective if the user is watching      \n",
    "\"\"\"\n",
    "# Set 0% and $0.00 formatting\n",
    "role_rate_loc[1:,3].number_format = '$0.00' # STD RATE\n",
    "role_rate_loc[1:,4].number_format = '$0.00' # DISCOUNT\n",
    "role_rate_loc[1:,5].number_format = '0.0%' # DISCOUNT %\n",
    "role_rate_loc[1:,6].number_format = '$0.00' # NEGOTIATED RATE"
   ]
  },
  {
   "cell_type": "code",
   "execution_count": null,
   "id": "79e48fc5",
   "metadata": {
    "execution": {
     "iopub.execute_input": "2024-09-16T06:38:11.483660Z",
     "iopub.status.busy": "2024-09-16T06:38:11.483524Z",
     "iopub.status.idle": "2024-09-16T06:38:11.802656Z",
     "shell.execute_reply": "2024-09-16T06:38:11.801906Z"
    },
    "papermill": {
     "duration": null,
     "end_time": null,
     "exception": null,
     "start_time": null,
     "status": "completed"
    },
    "tags": []
   },
   "outputs": [],
   "source": [
    "\"\"\" \n",
    "Format roles and rates table in excel doc\n",
    "\"\"\"\n",
    "# Set bold header\n",
    "role_rate_loc[0,:].font.bold = True\n",
    "\n",
    "# Set border and line style\n",
    "role_rate_loc[0:8,:].api.get_border(which_border=k.border_top).weight.set(4)\n",
    "role_rate_loc[0:8,:].api.get_border(which_border=k.border_left).weight.set(4)\n",
    "role_rate_loc[0:8,:].api.get_border(which_border=k.border_bottom).weight.set(4)\n",
    "role_rate_loc[0:8,:].api.get_border(which_border=k.border_right).weight.set(4)"
   ]
  },
  {
   "cell_type": "code",
   "execution_count": null,
   "id": "bee4ed65",
   "metadata": {
    "execution": {
     "iopub.execute_input": "2024-09-16T06:38:11.826860Z",
     "iopub.status.busy": "2024-09-16T06:38:11.826642Z",
     "iopub.status.idle": "2024-09-16T06:38:12.141172Z",
     "shell.execute_reply": "2024-09-16T06:38:12.140895Z"
    },
    "papermill": {
     "duration": null,
     "end_time": null,
     "exception": null,
     "start_time": null,
     "status": "completed"
    },
    "tags": []
   },
   "outputs": [],
   "source": [
    "\"\"\"\n",
    "PLACEHOLDERS\n",
    "\"\"\"\n",
    "# for ROLE table append line to use in DEV\n",
    "ps_role = ['PS', 'pre-sales', 'placeholder', '$0.00', '$0.00', '0.0%', '$0.00']\n",
    "\n",
    "# string to insert in each row\n",
    "# ps_placeholder = ['pre-sales', 'placeholder', 'PS', '4']\n",
    "ps_placeholder = ['XXX', 'XXX', 'PS', '4']\n",
    "\n",
    "\"\"\"   \n",
    "Insert PLACEHOLDERS\n",
    "\"\"\"\n",
    "# insert placeholder lists in excel\n",
    "sheet['env_nr'][1:,1:5].value = ps_placeholder\n",
    "sheet['int_nr'][1:,1:5].value = ps_placeholder\n",
    "sheet['def_nr'][1:,1:5].value = ps_placeholder\n",
    "sheet['des_nr'][1:,1:5].value = ps_placeholder\n",
    "sheet['bld_nr'][1:,1:5].value = ps_placeholder\n",
    "sheet['trn_nr'][1:,1:5].value = ps_placeholder\n",
    "sheet['cls_nr'][1:,1:5].value = ps_placeholder"
   ]
  },
  {
   "cell_type": "code",
   "execution_count": null,
   "id": "4c50bb53",
   "metadata": {
    "execution": {
     "iopub.execute_input": "2024-09-16T06:38:12.152988Z",
     "iopub.status.busy": "2024-09-16T06:38:12.152852Z",
     "iopub.status.idle": "2024-09-16T06:38:12.838992Z",
     "shell.execute_reply": "2024-09-16T06:38:12.838679Z"
    },
    "papermill": {
     "duration": null,
     "end_time": null,
     "exception": null,
     "start_time": null,
     "status": "completed"
    },
    "tags": []
   },
   "outputs": [],
   "source": [
    "# COPY / PASTE placeholder string from excel (at each stage)\n",
    "\n",
    "# ENVISTION (PRE-KICKOFF)\n",
    "sheet['env_nr'][1,1:].copy()\n",
    "sheet['env_nr'][2:-2,1:].paste()\n",
    "\n",
    "# INITIATE\n",
    "sheet['int_nr'][1,1:].copy()\n",
    "sheet['int_nr'][2:-2,1:].paste()\n",
    "\n",
    "# DEFINE\n",
    "sheet['def_nr'][1,1:].copy()\n",
    "sheet['def_nr'][2:-2,1:].paste()\n",
    "\n",
    "#DESIGN\n",
    "sheet['des_nr'][1,1:].copy()\n",
    "sheet['des_nr'][2:-2,1:].paste()\n",
    "\n",
    "#BUILD\n",
    "sheet['bld_nr'][1,1:].copy()\n",
    "sheet['bld_nr'][2:-2,1:].paste()\n",
    "\n",
    "#TRANSITION\n",
    "sheet['trn_nr'][1,1:].copy()\n",
    "sheet['trn_nr'][2:-2,1:].paste()\n",
    "\n",
    "#CLOSE\n",
    "sheet['cls_nr'][1,1:].copy()\n",
    "sheet['cls_nr'][2:-2,1:].paste()"
   ]
  },
  {
   "cell_type": "code",
   "execution_count": null,
   "id": "53cd3108",
   "metadata": {
    "execution": {
     "iopub.execute_input": "2024-09-16T06:38:12.856991Z",
     "iopub.status.busy": "2024-09-16T06:38:12.856677Z",
     "iopub.status.idle": "2024-09-16T06:38:13.229709Z",
     "shell.execute_reply": "2024-09-16T06:38:13.229455Z"
    },
    "papermill": {
     "duration": null,
     "end_time": null,
     "exception": null,
     "start_time": null,
     "status": "completed"
    },
    "tags": []
   },
   "outputs": [],
   "source": [
    "\"\"\" \n",
    "VLOOKUP() to populate rates for roles\n",
    "-review everything about cell addresses before proceeding\n",
    "\"\"\"\n",
    "# ENVISION (PRE-KICKOFF)\n",
    "sheet['env_nr'][1:-2, 5].formula = '=VLOOKUP(D3,$A$188:$G$196,7,FALSE)'\n",
    "\n",
    "# INITIATE\n",
    "sheet['int_nr'][1:-2, 5].formula = '=VLOOKUP(D21,$A$188:$G$196,7,FALSE)'\n",
    "\n",
    "# DEFINE\n",
    "sheet['def_nr'][1:-2, 5].formula = '=VLOOKUP(D41,$A$188:$G$196,7,FALSE)'\n",
    "\n",
    "# DESIGN \n",
    "sheet['des_nr'][1:-2, 5].formula = '=VLOOKUP(D81,$A$188:$G$196,7,FALSE)'\n",
    "\n",
    "# BUILD\n",
    "sheet['bld_nr'][1:-2, 5].formula = '=VLOOKUP(D101,$A$188:$G$196,7,FALSE)'\n",
    "\n",
    "# TRANSITION\n",
    "sheet['trn_nr'][1:-2, 5].formula = '=VLOOKUP(D141,$A$188:$G$196,7,FALSE)'\n",
    "\n",
    "# CLOSE\n",
    "sheet['cls_nr'][1:-2, 5].formula = '=VLOOKUP(D161,$A$188:$G$196,7,FALSE)'"
   ]
  },
  {
   "cell_type": "code",
   "execution_count": null,
   "id": "49fcfeba",
   "metadata": {
    "execution": {
     "iopub.execute_input": "2024-09-16T06:38:13.243759Z",
     "iopub.status.busy": "2024-09-16T06:38:13.243595Z",
     "iopub.status.idle": "2024-09-16T06:38:13.246025Z",
     "shell.execute_reply": "2024-09-16T06:38:13.245706Z"
    },
    "papermill": {
     "duration": null,
     "end_time": null,
     "exception": null,
     "start_time": null,
     "status": "completed"
    },
    "tags": []
   },
   "outputs": [],
   "source": [
    "\"\"\"\n",
    "DATA TABLE FOR CHARTS & VISUALS\n",
    "-Total hours by role\n",
    "-Total hours by stage\n",
    "\n",
    "*other not yet worked out*\n",
    "-FTE by stage\n",
    "-FTE by role\n",
    "-FTE overlay\n",
    "-High level project timeline\n",
    "\"\"\""
   ]
  },
  {
   "cell_type": "code",
   "execution_count": null,
   "id": "8a7951d8",
   "metadata": {
    "execution": {
     "iopub.execute_input": "2024-09-16T06:38:13.258873Z",
     "iopub.status.busy": "2024-09-16T06:38:13.258721Z",
     "iopub.status.idle": "2024-09-16T06:38:13.314067Z",
     "shell.execute_reply": "2024-09-16T06:38:13.313796Z"
    },
    "papermill": {
     "duration": null,
     "end_time": null,
     "exception": null,
     "start_time": null,
     "status": "completed"
    },
    "tags": []
   },
   "outputs": [],
   "source": [
    "\"\"\"\n",
    "CHARTS DATA\n",
    "\"\"\"\n",
    "# NAMED RANGE - Chart data\n",
    "sheet['A200:G209'].name = 'cht_nr'\n",
    "\n",
    "# INSERT HEADER\n",
    "sheet['cht_nr'][0,3:].value = ['ROLE', 'HOURS', 'COST', 'RATE']\n",
    "\n",
    "# GET ROLES\n",
    "cht_list = role_rate_loc[1:,0].value\n",
    "cht_role_list = cht_list[0:8]\n",
    "\n",
    "cht_role_list"
   ]
  },
  {
   "cell_type": "code",
   "execution_count": null,
   "id": "036cfe4c",
   "metadata": {
    "execution": {
     "iopub.execute_input": "2024-09-16T06:38:13.327808Z",
     "iopub.status.busy": "2024-09-16T06:38:13.327603Z",
     "iopub.status.idle": "2024-09-16T06:38:13.332744Z",
     "shell.execute_reply": "2024-09-16T06:38:13.332482Z"
    },
    "papermill": {
     "duration": null,
     "end_time": null,
     "exception": null,
     "start_time": null,
     "status": "completed"
    },
    "tags": []
   },
   "outputs": [],
   "source": [
    "# GET RATES\n",
    "cht_rate = role_rate_loc[1:,6].value\n",
    "cht_rate_list = cht_rate[0:8]\n",
    "\n",
    "cht_rate_list"
   ]
  },
  {
   "cell_type": "code",
   "execution_count": null,
   "id": "7073770f",
   "metadata": {
    "execution": {
     "iopub.execute_input": "2024-09-16T06:38:13.346326Z",
     "iopub.status.busy": "2024-09-16T06:38:13.346095Z",
     "iopub.status.idle": "2024-09-16T06:38:13.716856Z",
     "shell.execute_reply": "2024-09-16T06:38:13.716482Z"
    },
    "papermill": {
     "duration": null,
     "end_time": null,
     "exception": null,
     "start_time": null,
     "status": "completed"
    },
    "tags": []
   },
   "outputs": [],
   "source": [
    "# INSERT & TRANSPOSE *ROLE* DATA -> to new table (later used for charts and data viz)\n",
    "sheet['cht_nr'][1:,3].options(transpose=True).value = cht_role_list\n",
    "\n",
    "# INSERT & TRANSPOSE *RATE* DATE\n",
    "sheet['cht_nr'][1:,6].number_format = '$0.00' # sets formatting before insert\n",
    "sheet['cht_nr'][1:,6].options(transpose=True).value = cht_rate_list\n"
   ]
  },
  {
   "cell_type": "code",
   "execution_count": null,
   "id": "13a256a9",
   "metadata": {
    "execution": {
     "iopub.execute_input": "2024-09-16T06:38:13.732925Z",
     "iopub.status.busy": "2024-09-16T06:38:13.732781Z",
     "iopub.status.idle": "2024-09-16T06:38:13.738910Z",
     "shell.execute_reply": "2024-09-16T06:38:13.738557Z"
    },
    "papermill": {
     "duration": null,
     "end_time": null,
     "exception": null,
     "start_time": null,
     "status": "completed"
    },
    "tags": []
   },
   "outputs": [],
   "source": [
    "# SUMIF() function in excel to SUM hours by role -> populate table values\n",
    "sheet['cht_nr'][1:9,4].formula = '=SUMIF(D1:D179,D201,E1:E179)'"
   ]
  },
  {
   "cell_type": "code",
   "execution_count": null,
   "id": "171081f1",
   "metadata": {
    "execution": {
     "iopub.execute_input": "2024-09-16T06:38:13.753066Z",
     "iopub.status.busy": "2024-09-16T06:38:13.752895Z",
     "iopub.status.idle": "2024-09-16T06:38:14.065691Z",
     "shell.execute_reply": "2024-09-16T06:38:14.065277Z"
    },
    "papermill": {
     "duration": null,
     "end_time": null,
     "exception": null,
     "start_time": null,
     "status": "completed"
    },
    "tags": []
   },
   "outputs": [],
   "source": [
    "# Set cost # format also\n",
    "sheet['cht_nr'][1:,5].number_format = '$0.00'\n",
    "\n",
    "# FORMULA to calculate cost\n",
    "sheet['cht_nr'][1:9,5].formula = ('=E201*G201')\n"
   ]
  },
  {
   "cell_type": "code",
   "execution_count": null,
   "id": "7e819977",
   "metadata": {
    "execution": {
     "iopub.execute_input": "2024-09-16T06:38:14.081439Z",
     "iopub.status.busy": "2024-09-16T06:38:14.081187Z",
     "iopub.status.idle": "2024-09-16T06:38:14.092171Z",
     "shell.execute_reply": "2024-09-16T06:38:14.091828Z"
    },
    "papermill": {
     "duration": null,
     "end_time": null,
     "exception": null,
     "start_time": null,
     "status": "completed"
    },
    "tags": []
   },
   "outputs": [],
   "source": [
    "# DEV set PS row to red\n",
    "sheet['cht_nr'][8,3:].font.color = '#E21A23'\n"
   ]
  },
  {
   "cell_type": "code",
   "execution_count": null,
   "id": "6252d8dc",
   "metadata": {
    "execution": {
     "iopub.execute_input": "2024-09-16T06:38:14.108321Z",
     "iopub.status.busy": "2024-09-16T06:38:14.108144Z",
     "iopub.status.idle": "2024-09-16T06:38:14.236254Z",
     "shell.execute_reply": "2024-09-16T06:38:14.235959Z"
    },
    "papermill": {
     "duration": null,
     "end_time": null,
     "exception": null,
     "start_time": null,
     "status": "completed"
    },
    "tags": []
   },
   "outputs": [],
   "source": [
    "# BORDERS & FORMATTING\n",
    "sheet['cht_nr'][0,3:].font.bold = True \n",
    "\n",
    "# BORDER\n",
    "sheet['cht_nr'][0:8,3:].api.get_border(which_border=k.border_top).weight.set(4)\n",
    "sheet['cht_nr'][0:8,3:].api.get_border(which_border=k.border_left).weight.set(4)\n",
    "sheet['cht_nr'][0:8,3:].api.get_border(which_border=k.border_bottom).weight.set(4)\n",
    "sheet['cht_nr'][0:8,3:].api.get_border(which_border=k.border_right).weight.set(4)"
   ]
  },
  {
   "attachments": {},
   "cell_type": "markdown",
   "id": "72b1419a",
   "metadata": {
    "papermill": {
     "duration": null,
     "end_time": null,
     "exception": null,
     "start_time": null,
     "status": "completed"
    },
    "tags": []
   },
   "source": [
    "Start here. All working above. \n",
    "Need to figure out FTEs and the sample project timeline."
   ]
  },
  {
   "cell_type": "code",
   "execution_count": null,
   "id": "22a6181e",
   "metadata": {
    "execution": {
     "iopub.execute_input": "2024-09-16T06:38:14.278353Z",
     "iopub.status.busy": "2024-09-16T06:38:14.278206Z",
     "iopub.status.idle": "2024-09-16T06:38:14.367681Z",
     "shell.execute_reply": "2024-09-16T06:38:14.367267Z"
    },
    "papermill": {
     "duration": null,
     "end_time": null,
     "exception": null,
     "start_time": null,
     "status": "completed"
    },
    "tags": []
   },
   "outputs": [],
   "source": [
    "# Save workbook BUT leave open\n",
    "book_number = 'book01.xlsx'\n",
    "wb.save(book_number)"
   ]
  },
  {
   "attachments": {},
   "cell_type": "markdown",
   "id": "d96b8a54",
   "metadata": {
    "papermill": {
     "duration": null,
     "end_time": null,
     "exception": null,
     "start_time": null,
     "status": "completed"
    },
    "tags": []
   },
   "source": [
    "| END OF PROGRAM |\n",
    "| ----------- |\n",
    "| Notes for future DEV, and reference code below |"
   ]
  },
  {
   "cell_type": "code",
   "execution_count": null,
   "id": "09f93d46",
   "metadata": {
    "execution": {
     "iopub.execute_input": "2024-09-16T06:38:14.391564Z",
     "iopub.status.busy": "2024-09-16T06:38:14.391421Z",
     "iopub.status.idle": "2024-09-16T06:38:14.393203Z",
     "shell.execute_reply": "2024-09-16T06:38:14.392941Z"
    },
    "papermill": {
     "duration": null,
     "end_time": null,
     "exception": null,
     "start_time": null,
     "status": "completed"
    },
    "tags": []
   },
   "outputs": [],
   "source": [
    "# # DATA - Hours breakdown by role\n",
    "# hrs_chart_data_loc = sheet['sow_nr'][200:210,:]\n",
    "# hrs_chart_data_list = ['ROLE', 'HOURS', 'COST', 'RATE']\n",
    "\n",
    "# hrs_chart_data_loc[:,3:5].value = hrs_chart_data_list\n",
    "\n",
    "# # set roles in new table\n",
    "# role_rate_loc[1:8,0].options(transpose=True).value = role_rate_loc[1:8,0]\n"
   ]
  },
  {
   "cell_type": "code",
   "execution_count": null,
   "id": "1238d6bf",
   "metadata": {
    "execution": {
     "iopub.execute_input": "2024-09-16T06:38:14.406497Z",
     "iopub.status.busy": "2024-09-16T06:38:14.406361Z",
     "iopub.status.idle": "2024-09-16T06:38:14.408029Z",
     "shell.execute_reply": "2024-09-16T06:38:14.407787Z"
    },
    "papermill": {
     "duration": null,
     "end_time": null,
     "exception": null,
     "start_time": null,
     "status": "completed"
    },
    "tags": []
   },
   "outputs": [],
   "source": [
    "# DATA - Hours breakdown by stage"
   ]
  },
  {
   "cell_type": "code",
   "execution_count": null,
   "id": "e03bb3c5",
   "metadata": {
    "execution": {
     "iopub.execute_input": "2024-09-16T06:38:14.419909Z",
     "iopub.status.busy": "2024-09-16T06:38:14.419784Z",
     "iopub.status.idle": "2024-09-16T06:38:14.421305Z",
     "shell.execute_reply": "2024-09-16T06:38:14.421083Z"
    },
    "papermill": {
     "duration": null,
     "end_time": null,
     "exception": null,
     "start_time": null,
     "status": "completed"
    },
    "tags": []
   },
   "outputs": [],
   "source": [
    "# DATA - Time breakdown by stage"
   ]
  },
  {
   "cell_type": "code",
   "execution_count": null,
   "id": "8de9d047",
   "metadata": {
    "execution": {
     "iopub.execute_input": "2024-09-16T06:38:14.433633Z",
     "iopub.status.busy": "2024-09-16T06:38:14.433513Z",
     "iopub.status.idle": "2024-09-16T06:38:14.435535Z",
     "shell.execute_reply": "2024-09-16T06:38:14.435295Z"
    },
    "papermill": {
     "duration": null,
     "end_time": null,
     "exception": null,
     "start_time": null,
     "status": "completed"
    },
    "tags": []
   },
   "outputs": [],
   "source": [
    "\"\"\"\n",
    "Load overlay data and store as a dataframe\n",
    "Slice new dataframe (3) dataframes\n",
    "Write 3 dataframes to respective excel document location\n",
    "Set formulas to dynamically calculate totals\n",
    "Set formulas to dynamically calculate hours based on percentages\n",
    "\"\"\"\n",
    "# overlay_df = pd.read_excel('sow_input_v5.0_beta.xlsx', sheet_name='OVERLAY') \n",
    "\n",
    "# overlay_df"
   ]
  },
  {
   "cell_type": "code",
   "execution_count": null,
   "id": "36e73084",
   "metadata": {
    "execution": {
     "iopub.execute_input": "2024-09-16T06:38:14.447682Z",
     "iopub.status.busy": "2024-09-16T06:38:14.447545Z",
     "iopub.status.idle": "2024-09-16T06:38:14.449683Z",
     "shell.execute_reply": "2024-09-16T06:38:14.449467Z"
    },
    "papermill": {
     "duration": null,
     "end_time": null,
     "exception": null,
     "start_time": null,
     "status": "completed"
    },
    "tags": []
   },
   "outputs": [],
   "source": [
    "# \"\"\"    \n",
    "# OVERLAYS\n",
    "# -Scribe (BA)\n",
    "# -BPC\n",
    "# -EM\n",
    "# -TA (formerly SA)\n",
    "# \"\"\"\n",
    "\n",
    "# # Set color variable\n",
    "# overlay_color = '#F9F7ED'\n",
    "\n",
    "# \"\"\" \n",
    "# Define\n",
    "# -BA and EM\n",
    "# \"\"\"\n",
    "# scribe_ovy = overlay_df.iloc[0:1,1:]\n",
    "# sheet['def_nr'][16,1:].options(index=False, header=False).value = scribe_ovy\n",
    "# sheet['def_nr'][16,4].formula = '=ROUNDUP(SUM(E41:E55)*.05,0)' # Important - use ROUNDUP()\n",
    "\n",
    "# em_ovy = overlay_df.iloc[2:3,1:]\n",
    "# sheet['def_nr'][17,1:].options(index=False, header=False).value = em_ovy\n",
    "# sheet['def_nr'][17,4].formula = '=ROUNDUP(SUM(E41:E55)*.05,0)' # Important - use ROUNDUP()\n",
    "\n",
    "# sheet['def_nr'][16:18,1:].color = overlay_color\n",
    "\n",
    "# \"\"\" \n",
    "# Design\n",
    "# -BPC and EM\n",
    "# \"\"\"\n",
    "# bpc_ovy = overlay_df.iloc[1:2,1:]\n",
    "# sheet['des_nr'][16,1:].options(index=False, header=False).value = bpc_ovy\n",
    "# sheet['des_nr'][16,4].formula = '=ROUNDUP(SUM(E41:E55)*.05,0)' # Product sum from define phase is the scalar\n",
    "\n",
    "# sheet['des_nr'][17,1:].options(index=False, header=False).value = em_ovy\n",
    "# sheet['des_nr'][17,4].formula = '=ROUNDUP(SUM(E61:E75)*.05,0)' # Product sum from define phase is the scalar\n",
    "\n",
    "# sheet['des_nr'][16:18,1:].color = overlay_color\n",
    "\n",
    "# \"\"\"\n",
    "# Execute\n",
    "# -BPC, TA, and EM\n",
    "# \"\"\" \n",
    "# sheet['bld_nr'][15,1:].options(index=False, header=False).value = bpc_ovy\n",
    "# sheet['bld_nr'][15,4].formula = '=ROUNDUP(SUM(E81:E94)*.05,0)'\n",
    "\n",
    "# sa_ovy = overlay_df.iloc[3:4,1:]\n",
    "# sheet['bld_nr'][16,1:].options(index=False, header=False).value = sa_ovy\n",
    "# sheet['bld_nr'][16,4].formula = '=ROUNDUP(SUM(E81:E94)*.05,0)'\n",
    "\n",
    "# sheet['bld_nr'][17,1:].options(index=False, header=False).value = em_ovy\n",
    "# sheet['bld_nr'][17,4].formula = '=ROUNDUP(SUM(E81:E94)*.05,0)'\n",
    "\n",
    "# sheet['bld_nr'][15:18,1:].color = overlay_color\n",
    "\n",
    "# \"\"\"\n",
    "# Transition\n",
    "# -TA and EM\n",
    "# \"\"\"\n",
    "# sheet['trn_nr'][16,1:].options(index=False, header=False).value = sa_ovy\n",
    "# sheet['trn_nr'][16,4].formula = '=ROUNDUP(SUM(E101:E115)*.05,0)'\n",
    "\n",
    "# sheet['trn_nr'][17,1:].options(index=False, header=False).value = em_ovy\n",
    "# sheet['trn_nr'][17,4].formula = '=ROUNDUP(SUM(E101:E115)*.05,0)'\n",
    "\n",
    "# sheet['trn_nr'][16:18,1:].color = overlay_color\n",
    "\n",
    "# \"\"\"\n",
    "# Close\n",
    "# #### Nothing to add at the moment ####\n",
    "\n",
    "# \"\"\"\n",
    "# # Close\n",
    "# # -Think about using f strings to dynamically capture percentage adjustements\n",
    "# # \"\"\"\n",
    "# # cls_ovy = overlay_df.iloc[2:,1:]\n",
    "# # sheet['cls_nr'][15:18,1:].options(index=False, header=False).value = cls_ovy\n",
    "# # sheet['cls_nr'][15,4].formula = '=ROUNDUP(SUM(E58+E78+E98+E118)*.05,0)' # PM (define, design, execute, transition)\n",
    "# # sheet['cls_nr'][16,4].formula = '=ROUNDUP(SUM(E98+E118)*.05,0)' # SA (execute, transition)\n",
    "# # sheet['cls_nr'][17,4].formula = '=ROUNDUP(SUM(E98)*.05,0)' # BPC (execute)\n",
    "# # sheet['cls_nr'][17,1:].color = overlay_color\n"
   ]
  },
  {
   "cell_type": "code",
   "execution_count": null,
   "id": "92a652df",
   "metadata": {
    "execution": {
     "iopub.execute_input": "2024-09-16T06:38:14.461237Z",
     "iopub.status.busy": "2024-09-16T06:38:14.461141Z",
     "iopub.status.idle": "2024-09-16T06:38:14.462986Z",
     "shell.execute_reply": "2024-09-16T06:38:14.462785Z"
    },
    "papermill": {
     "duration": null,
     "end_time": null,
     "exception": null,
     "start_time": null,
     "status": "completed"
    },
    "tags": []
   },
   "outputs": [],
   "source": [
    "\"\"\"\n",
    "Verify active excel workbook and sheet\n",
    "\"\"\"\n",
    "# print(xw.apps.active)\n",
    "# print(xw.books.active)\n",
    "# print(xw.sheets.active)"
   ]
  },
  {
   "cell_type": "code",
   "execution_count": null,
   "id": "ded9774f",
   "metadata": {
    "execution": {
     "iopub.execute_input": "2024-09-16T06:38:14.474856Z",
     "iopub.status.busy": "2024-09-16T06:38:14.474631Z",
     "iopub.status.idle": "2024-09-16T06:38:14.476327Z",
     "shell.execute_reply": "2024-09-16T06:38:14.476112Z"
    },
    "papermill": {
     "duration": null,
     "end_time": null,
     "exception": null,
     "start_time": null,
     "status": "completed"
    },
    "tags": []
   },
   "outputs": [],
   "source": [
    "# # Set named range for totals\n",
    "# sheet['D140:G144'].name = 'tot_nr'\n",
    "\n",
    "# # Assign values to cells by passing lists to the excel doc\n",
    "# sheet['tot_nr'][1,:].value = ['TOTAL HOURS', 0, 'TOTAL COST', '$0.00']\n",
    "# sheet['tot_nr'][2,:].value = ['', 'OTD', '0%', '$0.00']\n",
    "# sheet['tot_nr'][3,:].value = ['', '', 'GRAND TOTAL', '$0.00']\n",
    "\n",
    "# # Set font bold and color\n",
    "# sheet['tot_nr'][1:4,:].font.bold = True\n",
    "# sheet['tot_nr'][1:4,:].font.color = '#000000'\n",
    "\n",
    "# # Set formulas\n",
    "# sheet['tot_nr'][1,1].formula = '=(E139)'\n",
    "# sheet['tot_nr'][1,3].formula = '=(G139)'\n",
    "# sheet['tot_nr'][2,3].formula = '=(F142*G141)'\n",
    "# sheet['tot_nr'][3,3].formula = '=(G141-G142)'\n",
    "\n"
   ]
  },
  {
   "cell_type": "code",
   "execution_count": null,
   "id": "e633e6ab",
   "metadata": {
    "execution": {
     "iopub.execute_input": "2024-09-16T06:38:14.488013Z",
     "iopub.status.busy": "2024-09-16T06:38:14.487910Z",
     "iopub.status.idle": "2024-09-16T06:38:14.489255Z",
     "shell.execute_reply": "2024-09-16T06:38:14.489035Z"
    },
    "papermill": {
     "duration": null,
     "end_time": null,
     "exception": null,
     "start_time": null,
     "status": "completed"
    },
    "tags": []
   },
   "outputs": [],
   "source": [
    "# # td_range = sheet['tot_nr'][1:,1:4].options(expand='table')\n",
    "# td_range = sheet['tot_nr'].options(expand='table')\n",
    "# td_value = td_range.value\n",
    "# td_value"
   ]
  },
  {
   "cell_type": "code",
   "execution_count": null,
   "id": "9bbe399d",
   "metadata": {
    "execution": {
     "iopub.execute_input": "2024-09-16T06:38:14.500923Z",
     "iopub.status.busy": "2024-09-16T06:38:14.500825Z",
     "iopub.status.idle": "2024-09-16T06:38:14.502251Z",
     "shell.execute_reply": "2024-09-16T06:38:14.502024Z"
    },
    "papermill": {
     "duration": null,
     "end_time": null,
     "exception": null,
     "start_time": null,
     "status": "completed"
    },
    "tags": []
   },
   "outputs": [],
   "source": [
    "# \"\"\"\n",
    "# IMPORTANT - MacOS\n",
    "# Use appscript k function as a workaround because I use a macOS operating system\n",
    "# \"\"\" \n",
    "# from appscript import k"
   ]
  },
  {
   "cell_type": "code",
   "execution_count": null,
   "id": "810e35fb",
   "metadata": {
    "execution": {
     "iopub.execute_input": "2024-09-16T06:38:14.514215Z",
     "iopub.status.busy": "2024-09-16T06:38:14.514086Z",
     "iopub.status.idle": "2024-09-16T06:38:14.515768Z",
     "shell.execute_reply": "2024-09-16T06:38:14.515507Z"
    },
    "papermill": {
     "duration": null,
     "end_time": null,
     "exception": null,
     "start_time": null,
     "status": "completed"
    },
    "tags": []
   },
   "outputs": [],
   "source": [
    "# # Set totals border(s)\n",
    "# sheet['tot_nr'][1:4,:].api.get_border(which_border=k.border_top).weight.set(4)\n",
    "# sheet['tot_nr'][1:4,:].api.get_border(which_border=k.border_left).weight.set(4)\n",
    "# sheet['tot_nr'][1:4,:].api.get_border(which_border=k.border_bottom).weight.set(4)\n",
    "# sheet['tot_nr'][1:4,:].api.get_border(which_border=k.border_right).weight.set(4)\n",
    "\n",
    "# # Set line style\n",
    "# sheet['tot_nr'][1:4,:].api.get_border(which_border=k.border_top).line_style.set(1)\n"
   ]
  },
  {
   "cell_type": "code",
   "execution_count": null,
   "id": "c5fc730c",
   "metadata": {
    "execution": {
     "iopub.execute_input": "2024-09-16T06:38:14.528545Z",
     "iopub.status.busy": "2024-09-16T06:38:14.528423Z",
     "iopub.status.idle": "2024-09-16T06:38:14.530289Z",
     "shell.execute_reply": "2024-09-16T06:38:14.530062Z"
    },
    "papermill": {
     "duration": null,
     "end_time": null,
     "exception": null,
     "start_time": null,
     "status": "completed"
    },
    "tags": []
   },
   "outputs": [],
   "source": [
    "# \"\"\"\n",
    "# Set borders on overalys \n",
    "# \"\"\"\n",
    "# # Define\n",
    "# sheet['def_nr'][16:18,1:].api.get_border(which_border=k.border_top).weight.set(2)\n",
    "# sheet['def_nr'][16:18,1:].api.get_border(which_border=k.border_left).weight.set(2)\n",
    "# sheet['def_nr'][16:18,1:].api.get_border(which_border=k.border_bottom).weight.set(2)\n",
    "# sheet['def_nr'][16:18,1:].api.get_border(which_border=k.border_right).weight.set(2)\n",
    "\n",
    "# sheet['def_nr'][16:18,1:].api.get_border(which_border=k.border_top).line_style.set(1)\n",
    "\n",
    "# # Design\n",
    "# sheet['des_nr'][16:18,1:].api.get_border(which_border=k.border_top).weight.set(2)\n",
    "# sheet['des_nr'][16:18,1:].api.get_border(which_border=k.border_left).weight.set(2)\n",
    "# sheet['des_nr'][16:18,1:].api.get_border(which_border=k.border_bottom).weight.set(2)\n",
    "# sheet['des_nr'][16:18,1:].api.get_border(which_border=k.border_right).weight.set(2)\n",
    "\n",
    "# sheet['des_nr'][16:18,1:].api.get_border(which_border=k.border_top).line_style.set(1)\n",
    "\n",
    "\n",
    "# # Build\n",
    "# sheet['bld_nr'][15:18,1:].api.get_border(which_border=k.border_top).weight.set(2)\n",
    "# sheet['bld_nr'][15:18,1:].api.get_border(which_border=k.border_left).weight.set(2)\n",
    "# sheet['bld_nr'][15:18,1:].api.get_border(which_border=k.border_bottom).weight.set(2)\n",
    "# sheet['bld_nr'][15:18,1:].api.get_border(which_border=k.border_right).weight.set(2)\n",
    "\n",
    "# sheet['bld_nr'][15:18,1:].api.get_border(which_border=k.border_top).line_style.set(1)\n",
    "\n",
    "\n",
    "# # Transition\n",
    "# sheet['trn_nr'][16:18,1:].api.get_border(which_border=k.border_top).weight.set(2)\n",
    "# sheet['trn_nr'][16:18,1:].api.get_border(which_border=k.border_left).weight.set(2)\n",
    "# sheet['trn_nr'][16:18,1:].api.get_border(which_border=k.border_bottom).weight.set(2)\n",
    "# sheet['trn_nr'][16:18,1:].api.get_border(which_border=k.border_right).weight.set(2)\n",
    "\n",
    "# sheet['trn_nr'][16:18,1:].api.get_border(which_border=k.border_top).line_style.set(1)\n",
    "\n"
   ]
  },
  {
   "cell_type": "code",
   "execution_count": null,
   "id": "92decc6b",
   "metadata": {
    "execution": {
     "iopub.execute_input": "2024-09-16T06:38:14.542522Z",
     "iopub.status.busy": "2024-09-16T06:38:14.542409Z",
     "iopub.status.idle": "2024-09-16T06:38:14.544113Z",
     "shell.execute_reply": "2024-09-16T06:38:14.543899Z"
    },
    "papermill": {
     "duration": null,
     "end_time": null,
     "exception": null,
     "start_time": null,
     "status": "completed"
    },
    "tags": []
   },
   "outputs": [],
   "source": [
    "# \"\"\"\n",
    "# Build a math checker\n",
    "# -Do something later like IF 'GRAND TOTAL' == 'GRAND TOTAL' THEN font.color=green ELSE font.color=red\n",
    "# \"\"\"\n",
    "# # Set named range for totals\n",
    "# sheet['D145:G149'].name = 'chk_nr'\n",
    "\n",
    "# # Assign values to cells by passing lists to the excel doc\n",
    "# sheet['chk_nr'][0,0].value = 'MATH CHECKER'\n",
    "# sheet['chk_nr'][1,:].value = ['TOTAL HOURS', 0, 'TOTAL COST', '$0.00']\n",
    "\n",
    "# # Set color on math checker field\n",
    "# sheet['chk_nr'][0,0].font.color = '#E21A23'\n",
    "\n",
    "# # Set font bold and color\n",
    "# sheet['chk_nr'][0:2,:].font.bold = True\n",
    "# sheet['chk_nr'][1:2,:].font.color = '#000000'\n",
    "\n",
    "# # Set formulas\n",
    "# sheet['chk_nr'][1,1].formula = '=SUM(E18+E38+E58+E78+E98+E118+E138)' # Total hours\n",
    "# sheet['chk_nr'][1,3].formula = '=SUM(G18+G38+G58+G78+G98+G118+G138)' # Total cost\n",
    "\n",
    "# # Set border and line style\n",
    "# sheet['chk_nr'][1:2,:].api.get_border(which_border=k.border_top).weight.set(4)\n",
    "# sheet['chk_nr'][1:2,:].api.get_border(which_border=k.border_left).weight.set(4)\n",
    "# sheet['chk_nr'][1:2,:].api.get_border(which_border=k.border_bottom).weight.set(4)\n",
    "# sheet['chk_nr'][1:2,:].api.get_border(which_border=k.border_right).weight.set(4)\n",
    "\n",
    "# # Default line style is (1) and some weird error happened. Leaving out."
   ]
  },
  {
   "cell_type": "code",
   "execution_count": null,
   "id": "5e57868e",
   "metadata": {
    "execution": {
     "iopub.execute_input": "2024-09-16T06:38:14.556680Z",
     "iopub.status.busy": "2024-09-16T06:38:14.556561Z",
     "iopub.status.idle": "2024-09-16T06:38:14.558119Z",
     "shell.execute_reply": "2024-09-16T06:38:14.557909Z"
    },
    "papermill": {
     "duration": null,
     "end_time": null,
     "exception": null,
     "start_time": null,
     "status": "completed"
    },
    "tags": []
   },
   "outputs": [],
   "source": [
    "# # Import INPUT dataframes\n",
    "# env_df = pd.read_excel('sow_input_v5.0_beta.xlsx', sheet_name = 'ENVISION')\n",
    "# int_df = pd.read_excel('sow_input_v5.0_beta.xlsx', sheet_name = 'INITIATE')\n",
    "# # Skip DEFINE for now\n",
    "# des_df = pd.read_excel('sow_input_v5.0_beta.xlsx', sheet_name = 'DESIGN')\n",
    "# bld_df = pd.read_excel('sow_input_v5.0_beta.xlsx', sheet_name = 'BUILD')\n",
    "# trn_df = pd.read_excel('sow_input_v5.0_beta.xlsx', sheet_name = 'TRANSITION')\n",
    "# cls_df = pd.read_excel('sow_input_v5.0_beta.xlsx', sheet_name = 'CLOSE')"
   ]
  },
  {
   "cell_type": "code",
   "execution_count": null,
   "id": "1ebac589",
   "metadata": {
    "execution": {
     "iopub.execute_input": "2024-09-16T06:38:14.570447Z",
     "iopub.status.busy": "2024-09-16T06:38:14.570306Z",
     "iopub.status.idle": "2024-09-16T06:38:14.572079Z",
     "shell.execute_reply": "2024-09-16T06:38:14.571779Z"
    },
    "papermill": {
     "duration": null,
     "end_time": null,
     "exception": null,
     "start_time": null,
     "status": "completed"
    },
    "tags": []
   },
   "outputs": [],
   "source": [
    "# sheet['env_nr'][1:,1:].options(index=False, header=False).value = env_df\n",
    "# sheet['int_nr'][1:,1:].options(index=False, header=False).value = int_df\n",
    "# # Skip DEFINE\n",
    "# sheet['des_nr'][1:,1:].options(index=False, header=False).value = des_df\n",
    "# sheet['bld_nr'][1:,1:].options(index=False, header=False).value = bld_df\n",
    "# sheet['trn_nr'][1:,1:].options(index=False, header=False).value = trn_df\n",
    "# sheet['cls_nr'][1:,1:].options(index=False, header=False).value = cls_df"
   ]
  },
  {
   "cell_type": "code",
   "execution_count": null,
   "id": "5f36fe02",
   "metadata": {
    "execution": {
     "iopub.execute_input": "2024-09-16T06:38:14.584482Z",
     "iopub.status.busy": "2024-09-16T06:38:14.584363Z",
     "iopub.status.idle": "2024-09-16T06:38:14.585863Z",
     "shell.execute_reply": "2024-09-16T06:38:14.585657Z"
    },
    "papermill": {
     "duration": null,
     "end_time": null,
     "exception": null,
     "start_time": null,
     "status": "completed"
    },
    "tags": []
   },
   "outputs": [],
   "source": [
    "# Highlight \"BREAK INSERT HERE\" - This is where SOW input data is injected\n",
    "# sheet['bld_nr'][4,1:].color = '#ffff00'\n",
    "# sheet['def_nr'][4,1:].color = '#ffff00'"
   ]
  },
  {
   "cell_type": "code",
   "execution_count": null,
   "id": "4c186209",
   "metadata": {
    "execution": {
     "iopub.execute_input": "2024-09-16T06:38:14.598168Z",
     "iopub.status.busy": "2024-09-16T06:38:14.598033Z",
     "iopub.status.idle": "2024-09-16T06:38:14.599606Z",
     "shell.execute_reply": "2024-09-16T06:38:14.599373Z"
    },
    "papermill": {
     "duration": null,
     "end_time": null,
     "exception": null,
     "start_time": null,
     "status": "completed"
    },
    "tags": []
   },
   "outputs": [],
   "source": [
    "# \"\"\"\n",
    "# RATES & ROLES\n",
    "# \"\"\"\n",
    "# # Set roles rates named range\n",
    "# sheet['A150:G159'].name = 'rr_nr'\n",
    "\n",
    "# # Read in ROLES_RATES df \n",
    "# rr_df = pd.read_excel('sow_input_v5.0_beta.xlsx', sheet_name = 'ROLES_RATES')\n",
    "\n",
    "# rr_df = rr_df.iloc[0:7,:]\n",
    "\n",
    "# rr_df"
   ]
  },
  {
   "cell_type": "code",
   "execution_count": null,
   "id": "2d238239",
   "metadata": {
    "execution": {
     "iopub.execute_input": "2024-09-16T06:38:14.612108Z",
     "iopub.status.busy": "2024-09-16T06:38:14.611880Z",
     "iopub.status.idle": "2024-09-16T06:38:14.613720Z",
     "shell.execute_reply": "2024-09-16T06:38:14.613491Z"
    },
    "papermill": {
     "duration": null,
     "end_time": null,
     "exception": null,
     "start_time": null,
     "status": "completed"
    },
    "tags": []
   },
   "outputs": [],
   "source": [
    "# # Assign header value in excel\n",
    "# rr_header_list = ['ROLE', \n",
    "#                   'ROLE NAME', \n",
    "#                   'ROLE DESCRIPTION', \n",
    "#                   'STD RATE', \n",
    "#                   'DISCOUNT', \n",
    "#                   'DISCOUNT %', \n",
    "#                   'RATE']\n",
    "\n",
    "# sheet['rr_nr'][0,:].value = rr_header_list\n",
    "\n",
    "# # Insert rows rates dataframe \n",
    "# sheet['rr_nr'][1:,0:].options(index=False, header=False).value = rr_df\n",
    "\n",
    "# # Set 0% and $0.00 formatting\n",
    "# sheet['rr_nr'][1:,3].number_format = '$0.00' # STD RATE\n",
    "# sheet['rr_nr'][1:,4].number_format = '$0.00' # DISCOUNT\n",
    "# sheet['rr_nr'][1:,5].number_format = '0.0%' # DISCOUNT %\n",
    "# sheet['rr_nr'][1:,6].number_format = '$0.00' # NEGOTIATED RATE\n",
    "\n",
    "# # Set formula to calculate final rate from discount (discount applied manually by user)\n",
    "# sheet['rr_nr'][1:8,6].formula = '=(D151-E151)'\n",
    "\n",
    "# \"\"\"\n",
    "# Set discount formula\n",
    "# -Important for usability by non-technical user\n",
    "# \"\"\" \n",
    "\n",
    "# # Set formula to calculate discount perecentage\n",
    "# sheet['rr_nr'][1:8,5].formula = '=(E151/D151)'"
   ]
  },
  {
   "cell_type": "code",
   "execution_count": null,
   "id": "1f1573f3",
   "metadata": {
    "execution": {
     "iopub.execute_input": "2024-09-16T06:38:14.647215Z",
     "iopub.status.busy": "2024-09-16T06:38:14.647081Z",
     "iopub.status.idle": "2024-09-16T06:38:14.648889Z",
     "shell.execute_reply": "2024-09-16T06:38:14.648653Z"
    },
    "papermill": {
     "duration": null,
     "end_time": null,
     "exception": null,
     "start_time": null,
     "status": "completed"
    },
    "tags": []
   },
   "outputs": [],
   "source": [
    "# \"\"\" \n",
    "# Format roles and rates table in excel doc\n",
    "# \"\"\"\n",
    "# # Set bold header\n",
    "# sheet['rr_nr'][0,:].font.bold = True\n",
    "\n",
    "# # Set border and line style\n",
    "# sheet['rr_nr'][0:8,:].api.get_border(which_border=k.border_top).weight.set(4)\n",
    "# sheet['rr_nr'][0:8,:].api.get_border(which_border=k.border_left).weight.set(4)\n",
    "# sheet['rr_nr'][0:8,:].api.get_border(which_border=k.border_bottom).weight.set(4)\n",
    "# sheet['rr_nr'][0:8,:].api.get_border(which_border=k.border_right).weight.set(4)\n",
    "\n",
    "# # AGAIN default line style is (1) and some weird error happened. Leaving out."
   ]
  },
  {
   "cell_type": "code",
   "execution_count": null,
   "id": "474e85b8",
   "metadata": {
    "execution": {
     "iopub.execute_input": "2024-09-16T06:38:14.661223Z",
     "iopub.status.busy": "2024-09-16T06:38:14.661069Z",
     "iopub.status.idle": "2024-09-16T06:38:14.662825Z",
     "shell.execute_reply": "2024-09-16T06:38:14.662537Z"
    },
    "papermill": {
     "duration": null,
     "end_time": null,
     "exception": null,
     "start_time": null,
     "status": "completed"
    },
    "tags": []
   },
   "outputs": [],
   "source": [
    "# # Add define baseline tasks\n",
    "# def_df = pd.read_excel('sow_input_v5.0_beta.xlsx', sheet_name = 'DEFINE')\n",
    "# sheet['def_nr'][1:,1:].options(index=False, header=False).value = def_df"
   ]
  },
  {
   "cell_type": "code",
   "execution_count": null,
   "id": "25a84e49",
   "metadata": {
    "execution": {
     "iopub.execute_input": "2024-09-16T06:38:14.675868Z",
     "iopub.status.busy": "2024-09-16T06:38:14.675725Z",
     "iopub.status.idle": "2024-09-16T06:38:14.677635Z",
     "shell.execute_reply": "2024-09-16T06:38:14.677389Z"
    },
    "papermill": {
     "duration": null,
     "end_time": null,
     "exception": null,
     "start_time": null,
     "status": "completed"
    },
    "tags": []
   },
   "outputs": [],
   "source": [
    "# # Use VLOOKUP() to auto-apply rates or adjusted rates from excel doc roles and rates table\n",
    "\n",
    "# \"\"\"\n",
    "# Envision\n",
    "# \"\"\" \n",
    "# sheet['env_nr'][1:3, 5].formula = '=VLOOKUP(D3,$A$150:$G$157,7,FALSE)'\n",
    "\n",
    "# \"\"\"\n",
    "# Initiate\n",
    "# \"\"\" \n",
    "# sheet['int_nr'][1:9, 5].formula = '=VLOOKUP(D21,$A$150:$G$157,7,FALSE)'\n",
    "\n",
    "# \"\"\"\n",
    "# Define\n",
    "# -Leave out for now\n",
    "# \"\"\" \n",
    "# sheet['def_nr'][1:5, 5].formula = '=VLOOKUP(D41,$A$150:$G$157,7,FALSE)'\n",
    "\n",
    "# \"\"\"\n",
    "# Design\n",
    "# \"\"\" \n",
    "# sheet['des_nr'][1:4, 5].formula = '=VLOOKUP(D61,$A$150:$G$157,7,FALSE)'\n",
    "\n",
    "# \"\"\"\n",
    "# Build\n",
    "# \"\"\" \n",
    "# sheet['bld_nr'][1:5, 5].formula = '=VLOOKUP(D81,$A$150:$G$157,7,FALSE)'\n",
    "\n",
    "# \"\"\"\n",
    "# Transition\n",
    "# \"\"\" \n",
    "# sheet['trn_nr'][1:13, 5].formula = '=VLOOKUP(D101,$A$150:$G$157,7,FALSE)'\n",
    "\n",
    "# \"\"\"\n",
    "# Close\n",
    "# \"\"\" \n",
    "# sheet['cls_nr'][1:6, 5].formula = '=VLOOKUP(D121,$A$150:$G$157,7,FALSE)'"
   ]
  },
  {
   "cell_type": "code",
   "execution_count": null,
   "id": "00ad24a6",
   "metadata": {
    "execution": {
     "iopub.execute_input": "2024-09-16T06:38:14.690163Z",
     "iopub.status.busy": "2024-09-16T06:38:14.690012Z",
     "iopub.status.idle": "2024-09-16T06:38:14.691667Z",
     "shell.execute_reply": "2024-09-16T06:38:14.691368Z"
    },
    "papermill": {
     "duration": null,
     "end_time": null,
     "exception": null,
     "start_time": null,
     "status": "completed"
    },
    "tags": []
   },
   "outputs": [],
   "source": [
    "# # Overlays\n",
    "# sheet['def_nr'][16:18, 5].formula = '=VLOOKUP(D56,$A$150:$G$157,7,FALSE)'\n",
    "# sheet['des_nr'][16:18, 5].formula = '=VLOOKUP(D76,$A$150:$G$157,7,FALSE)'\n",
    "# sheet['bld_nr'][15:18, 5].formula = '=VLOOKUP(D95,$A$150:$G$157,7,FALSE)'\n",
    "# sheet['trn_nr'][16:18, 5].formula = '=VLOOKUP(D116,$A$150:$G$157,7,FALSE)'"
   ]
  },
  {
   "cell_type": "code",
   "execution_count": null,
   "id": "d174e2d7",
   "metadata": {
    "execution": {
     "iopub.execute_input": "2024-09-16T06:38:14.704738Z",
     "iopub.status.busy": "2024-09-16T06:38:14.704604Z",
     "iopub.status.idle": "2024-09-16T06:38:14.706505Z",
     "shell.execute_reply": "2024-09-16T06:38:14.706154Z"
    },
    "papermill": {
     "duration": null,
     "end_time": null,
     "exception": null,
     "start_time": null,
     "status": "completed"
    },
    "tags": []
   },
   "outputs": [],
   "source": [
    "# # Save workbook then close workbook (manually)\n",
    "# book_number = 'book01.xlsx'\n",
    "# wb.save(book_number)\n",
    "# # wb.close() # Nice feature to save and close"
   ]
  },
  {
   "attachments": {},
   "cell_type": "markdown",
   "id": "1150e0cb",
   "metadata": {
    "papermill": {
     "duration": null,
     "end_time": null,
     "exception": null,
     "start_time": null,
     "status": "completed"
    },
    "tags": []
   },
   "source": [
    "#### All working above this lien\n",
    "-Baseline template completed"
   ]
  },
  {
   "cell_type": "code",
   "execution_count": null,
   "id": "69437990",
   "metadata": {
    "execution": {
     "iopub.execute_input": "2024-09-16T06:38:14.730508Z",
     "iopub.status.busy": "2024-09-16T06:38:14.730349Z",
     "iopub.status.idle": "2024-09-16T06:38:14.732066Z",
     "shell.execute_reply": "2024-09-16T06:38:14.731772Z"
    },
    "papermill": {
     "duration": null,
     "end_time": null,
     "exception": null,
     "start_time": null,
     "status": "completed"
    },
    "tags": []
   },
   "outputs": [],
   "source": [
    "# # Read in ITSM define\n",
    "# itsm_df = pd.read_excel('sow_input_v5.0_beta.xlsx', sheet_name = 'ITSM')\n",
    "\n",
    "# itsm_df.head()\n"
   ]
  },
  {
   "attachments": {},
   "cell_type": "markdown",
   "id": "95801975",
   "metadata": {
    "papermill": {
     "duration": null,
     "end_time": null,
     "exception": null,
     "start_time": null,
     "status": "completed"
    },
    "tags": []
   },
   "source": []
  },
  {
   "cell_type": "code",
   "execution_count": null,
   "id": "0f07422e",
   "metadata": {
    "execution": {
     "iopub.execute_input": "2024-09-16T06:38:14.756588Z",
     "iopub.status.busy": "2024-09-16T06:38:14.756441Z",
     "iopub.status.idle": "2024-09-16T06:38:14.758440Z",
     "shell.execute_reply": "2024-09-16T06:38:14.758192Z"
    },
    "papermill": {
     "duration": null,
     "end_time": null,
     "exception": null,
     "start_time": null,
     "status": "completed"
    },
    "tags": []
   },
   "outputs": [],
   "source": [
    "# \"\"\"\n",
    "# Slicing (filtering itsm dataframe based on license entitlement)\n",
    "\n",
    "# \"\"\"\n",
    "# # Slice dataframe using boolean indexing (like auto-filter in excel)\n",
    "# itsm_lic_ent = 'standard' # Set license entitlement one (1) time here\n",
    "# itsm_filt = (itsm_df[itsm_lic_ent] == 'Y')\n",
    "# itsm_filt_df = itsm_df.loc[itsm_filt, :]\n",
    "\n",
    "# itsm_filt_df\n"
   ]
  },
  {
   "cell_type": "code",
   "execution_count": null,
   "id": "b987cdcf",
   "metadata": {
    "execution": {
     "iopub.execute_input": "2024-09-16T06:38:14.771256Z",
     "iopub.status.busy": "2024-09-16T06:38:14.770999Z",
     "iopub.status.idle": "2024-09-16T06:38:14.773047Z",
     "shell.execute_reply": "2024-09-16T06:38:14.772665Z"
    },
    "papermill": {
     "duration": null,
     "end_time": null,
     "exception": null,
     "start_time": null,
     "status": "completed"
    },
    "tags": []
   },
   "outputs": [],
   "source": [
    "# itsm_def_df = itsm_filt_df.iloc[:,1:5] # Important start from task column\n",
    "\n",
    "# itsm_def_df"
   ]
  },
  {
   "cell_type": "code",
   "execution_count": null,
   "id": "cd6bf103",
   "metadata": {
    "execution": {
     "iopub.execute_input": "2024-09-16T06:38:14.785971Z",
     "iopub.status.busy": "2024-09-16T06:38:14.785789Z",
     "iopub.status.idle": "2024-09-16T06:38:14.787832Z",
     "shell.execute_reply": "2024-09-16T06:38:14.787388Z"
    },
    "papermill": {
     "duration": null,
     "end_time": null,
     "exception": null,
     "start_time": null,
     "status": "completed"
    },
    "tags": []
   },
   "outputs": [],
   "source": [
    "# # Read in ITSM build\n",
    "# itsm_exe_df = pd.read_excel('sow_input_v5.0_beta.xlsx', sheet_name = 'ITSM_BUILD')\n",
    "# itsm_exe_df\n",
    "\n",
    "# # Slice dataframe\n",
    "# # itsm_lic_ent = 'standard'\n",
    "# itsm_filt_bld = (itsm_exe_df[itsm_lic_ent] == 'Y')\n",
    "# itsm_filt_bld_df = itsm_exe_df.loc[itsm_filt_bld, :]\n",
    "\n",
    "# itsm_bld_df = itsm_filt_bld_df.iloc[:,1:5] # Important start from feature columns\n",
    "\n",
    "# itsm_bld_df"
   ]
  },
  {
   "cell_type": "code",
   "execution_count": null,
   "id": "ae7a9210",
   "metadata": {
    "execution": {
     "iopub.execute_input": "2024-09-16T06:38:14.800690Z",
     "iopub.status.busy": "2024-09-16T06:38:14.800524Z",
     "iopub.status.idle": "2024-09-16T06:38:14.802760Z",
     "shell.execute_reply": "2024-09-16T06:38:14.802456Z"
    },
    "papermill": {
     "duration": null,
     "end_time": null,
     "exception": null,
     "start_time": null,
     "status": "completed"
    },
    "tags": []
   },
   "outputs": [],
   "source": [
    "\"\"\"\n",
    "Insert new rows to create space for workshop and build tasks / features\n",
    "\"\"\"\n",
    "# sheet['def_nr'][5:16,:].insert(shift='down', copy_origin='format_from_left_or_above')\n",
    "# sheet['bld_nr'][6:16,:].insert(shift='down', copy_origin='format_from_right_or_below')"
   ]
  },
  {
   "cell_type": "code",
   "execution_count": null,
   "id": "f0b79f33",
   "metadata": {
    "execution": {
     "iopub.execute_input": "2024-09-16T06:38:14.815474Z",
     "iopub.status.busy": "2024-09-16T06:38:14.815320Z",
     "iopub.status.idle": "2024-09-16T06:38:14.817784Z",
     "shell.execute_reply": "2024-09-16T06:38:14.817537Z"
    },
    "papermill": {
     "duration": null,
     "end_time": null,
     "exception": null,
     "start_time": null,
     "status": "completed"
    },
    "tags": []
   },
   "outputs": [],
   "source": [
    "# Set borders top, left, right, bottom\n",
    "# sheet.range('B150:G160').value = 'sudz'\n",
    "# sheet.range('B150:G160').api.get_border(which_border=k.border_top).weight.set(3)\n",
    "# sheet.range('B150:G160').api.get_border(which_border=k.border_left).weight.set(3)\n",
    "# sheet.range('B150:G160').api.get_border(which_border=k.border_right).weight.set(3)\n",
    "# sheet.range('B150:G160').api.get_border(which_border=k.border_bottom).weight.set(3)\n",
    "\n",
    "\"\"\"\n",
    "https://learn.microsoft.com/en-US/dotnet/api/microsoft.office.interop.excel.xllinestyle?view=excel-pia\n",
    "\"\"\"\n",
    "# Line style examples\n",
    "# sheet.range('B150:G160').api.get_border(which_border=k.border_top).line_style.set(1) # Continuous line\n",
    "# sheet.range('B150:G160').api.get_border(which_border=k.border_top).line_style.set(-4115) # Dashed line\n",
    "# sheet.range('B150:G160').api.get_border(which_border=k.border_top).line_style.set(4) # Alternating dashes and dots\n",
    "# sheet.range('B150:G160').api.get_border(which_border=k.border_top).line_style.set(5) # Dash followed by two dots\n",
    "# sheet.range('B150:G160').api.get_border(which_border=k.border_top).line_style.set(-4118) # Dotted line\n",
    "# sheet.range('B150:G160').api.get_border(which_border=k.border_top).line_style.set(-4119) # Double line\n",
    "# sheet.range('B150:G160').api.get_border(which_border=k.border_top).line_style.set(-4142) # No line\n",
    "# sheet.range('B150:G160').api.get_border(which_border=k.border_top).line_style.set(13) # Slanted dashes\n",
    "\n"
   ]
  },
  {
   "cell_type": "code",
   "execution_count": null,
   "id": "26577e9c",
   "metadata": {
    "execution": {
     "iopub.execute_input": "2024-09-16T06:38:14.830679Z",
     "iopub.status.busy": "2024-09-16T06:38:14.830524Z",
     "iopub.status.idle": "2024-09-16T06:38:14.832236Z",
     "shell.execute_reply": "2024-09-16T06:38:14.831979Z"
    },
    "papermill": {
     "duration": null,
     "end_time": null,
     "exception": null,
     "start_time": null,
     "status": "completed"
    },
    "tags": []
   },
   "outputs": [],
   "source": [
    "# # Save workbook then close workbook (manually)\n",
    "# book_number = 'book18.xlsx'\n",
    "# wb.save(book_number)\n",
    "# wb.close() # Nice feature to save an close"
   ]
  },
  {
   "cell_type": "code",
   "execution_count": null,
   "id": "fc6800df",
   "metadata": {
    "execution": {
     "iopub.execute_input": "2024-09-16T06:38:14.845517Z",
     "iopub.status.busy": "2024-09-16T06:38:14.845366Z",
     "iopub.status.idle": "2024-09-16T06:38:14.847185Z",
     "shell.execute_reply": "2024-09-16T06:38:14.846863Z"
    },
    "papermill": {
     "duration": null,
     "end_time": null,
     "exception": null,
     "start_time": null,
     "status": "completed"
    },
    "tags": []
   },
   "outputs": [],
   "source": [
    "# # Reopen workbook\n",
    "# wb = xw.Book(book_number)\n",
    "# sheet = wb.sheets[0] "
   ]
  },
  {
   "cell_type": "code",
   "execution_count": null,
   "id": "bfb0bb70",
   "metadata": {
    "execution": {
     "iopub.execute_input": "2024-09-16T06:38:14.860325Z",
     "iopub.status.busy": "2024-09-16T06:38:14.860195Z",
     "iopub.status.idle": "2024-09-16T06:38:14.862888Z",
     "shell.execute_reply": "2024-09-16T06:38:14.862618Z"
    },
    "papermill": {
     "duration": null,
     "end_time": null,
     "exception": null,
     "start_time": null,
     "status": "completed"
    },
    "tags": []
   },
   "outputs": [],
   "source": [
    "\"\"\"\n",
    "Different ways to create a dataframe refresher\n",
    "\n",
    "Using a list\n",
    "List of lists\n",
    "Dictionary\n",
    "List of dictionaries\n",
    "Zip function\n",
    "Dictionary of series\n",
    "\"\"\" \n",
    "\n",
    "# List\n",
    "# lst = [1,2,3,4,5]\n",
    "# df = pd.DataFrame(lst)\n",
    "# df\n",
    "\n",
    "# List of lists\n",
    "# lst = [[1,2,3,4,5], [10,20,30,40,50]]\n",
    "# df = pd.DataFrame(lst)\n",
    "# df\n",
    "\n",
    "# List of lists 2\n",
    "# lst = [['Anna', 10], ['Bob', 20], ['Charlie', 30]]\n",
    "# df = pd.DataFrame(lst)\n",
    "# df\n",
    "\n",
    "# Dictionary\n",
    "# data = {'Name':['Anna', 'Bob', 'Charlie'],\n",
    "#         'Score': [95, 74, 56]\n",
    "#         }\n",
    "\n",
    "# df = pd.DataFrame(data)\n",
    "# df\n",
    "\n",
    "# # List of dictionaries\n",
    "# lst = [{'a':'blue', 'b':2, 'c':3},\n",
    "#        {'a':45, 'b':89, 'c':90},\n",
    "#        {'a':45, 'b':89}\n",
    "#        ]\n",
    "\n",
    "# df = pd.DataFrame(lst)\n",
    "# df\n",
    "\n",
    "# Zip function\n",
    "# Dictionary of series"
   ]
  },
  {
   "cell_type": "code",
   "execution_count": null,
   "id": "17734c25",
   "metadata": {
    "execution": {
     "iopub.execute_input": "2024-09-16T06:38:14.876458Z",
     "iopub.status.busy": "2024-09-16T06:38:14.876305Z",
     "iopub.status.idle": "2024-09-16T06:38:14.878016Z",
     "shell.execute_reply": "2024-09-16T06:38:14.877744Z"
    },
    "papermill": {
     "duration": null,
     "end_time": null,
     "exception": null,
     "start_time": null,
     "status": "completed"
    },
    "tags": []
   },
   "outputs": [],
   "source": [
    "# def scribe(nr, ):\n",
    "#     sheet[nr].last_cell.row, sheet[nr].last_cell.column"
   ]
  },
  {
   "cell_type": "code",
   "execution_count": null,
   "id": "cef3eff7",
   "metadata": {
    "execution": {
     "iopub.execute_input": "2024-09-16T06:38:14.891518Z",
     "iopub.status.busy": "2024-09-16T06:38:14.891385Z",
     "iopub.status.idle": "2024-09-16T06:38:14.892971Z",
     "shell.execute_reply": "2024-09-16T06:38:14.892723Z"
    },
    "papermill": {
     "duration": null,
     "end_time": null,
     "exception": null,
     "start_time": null,
     "status": "completed"
    },
    "tags": []
   },
   "outputs": [],
   "source": [
    "# nr_last_row = sheet['env_nr'].last_cell.row\n",
    "# nr_last_column = sheet['env_nr'].last_cell.columns\n",
    "\n",
    "# sheet['env_nr'][1:,0:]\n",
    "\n",
    "\n",
    "# scribe_row = sheet['env_nr'].last_cell.row-2\n",
    "# scribe_row\n"
   ]
  },
  {
   "cell_type": "code",
   "execution_count": null,
   "id": "1e396364",
   "metadata": {
    "execution": {
     "iopub.execute_input": "2024-09-16T06:38:14.906308Z",
     "iopub.status.busy": "2024-09-16T06:38:14.906127Z",
     "iopub.status.idle": "2024-09-16T06:38:14.907960Z",
     "shell.execute_reply": "2024-09-16T06:38:14.907664Z"
    },
    "papermill": {
     "duration": null,
     "end_time": null,
     "exception": null,
     "start_time": null,
     "status": "completed"
    },
    "tags": []
   },
   "outputs": [],
   "source": [
    "# sheet['env_nr'][scribe_row,0].color = '#704214'"
   ]
  },
  {
   "attachments": {},
   "cell_type": "markdown",
   "id": "fcd1e7f9",
   "metadata": {
    "papermill": {
     "duration": null,
     "end_time": null,
     "exception": null,
     "start_time": null,
     "status": "completed"
    },
    "tags": []
   },
   "source": []
  },
  {
   "attachments": {},
   "cell_type": "markdown",
   "id": "b6941362",
   "metadata": {
    "papermill": {
     "duration": null,
     "end_time": null,
     "exception": null,
     "start_time": null,
     "status": "completed"
    },
    "tags": []
   },
   "source": [
    "#### More base formatting can go here\n",
    "Think things like formatting columns and formulas\n",
    "FORMULAS overlays"
   ]
  },
  {
   "cell_type": "code",
   "execution_count": null,
   "id": "03b8be73",
   "metadata": {
    "execution": {
     "iopub.execute_input": "2024-09-16T06:38:14.943330Z",
     "iopub.status.busy": "2024-09-16T06:38:14.943173Z",
     "iopub.status.idle": "2024-09-16T06:38:14.944892Z",
     "shell.execute_reply": "2024-09-16T06:38:14.944621Z"
    },
    "papermill": {
     "duration": null,
     "end_time": null,
     "exception": null,
     "start_time": null,
     "status": "completed"
    },
    "tags": []
   },
   "outputs": [],
   "source": [
    "# Last cell practice\n",
    "# print(sheet['env_nr'].last_cell.column)\n",
    "# print(sheet['int_nr'].last_cell.column)\n",
    "# print(sheet['def_nr'].last_cell.column)\n",
    "# print(sheet['env_nr'].last_cell.row)\n",
    "# print(sheet['int_nr'].last_cell.row)\n",
    "# print(sheet['def_nr'].last_cell.row)\n",
    "\n",
    "# sheet['def_nr'].last_cell.row, sheet['def_nr'].last_cell.columns"
   ]
  },
  {
   "attachments": {},
   "cell_type": "markdown",
   "id": "2b9b889f",
   "metadata": {
    "papermill": {
     "duration": null,
     "end_time": null,
     "exception": null,
     "start_time": null,
     "status": "completed"
    },
    "tags": []
   },
   "source": [
    "#### Read in data"
   ]
  },
  {
   "cell_type": "code",
   "execution_count": null,
   "id": "462e2b2b",
   "metadata": {
    "execution": {
     "iopub.execute_input": "2024-09-16T06:38:14.969771Z",
     "iopub.status.busy": "2024-09-16T06:38:14.969610Z",
     "iopub.status.idle": "2024-09-16T06:38:14.971499Z",
     "shell.execute_reply": "2024-09-16T06:38:14.971215Z"
    },
    "papermill": {
     "duration": null,
     "end_time": null,
     "exception": null,
     "start_time": null,
     "status": "completed"
    },
    "tags": []
   },
   "outputs": [],
   "source": [
    "# env_df = pd.read_excel('sow_input_v4.0_beta.xlsx', sheet_name='ENVISION')  \n",
    "# int_df = pd.read_excel('sow_input_v4.0_beta.xlsx', sheet_name='INITIATE')    \n",
    "# des_df = pd.read_excel('sow_input_v4.0_beta.xlsx', sheet_name='DESIGN')\n",
    "# trn_df = pd.read_excel('sow_input_v4.0_beta.xlsx', sheet_name='TRANSITION')\n",
    "# cls_df = pd.read_excel('sow_input_v4.0_beta.xlsx', sheet_name='CLOSE')"
   ]
  },
  {
   "cell_type": "code",
   "execution_count": null,
   "id": "553ff0c5",
   "metadata": {
    "execution": {
     "iopub.execute_input": "2024-09-16T06:38:14.984258Z",
     "iopub.status.busy": "2024-09-16T06:38:14.984105Z",
     "iopub.status.idle": "2024-09-16T06:38:14.985877Z",
     "shell.execute_reply": "2024-09-16T06:38:14.985612Z"
    },
    "papermill": {
     "duration": null,
     "end_time": null,
     "exception": null,
     "start_time": null,
     "status": "completed"
    },
    "tags": []
   },
   "outputs": [],
   "source": [
    "# sheet['env_nr'][1,1].options(index=False, header=False).value = env_df\n",
    "# sheet['int_nr'][1,1].options(index=False, header=False).value = int_df\n",
    "# sheet['des_nr'][1,1].options(index=False, header=False).value = des_df\n",
    "# sheet['trn_nr'][1,1].options(index=False, header=False).value = trn_df\n",
    "# sheet['cls_nr'][1,1].options(index=False, header=False).value = cls_df"
   ]
  },
  {
   "cell_type": "code",
   "execution_count": null,
   "id": "56ac5710",
   "metadata": {
    "execution": {
     "iopub.execute_input": "2024-09-16T06:38:15.000113Z",
     "iopub.status.busy": "2024-09-16T06:38:14.999958Z",
     "iopub.status.idle": "2024-09-16T06:38:15.001733Z",
     "shell.execute_reply": "2024-09-16T06:38:15.001444Z"
    },
    "papermill": {
     "duration": null,
     "end_time": null,
     "exception": null,
     "start_time": null,
     "status": "completed"
    },
    "tags": []
   },
   "outputs": [],
   "source": [
    "# sheet.range('G4').number_format = '$0.00'"
   ]
  },
  {
   "cell_type": "code",
   "execution_count": null,
   "id": "555a45b4",
   "metadata": {
    "execution": {
     "iopub.execute_input": "2024-09-16T06:38:15.014541Z",
     "iopub.status.busy": "2024-09-16T06:38:15.014389Z",
     "iopub.status.idle": "2024-09-16T06:38:15.016049Z",
     "shell.execute_reply": "2024-09-16T06:38:15.015786Z"
    },
    "papermill": {
     "duration": null,
     "end_time": null,
     "exception": null,
     "start_time": null,
     "status": "completed"
    },
    "tags": []
   },
   "outputs": [],
   "source": [
    "# sheet.range('A3').api.entirerow.insert()"
   ]
  },
  {
   "cell_type": "code",
   "execution_count": null,
   "id": "23f7fab4",
   "metadata": {
    "execution": {
     "iopub.execute_input": "2024-09-16T06:38:15.029924Z",
     "iopub.status.busy": "2024-09-16T06:38:15.029656Z",
     "iopub.status.idle": "2024-09-16T06:38:15.031570Z",
     "shell.execute_reply": "2024-09-16T06:38:15.031220Z"
    },
    "papermill": {
     "duration": null,
     "end_time": null,
     "exception": null,
     "start_time": null,
     "status": "completed"
    },
    "tags": []
   },
   "outputs": [],
   "source": [
    "# empty_row_data = ['','','','','','','']"
   ]
  },
  {
   "cell_type": "code",
   "execution_count": null,
   "id": "5d691ddc",
   "metadata": {
    "execution": {
     "iopub.execute_input": "2024-09-16T06:38:15.044942Z",
     "iopub.status.busy": "2024-09-16T06:38:15.044799Z",
     "iopub.status.idle": "2024-09-16T06:38:15.046398Z",
     "shell.execute_reply": "2024-09-16T06:38:15.046131Z"
    },
    "papermill": {
     "duration": null,
     "end_time": null,
     "exception": null,
     "start_time": null,
     "status": "completed"
    },
    "tags": []
   },
   "outputs": [],
   "source": [
    "# sheet['env_nr'][1,5].value = '$0.00'\n",
    "# sheet['int_nr'][1,5].value = '$0.00'\n",
    "# sheet['def_nr'][1,5].value = '$0.00'\n",
    "# sheet['des_nr'][1,5].value = '$0.00'\n",
    "# sheet['bld_nr'][1,5].value = '$0.00'\n",
    "# sheet['trn_nr'][1,5].value = '$0.00'\n",
    "# sheet['cls_nr'][1,5].value = '$0.00'\n"
   ]
  }
 ],
 "metadata": {
  "kernelspec": {
   "display_name": "sowmachine_venv",
   "language": "python",
   "name": "python3"
  },
  "language_info": {
   "codemirror_mode": {
    "name": "ipython",
    "version": 3
   },
   "file_extension": ".py",
   "mimetype": "text/x-python",
   "name": "python",
   "nbconvert_exporter": "python",
   "pygments_lexer": "ipython3",
   "version": "3.11.1"
  },
  "papermill": {
   "default_parameters": {},
   "duration": 0.01124,
   "end_time": "2025-04-25T20:03:55.161528",
   "environment_variables": {},
   "exception": null,
   "input_path": "1_main.ipynb",
   "output_path": "1_main.ipynb",
   "parameters": {},
   "start_time": "2025-04-25T20:03:55.150288",
   "version": "2.6.0"
  },
  "vscode": {
   "interpreter": {
    "hash": "fb97792c95ecc40909c77d7c0c5a2e301450a97269f294267b9ea907136fa9f0"
   }
  }
 },
 "nbformat": 4,
 "nbformat_minor": 5
}