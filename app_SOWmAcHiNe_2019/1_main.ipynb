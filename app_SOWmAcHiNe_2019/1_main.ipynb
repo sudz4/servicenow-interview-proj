{
 "cells": [
  {
   "attachments": {},
   "cell_type": "markdown",
   "id": "41779aa7",
   "metadata": {
    "papermill": {
     "duration": 0.017255,
     "end_time": "2024-09-16T06:00:47.380449",
     "exception": false,
     "start_time": "2024-09-16T06:00:47.363194",
     "status": "completed"
    },
    "tags": []
   },
   "source": [
    "| MAIN BASELINE TEMPLATE | Create baseline Statement of Work (SOW) Excel template |\n",
    "| ----------- | ----------- |"
   ]
  },
  {
   "cell_type": "code",
   "execution_count": 1,
   "id": "42921163",
   "metadata": {
    "execution": {
     "iopub.execute_input": "2024-09-16T06:00:47.398487Z",
     "iopub.status.busy": "2024-09-16T06:00:47.398263Z",
     "iopub.status.idle": "2024-09-16T06:00:47.946122Z",
     "shell.execute_reply": "2024-09-16T06:00:47.945839Z"
    },
    "papermill": {
     "duration": 0.557351,
     "end_time": "2024-09-16T06:00:47.947116",
     "exception": false,
     "start_time": "2024-09-16T06:00:47.389765",
     "status": "completed"
    },
    "tags": []
   },
   "outputs": [],
   "source": [
    "import xlwings as xw\n",
    "from openpyxl import Workbook, load_workbook\n",
    "import xlsxwriter \n",
    "\n",
    "import pandas as pd\n",
    "import numpy as np\n",
    "import datetime as dt \n",
    "import time\n",
    "import sys\n",
    "\n",
    "\"\"\"\n",
    "Latest xlwings release: v0.27.15\n",
    "https://www.xlwings.org/\n",
    "\n",
    "\"\"\"\n",
    "xw.__version__ \n",
    "\n",
    "from appscript import k"
   ]
  },
  {
   "cell_type": "code",
   "execution_count": 2,
   "id": "2f1574e6",
   "metadata": {
    "execution": {
     "iopub.execute_input": "2024-09-16T06:00:47.957773Z",
     "iopub.status.busy": "2024-09-16T06:00:47.957628Z",
     "iopub.status.idle": "2024-09-16T06:00:50.086608Z",
     "shell.execute_reply": "2024-09-16T06:00:50.086149Z"
    },
    "papermill": {
     "duration": 2.135706,
     "end_time": "2024-09-16T06:00:50.087979",
     "exception": false,
     "start_time": "2024-09-16T06:00:47.952273",
     "status": "completed"
    },
    "tags": []
   },
   "outputs": [],
   "source": [
    "# Connect to unsaved book (looks in all Excel instances)\n",
    "wb = xw.Book()\n",
    "\n",
    "# Create a sheet object (and reference first sheet)\n",
    "sheet = wb.sheets[0] # Uses standard python indexing\n",
    "\n",
    "sow_header_list = ['stage',\n",
    "                   'task',\n",
    "                   'task_details',\n",
    "                   'role',\n",
    "                   'hours',\n",
    "                   'rate',\n",
    "                   'cost']\n",
    "\n",
    "# print(sow_header_list)\n",
    "# print(len(sow_header_list))\n",
    "\n",
    "\"\"\"\n",
    "This is my 'Hello World'\n",
    "\n",
    "\"\"\"\n",
    "\n",
    "# Datetime (start)\n",
    "sheet.range('H2').value = dt.datetime.now()\n",
    "\n",
    "# Add space in column to be able to see the time element and not ######## I am using as the \"Hello World\"\n",
    "sheet.range('H:H').column_width = 15\n",
    "\n",
    "# Index notation (1-based like excel)\n",
    "sheet.range((2,8)).value # Verify date in both excel and python terminal or jupyter output\n",
    "\n",
    "# Create SOW header from list\n",
    "sheet.range((1,1)).value = sow_header_list # Horizontal (row)\n",
    "sheet.range('A1:G1').font.bold = True"
   ]
  },
  {
   "cell_type": "code",
   "execution_count": 3,
   "id": "5f473083",
   "metadata": {
    "execution": {
     "iopub.execute_input": "2024-09-16T06:00:50.101257Z",
     "iopub.status.busy": "2024-09-16T06:00:50.101078Z",
     "iopub.status.idle": "2024-09-16T06:00:50.208864Z",
     "shell.execute_reply": "2024-09-16T06:00:50.208511Z"
    },
    "papermill": {
     "duration": 0.116054,
     "end_time": "2024-09-16T06:00:50.209943",
     "exception": false,
     "start_time": "2024-09-16T06:00:50.093889",
     "status": "completed"
    },
    "tags": []
   },
   "outputs": [],
   "source": [
    "# Set global named range\n",
    "sheet.range('A1:G500').name = 'sow_nr'\n",
    "\n",
    "sow_brd_loc = sheet['sow_nr'][0:179,:]\n",
    "\n",
    "# Set border around excel SOW\n",
    "sow_brd_loc[-1,:].api.get_border(which_border=k.border_bottom).weight.set(4)\n",
    "sow_brd_loc[:,-1].api.get_border(which_border=k.border_right).weight.set(4)\n",
    "sow_brd_loc[0,:].api.get_border(which_border=k.border_top).weight.set(4)\n",
    "sow_brd_loc[:,0].api.get_border(which_border=k.border_left).weight.set(4)"
   ]
  },
  {
   "cell_type": "code",
   "execution_count": 4,
   "id": "acd97514",
   "metadata": {
    "execution": {
     "iopub.execute_input": "2024-09-16T06:00:50.225796Z",
     "iopub.status.busy": "2024-09-16T06:00:50.225603Z",
     "iopub.status.idle": "2024-09-16T06:00:50.809274Z",
     "shell.execute_reply": "2024-09-16T06:00:50.808989Z"
    },
    "papermill": {
     "duration": 0.593304,
     "end_time": "2024-09-16T06:00:50.810273",
     "exception": false,
     "start_time": "2024-09-16T06:00:50.216969",
     "status": "completed"
    },
    "tags": []
   },
   "outputs": [],
   "source": [
    "# Set phases\n",
    "sheet['sow_nr'][1,0].value = 'pre-kickoff'\n",
    "sheet['sow_nr'][19,0].value = 'inititiate'\n",
    "sheet['sow_nr'][39,0].value = 'define'\n",
    "sheet['sow_nr'][79,0].value = 'design'\n",
    "sheet['sow_nr'][99,0].value = 'build'\n",
    "sheet['sow_nr'][139,0].value = 'transition'\n",
    "sheet['sow_nr'][159,0].value = 'close'\n",
    "\n",
    "# Set phases\n",
    "sheet['sow_nr'][1,0].font.bold = True\n",
    "sheet['sow_nr'][19,0].font.bold = True\n",
    "sheet['sow_nr'][39,0].font.bold = True\n",
    "sheet['sow_nr'][79,0].font.bold = True\n",
    "sheet['sow_nr'][99,0].font.bold = True\n",
    "sheet['sow_nr'][139,0].font.bold = True\n",
    "sheet['sow_nr'][159,0].font.bold = True\n",
    "\n",
    "# Set phase named ranges\n",
    "sheet['A2:G19'].name = 'env_nr'\n",
    "sheet['A20:G39'].name = 'int_nr'\n",
    "sheet['A40:G79'].name = 'def_nr'\n",
    "sheet['A80:G99'].name = 'des_nr'\n",
    "sheet['A100:G139'].name = 'bld_nr'\n",
    "sheet['A140:G159'].name = 'trn_nr'\n",
    "sheet['A160:G179'].name = 'cls_nr'\n",
    "\n",
    "# Set phase divider color\n",
    "sheet['env_nr'][0,:].color = '#E21A23'\n",
    "sheet['int_nr'][0,:].color = '#1C0221'\n",
    "sheet['def_nr'][0,:].color = '#440850'\n",
    "sheet['des_nr'][0,:].color = '#880074'\n",
    "sheet['bld_nr'][0,:].color = '#6C0BA9'\n",
    "sheet['trn_nr'][0,:].color = '#9D85F3'\n",
    "sheet['cls_nr'][0,:].color = '#86EC77'\n",
    "\n",
    "# Set phase font color\n",
    "sheet['env_nr'][0,0].font.color = '#ffffff'\n",
    "sheet['int_nr'][0,0].font.color = '#ffffff'\n",
    "sheet['def_nr'][0,0].font.color = '#ffffff'\n",
    "sheet['des_nr'][0,0].font.color = '#ffffff'\n",
    "sheet['bld_nr'][0,0].font.color = '#ffffff'\n",
    "sheet['trn_nr'][0,0].font.color = '#000000'\n",
    "sheet['cls_nr'][0,0].font.color = '#000000'\n",
    "\n",
    "# Set wrap text\n",
    "# sheet.range('A:A').wrap_text = True\n",
    "sheet.range('B:B').wrap_text = True\n",
    "sheet.range('C:C').wrap_text = True \n",
    "sheet.range('D:D').wrap_text = True \n",
    "sheet.range('F:F').wrap_text = True\n",
    "\n",
    "# Set column width\n",
    "sheet.range('A:A').column_width = 11\n",
    "sheet.range('B:B').column_width = 22\n",
    "sheet.range('C:C').column_width = 22*3\n",
    "sheet.range('D:D').column_width = 15\n",
    "sheet.range('E:E').column_width = 15\n",
    "sheet.range('F:F').column_width = 15\n",
    "sheet.range('G:G').column_width = 15\n",
    "# sheet.range('H:H').column_width = 15 # This is the time element outside of table\n",
    "\n",
    "# Set phase bottom divider color\n",
    "sheet['env_nr'][-2:,:].color = '#E21A23'\n",
    "sheet['int_nr'][-2:,:].color = '#1C0221'\n",
    "sheet['def_nr'][-2:,:].color = '#440850'\n",
    "sheet['des_nr'][-2:,:].color = '#880074'\n",
    "sheet['bld_nr'][-2:,:].color = '#6C0BA9'\n",
    "sheet['trn_nr'][-2:,:].color = '#9D85F3'\n",
    "sheet['cls_nr'][-2:,:].color = '#86EC77'"
   ]
  },
  {
   "cell_type": "code",
   "execution_count": 5,
   "id": "b202a162",
   "metadata": {
    "execution": {
     "iopub.execute_input": "2024-09-16T06:00:50.825335Z",
     "iopub.status.busy": "2024-09-16T06:00:50.825169Z",
     "iopub.status.idle": "2024-09-16T06:00:53.439873Z",
     "shell.execute_reply": "2024-09-16T06:00:53.439589Z"
    },
    "papermill": {
     "duration": 2.624264,
     "end_time": "2024-09-16T06:00:53.440886",
     "exception": false,
     "start_time": "2024-09-16T06:00:50.816622",
     "status": "completed"
    },
    "tags": []
   },
   "outputs": [],
   "source": [
    "# Store hours and cost total list as variables\n",
    "totals_stage_list = ['Hours', 0, 'Cost', 0]\n",
    "totals_cltv_list = ['Hours (Agg.)', 0, 'Cost (Agg.)', 0]\n",
    "\n",
    "\"\"\"\n",
    "One Formula and Additional formatting\n",
    "\"\"\"\n",
    "\n",
    "\"\"\"\n",
    "Envision\n",
    "\"\"\"\n",
    "# Cost (hrs*rate)\n",
    "sheet['env_nr'][1:-2, 6].value = '$0.00' # Cost column format\n",
    "sheet['env_nr'][1:-2, 5].value = '$0.00' # Rate column format\n",
    "sheet['env_nr'][1:-2, 6].formula = '=(E3*F3)'\n",
    "# Totals\n",
    "sheet['env_nr'][-2, 3].value = totals_stage_list\n",
    "sheet['env_nr'][-1, 3].value = totals_cltv_list\n",
    "# Font color\n",
    "sheet['env_nr'][-2:,3:].font.bold = True\n",
    "sheet['env_nr'][-2:,3:].font.color = '#ffffff'\n",
    "\n",
    "\"\"\" \n",
    "Initiate\n",
    "\"\"\"\n",
    "\n",
    "# Cost (hrs*rate)\n",
    "sheet['int_nr'][1:-2, 6].value = '$0.00'\n",
    "sheet['int_nr'][1:-2, 5].value = '$0.00'\n",
    "sheet['int_nr'][1:-2, 6].formula = '=(E21*F21)'\n",
    "# Totals\n",
    "sheet['int_nr'][-2, 3].value = totals_stage_list\n",
    "sheet['int_nr'][-1, 3].value = totals_cltv_list\n",
    "# Font color\n",
    "sheet['int_nr'][-2:,3:].font.bold = True\n",
    "sheet['int_nr'][-2:,3:].font.color = '#ffffff'\n",
    "\n",
    "\"\"\" \n",
    "Define\n",
    "\"\"\"\n",
    "\n",
    "# Cost (hrs*rate)\n",
    "sheet['def_nr'][1:-2, 6].value = '$0.00'\n",
    "sheet['def_nr'][1:-2, 5].value = '$0.00'\n",
    "sheet['def_nr'][1:-2, 6].formula = '=(E41*F41)'\n",
    "# Totals\n",
    "sheet['def_nr'][-2, 3].value = totals_stage_list\n",
    "sheet['def_nr'][-1, 3].value = totals_cltv_list\n",
    "# Font color\n",
    "sheet['def_nr'][-2:,3:].font.bold = True\n",
    "sheet['def_nr'][-2:,3:].font.color = '#ffffff'\n",
    "\n",
    "\"\"\" \n",
    "Design\n",
    "\"\"\"\n",
    "# Cost (hrs*rate)\n",
    "sheet['des_nr'][1:-2, 6].value = '$0.00'\n",
    "sheet['des_nr'][1:-2, 5].value = '$0.00'\n",
    "sheet['des_nr'][1:-2, 6].formula = '=(E81*F81)'\n",
    "# Totals\n",
    "sheet['des_nr'][-2, 3].value = totals_stage_list\n",
    "sheet['des_nr'][-1, 3].value = totals_cltv_list\n",
    "# Font color\n",
    "sheet['des_nr'][-2:,3:].font.bold = True\n",
    "sheet['des_nr'][-2:,3:].font.color = '#ffffff'\n",
    "\n",
    "\"\"\" \n",
    "Build\n",
    "\"\"\"\n",
    "# Cost (hrs*rate)\n",
    "sheet['bld_nr'][1:-2, 6].value = '$0.00'\n",
    "sheet['bld_nr'][1:-2, 5].value = '$0.00'\n",
    "sheet['bld_nr'][1:-2, 6].formula = '=(E101*F101)'\n",
    "# Totals\n",
    "sheet['bld_nr'][-2, 3].value = totals_stage_list\n",
    "sheet['bld_nr'][-1, 3].value = totals_cltv_list\n",
    "# Font color\n",
    "sheet['bld_nr'][-2:,3:].font.bold = True\n",
    "sheet['bld_nr'][-2:,3:].font.color = '#ffffff'\n",
    "\n",
    "\"\"\" \n",
    "Transition\n",
    "\"\"\"\n",
    "# Cost (hrs*rate)\n",
    "sheet['trn_nr'][1:-2, 6].value = '$0.00'\n",
    "sheet['trn_nr'][1:-2, 5].value = '$0.00'\n",
    "sheet['trn_nr'][1:-2, 6].formula = '=(E141*F141)'\n",
    "# Totals\n",
    "sheet['trn_nr'][-2, 3].value = totals_stage_list\n",
    "sheet['trn_nr'][-1, 3].value = totals_cltv_list\n",
    "# Font color\n",
    "sheet['trn_nr'][-2:,3:].font.bold = True\n",
    "sheet['trn_nr'][-2:,3:].font.color = '#000000'\n",
    "\n",
    "\"\"\" \n",
    "Close\n",
    "\"\"\"\n",
    "# Cost (hrs*rate)\n",
    "sheet['cls_nr'][1:18, 6].value = '$0.00'\n",
    "sheet['cls_nr'][1:18, 5].value = '$0.00'\n",
    "sheet['cls_nr'][1:18, 6].formula = '=(E161*F161)'\n",
    "# Totals\n",
    "sheet['cls_nr'][18, 3].value = totals_stage_list\n",
    "sheet['cls_nr'][19, 3].value = totals_cltv_list\n",
    "#Font color\n",
    "sheet['cls_nr'][18:,3:].font.bold = True\n",
    "sheet['cls_nr'][18:,3:].font.color = '#000000'\n"
   ]
  },
  {
   "cell_type": "code",
   "execution_count": 6,
   "id": "add8045a",
   "metadata": {
    "execution": {
     "iopub.execute_input": "2024-09-16T06:00:53.454718Z",
     "iopub.status.busy": "2024-09-16T06:00:53.454546Z",
     "iopub.status.idle": "2024-09-16T06:00:56.575031Z",
     "shell.execute_reply": "2024-09-16T06:00:56.574677Z"
    },
    "papermill": {
     "duration": 3.12883,
     "end_time": "2024-09-16T06:00:56.575991",
     "exception": false,
     "start_time": "2024-09-16T06:00:53.447161",
     "status": "completed"
    },
    "tags": []
   },
   "outputs": [],
   "source": [
    "\"\"\"\n",
    "For each phase (aka phase named range)\n",
    "Column G sum Cost\n",
    "Column G sum Cost Agg.\n",
    "\n",
    "Column E sum Hours\n",
    "Column E sum Hours Agg.\n",
    "\n",
    "Add left column A thick boarder by project stage\n",
    "\n",
    "\"\"\"\n",
    "\n",
    "\"\"\"\n",
    "Envision\n",
    "\"\"\"\n",
    "# Hours\n",
    "sheet['env_nr'][-2,4].formula = '=SUM(E3:E17)'\n",
    "sheet['env_nr'][-1,4].value = '=E18'\n",
    "# Cost\n",
    "sheet['env_nr'][-2,6].formula = '=SUM(G3:G17)'\n",
    "sheet['env_nr'][-1,6].formula = '=G18' # Value for G19\n",
    "# Boarder\n",
    "sheet['env_nr'][:,0].color = '#E21A23'\n",
    "\n",
    "\"\"\"\n",
    "Initiate\n",
    "\"\"\"\n",
    "# Hours\n",
    "sheet['int_nr'][-2,4].formula = '=SUM(E21:E37)'\n",
    "sheet['int_nr'][-1,4].formula = '=SUM(E38+E19)'\n",
    "# Cost\n",
    "sheet['int_nr'][-2,6].formula = '=SUM(G21:G37)'\n",
    "sheet['int_nr'][-1,6].formula = '=SUM(G38+G19)'\n",
    "# Boarder\n",
    "sheet['int_nr'][:,0].color = '#1C0221'\n",
    "\n",
    "\"\"\"\n",
    "Define\n",
    "\"\"\"\n",
    "# Hours\n",
    "sheet['def_nr'][-2,4].formula = '=ROUNDUP(SUM(E41:E77),0)'\n",
    "sheet['def_nr'][-1,4].formula = '=ROUNDUP(SUM(E78+E39),0)'\n",
    "# Cost\n",
    "sheet['def_nr'][-2,6].formula = '=ROUNDUP(SUM(G41:G77),0)'\n",
    "sheet['def_nr'][-1,6].formula = '=ROUNDUP(SUM(G78+G39),0)' # Careful with (parantheses)\n",
    "# Boarder\n",
    "sheet['def_nr'][:,0].color = '#440850'\n",
    "\n",
    "\"\"\"\n",
    "Design\n",
    "\"\"\"\n",
    "# Hours\n",
    "sheet['des_nr'][-2,4].formula = '=SUM(E81:E97)'\n",
    "sheet['des_nr'][-1,4].formula = '=SUM(E98+E79)'\n",
    "# Cost\n",
    "sheet['des_nr'][-2,6].formula = '=SUM(G81:G97)'\n",
    "sheet['des_nr'][-1,6].formula = '=SUM(G98+G79)'\n",
    "# Boarder\n",
    "sheet['des_nr'][:,0].color = '#880074'\n",
    "\n",
    "\"\"\"\n",
    "Build\n",
    "\"\"\"\n",
    "# Hours\n",
    "sheet['bld_nr'][-2,4].formula = '=SUM(E101:E137)'\n",
    "sheet['bld_nr'][-1,4].formula = '=SUM(E138+E99)'\n",
    "# Cost\n",
    "sheet['bld_nr'][-2,6].formula = '=SUM(G101:G137)'\n",
    "sheet['bld_nr'][-1,6].formula = '=SUM(G138+G99)'\n",
    "# Boarder\n",
    "sheet['bld_nr'][:,0].color = '#6C0BA9'\n",
    "\n",
    "\"\"\"\n",
    "Transition\n",
    "\"\"\"\n",
    "# Hours\n",
    "sheet['trn_nr'][-2,4].formula = '=SUM(E141:E157)'\n",
    "sheet['trn_nr'][-1,4].formula = '=SUM(E158+E139)'\n",
    "# Cost\n",
    "sheet['trn_nr'][-2,6].formula = '=SUM(G141:G157)'\n",
    "sheet['trn_nr'][-1,6].formula = '=SUM(G158+G139)'\n",
    "# Boarder\n",
    "sheet['trn_nr'][:,0].color = '#9D85F3'\n",
    "\n",
    "\"\"\"\n",
    "Close\n",
    "\"\"\"\n",
    "# Hours\n",
    "sheet['cls_nr'][-2,4].formula = '=SUM(E161:E177)'\n",
    "sheet['cls_nr'][-1,4].formula = '=SUM(E178+E159)'\n",
    "# Cost\n",
    "sheet['cls_nr'][-2,6].formula = '=SUM(G161:G177)'\n",
    "sheet['cls_nr'][-1,6].formula = '=SUM(G178+G159)'\n",
    "# Boarder\n",
    "sheet['cls_nr'][:,0].color = '#86EC77'"
   ]
  },
  {
   "cell_type": "code",
   "execution_count": 7,
   "id": "2ac3f780",
   "metadata": {
    "execution": {
     "iopub.execute_input": "2024-09-16T06:00:56.592597Z",
     "iopub.status.busy": "2024-09-16T06:00:56.592390Z",
     "iopub.status.idle": "2024-09-16T06:00:56.764645Z",
     "shell.execute_reply": "2024-09-16T06:00:56.764350Z"
    },
    "papermill": {
     "duration": 0.181718,
     "end_time": "2024-09-16T06:00:56.765623",
     "exception": false,
     "start_time": "2024-09-16T06:00:56.583905",
     "status": "completed"
    },
    "tags": []
   },
   "outputs": [],
   "source": [
    "# Assign values to cells by passing lists to the excel doc\n",
    "sheet['sow_nr'][179,3:].value = ['TOTAL HOURS', 0, 'TOTAL COST', '$0.00']\n",
    "sheet['sow_nr'][180,3:].value = ['', 'OTD', '0%', '$0.00']\n",
    "sheet['sow_nr'][181,3:].value = ['', '', 'GRAND TOTAL', '$0.00']\n",
    "\n",
    "# Set font bold and color\n",
    "sheet['sow_nr'][179:182,:].font.bold = True\n",
    "sheet['sow_nr'][179:182,:].font.color = '#000000'\n",
    "\n",
    "tot_brd_loc = sheet['sow_nr'][179:182,3:]\n",
    "\n",
    "# Set border around excel SOW\n",
    "tot_brd_loc[-1,:].api.get_border(which_border=k.border_bottom).weight.set(4)\n",
    "tot_brd_loc[:,-1].api.get_border(which_border=k.border_right).weight.set(4)\n",
    "tot_brd_loc[0,:].api.get_border(which_border=k.border_top).weight.set(4) # Not necessary really\n",
    "tot_brd_loc[:,0].api.get_border(which_border=k.border_left).weight.set(4)\n"
   ]
  },
  {
   "cell_type": "code",
   "execution_count": 8,
   "id": "9a82e2b7",
   "metadata": {
    "execution": {
     "iopub.execute_input": "2024-09-16T06:00:56.777992Z",
     "iopub.status.busy": "2024-09-16T06:00:56.777854Z",
     "iopub.status.idle": "2024-09-16T06:00:56.822700Z",
     "shell.execute_reply": "2024-09-16T06:00:56.822443Z"
    },
    "papermill": {
     "duration": 0.052009,
     "end_time": "2024-09-16T06:00:56.823642",
     "exception": false,
     "start_time": "2024-09-16T06:00:56.771633",
     "status": "completed"
    },
    "tags": []
   },
   "outputs": [],
   "source": [
    "# Set formulas\n",
    "tot_brd_loc[0,1].formula = '=(E179)'\n",
    "tot_brd_loc[0,3].formula = '=(G179)'\n",
    "tot_brd_loc[1,3].formula = '=(F181*G180)'\n",
    "tot_brd_loc[2,3].formula = '=(G180-G181)'"
   ]
  },
  {
   "cell_type": "code",
   "execution_count": 9,
   "id": "c9b7bb31",
   "metadata": {
    "execution": {
     "iopub.execute_input": "2024-09-16T06:00:56.835448Z",
     "iopub.status.busy": "2024-09-16T06:00:56.835313Z",
     "iopub.status.idle": "2024-09-16T06:00:57.014598Z",
     "shell.execute_reply": "2024-09-16T06:00:57.014286Z"
    },
    "papermill": {
     "duration": 0.186502,
     "end_time": "2024-09-16T06:00:57.015640",
     "exception": false,
     "start_time": "2024-09-16T06:00:56.829138",
     "status": "completed"
    },
    "tags": []
   },
   "outputs": [],
   "source": [
    "\"\"\"\n",
    "Build a math checker\n",
    "-Do something later like IF 'GRAND TOTAL' == 'GRAND TOTAL' THEN font.color=green ELSE font.color=red\n",
    "\"\"\"\n",
    "\n",
    "# Set a math checker named range from the sow named range\n",
    "math_chk_loc = sheet['sow_nr'][183:185,3:]\n",
    "\n",
    "# Assign values to cells by passing lists to the excel doc\n",
    "math_chk_loc[0,0].value = 'MATH CHECKER'\n",
    "math_chk_loc[1,:].value = ['TOTAL HOURS', 0, 'TOTAL COST', '$0.00']\n",
    "\n",
    "# Set color on math checker field\n",
    "math_chk_loc[0,0].font.color = '#E21A23'\n",
    "\n",
    "# Set font bold and color\n",
    "math_chk_loc[0:2,:].font.bold = True\n",
    "math_chk_loc[1:,:].font.color = '#000000'\n",
    "\n",
    "# Set formulas\n",
    "math_chk_loc[1,1].formula = '=SUM(E18+E38+E78+E98+E138+E158+E178)' # Total hours\n",
    "math_chk_loc[1,3].formula = '=SUM(G18+G38+G78+G98+G138+G158+G178)-G181' # Total cost\n",
    "\n",
    "# Set border and line style\n",
    "math_chk_loc[1:2,:].api.get_border(which_border=k.border_top).weight.set(4)\n",
    "math_chk_loc[1:2,:].api.get_border(which_border=k.border_left).weight.set(4)\n",
    "math_chk_loc[1:2,:].api.get_border(which_border=k.border_bottom).weight.set(4)\n",
    "math_chk_loc[1:2,:].api.get_border(which_border=k.border_right).weight.set(4)"
   ]
  },
  {
   "cell_type": "code",
   "execution_count": 10,
   "id": "404a12e5",
   "metadata": {
    "execution": {
     "iopub.execute_input": "2024-09-16T06:00:57.031988Z",
     "iopub.status.busy": "2024-09-16T06:00:57.031757Z",
     "iopub.status.idle": "2024-09-16T06:00:57.059208Z",
     "shell.execute_reply": "2024-09-16T06:00:57.058909Z"
    },
    "papermill": {
     "duration": 0.037092,
     "end_time": "2024-09-16T06:00:57.060208",
     "exception": false,
     "start_time": "2024-09-16T06:00:57.023116",
     "status": "completed"
    },
    "tags": []
   },
   "outputs": [],
   "source": [
    "# set roles and rates named range\n",
    "role_rate_loc = sheet['sow_nr'][187:200,:]\n",
    "\n",
    "# Assign header value in excel\n",
    "rr_header_list = ['ROLE', \n",
    "                  'ROLE NAME', \n",
    "                  'ROLE DESCRIPTION', \n",
    "                  'STD RATE', \n",
    "                  'DISCOUNT', \n",
    "                  'DISCOUNT %', \n",
    "                  'RATE']\n",
    "\n",
    "role_rate_loc.value = rr_header_list"
   ]
  },
  {
   "cell_type": "code",
   "execution_count": 11,
   "id": "bb304459",
   "metadata": {
    "execution": {
     "iopub.execute_input": "2024-09-16T06:00:57.071549Z",
     "iopub.status.busy": "2024-09-16T06:00:57.071436Z",
     "iopub.status.idle": "2024-09-16T06:00:57.093016Z",
     "shell.execute_reply": "2024-09-16T06:00:57.092749Z"
    },
    "papermill": {
     "duration": 0.027903,
     "end_time": "2024-09-16T06:00:57.093772",
     "exception": false,
     "start_time": "2024-09-16T06:00:57.065869",
     "status": "completed"
    },
    "tags": []
   },
   "outputs": [
    {
     "data": {
      "text/html": [
       "<div>\n",
       "<style scoped>\n",
       "    .dataframe tbody tr th:only-of-type {\n",
       "        vertical-align: middle;\n",
       "    }\n",
       "\n",
       "    .dataframe tbody tr th {\n",
       "        vertical-align: top;\n",
       "    }\n",
       "\n",
       "    .dataframe thead th {\n",
       "        text-align: right;\n",
       "    }\n",
       "</style>\n",
       "<table border=\"1\" class=\"dataframe\">\n",
       "  <thead>\n",
       "    <tr style=\"text-align: right;\">\n",
       "      <th></th>\n",
       "      <th>role</th>\n",
       "      <th>role_name</th>\n",
       "      <th>role_description</th>\n",
       "      <th>std_rate</th>\n",
       "      <th>discount</th>\n",
       "      <th>discount %</th>\n",
       "      <th>rate</th>\n",
       "    </tr>\n",
       "  </thead>\n",
       "  <tbody>\n",
       "    <tr>\n",
       "      <th>0</th>\n",
       "      <td>EM</td>\n",
       "      <td>Engagement Manager</td>\n",
       "      <td>add role desc</td>\n",
       "      <td>200</td>\n",
       "      <td>0</td>\n",
       "      <td>0</td>\n",
       "      <td>0</td>\n",
       "    </tr>\n",
       "    <tr>\n",
       "      <th>1</th>\n",
       "      <td>BPC</td>\n",
       "      <td>Business Process Consultant</td>\n",
       "      <td>add role desc</td>\n",
       "      <td>250</td>\n",
       "      <td>0</td>\n",
       "      <td>0</td>\n",
       "      <td>0</td>\n",
       "    </tr>\n",
       "    <tr>\n",
       "      <th>2</th>\n",
       "      <td>BA</td>\n",
       "      <td>Business Analyst</td>\n",
       "      <td>add role desc</td>\n",
       "      <td>155</td>\n",
       "      <td>0</td>\n",
       "      <td>0</td>\n",
       "      <td>0</td>\n",
       "    </tr>\n",
       "    <tr>\n",
       "      <th>3</th>\n",
       "      <td>TA</td>\n",
       "      <td>Technical Architect</td>\n",
       "      <td>add role desc</td>\n",
       "      <td>195</td>\n",
       "      <td>0</td>\n",
       "      <td>0</td>\n",
       "      <td>0</td>\n",
       "    </tr>\n",
       "    <tr>\n",
       "      <th>4</th>\n",
       "      <td>TC</td>\n",
       "      <td>Technical Consultant</td>\n",
       "      <td>add role desc</td>\n",
       "      <td>175</td>\n",
       "      <td>0</td>\n",
       "      <td>0</td>\n",
       "      <td>0</td>\n",
       "    </tr>\n",
       "    <tr>\n",
       "      <th>5</th>\n",
       "      <td>TCO</td>\n",
       "      <td>Technical Consultant (Offshore)</td>\n",
       "      <td>add role desc</td>\n",
       "      <td>115</td>\n",
       "      <td>0</td>\n",
       "      <td>0</td>\n",
       "      <td>0</td>\n",
       "    </tr>\n",
       "    <tr>\n",
       "      <th>6</th>\n",
       "      <td>QAE</td>\n",
       "      <td>Quality Assurance Engineer</td>\n",
       "      <td>add role desc</td>\n",
       "      <td>115</td>\n",
       "      <td>0</td>\n",
       "      <td>0</td>\n",
       "      <td>0</td>\n",
       "    </tr>\n",
       "  </tbody>\n",
       "</table>\n",
       "</div>"
      ],
      "text/plain": [
       "  role                        role_name role_description  std_rate  discount  \\\n",
       "0   EM               Engagement Manager    add role desc       200         0   \n",
       "1  BPC      Business Process Consultant    add role desc       250         0   \n",
       "2   BA                 Business Analyst    add role desc       155         0   \n",
       "3   TA              Technical Architect    add role desc       195         0   \n",
       "4   TC             Technical Consultant    add role desc       175         0   \n",
       "5  TCO  Technical Consultant (Offshore)    add role desc       115         0   \n",
       "6  QAE       Quality Assurance Engineer    add role desc       115         0   \n",
       "\n",
       "   discount %  rate  \n",
       "0           0     0  \n",
       "1           0     0  \n",
       "2           0     0  \n",
       "3           0     0  \n",
       "4           0     0  \n",
       "5           0     0  \n",
       "6           0     0  "
      ]
     },
     "execution_count": 11,
     "metadata": {},
     "output_type": "execute_result"
    }
   ],
   "source": [
    "# Read in ROLES_RATES df \n",
    "rr_df = pd.read_excel('sow_input_data.xlsx', sheet_name = 'ROLES_RATES')\n",
    "\n",
    "rr_df = rr_df.iloc[0:7,:] # Filters out TAM role (for managed services)\n",
    "\n",
    "rr_df"
   ]
  },
  {
   "cell_type": "code",
   "execution_count": 12,
   "id": "49f3a95b",
   "metadata": {
    "execution": {
     "iopub.execute_input": "2024-09-16T06:00:57.104580Z",
     "iopub.status.busy": "2024-09-16T06:00:57.104440Z",
     "iopub.status.idle": "2024-09-16T06:00:57.133139Z",
     "shell.execute_reply": "2024-09-16T06:00:57.132853Z"
    },
    "papermill": {
     "duration": 0.035001,
     "end_time": "2024-09-16T06:00:57.133995",
     "exception": false,
     "start_time": "2024-09-16T06:00:57.098994",
     "status": "completed"
    },
    "tags": []
   },
   "outputs": [],
   "source": [
    "# Insert rows rates dataframe \n",
    "role_rate_loc.options(index=False, header=True).value = rr_df # IMPORTANT header=True"
   ]
  },
  {
   "cell_type": "code",
   "execution_count": 13,
   "id": "e8561b4a",
   "metadata": {
    "execution": {
     "iopub.execute_input": "2024-09-16T06:00:57.145685Z",
     "iopub.status.busy": "2024-09-16T06:00:57.145545Z",
     "iopub.status.idle": "2024-09-16T06:00:57.176909Z",
     "shell.execute_reply": "2024-09-16T06:00:57.176574Z"
    },
    "papermill": {
     "duration": 0.038204,
     "end_time": "2024-09-16T06:00:57.177891",
     "exception": false,
     "start_time": "2024-09-16T06:00:57.139687",
     "status": "completed"
    },
    "tags": []
   },
   "outputs": [],
   "source": [
    "# DEV - insert the PS (pre-sales placeholder) role\n",
    "ps_ph_list = ['PS', 'pre-sales', 'placeholder', '4', '0', '0', '0']\n",
    "\n",
    "# insert ps_ph list for DEV\n",
    "role_rate_loc[8,:].value = ps_ph_list\n",
    "role_rate_loc[8,:].font.color = '#E21A23'"
   ]
  },
  {
   "cell_type": "code",
   "execution_count": 14,
   "id": "4904a97a",
   "metadata": {
    "execution": {
     "iopub.execute_input": "2024-09-16T06:00:57.189555Z",
     "iopub.status.busy": "2024-09-16T06:00:57.189417Z",
     "iopub.status.idle": "2024-09-16T06:00:57.220905Z",
     "shell.execute_reply": "2024-09-16T06:00:57.220638Z"
    },
    "papermill": {
     "duration": 0.038544,
     "end_time": "2024-09-16T06:00:57.221878",
     "exception": false,
     "start_time": "2024-09-16T06:00:57.183334",
     "status": "completed"
    },
    "tags": []
   },
   "outputs": [],
   "source": [
    "# Set formula to calculate final rate from discount (discount applied manually by user)\n",
    "role_rate_loc[1:9,6].formula = '=(D189-E189)'\n",
    "\n",
    "# DEV\n",
    "# role_rate_loc[-1,6].formula = '=(D200-E200)'\n",
    "\n",
    "\"\"\"\n",
    "Set discount formula\n",
    "-Important for usability by non-technical user\n",
    "\"\"\" \n",
    "\n",
    "# Set formula to calculate discount perecentage\n",
    "role_rate_loc[1:9,5].formula = '=(E189/D189)'"
   ]
  },
  {
   "cell_type": "code",
   "execution_count": 15,
   "id": "d627f032",
   "metadata": {
    "execution": {
     "iopub.execute_input": "2024-09-16T06:00:57.233169Z",
     "iopub.status.busy": "2024-09-16T06:00:57.233030Z",
     "iopub.status.idle": "2024-09-16T06:00:57.965014Z",
     "shell.execute_reply": "2024-09-16T06:00:57.964184Z"
    },
    "papermill": {
     "duration": 0.740189,
     "end_time": "2024-09-16T06:00:57.967542",
     "exception": false,
     "start_time": "2024-09-16T06:00:57.227353",
     "status": "completed"
    },
    "tags": []
   },
   "outputs": [],
   "source": [
    "\"\"\" \n",
    "This looks sick from a UX perspective if the user is watching      \n",
    "\"\"\"\n",
    "# Set 0% and $0.00 formatting\n",
    "role_rate_loc[1:,3].number_format = '$0.00' # STD RATE\n",
    "role_rate_loc[1:,4].number_format = '$0.00' # DISCOUNT\n",
    "role_rate_loc[1:,5].number_format = '0.0%' # DISCOUNT %\n",
    "role_rate_loc[1:,6].number_format = '$0.00' # NEGOTIATED RATE"
   ]
  },
  {
   "cell_type": "code",
   "execution_count": 16,
   "id": "79e48fc5",
   "metadata": {
    "execution": {
     "iopub.execute_input": "2024-09-16T06:00:57.980390Z",
     "iopub.status.busy": "2024-09-16T06:00:57.980127Z",
     "iopub.status.idle": "2024-09-16T06:00:58.307671Z",
     "shell.execute_reply": "2024-09-16T06:00:58.306784Z"
    },
    "papermill": {
     "duration": 0.33582,
     "end_time": "2024-09-16T06:00:58.310000",
     "exception": false,
     "start_time": "2024-09-16T06:00:57.974180",
     "status": "completed"
    },
    "tags": []
   },
   "outputs": [],
   "source": [
    "\"\"\" \n",
    "Format roles and rates table in excel doc\n",
    "\"\"\"\n",
    "# Set bold header\n",
    "role_rate_loc[0,:].font.bold = True\n",
    "\n",
    "# Set border and line style\n",
    "role_rate_loc[0:8,:].api.get_border(which_border=k.border_top).weight.set(4)\n",
    "role_rate_loc[0:8,:].api.get_border(which_border=k.border_left).weight.set(4)\n",
    "role_rate_loc[0:8,:].api.get_border(which_border=k.border_bottom).weight.set(4)\n",
    "role_rate_loc[0:8,:].api.get_border(which_border=k.border_right).weight.set(4)"
   ]
  },
  {
   "cell_type": "code",
   "execution_count": 17,
   "id": "bee4ed65",
   "metadata": {
    "execution": {
     "iopub.execute_input": "2024-09-16T06:00:58.328558Z",
     "iopub.status.busy": "2024-09-16T06:00:58.328234Z",
     "iopub.status.idle": "2024-09-16T06:00:58.654694Z",
     "shell.execute_reply": "2024-09-16T06:00:58.654350Z"
    },
    "papermill": {
     "duration": 0.335221,
     "end_time": "2024-09-16T06:00:58.655685",
     "exception": false,
     "start_time": "2024-09-16T06:00:58.320464",
     "status": "completed"
    },
    "tags": []
   },
   "outputs": [],
   "source": [
    "\"\"\"\n",
    "PLACEHOLDERS\n",
    "\"\"\"\n",
    "# for ROLE table append line to use in DEV\n",
    "ps_role = ['PS', 'pre-sales', 'placeholder', '$0.00', '$0.00', '0.0%', '$0.00']\n",
    "\n",
    "# string to insert in each row\n",
    "# ps_placeholder = ['pre-sales', 'placeholder', 'PS', '4']\n",
    "ps_placeholder = ['XXX', 'XXX', 'PS', '4']\n",
    "\n",
    "\"\"\"   \n",
    "Insert PLACEHOLDERS\n",
    "\"\"\"\n",
    "# insert placeholder lists in excel\n",
    "sheet['env_nr'][1:,1:5].value = ps_placeholder\n",
    "sheet['int_nr'][1:,1:5].value = ps_placeholder\n",
    "sheet['def_nr'][1:,1:5].value = ps_placeholder\n",
    "sheet['des_nr'][1:,1:5].value = ps_placeholder\n",
    "sheet['bld_nr'][1:,1:5].value = ps_placeholder\n",
    "sheet['trn_nr'][1:,1:5].value = ps_placeholder\n",
    "sheet['cls_nr'][1:,1:5].value = ps_placeholder"
   ]
  },
  {
   "cell_type": "code",
   "execution_count": 18,
   "id": "4c50bb53",
   "metadata": {
    "execution": {
     "iopub.execute_input": "2024-09-16T06:00:58.666743Z",
     "iopub.status.busy": "2024-09-16T06:00:58.666596Z",
     "iopub.status.idle": "2024-09-16T06:00:59.321034Z",
     "shell.execute_reply": "2024-09-16T06:00:59.320311Z"
    },
    "papermill": {
     "duration": 0.662426,
     "end_time": "2024-09-16T06:00:59.323525",
     "exception": false,
     "start_time": "2024-09-16T06:00:58.661099",
     "status": "completed"
    },
    "tags": []
   },
   "outputs": [],
   "source": [
    "# COPY / PASTE placeholder string from excel (at each stage)\n",
    "\n",
    "# ENVISTION (PRE-KICKOFF)\n",
    "sheet['env_nr'][1,1:].copy()\n",
    "sheet['env_nr'][2:-2,1:].paste()\n",
    "\n",
    "# INITIATE\n",
    "sheet['int_nr'][1,1:].copy()\n",
    "sheet['int_nr'][2:-2,1:].paste()\n",
    "\n",
    "# DEFINE\n",
    "sheet['def_nr'][1,1:].copy()\n",
    "sheet['def_nr'][2:-2,1:].paste()\n",
    "\n",
    "#DESIGN\n",
    "sheet['des_nr'][1,1:].copy()\n",
    "sheet['des_nr'][2:-2,1:].paste()\n",
    "\n",
    "#BUILD\n",
    "sheet['bld_nr'][1,1:].copy()\n",
    "sheet['bld_nr'][2:-2,1:].paste()\n",
    "\n",
    "#TRANSITION\n",
    "sheet['trn_nr'][1,1:].copy()\n",
    "sheet['trn_nr'][2:-2,1:].paste()\n",
    "\n",
    "#CLOSE\n",
    "sheet['cls_nr'][1,1:].copy()\n",
    "sheet['cls_nr'][2:-2,1:].paste()"
   ]
  },
  {
   "cell_type": "code",
   "execution_count": 19,
   "id": "53cd3108",
   "metadata": {
    "execution": {
     "iopub.execute_input": "2024-09-16T06:00:59.336581Z",
     "iopub.status.busy": "2024-09-16T06:00:59.336431Z",
     "iopub.status.idle": "2024-09-16T06:00:59.691434Z",
     "shell.execute_reply": "2024-09-16T06:00:59.691155Z"
    },
    "papermill": {
     "duration": 0.362005,
     "end_time": "2024-09-16T06:00:59.692431",
     "exception": false,
     "start_time": "2024-09-16T06:00:59.330426",
     "status": "completed"
    },
    "tags": []
   },
   "outputs": [],
   "source": [
    "\"\"\" \n",
    "VLOOKUP() to populate rates for roles\n",
    "-review everything about cell addresses before proceeding\n",
    "\"\"\"\n",
    "# ENVISION (PRE-KICKOFF)\n",
    "sheet['env_nr'][1:-2, 5].formula = '=VLOOKUP(D3,$A$188:$G$196,7,FALSE)'\n",
    "\n",
    "# INITIATE\n",
    "sheet['int_nr'][1:-2, 5].formula = '=VLOOKUP(D21,$A$188:$G$196,7,FALSE)'\n",
    "\n",
    "# DEFINE\n",
    "sheet['def_nr'][1:-2, 5].formula = '=VLOOKUP(D41,$A$188:$G$196,7,FALSE)'\n",
    "\n",
    "# DESIGN \n",
    "sheet['des_nr'][1:-2, 5].formula = '=VLOOKUP(D81,$A$188:$G$196,7,FALSE)'\n",
    "\n",
    "# BUILD\n",
    "sheet['bld_nr'][1:-2, 5].formula = '=VLOOKUP(D101,$A$188:$G$196,7,FALSE)'\n",
    "\n",
    "# TRANSITION\n",
    "sheet['trn_nr'][1:-2, 5].formula = '=VLOOKUP(D141,$A$188:$G$196,7,FALSE)'\n",
    "\n",
    "# CLOSE\n",
    "sheet['cls_nr'][1:-2, 5].formula = '=VLOOKUP(D161,$A$188:$G$196,7,FALSE)'"
   ]
  },
  {
   "cell_type": "code",
   "execution_count": 20,
   "id": "49fcfeba",
   "metadata": {
    "execution": {
     "iopub.execute_input": "2024-09-16T06:00:59.704631Z",
     "iopub.status.busy": "2024-09-16T06:00:59.704502Z",
     "iopub.status.idle": "2024-09-16T06:00:59.707312Z",
     "shell.execute_reply": "2024-09-16T06:00:59.706763Z"
    },
    "papermill": {
     "duration": 0.009702,
     "end_time": "2024-09-16T06:00:59.708482",
     "exception": false,
     "start_time": "2024-09-16T06:00:59.698780",
     "status": "completed"
    },
    "tags": []
   },
   "outputs": [
    {
     "data": {
      "text/plain": [
       "'\\nDATA TABLE FOR CHARTS & VISUALS\\n-Total hours by role\\n-Total hours by stage\\n\\n*other not yet worked out*\\n-FTE by stage\\n-FTE by role\\n-FTE overlay\\n-High level project timeline\\n'"
      ]
     },
     "execution_count": 20,
     "metadata": {},
     "output_type": "execute_result"
    }
   ],
   "source": [
    "\"\"\"\n",
    "DATA TABLE FOR CHARTS & VISUALS\n",
    "-Total hours by role\n",
    "-Total hours by stage\n",
    "\n",
    "*other not yet worked out*\n",
    "-FTE by stage\n",
    "-FTE by role\n",
    "-FTE overlay\n",
    "-High level project timeline\n",
    "\"\"\""
   ]
  },
  {
   "cell_type": "code",
   "execution_count": 21,
   "id": "8a7951d8",
   "metadata": {
    "execution": {
     "iopub.execute_input": "2024-09-16T06:00:59.721245Z",
     "iopub.status.busy": "2024-09-16T06:00:59.721089Z",
     "iopub.status.idle": "2024-09-16T06:00:59.751512Z",
     "shell.execute_reply": "2024-09-16T06:00:59.751271Z"
    },
    "papermill": {
     "duration": 0.038588,
     "end_time": "2024-09-16T06:00:59.752304",
     "exception": false,
     "start_time": "2024-09-16T06:00:59.713716",
     "status": "completed"
    },
    "tags": []
   },
   "outputs": [
    {
     "data": {
      "text/plain": [
       "['EM', 'BPC', 'BA', 'TA', 'TC', 'TCO', 'QAE', 'PS']"
      ]
     },
     "execution_count": 21,
     "metadata": {},
     "output_type": "execute_result"
    }
   ],
   "source": [
    "\"\"\"\n",
    "CHARTS DATA\n",
    "\"\"\"\n",
    "# NAMED RANGE - Chart data\n",
    "sheet['A200:G209'].name = 'cht_nr'\n",
    "\n",
    "# INSERT HEADER\n",
    "sheet['cht_nr'][0,3:].value = ['ROLE', 'HOURS', 'COST', 'RATE']\n",
    "\n",
    "# GET ROLES\n",
    "cht_list = role_rate_loc[1:,0].value\n",
    "cht_role_list = cht_list[0:8]\n",
    "\n",
    "cht_role_list"
   ]
  },
  {
   "cell_type": "code",
   "execution_count": 22,
   "id": "036cfe4c",
   "metadata": {
    "execution": {
     "iopub.execute_input": "2024-09-16T06:00:59.764381Z",
     "iopub.status.busy": "2024-09-16T06:00:59.764246Z",
     "iopub.status.idle": "2024-09-16T06:00:59.768205Z",
     "shell.execute_reply": "2024-09-16T06:00:59.767990Z"
    },
    "papermill": {
     "duration": 0.010754,
     "end_time": "2024-09-16T06:00:59.768933",
     "exception": false,
     "start_time": "2024-09-16T06:00:59.758179",
     "status": "completed"
    },
    "tags": []
   },
   "outputs": [
    {
     "data": {
      "text/plain": [
       "[200.0, 250.0, 155.0, 195.0, 175.0, 115.0, 115.0, 4.0]"
      ]
     },
     "execution_count": 22,
     "metadata": {},
     "output_type": "execute_result"
    }
   ],
   "source": [
    "# GET RATES\n",
    "cht_rate = role_rate_loc[1:,6].value\n",
    "cht_rate_list = cht_rate[0:8]\n",
    "\n",
    "cht_rate_list"
   ]
  },
  {
   "cell_type": "code",
   "execution_count": 23,
   "id": "7073770f",
   "metadata": {
    "execution": {
     "iopub.execute_input": "2024-09-16T06:00:59.780260Z",
     "iopub.status.busy": "2024-09-16T06:00:59.780151Z",
     "iopub.status.idle": "2024-09-16T06:01:00.125401Z",
     "shell.execute_reply": "2024-09-16T06:01:00.125017Z"
    },
    "papermill": {
     "duration": 0.351949,
     "end_time": "2024-09-16T06:01:00.126375",
     "exception": false,
     "start_time": "2024-09-16T06:00:59.774426",
     "status": "completed"
    },
    "tags": []
   },
   "outputs": [],
   "source": [
    "# INSERT & TRANSPOSE *ROLE* DATA -> to new table (later used for charts and data viz)\n",
    "sheet['cht_nr'][1:,3].options(transpose=True).value = cht_role_list\n",
    "\n",
    "# INSERT & TRANSPOSE *RATE* DATE\n",
    "sheet['cht_nr'][1:,6].number_format = '$0.00' # sets formatting before insert\n",
    "sheet['cht_nr'][1:,6].options(transpose=True).value = cht_rate_list\n"
   ]
  },
  {
   "cell_type": "code",
   "execution_count": 24,
   "id": "13a256a9",
   "metadata": {
    "execution": {
     "iopub.execute_input": "2024-09-16T06:01:00.141932Z",
     "iopub.status.busy": "2024-09-16T06:01:00.141734Z",
     "iopub.status.idle": "2024-09-16T06:01:00.148278Z",
     "shell.execute_reply": "2024-09-16T06:01:00.147858Z"
    },
    "papermill": {
     "duration": 0.014746,
     "end_time": "2024-09-16T06:01:00.149190",
     "exception": false,
     "start_time": "2024-09-16T06:01:00.134444",
     "status": "completed"
    },
    "tags": []
   },
   "outputs": [],
   "source": [
    "# SUMIF() function in excel to SUM hours by role -> populate table values\n",
    "sheet['cht_nr'][1:9,4].formula = '=SUMIF(D1:D179,D201,E1:E179)'"
   ]
  },
  {
   "cell_type": "code",
   "execution_count": 25,
   "id": "171081f1",
   "metadata": {
    "execution": {
     "iopub.execute_input": "2024-09-16T06:01:00.163300Z",
     "iopub.status.busy": "2024-09-16T06:01:00.163149Z",
     "iopub.status.idle": "2024-09-16T06:01:00.454338Z",
     "shell.execute_reply": "2024-09-16T06:01:00.454060Z"
    },
    "papermill": {
     "duration": 0.299675,
     "end_time": "2024-09-16T06:01:00.455415",
     "exception": false,
     "start_time": "2024-09-16T06:01:00.155740",
     "status": "completed"
    },
    "tags": []
   },
   "outputs": [],
   "source": [
    "# Set cost # format also\n",
    "sheet['cht_nr'][1:,5].number_format = '$0.00'\n",
    "\n",
    "# FORMULA to calculate cost\n",
    "sheet['cht_nr'][1:9,5].formula = ('=E201*G201')\n"
   ]
  },
  {
   "cell_type": "code",
   "execution_count": 26,
   "id": "7e819977",
   "metadata": {
    "execution": {
     "iopub.execute_input": "2024-09-16T06:01:00.475462Z",
     "iopub.status.busy": "2024-09-16T06:01:00.475237Z",
     "iopub.status.idle": "2024-09-16T06:01:00.494064Z",
     "shell.execute_reply": "2024-09-16T06:01:00.493728Z"
    },
    "papermill": {
     "duration": 0.032566,
     "end_time": "2024-09-16T06:01:00.495026",
     "exception": false,
     "start_time": "2024-09-16T06:01:00.462460",
     "status": "completed"
    },
    "tags": []
   },
   "outputs": [],
   "source": [
    "# DEV set PS row to red\n",
    "sheet['cht_nr'][8,3:].font.color = '#E21A23'\n"
   ]
  },
  {
   "cell_type": "code",
   "execution_count": 27,
   "id": "6252d8dc",
   "metadata": {
    "execution": {
     "iopub.execute_input": "2024-09-16T06:01:00.510273Z",
     "iopub.status.busy": "2024-09-16T06:01:00.510138Z",
     "iopub.status.idle": "2024-09-16T06:01:00.727695Z",
     "shell.execute_reply": "2024-09-16T06:01:00.726543Z"
    },
    "papermill": {
     "duration": 0.228465,
     "end_time": "2024-09-16T06:01:00.730664",
     "exception": false,
     "start_time": "2024-09-16T06:01:00.502199",
     "status": "completed"
    },
    "tags": []
   },
   "outputs": [],
   "source": [
    "# BORDERS & FORMATTING\n",
    "sheet['cht_nr'][0,3:].font.bold = True \n",
    "\n",
    "# BORDER\n",
    "sheet['cht_nr'][0:8,3:].api.get_border(which_border=k.border_top).weight.set(4)\n",
    "sheet['cht_nr'][0:8,3:].api.get_border(which_border=k.border_left).weight.set(4)\n",
    "sheet['cht_nr'][0:8,3:].api.get_border(which_border=k.border_bottom).weight.set(4)\n",
    "sheet['cht_nr'][0:8,3:].api.get_border(which_border=k.border_right).weight.set(4)"
   ]
  },
  {
   "attachments": {},
   "cell_type": "markdown",
   "id": "72b1419a",
   "metadata": {
    "papermill": {
     "duration": 0.007145,
     "end_time": "2024-09-16T06:01:00.765105",
     "exception": false,
     "start_time": "2024-09-16T06:01:00.757960",
     "status": "completed"
    },
    "tags": []
   },
   "source": [
    "Start here. All working above. \n",
    "Need to figure out FTEs and the sample project timeline."
   ]
  },
  {
   "cell_type": "code",
   "execution_count": 28,
   "id": "22a6181e",
   "metadata": {
    "execution": {
     "iopub.execute_input": "2024-09-16T06:01:00.778957Z",
     "iopub.status.busy": "2024-09-16T06:01:00.778803Z",
     "iopub.status.idle": "2024-09-16T06:01:00.872975Z",
     "shell.execute_reply": "2024-09-16T06:01:00.872623Z"
    },
    "papermill": {
     "duration": 0.102805,
     "end_time": "2024-09-16T06:01:00.874021",
     "exception": false,
     "start_time": "2024-09-16T06:01:00.771216",
     "status": "completed"
    },
    "tags": []
   },
   "outputs": [],
   "source": [
    "# Save workbook BUT leave open\n",
    "book_number = 'book01.xlsx'\n",
    "wb.save(book_number)"
   ]
  },
  {
   "attachments": {},
   "cell_type": "markdown",
   "id": "d96b8a54",
   "metadata": {
    "papermill": {
     "duration": 0.005127,
     "end_time": "2024-09-16T06:01:00.884632",
     "exception": false,
     "start_time": "2024-09-16T06:01:00.879505",
     "status": "completed"
    },
    "tags": []
   },
   "source": [
    "| END OF PROGRAM |\n",
    "| ----------- |\n",
    "| Notes for future DEV, and reference code below |"
   ]
  },
  {
   "cell_type": "code",
   "execution_count": 29,
   "id": "09f93d46",
   "metadata": {
    "execution": {
     "iopub.execute_input": "2024-09-16T06:01:00.895670Z",
     "iopub.status.busy": "2024-09-16T06:01:00.895543Z",
     "iopub.status.idle": "2024-09-16T06:01:00.896983Z",
     "shell.execute_reply": "2024-09-16T06:01:00.896783Z"
    },
    "papermill": {
     "duration": 0.007863,
     "end_time": "2024-09-16T06:01:00.897766",
     "exception": false,
     "start_time": "2024-09-16T06:01:00.889903",
     "status": "completed"
    },
    "tags": []
   },
   "outputs": [],
   "source": [
    "# # DATA - Hours breakdown by role\n",
    "# hrs_chart_data_loc = sheet['sow_nr'][200:210,:]\n",
    "# hrs_chart_data_list = ['ROLE', 'HOURS', 'COST', 'RATE']\n",
    "\n",
    "# hrs_chart_data_loc[:,3:5].value = hrs_chart_data_list\n",
    "\n",
    "# # set roles in new table\n",
    "# role_rate_loc[1:8,0].options(transpose=True).value = role_rate_loc[1:8,0]\n"
   ]
  },
  {
   "cell_type": "code",
   "execution_count": 30,
   "id": "1238d6bf",
   "metadata": {
    "execution": {
     "iopub.execute_input": "2024-09-16T06:01:00.909022Z",
     "iopub.status.busy": "2024-09-16T06:01:00.908909Z",
     "iopub.status.idle": "2024-09-16T06:01:00.910435Z",
     "shell.execute_reply": "2024-09-16T06:01:00.910223Z"
    },
    "papermill": {
     "duration": 0.007927,
     "end_time": "2024-09-16T06:01:00.911206",
     "exception": false,
     "start_time": "2024-09-16T06:01:00.903279",
     "status": "completed"
    },
    "tags": []
   },
   "outputs": [],
   "source": [
    "# DATA - Hours breakdown by stage"
   ]
  },
  {
   "cell_type": "code",
   "execution_count": 31,
   "id": "e03bb3c5",
   "metadata": {
    "execution": {
     "iopub.execute_input": "2024-09-16T06:01:00.922140Z",
     "iopub.status.busy": "2024-09-16T06:01:00.922047Z",
     "iopub.status.idle": "2024-09-16T06:01:00.923359Z",
     "shell.execute_reply": "2024-09-16T06:01:00.923153Z"
    },
    "papermill": {
     "duration": 0.007828,
     "end_time": "2024-09-16T06:01:00.924089",
     "exception": false,
     "start_time": "2024-09-16T06:01:00.916261",
     "status": "completed"
    },
    "tags": []
   },
   "outputs": [],
   "source": [
    "# DATA - Time breakdown by stage"
   ]
  },
  {
   "cell_type": "code",
   "execution_count": 32,
   "id": "8de9d047",
   "metadata": {
    "execution": {
     "iopub.execute_input": "2024-09-16T06:01:00.935802Z",
     "iopub.status.busy": "2024-09-16T06:01:00.935690Z",
     "iopub.status.idle": "2024-09-16T06:01:00.937773Z",
     "shell.execute_reply": "2024-09-16T06:01:00.937532Z"
    },
    "papermill": {
     "duration": 0.00872,
     "end_time": "2024-09-16T06:01:00.938505",
     "exception": false,
     "start_time": "2024-09-16T06:01:00.929785",
     "status": "completed"
    },
    "tags": []
   },
   "outputs": [
    {
     "data": {
      "text/plain": [
       "'\\nLoad overlay data and store as a dataframe\\nSlice new dataframe (3) dataframes\\nWrite 3 dataframes to respective excel document location\\nSet formulas to dynamically calculate totals\\nSet formulas to dynamically calculate hours based on percentages\\n'"
      ]
     },
     "execution_count": 32,
     "metadata": {},
     "output_type": "execute_result"
    }
   ],
   "source": [
    "\"\"\"\n",
    "Load overlay data and store as a dataframe\n",
    "Slice new dataframe (3) dataframes\n",
    "Write 3 dataframes to respective excel document location\n",
    "Set formulas to dynamically calculate totals\n",
    "Set formulas to dynamically calculate hours based on percentages\n",
    "\"\"\"\n",
    "# overlay_df = pd.read_excel('sow_input_v5.0_beta.xlsx', sheet_name='OVERLAY') \n",
    "\n",
    "# overlay_df"
   ]
  },
  {
   "cell_type": "code",
   "execution_count": 33,
   "id": "36e73084",
   "metadata": {
    "execution": {
     "iopub.execute_input": "2024-09-16T06:01:00.949142Z",
     "iopub.status.busy": "2024-09-16T06:01:00.949024Z",
     "iopub.status.idle": "2024-09-16T06:01:00.950932Z",
     "shell.execute_reply": "2024-09-16T06:01:00.950724Z"
    },
    "papermill": {
     "duration": 0.008073,
     "end_time": "2024-09-16T06:01:00.951662",
     "exception": false,
     "start_time": "2024-09-16T06:01:00.943589",
     "status": "completed"
    },
    "tags": []
   },
   "outputs": [],
   "source": [
    "# \"\"\"    \n",
    "# OVERLAYS\n",
    "# -Scribe (BA)\n",
    "# -BPC\n",
    "# -EM\n",
    "# -TA (formerly SA)\n",
    "# \"\"\"\n",
    "\n",
    "# # Set color variable\n",
    "# overlay_color = '#F9F7ED'\n",
    "\n",
    "# \"\"\" \n",
    "# Define\n",
    "# -BA and EM\n",
    "# \"\"\"\n",
    "# scribe_ovy = overlay_df.iloc[0:1,1:]\n",
    "# sheet['def_nr'][16,1:].options(index=False, header=False).value = scribe_ovy\n",
    "# sheet['def_nr'][16,4].formula = '=ROUNDUP(SUM(E41:E55)*.05,0)' # Important - use ROUNDUP()\n",
    "\n",
    "# em_ovy = overlay_df.iloc[2:3,1:]\n",
    "# sheet['def_nr'][17,1:].options(index=False, header=False).value = em_ovy\n",
    "# sheet['def_nr'][17,4].formula = '=ROUNDUP(SUM(E41:E55)*.05,0)' # Important - use ROUNDUP()\n",
    "\n",
    "# sheet['def_nr'][16:18,1:].color = overlay_color\n",
    "\n",
    "# \"\"\" \n",
    "# Design\n",
    "# -BPC and EM\n",
    "# \"\"\"\n",
    "# bpc_ovy = overlay_df.iloc[1:2,1:]\n",
    "# sheet['des_nr'][16,1:].options(index=False, header=False).value = bpc_ovy\n",
    "# sheet['des_nr'][16,4].formula = '=ROUNDUP(SUM(E41:E55)*.05,0)' # Product sum from define phase is the scalar\n",
    "\n",
    "# sheet['des_nr'][17,1:].options(index=False, header=False).value = em_ovy\n",
    "# sheet['des_nr'][17,4].formula = '=ROUNDUP(SUM(E61:E75)*.05,0)' # Product sum from define phase is the scalar\n",
    "\n",
    "# sheet['des_nr'][16:18,1:].color = overlay_color\n",
    "\n",
    "# \"\"\"\n",
    "# Execute\n",
    "# -BPC, TA, and EM\n",
    "# \"\"\" \n",
    "# sheet['bld_nr'][15,1:].options(index=False, header=False).value = bpc_ovy\n",
    "# sheet['bld_nr'][15,4].formula = '=ROUNDUP(SUM(E81:E94)*.05,0)'\n",
    "\n",
    "# sa_ovy = overlay_df.iloc[3:4,1:]\n",
    "# sheet['bld_nr'][16,1:].options(index=False, header=False).value = sa_ovy\n",
    "# sheet['bld_nr'][16,4].formula = '=ROUNDUP(SUM(E81:E94)*.05,0)'\n",
    "\n",
    "# sheet['bld_nr'][17,1:].options(index=False, header=False).value = em_ovy\n",
    "# sheet['bld_nr'][17,4].formula = '=ROUNDUP(SUM(E81:E94)*.05,0)'\n",
    "\n",
    "# sheet['bld_nr'][15:18,1:].color = overlay_color\n",
    "\n",
    "# \"\"\"\n",
    "# Transition\n",
    "# -TA and EM\n",
    "# \"\"\"\n",
    "# sheet['trn_nr'][16,1:].options(index=False, header=False).value = sa_ovy\n",
    "# sheet['trn_nr'][16,4].formula = '=ROUNDUP(SUM(E101:E115)*.05,0)'\n",
    "\n",
    "# sheet['trn_nr'][17,1:].options(index=False, header=False).value = em_ovy\n",
    "# sheet['trn_nr'][17,4].formula = '=ROUNDUP(SUM(E101:E115)*.05,0)'\n",
    "\n",
    "# sheet['trn_nr'][16:18,1:].color = overlay_color\n",
    "\n",
    "# \"\"\"\n",
    "# Close\n",
    "# #### Nothing to add at the moment ####\n",
    "\n",
    "# \"\"\"\n",
    "# # Close\n",
    "# # -Think about using f strings to dynamically capture percentage adjustements\n",
    "# # \"\"\"\n",
    "# # cls_ovy = overlay_df.iloc[2:,1:]\n",
    "# # sheet['cls_nr'][15:18,1:].options(index=False, header=False).value = cls_ovy\n",
    "# # sheet['cls_nr'][15,4].formula = '=ROUNDUP(SUM(E58+E78+E98+E118)*.05,0)' # PM (define, design, execute, transition)\n",
    "# # sheet['cls_nr'][16,4].formula = '=ROUNDUP(SUM(E98+E118)*.05,0)' # SA (execute, transition)\n",
    "# # sheet['cls_nr'][17,4].formula = '=ROUNDUP(SUM(E98)*.05,0)' # BPC (execute)\n",
    "# # sheet['cls_nr'][17,1:].color = overlay_color\n"
   ]
  },
  {
   "cell_type": "code",
   "execution_count": 34,
   "id": "92a652df",
   "metadata": {
    "execution": {
     "iopub.execute_input": "2024-09-16T06:01:00.962190Z",
     "iopub.status.busy": "2024-09-16T06:01:00.962102Z",
     "iopub.status.idle": "2024-09-16T06:01:00.963894Z",
     "shell.execute_reply": "2024-09-16T06:01:00.963692Z"
    },
    "papermill": {
     "duration": 0.0079,
     "end_time": "2024-09-16T06:01:00.964638",
     "exception": false,
     "start_time": "2024-09-16T06:01:00.956738",
     "status": "completed"
    },
    "tags": []
   },
   "outputs": [
    {
     "data": {
      "text/plain": [
       "'\\nVerify active excel workbook and sheet\\n'"
      ]
     },
     "execution_count": 34,
     "metadata": {},
     "output_type": "execute_result"
    }
   ],
   "source": [
    "\"\"\"\n",
    "Verify active excel workbook and sheet\n",
    "\"\"\"\n",
    "# print(xw.apps.active)\n",
    "# print(xw.books.active)\n",
    "# print(xw.sheets.active)"
   ]
  },
  {
   "cell_type": "code",
   "execution_count": 35,
   "id": "ded9774f",
   "metadata": {
    "execution": {
     "iopub.execute_input": "2024-09-16T06:01:00.975350Z",
     "iopub.status.busy": "2024-09-16T06:01:00.975259Z",
     "iopub.status.idle": "2024-09-16T06:01:00.976695Z",
     "shell.execute_reply": "2024-09-16T06:01:00.976507Z"
    },
    "papermill": {
     "duration": 0.007645,
     "end_time": "2024-09-16T06:01:00.977404",
     "exception": false,
     "start_time": "2024-09-16T06:01:00.969759",
     "status": "completed"
    },
    "tags": []
   },
   "outputs": [],
   "source": [
    "# # Set named range for totals\n",
    "# sheet['D140:G144'].name = 'tot_nr'\n",
    "\n",
    "# # Assign values to cells by passing lists to the excel doc\n",
    "# sheet['tot_nr'][1,:].value = ['TOTAL HOURS', 0, 'TOTAL COST', '$0.00']\n",
    "# sheet['tot_nr'][2,:].value = ['', 'OTD', '0%', '$0.00']\n",
    "# sheet['tot_nr'][3,:].value = ['', '', 'GRAND TOTAL', '$0.00']\n",
    "\n",
    "# # Set font bold and color\n",
    "# sheet['tot_nr'][1:4,:].font.bold = True\n",
    "# sheet['tot_nr'][1:4,:].font.color = '#000000'\n",
    "\n",
    "# # Set formulas\n",
    "# sheet['tot_nr'][1,1].formula = '=(E139)'\n",
    "# sheet['tot_nr'][1,3].formula = '=(G139)'\n",
    "# sheet['tot_nr'][2,3].formula = '=(F142*G141)'\n",
    "# sheet['tot_nr'][3,3].formula = '=(G141-G142)'\n",
    "\n"
   ]
  },
  {
   "cell_type": "code",
   "execution_count": 36,
   "id": "e633e6ab",
   "metadata": {
    "execution": {
     "iopub.execute_input": "2024-09-16T06:01:00.988260Z",
     "iopub.status.busy": "2024-09-16T06:01:00.988149Z",
     "iopub.status.idle": "2024-09-16T06:01:00.989998Z",
     "shell.execute_reply": "2024-09-16T06:01:00.989719Z"
    },
    "papermill": {
     "duration": 0.008257,
     "end_time": "2024-09-16T06:01:00.990822",
     "exception": false,
     "start_time": "2024-09-16T06:01:00.982565",
     "status": "completed"
    },
    "tags": []
   },
   "outputs": [],
   "source": [
    "# # td_range = sheet['tot_nr'][1:,1:4].options(expand='table')\n",
    "# td_range = sheet['tot_nr'].options(expand='table')\n",
    "# td_value = td_range.value\n",
    "# td_value"
   ]
  },
  {
   "cell_type": "code",
   "execution_count": 37,
   "id": "9bbe399d",
   "metadata": {
    "execution": {
     "iopub.execute_input": "2024-09-16T06:01:01.002941Z",
     "iopub.status.busy": "2024-09-16T06:01:01.002805Z",
     "iopub.status.idle": "2024-09-16T06:01:01.004384Z",
     "shell.execute_reply": "2024-09-16T06:01:01.004140Z"
    },
    "papermill": {
     "duration": 0.008653,
     "end_time": "2024-09-16T06:01:01.005088",
     "exception": false,
     "start_time": "2024-09-16T06:01:00.996435",
     "status": "completed"
    },
    "tags": []
   },
   "outputs": [],
   "source": [
    "# \"\"\"\n",
    "# IMPORTANT - MacOS\n",
    "# Use appscript k function as a workaround because I use a macOS operating system\n",
    "# \"\"\" \n",
    "# from appscript import k"
   ]
  },
  {
   "cell_type": "code",
   "execution_count": 38,
   "id": "810e35fb",
   "metadata": {
    "execution": {
     "iopub.execute_input": "2024-09-16T06:01:01.016158Z",
     "iopub.status.busy": "2024-09-16T06:01:01.016069Z",
     "iopub.status.idle": "2024-09-16T06:01:01.017406Z",
     "shell.execute_reply": "2024-09-16T06:01:01.017204Z"
    },
    "papermill": {
     "duration": 0.007557,
     "end_time": "2024-09-16T06:01:01.018140",
     "exception": false,
     "start_time": "2024-09-16T06:01:01.010583",
     "status": "completed"
    },
    "tags": []
   },
   "outputs": [],
   "source": [
    "# # Set totals border(s)\n",
    "# sheet['tot_nr'][1:4,:].api.get_border(which_border=k.border_top).weight.set(4)\n",
    "# sheet['tot_nr'][1:4,:].api.get_border(which_border=k.border_left).weight.set(4)\n",
    "# sheet['tot_nr'][1:4,:].api.get_border(which_border=k.border_bottom).weight.set(4)\n",
    "# sheet['tot_nr'][1:4,:].api.get_border(which_border=k.border_right).weight.set(4)\n",
    "\n",
    "# # Set line style\n",
    "# sheet['tot_nr'][1:4,:].api.get_border(which_border=k.border_top).line_style.set(1)\n"
   ]
  },
  {
   "cell_type": "code",
   "execution_count": 39,
   "id": "c5fc730c",
   "metadata": {
    "execution": {
     "iopub.execute_input": "2024-09-16T06:01:01.029636Z",
     "iopub.status.busy": "2024-09-16T06:01:01.029510Z",
     "iopub.status.idle": "2024-09-16T06:01:01.031509Z",
     "shell.execute_reply": "2024-09-16T06:01:01.031291Z"
    },
    "papermill": {
     "duration": 0.00861,
     "end_time": "2024-09-16T06:01:01.032274",
     "exception": false,
     "start_time": "2024-09-16T06:01:01.023664",
     "status": "completed"
    },
    "tags": []
   },
   "outputs": [],
   "source": [
    "# \"\"\"\n",
    "# Set borders on overalys \n",
    "# \"\"\"\n",
    "# # Define\n",
    "# sheet['def_nr'][16:18,1:].api.get_border(which_border=k.border_top).weight.set(2)\n",
    "# sheet['def_nr'][16:18,1:].api.get_border(which_border=k.border_left).weight.set(2)\n",
    "# sheet['def_nr'][16:18,1:].api.get_border(which_border=k.border_bottom).weight.set(2)\n",
    "# sheet['def_nr'][16:18,1:].api.get_border(which_border=k.border_right).weight.set(2)\n",
    "\n",
    "# sheet['def_nr'][16:18,1:].api.get_border(which_border=k.border_top).line_style.set(1)\n",
    "\n",
    "# # Design\n",
    "# sheet['des_nr'][16:18,1:].api.get_border(which_border=k.border_top).weight.set(2)\n",
    "# sheet['des_nr'][16:18,1:].api.get_border(which_border=k.border_left).weight.set(2)\n",
    "# sheet['des_nr'][16:18,1:].api.get_border(which_border=k.border_bottom).weight.set(2)\n",
    "# sheet['des_nr'][16:18,1:].api.get_border(which_border=k.border_right).weight.set(2)\n",
    "\n",
    "# sheet['des_nr'][16:18,1:].api.get_border(which_border=k.border_top).line_style.set(1)\n",
    "\n",
    "\n",
    "# # Build\n",
    "# sheet['bld_nr'][15:18,1:].api.get_border(which_border=k.border_top).weight.set(2)\n",
    "# sheet['bld_nr'][15:18,1:].api.get_border(which_border=k.border_left).weight.set(2)\n",
    "# sheet['bld_nr'][15:18,1:].api.get_border(which_border=k.border_bottom).weight.set(2)\n",
    "# sheet['bld_nr'][15:18,1:].api.get_border(which_border=k.border_right).weight.set(2)\n",
    "\n",
    "# sheet['bld_nr'][15:18,1:].api.get_border(which_border=k.border_top).line_style.set(1)\n",
    "\n",
    "\n",
    "# # Transition\n",
    "# sheet['trn_nr'][16:18,1:].api.get_border(which_border=k.border_top).weight.set(2)\n",
    "# sheet['trn_nr'][16:18,1:].api.get_border(which_border=k.border_left).weight.set(2)\n",
    "# sheet['trn_nr'][16:18,1:].api.get_border(which_border=k.border_bottom).weight.set(2)\n",
    "# sheet['trn_nr'][16:18,1:].api.get_border(which_border=k.border_right).weight.set(2)\n",
    "\n",
    "# sheet['trn_nr'][16:18,1:].api.get_border(which_border=k.border_top).line_style.set(1)\n",
    "\n"
   ]
  },
  {
   "cell_type": "code",
   "execution_count": 40,
   "id": "92decc6b",
   "metadata": {
    "execution": {
     "iopub.execute_input": "2024-09-16T06:01:01.043271Z",
     "iopub.status.busy": "2024-09-16T06:01:01.043171Z",
     "iopub.status.idle": "2024-09-16T06:01:01.044769Z",
     "shell.execute_reply": "2024-09-16T06:01:01.044557Z"
    },
    "papermill": {
     "duration": 0.008013,
     "end_time": "2024-09-16T06:01:01.045487",
     "exception": false,
     "start_time": "2024-09-16T06:01:01.037474",
     "status": "completed"
    },
    "tags": []
   },
   "outputs": [],
   "source": [
    "# \"\"\"\n",
    "# Build a math checker\n",
    "# -Do something later like IF 'GRAND TOTAL' == 'GRAND TOTAL' THEN font.color=green ELSE font.color=red\n",
    "# \"\"\"\n",
    "# # Set named range for totals\n",
    "# sheet['D145:G149'].name = 'chk_nr'\n",
    "\n",
    "# # Assign values to cells by passing lists to the excel doc\n",
    "# sheet['chk_nr'][0,0].value = 'MATH CHECKER'\n",
    "# sheet['chk_nr'][1,:].value = ['TOTAL HOURS', 0, 'TOTAL COST', '$0.00']\n",
    "\n",
    "# # Set color on math checker field\n",
    "# sheet['chk_nr'][0,0].font.color = '#E21A23'\n",
    "\n",
    "# # Set font bold and color\n",
    "# sheet['chk_nr'][0:2,:].font.bold = True\n",
    "# sheet['chk_nr'][1:2,:].font.color = '#000000'\n",
    "\n",
    "# # Set formulas\n",
    "# sheet['chk_nr'][1,1].formula = '=SUM(E18+E38+E58+E78+E98+E118+E138)' # Total hours\n",
    "# sheet['chk_nr'][1,3].formula = '=SUM(G18+G38+G58+G78+G98+G118+G138)' # Total cost\n",
    "\n",
    "# # Set border and line style\n",
    "# sheet['chk_nr'][1:2,:].api.get_border(which_border=k.border_top).weight.set(4)\n",
    "# sheet['chk_nr'][1:2,:].api.get_border(which_border=k.border_left).weight.set(4)\n",
    "# sheet['chk_nr'][1:2,:].api.get_border(which_border=k.border_bottom).weight.set(4)\n",
    "# sheet['chk_nr'][1:2,:].api.get_border(which_border=k.border_right).weight.set(4)\n",
    "\n",
    "# # Default line style is (1) and some weird error happened. Leaving out."
   ]
  },
  {
   "cell_type": "code",
   "execution_count": 41,
   "id": "5e57868e",
   "metadata": {
    "execution": {
     "iopub.execute_input": "2024-09-16T06:01:01.056146Z",
     "iopub.status.busy": "2024-09-16T06:01:01.056067Z",
     "iopub.status.idle": "2024-09-16T06:01:01.057386Z",
     "shell.execute_reply": "2024-09-16T06:01:01.057193Z"
    },
    "papermill": {
     "duration": 0.007497,
     "end_time": "2024-09-16T06:01:01.058081",
     "exception": false,
     "start_time": "2024-09-16T06:01:01.050584",
     "status": "completed"
    },
    "tags": []
   },
   "outputs": [],
   "source": [
    "# # Import INPUT dataframes\n",
    "# env_df = pd.read_excel('sow_input_v5.0_beta.xlsx', sheet_name = 'ENVISION')\n",
    "# int_df = pd.read_excel('sow_input_v5.0_beta.xlsx', sheet_name = 'INITIATE')\n",
    "# # Skip DEFINE for now\n",
    "# des_df = pd.read_excel('sow_input_v5.0_beta.xlsx', sheet_name = 'DESIGN')\n",
    "# bld_df = pd.read_excel('sow_input_v5.0_beta.xlsx', sheet_name = 'BUILD')\n",
    "# trn_df = pd.read_excel('sow_input_v5.0_beta.xlsx', sheet_name = 'TRANSITION')\n",
    "# cls_df = pd.read_excel('sow_input_v5.0_beta.xlsx', sheet_name = 'CLOSE')"
   ]
  },
  {
   "cell_type": "code",
   "execution_count": 42,
   "id": "1ebac589",
   "metadata": {
    "execution": {
     "iopub.execute_input": "2024-09-16T06:01:01.068883Z",
     "iopub.status.busy": "2024-09-16T06:01:01.068781Z",
     "iopub.status.idle": "2024-09-16T06:01:01.070233Z",
     "shell.execute_reply": "2024-09-16T06:01:01.070039Z"
    },
    "papermill": {
     "duration": 0.007727,
     "end_time": "2024-09-16T06:01:01.070934",
     "exception": false,
     "start_time": "2024-09-16T06:01:01.063207",
     "status": "completed"
    },
    "tags": []
   },
   "outputs": [],
   "source": [
    "# sheet['env_nr'][1:,1:].options(index=False, header=False).value = env_df\n",
    "# sheet['int_nr'][1:,1:].options(index=False, header=False).value = int_df\n",
    "# # Skip DEFINE\n",
    "# sheet['des_nr'][1:,1:].options(index=False, header=False).value = des_df\n",
    "# sheet['bld_nr'][1:,1:].options(index=False, header=False).value = bld_df\n",
    "# sheet['trn_nr'][1:,1:].options(index=False, header=False).value = trn_df\n",
    "# sheet['cls_nr'][1:,1:].options(index=False, header=False).value = cls_df"
   ]
  },
  {
   "cell_type": "code",
   "execution_count": 43,
   "id": "5f36fe02",
   "metadata": {
    "execution": {
     "iopub.execute_input": "2024-09-16T06:01:01.081584Z",
     "iopub.status.busy": "2024-09-16T06:01:01.081481Z",
     "iopub.status.idle": "2024-09-16T06:01:01.082888Z",
     "shell.execute_reply": "2024-09-16T06:01:01.082680Z"
    },
    "papermill": {
     "duration": 0.007531,
     "end_time": "2024-09-16T06:01:01.083580",
     "exception": false,
     "start_time": "2024-09-16T06:01:01.076049",
     "status": "completed"
    },
    "tags": []
   },
   "outputs": [],
   "source": [
    "# Highlight \"BREAK INSERT HERE\" - This is where SOW input data is injected\n",
    "# sheet['bld_nr'][4,1:].color = '#ffff00'\n",
    "# sheet['def_nr'][4,1:].color = '#ffff00'"
   ]
  },
  {
   "cell_type": "code",
   "execution_count": 44,
   "id": "4c186209",
   "metadata": {
    "execution": {
     "iopub.execute_input": "2024-09-16T06:01:01.094697Z",
     "iopub.status.busy": "2024-09-16T06:01:01.094589Z",
     "iopub.status.idle": "2024-09-16T06:01:01.096048Z",
     "shell.execute_reply": "2024-09-16T06:01:01.095845Z"
    },
    "papermill": {
     "duration": 0.007932,
     "end_time": "2024-09-16T06:01:01.096743",
     "exception": false,
     "start_time": "2024-09-16T06:01:01.088811",
     "status": "completed"
    },
    "tags": []
   },
   "outputs": [],
   "source": [
    "# \"\"\"\n",
    "# RATES & ROLES\n",
    "# \"\"\"\n",
    "# # Set roles rates named range\n",
    "# sheet['A150:G159'].name = 'rr_nr'\n",
    "\n",
    "# # Read in ROLES_RATES df \n",
    "# rr_df = pd.read_excel('sow_input_v5.0_beta.xlsx', sheet_name = 'ROLES_RATES')\n",
    "\n",
    "# rr_df = rr_df.iloc[0:7,:]\n",
    "\n",
    "# rr_df"
   ]
  },
  {
   "cell_type": "code",
   "execution_count": 45,
   "id": "2d238239",
   "metadata": {
    "execution": {
     "iopub.execute_input": "2024-09-16T06:01:01.108125Z",
     "iopub.status.busy": "2024-09-16T06:01:01.108025Z",
     "iopub.status.idle": "2024-09-16T06:01:01.109680Z",
     "shell.execute_reply": "2024-09-16T06:01:01.109476Z"
    },
    "papermill": {
     "duration": 0.008185,
     "end_time": "2024-09-16T06:01:01.110406",
     "exception": false,
     "start_time": "2024-09-16T06:01:01.102221",
     "status": "completed"
    },
    "tags": []
   },
   "outputs": [],
   "source": [
    "# # Assign header value in excel\n",
    "# rr_header_list = ['ROLE', \n",
    "#                   'ROLE NAME', \n",
    "#                   'ROLE DESCRIPTION', \n",
    "#                   'STD RATE', \n",
    "#                   'DISCOUNT', \n",
    "#                   'DISCOUNT %', \n",
    "#                   'RATE']\n",
    "\n",
    "# sheet['rr_nr'][0,:].value = rr_header_list\n",
    "\n",
    "# # Insert rows rates dataframe \n",
    "# sheet['rr_nr'][1:,0:].options(index=False, header=False).value = rr_df\n",
    "\n",
    "# # Set 0% and $0.00 formatting\n",
    "# sheet['rr_nr'][1:,3].number_format = '$0.00' # STD RATE\n",
    "# sheet['rr_nr'][1:,4].number_format = '$0.00' # DISCOUNT\n",
    "# sheet['rr_nr'][1:,5].number_format = '0.0%' # DISCOUNT %\n",
    "# sheet['rr_nr'][1:,6].number_format = '$0.00' # NEGOTIATED RATE\n",
    "\n",
    "# # Set formula to calculate final rate from discount (discount applied manually by user)\n",
    "# sheet['rr_nr'][1:8,6].formula = '=(D151-E151)'\n",
    "\n",
    "# \"\"\"\n",
    "# Set discount formula\n",
    "# -Important for usability by non-technical user\n",
    "# \"\"\" \n",
    "\n",
    "# # Set formula to calculate discount perecentage\n",
    "# sheet['rr_nr'][1:8,5].formula = '=(E151/D151)'"
   ]
  },
  {
   "cell_type": "code",
   "execution_count": 46,
   "id": "1f1573f3",
   "metadata": {
    "execution": {
     "iopub.execute_input": "2024-09-16T06:01:01.121500Z",
     "iopub.status.busy": "2024-09-16T06:01:01.121404Z",
     "iopub.status.idle": "2024-09-16T06:01:01.122817Z",
     "shell.execute_reply": "2024-09-16T06:01:01.122626Z"
    },
    "papermill": {
     "duration": 0.007704,
     "end_time": "2024-09-16T06:01:01.123533",
     "exception": false,
     "start_time": "2024-09-16T06:01:01.115829",
     "status": "completed"
    },
    "tags": []
   },
   "outputs": [],
   "source": [
    "# \"\"\" \n",
    "# Format roles and rates table in excel doc\n",
    "# \"\"\"\n",
    "# # Set bold header\n",
    "# sheet['rr_nr'][0,:].font.bold = True\n",
    "\n",
    "# # Set border and line style\n",
    "# sheet['rr_nr'][0:8,:].api.get_border(which_border=k.border_top).weight.set(4)\n",
    "# sheet['rr_nr'][0:8,:].api.get_border(which_border=k.border_left).weight.set(4)\n",
    "# sheet['rr_nr'][0:8,:].api.get_border(which_border=k.border_bottom).weight.set(4)\n",
    "# sheet['rr_nr'][0:8,:].api.get_border(which_border=k.border_right).weight.set(4)\n",
    "\n",
    "# # AGAIN default line style is (1) and some weird error happened. Leaving out."
   ]
  },
  {
   "cell_type": "code",
   "execution_count": 47,
   "id": "474e85b8",
   "metadata": {
    "execution": {
     "iopub.execute_input": "2024-09-16T06:01:01.134579Z",
     "iopub.status.busy": "2024-09-16T06:01:01.134478Z",
     "iopub.status.idle": "2024-09-16T06:01:01.135901Z",
     "shell.execute_reply": "2024-09-16T06:01:01.135688Z"
    },
    "papermill": {
     "duration": 0.008033,
     "end_time": "2024-09-16T06:01:01.136649",
     "exception": false,
     "start_time": "2024-09-16T06:01:01.128616",
     "status": "completed"
    },
    "tags": []
   },
   "outputs": [],
   "source": [
    "# # Add define baseline tasks\n",
    "# def_df = pd.read_excel('sow_input_v5.0_beta.xlsx', sheet_name = 'DEFINE')\n",
    "# sheet['def_nr'][1:,1:].options(index=False, header=False).value = def_df"
   ]
  },
  {
   "cell_type": "code",
   "execution_count": 48,
   "id": "25a84e49",
   "metadata": {
    "execution": {
     "iopub.execute_input": "2024-09-16T06:01:01.147694Z",
     "iopub.status.busy": "2024-09-16T06:01:01.147601Z",
     "iopub.status.idle": "2024-09-16T06:01:01.149186Z",
     "shell.execute_reply": "2024-09-16T06:01:01.148988Z"
    },
    "papermill": {
     "duration": 0.007936,
     "end_time": "2024-09-16T06:01:01.150000",
     "exception": false,
     "start_time": "2024-09-16T06:01:01.142064",
     "status": "completed"
    },
    "tags": []
   },
   "outputs": [],
   "source": [
    "# # Use VLOOKUP() to auto-apply rates or adjusted rates from excel doc roles and rates table\n",
    "\n",
    "# \"\"\"\n",
    "# Envision\n",
    "# \"\"\" \n",
    "# sheet['env_nr'][1:3, 5].formula = '=VLOOKUP(D3,$A$150:$G$157,7,FALSE)'\n",
    "\n",
    "# \"\"\"\n",
    "# Initiate\n",
    "# \"\"\" \n",
    "# sheet['int_nr'][1:9, 5].formula = '=VLOOKUP(D21,$A$150:$G$157,7,FALSE)'\n",
    "\n",
    "# \"\"\"\n",
    "# Define\n",
    "# -Leave out for now\n",
    "# \"\"\" \n",
    "# sheet['def_nr'][1:5, 5].formula = '=VLOOKUP(D41,$A$150:$G$157,7,FALSE)'\n",
    "\n",
    "# \"\"\"\n",
    "# Design\n",
    "# \"\"\" \n",
    "# sheet['des_nr'][1:4, 5].formula = '=VLOOKUP(D61,$A$150:$G$157,7,FALSE)'\n",
    "\n",
    "# \"\"\"\n",
    "# Build\n",
    "# \"\"\" \n",
    "# sheet['bld_nr'][1:5, 5].formula = '=VLOOKUP(D81,$A$150:$G$157,7,FALSE)'\n",
    "\n",
    "# \"\"\"\n",
    "# Transition\n",
    "# \"\"\" \n",
    "# sheet['trn_nr'][1:13, 5].formula = '=VLOOKUP(D101,$A$150:$G$157,7,FALSE)'\n",
    "\n",
    "# \"\"\"\n",
    "# Close\n",
    "# \"\"\" \n",
    "# sheet['cls_nr'][1:6, 5].formula = '=VLOOKUP(D121,$A$150:$G$157,7,FALSE)'"
   ]
  },
  {
   "cell_type": "code",
   "execution_count": 49,
   "id": "00ad24a6",
   "metadata": {
    "execution": {
     "iopub.execute_input": "2024-09-16T06:01:01.161176Z",
     "iopub.status.busy": "2024-09-16T06:01:01.161065Z",
     "iopub.status.idle": "2024-09-16T06:01:01.162435Z",
     "shell.execute_reply": "2024-09-16T06:01:01.162226Z"
    },
    "papermill": {
     "duration": 0.007755,
     "end_time": "2024-09-16T06:01:01.163169",
     "exception": false,
     "start_time": "2024-09-16T06:01:01.155414",
     "status": "completed"
    },
    "tags": []
   },
   "outputs": [],
   "source": [
    "# # Overlays\n",
    "# sheet['def_nr'][16:18, 5].formula = '=VLOOKUP(D56,$A$150:$G$157,7,FALSE)'\n",
    "# sheet['des_nr'][16:18, 5].formula = '=VLOOKUP(D76,$A$150:$G$157,7,FALSE)'\n",
    "# sheet['bld_nr'][15:18, 5].formula = '=VLOOKUP(D95,$A$150:$G$157,7,FALSE)'\n",
    "# sheet['trn_nr'][16:18, 5].formula = '=VLOOKUP(D116,$A$150:$G$157,7,FALSE)'"
   ]
  },
  {
   "cell_type": "code",
   "execution_count": 50,
   "id": "d174e2d7",
   "metadata": {
    "execution": {
     "iopub.execute_input": "2024-09-16T06:01:01.174175Z",
     "iopub.status.busy": "2024-09-16T06:01:01.174073Z",
     "iopub.status.idle": "2024-09-16T06:01:01.175522Z",
     "shell.execute_reply": "2024-09-16T06:01:01.175290Z"
    },
    "papermill": {
     "duration": 0.007806,
     "end_time": "2024-09-16T06:01:01.176245",
     "exception": false,
     "start_time": "2024-09-16T06:01:01.168439",
     "status": "completed"
    },
    "tags": []
   },
   "outputs": [],
   "source": [
    "# # Save workbook then close workbook (manually)\n",
    "# book_number = 'book01.xlsx'\n",
    "# wb.save(book_number)\n",
    "# # wb.close() # Nice feature to save and close"
   ]
  },
  {
   "attachments": {},
   "cell_type": "markdown",
   "id": "1150e0cb",
   "metadata": {
    "papermill": {
     "duration": 0.005074,
     "end_time": "2024-09-16T06:01:01.186479",
     "exception": false,
     "start_time": "2024-09-16T06:01:01.181405",
     "status": "completed"
    },
    "tags": []
   },
   "source": [
    "#### All working above this lien\n",
    "-Baseline template completed"
   ]
  },
  {
   "cell_type": "code",
   "execution_count": 51,
   "id": "69437990",
   "metadata": {
    "execution": {
     "iopub.execute_input": "2024-09-16T06:01:01.197200Z",
     "iopub.status.busy": "2024-09-16T06:01:01.197100Z",
     "iopub.status.idle": "2024-09-16T06:01:01.198694Z",
     "shell.execute_reply": "2024-09-16T06:01:01.198364Z"
    },
    "papermill": {
     "duration": 0.007887,
     "end_time": "2024-09-16T06:01:01.199493",
     "exception": false,
     "start_time": "2024-09-16T06:01:01.191606",
     "status": "completed"
    },
    "tags": []
   },
   "outputs": [],
   "source": [
    "# # Read in ITSM define\n",
    "# itsm_df = pd.read_excel('sow_input_v5.0_beta.xlsx', sheet_name = 'ITSM')\n",
    "\n",
    "# itsm_df.head()\n"
   ]
  },
  {
   "attachments": {},
   "cell_type": "markdown",
   "id": "95801975",
   "metadata": {
    "papermill": {
     "duration": 0.005037,
     "end_time": "2024-09-16T06:01:01.209841",
     "exception": false,
     "start_time": "2024-09-16T06:01:01.204804",
     "status": "completed"
    },
    "tags": []
   },
   "source": []
  },
  {
   "cell_type": "code",
   "execution_count": 52,
   "id": "0f07422e",
   "metadata": {
    "execution": {
     "iopub.execute_input": "2024-09-16T06:01:01.220402Z",
     "iopub.status.busy": "2024-09-16T06:01:01.220296Z",
     "iopub.status.idle": "2024-09-16T06:01:01.221821Z",
     "shell.execute_reply": "2024-09-16T06:01:01.221603Z"
    },
    "papermill": {
     "duration": 0.007721,
     "end_time": "2024-09-16T06:01:01.222539",
     "exception": false,
     "start_time": "2024-09-16T06:01:01.214818",
     "status": "completed"
    },
    "tags": []
   },
   "outputs": [],
   "source": [
    "# \"\"\"\n",
    "# Slicing (filtering itsm dataframe based on license entitlement)\n",
    "\n",
    "# \"\"\"\n",
    "# # Slice dataframe using boolean indexing (like auto-filter in excel)\n",
    "# itsm_lic_ent = 'standard' # Set license entitlement one (1) time here\n",
    "# itsm_filt = (itsm_df[itsm_lic_ent] == 'Y')\n",
    "# itsm_filt_df = itsm_df.loc[itsm_filt, :]\n",
    "\n",
    "# itsm_filt_df\n"
   ]
  },
  {
   "cell_type": "code",
   "execution_count": 53,
   "id": "b987cdcf",
   "metadata": {
    "execution": {
     "iopub.execute_input": "2024-09-16T06:01:01.233375Z",
     "iopub.status.busy": "2024-09-16T06:01:01.233274Z",
     "iopub.status.idle": "2024-09-16T06:01:01.234533Z",
     "shell.execute_reply": "2024-09-16T06:01:01.234336Z"
    },
    "papermill": {
     "duration": 0.007519,
     "end_time": "2024-09-16T06:01:01.235252",
     "exception": false,
     "start_time": "2024-09-16T06:01:01.227733",
     "status": "completed"
    },
    "tags": []
   },
   "outputs": [],
   "source": [
    "# itsm_def_df = itsm_filt_df.iloc[:,1:5] # Important start from task column\n",
    "\n",
    "# itsm_def_df"
   ]
  },
  {
   "cell_type": "code",
   "execution_count": 54,
   "id": "cd6bf103",
   "metadata": {
    "execution": {
     "iopub.execute_input": "2024-09-16T06:01:01.245983Z",
     "iopub.status.busy": "2024-09-16T06:01:01.245889Z",
     "iopub.status.idle": "2024-09-16T06:01:01.247327Z",
     "shell.execute_reply": "2024-09-16T06:01:01.247124Z"
    },
    "papermill": {
     "duration": 0.007558,
     "end_time": "2024-09-16T06:01:01.247999",
     "exception": false,
     "start_time": "2024-09-16T06:01:01.240441",
     "status": "completed"
    },
    "tags": []
   },
   "outputs": [],
   "source": [
    "# # Read in ITSM build\n",
    "# itsm_exe_df = pd.read_excel('sow_input_v5.0_beta.xlsx', sheet_name = 'ITSM_BUILD')\n",
    "# itsm_exe_df\n",
    "\n",
    "# # Slice dataframe\n",
    "# # itsm_lic_ent = 'standard'\n",
    "# itsm_filt_bld = (itsm_exe_df[itsm_lic_ent] == 'Y')\n",
    "# itsm_filt_bld_df = itsm_exe_df.loc[itsm_filt_bld, :]\n",
    "\n",
    "# itsm_bld_df = itsm_filt_bld_df.iloc[:,1:5] # Important start from feature columns\n",
    "\n",
    "# itsm_bld_df"
   ]
  },
  {
   "cell_type": "code",
   "execution_count": 55,
   "id": "ae7a9210",
   "metadata": {
    "execution": {
     "iopub.execute_input": "2024-09-16T06:01:01.258783Z",
     "iopub.status.busy": "2024-09-16T06:01:01.258682Z",
     "iopub.status.idle": "2024-09-16T06:01:01.260577Z",
     "shell.execute_reply": "2024-09-16T06:01:01.260377Z"
    },
    "papermill": {
     "duration": 0.008061,
     "end_time": "2024-09-16T06:01:01.261243",
     "exception": false,
     "start_time": "2024-09-16T06:01:01.253182",
     "status": "completed"
    },
    "tags": []
   },
   "outputs": [
    {
     "data": {
      "text/plain": [
       "'\\nInsert new rows to create space for workshop and build tasks / features\\n'"
      ]
     },
     "execution_count": 55,
     "metadata": {},
     "output_type": "execute_result"
    }
   ],
   "source": [
    "\"\"\"\n",
    "Insert new rows to create space for workshop and build tasks / features\n",
    "\"\"\"\n",
    "# sheet['def_nr'][5:16,:].insert(shift='down', copy_origin='format_from_left_or_above')\n",
    "# sheet['bld_nr'][6:16,:].insert(shift='down', copy_origin='format_from_right_or_below')"
   ]
  },
  {
   "cell_type": "code",
   "execution_count": 56,
   "id": "f0b79f33",
   "metadata": {
    "execution": {
     "iopub.execute_input": "2024-09-16T06:01:01.272174Z",
     "iopub.status.busy": "2024-09-16T06:01:01.272080Z",
     "iopub.status.idle": "2024-09-16T06:01:01.274150Z",
     "shell.execute_reply": "2024-09-16T06:01:01.273928Z"
    },
    "papermill": {
     "duration": 0.008336,
     "end_time": "2024-09-16T06:01:01.274863",
     "exception": false,
     "start_time": "2024-09-16T06:01:01.266527",
     "status": "completed"
    },
    "tags": []
   },
   "outputs": [
    {
     "data": {
      "text/plain": [
       "'\\nhttps://learn.microsoft.com/en-US/dotnet/api/microsoft.office.interop.excel.xllinestyle?view=excel-pia\\n'"
      ]
     },
     "execution_count": 56,
     "metadata": {},
     "output_type": "execute_result"
    }
   ],
   "source": [
    "# Set borders top, left, right, bottom\n",
    "# sheet.range('B150:G160').value = 'sudz'\n",
    "# sheet.range('B150:G160').api.get_border(which_border=k.border_top).weight.set(3)\n",
    "# sheet.range('B150:G160').api.get_border(which_border=k.border_left).weight.set(3)\n",
    "# sheet.range('B150:G160').api.get_border(which_border=k.border_right).weight.set(3)\n",
    "# sheet.range('B150:G160').api.get_border(which_border=k.border_bottom).weight.set(3)\n",
    "\n",
    "\"\"\"\n",
    "https://learn.microsoft.com/en-US/dotnet/api/microsoft.office.interop.excel.xllinestyle?view=excel-pia\n",
    "\"\"\"\n",
    "# Line style examples\n",
    "# sheet.range('B150:G160').api.get_border(which_border=k.border_top).line_style.set(1) # Continuous line\n",
    "# sheet.range('B150:G160').api.get_border(which_border=k.border_top).line_style.set(-4115) # Dashed line\n",
    "# sheet.range('B150:G160').api.get_border(which_border=k.border_top).line_style.set(4) # Alternating dashes and dots\n",
    "# sheet.range('B150:G160').api.get_border(which_border=k.border_top).line_style.set(5) # Dash followed by two dots\n",
    "# sheet.range('B150:G160').api.get_border(which_border=k.border_top).line_style.set(-4118) # Dotted line\n",
    "# sheet.range('B150:G160').api.get_border(which_border=k.border_top).line_style.set(-4119) # Double line\n",
    "# sheet.range('B150:G160').api.get_border(which_border=k.border_top).line_style.set(-4142) # No line\n",
    "# sheet.range('B150:G160').api.get_border(which_border=k.border_top).line_style.set(13) # Slanted dashes\n",
    "\n"
   ]
  },
  {
   "cell_type": "code",
   "execution_count": 57,
   "id": "26577e9c",
   "metadata": {
    "execution": {
     "iopub.execute_input": "2024-09-16T06:01:01.285762Z",
     "iopub.status.busy": "2024-09-16T06:01:01.285680Z",
     "iopub.status.idle": "2024-09-16T06:01:01.286888Z",
     "shell.execute_reply": "2024-09-16T06:01:01.286689Z"
    },
    "papermill": {
     "duration": 0.007485,
     "end_time": "2024-09-16T06:01:01.287569",
     "exception": false,
     "start_time": "2024-09-16T06:01:01.280084",
     "status": "completed"
    },
    "tags": []
   },
   "outputs": [],
   "source": [
    "# # Save workbook then close workbook (manually)\n",
    "# book_number = 'book18.xlsx'\n",
    "# wb.save(book_number)\n",
    "# wb.close() # Nice feature to save an close"
   ]
  },
  {
   "cell_type": "code",
   "execution_count": 58,
   "id": "fc6800df",
   "metadata": {
    "execution": {
     "iopub.execute_input": "2024-09-16T06:01:01.298498Z",
     "iopub.status.busy": "2024-09-16T06:01:01.298365Z",
     "iopub.status.idle": "2024-09-16T06:01:01.299921Z",
     "shell.execute_reply": "2024-09-16T06:01:01.299654Z"
    },
    "papermill": {
     "duration": 0.007864,
     "end_time": "2024-09-16T06:01:01.300664",
     "exception": false,
     "start_time": "2024-09-16T06:01:01.292800",
     "status": "completed"
    },
    "tags": []
   },
   "outputs": [],
   "source": [
    "# # Reopen workbook\n",
    "# wb = xw.Book(book_number)\n",
    "# sheet = wb.sheets[0] "
   ]
  },
  {
   "cell_type": "code",
   "execution_count": 59,
   "id": "bfb0bb70",
   "metadata": {
    "execution": {
     "iopub.execute_input": "2024-09-16T06:01:01.311776Z",
     "iopub.status.busy": "2024-09-16T06:01:01.311641Z",
     "iopub.status.idle": "2024-09-16T06:01:01.313862Z",
     "shell.execute_reply": "2024-09-16T06:01:01.313656Z"
    },
    "papermill": {
     "duration": 0.008483,
     "end_time": "2024-09-16T06:01:01.314559",
     "exception": false,
     "start_time": "2024-09-16T06:01:01.306076",
     "status": "completed"
    },
    "tags": []
   },
   "outputs": [
    {
     "data": {
      "text/plain": [
       "'\\nDifferent ways to create a dataframe refresher\\n\\nUsing a list\\nList of lists\\nDictionary\\nList of dictionaries\\nZip function\\nDictionary of series\\n'"
      ]
     },
     "execution_count": 59,
     "metadata": {},
     "output_type": "execute_result"
    }
   ],
   "source": [
    "\"\"\"\n",
    "Different ways to create a dataframe refresher\n",
    "\n",
    "Using a list\n",
    "List of lists\n",
    "Dictionary\n",
    "List of dictionaries\n",
    "Zip function\n",
    "Dictionary of series\n",
    "\"\"\" \n",
    "\n",
    "# List\n",
    "# lst = [1,2,3,4,5]\n",
    "# df = pd.DataFrame(lst)\n",
    "# df\n",
    "\n",
    "# List of lists\n",
    "# lst = [[1,2,3,4,5], [10,20,30,40,50]]\n",
    "# df = pd.DataFrame(lst)\n",
    "# df\n",
    "\n",
    "# List of lists 2\n",
    "# lst = [['Anna', 10], ['Bob', 20], ['Charlie', 30]]\n",
    "# df = pd.DataFrame(lst)\n",
    "# df\n",
    "\n",
    "# Dictionary\n",
    "# data = {'Name':['Anna', 'Bob', 'Charlie'],\n",
    "#         'Score': [95, 74, 56]\n",
    "#         }\n",
    "\n",
    "# df = pd.DataFrame(data)\n",
    "# df\n",
    "\n",
    "# # List of dictionaries\n",
    "# lst = [{'a':'blue', 'b':2, 'c':3},\n",
    "#        {'a':45, 'b':89, 'c':90},\n",
    "#        {'a':45, 'b':89}\n",
    "#        ]\n",
    "\n",
    "# df = pd.DataFrame(lst)\n",
    "# df\n",
    "\n",
    "# Zip function\n",
    "# Dictionary of series"
   ]
  },
  {
   "cell_type": "code",
   "execution_count": 60,
   "id": "17734c25",
   "metadata": {
    "execution": {
     "iopub.execute_input": "2024-09-16T06:01:01.325502Z",
     "iopub.status.busy": "2024-09-16T06:01:01.325416Z",
     "iopub.status.idle": "2024-09-16T06:01:01.326613Z",
     "shell.execute_reply": "2024-09-16T06:01:01.326428Z"
    },
    "papermill": {
     "duration": 0.00744,
     "end_time": "2024-09-16T06:01:01.327271",
     "exception": false,
     "start_time": "2024-09-16T06:01:01.319831",
     "status": "completed"
    },
    "tags": []
   },
   "outputs": [],
   "source": [
    "# def scribe(nr, ):\n",
    "#     sheet[nr].last_cell.row, sheet[nr].last_cell.column"
   ]
  },
  {
   "cell_type": "code",
   "execution_count": 61,
   "id": "cef3eff7",
   "metadata": {
    "execution": {
     "iopub.execute_input": "2024-09-16T06:01:01.338804Z",
     "iopub.status.busy": "2024-09-16T06:01:01.338696Z",
     "iopub.status.idle": "2024-09-16T06:01:01.340170Z",
     "shell.execute_reply": "2024-09-16T06:01:01.339951Z"
    },
    "papermill": {
     "duration": 0.008185,
     "end_time": "2024-09-16T06:01:01.340887",
     "exception": false,
     "start_time": "2024-09-16T06:01:01.332702",
     "status": "completed"
    },
    "tags": []
   },
   "outputs": [],
   "source": [
    "# nr_last_row = sheet['env_nr'].last_cell.row\n",
    "# nr_last_column = sheet['env_nr'].last_cell.columns\n",
    "\n",
    "# sheet['env_nr'][1:,0:]\n",
    "\n",
    "\n",
    "# scribe_row = sheet['env_nr'].last_cell.row-2\n",
    "# scribe_row\n"
   ]
  },
  {
   "cell_type": "code",
   "execution_count": 62,
   "id": "1e396364",
   "metadata": {
    "execution": {
     "iopub.execute_input": "2024-09-16T06:01:01.352296Z",
     "iopub.status.busy": "2024-09-16T06:01:01.352203Z",
     "iopub.status.idle": "2024-09-16T06:01:01.353651Z",
     "shell.execute_reply": "2024-09-16T06:01:01.353435Z"
    },
    "papermill": {
     "duration": 0.007903,
     "end_time": "2024-09-16T06:01:01.354368",
     "exception": false,
     "start_time": "2024-09-16T06:01:01.346465",
     "status": "completed"
    },
    "tags": []
   },
   "outputs": [],
   "source": [
    "# sheet['env_nr'][scribe_row,0].color = '#704214'"
   ]
  },
  {
   "attachments": {},
   "cell_type": "markdown",
   "id": "fcd1e7f9",
   "metadata": {
    "papermill": {
     "duration": 0.005442,
     "end_time": "2024-09-16T06:01:01.365116",
     "exception": false,
     "start_time": "2024-09-16T06:01:01.359674",
     "status": "completed"
    },
    "tags": []
   },
   "source": []
  },
  {
   "attachments": {},
   "cell_type": "markdown",
   "id": "b6941362",
   "metadata": {
    "papermill": {
     "duration": 0.005216,
     "end_time": "2024-09-16T06:01:01.375531",
     "exception": false,
     "start_time": "2024-09-16T06:01:01.370315",
     "status": "completed"
    },
    "tags": []
   },
   "source": [
    "#### More base formatting can go here\n",
    "Think things like formatting columns and formulas\n",
    "FORMULAS overlays"
   ]
  },
  {
   "cell_type": "code",
   "execution_count": 63,
   "id": "03b8be73",
   "metadata": {
    "execution": {
     "iopub.execute_input": "2024-09-16T06:01:01.386372Z",
     "iopub.status.busy": "2024-09-16T06:01:01.386282Z",
     "iopub.status.idle": "2024-09-16T06:01:01.387800Z",
     "shell.execute_reply": "2024-09-16T06:01:01.387566Z"
    },
    "papermill": {
     "duration": 0.007787,
     "end_time": "2024-09-16T06:01:01.388553",
     "exception": false,
     "start_time": "2024-09-16T06:01:01.380766",
     "status": "completed"
    },
    "tags": []
   },
   "outputs": [],
   "source": [
    "# Last cell practice\n",
    "# print(sheet['env_nr'].last_cell.column)\n",
    "# print(sheet['int_nr'].last_cell.column)\n",
    "# print(sheet['def_nr'].last_cell.column)\n",
    "# print(sheet['env_nr'].last_cell.row)\n",
    "# print(sheet['int_nr'].last_cell.row)\n",
    "# print(sheet['def_nr'].last_cell.row)\n",
    "\n",
    "# sheet['def_nr'].last_cell.row, sheet['def_nr'].last_cell.columns"
   ]
  },
  {
   "attachments": {},
   "cell_type": "markdown",
   "id": "2b9b889f",
   "metadata": {
    "papermill": {
     "duration": 0.005342,
     "end_time": "2024-09-16T06:01:01.399369",
     "exception": false,
     "start_time": "2024-09-16T06:01:01.394027",
     "status": "completed"
    },
    "tags": []
   },
   "source": [
    "#### Read in data"
   ]
  },
  {
   "cell_type": "code",
   "execution_count": 64,
   "id": "462e2b2b",
   "metadata": {
    "execution": {
     "iopub.execute_input": "2024-09-16T06:01:01.410439Z",
     "iopub.status.busy": "2024-09-16T06:01:01.410339Z",
     "iopub.status.idle": "2024-09-16T06:01:01.411761Z",
     "shell.execute_reply": "2024-09-16T06:01:01.411551Z"
    },
    "papermill": {
     "duration": 0.007798,
     "end_time": "2024-09-16T06:01:01.412471",
     "exception": false,
     "start_time": "2024-09-16T06:01:01.404673",
     "status": "completed"
    },
    "tags": []
   },
   "outputs": [],
   "source": [
    "# env_df = pd.read_excel('sow_input_v4.0_beta.xlsx', sheet_name='ENVISION')  \n",
    "# int_df = pd.read_excel('sow_input_v4.0_beta.xlsx', sheet_name='INITIATE')    \n",
    "# des_df = pd.read_excel('sow_input_v4.0_beta.xlsx', sheet_name='DESIGN')\n",
    "# trn_df = pd.read_excel('sow_input_v4.0_beta.xlsx', sheet_name='TRANSITION')\n",
    "# cls_df = pd.read_excel('sow_input_v4.0_beta.xlsx', sheet_name='CLOSE')"
   ]
  },
  {
   "cell_type": "code",
   "execution_count": 65,
   "id": "553ff0c5",
   "metadata": {
    "execution": {
     "iopub.execute_input": "2024-09-16T06:01:01.423445Z",
     "iopub.status.busy": "2024-09-16T06:01:01.423348Z",
     "iopub.status.idle": "2024-09-16T06:01:01.424756Z",
     "shell.execute_reply": "2024-09-16T06:01:01.424560Z"
    },
    "papermill": {
     "duration": 0.007736,
     "end_time": "2024-09-16T06:01:01.425486",
     "exception": false,
     "start_time": "2024-09-16T06:01:01.417750",
     "status": "completed"
    },
    "tags": []
   },
   "outputs": [],
   "source": [
    "# sheet['env_nr'][1,1].options(index=False, header=False).value = env_df\n",
    "# sheet['int_nr'][1,1].options(index=False, header=False).value = int_df\n",
    "# sheet['des_nr'][1,1].options(index=False, header=False).value = des_df\n",
    "# sheet['trn_nr'][1,1].options(index=False, header=False).value = trn_df\n",
    "# sheet['cls_nr'][1,1].options(index=False, header=False).value = cls_df"
   ]
  },
  {
   "cell_type": "code",
   "execution_count": 66,
   "id": "56ac5710",
   "metadata": {
    "execution": {
     "iopub.execute_input": "2024-09-16T06:01:01.437125Z",
     "iopub.status.busy": "2024-09-16T06:01:01.437021Z",
     "iopub.status.idle": "2024-09-16T06:01:01.438465Z",
     "shell.execute_reply": "2024-09-16T06:01:01.438259Z"
    },
    "papermill": {
     "duration": 0.008352,
     "end_time": "2024-09-16T06:01:01.439193",
     "exception": false,
     "start_time": "2024-09-16T06:01:01.430841",
     "status": "completed"
    },
    "tags": []
   },
   "outputs": [],
   "source": [
    "# sheet.range('G4').number_format = '$0.00'"
   ]
  },
  {
   "cell_type": "code",
   "execution_count": 67,
   "id": "555a45b4",
   "metadata": {
    "execution": {
     "iopub.execute_input": "2024-09-16T06:01:01.450984Z",
     "iopub.status.busy": "2024-09-16T06:01:01.450900Z",
     "iopub.status.idle": "2024-09-16T06:01:01.452246Z",
     "shell.execute_reply": "2024-09-16T06:01:01.452035Z"
    },
    "papermill": {
     "duration": 0.00831,
     "end_time": "2024-09-16T06:01:01.453060",
     "exception": false,
     "start_time": "2024-09-16T06:01:01.444750",
     "status": "completed"
    },
    "tags": []
   },
   "outputs": [],
   "source": [
    "# sheet.range('A3').api.entirerow.insert()"
   ]
  },
  {
   "cell_type": "code",
   "execution_count": 68,
   "id": "23f7fab4",
   "metadata": {
    "execution": {
     "iopub.execute_input": "2024-09-16T06:01:01.464192Z",
     "iopub.status.busy": "2024-09-16T06:01:01.464099Z",
     "iopub.status.idle": "2024-09-16T06:01:01.465715Z",
     "shell.execute_reply": "2024-09-16T06:01:01.465453Z"
    },
    "papermill": {
     "duration": 0.008025,
     "end_time": "2024-09-16T06:01:01.466458",
     "exception": false,
     "start_time": "2024-09-16T06:01:01.458433",
     "status": "completed"
    },
    "tags": []
   },
   "outputs": [],
   "source": [
    "# empty_row_data = ['','','','','','','']"
   ]
  },
  {
   "cell_type": "code",
   "execution_count": 69,
   "id": "5d691ddc",
   "metadata": {
    "execution": {
     "iopub.execute_input": "2024-09-16T06:01:01.477631Z",
     "iopub.status.busy": "2024-09-16T06:01:01.477523Z",
     "iopub.status.idle": "2024-09-16T06:01:01.478962Z",
     "shell.execute_reply": "2024-09-16T06:01:01.478762Z"
    },
    "papermill": {
     "duration": 0.007813,
     "end_time": "2024-09-16T06:01:01.479647",
     "exception": false,
     "start_time": "2024-09-16T06:01:01.471834",
     "status": "completed"
    },
    "tags": []
   },
   "outputs": [],
   "source": [
    "# sheet['env_nr'][1,5].value = '$0.00'\n",
    "# sheet['int_nr'][1,5].value = '$0.00'\n",
    "# sheet['def_nr'][1,5].value = '$0.00'\n",
    "# sheet['des_nr'][1,5].value = '$0.00'\n",
    "# sheet['bld_nr'][1,5].value = '$0.00'\n",
    "# sheet['trn_nr'][1,5].value = '$0.00'\n",
    "# sheet['cls_nr'][1,5].value = '$0.00'\n"
   ]
  }
 ],
 "metadata": {
  "kernelspec": {
   "display_name": "sowmachine_venv",
   "language": "python",
   "name": "python3"
  },
  "language_info": {
   "codemirror_mode": {
    "name": "ipython",
    "version": 3
   },
   "file_extension": ".py",
   "mimetype": "text/x-python",
   "name": "python",
   "nbconvert_exporter": "python",
   "pygments_lexer": "ipython3",
   "version": "3.11.1"
  },
  "papermill": {
   "default_parameters": {},
   "duration": 15.292072,
   "end_time": "2024-09-16T06:01:01.801255",
   "environment_variables": {},
   "exception": null,
   "input_path": "1_main.ipynb",
   "output_path": "1_main.ipynb",
   "parameters": {},
   "start_time": "2024-09-16T06:00:46.509183",
   "version": "2.6.0"
  },
  "vscode": {
   "interpreter": {
    "hash": "fb97792c95ecc40909c77d7c0c5a2e301450a97269f294267b9ea907136fa9f0"
   }
  }
 },
 "nbformat": 4,
 "nbformat_minor": 5
}