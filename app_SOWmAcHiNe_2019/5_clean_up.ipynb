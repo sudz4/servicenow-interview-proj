{
 "cells": [
  {
   "cell_type": "markdown",
   "id": "523af48a",
   "metadata": {
    "papermill": {
     "duration": 0.00812,
     "end_time": "2024-09-16T05:26:56.450823",
     "exception": false,
     "start_time": "2024-09-16T05:26:56.442703",
     "status": "completed"
    },
    "tags": []
   },
   "source": [
    "| CLEAN UP | Remove placeholder values |\n",
    "| ----------- | ----------- |"
   ]
  },
  {
   "cell_type": "code",
   "execution_count": 1,
   "id": "e1dc0d40",
   "metadata": {
    "execution": {
     "iopub.execute_input": "2024-09-16T05:26:56.459258Z",
     "iopub.status.busy": "2024-09-16T05:26:56.459004Z",
     "iopub.status.idle": "2024-09-16T05:26:56.876411Z",
     "shell.execute_reply": "2024-09-16T05:26:56.876028Z"
    },
    "papermill": {
     "duration": 0.422875,
     "end_time": "2024-09-16T05:26:56.877456",
     "exception": false,
     "start_time": "2024-09-16T05:26:56.454581",
     "status": "completed"
    },
    "tags": []
   },
   "outputs": [],
   "source": [
    "import xlwings as xw\n",
    "from openpyxl import Workbook, load_workbook\n",
    "import xlsxwriter \n",
    "\n",
    "import pandas as pd\n",
    "import numpy as np\n",
    "import datetime as dt \n",
    "import time\n",
    "import sys\n",
    "\n",
    "\"\"\"\n",
    "Latest xlwings release: v0.27.15\n",
    "https://www.xlwings.org/\n",
    "\n",
    "\"\"\"\n",
    "xw.__version__ \n",
    "\n",
    "from appscript import k"
   ]
  },
  {
   "cell_type": "code",
   "execution_count": 2,
   "id": "fea39367",
   "metadata": {
    "execution": {
     "iopub.execute_input": "2024-09-16T05:26:56.882984Z",
     "iopub.status.busy": "2024-09-16T05:26:56.882834Z",
     "iopub.status.idle": "2024-09-16T05:26:57.001158Z",
     "shell.execute_reply": "2024-09-16T05:26:57.000630Z"
    },
    "papermill": {
     "duration": 0.122162,
     "end_time": "2024-09-16T05:26:57.002226",
     "exception": false,
     "start_time": "2024-09-16T05:26:56.880064",
     "status": "completed"
    },
    "tags": []
   },
   "outputs": [],
   "source": [
    "# Connect to workbook\n",
    "book_number = 'book01.xlsx'\n",
    "wb = xw.Book(book_number)\n",
    "sheet = wb.sheets[0]"
   ]
  },
  {
   "cell_type": "code",
   "execution_count": 3,
   "id": "48c8802d",
   "metadata": {
    "execution": {
     "iopub.execute_input": "2024-09-16T05:26:57.008745Z",
     "iopub.status.busy": "2024-09-16T05:26:57.008612Z",
     "iopub.status.idle": "2024-09-16T05:26:57.012139Z",
     "shell.execute_reply": "2024-09-16T05:26:57.011882Z"
    },
    "papermill": {
     "duration": 0.007565,
     "end_time": "2024-09-16T05:26:57.012923",
     "exception": false,
     "start_time": "2024-09-16T05:26:57.005358",
     "status": "completed"
    },
    "tags": []
   },
   "outputs": [
    {
     "data": {
      "text/plain": [
       "'\\nDelete Placeholders\\n'"
      ]
     },
     "execution_count": 3,
     "metadata": {},
     "output_type": "execute_result"
    }
   ],
   "source": [
    "\"\"\"\n",
    "Delete Placeholders\n",
    "\"\"\""
   ]
  },
  {
   "cell_type": "code",
   "execution_count": 4,
   "id": "75cd1ca3",
   "metadata": {
    "execution": {
     "iopub.execute_input": "2024-09-16T05:26:57.018598Z",
     "iopub.status.busy": "2024-09-16T05:26:57.018497Z",
     "iopub.status.idle": "2024-09-16T05:26:57.032609Z",
     "shell.execute_reply": "2024-09-16T05:26:57.032322Z"
    },
    "papermill": {
     "duration": 0.018024,
     "end_time": "2024-09-16T05:26:57.033595",
     "exception": false,
     "start_time": "2024-09-16T05:26:57.015571",
     "status": "completed"
    },
    "tags": []
   },
   "outputs": [],
   "source": [
    "# Harcode delete CLOSE placeholders\n",
    "sheet['A166:G177'].delete(shift='up')"
   ]
  },
  {
   "cell_type": "code",
   "execution_count": 5,
   "id": "3e36c5c2",
   "metadata": {
    "execution": {
     "iopub.execute_input": "2024-09-16T05:26:57.040051Z",
     "iopub.status.busy": "2024-09-16T05:26:57.039902Z",
     "iopub.status.idle": "2024-09-16T05:26:57.160510Z",
     "shell.execute_reply": "2024-09-16T05:26:57.160230Z"
    },
    "papermill": {
     "duration": 0.124973,
     "end_time": "2024-09-16T05:26:57.161443",
     "exception": false,
     "start_time": "2024-09-16T05:26:57.036470",
     "status": "completed"
    },
    "tags": []
   },
   "outputs": [],
   "source": [
    "# Harcode delete TRANSITION placeholders\n",
    "sheet['A151:G155'].delete(shift='up')"
   ]
  },
  {
   "cell_type": "code",
   "execution_count": 6,
   "id": "93cc1e6d",
   "metadata": {
    "execution": {
     "iopub.execute_input": "2024-09-16T05:26:57.168043Z",
     "iopub.status.busy": "2024-09-16T05:26:57.167902Z",
     "iopub.status.idle": "2024-09-16T05:26:57.231074Z",
     "shell.execute_reply": "2024-09-16T05:26:57.230784Z"
    },
    "papermill": {
     "duration": 0.067504,
     "end_time": "2024-09-16T05:26:57.232076",
     "exception": false,
     "start_time": "2024-09-16T05:26:57.164572",
     "status": "completed"
    },
    "tags": []
   },
   "outputs": [],
   "source": [
    "# Harcode delete BUILD placeholders\n",
    "sheet['A125:G134'].delete(shift='up')"
   ]
  },
  {
   "cell_type": "code",
   "execution_count": 7,
   "id": "bdaeff0a",
   "metadata": {
    "execution": {
     "iopub.execute_input": "2024-09-16T05:26:57.237953Z",
     "iopub.status.busy": "2024-09-16T05:26:57.237823Z",
     "iopub.status.idle": "2024-09-16T05:26:57.309375Z",
     "shell.execute_reply": "2024-09-16T05:26:57.309113Z"
    },
    "papermill": {
     "duration": 0.075532,
     "end_time": "2024-09-16T05:26:57.310353",
     "exception": false,
     "start_time": "2024-09-16T05:26:57.234821",
     "status": "completed"
    },
    "tags": []
   },
   "outputs": [],
   "source": [
    "# Harcode delete DESIGN placeholders\n",
    "sheet['A84:G95'].delete(shift='up')"
   ]
  },
  {
   "cell_type": "code",
   "execution_count": 8,
   "id": "47fa4fd1",
   "metadata": {
    "execution": {
     "iopub.execute_input": "2024-09-16T05:26:57.316266Z",
     "iopub.status.busy": "2024-09-16T05:26:57.316145Z",
     "iopub.status.idle": "2024-09-16T05:26:57.414649Z",
     "shell.execute_reply": "2024-09-16T05:26:57.413610Z"
    },
    "papermill": {
     "duration": 0.104174,
     "end_time": "2024-09-16T05:26:57.417329",
     "exception": false,
     "start_time": "2024-09-16T05:26:57.313155",
     "status": "completed"
    },
    "tags": []
   },
   "outputs": [],
   "source": [
    "# Harcode delete DEFINE placeholders\n",
    "sheet['A65:G75'].delete(shift='up')"
   ]
  },
  {
   "cell_type": "code",
   "execution_count": 9,
   "id": "e99645ed",
   "metadata": {
    "execution": {
     "iopub.execute_input": "2024-09-16T05:26:57.423442Z",
     "iopub.status.busy": "2024-09-16T05:26:57.423321Z",
     "iopub.status.idle": "2024-09-16T05:26:57.474077Z",
     "shell.execute_reply": "2024-09-16T05:26:57.473091Z"
    },
    "papermill": {
     "duration": 0.056079,
     "end_time": "2024-09-16T05:26:57.476394",
     "exception": false,
     "start_time": "2024-09-16T05:26:57.420315",
     "status": "completed"
    },
    "tags": []
   },
   "outputs": [],
   "source": [
    "# Harcode delete INITIATE placeholders\n",
    "sheet['A29:G37'].delete(shift='up')"
   ]
  },
  {
   "cell_type": "code",
   "execution_count": 10,
   "id": "1bf8a860",
   "metadata": {
    "execution": {
     "iopub.execute_input": "2024-09-16T05:26:57.484101Z",
     "iopub.status.busy": "2024-09-16T05:26:57.483961Z",
     "iopub.status.idle": "2024-09-16T05:26:57.532771Z",
     "shell.execute_reply": "2024-09-16T05:26:57.532190Z"
    },
    "papermill": {
     "duration": 0.053996,
     "end_time": "2024-09-16T05:26:57.534771",
     "exception": false,
     "start_time": "2024-09-16T05:26:57.480775",
     "status": "completed"
    },
    "tags": []
   },
   "outputs": [],
   "source": [
    "# Harcode delete ENVISION placeholders\n",
    "sheet['A5:G17'].delete(shift='up')"
   ]
  },
  {
   "cell_type": "code",
   "execution_count": 11,
   "id": "0b0658ec",
   "metadata": {
    "execution": {
     "iopub.execute_input": "2024-09-16T05:26:57.542647Z",
     "iopub.status.busy": "2024-09-16T05:26:57.542510Z",
     "iopub.status.idle": "2024-09-16T05:26:57.577955Z",
     "shell.execute_reply": "2024-09-16T05:26:57.577257Z"
    },
    "papermill": {
     "duration": 0.041224,
     "end_time": "2024-09-16T05:26:57.580589",
     "exception": false,
     "start_time": "2024-09-16T05:26:57.539365",
     "status": "completed"
    },
    "tags": []
   },
   "outputs": [],
   "source": [
    "# Harcode delete RATE CHARTS placeholders\n",
    "sheet['A136:G136'].delete(shift='up')"
   ]
  },
  {
   "cell_type": "code",
   "execution_count": 12,
   "id": "6ba705b7",
   "metadata": {
    "execution": {
     "iopub.execute_input": "2024-09-16T05:26:57.587819Z",
     "iopub.status.busy": "2024-09-16T05:26:57.587678Z",
     "iopub.status.idle": "2024-09-16T05:26:57.621323Z",
     "shell.execute_reply": "2024-09-16T05:26:57.620535Z"
    },
    "papermill": {
     "duration": 0.040344,
     "end_time": "2024-09-16T05:26:57.625028",
     "exception": false,
     "start_time": "2024-09-16T05:26:57.584684",
     "status": "completed"
    },
    "tags": []
   },
   "outputs": [],
   "source": [
    "# Harcode delete RATE MAIN placeholders\n",
    "sheet['A124:G124'].delete(shift='up')"
   ]
  },
  {
   "cell_type": "code",
   "execution_count": 13,
   "id": "122c91b7",
   "metadata": {
    "execution": {
     "iopub.execute_input": "2024-09-16T05:26:57.631124Z",
     "iopub.status.busy": "2024-09-16T05:26:57.630996Z",
     "iopub.status.idle": "2024-09-16T05:26:57.777954Z",
     "shell.execute_reply": "2024-09-16T05:26:57.777298Z"
    },
    "papermill": {
     "duration": 0.152324,
     "end_time": "2024-09-16T05:26:57.780215",
     "exception": false,
     "start_time": "2024-09-16T05:26:57.627891",
     "status": "completed"
    },
    "tags": []
   },
   "outputs": [],
   "source": [
    "# SAVE\n",
    "book_number = 'book01.xlsx'\n",
    "wb.save(book_number)"
   ]
  },
  {
   "cell_type": "markdown",
   "id": "8f8cb523",
   "metadata": {
    "papermill": {
     "duration": 0.006004,
     "end_time": "2024-09-16T05:26:57.791951",
     "exception": false,
     "start_time": "2024-09-16T05:26:57.785947",
     "status": "completed"
    },
    "tags": []
   },
   "source": [
    "| END OF PROGRAM |\n",
    "| ----------- |\n",
    "| Notes for future DEV, and reference code below |\n"
   ]
  },
  {
   "cell_type": "code",
   "execution_count": 14,
   "id": "3f04800a",
   "metadata": {
    "execution": {
     "iopub.execute_input": "2024-09-16T05:26:57.799309Z",
     "iopub.status.busy": "2024-09-16T05:26:57.799159Z",
     "iopub.status.idle": "2024-09-16T05:26:57.800780Z",
     "shell.execute_reply": "2024-09-16T05:26:57.800535Z"
    },
    "papermill": {
     "duration": 0.005739,
     "end_time": "2024-09-16T05:26:57.801540",
     "exception": false,
     "start_time": "2024-09-16T05:26:57.795801",
     "status": "completed"
    },
    "tags": []
   },
   "outputs": [],
   "source": [
    "# TEST / DEMO - hardcode drop placeholders\n",
    "# for i in sheet['des_nr'][:,1]:\n",
    "#     if i.value == 'XXX':\n",
    "#         row_loc = i.row\n",
    "#         # print(row_loc)\n",
    "#         sheet['des_nr'][row_loc,:].delete(shift='up')"
   ]
  },
  {
   "cell_type": "code",
   "execution_count": 15,
   "id": "1e545bf5",
   "metadata": {
    "execution": {
     "iopub.execute_input": "2024-09-16T05:26:57.810922Z",
     "iopub.status.busy": "2024-09-16T05:26:57.810809Z",
     "iopub.status.idle": "2024-09-16T05:26:57.812344Z",
     "shell.execute_reply": "2024-09-16T05:26:57.812111Z"
    },
    "papermill": {
     "duration": 0.007083,
     "end_time": "2024-09-16T05:26:57.813154",
     "exception": false,
     "start_time": "2024-09-16T05:26:57.806071",
     "status": "completed"
    },
    "tags": []
   },
   "outputs": [],
   "source": [
    "# Get a list of named ranges in sheet\n",
    "# for name in wb.names:\n",
    "#     #print(name.name, name.refers_to_range)\n",
    "    \n",
    "#     nr_list = name.name\n",
    "#     print(nr_list)"
   ]
  },
  {
   "cell_type": "code",
   "execution_count": 16,
   "id": "01ae6586",
   "metadata": {
    "execution": {
     "iopub.execute_input": "2024-09-16T05:26:57.820981Z",
     "iopub.status.busy": "2024-09-16T05:26:57.820872Z",
     "iopub.status.idle": "2024-09-16T05:26:57.822496Z",
     "shell.execute_reply": "2024-09-16T05:26:57.822217Z"
    },
    "papermill": {
     "duration": 0.006328,
     "end_time": "2024-09-16T05:26:57.823459",
     "exception": false,
     "start_time": "2024-09-16T05:26:57.817131",
     "status": "completed"
    },
    "tags": []
   },
   "outputs": [],
   "source": [
    "# IMPORTANT - Remove named ranges for cleanup\n",
    "# if len(wb.names) > 0:\n",
    "#     #print(len(wb.names))\n",
    "#     for n in range(0, len(wb.names)):\n",
    "# \t    wb.names[0].delete()"
   ]
  },
  {
   "cell_type": "code",
   "execution_count": 17,
   "id": "9a644977",
   "metadata": {
    "execution": {
     "iopub.execute_input": "2024-09-16T05:26:57.830775Z",
     "iopub.status.busy": "2024-09-16T05:26:57.830633Z",
     "iopub.status.idle": "2024-09-16T05:26:57.832325Z",
     "shell.execute_reply": "2024-09-16T05:26:57.832024Z"
    },
    "papermill": {
     "duration": 0.006213,
     "end_time": "2024-09-16T05:26:57.833207",
     "exception": false,
     "start_time": "2024-09-16T05:26:57.826994",
     "status": "completed"
    },
    "tags": []
   },
   "outputs": [],
   "source": [
    "# Verify there are no named ranges\n",
    "# for name in wb.names:\n",
    "#     print(name.name, name.refers_to_range)"
   ]
  },
  {
   "cell_type": "code",
   "execution_count": 18,
   "id": "e0c5d455",
   "metadata": {
    "execution": {
     "iopub.execute_input": "2024-09-16T05:26:57.840272Z",
     "iopub.status.busy": "2024-09-16T05:26:57.840028Z",
     "iopub.status.idle": "2024-09-16T05:26:57.841874Z",
     "shell.execute_reply": "2024-09-16T05:26:57.841505Z"
    },
    "papermill": {
     "duration": 0.00627,
     "end_time": "2024-09-16T05:26:57.842685",
     "exception": false,
     "start_time": "2024-09-16T05:26:57.836415",
     "status": "completed"
    },
    "tags": []
   },
   "outputs": [],
   "source": [
    "# Create one (1) named range\n",
    "# sheet['A2:G180'].name = 'clean_nr'"
   ]
  },
  {
   "cell_type": "code",
   "execution_count": 19,
   "id": "1e8103aa",
   "metadata": {
    "execution": {
     "iopub.execute_input": "2024-09-16T05:26:57.848765Z",
     "iopub.status.busy": "2024-09-16T05:26:57.848654Z",
     "iopub.status.idle": "2024-09-16T05:26:57.850132Z",
     "shell.execute_reply": "2024-09-16T05:26:57.849919Z"
    },
    "papermill": {
     "duration": 0.00521,
     "end_time": "2024-09-16T05:26:57.850848",
     "exception": false,
     "start_time": "2024-09-16T05:26:57.845638",
     "status": "completed"
    },
    "tags": []
   },
   "outputs": [],
   "source": [
    "# for i in sheet['clean_nr'][:,1]:\n",
    "#     if i.value == 'XXX':\n",
    "#         row_loc = i.row\n",
    "#         sheet['clean_nr'][row_loc,:].delete(shift='up')"
   ]
  },
  {
   "cell_type": "code",
   "execution_count": 20,
   "id": "c08db66e",
   "metadata": {
    "execution": {
     "iopub.execute_input": "2024-09-16T05:26:57.856500Z",
     "iopub.status.busy": "2024-09-16T05:26:57.856409Z",
     "iopub.status.idle": "2024-09-16T05:26:57.857799Z",
     "shell.execute_reply": "2024-09-16T05:26:57.857581Z"
    },
    "papermill": {
     "duration": 0.004997,
     "end_time": "2024-09-16T05:26:57.858554",
     "exception": false,
     "start_time": "2024-09-16T05:26:57.853557",
     "status": "completed"
    },
    "tags": []
   },
   "outputs": [],
   "source": [
    "# for i in sheet['env_nr'][0:,1]:\n",
    "#     if i.value == 1:\n",
    "#         sheet['env_nr'][i.row,:].delete()"
   ]
  },
  {
   "cell_type": "code",
   "execution_count": 21,
   "id": "604a328c",
   "metadata": {
    "execution": {
     "iopub.execute_input": "2024-09-16T05:26:57.864373Z",
     "iopub.status.busy": "2024-09-16T05:26:57.864249Z",
     "iopub.status.idle": "2024-09-16T05:26:57.865817Z",
     "shell.execute_reply": "2024-09-16T05:26:57.865594Z"
    },
    "papermill": {
     "duration": 0.005459,
     "end_time": "2024-09-16T05:26:57.866572",
     "exception": false,
     "start_time": "2024-09-16T05:26:57.861113",
     "status": "completed"
    },
    "tags": []
   },
   "outputs": [],
   "source": [
    "# sheet['A1'].current_region.name = 'cleanup_rng'\n",
    "\n",
    "# for i in sheet['cleanup_rng'][:-1,:]:\n",
    "#     print(i)\n",
    "    # if i.value == 'pre-sales':\n",
    "    #     # delete entire row for all rows where at least one cell value == 'pre-sales'\n",
    "    #     # sheet.range(i.row,1).delete()\n",
    "    #     sheet['cleanup_rng'][i.row,:].delete()"
   ]
  },
  {
   "cell_type": "code",
   "execution_count": 22,
   "id": "fad4a5eb",
   "metadata": {
    "execution": {
     "iopub.execute_input": "2024-09-16T05:26:57.871947Z",
     "iopub.status.busy": "2024-09-16T05:26:57.871855Z",
     "iopub.status.idle": "2024-09-16T05:26:57.873181Z",
     "shell.execute_reply": "2024-09-16T05:26:57.872962Z"
    },
    "papermill": {
     "duration": 0.004774,
     "end_time": "2024-09-16T05:26:57.873909",
     "exception": false,
     "start_time": "2024-09-16T05:26:57.869135",
     "status": "completed"
    },
    "tags": []
   },
   "outputs": [],
   "source": [
    "# sheet['A1'].current_region.name = 'cleanup_rng'\n",
    "\n",
    "# for i in sheet['cleanup_rng']:\n",
    "#     if i.value == 'pre-sales':\n",
    "#         ps_cell_row_num = i.row\n",
    "#         ps_cell_col_num = i.column"
   ]
  },
  {
   "cell_type": "code",
   "execution_count": 23,
   "id": "94fa11bf",
   "metadata": {
    "execution": {
     "iopub.execute_input": "2024-09-16T05:26:57.879035Z",
     "iopub.status.busy": "2024-09-16T05:26:57.878950Z",
     "iopub.status.idle": "2024-09-16T05:26:57.880272Z",
     "shell.execute_reply": "2024-09-16T05:26:57.880067Z"
    },
    "papermill": {
     "duration": 0.004654,
     "end_time": "2024-09-16T05:26:57.880976",
     "exception": false,
     "start_time": "2024-09-16T05:26:57.876322",
     "status": "completed"
    },
    "tags": []
   },
   "outputs": [],
   "source": [
    "# print(ps_cell_row_num)\n",
    "# print(ps_cell_col_num)"
   ]
  },
  {
   "cell_type": "code",
   "execution_count": 24,
   "id": "6a473140",
   "metadata": {
    "execution": {
     "iopub.execute_input": "2024-09-16T05:26:57.886170Z",
     "iopub.status.busy": "2024-09-16T05:26:57.886078Z",
     "iopub.status.idle": "2024-09-16T05:26:57.887488Z",
     "shell.execute_reply": "2024-09-16T05:26:57.887285Z"
    },
    "papermill": {
     "duration": 0.004862,
     "end_time": "2024-09-16T05:26:57.888227",
     "exception": false,
     "start_time": "2024-09-16T05:26:57.883365",
     "status": "completed"
    },
    "tags": []
   },
   "outputs": [],
   "source": [
    "# sheet['A1'].current_region.name = 'cleanup_rng'\n",
    "# filter_word = 'pre-sales'\n",
    "\n",
    "# sheet['cleanup_rng'][0:,1:3].options(ndim=2).value == ['pre-sales', 'pre-sales']\n",
    "\n",
    "\n",
    "    "
   ]
  },
  {
   "cell_type": "code",
   "execution_count": 25,
   "id": "62f45f15",
   "metadata": {
    "execution": {
     "iopub.execute_input": "2024-09-16T05:26:57.893489Z",
     "iopub.status.busy": "2024-09-16T05:26:57.893396Z",
     "iopub.status.idle": "2024-09-16T05:26:57.894795Z",
     "shell.execute_reply": "2024-09-16T05:26:57.894591Z"
    },
    "papermill": {
     "duration": 0.004924,
     "end_time": "2024-09-16T05:26:57.895612",
     "exception": false,
     "start_time": "2024-09-16T05:26:57.890688",
     "status": "completed"
    },
    "tags": []
   },
   "outputs": [],
   "source": [
    "# cup_rng = sheet['A1'].current_region\n",
    "\n",
    "# # ph_list = sheet['env_nr'][3,:].value\n",
    "\n",
    "# for i in cup_rng:\n",
    "#     if i.value == 'pre-sales':\n",
    "#         print(i)"
   ]
  },
  {
   "cell_type": "code",
   "execution_count": 26,
   "id": "18a877f3",
   "metadata": {
    "execution": {
     "iopub.execute_input": "2024-09-16T05:26:57.901188Z",
     "iopub.status.busy": "2024-09-16T05:26:57.901071Z",
     "iopub.status.idle": "2024-09-16T05:26:57.902509Z",
     "shell.execute_reply": "2024-09-16T05:26:57.902321Z"
    },
    "papermill": {
     "duration": 0.004934,
     "end_time": "2024-09-16T05:26:57.903225",
     "exception": false,
     "start_time": "2024-09-16T05:26:57.898291",
     "status": "completed"
    },
    "tags": []
   },
   "outputs": [],
   "source": [
    "# # Create placeholder list from one row\n",
    "# ph_list = sheet['env_nr'][3,:].value\n",
    "\n",
    "# ph_list"
   ]
  },
  {
   "cell_type": "code",
   "execution_count": 27,
   "id": "2f027acd",
   "metadata": {
    "execution": {
     "iopub.execute_input": "2024-09-16T05:26:57.908872Z",
     "iopub.status.busy": "2024-09-16T05:26:57.908773Z",
     "iopub.status.idle": "2024-09-16T05:26:57.910173Z",
     "shell.execute_reply": "2024-09-16T05:26:57.909963Z"
    },
    "papermill": {
     "duration": 0.005049,
     "end_time": "2024-09-16T05:26:57.910901",
     "exception": false,
     "start_time": "2024-09-16T05:26:57.905852",
     "status": "completed"
    },
    "tags": []
   },
   "outputs": [],
   "source": [
    "# clean_filt = sheet['env_nr'][:,1:3] == 'pre-sales'\n",
    "\n",
    "# # clean_filt"
   ]
  },
  {
   "cell_type": "code",
   "execution_count": 28,
   "id": "c0873cde",
   "metadata": {
    "execution": {
     "iopub.execute_input": "2024-09-16T05:26:57.916011Z",
     "iopub.status.busy": "2024-09-16T05:26:57.915930Z",
     "iopub.status.idle": "2024-09-16T05:26:57.917247Z",
     "shell.execute_reply": "2024-09-16T05:26:57.917029Z"
    },
    "papermill": {
     "duration": 0.004656,
     "end_time": "2024-09-16T05:26:57.917943",
     "exception": false,
     "start_time": "2024-09-16T05:26:57.913287",
     "status": "completed"
    },
    "tags": []
   },
   "outputs": [],
   "source": [
    "# Tooltips\n",
    "# dir(sheet['A1'])"
   ]
  },
  {
   "cell_type": "code",
   "execution_count": 29,
   "id": "a3b70b40",
   "metadata": {
    "execution": {
     "iopub.execute_input": "2024-09-16T05:26:57.923084Z",
     "iopub.status.busy": "2024-09-16T05:26:57.923000Z",
     "iopub.status.idle": "2024-09-16T05:26:57.924463Z",
     "shell.execute_reply": "2024-09-16T05:26:57.924236Z"
    },
    "papermill": {
     "duration": 0.004816,
     "end_time": "2024-09-16T05:26:57.925166",
     "exception": false,
     "start_time": "2024-09-16T05:26:57.920350",
     "status": "completed"
    },
    "tags": []
   },
   "outputs": [],
   "source": [
    "# sheet['A1'].api"
   ]
  },
  {
   "cell_type": "code",
   "execution_count": 30,
   "id": "8c573ca4",
   "metadata": {
    "execution": {
     "iopub.execute_input": "2024-09-16T05:26:57.930518Z",
     "iopub.status.busy": "2024-09-16T05:26:57.930416Z",
     "iopub.status.idle": "2024-09-16T05:26:57.932060Z",
     "shell.execute_reply": "2024-09-16T05:26:57.931857Z"
    },
    "papermill": {
     "duration": 0.005196,
     "end_time": "2024-09-16T05:26:57.932826",
     "exception": false,
     "start_time": "2024-09-16T05:26:57.927630",
     "status": "completed"
    },
    "tags": []
   },
   "outputs": [],
   "source": [
    "# cup_rng = sheet['A1'].current_region\n",
    "\n",
    "# for i in cup_rng:\n",
    "#     if i.value == ('pre-sales' and 'placeholder'):\n",
    "#         print(i)\n"
   ]
  },
  {
   "cell_type": "code",
   "execution_count": 31,
   "id": "131846f5",
   "metadata": {
    "execution": {
     "iopub.execute_input": "2024-09-16T05:26:57.938044Z",
     "iopub.status.busy": "2024-09-16T05:26:57.937951Z",
     "iopub.status.idle": "2024-09-16T05:26:57.939759Z",
     "shell.execute_reply": "2024-09-16T05:26:57.939457Z"
    },
    "papermill": {
     "duration": 0.005201,
     "end_time": "2024-09-16T05:26:57.940482",
     "exception": false,
     "start_time": "2024-09-16T05:26:57.935281",
     "status": "completed"
    },
    "tags": []
   },
   "outputs": [],
   "source": [
    "# for i in sheet['env_nr'][-1,:]:\n",
    "#     i = i + 1\n",
    "#     if sheet['env_nr']('A' + str(i)).value == 'pre-sales' or 'placeholder':\n",
    "#         xw.Range('A' + str(i)).clear()\n",
    "#         continue\n",
    "#     else:\n",
    "#         continue"
   ]
  },
  {
   "cell_type": "code",
   "execution_count": 32,
   "id": "9e5dcf95",
   "metadata": {
    "execution": {
     "iopub.execute_input": "2024-09-16T05:26:57.945907Z",
     "iopub.status.busy": "2024-09-16T05:26:57.945726Z",
     "iopub.status.idle": "2024-09-16T05:26:57.947376Z",
     "shell.execute_reply": "2024-09-16T05:26:57.947151Z"
    },
    "papermill": {
     "duration": 0.005085,
     "end_time": "2024-09-16T05:26:57.948105",
     "exception": false,
     "start_time": "2024-09-16T05:26:57.943020",
     "status": "completed"
    },
    "tags": []
   },
   "outputs": [],
   "source": [
    "# for i in sheet['env_nr'][:,1]:\n",
    "#     if i.value != 'pre-sales':\n",
    "#         pass\n",
    "#     elif i.value == 'pre-sales':\n",
    "#         print(i)\n",
    "        \n",
    "        "
   ]
  },
  {
   "cell_type": "code",
   "execution_count": 33,
   "id": "77fb7028",
   "metadata": {
    "execution": {
     "iopub.execute_input": "2024-09-16T05:26:57.953362Z",
     "iopub.status.busy": "2024-09-16T05:26:57.953269Z",
     "iopub.status.idle": "2024-09-16T05:26:57.954689Z",
     "shell.execute_reply": "2024-09-16T05:26:57.954494Z"
    },
    "papermill": {
     "duration": 0.004831,
     "end_time": "2024-09-16T05:26:57.955408",
     "exception": false,
     "start_time": "2024-09-16T05:26:57.950577",
     "status": "completed"
    },
    "tags": []
   },
   "outputs": [],
   "source": [
    "# del_rng_list = []\n",
    "\n",
    "# for i in sheet['env_nr'][:,1]:\n",
    "#     if i.value == 'pre-sales':\n",
    "#         del_rng_list.append(i)\n",
    "               \n",
    "# print(del_rng_list)\n"
   ]
  },
  {
   "cell_type": "code",
   "execution_count": 34,
   "id": "7ecf0a29",
   "metadata": {
    "execution": {
     "iopub.execute_input": "2024-09-16T05:26:57.960570Z",
     "iopub.status.busy": "2024-09-16T05:26:57.960479Z",
     "iopub.status.idle": "2024-09-16T05:26:57.961898Z",
     "shell.execute_reply": "2024-09-16T05:26:57.961687Z"
    },
    "papermill": {
     "duration": 0.004826,
     "end_time": "2024-09-16T05:26:57.962578",
     "exception": false,
     "start_time": "2024-09-16T05:26:57.957752",
     "status": "completed"
    },
    "tags": []
   },
   "outputs": [],
   "source": [
    "# ph_list = []\n",
    "\n",
    "# for i in sheet['env_nr'][:,1]:\n",
    "#     if i.value == 'pre-sales':\n",
    "#         ph_list.append(i)\n",
    "        \n",
    "        \n",
    "        "
   ]
  }
 ],
 "metadata": {
  "kernelspec": {
   "display_name": "sowmachine_venv",
   "language": "python",
   "name": "python3"
  },
  "language_info": {
   "codemirror_mode": {
    "name": "ipython",
    "version": 3
   },
   "file_extension": ".py",
   "mimetype": "text/x-python",
   "name": "python",
   "nbconvert_exporter": "python",
   "pygments_lexer": "ipython3",
   "version": "3.11.1"
  },
  "papermill": {
   "default_parameters": {},
   "duration": 2.23069,
   "end_time": "2024-09-16T05:26:58.181052",
   "environment_variables": {},
   "exception": null,
   "input_path": "5_clean_up.ipynb",
   "output_path": "5_clean_up.ipynb",
   "parameters": {},
   "start_time": "2024-09-16T05:26:55.950362",
   "version": "2.6.0"
  },
  "vscode": {
   "interpreter": {
    "hash": "fb97792c95ecc40909c77d7c0c5a2e301450a97269f294267b9ea907136fa9f0"
   }
  }
 },
 "nbformat": 4,
 "nbformat_minor": 5
}