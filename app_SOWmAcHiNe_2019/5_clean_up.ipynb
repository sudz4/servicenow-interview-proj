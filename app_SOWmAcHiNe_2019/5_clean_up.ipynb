{
 "cells": [
  {
   "cell_type": "markdown",
   "id": "523af48a",
   "metadata": {
    "papermill": {
     "duration": 0.006822,
     "end_time": "2024-09-16T06:38:29.689518",
     "exception": false,
     "start_time": "2024-09-16T06:38:29.682696",
     "status": "completed"
    },
    "tags": []
   },
   "source": [
    "| CLEAN UP | Remove placeholder values |\n",
    "| ----------- | ----------- |"
   ]
  },
  {
   "cell_type": "code",
   "execution_count": 1,
   "id": "e1dc0d40",
   "metadata": {
    "execution": {
     "iopub.execute_input": "2024-09-16T06:38:29.698260Z",
     "iopub.status.busy": "2024-09-16T06:38:29.698050Z",
     "iopub.status.idle": "2024-09-16T06:38:30.154477Z",
     "shell.execute_reply": "2024-09-16T06:38:30.154199Z"
    },
    "papermill": {
     "duration": 0.462751,
     "end_time": "2024-09-16T06:38:30.155478",
     "exception": false,
     "start_time": "2024-09-16T06:38:29.692727",
     "status": "completed"
    },
    "tags": []
   },
   "outputs": [],
   "source": [
    "import xlwings as xw\n",
    "from openpyxl import Workbook, load_workbook\n",
    "import xlsxwriter \n",
    "\n",
    "import pandas as pd\n",
    "import numpy as np\n",
    "import datetime as dt \n",
    "import time\n",
    "import sys\n",
    "\n",
    "\"\"\"\n",
    "Latest xlwings release: v0.27.15\n",
    "https://www.xlwings.org/\n",
    "\n",
    "\"\"\"\n",
    "xw.__version__ \n",
    "\n",
    "from appscript import k"
   ]
  },
  {
   "cell_type": "code",
   "execution_count": 2,
   "id": "fea39367",
   "metadata": {
    "execution": {
     "iopub.execute_input": "2024-09-16T06:38:30.161448Z",
     "iopub.status.busy": "2024-09-16T06:38:30.161258Z",
     "iopub.status.idle": "2024-09-16T06:38:30.266106Z",
     "shell.execute_reply": "2024-09-16T06:38:30.265641Z"
    },
    "papermill": {
     "duration": 0.109095,
     "end_time": "2024-09-16T06:38:30.267314",
     "exception": false,
     "start_time": "2024-09-16T06:38:30.158219",
     "status": "completed"
    },
    "tags": []
   },
   "outputs": [],
   "source": [
    "# Connect to workbook\n",
    "book_number = 'book01.xlsx'\n",
    "wb = xw.Book(book_number)\n",
    "sheet = wb.sheets[0]"
   ]
  },
  {
   "cell_type": "code",
   "execution_count": 3,
   "id": "48c8802d",
   "metadata": {
    "execution": {
     "iopub.execute_input": "2024-09-16T06:38:30.273963Z",
     "iopub.status.busy": "2024-09-16T06:38:30.273801Z",
     "iopub.status.idle": "2024-09-16T06:38:30.277272Z",
     "shell.execute_reply": "2024-09-16T06:38:30.277025Z"
    },
    "papermill": {
     "duration": 0.007753,
     "end_time": "2024-09-16T06:38:30.278211",
     "exception": false,
     "start_time": "2024-09-16T06:38:30.270458",
     "status": "completed"
    },
    "tags": []
   },
   "outputs": [
    {
     "data": {
      "text/plain": [
       "'\\nDelete Placeholders\\n'"
      ]
     },
     "execution_count": 3,
     "metadata": {},
     "output_type": "execute_result"
    }
   ],
   "source": [
    "\"\"\"\n",
    "Delete Placeholders\n",
    "\"\"\""
   ]
  },
  {
   "cell_type": "code",
   "execution_count": 4,
   "id": "75cd1ca3",
   "metadata": {
    "execution": {
     "iopub.execute_input": "2024-09-16T06:38:30.284167Z",
     "iopub.status.busy": "2024-09-16T06:38:30.284035Z",
     "iopub.status.idle": "2024-09-16T06:38:30.298894Z",
     "shell.execute_reply": "2024-09-16T06:38:30.298546Z"
    },
    "papermill": {
     "duration": 0.018959,
     "end_time": "2024-09-16T06:38:30.299935",
     "exception": false,
     "start_time": "2024-09-16T06:38:30.280976",
     "status": "completed"
    },
    "tags": []
   },
   "outputs": [],
   "source": [
    "# Harcode delete CLOSE placeholders\n",
    "sheet['A166:G177'].delete(shift='up')"
   ]
  },
  {
   "cell_type": "code",
   "execution_count": 5,
   "id": "3e36c5c2",
   "metadata": {
    "execution": {
     "iopub.execute_input": "2024-09-16T06:38:30.306429Z",
     "iopub.status.busy": "2024-09-16T06:38:30.306287Z",
     "iopub.status.idle": "2024-09-16T06:38:30.494726Z",
     "shell.execute_reply": "2024-09-16T06:38:30.494425Z"
    },
    "papermill": {
     "duration": 0.192959,
     "end_time": "2024-09-16T06:38:30.495722",
     "exception": false,
     "start_time": "2024-09-16T06:38:30.302763",
     "status": "completed"
    },
    "tags": []
   },
   "outputs": [],
   "source": [
    "# Harcode delete TRANSITION placeholders\n",
    "sheet['A151:G155'].delete(shift='up')"
   ]
  },
  {
   "cell_type": "code",
   "execution_count": 6,
   "id": "93cc1e6d",
   "metadata": {
    "execution": {
     "iopub.execute_input": "2024-09-16T06:38:30.502014Z",
     "iopub.status.busy": "2024-09-16T06:38:30.501869Z",
     "iopub.status.idle": "2024-09-16T06:38:30.610660Z",
     "shell.execute_reply": "2024-09-16T06:38:30.610333Z"
    },
    "papermill": {
     "duration": 0.112924,
     "end_time": "2024-09-16T06:38:30.611665",
     "exception": false,
     "start_time": "2024-09-16T06:38:30.498741",
     "status": "completed"
    },
    "tags": []
   },
   "outputs": [],
   "source": [
    "# Harcode delete BUILD placeholders\n",
    "sheet['A125:G134'].delete(shift='up')"
   ]
  },
  {
   "cell_type": "code",
   "execution_count": 7,
   "id": "bdaeff0a",
   "metadata": {
    "execution": {
     "iopub.execute_input": "2024-09-16T06:38:30.617979Z",
     "iopub.status.busy": "2024-09-16T06:38:30.617838Z",
     "iopub.status.idle": "2024-09-16T06:38:30.732795Z",
     "shell.execute_reply": "2024-09-16T06:38:30.732481Z"
    },
    "papermill": {
     "duration": 0.119268,
     "end_time": "2024-09-16T06:38:30.733876",
     "exception": false,
     "start_time": "2024-09-16T06:38:30.614608",
     "status": "completed"
    },
    "tags": []
   },
   "outputs": [],
   "source": [
    "# Harcode delete DESIGN placeholders\n",
    "sheet['A84:G95'].delete(shift='up')"
   ]
  },
  {
   "cell_type": "code",
   "execution_count": 8,
   "id": "47fa4fd1",
   "metadata": {
    "execution": {
     "iopub.execute_input": "2024-09-16T06:38:30.740447Z",
     "iopub.status.busy": "2024-09-16T06:38:30.740294Z",
     "iopub.status.idle": "2024-09-16T06:38:30.851591Z",
     "shell.execute_reply": "2024-09-16T06:38:30.851232Z"
    },
    "papermill": {
     "duration": 0.115884,
     "end_time": "2024-09-16T06:38:30.852686",
     "exception": false,
     "start_time": "2024-09-16T06:38:30.736802",
     "status": "completed"
    },
    "tags": []
   },
   "outputs": [],
   "source": [
    "# Harcode delete DEFINE placeholders\n",
    "sheet['A65:G75'].delete(shift='up')"
   ]
  },
  {
   "cell_type": "code",
   "execution_count": 9,
   "id": "e99645ed",
   "metadata": {
    "execution": {
     "iopub.execute_input": "2024-09-16T06:38:30.861166Z",
     "iopub.status.busy": "2024-09-16T06:38:30.861015Z",
     "iopub.status.idle": "2024-09-16T06:38:30.936320Z",
     "shell.execute_reply": "2024-09-16T06:38:30.936025Z"
    },
    "papermill": {
     "duration": 0.081168,
     "end_time": "2024-09-16T06:38:30.937345",
     "exception": false,
     "start_time": "2024-09-16T06:38:30.856177",
     "status": "completed"
    },
    "tags": []
   },
   "outputs": [],
   "source": [
    "# Harcode delete INITIATE placeholders\n",
    "sheet['A29:G37'].delete(shift='up')"
   ]
  },
  {
   "cell_type": "code",
   "execution_count": 10,
   "id": "1bf8a860",
   "metadata": {
    "execution": {
     "iopub.execute_input": "2024-09-16T06:38:30.943452Z",
     "iopub.status.busy": "2024-09-16T06:38:30.943322Z",
     "iopub.status.idle": "2024-09-16T06:38:31.007588Z",
     "shell.execute_reply": "2024-09-16T06:38:31.006972Z"
    },
    "papermill": {
     "duration": 0.069684,
     "end_time": "2024-09-16T06:38:31.009851",
     "exception": false,
     "start_time": "2024-09-16T06:38:30.940167",
     "status": "completed"
    },
    "tags": []
   },
   "outputs": [],
   "source": [
    "# Harcode delete ENVISION placeholders\n",
    "sheet['A5:G17'].delete(shift='up')"
   ]
  },
  {
   "cell_type": "code",
   "execution_count": 11,
   "id": "0b0658ec",
   "metadata": {
    "execution": {
     "iopub.execute_input": "2024-09-16T06:38:31.017009Z",
     "iopub.status.busy": "2024-09-16T06:38:31.016872Z",
     "iopub.status.idle": "2024-09-16T06:38:31.070902Z",
     "shell.execute_reply": "2024-09-16T06:38:31.070159Z"
    },
    "papermill": {
     "duration": 0.059838,
     "end_time": "2024-09-16T06:38:31.073527",
     "exception": false,
     "start_time": "2024-09-16T06:38:31.013689",
     "status": "completed"
    },
    "tags": []
   },
   "outputs": [],
   "source": [
    "# Harcode delete RATE CHARTS placeholders\n",
    "sheet['A136:G136'].delete(shift='up')"
   ]
  },
  {
   "cell_type": "code",
   "execution_count": 12,
   "id": "6ba705b7",
   "metadata": {
    "execution": {
     "iopub.execute_input": "2024-09-16T06:38:31.080083Z",
     "iopub.status.busy": "2024-09-16T06:38:31.079911Z",
     "iopub.status.idle": "2024-09-16T06:38:31.136932Z",
     "shell.execute_reply": "2024-09-16T06:38:31.136144Z"
    },
    "papermill": {
     "duration": 0.062206,
     "end_time": "2024-09-16T06:38:31.139004",
     "exception": false,
     "start_time": "2024-09-16T06:38:31.076798",
     "status": "completed"
    },
    "tags": []
   },
   "outputs": [],
   "source": [
    "# Harcode delete RATE MAIN placeholders\n",
    "sheet['A124:G124'].delete(shift='up')"
   ]
  },
  {
   "cell_type": "code",
   "execution_count": 13,
   "id": "122c91b7",
   "metadata": {
    "execution": {
     "iopub.execute_input": "2024-09-16T06:38:31.146858Z",
     "iopub.status.busy": "2024-09-16T06:38:31.146697Z",
     "iopub.status.idle": "2024-09-16T06:38:31.302674Z",
     "shell.execute_reply": "2024-09-16T06:38:31.302295Z"
    },
    "papermill": {
     "duration": 0.160292,
     "end_time": "2024-09-16T06:38:31.303680",
     "exception": false,
     "start_time": "2024-09-16T06:38:31.143388",
     "status": "completed"
    },
    "tags": []
   },
   "outputs": [],
   "source": [
    "# SAVE\n",
    "book_number = 'book01.xlsx'\n",
    "wb.save(book_number)"
   ]
  },
  {
   "cell_type": "markdown",
   "id": "8f8cb523",
   "metadata": {
    "papermill": {
     "duration": 0.002419,
     "end_time": "2024-09-16T06:38:31.308776",
     "exception": false,
     "start_time": "2024-09-16T06:38:31.306357",
     "status": "completed"
    },
    "tags": []
   },
   "source": [
    "| END OF PROGRAM |\n",
    "| ----------- |\n",
    "| Notes for future DEV, and reference code below |\n"
   ]
  },
  {
   "cell_type": "code",
   "execution_count": 14,
   "id": "3f04800a",
   "metadata": {
    "execution": {
     "iopub.execute_input": "2024-09-16T06:38:31.316717Z",
     "iopub.status.busy": "2024-09-16T06:38:31.316507Z",
     "iopub.status.idle": "2024-09-16T06:38:31.319321Z",
     "shell.execute_reply": "2024-09-16T06:38:31.318650Z"
    },
    "papermill": {
     "duration": 0.009302,
     "end_time": "2024-09-16T06:38:31.320731",
     "exception": false,
     "start_time": "2024-09-16T06:38:31.311429",
     "status": "completed"
    },
    "tags": []
   },
   "outputs": [],
   "source": [
    "# TEST / DEMO - hardcode drop placeholders\n",
    "# for i in sheet['des_nr'][:,1]:\n",
    "#     if i.value == 'XXX':\n",
    "#         row_loc = i.row\n",
    "#         # print(row_loc)\n",
    "#         sheet['des_nr'][row_loc,:].delete(shift='up')"
   ]
  },
  {
   "cell_type": "code",
   "execution_count": 15,
   "id": "1e545bf5",
   "metadata": {
    "execution": {
     "iopub.execute_input": "2024-09-16T06:38:31.328361Z",
     "iopub.status.busy": "2024-09-16T06:38:31.328185Z",
     "iopub.status.idle": "2024-09-16T06:38:31.330226Z",
     "shell.execute_reply": "2024-09-16T06:38:31.329850Z"
    },
    "papermill": {
     "duration": 0.006261,
     "end_time": "2024-09-16T06:38:31.331202",
     "exception": false,
     "start_time": "2024-09-16T06:38:31.324941",
     "status": "completed"
    },
    "tags": []
   },
   "outputs": [],
   "source": [
    "# Get a list of named ranges in sheet\n",
    "# for name in wb.names:\n",
    "#     #print(name.name, name.refers_to_range)\n",
    "    \n",
    "#     nr_list = name.name\n",
    "#     print(nr_list)"
   ]
  },
  {
   "cell_type": "code",
   "execution_count": 16,
   "id": "01ae6586",
   "metadata": {
    "execution": {
     "iopub.execute_input": "2024-09-16T06:38:31.339538Z",
     "iopub.status.busy": "2024-09-16T06:38:31.339287Z",
     "iopub.status.idle": "2024-09-16T06:38:31.341168Z",
     "shell.execute_reply": "2024-09-16T06:38:31.340873Z"
    },
    "papermill": {
     "duration": 0.007204,
     "end_time": "2024-09-16T06:38:31.342182",
     "exception": false,
     "start_time": "2024-09-16T06:38:31.334978",
     "status": "completed"
    },
    "tags": []
   },
   "outputs": [],
   "source": [
    "# IMPORTANT - Remove named ranges for cleanup\n",
    "# if len(wb.names) > 0:\n",
    "#     #print(len(wb.names))\n",
    "#     for n in range(0, len(wb.names)):\n",
    "# \t    wb.names[0].delete()"
   ]
  },
  {
   "cell_type": "code",
   "execution_count": 17,
   "id": "9a644977",
   "metadata": {
    "execution": {
     "iopub.execute_input": "2024-09-16T06:38:31.349428Z",
     "iopub.status.busy": "2024-09-16T06:38:31.349311Z",
     "iopub.status.idle": "2024-09-16T06:38:31.350944Z",
     "shell.execute_reply": "2024-09-16T06:38:31.350684Z"
    },
    "papermill": {
     "duration": 0.005991,
     "end_time": "2024-09-16T06:38:31.351789",
     "exception": false,
     "start_time": "2024-09-16T06:38:31.345798",
     "status": "completed"
    },
    "tags": []
   },
   "outputs": [],
   "source": [
    "# Verify there are no named ranges\n",
    "# for name in wb.names:\n",
    "#     print(name.name, name.refers_to_range)"
   ]
  },
  {
   "cell_type": "code",
   "execution_count": 18,
   "id": "e0c5d455",
   "metadata": {
    "execution": {
     "iopub.execute_input": "2024-09-16T06:38:31.358267Z",
     "iopub.status.busy": "2024-09-16T06:38:31.358161Z",
     "iopub.status.idle": "2024-09-16T06:38:31.359523Z",
     "shell.execute_reply": "2024-09-16T06:38:31.359296Z"
    },
    "papermill": {
     "duration": 0.005417,
     "end_time": "2024-09-16T06:38:31.360291",
     "exception": false,
     "start_time": "2024-09-16T06:38:31.354874",
     "status": "completed"
    },
    "tags": []
   },
   "outputs": [],
   "source": [
    "# Create one (1) named range\n",
    "# sheet['A2:G180'].name = 'clean_nr'"
   ]
  },
  {
   "cell_type": "code",
   "execution_count": 19,
   "id": "1e8103aa",
   "metadata": {
    "execution": {
     "iopub.execute_input": "2024-09-16T06:38:31.366322Z",
     "iopub.status.busy": "2024-09-16T06:38:31.366231Z",
     "iopub.status.idle": "2024-09-16T06:38:31.367642Z",
     "shell.execute_reply": "2024-09-16T06:38:31.367402Z"
    },
    "papermill": {
     "duration": 0.005188,
     "end_time": "2024-09-16T06:38:31.368344",
     "exception": false,
     "start_time": "2024-09-16T06:38:31.363156",
     "status": "completed"
    },
    "tags": []
   },
   "outputs": [],
   "source": [
    "# for i in sheet['clean_nr'][:,1]:\n",
    "#     if i.value == 'XXX':\n",
    "#         row_loc = i.row\n",
    "#         sheet['clean_nr'][row_loc,:].delete(shift='up')"
   ]
  },
  {
   "cell_type": "code",
   "execution_count": 20,
   "id": "c08db66e",
   "metadata": {
    "execution": {
     "iopub.execute_input": "2024-09-16T06:38:31.374119Z",
     "iopub.status.busy": "2024-09-16T06:38:31.374027Z",
     "iopub.status.idle": "2024-09-16T06:38:31.375302Z",
     "shell.execute_reply": "2024-09-16T06:38:31.375096Z"
    },
    "papermill": {
     "duration": 0.004886,
     "end_time": "2024-09-16T06:38:31.376028",
     "exception": false,
     "start_time": "2024-09-16T06:38:31.371142",
     "status": "completed"
    },
    "tags": []
   },
   "outputs": [],
   "source": [
    "# for i in sheet['env_nr'][0:,1]:\n",
    "#     if i.value == 1:\n",
    "#         sheet['env_nr'][i.row,:].delete()"
   ]
  },
  {
   "cell_type": "code",
   "execution_count": 21,
   "id": "604a328c",
   "metadata": {
    "execution": {
     "iopub.execute_input": "2024-09-16T06:38:31.381506Z",
     "iopub.status.busy": "2024-09-16T06:38:31.381405Z",
     "iopub.status.idle": "2024-09-16T06:38:31.382842Z",
     "shell.execute_reply": "2024-09-16T06:38:31.382647Z"
    },
    "papermill": {
     "duration": 0.005027,
     "end_time": "2024-09-16T06:38:31.383563",
     "exception": false,
     "start_time": "2024-09-16T06:38:31.378536",
     "status": "completed"
    },
    "tags": []
   },
   "outputs": [],
   "source": [
    "# sheet['A1'].current_region.name = 'cleanup_rng'\n",
    "\n",
    "# for i in sheet['cleanup_rng'][:-1,:]:\n",
    "#     print(i)\n",
    "    # if i.value == 'pre-sales':\n",
    "    #     # delete entire row for all rows where at least one cell value == 'pre-sales'\n",
    "    #     # sheet.range(i.row,1).delete()\n",
    "    #     sheet['cleanup_rng'][i.row,:].delete()"
   ]
  },
  {
   "cell_type": "code",
   "execution_count": 22,
   "id": "fad4a5eb",
   "metadata": {
    "execution": {
     "iopub.execute_input": "2024-09-16T06:38:31.388787Z",
     "iopub.status.busy": "2024-09-16T06:38:31.388702Z",
     "iopub.status.idle": "2024-09-16T06:38:31.390056Z",
     "shell.execute_reply": "2024-09-16T06:38:31.389844Z"
    },
    "papermill": {
     "duration": 0.004771,
     "end_time": "2024-09-16T06:38:31.390818",
     "exception": false,
     "start_time": "2024-09-16T06:38:31.386047",
     "status": "completed"
    },
    "tags": []
   },
   "outputs": [],
   "source": [
    "# sheet['A1'].current_region.name = 'cleanup_rng'\n",
    "\n",
    "# for i in sheet['cleanup_rng']:\n",
    "#     if i.value == 'pre-sales':\n",
    "#         ps_cell_row_num = i.row\n",
    "#         ps_cell_col_num = i.column"
   ]
  },
  {
   "cell_type": "code",
   "execution_count": 23,
   "id": "94fa11bf",
   "metadata": {
    "execution": {
     "iopub.execute_input": "2024-09-16T06:38:31.396430Z",
     "iopub.status.busy": "2024-09-16T06:38:31.396325Z",
     "iopub.status.idle": "2024-09-16T06:38:31.397787Z",
     "shell.execute_reply": "2024-09-16T06:38:31.397569Z"
    },
    "papermill": {
     "duration": 0.005079,
     "end_time": "2024-09-16T06:38:31.398536",
     "exception": false,
     "start_time": "2024-09-16T06:38:31.393457",
     "status": "completed"
    },
    "tags": []
   },
   "outputs": [],
   "source": [
    "# print(ps_cell_row_num)\n",
    "# print(ps_cell_col_num)"
   ]
  },
  {
   "cell_type": "code",
   "execution_count": 24,
   "id": "6a473140",
   "metadata": {
    "execution": {
     "iopub.execute_input": "2024-09-16T06:38:31.404335Z",
     "iopub.status.busy": "2024-09-16T06:38:31.404245Z",
     "iopub.status.idle": "2024-09-16T06:38:31.405488Z",
     "shell.execute_reply": "2024-09-16T06:38:31.405284Z"
    },
    "papermill": {
     "duration": 0.004856,
     "end_time": "2024-09-16T06:38:31.406199",
     "exception": false,
     "start_time": "2024-09-16T06:38:31.401343",
     "status": "completed"
    },
    "tags": []
   },
   "outputs": [],
   "source": [
    "# sheet['A1'].current_region.name = 'cleanup_rng'\n",
    "# filter_word = 'pre-sales'\n",
    "\n",
    "# sheet['cleanup_rng'][0:,1:3].options(ndim=2).value == ['pre-sales', 'pre-sales']\n",
    "\n",
    "\n",
    "    "
   ]
  },
  {
   "cell_type": "code",
   "execution_count": 25,
   "id": "62f45f15",
   "metadata": {
    "execution": {
     "iopub.execute_input": "2024-09-16T06:38:31.411345Z",
     "iopub.status.busy": "2024-09-16T06:38:31.411255Z",
     "iopub.status.idle": "2024-09-16T06:38:31.412641Z",
     "shell.execute_reply": "2024-09-16T06:38:31.412437Z"
    },
    "papermill": {
     "duration": 0.004733,
     "end_time": "2024-09-16T06:38:31.413341",
     "exception": false,
     "start_time": "2024-09-16T06:38:31.408608",
     "status": "completed"
    },
    "tags": []
   },
   "outputs": [],
   "source": [
    "# cup_rng = sheet['A1'].current_region\n",
    "\n",
    "# # ph_list = sheet['env_nr'][3,:].value\n",
    "\n",
    "# for i in cup_rng:\n",
    "#     if i.value == 'pre-sales':\n",
    "#         print(i)"
   ]
  },
  {
   "cell_type": "code",
   "execution_count": 26,
   "id": "18a877f3",
   "metadata": {
    "execution": {
     "iopub.execute_input": "2024-09-16T06:38:31.418638Z",
     "iopub.status.busy": "2024-09-16T06:38:31.418550Z",
     "iopub.status.idle": "2024-09-16T06:38:31.419873Z",
     "shell.execute_reply": "2024-09-16T06:38:31.419684Z"
    },
    "papermill": {
     "duration": 0.004675,
     "end_time": "2024-09-16T06:38:31.420551",
     "exception": false,
     "start_time": "2024-09-16T06:38:31.415876",
     "status": "completed"
    },
    "tags": []
   },
   "outputs": [],
   "source": [
    "# # Create placeholder list from one row\n",
    "# ph_list = sheet['env_nr'][3,:].value\n",
    "\n",
    "# ph_list"
   ]
  },
  {
   "cell_type": "code",
   "execution_count": 27,
   "id": "2f027acd",
   "metadata": {
    "execution": {
     "iopub.execute_input": "2024-09-16T06:38:31.426041Z",
     "iopub.status.busy": "2024-09-16T06:38:31.425939Z",
     "iopub.status.idle": "2024-09-16T06:38:31.427334Z",
     "shell.execute_reply": "2024-09-16T06:38:31.427131Z"
    },
    "papermill": {
     "duration": 0.004977,
     "end_time": "2024-09-16T06:38:31.428026",
     "exception": false,
     "start_time": "2024-09-16T06:38:31.423049",
     "status": "completed"
    },
    "tags": []
   },
   "outputs": [],
   "source": [
    "# clean_filt = sheet['env_nr'][:,1:3] == 'pre-sales'\n",
    "\n",
    "# # clean_filt"
   ]
  },
  {
   "cell_type": "code",
   "execution_count": 28,
   "id": "c0873cde",
   "metadata": {
    "execution": {
     "iopub.execute_input": "2024-09-16T06:38:31.433222Z",
     "iopub.status.busy": "2024-09-16T06:38:31.433121Z",
     "iopub.status.idle": "2024-09-16T06:38:31.434458Z",
     "shell.execute_reply": "2024-09-16T06:38:31.434264Z"
    },
    "papermill": {
     "duration": 0.004707,
     "end_time": "2024-09-16T06:38:31.435172",
     "exception": false,
     "start_time": "2024-09-16T06:38:31.430465",
     "status": "completed"
    },
    "tags": []
   },
   "outputs": [],
   "source": [
    "# Tooltips\n",
    "# dir(sheet['A1'])"
   ]
  },
  {
   "cell_type": "code",
   "execution_count": 29,
   "id": "a3b70b40",
   "metadata": {
    "execution": {
     "iopub.execute_input": "2024-09-16T06:38:31.440876Z",
     "iopub.status.busy": "2024-09-16T06:38:31.440767Z",
     "iopub.status.idle": "2024-09-16T06:38:31.442363Z",
     "shell.execute_reply": "2024-09-16T06:38:31.442152Z"
    },
    "papermill": {
     "duration": 0.005286,
     "end_time": "2024-09-16T06:38:31.443114",
     "exception": false,
     "start_time": "2024-09-16T06:38:31.437828",
     "status": "completed"
    },
    "tags": []
   },
   "outputs": [],
   "source": [
    "# sheet['A1'].api"
   ]
  },
  {
   "cell_type": "code",
   "execution_count": 30,
   "id": "8c573ca4",
   "metadata": {
    "execution": {
     "iopub.execute_input": "2024-09-16T06:38:31.448765Z",
     "iopub.status.busy": "2024-09-16T06:38:31.448680Z",
     "iopub.status.idle": "2024-09-16T06:38:31.450040Z",
     "shell.execute_reply": "2024-09-16T06:38:31.449839Z"
    },
    "papermill": {
     "duration": 0.004821,
     "end_time": "2024-09-16T06:38:31.450740",
     "exception": false,
     "start_time": "2024-09-16T06:38:31.445919",
     "status": "completed"
    },
    "tags": []
   },
   "outputs": [],
   "source": [
    "# cup_rng = sheet['A1'].current_region\n",
    "\n",
    "# for i in cup_rng:\n",
    "#     if i.value == ('pre-sales' and 'placeholder'):\n",
    "#         print(i)\n"
   ]
  },
  {
   "cell_type": "code",
   "execution_count": 31,
   "id": "131846f5",
   "metadata": {
    "execution": {
     "iopub.execute_input": "2024-09-16T06:38:31.455853Z",
     "iopub.status.busy": "2024-09-16T06:38:31.455756Z",
     "iopub.status.idle": "2024-09-16T06:38:31.457259Z",
     "shell.execute_reply": "2024-09-16T06:38:31.457034Z"
    },
    "papermill": {
     "duration": 0.004886,
     "end_time": "2024-09-16T06:38:31.457991",
     "exception": false,
     "start_time": "2024-09-16T06:38:31.453105",
     "status": "completed"
    },
    "tags": []
   },
   "outputs": [],
   "source": [
    "# for i in sheet['env_nr'][-1,:]:\n",
    "#     i = i + 1\n",
    "#     if sheet['env_nr']('A' + str(i)).value == 'pre-sales' or 'placeholder':\n",
    "#         xw.Range('A' + str(i)).clear()\n",
    "#         continue\n",
    "#     else:\n",
    "#         continue"
   ]
  },
  {
   "cell_type": "code",
   "execution_count": 32,
   "id": "9e5dcf95",
   "metadata": {
    "execution": {
     "iopub.execute_input": "2024-09-16T06:38:31.463409Z",
     "iopub.status.busy": "2024-09-16T06:38:31.463306Z",
     "iopub.status.idle": "2024-09-16T06:38:31.464797Z",
     "shell.execute_reply": "2024-09-16T06:38:31.464576Z"
    },
    "papermill": {
     "duration": 0.005126,
     "end_time": "2024-09-16T06:38:31.465617",
     "exception": false,
     "start_time": "2024-09-16T06:38:31.460491",
     "status": "completed"
    },
    "tags": []
   },
   "outputs": [],
   "source": [
    "# for i in sheet['env_nr'][:,1]:\n",
    "#     if i.value != 'pre-sales':\n",
    "#         pass\n",
    "#     elif i.value == 'pre-sales':\n",
    "#         print(i)\n",
    "        \n",
    "        "
   ]
  },
  {
   "cell_type": "code",
   "execution_count": 33,
   "id": "77fb7028",
   "metadata": {
    "execution": {
     "iopub.execute_input": "2024-09-16T06:38:31.471608Z",
     "iopub.status.busy": "2024-09-16T06:38:31.471493Z",
     "iopub.status.idle": "2024-09-16T06:38:31.472959Z",
     "shell.execute_reply": "2024-09-16T06:38:31.472724Z"
    },
    "papermill": {
     "duration": 0.005547,
     "end_time": "2024-09-16T06:38:31.473805",
     "exception": false,
     "start_time": "2024-09-16T06:38:31.468258",
     "status": "completed"
    },
    "tags": []
   },
   "outputs": [],
   "source": [
    "# del_rng_list = []\n",
    "\n",
    "# for i in sheet['env_nr'][:,1]:\n",
    "#     if i.value == 'pre-sales':\n",
    "#         del_rng_list.append(i)\n",
    "               \n",
    "# print(del_rng_list)\n"
   ]
  },
  {
   "cell_type": "code",
   "execution_count": 34,
   "id": "7ecf0a29",
   "metadata": {
    "execution": {
     "iopub.execute_input": "2024-09-16T06:38:31.480044Z",
     "iopub.status.busy": "2024-09-16T06:38:31.479907Z",
     "iopub.status.idle": "2024-09-16T06:38:31.481495Z",
     "shell.execute_reply": "2024-09-16T06:38:31.481271Z"
    },
    "papermill": {
     "duration": 0.005496,
     "end_time": "2024-09-16T06:38:31.482236",
     "exception": false,
     "start_time": "2024-09-16T06:38:31.476740",
     "status": "completed"
    },
    "tags": []
   },
   "outputs": [],
   "source": [
    "# ph_list = []\n",
    "\n",
    "# for i in sheet['env_nr'][:,1]:\n",
    "#     if i.value == 'pre-sales':\n",
    "#         ph_list.append(i)\n",
    "        \n",
    "        \n",
    "        "
   ]
  }
 ],
 "metadata": {
  "kernelspec": {
   "display_name": "sowmachine_venv",
   "language": "python",
   "name": "python3"
  },
  "language_info": {
   "codemirror_mode": {
    "name": "ipython",
    "version": 3
   },
   "file_extension": ".py",
   "mimetype": "text/x-python",
   "name": "python",
   "nbconvert_exporter": "python",
   "pygments_lexer": "ipython3",
   "version": "3.11.1"
  },
  "papermill": {
   "default_parameters": {},
   "duration": 2.813994,
   "end_time": "2024-09-16T06:38:31.802373",
   "environment_variables": {},
   "exception": null,
   "input_path": "5_clean_up.ipynb",
   "output_path": "5_clean_up.ipynb",
   "parameters": {},
   "start_time": "2024-09-16T06:38:28.988379",
   "version": "2.6.0"
  },
  "vscode": {
   "interpreter": {
    "hash": "fb97792c95ecc40909c77d7c0c5a2e301450a97269f294267b9ea907136fa9f0"
   }
  }
 },
 "nbformat": 4,
 "nbformat_minor": 5
}