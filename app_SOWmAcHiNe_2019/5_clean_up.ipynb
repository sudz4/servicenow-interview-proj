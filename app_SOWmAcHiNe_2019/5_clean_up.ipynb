{
 "cells": [
  {
   "cell_type": "markdown",
   "id": "523af48a",
   "metadata": {
    "papermill": {
     "duration": 0.009738,
     "end_time": "2024-09-16T06:36:11.628039",
     "exception": false,
     "start_time": "2024-09-16T06:36:11.618301",
     "status": "completed"
    },
    "tags": []
   },
   "source": [
    "| CLEAN UP | Remove placeholder values |\n",
    "| ----------- | ----------- |"
   ]
  },
  {
   "cell_type": "code",
   "execution_count": 1,
   "id": "e1dc0d40",
   "metadata": {
    "execution": {
     "iopub.execute_input": "2024-09-16T06:36:11.640566Z",
     "iopub.status.busy": "2024-09-16T06:36:11.640298Z",
     "iopub.status.idle": "2024-09-16T06:36:12.094647Z",
     "shell.execute_reply": "2024-09-16T06:36:12.094306Z"
    },
    "papermill": {
     "duration": 0.461715,
     "end_time": "2024-09-16T06:36:12.095703",
     "exception": false,
     "start_time": "2024-09-16T06:36:11.633988",
     "status": "completed"
    },
    "tags": []
   },
   "outputs": [],
   "source": [
    "import xlwings as xw\n",
    "from openpyxl import Workbook, load_workbook\n",
    "import xlsxwriter \n",
    "\n",
    "import pandas as pd\n",
    "import numpy as np\n",
    "import datetime as dt \n",
    "import time\n",
    "import sys\n",
    "\n",
    "\"\"\"\n",
    "Latest xlwings release: v0.27.15\n",
    "https://www.xlwings.org/\n",
    "\n",
    "\"\"\"\n",
    "xw.__version__ \n",
    "\n",
    "from appscript import k"
   ]
  },
  {
   "cell_type": "code",
   "execution_count": 2,
   "id": "fea39367",
   "metadata": {
    "execution": {
     "iopub.execute_input": "2024-09-16T06:36:12.101374Z",
     "iopub.status.busy": "2024-09-16T06:36:12.101225Z",
     "iopub.status.idle": "2024-09-16T06:36:12.250411Z",
     "shell.execute_reply": "2024-09-16T06:36:12.249913Z"
    },
    "papermill": {
     "duration": 0.15325,
     "end_time": "2024-09-16T06:36:12.251548",
     "exception": false,
     "start_time": "2024-09-16T06:36:12.098298",
     "status": "completed"
    },
    "tags": []
   },
   "outputs": [],
   "source": [
    "# Connect to workbook\n",
    "book_number = 'book01.xlsx'\n",
    "wb = xw.Book(book_number)\n",
    "sheet = wb.sheets[0]"
   ]
  },
  {
   "cell_type": "code",
   "execution_count": 3,
   "id": "48c8802d",
   "metadata": {
    "execution": {
     "iopub.execute_input": "2024-09-16T06:36:12.258617Z",
     "iopub.status.busy": "2024-09-16T06:36:12.258460Z",
     "iopub.status.idle": "2024-09-16T06:36:12.262274Z",
     "shell.execute_reply": "2024-09-16T06:36:12.261987Z"
    },
    "papermill": {
     "duration": 0.008199,
     "end_time": "2024-09-16T06:36:12.263097",
     "exception": false,
     "start_time": "2024-09-16T06:36:12.254898",
     "status": "completed"
    },
    "tags": []
   },
   "outputs": [
    {
     "data": {
      "text/plain": [
       "'\\nDelete Placeholders\\n'"
      ]
     },
     "execution_count": 3,
     "metadata": {},
     "output_type": "execute_result"
    }
   ],
   "source": [
    "\"\"\"\n",
    "Delete Placeholders\n",
    "\"\"\""
   ]
  },
  {
   "cell_type": "code",
   "execution_count": 4,
   "id": "75cd1ca3",
   "metadata": {
    "execution": {
     "iopub.execute_input": "2024-09-16T06:36:12.269397Z",
     "iopub.status.busy": "2024-09-16T06:36:12.269265Z",
     "iopub.status.idle": "2024-09-16T06:36:12.281313Z",
     "shell.execute_reply": "2024-09-16T06:36:12.280990Z"
    },
    "papermill": {
     "duration": 0.016429,
     "end_time": "2024-09-16T06:36:12.282363",
     "exception": false,
     "start_time": "2024-09-16T06:36:12.265934",
     "status": "completed"
    },
    "tags": []
   },
   "outputs": [],
   "source": [
    "# Harcode delete CLOSE placeholders\n",
    "sheet['A166:G177'].delete(shift='up')"
   ]
  },
  {
   "cell_type": "code",
   "execution_count": 5,
   "id": "3e36c5c2",
   "metadata": {
    "execution": {
     "iopub.execute_input": "2024-09-16T06:36:12.288847Z",
     "iopub.status.busy": "2024-09-16T06:36:12.288684Z",
     "iopub.status.idle": "2024-09-16T06:36:12.346753Z",
     "shell.execute_reply": "2024-09-16T06:36:12.346398Z"
    },
    "papermill": {
     "duration": 0.06241,
     "end_time": "2024-09-16T06:36:12.347772",
     "exception": false,
     "start_time": "2024-09-16T06:36:12.285362",
     "status": "completed"
    },
    "tags": []
   },
   "outputs": [],
   "source": [
    "# Harcode delete TRANSITION placeholders\n",
    "sheet['A151:G155'].delete(shift='up')"
   ]
  },
  {
   "cell_type": "code",
   "execution_count": 6,
   "id": "93cc1e6d",
   "metadata": {
    "execution": {
     "iopub.execute_input": "2024-09-16T06:36:12.354002Z",
     "iopub.status.busy": "2024-09-16T06:36:12.353851Z",
     "iopub.status.idle": "2024-09-16T06:36:12.402243Z",
     "shell.execute_reply": "2024-09-16T06:36:12.401931Z"
    },
    "papermill": {
     "duration": 0.052638,
     "end_time": "2024-09-16T06:36:12.403248",
     "exception": false,
     "start_time": "2024-09-16T06:36:12.350610",
     "status": "completed"
    },
    "tags": []
   },
   "outputs": [],
   "source": [
    "# Harcode delete BUILD placeholders\n",
    "sheet['A125:G134'].delete(shift='up')"
   ]
  },
  {
   "cell_type": "code",
   "execution_count": 7,
   "id": "bdaeff0a",
   "metadata": {
    "execution": {
     "iopub.execute_input": "2024-09-16T06:36:12.411174Z",
     "iopub.status.busy": "2024-09-16T06:36:12.410999Z",
     "iopub.status.idle": "2024-09-16T06:36:12.475299Z",
     "shell.execute_reply": "2024-09-16T06:36:12.474958Z"
    },
    "papermill": {
     "duration": 0.069424,
     "end_time": "2024-09-16T06:36:12.476268",
     "exception": false,
     "start_time": "2024-09-16T06:36:12.406844",
     "status": "completed"
    },
    "tags": []
   },
   "outputs": [],
   "source": [
    "# Harcode delete DESIGN placeholders\n",
    "sheet['A84:G95'].delete(shift='up')"
   ]
  },
  {
   "cell_type": "code",
   "execution_count": 8,
   "id": "47fa4fd1",
   "metadata": {
    "execution": {
     "iopub.execute_input": "2024-09-16T06:36:12.482314Z",
     "iopub.status.busy": "2024-09-16T06:36:12.482175Z",
     "iopub.status.idle": "2024-09-16T06:36:12.559025Z",
     "shell.execute_reply": "2024-09-16T06:36:12.558707Z"
    },
    "papermill": {
     "duration": 0.081102,
     "end_time": "2024-09-16T06:36:12.560121",
     "exception": false,
     "start_time": "2024-09-16T06:36:12.479019",
     "status": "completed"
    },
    "tags": []
   },
   "outputs": [],
   "source": [
    "# Harcode delete DEFINE placeholders\n",
    "sheet['A65:G75'].delete(shift='up')"
   ]
  },
  {
   "cell_type": "code",
   "execution_count": 9,
   "id": "e99645ed",
   "metadata": {
    "execution": {
     "iopub.execute_input": "2024-09-16T06:36:12.566272Z",
     "iopub.status.busy": "2024-09-16T06:36:12.566135Z",
     "iopub.status.idle": "2024-09-16T06:36:12.600218Z",
     "shell.execute_reply": "2024-09-16T06:36:12.599927Z"
    },
    "papermill": {
     "duration": 0.038454,
     "end_time": "2024-09-16T06:36:12.601477",
     "exception": false,
     "start_time": "2024-09-16T06:36:12.563023",
     "status": "completed"
    },
    "tags": []
   },
   "outputs": [],
   "source": [
    "# Harcode delete INITIATE placeholders\n",
    "sheet['A29:G37'].delete(shift='up')"
   ]
  },
  {
   "cell_type": "code",
   "execution_count": 10,
   "id": "1bf8a860",
   "metadata": {
    "execution": {
     "iopub.execute_input": "2024-09-16T06:36:12.609946Z",
     "iopub.status.busy": "2024-09-16T06:36:12.609800Z",
     "iopub.status.idle": "2024-09-16T06:36:12.642016Z",
     "shell.execute_reply": "2024-09-16T06:36:12.641736Z"
    },
    "papermill": {
     "duration": 0.038769,
     "end_time": "2024-09-16T06:36:12.643089",
     "exception": false,
     "start_time": "2024-09-16T06:36:12.604320",
     "status": "completed"
    },
    "tags": []
   },
   "outputs": [],
   "source": [
    "# Harcode delete ENVISION placeholders\n",
    "sheet['A5:G17'].delete(shift='up')"
   ]
  },
  {
   "cell_type": "code",
   "execution_count": 11,
   "id": "0b0658ec",
   "metadata": {
    "execution": {
     "iopub.execute_input": "2024-09-16T06:36:12.649291Z",
     "iopub.status.busy": "2024-09-16T06:36:12.649167Z",
     "iopub.status.idle": "2024-09-16T06:36:12.676829Z",
     "shell.execute_reply": "2024-09-16T06:36:12.676468Z"
    },
    "papermill": {
     "duration": 0.031903,
     "end_time": "2024-09-16T06:36:12.677965",
     "exception": false,
     "start_time": "2024-09-16T06:36:12.646062",
     "status": "completed"
    },
    "tags": []
   },
   "outputs": [],
   "source": [
    "# Harcode delete RATE CHARTS placeholders\n",
    "sheet['A136:G136'].delete(shift='up')"
   ]
  },
  {
   "cell_type": "code",
   "execution_count": 12,
   "id": "6ba705b7",
   "metadata": {
    "execution": {
     "iopub.execute_input": "2024-09-16T06:36:12.684402Z",
     "iopub.status.busy": "2024-09-16T06:36:12.684257Z",
     "iopub.status.idle": "2024-09-16T06:36:12.714150Z",
     "shell.execute_reply": "2024-09-16T06:36:12.713746Z"
    },
    "papermill": {
     "duration": 0.034246,
     "end_time": "2024-09-16T06:36:12.715208",
     "exception": false,
     "start_time": "2024-09-16T06:36:12.680962",
     "status": "completed"
    },
    "tags": []
   },
   "outputs": [],
   "source": [
    "# Harcode delete RATE MAIN placeholders\n",
    "sheet['A124:G124'].delete(shift='up')"
   ]
  },
  {
   "cell_type": "code",
   "execution_count": 13,
   "id": "122c91b7",
   "metadata": {
    "execution": {
     "iopub.execute_input": "2024-09-16T06:36:12.721366Z",
     "iopub.status.busy": "2024-09-16T06:36:12.721185Z",
     "iopub.status.idle": "2024-09-16T06:36:12.829182Z",
     "shell.execute_reply": "2024-09-16T06:36:12.828749Z"
    },
    "papermill": {
     "duration": 0.112177,
     "end_time": "2024-09-16T06:36:12.830156",
     "exception": false,
     "start_time": "2024-09-16T06:36:12.717979",
     "status": "completed"
    },
    "tags": []
   },
   "outputs": [],
   "source": [
    "# SAVE\n",
    "book_number = 'book01.xlsx'\n",
    "wb.save(book_number)"
   ]
  },
  {
   "cell_type": "markdown",
   "id": "8f8cb523",
   "metadata": {
    "papermill": {
     "duration": 0.004026,
     "end_time": "2024-09-16T06:36:12.837040",
     "exception": false,
     "start_time": "2024-09-16T06:36:12.833014",
     "status": "completed"
    },
    "tags": []
   },
   "source": [
    "| END OF PROGRAM |\n",
    "| ----------- |\n",
    "| Notes for future DEV, and reference code below |\n"
   ]
  },
  {
   "cell_type": "code",
   "execution_count": 14,
   "id": "3f04800a",
   "metadata": {
    "execution": {
     "iopub.execute_input": "2024-09-16T06:36:12.846774Z",
     "iopub.status.busy": "2024-09-16T06:36:12.846541Z",
     "iopub.status.idle": "2024-09-16T06:36:12.848925Z",
     "shell.execute_reply": "2024-09-16T06:36:12.848587Z"
    },
    "papermill": {
     "duration": 0.008728,
     "end_time": "2024-09-16T06:36:12.850002",
     "exception": false,
     "start_time": "2024-09-16T06:36:12.841274",
     "status": "completed"
    },
    "tags": []
   },
   "outputs": [],
   "source": [
    "# TEST / DEMO - hardcode drop placeholders\n",
    "# for i in sheet['des_nr'][:,1]:\n",
    "#     if i.value == 'XXX':\n",
    "#         row_loc = i.row\n",
    "#         # print(row_loc)\n",
    "#         sheet['des_nr'][row_loc,:].delete(shift='up')"
   ]
  },
  {
   "cell_type": "code",
   "execution_count": 15,
   "id": "1e545bf5",
   "metadata": {
    "execution": {
     "iopub.execute_input": "2024-09-16T06:36:12.858808Z",
     "iopub.status.busy": "2024-09-16T06:36:12.858640Z",
     "iopub.status.idle": "2024-09-16T06:36:12.860569Z",
     "shell.execute_reply": "2024-09-16T06:36:12.860181Z"
    },
    "papermill": {
     "duration": 0.007296,
     "end_time": "2024-09-16T06:36:12.861550",
     "exception": false,
     "start_time": "2024-09-16T06:36:12.854254",
     "status": "completed"
    },
    "tags": []
   },
   "outputs": [],
   "source": [
    "# Get a list of named ranges in sheet\n",
    "# for name in wb.names:\n",
    "#     #print(name.name, name.refers_to_range)\n",
    "    \n",
    "#     nr_list = name.name\n",
    "#     print(nr_list)"
   ]
  },
  {
   "cell_type": "code",
   "execution_count": 16,
   "id": "01ae6586",
   "metadata": {
    "execution": {
     "iopub.execute_input": "2024-09-16T06:36:12.868802Z",
     "iopub.status.busy": "2024-09-16T06:36:12.868661Z",
     "iopub.status.idle": "2024-09-16T06:36:12.870296Z",
     "shell.execute_reply": "2024-09-16T06:36:12.870034Z"
    },
    "papermill": {
     "duration": 0.006482,
     "end_time": "2024-09-16T06:36:12.871475",
     "exception": false,
     "start_time": "2024-09-16T06:36:12.864993",
     "status": "completed"
    },
    "tags": []
   },
   "outputs": [],
   "source": [
    "# IMPORTANT - Remove named ranges for cleanup\n",
    "# if len(wb.names) > 0:\n",
    "#     #print(len(wb.names))\n",
    "#     for n in range(0, len(wb.names)):\n",
    "# \t    wb.names[0].delete()"
   ]
  },
  {
   "cell_type": "code",
   "execution_count": 17,
   "id": "9a644977",
   "metadata": {
    "execution": {
     "iopub.execute_input": "2024-09-16T06:36:12.878345Z",
     "iopub.status.busy": "2024-09-16T06:36:12.878186Z",
     "iopub.status.idle": "2024-09-16T06:36:12.879903Z",
     "shell.execute_reply": "2024-09-16T06:36:12.879618Z"
    },
    "papermill": {
     "duration": 0.006235,
     "end_time": "2024-09-16T06:36:12.880839",
     "exception": false,
     "start_time": "2024-09-16T06:36:12.874604",
     "status": "completed"
    },
    "tags": []
   },
   "outputs": [],
   "source": [
    "# Verify there are no named ranges\n",
    "# for name in wb.names:\n",
    "#     print(name.name, name.refers_to_range)"
   ]
  },
  {
   "cell_type": "code",
   "execution_count": 18,
   "id": "e0c5d455",
   "metadata": {
    "execution": {
     "iopub.execute_input": "2024-09-16T06:36:12.887582Z",
     "iopub.status.busy": "2024-09-16T06:36:12.887379Z",
     "iopub.status.idle": "2024-09-16T06:36:12.889254Z",
     "shell.execute_reply": "2024-09-16T06:36:12.888917Z"
    },
    "papermill": {
     "duration": 0.006164,
     "end_time": "2024-09-16T06:36:12.890154",
     "exception": false,
     "start_time": "2024-09-16T06:36:12.883990",
     "status": "completed"
    },
    "tags": []
   },
   "outputs": [],
   "source": [
    "# Create one (1) named range\n",
    "# sheet['A2:G180'].name = 'clean_nr'"
   ]
  },
  {
   "cell_type": "code",
   "execution_count": 19,
   "id": "1e8103aa",
   "metadata": {
    "execution": {
     "iopub.execute_input": "2024-09-16T06:36:12.896763Z",
     "iopub.status.busy": "2024-09-16T06:36:12.896528Z",
     "iopub.status.idle": "2024-09-16T06:36:12.898228Z",
     "shell.execute_reply": "2024-09-16T06:36:12.897983Z"
    },
    "papermill": {
     "duration": 0.005639,
     "end_time": "2024-09-16T06:36:12.898996",
     "exception": false,
     "start_time": "2024-09-16T06:36:12.893357",
     "status": "completed"
    },
    "tags": []
   },
   "outputs": [],
   "source": [
    "# for i in sheet['clean_nr'][:,1]:\n",
    "#     if i.value == 'XXX':\n",
    "#         row_loc = i.row\n",
    "#         sheet['clean_nr'][row_loc,:].delete(shift='up')"
   ]
  },
  {
   "cell_type": "code",
   "execution_count": 20,
   "id": "c08db66e",
   "metadata": {
    "execution": {
     "iopub.execute_input": "2024-09-16T06:36:12.905020Z",
     "iopub.status.busy": "2024-09-16T06:36:12.904898Z",
     "iopub.status.idle": "2024-09-16T06:36:12.906468Z",
     "shell.execute_reply": "2024-09-16T06:36:12.906264Z"
    },
    "papermill": {
     "duration": 0.005541,
     "end_time": "2024-09-16T06:36:12.907271",
     "exception": false,
     "start_time": "2024-09-16T06:36:12.901730",
     "status": "completed"
    },
    "tags": []
   },
   "outputs": [],
   "source": [
    "# for i in sheet['env_nr'][0:,1]:\n",
    "#     if i.value == 1:\n",
    "#         sheet['env_nr'][i.row,:].delete()"
   ]
  },
  {
   "cell_type": "code",
   "execution_count": 21,
   "id": "604a328c",
   "metadata": {
    "execution": {
     "iopub.execute_input": "2024-09-16T06:36:12.913457Z",
     "iopub.status.busy": "2024-09-16T06:36:12.913332Z",
     "iopub.status.idle": "2024-09-16T06:36:12.915068Z",
     "shell.execute_reply": "2024-09-16T06:36:12.914816Z"
    },
    "papermill": {
     "duration": 0.005673,
     "end_time": "2024-09-16T06:36:12.915819",
     "exception": false,
     "start_time": "2024-09-16T06:36:12.910146",
     "status": "completed"
    },
    "tags": []
   },
   "outputs": [],
   "source": [
    "# sheet['A1'].current_region.name = 'cleanup_rng'\n",
    "\n",
    "# for i in sheet['cleanup_rng'][:-1,:]:\n",
    "#     print(i)\n",
    "    # if i.value == 'pre-sales':\n",
    "    #     # delete entire row for all rows where at least one cell value == 'pre-sales'\n",
    "    #     # sheet.range(i.row,1).delete()\n",
    "    #     sheet['cleanup_rng'][i.row,:].delete()"
   ]
  },
  {
   "cell_type": "code",
   "execution_count": 22,
   "id": "fad4a5eb",
   "metadata": {
    "execution": {
     "iopub.execute_input": "2024-09-16T06:36:12.921248Z",
     "iopub.status.busy": "2024-09-16T06:36:12.921142Z",
     "iopub.status.idle": "2024-09-16T06:36:12.922654Z",
     "shell.execute_reply": "2024-09-16T06:36:12.922385Z"
    },
    "papermill": {
     "duration": 0.005165,
     "end_time": "2024-09-16T06:36:12.923524",
     "exception": false,
     "start_time": "2024-09-16T06:36:12.918359",
     "status": "completed"
    },
    "tags": []
   },
   "outputs": [],
   "source": [
    "# sheet['A1'].current_region.name = 'cleanup_rng'\n",
    "\n",
    "# for i in sheet['cleanup_rng']:\n",
    "#     if i.value == 'pre-sales':\n",
    "#         ps_cell_row_num = i.row\n",
    "#         ps_cell_col_num = i.column"
   ]
  },
  {
   "cell_type": "code",
   "execution_count": 23,
   "id": "94fa11bf",
   "metadata": {
    "execution": {
     "iopub.execute_input": "2024-09-16T06:36:12.929432Z",
     "iopub.status.busy": "2024-09-16T06:36:12.929326Z",
     "iopub.status.idle": "2024-09-16T06:36:12.930751Z",
     "shell.execute_reply": "2024-09-16T06:36:12.930544Z"
    },
    "papermill": {
     "duration": 0.005301,
     "end_time": "2024-09-16T06:36:12.931520",
     "exception": false,
     "start_time": "2024-09-16T06:36:12.926219",
     "status": "completed"
    },
    "tags": []
   },
   "outputs": [],
   "source": [
    "# print(ps_cell_row_num)\n",
    "# print(ps_cell_col_num)"
   ]
  },
  {
   "cell_type": "code",
   "execution_count": 24,
   "id": "6a473140",
   "metadata": {
    "execution": {
     "iopub.execute_input": "2024-09-16T06:36:12.937311Z",
     "iopub.status.busy": "2024-09-16T06:36:12.937208Z",
     "iopub.status.idle": "2024-09-16T06:36:12.938713Z",
     "shell.execute_reply": "2024-09-16T06:36:12.938492Z"
    },
    "papermill": {
     "duration": 0.005028,
     "end_time": "2024-09-16T06:36:12.939402",
     "exception": false,
     "start_time": "2024-09-16T06:36:12.934374",
     "status": "completed"
    },
    "tags": []
   },
   "outputs": [],
   "source": [
    "# sheet['A1'].current_region.name = 'cleanup_rng'\n",
    "# filter_word = 'pre-sales'\n",
    "\n",
    "# sheet['cleanup_rng'][0:,1:3].options(ndim=2).value == ['pre-sales', 'pre-sales']\n",
    "\n",
    "\n",
    "    "
   ]
  },
  {
   "cell_type": "code",
   "execution_count": 25,
   "id": "62f45f15",
   "metadata": {
    "execution": {
     "iopub.execute_input": "2024-09-16T06:36:12.944994Z",
     "iopub.status.busy": "2024-09-16T06:36:12.944892Z",
     "iopub.status.idle": "2024-09-16T06:36:12.946353Z",
     "shell.execute_reply": "2024-09-16T06:36:12.946116Z"
    },
    "papermill": {
     "duration": 0.005239,
     "end_time": "2024-09-16T06:36:12.947243",
     "exception": false,
     "start_time": "2024-09-16T06:36:12.942004",
     "status": "completed"
    },
    "tags": []
   },
   "outputs": [],
   "source": [
    "# cup_rng = sheet['A1'].current_region\n",
    "\n",
    "# # ph_list = sheet['env_nr'][3,:].value\n",
    "\n",
    "# for i in cup_rng:\n",
    "#     if i.value == 'pre-sales':\n",
    "#         print(i)"
   ]
  },
  {
   "cell_type": "code",
   "execution_count": 26,
   "id": "18a877f3",
   "metadata": {
    "execution": {
     "iopub.execute_input": "2024-09-16T06:36:12.952793Z",
     "iopub.status.busy": "2024-09-16T06:36:12.952687Z",
     "iopub.status.idle": "2024-09-16T06:36:12.954128Z",
     "shell.execute_reply": "2024-09-16T06:36:12.953897Z"
    },
    "papermill": {
     "duration": 0.004986,
     "end_time": "2024-09-16T06:36:12.954879",
     "exception": false,
     "start_time": "2024-09-16T06:36:12.949893",
     "status": "completed"
    },
    "tags": []
   },
   "outputs": [],
   "source": [
    "# # Create placeholder list from one row\n",
    "# ph_list = sheet['env_nr'][3,:].value\n",
    "\n",
    "# ph_list"
   ]
  },
  {
   "cell_type": "code",
   "execution_count": 27,
   "id": "2f027acd",
   "metadata": {
    "execution": {
     "iopub.execute_input": "2024-09-16T06:36:12.960593Z",
     "iopub.status.busy": "2024-09-16T06:36:12.960469Z",
     "iopub.status.idle": "2024-09-16T06:36:12.961962Z",
     "shell.execute_reply": "2024-09-16T06:36:12.961742Z"
    },
    "papermill": {
     "duration": 0.005126,
     "end_time": "2024-09-16T06:36:12.962647",
     "exception": false,
     "start_time": "2024-09-16T06:36:12.957521",
     "status": "completed"
    },
    "tags": []
   },
   "outputs": [],
   "source": [
    "# clean_filt = sheet['env_nr'][:,1:3] == 'pre-sales'\n",
    "\n",
    "# # clean_filt"
   ]
  },
  {
   "cell_type": "code",
   "execution_count": 28,
   "id": "c0873cde",
   "metadata": {
    "execution": {
     "iopub.execute_input": "2024-09-16T06:36:12.967923Z",
     "iopub.status.busy": "2024-09-16T06:36:12.967836Z",
     "iopub.status.idle": "2024-09-16T06:36:12.969075Z",
     "shell.execute_reply": "2024-09-16T06:36:12.968852Z"
    },
    "papermill": {
     "duration": 0.004632,
     "end_time": "2024-09-16T06:36:12.969805",
     "exception": false,
     "start_time": "2024-09-16T06:36:12.965173",
     "status": "completed"
    },
    "tags": []
   },
   "outputs": [],
   "source": [
    "# Tooltips\n",
    "# dir(sheet['A1'])"
   ]
  },
  {
   "cell_type": "code",
   "execution_count": 29,
   "id": "a3b70b40",
   "metadata": {
    "execution": {
     "iopub.execute_input": "2024-09-16T06:36:12.975784Z",
     "iopub.status.busy": "2024-09-16T06:36:12.975644Z",
     "iopub.status.idle": "2024-09-16T06:36:12.977399Z",
     "shell.execute_reply": "2024-09-16T06:36:12.977130Z"
    },
    "papermill": {
     "duration": 0.00554,
     "end_time": "2024-09-16T06:36:12.978254",
     "exception": false,
     "start_time": "2024-09-16T06:36:12.972714",
     "status": "completed"
    },
    "tags": []
   },
   "outputs": [],
   "source": [
    "# sheet['A1'].api"
   ]
  },
  {
   "cell_type": "code",
   "execution_count": 30,
   "id": "8c573ca4",
   "metadata": {
    "execution": {
     "iopub.execute_input": "2024-09-16T06:36:12.984357Z",
     "iopub.status.busy": "2024-09-16T06:36:12.984225Z",
     "iopub.status.idle": "2024-09-16T06:36:12.985763Z",
     "shell.execute_reply": "2024-09-16T06:36:12.985555Z"
    },
    "papermill": {
     "duration": 0.005281,
     "end_time": "2024-09-16T06:36:12.986507",
     "exception": false,
     "start_time": "2024-09-16T06:36:12.981226",
     "status": "completed"
    },
    "tags": []
   },
   "outputs": [],
   "source": [
    "# cup_rng = sheet['A1'].current_region\n",
    "\n",
    "# for i in cup_rng:\n",
    "#     if i.value == ('pre-sales' and 'placeholder'):\n",
    "#         print(i)\n"
   ]
  },
  {
   "cell_type": "code",
   "execution_count": 31,
   "id": "131846f5",
   "metadata": {
    "execution": {
     "iopub.execute_input": "2024-09-16T06:36:12.992417Z",
     "iopub.status.busy": "2024-09-16T06:36:12.992293Z",
     "iopub.status.idle": "2024-09-16T06:36:12.993854Z",
     "shell.execute_reply": "2024-09-16T06:36:12.993628Z"
    },
    "papermill": {
     "duration": 0.00536,
     "end_time": "2024-09-16T06:36:12.994597",
     "exception": false,
     "start_time": "2024-09-16T06:36:12.989237",
     "status": "completed"
    },
    "tags": []
   },
   "outputs": [],
   "source": [
    "# for i in sheet['env_nr'][-1,:]:\n",
    "#     i = i + 1\n",
    "#     if sheet['env_nr']('A' + str(i)).value == 'pre-sales' or 'placeholder':\n",
    "#         xw.Range('A' + str(i)).clear()\n",
    "#         continue\n",
    "#     else:\n",
    "#         continue"
   ]
  },
  {
   "cell_type": "code",
   "execution_count": 32,
   "id": "9e5dcf95",
   "metadata": {
    "execution": {
     "iopub.execute_input": "2024-09-16T06:36:13.000206Z",
     "iopub.status.busy": "2024-09-16T06:36:13.000097Z",
     "iopub.status.idle": "2024-09-16T06:36:13.001568Z",
     "shell.execute_reply": "2024-09-16T06:36:13.001338Z"
    },
    "papermill": {
     "duration": 0.005135,
     "end_time": "2024-09-16T06:36:13.002319",
     "exception": false,
     "start_time": "2024-09-16T06:36:12.997184",
     "status": "completed"
    },
    "tags": []
   },
   "outputs": [],
   "source": [
    "# for i in sheet['env_nr'][:,1]:\n",
    "#     if i.value != 'pre-sales':\n",
    "#         pass\n",
    "#     elif i.value == 'pre-sales':\n",
    "#         print(i)\n",
    "        \n",
    "        "
   ]
  },
  {
   "cell_type": "code",
   "execution_count": 33,
   "id": "77fb7028",
   "metadata": {
    "execution": {
     "iopub.execute_input": "2024-09-16T06:36:13.008107Z",
     "iopub.status.busy": "2024-09-16T06:36:13.007989Z",
     "iopub.status.idle": "2024-09-16T06:36:13.009417Z",
     "shell.execute_reply": "2024-09-16T06:36:13.009194Z"
    },
    "papermill": {
     "duration": 0.005342,
     "end_time": "2024-09-16T06:36:13.010229",
     "exception": false,
     "start_time": "2024-09-16T06:36:13.004887",
     "status": "completed"
    },
    "tags": []
   },
   "outputs": [],
   "source": [
    "# del_rng_list = []\n",
    "\n",
    "# for i in sheet['env_nr'][:,1]:\n",
    "#     if i.value == 'pre-sales':\n",
    "#         del_rng_list.append(i)\n",
    "               \n",
    "# print(del_rng_list)\n"
   ]
  },
  {
   "cell_type": "code",
   "execution_count": 34,
   "id": "7ecf0a29",
   "metadata": {
    "execution": {
     "iopub.execute_input": "2024-09-16T06:36:13.016130Z",
     "iopub.status.busy": "2024-09-16T06:36:13.016020Z",
     "iopub.status.idle": "2024-09-16T06:36:13.017503Z",
     "shell.execute_reply": "2024-09-16T06:36:13.017277Z"
    },
    "papermill": {
     "duration": 0.005212,
     "end_time": "2024-09-16T06:36:13.018291",
     "exception": false,
     "start_time": "2024-09-16T06:36:13.013079",
     "status": "completed"
    },
    "tags": []
   },
   "outputs": [],
   "source": [
    "# ph_list = []\n",
    "\n",
    "# for i in sheet['env_nr'][:,1]:\n",
    "#     if i.value == 'pre-sales':\n",
    "#         ph_list.append(i)\n",
    "        \n",
    "        \n",
    "        "
   ]
  }
 ],
 "metadata": {
  "kernelspec": {
   "display_name": "sowmachine_venv",
   "language": "python",
   "name": "python3"
  },
  "language_info": {
   "codemirror_mode": {
    "name": "ipython",
    "version": 3
   },
   "file_extension": ".py",
   "mimetype": "text/x-python",
   "name": "python",
   "nbconvert_exporter": "python",
   "pygments_lexer": "ipython3",
   "version": "3.11.1"
  },
  "papermill": {
   "default_parameters": {},
   "duration": 2.420894,
   "end_time": "2024-09-16T06:36:13.338592",
   "environment_variables": {},
   "exception": null,
   "input_path": "5_clean_up.ipynb",
   "output_path": "5_clean_up.ipynb",
   "parameters": {},
   "start_time": "2024-09-16T06:36:10.917698",
   "version": "2.6.0"
  },
  "vscode": {
   "interpreter": {
    "hash": "fb97792c95ecc40909c77d7c0c5a2e301450a97269f294267b9ea907136fa9f0"
   }
  }
 },
 "nbformat": 4,
 "nbformat_minor": 5
}