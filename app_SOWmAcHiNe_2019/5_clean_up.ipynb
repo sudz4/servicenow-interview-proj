{
 "cells": [
  {
   "cell_type": "markdown",
   "id": "523af48a",
   "metadata": {
    "papermill": {
     "duration": 0.010281,
     "end_time": "2024-09-16T06:01:10.387038",
     "exception": false,
     "start_time": "2024-09-16T06:01:10.376757",
     "status": "completed"
    },
    "tags": []
   },
   "source": [
    "| CLEAN UP | Remove placeholder values |\n",
    "| ----------- | ----------- |"
   ]
  },
  {
   "cell_type": "code",
   "execution_count": 1,
   "id": "e1dc0d40",
   "metadata": {
    "execution": {
     "iopub.execute_input": "2024-09-16T06:01:10.399493Z",
     "iopub.status.busy": "2024-09-16T06:01:10.399223Z",
     "iopub.status.idle": "2024-09-16T06:01:10.809196Z",
     "shell.execute_reply": "2024-09-16T06:01:10.808906Z"
    },
    "papermill": {
     "duration": 0.417149,
     "end_time": "2024-09-16T06:01:10.810210",
     "exception": false,
     "start_time": "2024-09-16T06:01:10.393061",
     "status": "completed"
    },
    "tags": []
   },
   "outputs": [],
   "source": [
    "import xlwings as xw\n",
    "from openpyxl import Workbook, load_workbook\n",
    "import xlsxwriter \n",
    "\n",
    "import pandas as pd\n",
    "import numpy as np\n",
    "import datetime as dt \n",
    "import time\n",
    "import sys\n",
    "\n",
    "\"\"\"\n",
    "Latest xlwings release: v0.27.15\n",
    "https://www.xlwings.org/\n",
    "\n",
    "\"\"\"\n",
    "xw.__version__ \n",
    "\n",
    "from appscript import k"
   ]
  },
  {
   "cell_type": "code",
   "execution_count": 2,
   "id": "fea39367",
   "metadata": {
    "execution": {
     "iopub.execute_input": "2024-09-16T06:01:10.815687Z",
     "iopub.status.busy": "2024-09-16T06:01:10.815558Z",
     "iopub.status.idle": "2024-09-16T06:01:10.928042Z",
     "shell.execute_reply": "2024-09-16T06:01:10.927507Z"
    },
    "papermill": {
     "duration": 0.116276,
     "end_time": "2024-09-16T06:01:10.929095",
     "exception": false,
     "start_time": "2024-09-16T06:01:10.812819",
     "status": "completed"
    },
    "tags": []
   },
   "outputs": [],
   "source": [
    "# Connect to workbook\n",
    "book_number = 'book01.xlsx'\n",
    "wb = xw.Book(book_number)\n",
    "sheet = wb.sheets[0]"
   ]
  },
  {
   "cell_type": "code",
   "execution_count": 3,
   "id": "48c8802d",
   "metadata": {
    "execution": {
     "iopub.execute_input": "2024-09-16T06:01:10.935631Z",
     "iopub.status.busy": "2024-09-16T06:01:10.935391Z",
     "iopub.status.idle": "2024-09-16T06:01:10.938967Z",
     "shell.execute_reply": "2024-09-16T06:01:10.938605Z"
    },
    "papermill": {
     "duration": 0.007592,
     "end_time": "2024-09-16T06:01:10.939727",
     "exception": false,
     "start_time": "2024-09-16T06:01:10.932135",
     "status": "completed"
    },
    "tags": []
   },
   "outputs": [
    {
     "data": {
      "text/plain": [
       "'\\nDelete Placeholders\\n'"
      ]
     },
     "execution_count": 3,
     "metadata": {},
     "output_type": "execute_result"
    }
   ],
   "source": [
    "\"\"\"\n",
    "Delete Placeholders\n",
    "\"\"\""
   ]
  },
  {
   "cell_type": "code",
   "execution_count": 4,
   "id": "75cd1ca3",
   "metadata": {
    "execution": {
     "iopub.execute_input": "2024-09-16T06:01:10.945400Z",
     "iopub.status.busy": "2024-09-16T06:01:10.945298Z",
     "iopub.status.idle": "2024-09-16T06:01:10.962700Z",
     "shell.execute_reply": "2024-09-16T06:01:10.959881Z"
    },
    "papermill": {
     "duration": 0.024156,
     "end_time": "2024-09-16T06:01:10.966512",
     "exception": false,
     "start_time": "2024-09-16T06:01:10.942356",
     "status": "completed"
    },
    "tags": []
   },
   "outputs": [],
   "source": [
    "# Harcode delete CLOSE placeholders\n",
    "sheet['A166:G177'].delete(shift='up')"
   ]
  },
  {
   "cell_type": "code",
   "execution_count": 5,
   "id": "3e36c5c2",
   "metadata": {
    "execution": {
     "iopub.execute_input": "2024-09-16T06:01:10.986756Z",
     "iopub.status.busy": "2024-09-16T06:01:10.986597Z",
     "iopub.status.idle": "2024-09-16T06:01:11.023143Z",
     "shell.execute_reply": "2024-09-16T06:01:11.022867Z"
    },
    "papermill": {
     "duration": 0.040748,
     "end_time": "2024-09-16T06:01:11.024091",
     "exception": false,
     "start_time": "2024-09-16T06:01:10.983343",
     "status": "completed"
    },
    "tags": []
   },
   "outputs": [],
   "source": [
    "# Harcode delete TRANSITION placeholders\n",
    "sheet['A151:G155'].delete(shift='up')"
   ]
  },
  {
   "cell_type": "code",
   "execution_count": 6,
   "id": "93cc1e6d",
   "metadata": {
    "execution": {
     "iopub.execute_input": "2024-09-16T06:01:11.029946Z",
     "iopub.status.busy": "2024-09-16T06:01:11.029808Z",
     "iopub.status.idle": "2024-09-16T06:01:11.078681Z",
     "shell.execute_reply": "2024-09-16T06:01:11.078358Z"
    },
    "papermill": {
     "duration": 0.05294,
     "end_time": "2024-09-16T06:01:11.079812",
     "exception": false,
     "start_time": "2024-09-16T06:01:11.026872",
     "status": "completed"
    },
    "tags": []
   },
   "outputs": [],
   "source": [
    "# Harcode delete BUILD placeholders\n",
    "sheet['A125:G134'].delete(shift='up')"
   ]
  },
  {
   "cell_type": "code",
   "execution_count": 7,
   "id": "bdaeff0a",
   "metadata": {
    "execution": {
     "iopub.execute_input": "2024-09-16T06:01:11.086211Z",
     "iopub.status.busy": "2024-09-16T06:01:11.086068Z",
     "iopub.status.idle": "2024-09-16T06:01:11.146630Z",
     "shell.execute_reply": "2024-09-16T06:01:11.146321Z"
    },
    "papermill": {
     "duration": 0.064873,
     "end_time": "2024-09-16T06:01:11.147642",
     "exception": false,
     "start_time": "2024-09-16T06:01:11.082769",
     "status": "completed"
    },
    "tags": []
   },
   "outputs": [],
   "source": [
    "# Harcode delete DESIGN placeholders\n",
    "sheet['A84:G95'].delete(shift='up')"
   ]
  },
  {
   "cell_type": "code",
   "execution_count": 8,
   "id": "47fa4fd1",
   "metadata": {
    "execution": {
     "iopub.execute_input": "2024-09-16T06:01:11.153518Z",
     "iopub.status.busy": "2024-09-16T06:01:11.153372Z",
     "iopub.status.idle": "2024-09-16T06:01:11.223132Z",
     "shell.execute_reply": "2024-09-16T06:01:11.222836Z"
    },
    "papermill": {
     "duration": 0.073828,
     "end_time": "2024-09-16T06:01:11.224128",
     "exception": false,
     "start_time": "2024-09-16T06:01:11.150300",
     "status": "completed"
    },
    "tags": []
   },
   "outputs": [],
   "source": [
    "# Harcode delete DEFINE placeholders\n",
    "sheet['A65:G75'].delete(shift='up')"
   ]
  },
  {
   "cell_type": "code",
   "execution_count": 9,
   "id": "e99645ed",
   "metadata": {
    "execution": {
     "iopub.execute_input": "2024-09-16T06:01:11.230123Z",
     "iopub.status.busy": "2024-09-16T06:01:11.230006Z",
     "iopub.status.idle": "2024-09-16T06:01:11.264526Z",
     "shell.execute_reply": "2024-09-16T06:01:11.264229Z"
    },
    "papermill": {
     "duration": 0.038807,
     "end_time": "2024-09-16T06:01:11.265799",
     "exception": false,
     "start_time": "2024-09-16T06:01:11.226992",
     "status": "completed"
    },
    "tags": []
   },
   "outputs": [],
   "source": [
    "# Harcode delete INITIATE placeholders\n",
    "sheet['A29:G37'].delete(shift='up')"
   ]
  },
  {
   "cell_type": "code",
   "execution_count": 10,
   "id": "1bf8a860",
   "metadata": {
    "execution": {
     "iopub.execute_input": "2024-09-16T06:01:11.273596Z",
     "iopub.status.busy": "2024-09-16T06:01:11.273475Z",
     "iopub.status.idle": "2024-09-16T06:01:11.309900Z",
     "shell.execute_reply": "2024-09-16T06:01:11.309583Z"
    },
    "papermill": {
     "duration": 0.041985,
     "end_time": "2024-09-16T06:01:11.310927",
     "exception": false,
     "start_time": "2024-09-16T06:01:11.268942",
     "status": "completed"
    },
    "tags": []
   },
   "outputs": [],
   "source": [
    "# Harcode delete ENVISION placeholders\n",
    "sheet['A5:G17'].delete(shift='up')"
   ]
  },
  {
   "cell_type": "code",
   "execution_count": 11,
   "id": "0b0658ec",
   "metadata": {
    "execution": {
     "iopub.execute_input": "2024-09-16T06:01:11.316774Z",
     "iopub.status.busy": "2024-09-16T06:01:11.316658Z",
     "iopub.status.idle": "2024-09-16T06:01:11.343295Z",
     "shell.execute_reply": "2024-09-16T06:01:11.342989Z"
    },
    "papermill": {
     "duration": 0.030506,
     "end_time": "2024-09-16T06:01:11.344261",
     "exception": false,
     "start_time": "2024-09-16T06:01:11.313755",
     "status": "completed"
    },
    "tags": []
   },
   "outputs": [],
   "source": [
    "# Harcode delete RATE CHARTS placeholders\n",
    "sheet['A136:G136'].delete(shift='up')"
   ]
  },
  {
   "cell_type": "code",
   "execution_count": 12,
   "id": "6ba705b7",
   "metadata": {
    "execution": {
     "iopub.execute_input": "2024-09-16T06:01:11.350226Z",
     "iopub.status.busy": "2024-09-16T06:01:11.350122Z",
     "iopub.status.idle": "2024-09-16T06:01:11.376394Z",
     "shell.execute_reply": "2024-09-16T06:01:11.376131Z"
    },
    "papermill": {
     "duration": 0.030242,
     "end_time": "2024-09-16T06:01:11.377406",
     "exception": false,
     "start_time": "2024-09-16T06:01:11.347164",
     "status": "completed"
    },
    "tags": []
   },
   "outputs": [],
   "source": [
    "# Harcode delete RATE MAIN placeholders\n",
    "sheet['A124:G124'].delete(shift='up')"
   ]
  },
  {
   "cell_type": "code",
   "execution_count": 13,
   "id": "122c91b7",
   "metadata": {
    "execution": {
     "iopub.execute_input": "2024-09-16T06:01:11.383234Z",
     "iopub.status.busy": "2024-09-16T06:01:11.383135Z",
     "iopub.status.idle": "2024-09-16T06:01:11.479653Z",
     "shell.execute_reply": "2024-09-16T06:01:11.479388Z"
    },
    "papermill": {
     "duration": 0.100462,
     "end_time": "2024-09-16T06:01:11.480600",
     "exception": false,
     "start_time": "2024-09-16T06:01:11.380138",
     "status": "completed"
    },
    "tags": []
   },
   "outputs": [],
   "source": [
    "# SAVE\n",
    "book_number = 'book01.xlsx'\n",
    "wb.save(book_number)"
   ]
  },
  {
   "cell_type": "markdown",
   "id": "8f8cb523",
   "metadata": {
    "papermill": {
     "duration": 0.002603,
     "end_time": "2024-09-16T06:01:11.485884",
     "exception": false,
     "start_time": "2024-09-16T06:01:11.483281",
     "status": "completed"
    },
    "tags": []
   },
   "source": [
    "| END OF PROGRAM |\n",
    "| ----------- |\n",
    "| Notes for future DEV, and reference code below |\n"
   ]
  },
  {
   "cell_type": "code",
   "execution_count": 14,
   "id": "3f04800a",
   "metadata": {
    "execution": {
     "iopub.execute_input": "2024-09-16T06:01:11.493157Z",
     "iopub.status.busy": "2024-09-16T06:01:11.493043Z",
     "iopub.status.idle": "2024-09-16T06:01:11.494652Z",
     "shell.execute_reply": "2024-09-16T06:01:11.494418Z"
    },
    "papermill": {
     "duration": 0.007144,
     "end_time": "2024-09-16T06:01:11.495407",
     "exception": false,
     "start_time": "2024-09-16T06:01:11.488263",
     "status": "completed"
    },
    "tags": []
   },
   "outputs": [],
   "source": [
    "# TEST / DEMO - hardcode drop placeholders\n",
    "# for i in sheet['des_nr'][:,1]:\n",
    "#     if i.value == 'XXX':\n",
    "#         row_loc = i.row\n",
    "#         # print(row_loc)\n",
    "#         sheet['des_nr'][row_loc,:].delete(shift='up')"
   ]
  },
  {
   "cell_type": "code",
   "execution_count": 15,
   "id": "1e545bf5",
   "metadata": {
    "execution": {
     "iopub.execute_input": "2024-09-16T06:01:11.503579Z",
     "iopub.status.busy": "2024-09-16T06:01:11.503335Z",
     "iopub.status.idle": "2024-09-16T06:01:11.505191Z",
     "shell.execute_reply": "2024-09-16T06:01:11.504874Z"
    },
    "papermill": {
     "duration": 0.007146,
     "end_time": "2024-09-16T06:01:11.506128",
     "exception": false,
     "start_time": "2024-09-16T06:01:11.498982",
     "status": "completed"
    },
    "tags": []
   },
   "outputs": [],
   "source": [
    "# Get a list of named ranges in sheet\n",
    "# for name in wb.names:\n",
    "#     #print(name.name, name.refers_to_range)\n",
    "    \n",
    "#     nr_list = name.name\n",
    "#     print(nr_list)"
   ]
  },
  {
   "cell_type": "code",
   "execution_count": 16,
   "id": "01ae6586",
   "metadata": {
    "execution": {
     "iopub.execute_input": "2024-09-16T06:01:11.512935Z",
     "iopub.status.busy": "2024-09-16T06:01:11.512825Z",
     "iopub.status.idle": "2024-09-16T06:01:11.514358Z",
     "shell.execute_reply": "2024-09-16T06:01:11.514109Z"
    },
    "papermill": {
     "duration": 0.005756,
     "end_time": "2024-09-16T06:01:11.515147",
     "exception": false,
     "start_time": "2024-09-16T06:01:11.509391",
     "status": "completed"
    },
    "tags": []
   },
   "outputs": [],
   "source": [
    "# IMPORTANT - Remove named ranges for cleanup\n",
    "# if len(wb.names) > 0:\n",
    "#     #print(len(wb.names))\n",
    "#     for n in range(0, len(wb.names)):\n",
    "# \t    wb.names[0].delete()"
   ]
  },
  {
   "cell_type": "code",
   "execution_count": 17,
   "id": "9a644977",
   "metadata": {
    "execution": {
     "iopub.execute_input": "2024-09-16T06:01:11.521454Z",
     "iopub.status.busy": "2024-09-16T06:01:11.521357Z",
     "iopub.status.idle": "2024-09-16T06:01:11.522884Z",
     "shell.execute_reply": "2024-09-16T06:01:11.522638Z"
    },
    "papermill": {
     "duration": 0.005448,
     "end_time": "2024-09-16T06:01:11.523660",
     "exception": false,
     "start_time": "2024-09-16T06:01:11.518212",
     "status": "completed"
    },
    "tags": []
   },
   "outputs": [],
   "source": [
    "# Verify there are no named ranges\n",
    "# for name in wb.names:\n",
    "#     print(name.name, name.refers_to_range)"
   ]
  },
  {
   "cell_type": "code",
   "execution_count": 18,
   "id": "e0c5d455",
   "metadata": {
    "execution": {
     "iopub.execute_input": "2024-09-16T06:01:11.530000Z",
     "iopub.status.busy": "2024-09-16T06:01:11.529902Z",
     "iopub.status.idle": "2024-09-16T06:01:11.531462Z",
     "shell.execute_reply": "2024-09-16T06:01:11.531099Z"
    },
    "papermill": {
     "duration": 0.005809,
     "end_time": "2024-09-16T06:01:11.532286",
     "exception": false,
     "start_time": "2024-09-16T06:01:11.526477",
     "status": "completed"
    },
    "tags": []
   },
   "outputs": [],
   "source": [
    "# Create one (1) named range\n",
    "# sheet['A2:G180'].name = 'clean_nr'"
   ]
  },
  {
   "cell_type": "code",
   "execution_count": 19,
   "id": "1e8103aa",
   "metadata": {
    "execution": {
     "iopub.execute_input": "2024-09-16T06:01:11.538059Z",
     "iopub.status.busy": "2024-09-16T06:01:11.537964Z",
     "iopub.status.idle": "2024-09-16T06:01:11.539312Z",
     "shell.execute_reply": "2024-09-16T06:01:11.539095Z"
    },
    "papermill": {
     "duration": 0.005006,
     "end_time": "2024-09-16T06:01:11.540034",
     "exception": false,
     "start_time": "2024-09-16T06:01:11.535028",
     "status": "completed"
    },
    "tags": []
   },
   "outputs": [],
   "source": [
    "# for i in sheet['clean_nr'][:,1]:\n",
    "#     if i.value == 'XXX':\n",
    "#         row_loc = i.row\n",
    "#         sheet['clean_nr'][row_loc,:].delete(shift='up')"
   ]
  },
  {
   "cell_type": "code",
   "execution_count": 20,
   "id": "c08db66e",
   "metadata": {
    "execution": {
     "iopub.execute_input": "2024-09-16T06:01:11.545440Z",
     "iopub.status.busy": "2024-09-16T06:01:11.545352Z",
     "iopub.status.idle": "2024-09-16T06:01:11.546692Z",
     "shell.execute_reply": "2024-09-16T06:01:11.546506Z"
    },
    "papermill": {
     "duration": 0.004796,
     "end_time": "2024-09-16T06:01:11.547366",
     "exception": false,
     "start_time": "2024-09-16T06:01:11.542570",
     "status": "completed"
    },
    "tags": []
   },
   "outputs": [],
   "source": [
    "# for i in sheet['env_nr'][0:,1]:\n",
    "#     if i.value == 1:\n",
    "#         sheet['env_nr'][i.row,:].delete()"
   ]
  },
  {
   "cell_type": "code",
   "execution_count": 21,
   "id": "604a328c",
   "metadata": {
    "execution": {
     "iopub.execute_input": "2024-09-16T06:01:11.552681Z",
     "iopub.status.busy": "2024-09-16T06:01:11.552581Z",
     "iopub.status.idle": "2024-09-16T06:01:11.553997Z",
     "shell.execute_reply": "2024-09-16T06:01:11.553809Z"
    },
    "papermill": {
     "duration": 0.004996,
     "end_time": "2024-09-16T06:01:11.554766",
     "exception": false,
     "start_time": "2024-09-16T06:01:11.549770",
     "status": "completed"
    },
    "tags": []
   },
   "outputs": [],
   "source": [
    "# sheet['A1'].current_region.name = 'cleanup_rng'\n",
    "\n",
    "# for i in sheet['cleanup_rng'][:-1,:]:\n",
    "#     print(i)\n",
    "    # if i.value == 'pre-sales':\n",
    "    #     # delete entire row for all rows where at least one cell value == 'pre-sales'\n",
    "    #     # sheet.range(i.row,1).delete()\n",
    "    #     sheet['cleanup_rng'][i.row,:].delete()"
   ]
  },
  {
   "cell_type": "code",
   "execution_count": 22,
   "id": "fad4a5eb",
   "metadata": {
    "execution": {
     "iopub.execute_input": "2024-09-16T06:01:11.559944Z",
     "iopub.status.busy": "2024-09-16T06:01:11.559859Z",
     "iopub.status.idle": "2024-09-16T06:01:11.561248Z",
     "shell.execute_reply": "2024-09-16T06:01:11.561030Z"
    },
    "papermill": {
     "duration": 0.00475,
     "end_time": "2024-09-16T06:01:11.561943",
     "exception": false,
     "start_time": "2024-09-16T06:01:11.557193",
     "status": "completed"
    },
    "tags": []
   },
   "outputs": [],
   "source": [
    "# sheet['A1'].current_region.name = 'cleanup_rng'\n",
    "\n",
    "# for i in sheet['cleanup_rng']:\n",
    "#     if i.value == 'pre-sales':\n",
    "#         ps_cell_row_num = i.row\n",
    "#         ps_cell_col_num = i.column"
   ]
  },
  {
   "cell_type": "code",
   "execution_count": 23,
   "id": "94fa11bf",
   "metadata": {
    "execution": {
     "iopub.execute_input": "2024-09-16T06:01:11.567206Z",
     "iopub.status.busy": "2024-09-16T06:01:11.567115Z",
     "iopub.status.idle": "2024-09-16T06:01:11.568334Z",
     "shell.execute_reply": "2024-09-16T06:01:11.568139Z"
    },
    "papermill": {
     "duration": 0.00465,
     "end_time": "2024-09-16T06:01:11.569070",
     "exception": false,
     "start_time": "2024-09-16T06:01:11.564420",
     "status": "completed"
    },
    "tags": []
   },
   "outputs": [],
   "source": [
    "# print(ps_cell_row_num)\n",
    "# print(ps_cell_col_num)"
   ]
  },
  {
   "cell_type": "code",
   "execution_count": 24,
   "id": "6a473140",
   "metadata": {
    "execution": {
     "iopub.execute_input": "2024-09-16T06:01:11.574206Z",
     "iopub.status.busy": "2024-09-16T06:01:11.574119Z",
     "iopub.status.idle": "2024-09-16T06:01:11.575519Z",
     "shell.execute_reply": "2024-09-16T06:01:11.575298Z"
    },
    "papermill": {
     "duration": 0.004769,
     "end_time": "2024-09-16T06:01:11.576204",
     "exception": false,
     "start_time": "2024-09-16T06:01:11.571435",
     "status": "completed"
    },
    "tags": []
   },
   "outputs": [],
   "source": [
    "# sheet['A1'].current_region.name = 'cleanup_rng'\n",
    "# filter_word = 'pre-sales'\n",
    "\n",
    "# sheet['cleanup_rng'][0:,1:3].options(ndim=2).value == ['pre-sales', 'pre-sales']\n",
    "\n",
    "\n",
    "    "
   ]
  },
  {
   "cell_type": "code",
   "execution_count": 25,
   "id": "62f45f15",
   "metadata": {
    "execution": {
     "iopub.execute_input": "2024-09-16T06:01:11.581389Z",
     "iopub.status.busy": "2024-09-16T06:01:11.581304Z",
     "iopub.status.idle": "2024-09-16T06:01:11.582523Z",
     "shell.execute_reply": "2024-09-16T06:01:11.582340Z"
    },
    "papermill": {
     "duration": 0.004643,
     "end_time": "2024-09-16T06:01:11.583250",
     "exception": false,
     "start_time": "2024-09-16T06:01:11.578607",
     "status": "completed"
    },
    "tags": []
   },
   "outputs": [],
   "source": [
    "# cup_rng = sheet['A1'].current_region\n",
    "\n",
    "# # ph_list = sheet['env_nr'][3,:].value\n",
    "\n",
    "# for i in cup_rng:\n",
    "#     if i.value == 'pre-sales':\n",
    "#         print(i)"
   ]
  },
  {
   "cell_type": "code",
   "execution_count": 26,
   "id": "18a877f3",
   "metadata": {
    "execution": {
     "iopub.execute_input": "2024-09-16T06:01:11.588481Z",
     "iopub.status.busy": "2024-09-16T06:01:11.588393Z",
     "iopub.status.idle": "2024-09-16T06:01:11.589664Z",
     "shell.execute_reply": "2024-09-16T06:01:11.589446Z"
    },
    "papermill": {
     "duration": 0.004692,
     "end_time": "2024-09-16T06:01:11.590444",
     "exception": false,
     "start_time": "2024-09-16T06:01:11.585752",
     "status": "completed"
    },
    "tags": []
   },
   "outputs": [],
   "source": [
    "# # Create placeholder list from one row\n",
    "# ph_list = sheet['env_nr'][3,:].value\n",
    "\n",
    "# ph_list"
   ]
  },
  {
   "cell_type": "code",
   "execution_count": 27,
   "id": "2f027acd",
   "metadata": {
    "execution": {
     "iopub.execute_input": "2024-09-16T06:01:11.596256Z",
     "iopub.status.busy": "2024-09-16T06:01:11.596159Z",
     "iopub.status.idle": "2024-09-16T06:01:11.597562Z",
     "shell.execute_reply": "2024-09-16T06:01:11.597348Z"
    },
    "papermill": {
     "duration": 0.005484,
     "end_time": "2024-09-16T06:01:11.598551",
     "exception": false,
     "start_time": "2024-09-16T06:01:11.593067",
     "status": "completed"
    },
    "tags": []
   },
   "outputs": [],
   "source": [
    "# clean_filt = sheet['env_nr'][:,1:3] == 'pre-sales'\n",
    "\n",
    "# # clean_filt"
   ]
  },
  {
   "cell_type": "code",
   "execution_count": 28,
   "id": "c0873cde",
   "metadata": {
    "execution": {
     "iopub.execute_input": "2024-09-16T06:01:11.604152Z",
     "iopub.status.busy": "2024-09-16T06:01:11.604044Z",
     "iopub.status.idle": "2024-09-16T06:01:11.605454Z",
     "shell.execute_reply": "2024-09-16T06:01:11.605244Z"
    },
    "papermill": {
     "duration": 0.004911,
     "end_time": "2024-09-16T06:01:11.606158",
     "exception": false,
     "start_time": "2024-09-16T06:01:11.601247",
     "status": "completed"
    },
    "tags": []
   },
   "outputs": [],
   "source": [
    "# Tooltips\n",
    "# dir(sheet['A1'])"
   ]
  },
  {
   "cell_type": "code",
   "execution_count": 29,
   "id": "a3b70b40",
   "metadata": {
    "execution": {
     "iopub.execute_input": "2024-09-16T06:01:11.611774Z",
     "iopub.status.busy": "2024-09-16T06:01:11.611685Z",
     "iopub.status.idle": "2024-09-16T06:01:11.613136Z",
     "shell.execute_reply": "2024-09-16T06:01:11.612942Z"
    },
    "papermill": {
     "duration": 0.004796,
     "end_time": "2024-09-16T06:01:11.613810",
     "exception": false,
     "start_time": "2024-09-16T06:01:11.609014",
     "status": "completed"
    },
    "tags": []
   },
   "outputs": [],
   "source": [
    "# sheet['A1'].api"
   ]
  },
  {
   "cell_type": "code",
   "execution_count": 30,
   "id": "8c573ca4",
   "metadata": {
    "execution": {
     "iopub.execute_input": "2024-09-16T06:01:11.619059Z",
     "iopub.status.busy": "2024-09-16T06:01:11.618961Z",
     "iopub.status.idle": "2024-09-16T06:01:11.620377Z",
     "shell.execute_reply": "2024-09-16T06:01:11.620175Z"
    },
    "papermill": {
     "duration": 0.004846,
     "end_time": "2024-09-16T06:01:11.621076",
     "exception": false,
     "start_time": "2024-09-16T06:01:11.616230",
     "status": "completed"
    },
    "tags": []
   },
   "outputs": [],
   "source": [
    "# cup_rng = sheet['A1'].current_region\n",
    "\n",
    "# for i in cup_rng:\n",
    "#     if i.value == ('pre-sales' and 'placeholder'):\n",
    "#         print(i)\n"
   ]
  },
  {
   "cell_type": "code",
   "execution_count": 31,
   "id": "131846f5",
   "metadata": {
    "execution": {
     "iopub.execute_input": "2024-09-16T06:01:11.626168Z",
     "iopub.status.busy": "2024-09-16T06:01:11.626081Z",
     "iopub.status.idle": "2024-09-16T06:01:11.627478Z",
     "shell.execute_reply": "2024-09-16T06:01:11.627261Z"
    },
    "papermill": {
     "duration": 0.004762,
     "end_time": "2024-09-16T06:01:11.628210",
     "exception": false,
     "start_time": "2024-09-16T06:01:11.623448",
     "status": "completed"
    },
    "tags": []
   },
   "outputs": [],
   "source": [
    "# for i in sheet['env_nr'][-1,:]:\n",
    "#     i = i + 1\n",
    "#     if sheet['env_nr']('A' + str(i)).value == 'pre-sales' or 'placeholder':\n",
    "#         xw.Range('A' + str(i)).clear()\n",
    "#         continue\n",
    "#     else:\n",
    "#         continue"
   ]
  },
  {
   "cell_type": "code",
   "execution_count": 32,
   "id": "9e5dcf95",
   "metadata": {
    "execution": {
     "iopub.execute_input": "2024-09-16T06:01:11.633431Z",
     "iopub.status.busy": "2024-09-16T06:01:11.633346Z",
     "iopub.status.idle": "2024-09-16T06:01:11.634711Z",
     "shell.execute_reply": "2024-09-16T06:01:11.634503Z"
    },
    "papermill": {
     "duration": 0.004791,
     "end_time": "2024-09-16T06:01:11.635466",
     "exception": false,
     "start_time": "2024-09-16T06:01:11.630675",
     "status": "completed"
    },
    "tags": []
   },
   "outputs": [],
   "source": [
    "# for i in sheet['env_nr'][:,1]:\n",
    "#     if i.value != 'pre-sales':\n",
    "#         pass\n",
    "#     elif i.value == 'pre-sales':\n",
    "#         print(i)\n",
    "        \n",
    "        "
   ]
  },
  {
   "cell_type": "code",
   "execution_count": 33,
   "id": "77fb7028",
   "metadata": {
    "execution": {
     "iopub.execute_input": "2024-09-16T06:01:11.640658Z",
     "iopub.status.busy": "2024-09-16T06:01:11.640569Z",
     "iopub.status.idle": "2024-09-16T06:01:11.641951Z",
     "shell.execute_reply": "2024-09-16T06:01:11.641731Z"
    },
    "papermill": {
     "duration": 0.004792,
     "end_time": "2024-09-16T06:01:11.642668",
     "exception": false,
     "start_time": "2024-09-16T06:01:11.637876",
     "status": "completed"
    },
    "tags": []
   },
   "outputs": [],
   "source": [
    "# del_rng_list = []\n",
    "\n",
    "# for i in sheet['env_nr'][:,1]:\n",
    "#     if i.value == 'pre-sales':\n",
    "#         del_rng_list.append(i)\n",
    "               \n",
    "# print(del_rng_list)\n"
   ]
  },
  {
   "cell_type": "code",
   "execution_count": 34,
   "id": "7ecf0a29",
   "metadata": {
    "execution": {
     "iopub.execute_input": "2024-09-16T06:01:11.648020Z",
     "iopub.status.busy": "2024-09-16T06:01:11.647925Z",
     "iopub.status.idle": "2024-09-16T06:01:11.649186Z",
     "shell.execute_reply": "2024-09-16T06:01:11.648982Z"
    },
    "papermill": {
     "duration": 0.004698,
     "end_time": "2024-09-16T06:01:11.649906",
     "exception": false,
     "start_time": "2024-09-16T06:01:11.645208",
     "status": "completed"
    },
    "tags": []
   },
   "outputs": [],
   "source": [
    "# ph_list = []\n",
    "\n",
    "# for i in sheet['env_nr'][:,1]:\n",
    "#     if i.value == 'pre-sales':\n",
    "#         ph_list.append(i)\n",
    "        \n",
    "        \n",
    "        "
   ]
  }
 ],
 "metadata": {
  "kernelspec": {
   "display_name": "sowmachine_venv",
   "language": "python",
   "name": "python3"
  },
  "language_info": {
   "codemirror_mode": {
    "name": "ipython",
    "version": 3
   },
   "file_extension": ".py",
   "mimetype": "text/x-python",
   "name": "python",
   "nbconvert_exporter": "python",
   "pygments_lexer": "ipython3",
   "version": "3.11.1"
  },
  "papermill": {
   "default_parameters": {},
   "duration": 2.211568,
   "end_time": "2024-09-16T06:01:11.868468",
   "environment_variables": {},
   "exception": null,
   "input_path": "5_clean_up.ipynb",
   "output_path": "5_clean_up.ipynb",
   "parameters": {},
   "start_time": "2024-09-16T06:01:09.656900",
   "version": "2.6.0"
  },
  "vscode": {
   "interpreter": {
    "hash": "fb97792c95ecc40909c77d7c0c5a2e301450a97269f294267b9ea907136fa9f0"
   }
  }
 },
 "nbformat": 4,
 "nbformat_minor": 5
}