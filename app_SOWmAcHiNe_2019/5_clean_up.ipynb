{
 "cells": [
  {
   "cell_type": "markdown",
   "id": "523af48a",
   "metadata": {
    "papermill": {
     "duration": 0.008542,
     "end_time": "2024-09-16T05:11:28.045952",
     "exception": false,
     "start_time": "2024-09-16T05:11:28.037410",
     "status": "completed"
    },
    "tags": []
   },
   "source": [
    "| CLEAN UP | Remove placeholder values |\n",
    "| ----------- | ----------- |"
   ]
  },
  {
   "cell_type": "code",
   "execution_count": 1,
   "id": "e1dc0d40",
   "metadata": {
    "execution": {
     "iopub.execute_input": "2024-09-16T05:11:28.056900Z",
     "iopub.status.busy": "2024-09-16T05:11:28.056609Z",
     "iopub.status.idle": "2024-09-16T05:11:28.481897Z",
     "shell.execute_reply": "2024-09-16T05:11:28.481573Z"
    },
    "papermill": {
     "duration": 0.431601,
     "end_time": "2024-09-16T05:11:28.482895",
     "exception": false,
     "start_time": "2024-09-16T05:11:28.051294",
     "status": "completed"
    },
    "tags": []
   },
   "outputs": [],
   "source": [
    "import xlwings as xw\n",
    "from openpyxl import Workbook, load_workbook\n",
    "import xlsxwriter \n",
    "\n",
    "import pandas as pd\n",
    "import numpy as np\n",
    "import datetime as dt \n",
    "import time\n",
    "import sys\n",
    "\n",
    "\"\"\"\n",
    "Latest xlwings release: v0.27.15\n",
    "https://www.xlwings.org/\n",
    "\n",
    "\"\"\"\n",
    "xw.__version__ \n",
    "\n",
    "from appscript import k"
   ]
  },
  {
   "cell_type": "code",
   "execution_count": 2,
   "id": "fea39367",
   "metadata": {
    "execution": {
     "iopub.execute_input": "2024-09-16T05:11:28.487640Z",
     "iopub.status.busy": "2024-09-16T05:11:28.487494Z",
     "iopub.status.idle": "2024-09-16T05:11:28.630223Z",
     "shell.execute_reply": "2024-09-16T05:11:28.629818Z"
    },
    "papermill": {
     "duration": 0.146409,
     "end_time": "2024-09-16T05:11:28.631531",
     "exception": false,
     "start_time": "2024-09-16T05:11:28.485122",
     "status": "completed"
    },
    "tags": []
   },
   "outputs": [],
   "source": [
    "# Connect to workbook\n",
    "book_number = 'book01.xlsx'\n",
    "wb = xw.Book(book_number)\n",
    "sheet = wb.sheets[0]"
   ]
  },
  {
   "cell_type": "code",
   "execution_count": 3,
   "id": "48c8802d",
   "metadata": {
    "execution": {
     "iopub.execute_input": "2024-09-16T05:11:28.637339Z",
     "iopub.status.busy": "2024-09-16T05:11:28.637192Z",
     "iopub.status.idle": "2024-09-16T05:11:28.640714Z",
     "shell.execute_reply": "2024-09-16T05:11:28.640453Z"
    },
    "papermill": {
     "duration": 0.00777,
     "end_time": "2024-09-16T05:11:28.641851",
     "exception": false,
     "start_time": "2024-09-16T05:11:28.634081",
     "status": "completed"
    },
    "tags": []
   },
   "outputs": [
    {
     "data": {
      "text/plain": [
       "'\\nDelete Placeholders\\n'"
      ]
     },
     "execution_count": 3,
     "metadata": {},
     "output_type": "execute_result"
    }
   ],
   "source": [
    "\"\"\"\n",
    "Delete Placeholders\n",
    "\"\"\""
   ]
  },
  {
   "cell_type": "code",
   "execution_count": 4,
   "id": "75cd1ca3",
   "metadata": {
    "execution": {
     "iopub.execute_input": "2024-09-16T05:11:28.646993Z",
     "iopub.status.busy": "2024-09-16T05:11:28.646859Z",
     "iopub.status.idle": "2024-09-16T05:11:28.659224Z",
     "shell.execute_reply": "2024-09-16T05:11:28.658918Z"
    },
    "papermill": {
     "duration": 0.015958,
     "end_time": "2024-09-16T05:11:28.660130",
     "exception": false,
     "start_time": "2024-09-16T05:11:28.644172",
     "status": "completed"
    },
    "tags": []
   },
   "outputs": [],
   "source": [
    "# Harcode delete CLOSE placeholders\n",
    "sheet['A166:G177'].delete(shift='up')"
   ]
  },
  {
   "cell_type": "code",
   "execution_count": 5,
   "id": "3e36c5c2",
   "metadata": {
    "execution": {
     "iopub.execute_input": "2024-09-16T05:11:28.665452Z",
     "iopub.status.busy": "2024-09-16T05:11:28.665278Z",
     "iopub.status.idle": "2024-09-16T05:11:28.720907Z",
     "shell.execute_reply": "2024-09-16T05:11:28.720605Z"
    },
    "papermill": {
     "duration": 0.059503,
     "end_time": "2024-09-16T05:11:28.721993",
     "exception": false,
     "start_time": "2024-09-16T05:11:28.662490",
     "status": "completed"
    },
    "tags": []
   },
   "outputs": [],
   "source": [
    "# Harcode delete TRANSITION placeholders\n",
    "sheet['A151:G155'].delete(shift='up')"
   ]
  },
  {
   "cell_type": "code",
   "execution_count": 6,
   "id": "93cc1e6d",
   "metadata": {
    "execution": {
     "iopub.execute_input": "2024-09-16T05:11:28.728018Z",
     "iopub.status.busy": "2024-09-16T05:11:28.727908Z",
     "iopub.status.idle": "2024-09-16T05:11:28.766771Z",
     "shell.execute_reply": "2024-09-16T05:11:28.766456Z"
    },
    "papermill": {
     "duration": 0.042991,
     "end_time": "2024-09-16T05:11:28.767871",
     "exception": false,
     "start_time": "2024-09-16T05:11:28.724880",
     "status": "completed"
    },
    "tags": []
   },
   "outputs": [],
   "source": [
    "# Harcode delete BUILD placeholders\n",
    "sheet['A125:G134'].delete(shift='up')"
   ]
  },
  {
   "cell_type": "code",
   "execution_count": 7,
   "id": "bdaeff0a",
   "metadata": {
    "execution": {
     "iopub.execute_input": "2024-09-16T05:11:28.773317Z",
     "iopub.status.busy": "2024-09-16T05:11:28.773184Z",
     "iopub.status.idle": "2024-09-16T05:11:28.814783Z",
     "shell.execute_reply": "2024-09-16T05:11:28.814479Z"
    },
    "papermill": {
     "duration": 0.045473,
     "end_time": "2024-09-16T05:11:28.815882",
     "exception": false,
     "start_time": "2024-09-16T05:11:28.770409",
     "status": "completed"
    },
    "tags": []
   },
   "outputs": [],
   "source": [
    "# Harcode delete DESIGN placeholders\n",
    "sheet['A84:G95'].delete(shift='up')"
   ]
  },
  {
   "cell_type": "code",
   "execution_count": 8,
   "id": "47fa4fd1",
   "metadata": {
    "execution": {
     "iopub.execute_input": "2024-09-16T05:11:28.822121Z",
     "iopub.status.busy": "2024-09-16T05:11:28.821977Z",
     "iopub.status.idle": "2024-09-16T05:11:28.861043Z",
     "shell.execute_reply": "2024-09-16T05:11:28.860712Z"
    },
    "papermill": {
     "duration": 0.04359,
     "end_time": "2024-09-16T05:11:28.861982",
     "exception": false,
     "start_time": "2024-09-16T05:11:28.818392",
     "status": "completed"
    },
    "tags": []
   },
   "outputs": [],
   "source": [
    "# Harcode delete DEFINE placeholders\n",
    "sheet['A65:G75'].delete(shift='up')"
   ]
  },
  {
   "cell_type": "code",
   "execution_count": 9,
   "id": "e99645ed",
   "metadata": {
    "execution": {
     "iopub.execute_input": "2024-09-16T05:11:28.867286Z",
     "iopub.status.busy": "2024-09-16T05:11:28.867092Z",
     "iopub.status.idle": "2024-09-16T05:11:28.900770Z",
     "shell.execute_reply": "2024-09-16T05:11:28.900452Z"
    },
    "papermill": {
     "duration": 0.037314,
     "end_time": "2024-09-16T05:11:28.901724",
     "exception": false,
     "start_time": "2024-09-16T05:11:28.864410",
     "status": "completed"
    },
    "tags": []
   },
   "outputs": [],
   "source": [
    "# Harcode delete INITIATE placeholders\n",
    "sheet['A29:G37'].delete(shift='up')"
   ]
  },
  {
   "cell_type": "code",
   "execution_count": 10,
   "id": "1bf8a860",
   "metadata": {
    "execution": {
     "iopub.execute_input": "2024-09-16T05:11:28.907098Z",
     "iopub.status.busy": "2024-09-16T05:11:28.906981Z",
     "iopub.status.idle": "2024-09-16T05:11:28.940365Z",
     "shell.execute_reply": "2024-09-16T05:11:28.940094Z"
    },
    "papermill": {
     "duration": 0.037078,
     "end_time": "2024-09-16T05:11:28.941369",
     "exception": false,
     "start_time": "2024-09-16T05:11:28.904291",
     "status": "completed"
    },
    "tags": []
   },
   "outputs": [],
   "source": [
    "# Harcode delete ENVISION placeholders\n",
    "sheet['A5:G17'].delete(shift='up')"
   ]
  },
  {
   "cell_type": "code",
   "execution_count": 11,
   "id": "0b0658ec",
   "metadata": {
    "execution": {
     "iopub.execute_input": "2024-09-16T05:11:28.946593Z",
     "iopub.status.busy": "2024-09-16T05:11:28.946477Z",
     "iopub.status.idle": "2024-09-16T05:11:28.975582Z",
     "shell.execute_reply": "2024-09-16T05:11:28.975298Z"
    },
    "papermill": {
     "duration": 0.0327,
     "end_time": "2024-09-16T05:11:28.976555",
     "exception": false,
     "start_time": "2024-09-16T05:11:28.943855",
     "status": "completed"
    },
    "tags": []
   },
   "outputs": [],
   "source": [
    "# Harcode delete RATE CHARTS placeholders\n",
    "sheet['A136:G136'].delete(shift='up')"
   ]
  },
  {
   "cell_type": "code",
   "execution_count": 12,
   "id": "6ba705b7",
   "metadata": {
    "execution": {
     "iopub.execute_input": "2024-09-16T05:11:28.981896Z",
     "iopub.status.busy": "2024-09-16T05:11:28.981709Z",
     "iopub.status.idle": "2024-09-16T05:11:29.010130Z",
     "shell.execute_reply": "2024-09-16T05:11:29.009837Z"
    },
    "papermill": {
     "duration": 0.032029,
     "end_time": "2024-09-16T05:11:29.011060",
     "exception": false,
     "start_time": "2024-09-16T05:11:28.979031",
     "status": "completed"
    },
    "tags": []
   },
   "outputs": [],
   "source": [
    "# Harcode delete RATE MAIN placeholders\n",
    "sheet['A124:G124'].delete(shift='up')"
   ]
  },
  {
   "cell_type": "code",
   "execution_count": 13,
   "id": "122c91b7",
   "metadata": {
    "execution": {
     "iopub.execute_input": "2024-09-16T05:11:29.016453Z",
     "iopub.status.busy": "2024-09-16T05:11:29.016333Z",
     "iopub.status.idle": "2024-09-16T05:11:29.117664Z",
     "shell.execute_reply": "2024-09-16T05:11:29.117387Z"
    },
    "papermill": {
     "duration": 0.104963,
     "end_time": "2024-09-16T05:11:29.118601",
     "exception": false,
     "start_time": "2024-09-16T05:11:29.013638",
     "status": "completed"
    },
    "tags": []
   },
   "outputs": [],
   "source": [
    "# SAVE\n",
    "book_number = 'book01.xlsx'\n",
    "wb.save(book_number)"
   ]
  },
  {
   "cell_type": "markdown",
   "id": "8f8cb523",
   "metadata": {
    "papermill": {
     "duration": 0.003349,
     "end_time": "2024-09-16T05:11:29.124324",
     "exception": false,
     "start_time": "2024-09-16T05:11:29.120975",
     "status": "completed"
    },
    "tags": []
   },
   "source": [
    "| END OF PROGRAM |\n",
    "| ----------- |\n",
    "| Notes for future DEV, and reference code below |\n"
   ]
  },
  {
   "cell_type": "code",
   "execution_count": 14,
   "id": "3f04800a",
   "metadata": {
    "execution": {
     "iopub.execute_input": "2024-09-16T05:11:29.130650Z",
     "iopub.status.busy": "2024-09-16T05:11:29.130539Z",
     "iopub.status.idle": "2024-09-16T05:11:29.131940Z",
     "shell.execute_reply": "2024-09-16T05:11:29.131747Z"
    },
    "papermill": {
     "duration": 0.005189,
     "end_time": "2024-09-16T05:11:29.132656",
     "exception": false,
     "start_time": "2024-09-16T05:11:29.127467",
     "status": "completed"
    },
    "tags": []
   },
   "outputs": [],
   "source": [
    "# TEST / DEMO - hardcode drop placeholders\n",
    "# for i in sheet['des_nr'][:,1]:\n",
    "#     if i.value == 'XXX':\n",
    "#         row_loc = i.row\n",
    "#         # print(row_loc)\n",
    "#         sheet['des_nr'][row_loc,:].delete(shift='up')"
   ]
  },
  {
   "cell_type": "code",
   "execution_count": 15,
   "id": "1e545bf5",
   "metadata": {
    "execution": {
     "iopub.execute_input": "2024-09-16T05:11:29.140003Z",
     "iopub.status.busy": "2024-09-16T05:11:29.139780Z",
     "iopub.status.idle": "2024-09-16T05:11:29.141564Z",
     "shell.execute_reply": "2024-09-16T05:11:29.141253Z"
    },
    "papermill": {
     "duration": 0.006635,
     "end_time": "2024-09-16T05:11:29.142683",
     "exception": false,
     "start_time": "2024-09-16T05:11:29.136048",
     "status": "completed"
    },
    "tags": []
   },
   "outputs": [],
   "source": [
    "# Get a list of named ranges in sheet\n",
    "# for name in wb.names:\n",
    "#     #print(name.name, name.refers_to_range)\n",
    "    \n",
    "#     nr_list = name.name\n",
    "#     print(nr_list)"
   ]
  },
  {
   "cell_type": "code",
   "execution_count": 16,
   "id": "01ae6586",
   "metadata": {
    "execution": {
     "iopub.execute_input": "2024-09-16T05:11:29.149616Z",
     "iopub.status.busy": "2024-09-16T05:11:29.149492Z",
     "iopub.status.idle": "2024-09-16T05:11:29.151182Z",
     "shell.execute_reply": "2024-09-16T05:11:29.150895Z"
    },
    "papermill": {
     "duration": 0.005938,
     "end_time": "2024-09-16T05:11:29.152091",
     "exception": false,
     "start_time": "2024-09-16T05:11:29.146153",
     "status": "completed"
    },
    "tags": []
   },
   "outputs": [],
   "source": [
    "# IMPORTANT - Remove named ranges for cleanup\n",
    "# if len(wb.names) > 0:\n",
    "#     #print(len(wb.names))\n",
    "#     for n in range(0, len(wb.names)):\n",
    "# \t    wb.names[0].delete()"
   ]
  },
  {
   "cell_type": "code",
   "execution_count": 17,
   "id": "9a644977",
   "metadata": {
    "execution": {
     "iopub.execute_input": "2024-09-16T05:11:29.158625Z",
     "iopub.status.busy": "2024-09-16T05:11:29.158497Z",
     "iopub.status.idle": "2024-09-16T05:11:29.160001Z",
     "shell.execute_reply": "2024-09-16T05:11:29.159756Z"
    },
    "papermill": {
     "duration": 0.005454,
     "end_time": "2024-09-16T05:11:29.160792",
     "exception": false,
     "start_time": "2024-09-16T05:11:29.155338",
     "status": "completed"
    },
    "tags": []
   },
   "outputs": [],
   "source": [
    "# Verify there are no named ranges\n",
    "# for name in wb.names:\n",
    "#     print(name.name, name.refers_to_range)"
   ]
  },
  {
   "cell_type": "code",
   "execution_count": 18,
   "id": "e0c5d455",
   "metadata": {
    "execution": {
     "iopub.execute_input": "2024-09-16T05:11:29.166856Z",
     "iopub.status.busy": "2024-09-16T05:11:29.166747Z",
     "iopub.status.idle": "2024-09-16T05:11:29.168194Z",
     "shell.execute_reply": "2024-09-16T05:11:29.167978Z"
    },
    "papermill": {
     "duration": 0.005477,
     "end_time": "2024-09-16T05:11:29.168992",
     "exception": false,
     "start_time": "2024-09-16T05:11:29.163515",
     "status": "completed"
    },
    "tags": []
   },
   "outputs": [],
   "source": [
    "# Create one (1) named range\n",
    "# sheet['A2:G180'].name = 'clean_nr'"
   ]
  },
  {
   "cell_type": "code",
   "execution_count": 19,
   "id": "1e8103aa",
   "metadata": {
    "execution": {
     "iopub.execute_input": "2024-09-16T05:11:29.174690Z",
     "iopub.status.busy": "2024-09-16T05:11:29.174599Z",
     "iopub.status.idle": "2024-09-16T05:11:29.175860Z",
     "shell.execute_reply": "2024-09-16T05:11:29.175653Z"
    },
    "papermill": {
     "duration": 0.004776,
     "end_time": "2024-09-16T05:11:29.176627",
     "exception": false,
     "start_time": "2024-09-16T05:11:29.171851",
     "status": "completed"
    },
    "tags": []
   },
   "outputs": [],
   "source": [
    "# for i in sheet['clean_nr'][:,1]:\n",
    "#     if i.value == 'XXX':\n",
    "#         row_loc = i.row\n",
    "#         sheet['clean_nr'][row_loc,:].delete(shift='up')"
   ]
  },
  {
   "cell_type": "code",
   "execution_count": 20,
   "id": "c08db66e",
   "metadata": {
    "execution": {
     "iopub.execute_input": "2024-09-16T05:11:29.181730Z",
     "iopub.status.busy": "2024-09-16T05:11:29.181652Z",
     "iopub.status.idle": "2024-09-16T05:11:29.182988Z",
     "shell.execute_reply": "2024-09-16T05:11:29.182784Z"
    },
    "papermill": {
     "duration": 0.004655,
     "end_time": "2024-09-16T05:11:29.183691",
     "exception": false,
     "start_time": "2024-09-16T05:11:29.179036",
     "status": "completed"
    },
    "tags": []
   },
   "outputs": [],
   "source": [
    "# for i in sheet['env_nr'][0:,1]:\n",
    "#     if i.value == 1:\n",
    "#         sheet['env_nr'][i.row,:].delete()"
   ]
  },
  {
   "cell_type": "code",
   "execution_count": 21,
   "id": "604a328c",
   "metadata": {
    "execution": {
     "iopub.execute_input": "2024-09-16T05:11:29.188642Z",
     "iopub.status.busy": "2024-09-16T05:11:29.188553Z",
     "iopub.status.idle": "2024-09-16T05:11:29.190050Z",
     "shell.execute_reply": "2024-09-16T05:11:29.189825Z"
    },
    "papermill": {
     "duration": 0.004743,
     "end_time": "2024-09-16T05:11:29.190753",
     "exception": false,
     "start_time": "2024-09-16T05:11:29.186010",
     "status": "completed"
    },
    "tags": []
   },
   "outputs": [],
   "source": [
    "# sheet['A1'].current_region.name = 'cleanup_rng'\n",
    "\n",
    "# for i in sheet['cleanup_rng'][:-1,:]:\n",
    "#     print(i)\n",
    "    # if i.value == 'pre-sales':\n",
    "    #     # delete entire row for all rows where at least one cell value == 'pre-sales'\n",
    "    #     # sheet.range(i.row,1).delete()\n",
    "    #     sheet['cleanup_rng'][i.row,:].delete()"
   ]
  },
  {
   "cell_type": "code",
   "execution_count": 22,
   "id": "fad4a5eb",
   "metadata": {
    "execution": {
     "iopub.execute_input": "2024-09-16T05:11:29.195762Z",
     "iopub.status.busy": "2024-09-16T05:11:29.195668Z",
     "iopub.status.idle": "2024-09-16T05:11:29.197051Z",
     "shell.execute_reply": "2024-09-16T05:11:29.196838Z"
    },
    "papermill": {
     "duration": 0.004681,
     "end_time": "2024-09-16T05:11:29.197774",
     "exception": false,
     "start_time": "2024-09-16T05:11:29.193093",
     "status": "completed"
    },
    "tags": []
   },
   "outputs": [],
   "source": [
    "# sheet['A1'].current_region.name = 'cleanup_rng'\n",
    "\n",
    "# for i in sheet['cleanup_rng']:\n",
    "#     if i.value == 'pre-sales':\n",
    "#         ps_cell_row_num = i.row\n",
    "#         ps_cell_col_num = i.column"
   ]
  },
  {
   "cell_type": "code",
   "execution_count": 23,
   "id": "94fa11bf",
   "metadata": {
    "execution": {
     "iopub.execute_input": "2024-09-16T05:11:29.202614Z",
     "iopub.status.busy": "2024-09-16T05:11:29.202536Z",
     "iopub.status.idle": "2024-09-16T05:11:29.203836Z",
     "shell.execute_reply": "2024-09-16T05:11:29.203635Z"
    },
    "papermill": {
     "duration": 0.004492,
     "end_time": "2024-09-16T05:11:29.204521",
     "exception": false,
     "start_time": "2024-09-16T05:11:29.200029",
     "status": "completed"
    },
    "tags": []
   },
   "outputs": [],
   "source": [
    "# print(ps_cell_row_num)\n",
    "# print(ps_cell_col_num)"
   ]
  },
  {
   "cell_type": "code",
   "execution_count": 24,
   "id": "6a473140",
   "metadata": {
    "execution": {
     "iopub.execute_input": "2024-09-16T05:11:29.209664Z",
     "iopub.status.busy": "2024-09-16T05:11:29.209509Z",
     "iopub.status.idle": "2024-09-16T05:11:29.211208Z",
     "shell.execute_reply": "2024-09-16T05:11:29.210937Z"
    },
    "papermill": {
     "duration": 0.005134,
     "end_time": "2024-09-16T05:11:29.211947",
     "exception": false,
     "start_time": "2024-09-16T05:11:29.206813",
     "status": "completed"
    },
    "tags": []
   },
   "outputs": [],
   "source": [
    "# sheet['A1'].current_region.name = 'cleanup_rng'\n",
    "# filter_word = 'pre-sales'\n",
    "\n",
    "# sheet['cleanup_rng'][0:,1:3].options(ndim=2).value == ['pre-sales', 'pre-sales']\n",
    "\n",
    "\n",
    "    "
   ]
  },
  {
   "cell_type": "code",
   "execution_count": 25,
   "id": "62f45f15",
   "metadata": {
    "execution": {
     "iopub.execute_input": "2024-09-16T05:11:29.216995Z",
     "iopub.status.busy": "2024-09-16T05:11:29.216899Z",
     "iopub.status.idle": "2024-09-16T05:11:29.218306Z",
     "shell.execute_reply": "2024-09-16T05:11:29.218120Z"
    },
    "papermill": {
     "duration": 0.004695,
     "end_time": "2024-09-16T05:11:29.219015",
     "exception": false,
     "start_time": "2024-09-16T05:11:29.214320",
     "status": "completed"
    },
    "tags": []
   },
   "outputs": [],
   "source": [
    "# cup_rng = sheet['A1'].current_region\n",
    "\n",
    "# # ph_list = sheet['env_nr'][3,:].value\n",
    "\n",
    "# for i in cup_rng:\n",
    "#     if i.value == 'pre-sales':\n",
    "#         print(i)"
   ]
  },
  {
   "cell_type": "code",
   "execution_count": 26,
   "id": "18a877f3",
   "metadata": {
    "execution": {
     "iopub.execute_input": "2024-09-16T05:11:29.224160Z",
     "iopub.status.busy": "2024-09-16T05:11:29.224064Z",
     "iopub.status.idle": "2024-09-16T05:11:29.225467Z",
     "shell.execute_reply": "2024-09-16T05:11:29.225248Z"
    },
    "papermill": {
     "duration": 0.004911,
     "end_time": "2024-09-16T05:11:29.226182",
     "exception": false,
     "start_time": "2024-09-16T05:11:29.221271",
     "status": "completed"
    },
    "tags": []
   },
   "outputs": [],
   "source": [
    "# # Create placeholder list from one row\n",
    "# ph_list = sheet['env_nr'][3,:].value\n",
    "\n",
    "# ph_list"
   ]
  },
  {
   "cell_type": "code",
   "execution_count": 27,
   "id": "2f027acd",
   "metadata": {
    "execution": {
     "iopub.execute_input": "2024-09-16T05:11:29.231119Z",
     "iopub.status.busy": "2024-09-16T05:11:29.231031Z",
     "iopub.status.idle": "2024-09-16T05:11:29.232389Z",
     "shell.execute_reply": "2024-09-16T05:11:29.232182Z"
    },
    "papermill": {
     "duration": 0.004676,
     "end_time": "2024-09-16T05:11:29.233111",
     "exception": false,
     "start_time": "2024-09-16T05:11:29.228435",
     "status": "completed"
    },
    "tags": []
   },
   "outputs": [],
   "source": [
    "# clean_filt = sheet['env_nr'][:,1:3] == 'pre-sales'\n",
    "\n",
    "# # clean_filt"
   ]
  },
  {
   "cell_type": "code",
   "execution_count": 28,
   "id": "c0873cde",
   "metadata": {
    "execution": {
     "iopub.execute_input": "2024-09-16T05:11:29.238198Z",
     "iopub.status.busy": "2024-09-16T05:11:29.238114Z",
     "iopub.status.idle": "2024-09-16T05:11:29.239441Z",
     "shell.execute_reply": "2024-09-16T05:11:29.239235Z"
    },
    "papermill": {
     "duration": 0.004637,
     "end_time": "2024-09-16T05:11:29.240142",
     "exception": false,
     "start_time": "2024-09-16T05:11:29.235505",
     "status": "completed"
    },
    "tags": []
   },
   "outputs": [],
   "source": [
    "# Tooltips\n",
    "# dir(sheet['A1'])"
   ]
  },
  {
   "cell_type": "code",
   "execution_count": 29,
   "id": "a3b70b40",
   "metadata": {
    "execution": {
     "iopub.execute_input": "2024-09-16T05:11:29.245232Z",
     "iopub.status.busy": "2024-09-16T05:11:29.245149Z",
     "iopub.status.idle": "2024-09-16T05:11:29.246543Z",
     "shell.execute_reply": "2024-09-16T05:11:29.246343Z"
    },
    "papermill": {
     "duration": 0.004746,
     "end_time": "2024-09-16T05:11:29.247274",
     "exception": false,
     "start_time": "2024-09-16T05:11:29.242528",
     "status": "completed"
    },
    "tags": []
   },
   "outputs": [],
   "source": [
    "# sheet['A1'].api"
   ]
  },
  {
   "cell_type": "code",
   "execution_count": 30,
   "id": "8c573ca4",
   "metadata": {
    "execution": {
     "iopub.execute_input": "2024-09-16T05:11:29.252483Z",
     "iopub.status.busy": "2024-09-16T05:11:29.252397Z",
     "iopub.status.idle": "2024-09-16T05:11:29.253783Z",
     "shell.execute_reply": "2024-09-16T05:11:29.253581Z"
    },
    "papermill": {
     "duration": 0.004783,
     "end_time": "2024-09-16T05:11:29.254493",
     "exception": false,
     "start_time": "2024-09-16T05:11:29.249710",
     "status": "completed"
    },
    "tags": []
   },
   "outputs": [],
   "source": [
    "# cup_rng = sheet['A1'].current_region\n",
    "\n",
    "# for i in cup_rng:\n",
    "#     if i.value == ('pre-sales' and 'placeholder'):\n",
    "#         print(i)\n"
   ]
  },
  {
   "cell_type": "code",
   "execution_count": 31,
   "id": "131846f5",
   "metadata": {
    "execution": {
     "iopub.execute_input": "2024-09-16T05:11:29.259628Z",
     "iopub.status.busy": "2024-09-16T05:11:29.259532Z",
     "iopub.status.idle": "2024-09-16T05:11:29.260926Z",
     "shell.execute_reply": "2024-09-16T05:11:29.260733Z"
    },
    "papermill": {
     "duration": 0.00468,
     "end_time": "2024-09-16T05:11:29.261617",
     "exception": false,
     "start_time": "2024-09-16T05:11:29.256937",
     "status": "completed"
    },
    "tags": []
   },
   "outputs": [],
   "source": [
    "# for i in sheet['env_nr'][-1,:]:\n",
    "#     i = i + 1\n",
    "#     if sheet['env_nr']('A' + str(i)).value == 'pre-sales' or 'placeholder':\n",
    "#         xw.Range('A' + str(i)).clear()\n",
    "#         continue\n",
    "#     else:\n",
    "#         continue"
   ]
  },
  {
   "cell_type": "code",
   "execution_count": 32,
   "id": "9e5dcf95",
   "metadata": {
    "execution": {
     "iopub.execute_input": "2024-09-16T05:11:29.267171Z",
     "iopub.status.busy": "2024-09-16T05:11:29.267068Z",
     "iopub.status.idle": "2024-09-16T05:11:29.268403Z",
     "shell.execute_reply": "2024-09-16T05:11:29.268196Z"
    },
    "papermill": {
     "duration": 0.005129,
     "end_time": "2024-09-16T05:11:29.269125",
     "exception": false,
     "start_time": "2024-09-16T05:11:29.263996",
     "status": "completed"
    },
    "tags": []
   },
   "outputs": [],
   "source": [
    "# for i in sheet['env_nr'][:,1]:\n",
    "#     if i.value != 'pre-sales':\n",
    "#         pass\n",
    "#     elif i.value == 'pre-sales':\n",
    "#         print(i)\n",
    "        \n",
    "        "
   ]
  },
  {
   "cell_type": "code",
   "execution_count": 33,
   "id": "77fb7028",
   "metadata": {
    "execution": {
     "iopub.execute_input": "2024-09-16T05:11:29.274346Z",
     "iopub.status.busy": "2024-09-16T05:11:29.274260Z",
     "iopub.status.idle": "2024-09-16T05:11:29.275672Z",
     "shell.execute_reply": "2024-09-16T05:11:29.275469Z"
    },
    "papermill": {
     "duration": 0.004824,
     "end_time": "2024-09-16T05:11:29.276418",
     "exception": false,
     "start_time": "2024-09-16T05:11:29.271594",
     "status": "completed"
    },
    "tags": []
   },
   "outputs": [],
   "source": [
    "# del_rng_list = []\n",
    "\n",
    "# for i in sheet['env_nr'][:,1]:\n",
    "#     if i.value == 'pre-sales':\n",
    "#         del_rng_list.append(i)\n",
    "               \n",
    "# print(del_rng_list)\n"
   ]
  },
  {
   "cell_type": "code",
   "execution_count": 34,
   "id": "7ecf0a29",
   "metadata": {
    "execution": {
     "iopub.execute_input": "2024-09-16T05:11:29.281997Z",
     "iopub.status.busy": "2024-09-16T05:11:29.281830Z",
     "iopub.status.idle": "2024-09-16T05:11:29.283318Z",
     "shell.execute_reply": "2024-09-16T05:11:29.283082Z"
    },
    "papermill": {
     "duration": 0.005059,
     "end_time": "2024-09-16T05:11:29.284043",
     "exception": false,
     "start_time": "2024-09-16T05:11:29.278984",
     "status": "completed"
    },
    "tags": []
   },
   "outputs": [],
   "source": [
    "# ph_list = []\n",
    "\n",
    "# for i in sheet['env_nr'][:,1]:\n",
    "#     if i.value == 'pre-sales':\n",
    "#         ph_list.append(i)\n",
    "        \n",
    "        \n",
    "        "
   ]
  }
 ],
 "metadata": {
  "kernelspec": {
   "display_name": "sowmachine_venv",
   "language": "python",
   "name": "python3"
  },
  "language_info": {
   "codemirror_mode": {
    "name": "ipython",
    "version": 3
   },
   "file_extension": ".py",
   "mimetype": "text/x-python",
   "name": "python",
   "nbconvert_exporter": "python",
   "pygments_lexer": "ipython3",
   "version": "3.11.1"
  },
  "papermill": {
   "default_parameters": {},
   "duration": 2.055056,
   "end_time": "2024-09-16T05:11:29.502422",
   "environment_variables": {},
   "exception": null,
   "input_path": "5_clean_up.ipynb",
   "output_path": "5_clean_up.ipynb",
   "parameters": {},
   "start_time": "2024-09-16T05:11:27.447366",
   "version": "2.6.0"
  },
  "vscode": {
   "interpreter": {
    "hash": "fb97792c95ecc40909c77d7c0c5a2e301450a97269f294267b9ea907136fa9f0"
   }
  }
 },
 "nbformat": 4,
 "nbformat_minor": 5
}