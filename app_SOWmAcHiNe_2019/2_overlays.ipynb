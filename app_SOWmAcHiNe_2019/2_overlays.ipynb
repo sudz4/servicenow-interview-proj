{
 "cells": [
  {
   "cell_type": "code",
   "execution_count": 1,
   "id": "7256a1fd",
   "metadata": {
    "execution": {
     "iopub.execute_input": "2024-09-16T06:38:17.274122Z",
     "iopub.status.busy": "2024-09-16T06:38:17.273522Z",
     "iopub.status.idle": "2024-09-16T06:38:17.828394Z",
     "shell.execute_reply": "2024-09-16T06:38:17.828054Z"
    },
    "papermill": {
     "duration": 0.563513,
     "end_time": "2024-09-16T06:38:17.829398",
     "exception": false,
     "start_time": "2024-09-16T06:38:17.265885",
     "status": "completed"
    },
    "tags": []
   },
   "outputs": [],
   "source": [
    "import xlwings as xw\n",
    "from openpyxl import Workbook, load_workbook\n",
    "import xlsxwriter \n",
    "\n",
    "import pandas as pd\n",
    "import numpy as np\n",
    "import datetime as dt \n",
    "import time\n",
    "import sys\n",
    "\n",
    "\"\"\"\n",
    "Latest xlwings release: v0.27.15\n",
    "https://www.xlwings.org/\n",
    "\n",
    "\"\"\"\n",
    "xw.__version__ \n",
    "\n",
    "from appscript import k"
   ]
  },
  {
   "cell_type": "markdown",
   "id": "cf623409",
   "metadata": {
    "papermill": {
     "duration": 0.000975,
     "end_time": "2024-09-16T06:38:17.831735",
     "exception": false,
     "start_time": "2024-09-16T06:38:17.830760",
     "status": "completed"
    },
    "tags": []
   },
   "source": [
    "| OVERLAYS | Add overlay roles to phases (where applicable) |\n",
    "| ----------- | ----------- |"
   ]
  },
  {
   "cell_type": "code",
   "execution_count": 2,
   "id": "e55cbb66",
   "metadata": {
    "execution": {
     "iopub.execute_input": "2024-09-16T06:38:17.834181Z",
     "iopub.status.busy": "2024-09-16T06:38:17.834035Z",
     "iopub.status.idle": "2024-09-16T06:38:17.956958Z",
     "shell.execute_reply": "2024-09-16T06:38:17.956422Z"
    },
    "papermill": {
     "duration": 0.125526,
     "end_time": "2024-09-16T06:38:17.958180",
     "exception": false,
     "start_time": "2024-09-16T06:38:17.832654",
     "status": "completed"
    },
    "tags": []
   },
   "outputs": [],
   "source": [
    "# Connect to open workbook\n",
    "book_number = 'book01.xlsx'\n",
    "wb = xw.Book(book_number)\n",
    "sheet = wb.sheets[0]"
   ]
  },
  {
   "cell_type": "code",
   "execution_count": 3,
   "id": "689104ec",
   "metadata": {
    "execution": {
     "iopub.execute_input": "2024-09-16T06:38:17.961835Z",
     "iopub.status.busy": "2024-09-16T06:38:17.961655Z",
     "iopub.status.idle": "2024-09-16T06:38:17.983832Z",
     "shell.execute_reply": "2024-09-16T06:38:17.983548Z"
    },
    "papermill": {
     "duration": 0.024975,
     "end_time": "2024-09-16T06:38:17.984677",
     "exception": false,
     "start_time": "2024-09-16T06:38:17.959702",
     "status": "completed"
    },
    "tags": []
   },
   "outputs": [
    {
     "data": {
      "text/html": [
       "<div>\n",
       "<style scoped>\n",
       "    .dataframe tbody tr th:only-of-type {\n",
       "        vertical-align: middle;\n",
       "    }\n",
       "\n",
       "    .dataframe tbody tr th {\n",
       "        vertical-align: top;\n",
       "    }\n",
       "\n",
       "    .dataframe thead th {\n",
       "        text-align: right;\n",
       "    }\n",
       "</style>\n",
       "<table border=\"1\" class=\"dataframe\">\n",
       "  <thead>\n",
       "    <tr style=\"text-align: right;\">\n",
       "      <th></th>\n",
       "      <th>capability</th>\n",
       "      <th>task</th>\n",
       "      <th>task_details</th>\n",
       "      <th>role</th>\n",
       "      <th>hours</th>\n",
       "    </tr>\n",
       "  </thead>\n",
       "  <tbody>\n",
       "    <tr>\n",
       "      <th>0</th>\n",
       "      <td>Business Analysis</td>\n",
       "      <td>Business Analysis</td>\n",
       "      <td>Responsible for documenting workshop findings....</td>\n",
       "      <td>BA</td>\n",
       "      <td>0</td>\n",
       "    </tr>\n",
       "    <tr>\n",
       "      <th>1</th>\n",
       "      <td>Business Process</td>\n",
       "      <td>Business Process</td>\n",
       "      <td>Facilitates communications, leads and drives w...</td>\n",
       "      <td>BPC</td>\n",
       "      <td>0</td>\n",
       "    </tr>\n",
       "    <tr>\n",
       "      <th>2</th>\n",
       "      <td>Project Management</td>\n",
       "      <td>Project Management</td>\n",
       "      <td>Maintain project objectives and timelines by p...</td>\n",
       "      <td>EM</td>\n",
       "      <td>0</td>\n",
       "    </tr>\n",
       "    <tr>\n",
       "      <th>3</th>\n",
       "      <td>Solution Architect</td>\n",
       "      <td>Technical Architect</td>\n",
       "      <td>Provide technical guidance and oversight throu...</td>\n",
       "      <td>TA</td>\n",
       "      <td>0</td>\n",
       "    </tr>\n",
       "    <tr>\n",
       "      <th>4</th>\n",
       "      <td>Business Process Consultant</td>\n",
       "      <td>Business Process Consultant</td>\n",
       "      <td>Business process oversight - responsible for m...</td>\n",
       "      <td>BPC</td>\n",
       "      <td>0</td>\n",
       "    </tr>\n",
       "  </tbody>\n",
       "</table>\n",
       "</div>"
      ],
      "text/plain": [
       "                    capability                         task  \\\n",
       "0            Business Analysis            Business Analysis   \n",
       "1             Business Process             Business Process   \n",
       "2           Project Management           Project Management   \n",
       "3           Solution Architect          Technical Architect   \n",
       "4  Business Process Consultant  Business Process Consultant   \n",
       "\n",
       "                                        task_details role  hours  \n",
       "0  Responsible for documenting workshop findings....   BA      0  \n",
       "1  Facilitates communications, leads and drives w...  BPC      0  \n",
       "2  Maintain project objectives and timelines by p...   EM      0  \n",
       "3  Provide technical guidance and oversight throu...   TA      0  \n",
       "4  Business process oversight - responsible for m...  BPC      0  "
      ]
     },
     "execution_count": 3,
     "metadata": {},
     "output_type": "execute_result"
    }
   ],
   "source": [
    "ovy_df = pd.read_excel('sow_input_data.xlsx', sheet_name='OVERLAY') \n",
    "\n",
    "ovy_df"
   ]
  },
  {
   "cell_type": "code",
   "execution_count": 4,
   "id": "b4339807",
   "metadata": {
    "execution": {
     "iopub.execute_input": "2024-09-16T06:38:17.987671Z",
     "iopub.status.busy": "2024-09-16T06:38:17.987552Z",
     "iopub.status.idle": "2024-09-16T06:38:17.989257Z",
     "shell.execute_reply": "2024-09-16T06:38:17.988990Z"
    },
    "papermill": {
     "duration": 0.004239,
     "end_time": "2024-09-16T06:38:17.990195",
     "exception": false,
     "start_time": "2024-09-16T06:38:17.985956",
     "status": "completed"
    },
    "tags": []
   },
   "outputs": [],
   "source": [
    "# Set color variable\n",
    "ovy_color = '#F9F7ED'"
   ]
  },
  {
   "cell_type": "code",
   "execution_count": 5,
   "id": "0abc5988",
   "metadata": {
    "execution": {
     "iopub.execute_input": "2024-09-16T06:38:17.993454Z",
     "iopub.status.busy": "2024-09-16T06:38:17.993328Z",
     "iopub.status.idle": "2024-09-16T06:38:18.418532Z",
     "shell.execute_reply": "2024-09-16T06:38:18.418220Z"
    },
    "papermill": {
     "duration": 0.427982,
     "end_time": "2024-09-16T06:38:18.419707",
     "exception": false,
     "start_time": "2024-09-16T06:38:17.991725",
     "status": "completed"
    },
    "tags": []
   },
   "outputs": [],
   "source": [
    "\"\"\"DEFINE - 1/4 stages with overlays\"\"\"\n",
    "# Set scribe\n",
    "scribe_ovy = ovy_df.iloc[0:1,1:]\n",
    "sheet['def_nr'][-4,1:].options(index=False, header=False).value = scribe_ovy\n",
    "sheet['def_nr'][-4,4].formula = '=ROUNDUP(SUM(E41:E75)*.04,0)' # Important - use ROUNDUP()\n",
    "# Set EM\n",
    "em_ovy = ovy_df.iloc[2:3,1:]\n",
    "sheet['def_nr'][-3,1:].options(index=False, header=False).value = em_ovy\n",
    "sheet['def_nr'][-3,4].formula = '=ROUNDUP(SUM(E41:E75)*.04,0)' # Important - use ROUNDUP()\n",
    "\n",
    "# Set color\n",
    "sheet['def_nr'][-4:-2,1:].color = ovy_color\n",
    "\n",
    "# BORDERS & FORMATTING\n",
    "sheet['def_nr'][-4:-2,1:].font.bold = True \n",
    "\n",
    "# BORDERS\n",
    "sheet['def_nr'][-4:-2,1:].api.get_border(which_border=k.border_top).weight.set(2)\n",
    "sheet['def_nr'][-4:-2,1:].api.get_border(which_border=k.border_left).weight.set(2)\n",
    "sheet['def_nr'][-4:-2,1:].api.get_border(which_border=k.border_bottom).weight.set(2)\n",
    "sheet['def_nr'][-4:-2,1:].api.get_border(which_border=k.border_right).weight.set(2)\n"
   ]
  },
  {
   "cell_type": "code",
   "execution_count": 6,
   "id": "6fd9e99d",
   "metadata": {
    "execution": {
     "iopub.execute_input": "2024-09-16T06:38:18.423397Z",
     "iopub.status.busy": "2024-09-16T06:38:18.423160Z",
     "iopub.status.idle": "2024-09-16T06:38:21.184869Z",
     "shell.execute_reply": "2024-09-16T06:38:21.184444Z"
    },
    "papermill": {
     "duration": 2.764784,
     "end_time": "2024-09-16T06:38:21.185996",
     "exception": false,
     "start_time": "2024-09-16T06:38:18.421212",
     "status": "completed"
    },
    "tags": []
   },
   "outputs": [],
   "source": [
    "\"\"\"DESIGN - 2/4 stages with overlays\"\"\"\n",
    "# Set BPC\n",
    "bpc_ovy = ovy_df.iloc[1:2,1:]\n",
    "sheet['des_nr'][-4,1:].options(index=False, header=False).value = bpc_ovy\n",
    "sheet['des_nr'][-4,4].formula = '=ROUNDUP(SUM(E81:E95)*.04,0)' # Product sum from define phase is the scalar\n",
    "\n",
    "# Set EM\n",
    "# em_ovy = ovy_df.iloc[2:3,1:] # ALREADY SET IN PREVIOUS CALL\n",
    "sheet['des_nr'][-3,1:].options(index=False, header=False).value = em_ovy\n",
    "sheet['des_nr'][-3,4].formula = '=ROUNDUP(SUM(E81:E95)*.04,0)' # Product sum from define phase is the scalar\n",
    "\n",
    "# Set color\n",
    "sheet['des_nr'][-4:-2,1:].color = ovy_color\n",
    "\n",
    "# BORDERS & FORMATTING\n",
    "sheet['des_nr'][-4:-2,1:].font.bold = True \n",
    "\n",
    "# BORDERS\n",
    "sheet['des_nr'][-4:-2,1:].api.get_border(which_border=k.border_top).weight.set(2)\n",
    "sheet['des_nr'][-4:-2,1:].api.get_border(which_border=k.border_left).weight.set(2)\n",
    "sheet['des_nr'][-4:-2,1:].api.get_border(which_border=k.border_bottom).weight.set(2)\n",
    "sheet['des_nr'][-4:-2,1:].api.get_border(which_border=k.border_right).weight.set(2)"
   ]
  },
  {
   "cell_type": "code",
   "execution_count": 7,
   "id": "1bc18f56",
   "metadata": {
    "execution": {
     "iopub.execute_input": "2024-09-16T06:38:21.189239Z",
     "iopub.status.busy": "2024-09-16T06:38:21.189116Z",
     "iopub.status.idle": "2024-09-16T06:38:21.885594Z",
     "shell.execute_reply": "2024-09-16T06:38:21.885141Z"
    },
    "papermill": {
     "duration": 0.699232,
     "end_time": "2024-09-16T06:38:21.886746",
     "exception": false,
     "start_time": "2024-09-16T06:38:21.187514",
     "status": "completed"
    },
    "tags": []
   },
   "outputs": [],
   "source": [
    "\"\"\"EXECUTE - 3/4 stages with overlays\"\"\"\n",
    "# Set BPC\n",
    "# bpc_ovy = ovy_df.iloc[1:2,1:] # ALREADY SET\n",
    "sheet['bld_nr'][-5,1:].options(index=False, header=False).value = bpc_ovy\n",
    "sheet['bld_nr'][-5,4].formula = '=ROUNDUP(SUM(E101:E134)*.04,0)' # Product sum from define phase is the scalar\n",
    "\n",
    "# Set SA (TA)\n",
    "sa_ovy = ovy_df.iloc[3:4,1:]\n",
    "sheet['bld_nr'][-4,1:].options(index=False, header=False).value = sa_ovy\n",
    "sheet['bld_nr'][-4,4].formula = '=ROUNDUP(SUM(E101:E134)*.04,0)'\n",
    "\n",
    "# Set EM\n",
    "# em_ovy = ovy_df.iloc[2:3,1:] # ALREADY SET\n",
    "sheet['bld_nr'][-3,1:].options(index=False, header=False).value = em_ovy\n",
    "sheet['bld_nr'][-3,4].formula = '=ROUNDUP(SUM(E101:E134)*.04,0)' # Product sum from define phase is the scalar\n",
    "\n",
    "# Set color\n",
    "sheet['bld_nr'][-5:-2,1:].color = ovy_color\n",
    "\n",
    "# BORDERS & FORMATTING\n",
    "sheet['bld_nr'][-5:-2,1:].font.bold = True \n",
    "\n",
    "# BORDERS\n",
    "sheet['bld_nr'][-5:-2,1:].api.get_border(which_border=k.border_top).weight.set(2)\n",
    "sheet['bld_nr'][-5:-2,1:].api.get_border(which_border=k.border_left).weight.set(2)\n",
    "sheet['bld_nr'][-5:-2,1:].api.get_border(which_border=k.border_bottom).weight.set(2)\n",
    "sheet['bld_nr'][-5:-2,1:].api.get_border(which_border=k.border_right).weight.set(2)"
   ]
  },
  {
   "cell_type": "code",
   "execution_count": 8,
   "id": "f142d9f3",
   "metadata": {
    "execution": {
     "iopub.execute_input": "2024-09-16T06:38:21.891995Z",
     "iopub.status.busy": "2024-09-16T06:38:21.891754Z",
     "iopub.status.idle": "2024-09-16T06:38:22.293943Z",
     "shell.execute_reply": "2024-09-16T06:38:22.293634Z"
    },
    "papermill": {
     "duration": 0.406486,
     "end_time": "2024-09-16T06:38:22.294965",
     "exception": false,
     "start_time": "2024-09-16T06:38:21.888479",
     "status": "completed"
    },
    "tags": []
   },
   "outputs": [],
   "source": [
    "\"\"\"TRANSITION - 4/4 stages with overlays\"\"\"\n",
    "# Set SA (TA)\n",
    "# sa_ovy = ovy_df.iloc[3:4,1:] # ALREADY SET\n",
    "sheet['trn_nr'][-4,1:].options(index=False, header=False).value = sa_ovy\n",
    "sheet['trn_nr'][-4,4].formula = '=ROUNDUP(SUM(E141:E155)*.04,0)'\n",
    "\n",
    "# Set EM\n",
    "# em_ovy = ovy_df.iloc[2:3,1:] # ALREADY SET\n",
    "sheet['trn_nr'][-3,1:].options(index=False, header=False).value = em_ovy\n",
    "sheet['trn_nr'][-3,4].formula = '=ROUNDUP(SUM(E141:E155)*.04,0)' # Product sum from define phase is the scalar\n",
    "\n",
    "# Set color\n",
    "sheet['trn_nr'][-4:-2,1:].color = ovy_color\n",
    "\n",
    "# BORDERS & FORMATTING\n",
    "sheet['trn_nr'][-4:-2,1:].font.bold = True \n",
    "\n",
    "# BORDERS\n",
    "sheet['trn_nr'][-4:-2,1:].api.get_border(which_border=k.border_top).weight.set(2)\n",
    "sheet['trn_nr'][-4:-2,1:].api.get_border(which_border=k.border_left).weight.set(2)\n",
    "sheet['trn_nr'][-4:-2,1:].api.get_border(which_border=k.border_bottom).weight.set(2)\n",
    "sheet['trn_nr'][-4:-2,1:].api.get_border(which_border=k.border_right).weight.set(2)"
   ]
  },
  {
   "cell_type": "code",
   "execution_count": 9,
   "id": "b4d74532",
   "metadata": {
    "execution": {
     "iopub.execute_input": "2024-09-16T06:38:22.298099Z",
     "iopub.status.busy": "2024-09-16T06:38:22.297971Z",
     "iopub.status.idle": "2024-09-16T06:38:22.364482Z",
     "shell.execute_reply": "2024-09-16T06:38:22.364157Z"
    },
    "papermill": {
     "duration": 0.069128,
     "end_time": "2024-09-16T06:38:22.365514",
     "exception": false,
     "start_time": "2024-09-16T06:38:22.296386",
     "status": "completed"
    },
    "tags": []
   },
   "outputs": [],
   "source": [
    "# SAVE\n",
    "book_number = 'book01.xlsx'\n",
    "wb.save(book_number)"
   ]
  },
  {
   "cell_type": "markdown",
   "id": "6fb3fae2",
   "metadata": {
    "papermill": {
     "duration": 0.001053,
     "end_time": "2024-09-16T06:38:22.367865",
     "exception": false,
     "start_time": "2024-09-16T06:38:22.366812",
     "status": "completed"
    },
    "tags": []
   },
   "source": [
    "| END OF PROGRAM |\n",
    "| ----------- |"
   ]
  }
 ],
 "metadata": {
  "kernelspec": {
   "display_name": "sowmachine_venv",
   "language": "python",
   "name": "python3"
  },
  "language_info": {
   "codemirror_mode": {
    "name": "ipython",
    "version": 3
   },
   "file_extension": ".py",
   "mimetype": "text/x-python",
   "name": "python",
   "nbconvert_exporter": "python",
   "pygments_lexer": "ipython3",
   "version": "3.11.1"
  },
  "papermill": {
   "default_parameters": {},
   "duration": 6.188754,
   "end_time": "2024-09-16T06:38:22.686762",
   "environment_variables": {},
   "exception": null,
   "input_path": "2_overlays.ipynb",
   "output_path": "2_overlays.ipynb",
   "parameters": {},
   "start_time": "2024-09-16T06:38:16.498008",
   "version": "2.6.0"
  },
  "vscode": {
   "interpreter": {
    "hash": "fb97792c95ecc40909c77d7c0c5a2e301450a97269f294267b9ea907136fa9f0"
   }
  }
 },
 "nbformat": 4,
 "nbformat_minor": 5
}