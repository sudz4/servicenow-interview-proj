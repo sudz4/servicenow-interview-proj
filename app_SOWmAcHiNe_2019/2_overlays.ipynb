{
 "cells": [
  {
   "cell_type": "code",
   "execution_count": 1,
   "id": "7256a1fd",
   "metadata": {
    "execution": {
     "iopub.execute_input": "2024-09-16T06:36:03.522415Z",
     "iopub.status.busy": "2024-09-16T06:36:03.521798Z",
     "iopub.status.idle": "2024-09-16T06:36:04.028428Z",
     "shell.execute_reply": "2024-09-16T06:36:04.028050Z"
    },
    "papermill": {
     "duration": 0.514924,
     "end_time": "2024-09-16T06:36:04.029390",
     "exception": false,
     "start_time": "2024-09-16T06:36:03.514466",
     "status": "completed"
    },
    "tags": []
   },
   "outputs": [],
   "source": [
    "import xlwings as xw\n",
    "from openpyxl import Workbook, load_workbook\n",
    "import xlsxwriter \n",
    "\n",
    "import pandas as pd\n",
    "import numpy as np\n",
    "import datetime as dt \n",
    "import time\n",
    "import sys\n",
    "\n",
    "\"\"\"\n",
    "Latest xlwings release: v0.27.15\n",
    "https://www.xlwings.org/\n",
    "\n",
    "\"\"\"\n",
    "xw.__version__ \n",
    "\n",
    "from appscript import k"
   ]
  },
  {
   "cell_type": "markdown",
   "id": "cf623409",
   "metadata": {
    "papermill": {
     "duration": 0.000988,
     "end_time": "2024-09-16T06:36:04.031678",
     "exception": false,
     "start_time": "2024-09-16T06:36:04.030690",
     "status": "completed"
    },
    "tags": []
   },
   "source": [
    "| OVERLAYS | Add overlay roles to phases (where applicable) |\n",
    "| ----------- | ----------- |"
   ]
  },
  {
   "cell_type": "code",
   "execution_count": 2,
   "id": "e55cbb66",
   "metadata": {
    "execution": {
     "iopub.execute_input": "2024-09-16T06:36:04.034131Z",
     "iopub.status.busy": "2024-09-16T06:36:04.033985Z",
     "iopub.status.idle": "2024-09-16T06:36:04.158567Z",
     "shell.execute_reply": "2024-09-16T06:36:04.158093Z"
    },
    "papermill": {
     "duration": 0.127059,
     "end_time": "2024-09-16T06:36:04.159666",
     "exception": false,
     "start_time": "2024-09-16T06:36:04.032607",
     "status": "completed"
    },
    "tags": []
   },
   "outputs": [],
   "source": [
    "# Connect to open workbook\n",
    "book_number = 'book01.xlsx'\n",
    "wb = xw.Book(book_number)\n",
    "sheet = wb.sheets[0]"
   ]
  },
  {
   "cell_type": "code",
   "execution_count": 3,
   "id": "689104ec",
   "metadata": {
    "execution": {
     "iopub.execute_input": "2024-09-16T06:36:04.162897Z",
     "iopub.status.busy": "2024-09-16T06:36:04.162767Z",
     "iopub.status.idle": "2024-09-16T06:36:04.184728Z",
     "shell.execute_reply": "2024-09-16T06:36:04.184329Z"
    },
    "papermill": {
     "duration": 0.024652,
     "end_time": "2024-09-16T06:36:04.185768",
     "exception": false,
     "start_time": "2024-09-16T06:36:04.161116",
     "status": "completed"
    },
    "tags": []
   },
   "outputs": [
    {
     "data": {
      "text/html": [
       "<div>\n",
       "<style scoped>\n",
       "    .dataframe tbody tr th:only-of-type {\n",
       "        vertical-align: middle;\n",
       "    }\n",
       "\n",
       "    .dataframe tbody tr th {\n",
       "        vertical-align: top;\n",
       "    }\n",
       "\n",
       "    .dataframe thead th {\n",
       "        text-align: right;\n",
       "    }\n",
       "</style>\n",
       "<table border=\"1\" class=\"dataframe\">\n",
       "  <thead>\n",
       "    <tr style=\"text-align: right;\">\n",
       "      <th></th>\n",
       "      <th>capability</th>\n",
       "      <th>task</th>\n",
       "      <th>task_details</th>\n",
       "      <th>role</th>\n",
       "      <th>hours</th>\n",
       "    </tr>\n",
       "  </thead>\n",
       "  <tbody>\n",
       "    <tr>\n",
       "      <th>0</th>\n",
       "      <td>Business Analysis</td>\n",
       "      <td>Business Analysis</td>\n",
       "      <td>Responsible for documenting workshop findings....</td>\n",
       "      <td>BA</td>\n",
       "      <td>0</td>\n",
       "    </tr>\n",
       "    <tr>\n",
       "      <th>1</th>\n",
       "      <td>Business Process</td>\n",
       "      <td>Business Process</td>\n",
       "      <td>Facilitates communications, leads and drives w...</td>\n",
       "      <td>BPC</td>\n",
       "      <td>0</td>\n",
       "    </tr>\n",
       "    <tr>\n",
       "      <th>2</th>\n",
       "      <td>Project Management</td>\n",
       "      <td>Project Management</td>\n",
       "      <td>Maintain project objectives and timelines by p...</td>\n",
       "      <td>EM</td>\n",
       "      <td>0</td>\n",
       "    </tr>\n",
       "    <tr>\n",
       "      <th>3</th>\n",
       "      <td>Solution Architect</td>\n",
       "      <td>Technical Architect</td>\n",
       "      <td>Provide technical guidance and oversight throu...</td>\n",
       "      <td>TA</td>\n",
       "      <td>0</td>\n",
       "    </tr>\n",
       "    <tr>\n",
       "      <th>4</th>\n",
       "      <td>Business Process Consultant</td>\n",
       "      <td>Business Process Consultant</td>\n",
       "      <td>Business process oversight - responsible for m...</td>\n",
       "      <td>BPC</td>\n",
       "      <td>0</td>\n",
       "    </tr>\n",
       "  </tbody>\n",
       "</table>\n",
       "</div>"
      ],
      "text/plain": [
       "                    capability                         task  \\\n",
       "0            Business Analysis            Business Analysis   \n",
       "1             Business Process             Business Process   \n",
       "2           Project Management           Project Management   \n",
       "3           Solution Architect          Technical Architect   \n",
       "4  Business Process Consultant  Business Process Consultant   \n",
       "\n",
       "                                        task_details role  hours  \n",
       "0  Responsible for documenting workshop findings....   BA      0  \n",
       "1  Facilitates communications, leads and drives w...  BPC      0  \n",
       "2  Maintain project objectives and timelines by p...   EM      0  \n",
       "3  Provide technical guidance and oversight throu...   TA      0  \n",
       "4  Business process oversight - responsible for m...  BPC      0  "
      ]
     },
     "execution_count": 3,
     "metadata": {},
     "output_type": "execute_result"
    }
   ],
   "source": [
    "ovy_df = pd.read_excel('sow_input_data.xlsx', sheet_name='OVERLAY') \n",
    "\n",
    "ovy_df"
   ]
  },
  {
   "cell_type": "code",
   "execution_count": 4,
   "id": "b4339807",
   "metadata": {
    "execution": {
     "iopub.execute_input": "2024-09-16T06:36:04.188851Z",
     "iopub.status.busy": "2024-09-16T06:36:04.188701Z",
     "iopub.status.idle": "2024-09-16T06:36:04.190464Z",
     "shell.execute_reply": "2024-09-16T06:36:04.190242Z"
    },
    "papermill": {
     "duration": 0.004261,
     "end_time": "2024-09-16T06:36:04.191366",
     "exception": false,
     "start_time": "2024-09-16T06:36:04.187105",
     "status": "completed"
    },
    "tags": []
   },
   "outputs": [],
   "source": [
    "# Set color variable\n",
    "ovy_color = '#F9F7ED'"
   ]
  },
  {
   "cell_type": "code",
   "execution_count": 5,
   "id": "0abc5988",
   "metadata": {
    "execution": {
     "iopub.execute_input": "2024-09-16T06:36:04.194712Z",
     "iopub.status.busy": "2024-09-16T06:36:04.194583Z",
     "iopub.status.idle": "2024-09-16T06:36:04.551577Z",
     "shell.execute_reply": "2024-09-16T06:36:04.551278Z"
    },
    "papermill": {
     "duration": 0.359707,
     "end_time": "2024-09-16T06:36:04.552577",
     "exception": false,
     "start_time": "2024-09-16T06:36:04.192870",
     "status": "completed"
    },
    "tags": []
   },
   "outputs": [],
   "source": [
    "\"\"\"DEFINE - 1/4 stages with overlays\"\"\"\n",
    "# Set scribe\n",
    "scribe_ovy = ovy_df.iloc[0:1,1:]\n",
    "sheet['def_nr'][-4,1:].options(index=False, header=False).value = scribe_ovy\n",
    "sheet['def_nr'][-4,4].formula = '=ROUNDUP(SUM(E41:E75)*.04,0)' # Important - use ROUNDUP()\n",
    "# Set EM\n",
    "em_ovy = ovy_df.iloc[2:3,1:]\n",
    "sheet['def_nr'][-3,1:].options(index=False, header=False).value = em_ovy\n",
    "sheet['def_nr'][-3,4].formula = '=ROUNDUP(SUM(E41:E75)*.04,0)' # Important - use ROUNDUP()\n",
    "\n",
    "# Set color\n",
    "sheet['def_nr'][-4:-2,1:].color = ovy_color\n",
    "\n",
    "# BORDERS & FORMATTING\n",
    "sheet['def_nr'][-4:-2,1:].font.bold = True \n",
    "\n",
    "# BORDERS\n",
    "sheet['def_nr'][-4:-2,1:].api.get_border(which_border=k.border_top).weight.set(2)\n",
    "sheet['def_nr'][-4:-2,1:].api.get_border(which_border=k.border_left).weight.set(2)\n",
    "sheet['def_nr'][-4:-2,1:].api.get_border(which_border=k.border_bottom).weight.set(2)\n",
    "sheet['def_nr'][-4:-2,1:].api.get_border(which_border=k.border_right).weight.set(2)\n"
   ]
  },
  {
   "cell_type": "code",
   "execution_count": 6,
   "id": "6fd9e99d",
   "metadata": {
    "execution": {
     "iopub.execute_input": "2024-09-16T06:36:04.555546Z",
     "iopub.status.busy": "2024-09-16T06:36:04.555447Z",
     "iopub.status.idle": "2024-09-16T06:36:04.868211Z",
     "shell.execute_reply": "2024-09-16T06:36:04.867854Z"
    },
    "papermill": {
     "duration": 0.315274,
     "end_time": "2024-09-16T06:36:04.869239",
     "exception": false,
     "start_time": "2024-09-16T06:36:04.553965",
     "status": "completed"
    },
    "tags": []
   },
   "outputs": [],
   "source": [
    "\"\"\"DESIGN - 2/4 stages with overlays\"\"\"\n",
    "# Set BPC\n",
    "bpc_ovy = ovy_df.iloc[1:2,1:]\n",
    "sheet['des_nr'][-4,1:].options(index=False, header=False).value = bpc_ovy\n",
    "sheet['des_nr'][-4,4].formula = '=ROUNDUP(SUM(E81:E95)*.04,0)' # Product sum from define phase is the scalar\n",
    "\n",
    "# Set EM\n",
    "# em_ovy = ovy_df.iloc[2:3,1:] # ALREADY SET IN PREVIOUS CALL\n",
    "sheet['des_nr'][-3,1:].options(index=False, header=False).value = em_ovy\n",
    "sheet['des_nr'][-3,4].formula = '=ROUNDUP(SUM(E81:E95)*.04,0)' # Product sum from define phase is the scalar\n",
    "\n",
    "# Set color\n",
    "sheet['des_nr'][-4:-2,1:].color = ovy_color\n",
    "\n",
    "# BORDERS & FORMATTING\n",
    "sheet['des_nr'][-4:-2,1:].font.bold = True \n",
    "\n",
    "# BORDERS\n",
    "sheet['des_nr'][-4:-2,1:].api.get_border(which_border=k.border_top).weight.set(2)\n",
    "sheet['des_nr'][-4:-2,1:].api.get_border(which_border=k.border_left).weight.set(2)\n",
    "sheet['des_nr'][-4:-2,1:].api.get_border(which_border=k.border_bottom).weight.set(2)\n",
    "sheet['des_nr'][-4:-2,1:].api.get_border(which_border=k.border_right).weight.set(2)"
   ]
  },
  {
   "cell_type": "code",
   "execution_count": 7,
   "id": "1bc18f56",
   "metadata": {
    "execution": {
     "iopub.execute_input": "2024-09-16T06:36:04.872410Z",
     "iopub.status.busy": "2024-09-16T06:36:04.872286Z",
     "iopub.status.idle": "2024-09-16T06:36:05.386990Z",
     "shell.execute_reply": "2024-09-16T06:36:05.386561Z"
    },
    "papermill": {
     "duration": 0.517486,
     "end_time": "2024-09-16T06:36:05.388147",
     "exception": false,
     "start_time": "2024-09-16T06:36:04.870661",
     "status": "completed"
    },
    "tags": []
   },
   "outputs": [],
   "source": [
    "\"\"\"EXECUTE - 3/4 stages with overlays\"\"\"\n",
    "# Set BPC\n",
    "# bpc_ovy = ovy_df.iloc[1:2,1:] # ALREADY SET\n",
    "sheet['bld_nr'][-5,1:].options(index=False, header=False).value = bpc_ovy\n",
    "sheet['bld_nr'][-5,4].formula = '=ROUNDUP(SUM(E101:E134)*.04,0)' # Product sum from define phase is the scalar\n",
    "\n",
    "# Set SA (TA)\n",
    "sa_ovy = ovy_df.iloc[3:4,1:]\n",
    "sheet['bld_nr'][-4,1:].options(index=False, header=False).value = sa_ovy\n",
    "sheet['bld_nr'][-4,4].formula = '=ROUNDUP(SUM(E101:E134)*.04,0)'\n",
    "\n",
    "# Set EM\n",
    "# em_ovy = ovy_df.iloc[2:3,1:] # ALREADY SET\n",
    "sheet['bld_nr'][-3,1:].options(index=False, header=False).value = em_ovy\n",
    "sheet['bld_nr'][-3,4].formula = '=ROUNDUP(SUM(E101:E134)*.04,0)' # Product sum from define phase is the scalar\n",
    "\n",
    "# Set color\n",
    "sheet['bld_nr'][-5:-2,1:].color = ovy_color\n",
    "\n",
    "# BORDERS & FORMATTING\n",
    "sheet['bld_nr'][-5:-2,1:].font.bold = True \n",
    "\n",
    "# BORDERS\n",
    "sheet['bld_nr'][-5:-2,1:].api.get_border(which_border=k.border_top).weight.set(2)\n",
    "sheet['bld_nr'][-5:-2,1:].api.get_border(which_border=k.border_left).weight.set(2)\n",
    "sheet['bld_nr'][-5:-2,1:].api.get_border(which_border=k.border_bottom).weight.set(2)\n",
    "sheet['bld_nr'][-5:-2,1:].api.get_border(which_border=k.border_right).weight.set(2)"
   ]
  },
  {
   "cell_type": "code",
   "execution_count": 8,
   "id": "f142d9f3",
   "metadata": {
    "execution": {
     "iopub.execute_input": "2024-09-16T06:36:05.391728Z",
     "iopub.status.busy": "2024-09-16T06:36:05.391557Z",
     "iopub.status.idle": "2024-09-16T06:36:05.720068Z",
     "shell.execute_reply": "2024-09-16T06:36:05.719756Z"
    },
    "papermill": {
     "duration": 0.33164,
     "end_time": "2024-09-16T06:36:05.721271",
     "exception": false,
     "start_time": "2024-09-16T06:36:05.389631",
     "status": "completed"
    },
    "tags": []
   },
   "outputs": [],
   "source": [
    "\"\"\"TRANSITION - 4/4 stages with overlays\"\"\"\n",
    "# Set SA (TA)\n",
    "# sa_ovy = ovy_df.iloc[3:4,1:] # ALREADY SET\n",
    "sheet['trn_nr'][-4,1:].options(index=False, header=False).value = sa_ovy\n",
    "sheet['trn_nr'][-4,4].formula = '=ROUNDUP(SUM(E141:E155)*.04,0)'\n",
    "\n",
    "# Set EM\n",
    "# em_ovy = ovy_df.iloc[2:3,1:] # ALREADY SET\n",
    "sheet['trn_nr'][-3,1:].options(index=False, header=False).value = em_ovy\n",
    "sheet['trn_nr'][-3,4].formula = '=ROUNDUP(SUM(E141:E155)*.04,0)' # Product sum from define phase is the scalar\n",
    "\n",
    "# Set color\n",
    "sheet['trn_nr'][-4:-2,1:].color = ovy_color\n",
    "\n",
    "# BORDERS & FORMATTING\n",
    "sheet['trn_nr'][-4:-2,1:].font.bold = True \n",
    "\n",
    "# BORDERS\n",
    "sheet['trn_nr'][-4:-2,1:].api.get_border(which_border=k.border_top).weight.set(2)\n",
    "sheet['trn_nr'][-4:-2,1:].api.get_border(which_border=k.border_left).weight.set(2)\n",
    "sheet['trn_nr'][-4:-2,1:].api.get_border(which_border=k.border_bottom).weight.set(2)\n",
    "sheet['trn_nr'][-4:-2,1:].api.get_border(which_border=k.border_right).weight.set(2)"
   ]
  },
  {
   "cell_type": "code",
   "execution_count": 9,
   "id": "b4d74532",
   "metadata": {
    "execution": {
     "iopub.execute_input": "2024-09-16T06:36:05.725263Z",
     "iopub.status.busy": "2024-09-16T06:36:05.725086Z",
     "iopub.status.idle": "2024-09-16T06:36:05.792991Z",
     "shell.execute_reply": "2024-09-16T06:36:05.792544Z"
    },
    "papermill": {
     "duration": 0.071141,
     "end_time": "2024-09-16T06:36:05.794030",
     "exception": false,
     "start_time": "2024-09-16T06:36:05.722889",
     "status": "completed"
    },
    "tags": []
   },
   "outputs": [],
   "source": [
    "# SAVE\n",
    "book_number = 'book01.xlsx'\n",
    "wb.save(book_number)"
   ]
  },
  {
   "cell_type": "markdown",
   "id": "6fb3fae2",
   "metadata": {
    "papermill": {
     "duration": 0.001937,
     "end_time": "2024-09-16T06:36:05.797306",
     "exception": false,
     "start_time": "2024-09-16T06:36:05.795369",
     "status": "completed"
    },
    "tags": []
   },
   "source": [
    "| END OF PROGRAM |\n",
    "| ----------- |"
   ]
  }
 ],
 "metadata": {
  "kernelspec": {
   "display_name": "sowmachine_venv",
   "language": "python",
   "name": "python3"
  },
  "language_info": {
   "codemirror_mode": {
    "name": "ipython",
    "version": 3
   },
   "file_extension": ".py",
   "mimetype": "text/x-python",
   "name": "python",
   "nbconvert_exporter": "python",
   "pygments_lexer": "ipython3",
   "version": "3.11.1"
  },
  "papermill": {
   "default_parameters": {},
   "duration": 3.152857,
   "end_time": "2024-09-16T06:36:06.115763",
   "environment_variables": {},
   "exception": null,
   "input_path": "2_overlays.ipynb",
   "output_path": "2_overlays.ipynb",
   "parameters": {},
   "start_time": "2024-09-16T06:36:02.962906",
   "version": "2.6.0"
  },
  "vscode": {
   "interpreter": {
    "hash": "fb97792c95ecc40909c77d7c0c5a2e301450a97269f294267b9ea907136fa9f0"
   }
  }
 },
 "nbformat": 4,
 "nbformat_minor": 5
}