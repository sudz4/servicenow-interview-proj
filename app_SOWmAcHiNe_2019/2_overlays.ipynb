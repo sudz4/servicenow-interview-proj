{
 "cells": [
  {
   "cell_type": "code",
   "execution_count": 1,
   "id": "7256a1fd",
   "metadata": {
    "execution": {
     "iopub.execute_input": "2024-09-16T06:01:02.511146Z",
     "iopub.status.busy": "2024-09-16T06:01:02.510982Z",
     "iopub.status.idle": "2024-09-16T06:01:02.924816Z",
     "shell.execute_reply": "2024-09-16T06:01:02.924427Z"
    },
    "papermill": {
     "duration": 0.417646,
     "end_time": "2024-09-16T06:01:02.925872",
     "exception": false,
     "start_time": "2024-09-16T06:01:02.508226",
     "status": "completed"
    },
    "tags": []
   },
   "outputs": [],
   "source": [
    "import xlwings as xw\n",
    "from openpyxl import Workbook, load_workbook\n",
    "import xlsxwriter \n",
    "\n",
    "import pandas as pd\n",
    "import numpy as np\n",
    "import datetime as dt \n",
    "import time\n",
    "import sys\n",
    "\n",
    "\"\"\"\n",
    "Latest xlwings release: v0.27.15\n",
    "https://www.xlwings.org/\n",
    "\n",
    "\"\"\"\n",
    "xw.__version__ \n",
    "\n",
    "from appscript import k"
   ]
  },
  {
   "cell_type": "markdown",
   "id": "cf623409",
   "metadata": {
    "papermill": {
     "duration": 0.000987,
     "end_time": "2024-09-16T06:01:02.928211",
     "exception": false,
     "start_time": "2024-09-16T06:01:02.927224",
     "status": "completed"
    },
    "tags": []
   },
   "source": [
    "| OVERLAYS | Add overlay roles to phases (where applicable) |\n",
    "| ----------- | ----------- |"
   ]
  },
  {
   "cell_type": "code",
   "execution_count": 2,
   "id": "e55cbb66",
   "metadata": {
    "execution": {
     "iopub.execute_input": "2024-09-16T06:01:02.930699Z",
     "iopub.status.busy": "2024-09-16T06:01:02.930542Z",
     "iopub.status.idle": "2024-09-16T06:01:03.048883Z",
     "shell.execute_reply": "2024-09-16T06:01:03.048392Z"
    },
    "papermill": {
     "duration": 0.120865,
     "end_time": "2024-09-16T06:01:03.049989",
     "exception": false,
     "start_time": "2024-09-16T06:01:02.929124",
     "status": "completed"
    },
    "tags": []
   },
   "outputs": [],
   "source": [
    "# Connect to open workbook\n",
    "book_number = 'book01.xlsx'\n",
    "wb = xw.Book(book_number)\n",
    "sheet = wb.sheets[0]"
   ]
  },
  {
   "cell_type": "code",
   "execution_count": 3,
   "id": "689104ec",
   "metadata": {
    "execution": {
     "iopub.execute_input": "2024-09-16T06:01:03.053508Z",
     "iopub.status.busy": "2024-09-16T06:01:03.053252Z",
     "iopub.status.idle": "2024-09-16T06:01:03.074379Z",
     "shell.execute_reply": "2024-09-16T06:01:03.074106Z"
    },
    "papermill": {
     "duration": 0.023856,
     "end_time": "2024-09-16T06:01:03.075288",
     "exception": false,
     "start_time": "2024-09-16T06:01:03.051432",
     "status": "completed"
    },
    "tags": []
   },
   "outputs": [
    {
     "data": {
      "text/html": [
       "<div>\n",
       "<style scoped>\n",
       "    .dataframe tbody tr th:only-of-type {\n",
       "        vertical-align: middle;\n",
       "    }\n",
       "\n",
       "    .dataframe tbody tr th {\n",
       "        vertical-align: top;\n",
       "    }\n",
       "\n",
       "    .dataframe thead th {\n",
       "        text-align: right;\n",
       "    }\n",
       "</style>\n",
       "<table border=\"1\" class=\"dataframe\">\n",
       "  <thead>\n",
       "    <tr style=\"text-align: right;\">\n",
       "      <th></th>\n",
       "      <th>capability</th>\n",
       "      <th>task</th>\n",
       "      <th>task_details</th>\n",
       "      <th>role</th>\n",
       "      <th>hours</th>\n",
       "    </tr>\n",
       "  </thead>\n",
       "  <tbody>\n",
       "    <tr>\n",
       "      <th>0</th>\n",
       "      <td>Business Analysis</td>\n",
       "      <td>Business Analysis</td>\n",
       "      <td>Responsible for documenting workshop findings....</td>\n",
       "      <td>BA</td>\n",
       "      <td>0</td>\n",
       "    </tr>\n",
       "    <tr>\n",
       "      <th>1</th>\n",
       "      <td>Business Process</td>\n",
       "      <td>Business Process</td>\n",
       "      <td>Facilitates communications, leads and drives w...</td>\n",
       "      <td>BPC</td>\n",
       "      <td>0</td>\n",
       "    </tr>\n",
       "    <tr>\n",
       "      <th>2</th>\n",
       "      <td>Project Management</td>\n",
       "      <td>Project Management</td>\n",
       "      <td>Maintain project objectives and timelines by p...</td>\n",
       "      <td>EM</td>\n",
       "      <td>0</td>\n",
       "    </tr>\n",
       "    <tr>\n",
       "      <th>3</th>\n",
       "      <td>Solution Architect</td>\n",
       "      <td>Technical Architect</td>\n",
       "      <td>Provide technical guidance and oversight throu...</td>\n",
       "      <td>TA</td>\n",
       "      <td>0</td>\n",
       "    </tr>\n",
       "    <tr>\n",
       "      <th>4</th>\n",
       "      <td>Business Process Consultant</td>\n",
       "      <td>Business Process Consultant</td>\n",
       "      <td>Business process oversight - responsible for m...</td>\n",
       "      <td>BPC</td>\n",
       "      <td>0</td>\n",
       "    </tr>\n",
       "  </tbody>\n",
       "</table>\n",
       "</div>"
      ],
      "text/plain": [
       "                    capability                         task  \\\n",
       "0            Business Analysis            Business Analysis   \n",
       "1             Business Process             Business Process   \n",
       "2           Project Management           Project Management   \n",
       "3           Solution Architect          Technical Architect   \n",
       "4  Business Process Consultant  Business Process Consultant   \n",
       "\n",
       "                                        task_details role  hours  \n",
       "0  Responsible for documenting workshop findings....   BA      0  \n",
       "1  Facilitates communications, leads and drives w...  BPC      0  \n",
       "2  Maintain project objectives and timelines by p...   EM      0  \n",
       "3  Provide technical guidance and oversight throu...   TA      0  \n",
       "4  Business process oversight - responsible for m...  BPC      0  "
      ]
     },
     "execution_count": 3,
     "metadata": {},
     "output_type": "execute_result"
    }
   ],
   "source": [
    "ovy_df = pd.read_excel('sow_input_data.xlsx', sheet_name='OVERLAY') \n",
    "\n",
    "ovy_df"
   ]
  },
  {
   "cell_type": "code",
   "execution_count": 4,
   "id": "b4339807",
   "metadata": {
    "execution": {
     "iopub.execute_input": "2024-09-16T06:01:03.078208Z",
     "iopub.status.busy": "2024-09-16T06:01:03.078025Z",
     "iopub.status.idle": "2024-09-16T06:01:03.079666Z",
     "shell.execute_reply": "2024-09-16T06:01:03.079446Z"
    },
    "papermill": {
     "duration": 0.003876,
     "end_time": "2024-09-16T06:01:03.080445",
     "exception": false,
     "start_time": "2024-09-16T06:01:03.076569",
     "status": "completed"
    },
    "tags": []
   },
   "outputs": [],
   "source": [
    "# Set color variable\n",
    "ovy_color = '#F9F7ED'"
   ]
  },
  {
   "cell_type": "code",
   "execution_count": 5,
   "id": "0abc5988",
   "metadata": {
    "execution": {
     "iopub.execute_input": "2024-09-16T06:01:03.083094Z",
     "iopub.status.busy": "2024-09-16T06:01:03.083012Z",
     "iopub.status.idle": "2024-09-16T06:01:03.425354Z",
     "shell.execute_reply": "2024-09-16T06:01:03.424939Z"
    },
    "papermill": {
     "duration": 0.344703,
     "end_time": "2024-09-16T06:01:03.426354",
     "exception": false,
     "start_time": "2024-09-16T06:01:03.081651",
     "status": "completed"
    },
    "tags": []
   },
   "outputs": [],
   "source": [
    "\"\"\"DEFINE - 1/4 stages with overlays\"\"\"\n",
    "# Set scribe\n",
    "scribe_ovy = ovy_df.iloc[0:1,1:]\n",
    "sheet['def_nr'][-4,1:].options(index=False, header=False).value = scribe_ovy\n",
    "sheet['def_nr'][-4,4].formula = '=ROUNDUP(SUM(E41:E75)*.04,0)' # Important - use ROUNDUP()\n",
    "# Set EM\n",
    "em_ovy = ovy_df.iloc[2:3,1:]\n",
    "sheet['def_nr'][-3,1:].options(index=False, header=False).value = em_ovy\n",
    "sheet['def_nr'][-3,4].formula = '=ROUNDUP(SUM(E41:E75)*.04,0)' # Important - use ROUNDUP()\n",
    "\n",
    "# Set color\n",
    "sheet['def_nr'][-4:-2,1:].color = ovy_color\n",
    "\n",
    "# BORDERS & FORMATTING\n",
    "sheet['def_nr'][-4:-2,1:].font.bold = True \n",
    "\n",
    "# BORDERS\n",
    "sheet['def_nr'][-4:-2,1:].api.get_border(which_border=k.border_top).weight.set(2)\n",
    "sheet['def_nr'][-4:-2,1:].api.get_border(which_border=k.border_left).weight.set(2)\n",
    "sheet['def_nr'][-4:-2,1:].api.get_border(which_border=k.border_bottom).weight.set(2)\n",
    "sheet['def_nr'][-4:-2,1:].api.get_border(which_border=k.border_right).weight.set(2)\n"
   ]
  },
  {
   "cell_type": "code",
   "execution_count": 6,
   "id": "6fd9e99d",
   "metadata": {
    "execution": {
     "iopub.execute_input": "2024-09-16T06:01:03.429369Z",
     "iopub.status.busy": "2024-09-16T06:01:03.429269Z",
     "iopub.status.idle": "2024-09-16T06:01:03.791835Z",
     "shell.execute_reply": "2024-09-16T06:01:03.791423Z"
    },
    "papermill": {
     "duration": 0.365176,
     "end_time": "2024-09-16T06:01:03.792918",
     "exception": false,
     "start_time": "2024-09-16T06:01:03.427742",
     "status": "completed"
    },
    "tags": []
   },
   "outputs": [],
   "source": [
    "\"\"\"DESIGN - 2/4 stages with overlays\"\"\"\n",
    "# Set BPC\n",
    "bpc_ovy = ovy_df.iloc[1:2,1:]\n",
    "sheet['des_nr'][-4,1:].options(index=False, header=False).value = bpc_ovy\n",
    "sheet['des_nr'][-4,4].formula = '=ROUNDUP(SUM(E81:E95)*.04,0)' # Product sum from define phase is the scalar\n",
    "\n",
    "# Set EM\n",
    "# em_ovy = ovy_df.iloc[2:3,1:] # ALREADY SET IN PREVIOUS CALL\n",
    "sheet['des_nr'][-3,1:].options(index=False, header=False).value = em_ovy\n",
    "sheet['des_nr'][-3,4].formula = '=ROUNDUP(SUM(E81:E95)*.04,0)' # Product sum from define phase is the scalar\n",
    "\n",
    "# Set color\n",
    "sheet['des_nr'][-4:-2,1:].color = ovy_color\n",
    "\n",
    "# BORDERS & FORMATTING\n",
    "sheet['des_nr'][-4:-2,1:].font.bold = True \n",
    "\n",
    "# BORDERS\n",
    "sheet['des_nr'][-4:-2,1:].api.get_border(which_border=k.border_top).weight.set(2)\n",
    "sheet['des_nr'][-4:-2,1:].api.get_border(which_border=k.border_left).weight.set(2)\n",
    "sheet['des_nr'][-4:-2,1:].api.get_border(which_border=k.border_bottom).weight.set(2)\n",
    "sheet['des_nr'][-4:-2,1:].api.get_border(which_border=k.border_right).weight.set(2)"
   ]
  },
  {
   "cell_type": "code",
   "execution_count": 7,
   "id": "1bc18f56",
   "metadata": {
    "execution": {
     "iopub.execute_input": "2024-09-16T06:01:03.796824Z",
     "iopub.status.busy": "2024-09-16T06:01:03.796644Z",
     "iopub.status.idle": "2024-09-16T06:01:04.337135Z",
     "shell.execute_reply": "2024-09-16T06:01:04.336842Z"
    },
    "papermill": {
     "duration": 0.543821,
     "end_time": "2024-09-16T06:01:04.338186",
     "exception": false,
     "start_time": "2024-09-16T06:01:03.794365",
     "status": "completed"
    },
    "tags": []
   },
   "outputs": [],
   "source": [
    "\"\"\"EXECUTE - 3/4 stages with overlays\"\"\"\n",
    "# Set BPC\n",
    "# bpc_ovy = ovy_df.iloc[1:2,1:] # ALREADY SET\n",
    "sheet['bld_nr'][-5,1:].options(index=False, header=False).value = bpc_ovy\n",
    "sheet['bld_nr'][-5,4].formula = '=ROUNDUP(SUM(E101:E134)*.04,0)' # Product sum from define phase is the scalar\n",
    "\n",
    "# Set SA (TA)\n",
    "sa_ovy = ovy_df.iloc[3:4,1:]\n",
    "sheet['bld_nr'][-4,1:].options(index=False, header=False).value = sa_ovy\n",
    "sheet['bld_nr'][-4,4].formula = '=ROUNDUP(SUM(E101:E134)*.04,0)'\n",
    "\n",
    "# Set EM\n",
    "# em_ovy = ovy_df.iloc[2:3,1:] # ALREADY SET\n",
    "sheet['bld_nr'][-3,1:].options(index=False, header=False).value = em_ovy\n",
    "sheet['bld_nr'][-3,4].formula = '=ROUNDUP(SUM(E101:E134)*.04,0)' # Product sum from define phase is the scalar\n",
    "\n",
    "# Set color\n",
    "sheet['bld_nr'][-5:-2,1:].color = ovy_color\n",
    "\n",
    "# BORDERS & FORMATTING\n",
    "sheet['bld_nr'][-5:-2,1:].font.bold = True \n",
    "\n",
    "# BORDERS\n",
    "sheet['bld_nr'][-5:-2,1:].api.get_border(which_border=k.border_top).weight.set(2)\n",
    "sheet['bld_nr'][-5:-2,1:].api.get_border(which_border=k.border_left).weight.set(2)\n",
    "sheet['bld_nr'][-5:-2,1:].api.get_border(which_border=k.border_bottom).weight.set(2)\n",
    "sheet['bld_nr'][-5:-2,1:].api.get_border(which_border=k.border_right).weight.set(2)"
   ]
  },
  {
   "cell_type": "code",
   "execution_count": 8,
   "id": "f142d9f3",
   "metadata": {
    "execution": {
     "iopub.execute_input": "2024-09-16T06:01:04.341325Z",
     "iopub.status.busy": "2024-09-16T06:01:04.341198Z",
     "iopub.status.idle": "2024-09-16T06:01:04.677654Z",
     "shell.execute_reply": "2024-09-16T06:01:04.677323Z"
    },
    "papermill": {
     "duration": 0.339033,
     "end_time": "2024-09-16T06:01:04.678656",
     "exception": false,
     "start_time": "2024-09-16T06:01:04.339623",
     "status": "completed"
    },
    "tags": []
   },
   "outputs": [],
   "source": [
    "\"\"\"TRANSITION - 4/4 stages with overlays\"\"\"\n",
    "# Set SA (TA)\n",
    "# sa_ovy = ovy_df.iloc[3:4,1:] # ALREADY SET\n",
    "sheet['trn_nr'][-4,1:].options(index=False, header=False).value = sa_ovy\n",
    "sheet['trn_nr'][-4,4].formula = '=ROUNDUP(SUM(E141:E155)*.04,0)'\n",
    "\n",
    "# Set EM\n",
    "# em_ovy = ovy_df.iloc[2:3,1:] # ALREADY SET\n",
    "sheet['trn_nr'][-3,1:].options(index=False, header=False).value = em_ovy\n",
    "sheet['trn_nr'][-3,4].formula = '=ROUNDUP(SUM(E141:E155)*.04,0)' # Product sum from define phase is the scalar\n",
    "\n",
    "# Set color\n",
    "sheet['trn_nr'][-4:-2,1:].color = ovy_color\n",
    "\n",
    "# BORDERS & FORMATTING\n",
    "sheet['trn_nr'][-4:-2,1:].font.bold = True \n",
    "\n",
    "# BORDERS\n",
    "sheet['trn_nr'][-4:-2,1:].api.get_border(which_border=k.border_top).weight.set(2)\n",
    "sheet['trn_nr'][-4:-2,1:].api.get_border(which_border=k.border_left).weight.set(2)\n",
    "sheet['trn_nr'][-4:-2,1:].api.get_border(which_border=k.border_bottom).weight.set(2)\n",
    "sheet['trn_nr'][-4:-2,1:].api.get_border(which_border=k.border_right).weight.set(2)"
   ]
  },
  {
   "cell_type": "code",
   "execution_count": 9,
   "id": "b4d74532",
   "metadata": {
    "execution": {
     "iopub.execute_input": "2024-09-16T06:01:04.681950Z",
     "iopub.status.busy": "2024-09-16T06:01:04.681828Z",
     "iopub.status.idle": "2024-09-16T06:01:04.748205Z",
     "shell.execute_reply": "2024-09-16T06:01:04.747923Z"
    },
    "papermill": {
     "duration": 0.069023,
     "end_time": "2024-09-16T06:01:04.749153",
     "exception": false,
     "start_time": "2024-09-16T06:01:04.680130",
     "status": "completed"
    },
    "tags": []
   },
   "outputs": [],
   "source": [
    "# SAVE\n",
    "book_number = 'book01.xlsx'\n",
    "wb.save(book_number)"
   ]
  },
  {
   "cell_type": "markdown",
   "id": "6fb3fae2",
   "metadata": {
    "papermill": {
     "duration": 0.001229,
     "end_time": "2024-09-16T06:01:04.751686",
     "exception": false,
     "start_time": "2024-09-16T06:01:04.750457",
     "status": "completed"
    },
    "tags": []
   },
   "source": [
    "| END OF PROGRAM |\n",
    "| ----------- |"
   ]
  }
 ],
 "metadata": {
  "kernelspec": {
   "display_name": "sowmachine_venv",
   "language": "python",
   "name": "python3"
  },
  "language_info": {
   "codemirror_mode": {
    "name": "ipython",
    "version": 3
   },
   "file_extension": ".py",
   "mimetype": "text/x-python",
   "name": "python",
   "nbconvert_exporter": "python",
   "pygments_lexer": "ipython3",
   "version": "3.11.1"
  },
  "papermill": {
   "default_parameters": {},
   "duration": 3.253831,
   "end_time": "2024-09-16T06:01:05.070890",
   "environment_variables": {},
   "exception": null,
   "input_path": "2_overlays.ipynb",
   "output_path": "2_overlays.ipynb",
   "parameters": {},
   "start_time": "2024-09-16T06:01:01.817059",
   "version": "2.6.0"
  },
  "vscode": {
   "interpreter": {
    "hash": "fb97792c95ecc40909c77d7c0c5a2e301450a97269f294267b9ea907136fa9f0"
   }
  }
 },
 "nbformat": 4,
 "nbformat_minor": 5
}