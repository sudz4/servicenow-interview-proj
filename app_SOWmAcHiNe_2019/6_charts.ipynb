{
 "cells": [
  {
   "cell_type": "markdown",
   "metadata": {},
   "source": [
    "| CHARTS | Resource Management |\n",
    "| ----------- | ----------- |"
   ]
  },
  {
   "cell_type": "code",
   "execution_count": 14,
   "metadata": {},
   "outputs": [],
   "source": [
    "import xlwings as xw\n",
    "from openpyxl import Workbook, load_workbook\n",
    "import xlsxwriter \n",
    "\n",
    "import pandas as pd\n",
    "import numpy as np\n",
    "import datetime as dt \n",
    "import time\n",
    "import sys\n",
    "\n",
    "\"\"\"\n",
    "Latest xlwings release: v0.27.15\n",
    "https://www.xlwings.org/\n",
    "\n",
    "\"\"\"\n",
    "xw.__version__ \n",
    "\n",
    "# Plots\n",
    "import matplotlib.pyplot as plt\n",
    "pd.options.plotting.backend = 'plotly'\n",
    "\n",
    "\"\"\"\n",
    "IMPORTANT - MacOS\n",
    "Use appscript k function as a workaround because I use a macOS operating system\n",
    "\"\"\" \n",
    "from appscript import k"
   ]
  },
  {
   "cell_type": "code",
   "execution_count": 15,
   "metadata": {},
   "outputs": [],
   "source": [
    "# Reopen workbookk\n",
    "book_number = 'book01.xlsx'\n",
    "wb = xw.Book(book_number)\n",
    "sheet = wb.sheets[0]"
   ]
  },
  {
   "cell_type": "code",
   "execution_count": 16,
   "metadata": {},
   "outputs": [],
   "source": [
    "# Set roles / RATES named range\n",
    "sheet['A116:G123'].name = 'rrates_nr'"
   ]
  },
  {
   "cell_type": "code",
   "execution_count": 17,
   "metadata": {},
   "outputs": [
    {
     "data": {
      "text/plain": [
       "['role', 'EM', 'BPC', 'BA', 'TA', 'TC', 'TCO', 'QAE']"
      ]
     },
     "execution_count": 17,
     "metadata": {},
     "output_type": "execute_result"
    }
   ],
   "source": [
    "# Create a list of\n",
    "role_list = sheet['rrates_nr'][0:,0].value\n",
    "\n",
    "role_list"
   ]
  },
  {
   "cell_type": "code",
   "execution_count": 18,
   "metadata": {},
   "outputs": [],
   "source": [
    "# Set roles / HOURS named range\n",
    "sheet['D127:G134'].name = 'rhours_nr'"
   ]
  },
  {
   "cell_type": "code",
   "execution_count": 19,
   "metadata": {},
   "outputs": [
    {
     "data": {
      "text/plain": [
       "[['ROLE', 'HOURS', 'COST', 'RATE'],\n",
       " ['EM', 58.0, 11600.0, 200.0],\n",
       " ['BPC', 225.0, 56250.0, 250.0],\n",
       " ['BA', 5.0, 775.0, 155.0],\n",
       " ['TA', 121.0, 23595.0, 195.0],\n",
       " ['TC', 592.0, 103600.0, 175.0],\n",
       " ['TCO', 0.0, 0.0, 115.0],\n",
       " ['QAE', 66.0, 7590.0, 115.0]]"
      ]
     },
     "execution_count": 19,
     "metadata": {},
     "output_type": "execute_result"
    }
   ],
   "source": [
    "hc_list = sheet['rhours_nr'][0:,0:].options(ndim=2).value\n",
    "\n",
    "hc_list"
   ]
  },
  {
   "cell_type": "code",
   "execution_count": 20,
   "metadata": {},
   "outputs": [
    {
     "data": {
      "text/html": [
       "<div>\n",
       "<style scoped>\n",
       "    .dataframe tbody tr th:only-of-type {\n",
       "        vertical-align: middle;\n",
       "    }\n",
       "\n",
       "    .dataframe tbody tr th {\n",
       "        vertical-align: top;\n",
       "    }\n",
       "\n",
       "    .dataframe thead th {\n",
       "        text-align: right;\n",
       "    }\n",
       "</style>\n",
       "<table border=\"1\" class=\"dataframe\">\n",
       "  <thead>\n",
       "    <tr style=\"text-align: right;\">\n",
       "      <th></th>\n",
       "      <th>ROLE</th>\n",
       "      <th>HOURS</th>\n",
       "      <th>COST</th>\n",
       "      <th>RATE</th>\n",
       "    </tr>\n",
       "  </thead>\n",
       "  <tbody>\n",
       "    <tr>\n",
       "      <th>1</th>\n",
       "      <td>EM</td>\n",
       "      <td>58.0</td>\n",
       "      <td>11600.0</td>\n",
       "      <td>200.0</td>\n",
       "    </tr>\n",
       "    <tr>\n",
       "      <th>2</th>\n",
       "      <td>BPC</td>\n",
       "      <td>225.0</td>\n",
       "      <td>56250.0</td>\n",
       "      <td>250.0</td>\n",
       "    </tr>\n",
       "    <tr>\n",
       "      <th>3</th>\n",
       "      <td>BA</td>\n",
       "      <td>5.0</td>\n",
       "      <td>775.0</td>\n",
       "      <td>155.0</td>\n",
       "    </tr>\n",
       "    <tr>\n",
       "      <th>4</th>\n",
       "      <td>TA</td>\n",
       "      <td>121.0</td>\n",
       "      <td>23595.0</td>\n",
       "      <td>195.0</td>\n",
       "    </tr>\n",
       "    <tr>\n",
       "      <th>5</th>\n",
       "      <td>TC</td>\n",
       "      <td>592.0</td>\n",
       "      <td>103600.0</td>\n",
       "      <td>175.0</td>\n",
       "    </tr>\n",
       "    <tr>\n",
       "      <th>6</th>\n",
       "      <td>TCO</td>\n",
       "      <td>0.0</td>\n",
       "      <td>0.0</td>\n",
       "      <td>115.0</td>\n",
       "    </tr>\n",
       "    <tr>\n",
       "      <th>7</th>\n",
       "      <td>QAE</td>\n",
       "      <td>66.0</td>\n",
       "      <td>7590.0</td>\n",
       "      <td>115.0</td>\n",
       "    </tr>\n",
       "  </tbody>\n",
       "</table>\n",
       "</div>"
      ],
      "text/plain": [
       "  ROLE  HOURS      COST   RATE\n",
       "1   EM   58.0   11600.0  200.0\n",
       "2  BPC  225.0   56250.0  250.0\n",
       "3   BA    5.0     775.0  155.0\n",
       "4   TA  121.0   23595.0  195.0\n",
       "5   TC  592.0  103600.0  175.0\n",
       "6  TCO    0.0       0.0  115.0\n",
       "7  QAE   66.0    7590.0  115.0"
      ]
     },
     "execution_count": 20,
     "metadata": {},
     "output_type": "execute_result"
    }
   ],
   "source": [
    "# Create data frame from list\n",
    "hc_df = pd.DataFrame(hc_list, columns=['ROLE', 'HOURS', 'COST', 'RATE'])\n",
    "\n",
    "# Filter extra header row from data frame\n",
    "hc_df = hc_df.iloc[1:,:]\n",
    "\n",
    "hc_df"
   ]
  },
  {
   "cell_type": "code",
   "execution_count": 21,
   "metadata": {},
   "outputs": [
    {
     "data": {
      "text/plain": [
       "Text(0.5, 1.0, 'Hours Breakdown By Role')"
      ]
     },
     "execution_count": 21,
     "metadata": {},
     "output_type": "execute_result"
    }
   ],
   "source": [
    "\"\"\"      \n",
    "Matplotlib - HOURS\n",
    "\"\"\"\n",
    "fig = plt.figure()\n",
    "x = hc_df['ROLE']\n",
    "y = hc_df['HOURS']\n",
    "plt.bar(x,y,color='#3E0049')\n",
    "plt.grid(False)\n",
    "plt.ylabel('Billable Hours')\n",
    "plt.title('Hours Breakdown By Role')"
   ]
  },
  {
   "cell_type": "code",
   "execution_count": 22,
   "metadata": {},
   "outputs": [],
   "source": [
    "# Create a named range for plots\n",
    "sheet['A127:C160'].name = 'charts_nr'"
   ]
  },
  {
   "cell_type": "code",
   "execution_count": 23,
   "metadata": {},
   "outputs": [
    {
     "data": {
      "text/plain": [
       "<Picture 'hours_breakdown' in <Sheet [book01.xlsx]Sheet1>>"
      ]
     },
     "execution_count": 23,
     "metadata": {},
     "output_type": "execute_result"
    }
   ],
   "source": [
    "# Add hours plot to excel doc\n",
    "sheet.pictures.add(\n",
    "    fig,\n",
    "    name='hours_breakdown',\n",
    "    update=True, # CAREFUL - okay for first but his replaces an existing picture\n",
    "    left=sheet['charts_nr'][0].left,\n",
    "    top=sheet['charts_nr'][1].top,\n",
    "    height=500,\n",
    "    width=600\n",
    ")"
   ]
  },
  {
   "cell_type": "code",
   "execution_count": 24,
   "metadata": {},
   "outputs": [
    {
     "data": {
      "text/plain": [
       "Text(0.5, 1.0, 'Cost Breakdown By Role')"
      ]
     },
     "execution_count": 24,
     "metadata": {},
     "output_type": "execute_result"
    }
   ],
   "source": [
    "\"\"\"      \n",
    "Matplotlib - COST\n",
    "\"\"\"\n",
    "fig2 = plt.figure()\n",
    "x2 = hc_df['ROLE']\n",
    "y2 = hc_df['COST']\n",
    "plt.bar(x2,y2,color='#A8255C')\n",
    "plt.grid(False)\n",
    "plt.ylabel('Resource Cost')\n",
    "plt.title('Cost Breakdown By Role')"
   ]
  },
  {
   "cell_type": "code",
   "execution_count": 25,
   "metadata": {},
   "outputs": [
    {
     "data": {
      "text/plain": [
       "<Picture 'cost_breakdown' in <Sheet [book01.xlsx]Sheet1>>"
      ]
     },
     "execution_count": 25,
     "metadata": {},
     "output_type": "execute_result"
    }
   ],
   "source": [
    "# Add resource cost plot to excel doc\n",
    "sheet.pictures.add(\n",
    "    fig2,\n",
    "    name='cost_breakdown',\n",
    "    update=True,\n",
    "    left=sheet['charts_nr'][0].left,\n",
    "    top=sheet['charts_nr'][100].top,\n",
    "    height=500,\n",
    "    width=600\n",
    ")"
   ]
  },
  {
   "cell_type": "code",
   "execution_count": 26,
   "metadata": {},
   "outputs": [],
   "source": [
    "# Save workbook BUT leave open\n",
    "book_number = 'book01.xlsx'\n",
    "wb.save(book_number)"
   ]
  },
  {
   "cell_type": "markdown",
   "metadata": {},
   "source": [
    "| END OF PROGRAM |\n",
    "| ----------- |"
   ]
  }
 ],
 "metadata": {
  "kernelspec": {
   "display_name": "sowmachine_venv",
   "language": "python",
   "name": "python3"
  },
  "language_info": {
   "codemirror_mode": {
    "name": "ipython",
    "version": 3
   },
   "file_extension": ".py",
   "mimetype": "text/x-python",
   "name": "python",
   "nbconvert_exporter": "python",
   "pygments_lexer": "ipython3",
   "version": "3.11.1"
  },
  "orig_nbformat": 4,
  "vscode": {
   "interpreter": {
    "hash": "fb97792c95ecc40909c77d7c0c5a2e301450a97269f294267b9ea907136fa9f0"
   }
  }
 },
 "nbformat": 4,
 "nbformat_minor": 2
}
